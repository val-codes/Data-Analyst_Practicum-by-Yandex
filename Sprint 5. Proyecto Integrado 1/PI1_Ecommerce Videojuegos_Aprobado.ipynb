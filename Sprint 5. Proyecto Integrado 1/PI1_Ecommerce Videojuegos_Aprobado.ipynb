{
 "cells": [
  {
   "cell_type": "markdown",
   "metadata": {},
   "source": [
    "# ¡Hola, Valeria!  \n",
    "\n",
    "Mi nombre es Carlos Ortiz, soy code reviewer de Practicum y voy a revisar el proyecto que acabas de desarrollar.\n",
    "\n",
    "Cuando vea un error la primera vez, lo señalaré. Deberás encontrarlo y arreglarlo. La intención es que te prepares para un espacio real de trabajo. En un trabajo, el líder de tu equipo hará lo mismo. Si no puedes solucionar el error, te daré más información en la próxima ocasión. \n",
    "\n",
    "Encontrarás mis comentarios más abajo - **por favor, no los muevas, no los modifiques ni los borres**.\n",
    "\n",
    "¿Cómo lo voy a hacer? Voy a leer detenidamente cada una de las implementaciones que has llevado a cabo para cumplir con lo solicitado. Verás los comentarios de esta forma:\n",
    "\n",
    "<div class=\"alert alert-block alert-success\">\n",
    "<b>Comentario del revisor</b> <a class=\"tocSkip\"></a>\n",
    "    \n",
    "Si todo está perfecto.\n",
    "</div>\n",
    "\n",
    "\n",
    "<div class=\"alert alert-block alert-warning\">\n",
    "<b>Comentario del revisor</b> <a class=\"tocSkip\"></a>\n",
    "    \n",
    "Si tu código está bien pero se puede mejorar o hay algún detalle que le hace falta.\n",
    "</div>\n",
    "\n",
    "\n",
    "<div class=\"alert alert-block alert-danger\">\n",
    "    \n",
    "<b>Comentario del revisor</b> <a class=\"tocSkip\"></a>\n",
    "    \n",
    "    \n",
    "Si de pronto hace falta algo o existe algún problema con tu código o conclusiones.\n",
    "</div>\n",
    "\n",
    "\n",
    "Puedes responderme de esta forma: \n",
    "\n",
    "<div class=\"alert alert-block alert-info\">\n",
    "<b>Respuesta del estudiante</b> <a class=\"tocSkip\"></a>\n",
    "</div>\n",
    "\n",
    "¡Empecemos!"
   ]
  },
  {
   "cell_type": "markdown",
   "metadata": {
    "id": "-QF_PAsfvqlh"
   },
   "source": [
    "## Paso 1. Datos e información general"
   ]
  },
  {
   "cell_type": "markdown",
   "metadata": {
    "id": "TQIilG2TpBmR"
   },
   "source": [
    "* Este dataset contiene las reseñas de usuarios y expertos, los géneros, las plataformas (por ejemplo, Xbox o PlayStation) y los datos históricos sobre las ventas de juegos, datos que están disponibles en fuentes abiertas.\n",
    "* **Objetivo:** Identificar patrones que determinen si un juego tiene éxito o no, para detectar proyectos prometedores y planificar campañas publicitarias.\n",
    "\n",
    "* Los datos que se remontan a 2016 y esto es para la campaña que se está planeando para 2017.\n",
    "\n",
    "### Información de las columnas del dataset `games`\n",
    "\n",
    "* `Name` - Nombre)\n",
    "* `Platform` - Plataforma\n",
    "* `Year_of_Release` - Año de lanzamiento\n",
    "* `Genre` - (Género)\n",
    "* `NA_sales` - (ventas en Norteamérica en millones de dólares estadounidenses)\n",
    "* `EU_sales` - (ventas en Europa en millones de dólares estadounidenses)\n",
    "* `JP_sales` - (ventas en Japón en millones de dólares estadounidenses)\n",
    "* `Other_sales` - (ventas en otros países en millones de dólares estadounidenses)\n",
    "* `Critic_Score` - (máximo de 100)\n",
    "* `User_Score` - (máximo de 10)\n",
    "* `Rating` - (ESRB)\n",
    "\n",
    "Es posible que los datos de 2016 estén incompletos\n",
    "\n",
    "### Contenido\n",
    "1. Datos e información general\n",
    "1.1 Información general del dataset `games`\n",
    "2. Preprocesamiento de datos\n",
    "2.1 Preprocesando `name`\n",
    "2.2 Preprocesando `year_of_release`\n",
    "2.3 Preprocesando `critic_score` \n",
    "2.4 Preprocesando`user_score`\n",
    "2.5 Preprocesando `rating`\n",
    "3. Análisis de Datos\n",
    "4. Perfil para cada región\n",
    "4.1 Norteamérica\n",
    "4.2 Europa\n",
    "4.3 Japón\n",
    "5. Prueba de hipótesis\n",
    "5.1 Calificaciones promedio para XOne y PC\n",
    "5.2 Calificaciones promedio para Acción y Deportes\n",
    "6. Conclusión"
   ]
  },
  {
   "cell_type": "code",
   "execution_count": 1,
   "metadata": {
    "colab": {
     "base_uri": "https://localhost:8080/"
    },
    "id": "7jMP4AgrvDgM",
    "outputId": "a77f4e62-eff2-455e-e029-e509a1d823e3"
   },
   "outputs": [
    {
     "name": "stdout",
     "output_type": "stream",
     "text": [
      "<class 'pandas.core.frame.DataFrame'>\n",
      "RangeIndex: 16715 entries, 0 to 16714\n",
      "Data columns (total 11 columns):\n",
      " #   Column           Non-Null Count  Dtype  \n",
      "---  ------           --------------  -----  \n",
      " 0   Name             16713 non-null  object \n",
      " 1   Platform         16715 non-null  object \n",
      " 2   Year_of_Release  16446 non-null  float64\n",
      " 3   Genre            16713 non-null  object \n",
      " 4   NA_sales         16715 non-null  float64\n",
      " 5   EU_sales         16715 non-null  float64\n",
      " 6   JP_sales         16715 non-null  float64\n",
      " 7   Other_sales      16715 non-null  float64\n",
      " 8   Critic_Score     8137 non-null   float64\n",
      " 9   User_Score       10014 non-null  object \n",
      " 10  Rating           9949 non-null   object \n",
      "dtypes: float64(6), object(5)\n",
      "memory usage: 1.4+ MB\n"
     ]
    }
   ],
   "source": [
    "import pandas as pd\n",
    "import math\n",
    "from datetime import datetime\n",
    "import numpy as np\n",
    "from scipy import stats as st\n",
    "import warnings\n",
    "import matplotlib.pyplot as plt\n",
    "import seaborn as sns\n",
    "\n",
    "import matplotlib.pyplot as plt \n",
    "games = pd.read_csv('https://code.s3.yandex.net/datasets/games.csv')\n",
    "games.info()\n",
    "# Algunas columnas tienen valores ausentes\n",
    "# name\n",
    "# platform\n",
    "# critic_score\n",
    "# user_score\n",
    "# rating"
   ]
  },
  {
   "cell_type": "markdown",
   "metadata": {
    "id": "LvU2sQT-s4Td"
   },
   "source": [
    "## Paso 2. Preprocesamiento de datos"
   ]
  },
  {
   "cell_type": "markdown",
   "metadata": {
    "id": "4UjOke_1sqLq"
   },
   "source": [
    "### Preprocesando `name`"
   ]
  },
  {
   "cell_type": "code",
   "execution_count": 2,
   "metadata": {
    "colab": {
     "base_uri": "https://localhost:8080/",
     "height": 520
    },
    "id": "QeRxR7daxzGw",
    "outputId": "84ec90e0-615f-45c1-e91f-b01a8c1fb255"
   },
   "outputs": [
    {
     "data": {
      "text/html": [
       "<div>\n",
       "<style scoped>\n",
       "    .dataframe tbody tr th:only-of-type {\n",
       "        vertical-align: middle;\n",
       "    }\n",
       "\n",
       "    .dataframe tbody tr th {\n",
       "        vertical-align: top;\n",
       "    }\n",
       "\n",
       "    .dataframe thead th {\n",
       "        text-align: right;\n",
       "    }\n",
       "</style>\n",
       "<table border=\"1\" class=\"dataframe\">\n",
       "  <thead>\n",
       "    <tr style=\"text-align: right;\">\n",
       "      <th></th>\n",
       "      <th>name</th>\n",
       "      <th>platform</th>\n",
       "      <th>year_of_release</th>\n",
       "      <th>genre</th>\n",
       "      <th>na_sales</th>\n",
       "      <th>eu_sales</th>\n",
       "      <th>jp_sales</th>\n",
       "      <th>other_sales</th>\n",
       "      <th>critic_score</th>\n",
       "      <th>user_score</th>\n",
       "      <th>rating</th>\n",
       "    </tr>\n",
       "  </thead>\n",
       "  <tbody>\n",
       "    <tr>\n",
       "      <th>0</th>\n",
       "      <td>wii sports</td>\n",
       "      <td>Wii</td>\n",
       "      <td>2006.0</td>\n",
       "      <td>Sports</td>\n",
       "      <td>41.36</td>\n",
       "      <td>28.96</td>\n",
       "      <td>3.77</td>\n",
       "      <td>8.45</td>\n",
       "      <td>76.0</td>\n",
       "      <td>8</td>\n",
       "      <td>E</td>\n",
       "    </tr>\n",
       "    <tr>\n",
       "      <th>1</th>\n",
       "      <td>super mario bros.</td>\n",
       "      <td>NES</td>\n",
       "      <td>1985.0</td>\n",
       "      <td>Platform</td>\n",
       "      <td>29.08</td>\n",
       "      <td>3.58</td>\n",
       "      <td>6.81</td>\n",
       "      <td>0.77</td>\n",
       "      <td>NaN</td>\n",
       "      <td>NaN</td>\n",
       "      <td>NaN</td>\n",
       "    </tr>\n",
       "    <tr>\n",
       "      <th>2</th>\n",
       "      <td>mario kart wii</td>\n",
       "      <td>Wii</td>\n",
       "      <td>2008.0</td>\n",
       "      <td>Racing</td>\n",
       "      <td>15.68</td>\n",
       "      <td>12.76</td>\n",
       "      <td>3.79</td>\n",
       "      <td>3.29</td>\n",
       "      <td>82.0</td>\n",
       "      <td>8.3</td>\n",
       "      <td>E</td>\n",
       "    </tr>\n",
       "    <tr>\n",
       "      <th>3</th>\n",
       "      <td>wii sports resort</td>\n",
       "      <td>Wii</td>\n",
       "      <td>2009.0</td>\n",
       "      <td>Sports</td>\n",
       "      <td>15.61</td>\n",
       "      <td>10.93</td>\n",
       "      <td>3.28</td>\n",
       "      <td>2.95</td>\n",
       "      <td>80.0</td>\n",
       "      <td>8</td>\n",
       "      <td>E</td>\n",
       "    </tr>\n",
       "    <tr>\n",
       "      <th>4</th>\n",
       "      <td>pokemon red/pokemon blue</td>\n",
       "      <td>GB</td>\n",
       "      <td>1996.0</td>\n",
       "      <td>Role-Playing</td>\n",
       "      <td>11.27</td>\n",
       "      <td>8.89</td>\n",
       "      <td>10.22</td>\n",
       "      <td>1.00</td>\n",
       "      <td>NaN</td>\n",
       "      <td>NaN</td>\n",
       "      <td>NaN</td>\n",
       "    </tr>\n",
       "    <tr>\n",
       "      <th>5</th>\n",
       "      <td>tetris</td>\n",
       "      <td>GB</td>\n",
       "      <td>1989.0</td>\n",
       "      <td>Puzzle</td>\n",
       "      <td>23.20</td>\n",
       "      <td>2.26</td>\n",
       "      <td>4.22</td>\n",
       "      <td>0.58</td>\n",
       "      <td>NaN</td>\n",
       "      <td>NaN</td>\n",
       "      <td>NaN</td>\n",
       "    </tr>\n",
       "    <tr>\n",
       "      <th>6</th>\n",
       "      <td>new super mario bros.</td>\n",
       "      <td>DS</td>\n",
       "      <td>2006.0</td>\n",
       "      <td>Platform</td>\n",
       "      <td>11.28</td>\n",
       "      <td>9.14</td>\n",
       "      <td>6.50</td>\n",
       "      <td>2.88</td>\n",
       "      <td>89.0</td>\n",
       "      <td>8.5</td>\n",
       "      <td>E</td>\n",
       "    </tr>\n",
       "    <tr>\n",
       "      <th>7</th>\n",
       "      <td>wii play</td>\n",
       "      <td>Wii</td>\n",
       "      <td>2006.0</td>\n",
       "      <td>Misc</td>\n",
       "      <td>13.96</td>\n",
       "      <td>9.18</td>\n",
       "      <td>2.93</td>\n",
       "      <td>2.84</td>\n",
       "      <td>58.0</td>\n",
       "      <td>6.6</td>\n",
       "      <td>E</td>\n",
       "    </tr>\n",
       "    <tr>\n",
       "      <th>8</th>\n",
       "      <td>new super mario bros. wii</td>\n",
       "      <td>Wii</td>\n",
       "      <td>2009.0</td>\n",
       "      <td>Platform</td>\n",
       "      <td>14.44</td>\n",
       "      <td>6.94</td>\n",
       "      <td>4.70</td>\n",
       "      <td>2.24</td>\n",
       "      <td>87.0</td>\n",
       "      <td>8.4</td>\n",
       "      <td>E</td>\n",
       "    </tr>\n",
       "    <tr>\n",
       "      <th>9</th>\n",
       "      <td>duck hunt</td>\n",
       "      <td>NES</td>\n",
       "      <td>1984.0</td>\n",
       "      <td>Shooter</td>\n",
       "      <td>26.93</td>\n",
       "      <td>0.63</td>\n",
       "      <td>0.28</td>\n",
       "      <td>0.47</td>\n",
       "      <td>NaN</td>\n",
       "      <td>NaN</td>\n",
       "      <td>NaN</td>\n",
       "    </tr>\n",
       "    <tr>\n",
       "      <th>10</th>\n",
       "      <td>nintendogs</td>\n",
       "      <td>DS</td>\n",
       "      <td>2005.0</td>\n",
       "      <td>Simulation</td>\n",
       "      <td>9.05</td>\n",
       "      <td>10.95</td>\n",
       "      <td>1.93</td>\n",
       "      <td>2.74</td>\n",
       "      <td>NaN</td>\n",
       "      <td>NaN</td>\n",
       "      <td>NaN</td>\n",
       "    </tr>\n",
       "    <tr>\n",
       "      <th>11</th>\n",
       "      <td>mario kart ds</td>\n",
       "      <td>DS</td>\n",
       "      <td>2005.0</td>\n",
       "      <td>Racing</td>\n",
       "      <td>9.71</td>\n",
       "      <td>7.47</td>\n",
       "      <td>4.13</td>\n",
       "      <td>1.90</td>\n",
       "      <td>91.0</td>\n",
       "      <td>8.6</td>\n",
       "      <td>E</td>\n",
       "    </tr>\n",
       "    <tr>\n",
       "      <th>12</th>\n",
       "      <td>pokemon gold/pokemon silver</td>\n",
       "      <td>GB</td>\n",
       "      <td>1999.0</td>\n",
       "      <td>Role-Playing</td>\n",
       "      <td>9.00</td>\n",
       "      <td>6.18</td>\n",
       "      <td>7.20</td>\n",
       "      <td>0.71</td>\n",
       "      <td>NaN</td>\n",
       "      <td>NaN</td>\n",
       "      <td>NaN</td>\n",
       "    </tr>\n",
       "    <tr>\n",
       "      <th>13</th>\n",
       "      <td>wii fit</td>\n",
       "      <td>Wii</td>\n",
       "      <td>2007.0</td>\n",
       "      <td>Sports</td>\n",
       "      <td>8.92</td>\n",
       "      <td>8.03</td>\n",
       "      <td>3.60</td>\n",
       "      <td>2.15</td>\n",
       "      <td>80.0</td>\n",
       "      <td>7.7</td>\n",
       "      <td>E</td>\n",
       "    </tr>\n",
       "    <tr>\n",
       "      <th>14</th>\n",
       "      <td>kinect adventures!</td>\n",
       "      <td>X360</td>\n",
       "      <td>2010.0</td>\n",
       "      <td>Misc</td>\n",
       "      <td>15.00</td>\n",
       "      <td>4.89</td>\n",
       "      <td>0.24</td>\n",
       "      <td>1.69</td>\n",
       "      <td>61.0</td>\n",
       "      <td>6.3</td>\n",
       "      <td>E</td>\n",
       "    </tr>\n",
       "  </tbody>\n",
       "</table>\n",
       "</div>"
      ],
      "text/plain": [
       "                           name platform  year_of_release         genre  \\\n",
       "0                    wii sports      Wii           2006.0        Sports   \n",
       "1             super mario bros.      NES           1985.0      Platform   \n",
       "2                mario kart wii      Wii           2008.0        Racing   \n",
       "3             wii sports resort      Wii           2009.0        Sports   \n",
       "4      pokemon red/pokemon blue       GB           1996.0  Role-Playing   \n",
       "5                        tetris       GB           1989.0        Puzzle   \n",
       "6         new super mario bros.       DS           2006.0      Platform   \n",
       "7                      wii play      Wii           2006.0          Misc   \n",
       "8     new super mario bros. wii      Wii           2009.0      Platform   \n",
       "9                     duck hunt      NES           1984.0       Shooter   \n",
       "10                   nintendogs       DS           2005.0    Simulation   \n",
       "11                mario kart ds       DS           2005.0        Racing   \n",
       "12  pokemon gold/pokemon silver       GB           1999.0  Role-Playing   \n",
       "13                      wii fit      Wii           2007.0        Sports   \n",
       "14           kinect adventures!     X360           2010.0          Misc   \n",
       "\n",
       "    na_sales  eu_sales  jp_sales  other_sales  critic_score user_score rating  \n",
       "0      41.36     28.96      3.77         8.45          76.0          8      E  \n",
       "1      29.08      3.58      6.81         0.77           NaN        NaN    NaN  \n",
       "2      15.68     12.76      3.79         3.29          82.0        8.3      E  \n",
       "3      15.61     10.93      3.28         2.95          80.0          8      E  \n",
       "4      11.27      8.89     10.22         1.00           NaN        NaN    NaN  \n",
       "5      23.20      2.26      4.22         0.58           NaN        NaN    NaN  \n",
       "6      11.28      9.14      6.50         2.88          89.0        8.5      E  \n",
       "7      13.96      9.18      2.93         2.84          58.0        6.6      E  \n",
       "8      14.44      6.94      4.70         2.24          87.0        8.4      E  \n",
       "9      26.93      0.63      0.28         0.47           NaN        NaN    NaN  \n",
       "10      9.05     10.95      1.93         2.74           NaN        NaN    NaN  \n",
       "11      9.71      7.47      4.13         1.90          91.0        8.6      E  \n",
       "12      9.00      6.18      7.20         0.71           NaN        NaN    NaN  \n",
       "13      8.92      8.03      3.60         2.15          80.0        7.7      E  \n",
       "14     15.00      4.89      0.24         1.69          61.0        6.3      E  "
      ]
     },
     "execution_count": 2,
     "metadata": {},
     "output_type": "execute_result"
    }
   ],
   "source": [
    "games = games.rename(columns=str.lower)\n",
    "games['name'] = games['name'].str.lower()\n",
    "games.head(15)\n",
    "# Convirtiendo los nombres de las columnas a todo en minusculas"
   ]
  },
  {
   "cell_type": "code",
   "execution_count": 3,
   "metadata": {
    "colab": {
     "base_uri": "https://localhost:8080/",
     "height": 112
    },
    "id": "zvNhs9yiyTZw",
    "outputId": "862a60ce-04fc-4b92-e329-6324b3fe1b1f"
   },
   "outputs": [
    {
     "data": {
      "text/html": [
       "<div>\n",
       "<style scoped>\n",
       "    .dataframe tbody tr th:only-of-type {\n",
       "        vertical-align: middle;\n",
       "    }\n",
       "\n",
       "    .dataframe tbody tr th {\n",
       "        vertical-align: top;\n",
       "    }\n",
       "\n",
       "    .dataframe thead th {\n",
       "        text-align: right;\n",
       "    }\n",
       "</style>\n",
       "<table border=\"1\" class=\"dataframe\">\n",
       "  <thead>\n",
       "    <tr style=\"text-align: right;\">\n",
       "      <th></th>\n",
       "      <th>name</th>\n",
       "      <th>platform</th>\n",
       "      <th>year_of_release</th>\n",
       "      <th>genre</th>\n",
       "      <th>na_sales</th>\n",
       "      <th>eu_sales</th>\n",
       "      <th>jp_sales</th>\n",
       "      <th>other_sales</th>\n",
       "      <th>critic_score</th>\n",
       "      <th>user_score</th>\n",
       "      <th>rating</th>\n",
       "    </tr>\n",
       "  </thead>\n",
       "  <tbody>\n",
       "    <tr>\n",
       "      <th>659</th>\n",
       "      <td>NaN</td>\n",
       "      <td>GEN</td>\n",
       "      <td>1993.0</td>\n",
       "      <td>NaN</td>\n",
       "      <td>1.78</td>\n",
       "      <td>0.53</td>\n",
       "      <td>0.00</td>\n",
       "      <td>0.08</td>\n",
       "      <td>NaN</td>\n",
       "      <td>NaN</td>\n",
       "      <td>NaN</td>\n",
       "    </tr>\n",
       "    <tr>\n",
       "      <th>14244</th>\n",
       "      <td>NaN</td>\n",
       "      <td>GEN</td>\n",
       "      <td>1993.0</td>\n",
       "      <td>NaN</td>\n",
       "      <td>0.00</td>\n",
       "      <td>0.00</td>\n",
       "      <td>0.03</td>\n",
       "      <td>0.00</td>\n",
       "      <td>NaN</td>\n",
       "      <td>NaN</td>\n",
       "      <td>NaN</td>\n",
       "    </tr>\n",
       "  </tbody>\n",
       "</table>\n",
       "</div>"
      ],
      "text/plain": [
       "      name platform  year_of_release genre  na_sales  eu_sales  jp_sales  \\\n",
       "659    NaN      GEN           1993.0   NaN      1.78      0.53      0.00   \n",
       "14244  NaN      GEN           1993.0   NaN      0.00      0.00      0.03   \n",
       "\n",
       "       other_sales  critic_score user_score rating  \n",
       "659           0.08           NaN        NaN    NaN  \n",
       "14244         0.00           NaN        NaN    NaN  "
      ]
     },
     "execution_count": 3,
     "metadata": {},
     "output_type": "execute_result"
    }
   ],
   "source": [
    "games[games['name'].isnull()] # Verificando valores ausentes"
   ]
  },
  {
   "cell_type": "code",
   "execution_count": 4,
   "metadata": {
    "colab": {
     "base_uri": "https://localhost:8080/"
    },
    "id": "eJZSYINr9PhP",
    "outputId": "22d10f46-9507-4fce-a6fb-0cd34b6cba0c"
   },
   "outputs": [
    {
     "data": {
      "text/plain": [
       "name                  0\n",
       "platform              0\n",
       "year_of_release     269\n",
       "genre                 0\n",
       "na_sales              0\n",
       "eu_sales              0\n",
       "jp_sales              0\n",
       "other_sales           0\n",
       "critic_score       8576\n",
       "user_score         6699\n",
       "rating             6764\n",
       "dtype: int64"
      ]
     },
     "execution_count": 4,
     "metadata": {},
     "output_type": "execute_result"
    }
   ],
   "source": [
    "games = games.dropna(subset= ['name']).reset_index(drop=True)\n",
    "games.isnull().sum()\n",
    "# Dropping las filas con valores ausentes de name ya que no representan ni el 1% del dataframe y no hay mucha información por recuperar en sus columnas."
   ]
  },
  {
   "cell_type": "markdown",
   "metadata": {},
   "source": [
    "<div class=\"alert alert-block alert-success\">\n",
    "<b>Comentario del revisor</b> <a class=\"tocSkip\"></a>\n",
    "    \n",
    "Bien. Al ser tan pocos datos no nos afectará el eliminarlos.\n",
    "</div>"
   ]
  },
  {
   "cell_type": "markdown",
   "metadata": {
    "id": "9jv-daRu2zGQ"
   },
   "source": [
    "### Preprocesando `year_of_release`"
   ]
  },
  {
   "cell_type": "code",
   "execution_count": 5,
   "metadata": {
    "colab": {
     "base_uri": "https://localhost:8080/"
    },
    "id": "PvV2BmHDshqU",
    "outputId": "360a4150-4092-4edf-d6be-8842a3aae247"
   },
   "outputs": [
    {
     "data": {
      "text/plain": [
       "array([2006., 1985., 2008., 2009., 1996., 1989., 1984., 2005., 1999.,\n",
       "       2007., 2010., 2013., 2004., 1990., 1988., 2002., 2001., 2011.,\n",
       "       1998., 2015., 2012., 2014., 1992., 1997., 1993., 1994., 1982.,\n",
       "       2016., 2003., 1986., 2000.,   nan, 1995., 1991., 1981., 1987.,\n",
       "       1980., 1983.])"
      ]
     },
     "execution_count": 5,
     "metadata": {},
     "output_type": "execute_result"
    }
   ],
   "source": [
    "games['year_of_release'].unique()"
   ]
  },
  {
   "cell_type": "code",
   "execution_count": 6,
   "metadata": {
    "colab": {
     "base_uri": "https://localhost:8080/"
    },
    "id": "_RlhAAyt23dX",
    "outputId": "21e87387-3c85-45e1-b003-27f0cb326476"
   },
   "outputs": [
    {
     "data": {
      "text/plain": [
       "269"
      ]
     },
     "execution_count": 6,
     "metadata": {},
     "output_type": "execute_result"
    }
   ],
   "source": [
    "games['year_of_release'].isna().sum() #Verificando valores ausentes"
   ]
  },
  {
   "cell_type": "markdown",
   "metadata": {
    "id": "8A1w10yKxHly"
   },
   "source": [
    "Los valores ausentes van a ser rellenados con el valor de año máximo de acuerdo con el nombre del videojuego para saber exactamente qué juego se va a llenar con qué año, pensando que si no hay un registro es por que es nuevo."
   ]
  },
  {
   "cell_type": "code",
   "execution_count": 7,
   "metadata": {
    "colab": {
     "base_uri": "https://localhost:8080/"
    },
    "id": "3LMHT4aA3Tzo",
    "outputId": "be76e8f1-f688-4569-ddb2-e48ebc61cd8a"
   },
   "outputs": [
    {
     "name": "stdout",
     "output_type": "stream",
     "text": [
      "<class 'pandas.core.frame.DataFrame'>\n",
      "RangeIndex: 16713 entries, 0 to 16712\n",
      "Data columns (total 11 columns):\n",
      " #   Column           Non-Null Count  Dtype  \n",
      "---  ------           --------------  -----  \n",
      " 0   name             16713 non-null  object \n",
      " 1   platform         16713 non-null  object \n",
      " 2   year_of_release  16713 non-null  int64  \n",
      " 3   genre            16713 non-null  object \n",
      " 4   na_sales         16713 non-null  float64\n",
      " 5   eu_sales         16713 non-null  float64\n",
      " 6   jp_sales         16713 non-null  float64\n",
      " 7   other_sales      16713 non-null  float64\n",
      " 8   critic_score     8137 non-null   float64\n",
      " 9   user_score       10014 non-null  object \n",
      " 10  rating           9949 non-null   object \n",
      "dtypes: float64(5), int64(1), object(5)\n",
      "memory usage: 1.4+ MB\n"
     ]
    }
   ],
   "source": [
    "games['year_of_release'] = games['year_of_release'].fillna(games.groupby('name')['year_of_release'].transform('max'))\n",
    "games['year_of_release'].fillna(0, inplace=True)\n",
    "games['year_of_release'] = games['year_of_release'].astype('int')\n",
    "games.info()"
   ]
  },
  {
   "cell_type": "markdown",
   "metadata": {
    "id": "fLnQE7ii4CiG"
   },
   "source": [
    "En la columna de `year_of_release` tenemos originalmente 269 valores ausentes y recuepramos 123 datos, rellenamos los demás valores con 0 para hacer más fácil el posterior análisis de las ventas por año, análisis en el que consideraremos solamente los videojuegos vendidos en años más recientes. Y utilizaremos este mismo método con `critic_score`y `user_score`."
   ]
  },
  {
   "cell_type": "markdown",
   "metadata": {},
   "source": [
    "<div class=\"alert alert-block alert-success\">\n",
    "<b>Comentario del revisor</b> <a class=\"tocSkip\"></a>\n",
    "    \n",
    "Buen trabajo.\n",
    "</div>"
   ]
  },
  {
   "cell_type": "markdown",
   "metadata": {
    "id": "rfLM96cb4TlZ"
   },
   "source": [
    "### Preprocesando `critic_score`"
   ]
  },
  {
   "cell_type": "code",
   "execution_count": 8,
   "metadata": {
    "colab": {
     "base_uri": "https://localhost:8080/"
    },
    "id": "2euaqWXp527P",
    "outputId": "5b883cc5-f25f-439e-ce6a-c9827574a791"
   },
   "outputs": [
    {
     "data": {
      "text/plain": [
       "8576"
      ]
     },
     "execution_count": 8,
     "metadata": {},
     "output_type": "execute_result"
    }
   ],
   "source": [
    "games.critic_score.isna().sum()\n"
   ]
  },
  {
   "cell_type": "code",
   "execution_count": 9,
   "metadata": {},
   "outputs": [
    {
     "data": {
      "text/plain": [
       "7615"
      ]
     },
     "execution_count": 9,
     "metadata": {},
     "output_type": "execute_result"
    }
   ],
   "source": [
    "def fill_nan_max(selection):\n",
    "        if len(selection) == 0:\n",
    "            return np.nan        \n",
    "        else:\n",
    "            return selection.max()\n",
    "games['critic_score'] = (games['critic_score'].fillna(games.groupby(['name'])['critic_score'].transform(fill_nan_max)))\n",
    "games['critic_score'].isna().sum()"
   ]
  },
  {
   "cell_type": "code",
   "execution_count": 10,
   "metadata": {
    "colab": {
     "base_uri": "https://localhost:8080/"
    },
    "id": "Z2ZTDg2M5xb3",
    "outputId": "fce0e35e-b60d-48f0-82f3-40ff094f1e11"
   },
   "outputs": [
    {
     "data": {
      "text/plain": [
       "0        76.0\n",
       "1         NaN\n",
       "2        82.0\n",
       "3        80.0\n",
       "4         NaN\n",
       "         ... \n",
       "16708     NaN\n",
       "16709     NaN\n",
       "16710     NaN\n",
       "16711     NaN\n",
       "16712     NaN\n",
       "Name: critic_score, Length: 16713, dtype: float64"
      ]
     },
     "execution_count": 10,
     "metadata": {},
     "output_type": "execute_result"
    }
   ],
   "source": [
    "games['critic_score'] #Estos así se quedan, ok"
   ]
  },
  {
   "cell_type": "markdown",
   "metadata": {
    "id": "eQAABPRk8diI"
   },
   "source": [
    "### Preprocesando `user_score`"
   ]
  },
  {
   "cell_type": "code",
   "execution_count": 11,
   "metadata": {
    "colab": {
     "base_uri": "https://localhost:8080/"
    },
    "id": "IYiiwkYC8l8O",
    "outputId": "792fdfee-4dd6-4048-9abd-30e7358d49ce"
   },
   "outputs": [
    {
     "data": {
      "text/plain": [
       "array([8. , nan, 8.3, 8.5, 6.6, 8.4, 8.6, 7.7, 6.3, 7.4, 8.2, 9. , 7.9,\n",
       "       8.1, 8.7, 7.1, 3.4, 5.3, 4.8, 3.2, 8.9, 6.4, 7.8, 7.5, 2.6, 7.2,\n",
       "       9.2, 7. , 7.3, 4.3, 7.6, 5.7, 5. , 9.1, 6.5, 8.8, 6.9, 9.4, 6.8,\n",
       "       6.1, 6.7, 5.4, 4. , 4.9, 4.5, 9.3, 6.2, 4.2, 6. , 3.7, 4.1, 5.8,\n",
       "       5.6, 5.5, 4.4, 4.6, 5.9, 3.9, 3.1, 2.9, 5.2, 3.3, 4.7, 5.1, 3.5,\n",
       "       2.5, 1.9, 3. , 2.7, 2.2, 2. , 9.5, 2.1, 3.6, 2.8, 1.8, 3.8, 0. ,\n",
       "       1.6, 9.6, 2.4, 1.7, 1.1, 0.3, 1.5, 0.7, 1.2, 2.3, 0.5, 1.3, 0.2,\n",
       "       0.6, 1.4, 0.9, 1. , 9.7])"
      ]
     },
     "execution_count": 11,
     "metadata": {},
     "output_type": "execute_result"
    }
   ],
   "source": [
    "games['user_score'] = pd.to_numeric(games['user_score'], errors='coerce')\n",
    "games['user_score'].unique()"
   ]
  },
  {
   "cell_type": "code",
   "execution_count": 12,
   "metadata": {
    "colab": {
     "base_uri": "https://localhost:8080/"
    },
    "id": "YqnJIjS58rCm",
    "outputId": "9c76d1a3-3c14-4d61-de4d-1448dec4b8e8"
   },
   "outputs": [
    {
     "data": {
      "text/plain": [
       "8024"
      ]
     },
     "execution_count": 12,
     "metadata": {},
     "output_type": "execute_result"
    }
   ],
   "source": [
    "games['user_score'] = games['user_score'].replace('tbd',np.nan)        \n",
    "games['user_score'] = (games['user_score'].fillna(games.groupby(['name'])['user_score'].transform(fill_nan_max)))\n",
    "games['user_score'].isna().sum()"
   ]
  },
  {
   "cell_type": "code",
   "execution_count": 13,
   "metadata": {
    "colab": {
     "base_uri": "https://localhost:8080/"
    },
    "id": "3kC_KYQZ8_Xr",
    "outputId": "7d0cb95f-5808-46fc-87d4-bb5c1748cccc"
   },
   "outputs": [
    {
     "name": "stdout",
     "output_type": "stream",
     "text": [
      "<class 'pandas.core.frame.DataFrame'>\n",
      "RangeIndex: 16713 entries, 0 to 16712\n",
      "Data columns (total 11 columns):\n",
      " #   Column           Non-Null Count  Dtype  \n",
      "---  ------           --------------  -----  \n",
      " 0   name             16713 non-null  object \n",
      " 1   platform         16713 non-null  object \n",
      " 2   year_of_release  16713 non-null  int64  \n",
      " 3   genre            16713 non-null  object \n",
      " 4   na_sales         16713 non-null  float64\n",
      " 5   eu_sales         16713 non-null  float64\n",
      " 6   jp_sales         16713 non-null  float64\n",
      " 7   other_sales      16713 non-null  float64\n",
      " 8   critic_score     9098 non-null   float64\n",
      " 9   user_score       8689 non-null   float64\n",
      " 10  rating           9949 non-null   object \n",
      "dtypes: float64(6), int64(1), object(4)\n",
      "memory usage: 1.4+ MB\n"
     ]
    }
   ],
   "source": [
    "games.info()"
   ]
  },
  {
   "cell_type": "markdown",
   "metadata": {
    "id": "kUiQYGWhBf0u"
   },
   "source": [
    "Hasta ahora hemos cambiado el tipo del algunos datos para tener más orden en el análisis según los valores de cada columna. Tenemos nombre plataforma y género como objetos, no son valores numéricos.\n",
    "Tenemos el año de lanzamiento y el puntaje de la crítica como valores enteros, ya que el máximo puntaje en `critic_score` es de 100.\n",
    "Las ventas y la `user_score` de los videojuegos (con máximo de 10) si considera decimales en sus valores así que los hemos dejado como float64s."
   ]
  },
  {
   "cell_type": "code",
   "execution_count": 14,
   "metadata": {
    "colab": {
     "base_uri": "https://localhost:8080/",
     "height": 363
    },
    "id": "LbkOK_b1ApNY",
    "outputId": "e0a485ba-2b7b-4ae7-8b9d-97c7a8141608"
   },
   "outputs": [
    {
     "data": {
      "text/html": [
       "<div>\n",
       "<style scoped>\n",
       "    .dataframe tbody tr th:only-of-type {\n",
       "        vertical-align: middle;\n",
       "    }\n",
       "\n",
       "    .dataframe tbody tr th {\n",
       "        vertical-align: top;\n",
       "    }\n",
       "\n",
       "    .dataframe thead th {\n",
       "        text-align: right;\n",
       "    }\n",
       "</style>\n",
       "<table border=\"1\" class=\"dataframe\">\n",
       "  <thead>\n",
       "    <tr style=\"text-align: right;\">\n",
       "      <th></th>\n",
       "      <th>name</th>\n",
       "      <th>platform</th>\n",
       "      <th>year_of_release</th>\n",
       "      <th>genre</th>\n",
       "      <th>na_sales</th>\n",
       "      <th>eu_sales</th>\n",
       "      <th>jp_sales</th>\n",
       "      <th>other_sales</th>\n",
       "      <th>critic_score</th>\n",
       "      <th>user_score</th>\n",
       "      <th>rating</th>\n",
       "    </tr>\n",
       "  </thead>\n",
       "  <tbody>\n",
       "    <tr>\n",
       "      <th>0</th>\n",
       "      <td>wii sports</td>\n",
       "      <td>Wii</td>\n",
       "      <td>2006</td>\n",
       "      <td>Sports</td>\n",
       "      <td>41.36</td>\n",
       "      <td>28.96</td>\n",
       "      <td>3.77</td>\n",
       "      <td>8.45</td>\n",
       "      <td>76.0</td>\n",
       "      <td>8.0</td>\n",
       "      <td>E</td>\n",
       "    </tr>\n",
       "    <tr>\n",
       "      <th>1</th>\n",
       "      <td>super mario bros.</td>\n",
       "      <td>NES</td>\n",
       "      <td>1985</td>\n",
       "      <td>Platform</td>\n",
       "      <td>29.08</td>\n",
       "      <td>3.58</td>\n",
       "      <td>6.81</td>\n",
       "      <td>0.77</td>\n",
       "      <td>NaN</td>\n",
       "      <td>NaN</td>\n",
       "      <td>NaN</td>\n",
       "    </tr>\n",
       "    <tr>\n",
       "      <th>2</th>\n",
       "      <td>mario kart wii</td>\n",
       "      <td>Wii</td>\n",
       "      <td>2008</td>\n",
       "      <td>Racing</td>\n",
       "      <td>15.68</td>\n",
       "      <td>12.76</td>\n",
       "      <td>3.79</td>\n",
       "      <td>3.29</td>\n",
       "      <td>82.0</td>\n",
       "      <td>8.3</td>\n",
       "      <td>E</td>\n",
       "    </tr>\n",
       "    <tr>\n",
       "      <th>3</th>\n",
       "      <td>wii sports resort</td>\n",
       "      <td>Wii</td>\n",
       "      <td>2009</td>\n",
       "      <td>Sports</td>\n",
       "      <td>15.61</td>\n",
       "      <td>10.93</td>\n",
       "      <td>3.28</td>\n",
       "      <td>2.95</td>\n",
       "      <td>80.0</td>\n",
       "      <td>8.0</td>\n",
       "      <td>E</td>\n",
       "    </tr>\n",
       "    <tr>\n",
       "      <th>4</th>\n",
       "      <td>pokemon red/pokemon blue</td>\n",
       "      <td>GB</td>\n",
       "      <td>1996</td>\n",
       "      <td>Role-Playing</td>\n",
       "      <td>11.27</td>\n",
       "      <td>8.89</td>\n",
       "      <td>10.22</td>\n",
       "      <td>1.00</td>\n",
       "      <td>NaN</td>\n",
       "      <td>NaN</td>\n",
       "      <td>NaN</td>\n",
       "    </tr>\n",
       "    <tr>\n",
       "      <th>5</th>\n",
       "      <td>tetris</td>\n",
       "      <td>GB</td>\n",
       "      <td>1989</td>\n",
       "      <td>Puzzle</td>\n",
       "      <td>23.20</td>\n",
       "      <td>2.26</td>\n",
       "      <td>4.22</td>\n",
       "      <td>0.58</td>\n",
       "      <td>NaN</td>\n",
       "      <td>NaN</td>\n",
       "      <td>NaN</td>\n",
       "    </tr>\n",
       "    <tr>\n",
       "      <th>6</th>\n",
       "      <td>new super mario bros.</td>\n",
       "      <td>DS</td>\n",
       "      <td>2006</td>\n",
       "      <td>Platform</td>\n",
       "      <td>11.28</td>\n",
       "      <td>9.14</td>\n",
       "      <td>6.50</td>\n",
       "      <td>2.88</td>\n",
       "      <td>89.0</td>\n",
       "      <td>8.5</td>\n",
       "      <td>E</td>\n",
       "    </tr>\n",
       "    <tr>\n",
       "      <th>7</th>\n",
       "      <td>wii play</td>\n",
       "      <td>Wii</td>\n",
       "      <td>2006</td>\n",
       "      <td>Misc</td>\n",
       "      <td>13.96</td>\n",
       "      <td>9.18</td>\n",
       "      <td>2.93</td>\n",
       "      <td>2.84</td>\n",
       "      <td>58.0</td>\n",
       "      <td>6.6</td>\n",
       "      <td>E</td>\n",
       "    </tr>\n",
       "    <tr>\n",
       "      <th>8</th>\n",
       "      <td>new super mario bros. wii</td>\n",
       "      <td>Wii</td>\n",
       "      <td>2009</td>\n",
       "      <td>Platform</td>\n",
       "      <td>14.44</td>\n",
       "      <td>6.94</td>\n",
       "      <td>4.70</td>\n",
       "      <td>2.24</td>\n",
       "      <td>87.0</td>\n",
       "      <td>8.4</td>\n",
       "      <td>E</td>\n",
       "    </tr>\n",
       "    <tr>\n",
       "      <th>9</th>\n",
       "      <td>duck hunt</td>\n",
       "      <td>NES</td>\n",
       "      <td>1984</td>\n",
       "      <td>Shooter</td>\n",
       "      <td>26.93</td>\n",
       "      <td>0.63</td>\n",
       "      <td>0.28</td>\n",
       "      <td>0.47</td>\n",
       "      <td>NaN</td>\n",
       "      <td>NaN</td>\n",
       "      <td>NaN</td>\n",
       "    </tr>\n",
       "  </tbody>\n",
       "</table>\n",
       "</div>"
      ],
      "text/plain": [
       "                        name platform  year_of_release         genre  \\\n",
       "0                 wii sports      Wii             2006        Sports   \n",
       "1          super mario bros.      NES             1985      Platform   \n",
       "2             mario kart wii      Wii             2008        Racing   \n",
       "3          wii sports resort      Wii             2009        Sports   \n",
       "4   pokemon red/pokemon blue       GB             1996  Role-Playing   \n",
       "5                     tetris       GB             1989        Puzzle   \n",
       "6      new super mario bros.       DS             2006      Platform   \n",
       "7                   wii play      Wii             2006          Misc   \n",
       "8  new super mario bros. wii      Wii             2009      Platform   \n",
       "9                  duck hunt      NES             1984       Shooter   \n",
       "\n",
       "   na_sales  eu_sales  jp_sales  other_sales  critic_score  user_score rating  \n",
       "0     41.36     28.96      3.77         8.45          76.0         8.0      E  \n",
       "1     29.08      3.58      6.81         0.77           NaN         NaN    NaN  \n",
       "2     15.68     12.76      3.79         3.29          82.0         8.3      E  \n",
       "3     15.61     10.93      3.28         2.95          80.0         8.0      E  \n",
       "4     11.27      8.89     10.22         1.00           NaN         NaN    NaN  \n",
       "5     23.20      2.26      4.22         0.58           NaN         NaN    NaN  \n",
       "6     11.28      9.14      6.50         2.88          89.0         8.5      E  \n",
       "7     13.96      9.18      2.93         2.84          58.0         6.6      E  \n",
       "8     14.44      6.94      4.70         2.24          87.0         8.4      E  \n",
       "9     26.93      0.63      0.28         0.47           NaN         NaN    NaN  "
      ]
     },
     "execution_count": 14,
     "metadata": {},
     "output_type": "execute_result"
    }
   ],
   "source": [
    "games.head(10)"
   ]
  },
  {
   "cell_type": "markdown",
   "metadata": {
    "id": "20B4E-DOCxtl"
   },
   "source": [
    "Hasta ahora algunos valores ausentes han sido imputados. Comenzamos con `name` primero eliminando 2 fila sin datos suficientes. Seguimos con `year_of_release`, `critic_score` y `user_score`, en los cuales rellenamos algunos valores según el nombre del videojuego, los cuales serán descartados para el posterior análisis. Continuaremos con la columna de `rating` y `platform`.\n",
    "\n",
    "Estos valores ausentes podrían existir en el dataframe debido a errores de registro y algunos más recientes podrían no tener ciertos valores de scoring/rating por ser relativamente recientes sin tiempo de haber realizado la captura de los valores de scoring."
   ]
  },
  {
   "cell_type": "markdown",
   "metadata": {},
   "source": [
    "<div class=\"alert alert-block alert-danger\">\n",
    "<b>Comentario del revisor</b> <a class=\"tocSkip\"></a>\n",
    "    \n",
    "Al igual que con la columna anterior, la modificación de los valores puede sesgar las conclusiones. El cambio de `tbd` es apropiado así como la transformación del tipo de dato pero no así con la imputación de los datos faltantes.\n",
    "</div>"
   ]
  },
  {
   "cell_type": "markdown",
   "metadata": {},
   "source": [
    "<div class=\"alert alert-block alert-info\">\n",
    "<a class=\"tocSkip\"></a>adiós fillna?\n",
    "</div>"
   ]
  },
  {
   "cell_type": "markdown",
   "metadata": {},
   "source": [
    "<div class=\"alert alert-block alert-info\">\n",
    "\n",
    "En algunos casos nos toca dejarlo a un lado. \n",
    "</div>"
   ]
  },
  {
   "cell_type": "markdown",
   "metadata": {
    "id": "l0aUGTabsuy5"
   },
   "source": [
    "### Preprocesando `rating`"
   ]
  },
  {
   "cell_type": "code",
   "execution_count": 15,
   "metadata": {
    "colab": {
     "base_uri": "https://localhost:8080/"
    },
    "id": "8OetqTausgQo",
    "outputId": "5af25f39-e63a-44d9-8c5a-de52787187b1"
   },
   "outputs": [
    {
     "data": {
      "text/plain": [
       "6764"
      ]
     },
     "execution_count": 15,
     "metadata": {},
     "output_type": "execute_result"
    }
   ],
   "source": [
    "games['rating'].isna().sum()"
   ]
  },
  {
   "cell_type": "code",
   "execution_count": 16,
   "metadata": {
    "colab": {
     "base_uri": "https://localhost:8080/"
    },
    "id": "kvvMh33ztIgb",
    "outputId": "13221dee-aae4-4d85-fd73-578cb4410acf"
   },
   "outputs": [
    {
     "data": {
      "text/plain": [
       "array(['E', nan, 'M', 'T', 'E10+', 'K-A', 'AO', 'EC', 'RP'], dtype=object)"
      ]
     },
     "execution_count": 16,
     "metadata": {},
     "output_type": "execute_result"
    }
   ],
   "source": [
    "games['rating'].unique()"
   ]
  },
  {
   "cell_type": "code",
   "execution_count": 17,
   "metadata": {
    "colab": {
     "base_uri": "https://localhost:8080/",
     "height": 363
    },
    "id": "X-Ym3ckkrfg2",
    "outputId": "74aa2a0b-c876-424e-b5d3-7f7443cc472d"
   },
   "outputs": [
    {
     "data": {
      "text/html": [
       "<div>\n",
       "<style scoped>\n",
       "    .dataframe tbody tr th:only-of-type {\n",
       "        vertical-align: middle;\n",
       "    }\n",
       "\n",
       "    .dataframe tbody tr th {\n",
       "        vertical-align: top;\n",
       "    }\n",
       "\n",
       "    .dataframe thead th {\n",
       "        text-align: right;\n",
       "    }\n",
       "</style>\n",
       "<table border=\"1\" class=\"dataframe\">\n",
       "  <thead>\n",
       "    <tr style=\"text-align: right;\">\n",
       "      <th></th>\n",
       "      <th>name</th>\n",
       "      <th>platform</th>\n",
       "      <th>year_of_release</th>\n",
       "      <th>genre</th>\n",
       "      <th>na_sales</th>\n",
       "      <th>eu_sales</th>\n",
       "      <th>jp_sales</th>\n",
       "      <th>other_sales</th>\n",
       "      <th>critic_score</th>\n",
       "      <th>user_score</th>\n",
       "      <th>rating</th>\n",
       "      <th>rating_id</th>\n",
       "    </tr>\n",
       "  </thead>\n",
       "  <tbody>\n",
       "    <tr>\n",
       "      <th>0</th>\n",
       "      <td>wii sports</td>\n",
       "      <td>Wii</td>\n",
       "      <td>2006</td>\n",
       "      <td>Sports</td>\n",
       "      <td>41.36</td>\n",
       "      <td>28.96</td>\n",
       "      <td>3.77</td>\n",
       "      <td>8.45</td>\n",
       "      <td>76.0</td>\n",
       "      <td>8.0</td>\n",
       "      <td>E</td>\n",
       "      <td>1.0</td>\n",
       "    </tr>\n",
       "    <tr>\n",
       "      <th>1</th>\n",
       "      <td>super mario bros.</td>\n",
       "      <td>NES</td>\n",
       "      <td>1985</td>\n",
       "      <td>Platform</td>\n",
       "      <td>29.08</td>\n",
       "      <td>3.58</td>\n",
       "      <td>6.81</td>\n",
       "      <td>0.77</td>\n",
       "      <td>NaN</td>\n",
       "      <td>NaN</td>\n",
       "      <td>NaN</td>\n",
       "      <td>0.0</td>\n",
       "    </tr>\n",
       "    <tr>\n",
       "      <th>2</th>\n",
       "      <td>mario kart wii</td>\n",
       "      <td>Wii</td>\n",
       "      <td>2008</td>\n",
       "      <td>Racing</td>\n",
       "      <td>15.68</td>\n",
       "      <td>12.76</td>\n",
       "      <td>3.79</td>\n",
       "      <td>3.29</td>\n",
       "      <td>82.0</td>\n",
       "      <td>8.3</td>\n",
       "      <td>E</td>\n",
       "      <td>1.0</td>\n",
       "    </tr>\n",
       "    <tr>\n",
       "      <th>3</th>\n",
       "      <td>wii sports resort</td>\n",
       "      <td>Wii</td>\n",
       "      <td>2009</td>\n",
       "      <td>Sports</td>\n",
       "      <td>15.61</td>\n",
       "      <td>10.93</td>\n",
       "      <td>3.28</td>\n",
       "      <td>2.95</td>\n",
       "      <td>80.0</td>\n",
       "      <td>8.0</td>\n",
       "      <td>E</td>\n",
       "      <td>1.0</td>\n",
       "    </tr>\n",
       "    <tr>\n",
       "      <th>4</th>\n",
       "      <td>pokemon red/pokemon blue</td>\n",
       "      <td>GB</td>\n",
       "      <td>1996</td>\n",
       "      <td>Role-Playing</td>\n",
       "      <td>11.27</td>\n",
       "      <td>8.89</td>\n",
       "      <td>10.22</td>\n",
       "      <td>1.00</td>\n",
       "      <td>NaN</td>\n",
       "      <td>NaN</td>\n",
       "      <td>NaN</td>\n",
       "      <td>0.0</td>\n",
       "    </tr>\n",
       "    <tr>\n",
       "      <th>5</th>\n",
       "      <td>tetris</td>\n",
       "      <td>GB</td>\n",
       "      <td>1989</td>\n",
       "      <td>Puzzle</td>\n",
       "      <td>23.20</td>\n",
       "      <td>2.26</td>\n",
       "      <td>4.22</td>\n",
       "      <td>0.58</td>\n",
       "      <td>NaN</td>\n",
       "      <td>NaN</td>\n",
       "      <td>NaN</td>\n",
       "      <td>0.0</td>\n",
       "    </tr>\n",
       "    <tr>\n",
       "      <th>6</th>\n",
       "      <td>new super mario bros.</td>\n",
       "      <td>DS</td>\n",
       "      <td>2006</td>\n",
       "      <td>Platform</td>\n",
       "      <td>11.28</td>\n",
       "      <td>9.14</td>\n",
       "      <td>6.50</td>\n",
       "      <td>2.88</td>\n",
       "      <td>89.0</td>\n",
       "      <td>8.5</td>\n",
       "      <td>E</td>\n",
       "      <td>1.0</td>\n",
       "    </tr>\n",
       "    <tr>\n",
       "      <th>7</th>\n",
       "      <td>wii play</td>\n",
       "      <td>Wii</td>\n",
       "      <td>2006</td>\n",
       "      <td>Misc</td>\n",
       "      <td>13.96</td>\n",
       "      <td>9.18</td>\n",
       "      <td>2.93</td>\n",
       "      <td>2.84</td>\n",
       "      <td>58.0</td>\n",
       "      <td>6.6</td>\n",
       "      <td>E</td>\n",
       "      <td>1.0</td>\n",
       "    </tr>\n",
       "    <tr>\n",
       "      <th>8</th>\n",
       "      <td>new super mario bros. wii</td>\n",
       "      <td>Wii</td>\n",
       "      <td>2009</td>\n",
       "      <td>Platform</td>\n",
       "      <td>14.44</td>\n",
       "      <td>6.94</td>\n",
       "      <td>4.70</td>\n",
       "      <td>2.24</td>\n",
       "      <td>87.0</td>\n",
       "      <td>8.4</td>\n",
       "      <td>E</td>\n",
       "      <td>1.0</td>\n",
       "    </tr>\n",
       "    <tr>\n",
       "      <th>9</th>\n",
       "      <td>duck hunt</td>\n",
       "      <td>NES</td>\n",
       "      <td>1984</td>\n",
       "      <td>Shooter</td>\n",
       "      <td>26.93</td>\n",
       "      <td>0.63</td>\n",
       "      <td>0.28</td>\n",
       "      <td>0.47</td>\n",
       "      <td>NaN</td>\n",
       "      <td>NaN</td>\n",
       "      <td>NaN</td>\n",
       "      <td>0.0</td>\n",
       "    </tr>\n",
       "  </tbody>\n",
       "</table>\n",
       "</div>"
      ],
      "text/plain": [
       "                        name platform  year_of_release         genre  \\\n",
       "0                 wii sports      Wii             2006        Sports   \n",
       "1          super mario bros.      NES             1985      Platform   \n",
       "2             mario kart wii      Wii             2008        Racing   \n",
       "3          wii sports resort      Wii             2009        Sports   \n",
       "4   pokemon red/pokemon blue       GB             1996  Role-Playing   \n",
       "5                     tetris       GB             1989        Puzzle   \n",
       "6      new super mario bros.       DS             2006      Platform   \n",
       "7                   wii play      Wii             2006          Misc   \n",
       "8  new super mario bros. wii      Wii             2009      Platform   \n",
       "9                  duck hunt      NES             1984       Shooter   \n",
       "\n",
       "   na_sales  eu_sales  jp_sales  other_sales  critic_score  user_score rating  \\\n",
       "0     41.36     28.96      3.77         8.45          76.0         8.0      E   \n",
       "1     29.08      3.58      6.81         0.77           NaN         NaN    NaN   \n",
       "2     15.68     12.76      3.79         3.29          82.0         8.3      E   \n",
       "3     15.61     10.93      3.28         2.95          80.0         8.0      E   \n",
       "4     11.27      8.89     10.22         1.00           NaN         NaN    NaN   \n",
       "5     23.20      2.26      4.22         0.58           NaN         NaN    NaN   \n",
       "6     11.28      9.14      6.50         2.88          89.0         8.5      E   \n",
       "7     13.96      9.18      2.93         2.84          58.0         6.6      E   \n",
       "8     14.44      6.94      4.70         2.24          87.0         8.4      E   \n",
       "9     26.93      0.63      0.28         0.47           NaN         NaN    NaN   \n",
       "\n",
       "   rating_id  \n",
       "0        1.0  \n",
       "1        0.0  \n",
       "2        1.0  \n",
       "3        1.0  \n",
       "4        0.0  \n",
       "5        0.0  \n",
       "6        1.0  \n",
       "7        1.0  \n",
       "8        1.0  \n",
       "9        0.0  "
      ]
     },
     "execution_count": 17,
     "metadata": {},
     "output_type": "execute_result"
    }
   ],
   "source": [
    "rating_dict = {'E': 1, 'T':2,'M':3,'E10+':4,'EC':5,'RP':6,'K-A':7,'AO':8}\n",
    "games['rating_id'] = games['rating'].replace(rating_dict)  \n",
    "games['rating_id'] = games['rating_id'].fillna(games.groupby(['name'])['rating_id'].transform('max'))\n",
    "games['rating'] = games['rating'].fillna(games.groupby(['name'])['rating_id'].transform('max'))\n",
    "games['rating_id'] = games['rating_id'].fillna(0)\n",
    "games.head(10)"
   ]
  },
  {
   "cell_type": "code",
   "execution_count": 18,
   "metadata": {
    "colab": {
     "base_uri": "https://localhost:8080/"
    },
    "id": "oW8FRSwoGyPO",
    "outputId": "c331b674-2a75-4231-b439-36ea120ce730"
   },
   "outputs": [
    {
     "data": {
      "text/plain": [
       "name                  0\n",
       "platform              0\n",
       "year_of_release       0\n",
       "genre                 0\n",
       "na_sales              0\n",
       "eu_sales              0\n",
       "jp_sales              0\n",
       "other_sales           0\n",
       "critic_score       7615\n",
       "user_score         8024\n",
       "rating             6327\n",
       "rating_id             0\n",
       "dtype: int64"
      ]
     },
     "execution_count": 18,
     "metadata": {},
     "output_type": "execute_result"
    }
   ],
   "source": [
    "games.isna().sum()"
   ]
  },
  {
   "cell_type": "code",
   "execution_count": 19,
   "metadata": {
    "colab": {
     "base_uri": "https://localhost:8080/",
     "height": 424
    },
    "id": "gvP6myK-IzeI",
    "outputId": "ebb8c370-b3fe-445c-f02b-218e4d87ac4e"
   },
   "outputs": [
    {
     "data": {
      "text/html": [
       "<div>\n",
       "<style scoped>\n",
       "    .dataframe tbody tr th:only-of-type {\n",
       "        vertical-align: middle;\n",
       "    }\n",
       "\n",
       "    .dataframe tbody tr th {\n",
       "        vertical-align: top;\n",
       "    }\n",
       "\n",
       "    .dataframe thead th {\n",
       "        text-align: right;\n",
       "    }\n",
       "</style>\n",
       "<table border=\"1\" class=\"dataframe\">\n",
       "  <thead>\n",
       "    <tr style=\"text-align: right;\">\n",
       "      <th></th>\n",
       "      <th>name</th>\n",
       "      <th>platform</th>\n",
       "      <th>year_of_release</th>\n",
       "      <th>genre</th>\n",
       "      <th>na_sales</th>\n",
       "      <th>eu_sales</th>\n",
       "      <th>jp_sales</th>\n",
       "      <th>other_sales</th>\n",
       "      <th>critic_score</th>\n",
       "      <th>user_score</th>\n",
       "      <th>rating</th>\n",
       "      <th>rating_id</th>\n",
       "      <th>total_profit</th>\n",
       "    </tr>\n",
       "  </thead>\n",
       "  <tbody>\n",
       "    <tr>\n",
       "      <th>0</th>\n",
       "      <td>wii sports</td>\n",
       "      <td>Wii</td>\n",
       "      <td>2006</td>\n",
       "      <td>Sports</td>\n",
       "      <td>41.36</td>\n",
       "      <td>28.96</td>\n",
       "      <td>3.77</td>\n",
       "      <td>8.45</td>\n",
       "      <td>76.0</td>\n",
       "      <td>8.0</td>\n",
       "      <td>E</td>\n",
       "      <td>1.0</td>\n",
       "      <td>82.54</td>\n",
       "    </tr>\n",
       "    <tr>\n",
       "      <th>1</th>\n",
       "      <td>super mario bros.</td>\n",
       "      <td>NES</td>\n",
       "      <td>1985</td>\n",
       "      <td>Platform</td>\n",
       "      <td>29.08</td>\n",
       "      <td>3.58</td>\n",
       "      <td>6.81</td>\n",
       "      <td>0.77</td>\n",
       "      <td>NaN</td>\n",
       "      <td>NaN</td>\n",
       "      <td>NaN</td>\n",
       "      <td>0.0</td>\n",
       "      <td>40.24</td>\n",
       "    </tr>\n",
       "    <tr>\n",
       "      <th>2</th>\n",
       "      <td>mario kart wii</td>\n",
       "      <td>Wii</td>\n",
       "      <td>2008</td>\n",
       "      <td>Racing</td>\n",
       "      <td>15.68</td>\n",
       "      <td>12.76</td>\n",
       "      <td>3.79</td>\n",
       "      <td>3.29</td>\n",
       "      <td>82.0</td>\n",
       "      <td>8.3</td>\n",
       "      <td>E</td>\n",
       "      <td>1.0</td>\n",
       "      <td>35.52</td>\n",
       "    </tr>\n",
       "    <tr>\n",
       "      <th>3</th>\n",
       "      <td>wii sports resort</td>\n",
       "      <td>Wii</td>\n",
       "      <td>2009</td>\n",
       "      <td>Sports</td>\n",
       "      <td>15.61</td>\n",
       "      <td>10.93</td>\n",
       "      <td>3.28</td>\n",
       "      <td>2.95</td>\n",
       "      <td>80.0</td>\n",
       "      <td>8.0</td>\n",
       "      <td>E</td>\n",
       "      <td>1.0</td>\n",
       "      <td>32.77</td>\n",
       "    </tr>\n",
       "    <tr>\n",
       "      <th>4</th>\n",
       "      <td>pokemon red/pokemon blue</td>\n",
       "      <td>GB</td>\n",
       "      <td>1996</td>\n",
       "      <td>Role-Playing</td>\n",
       "      <td>11.27</td>\n",
       "      <td>8.89</td>\n",
       "      <td>10.22</td>\n",
       "      <td>1.00</td>\n",
       "      <td>NaN</td>\n",
       "      <td>NaN</td>\n",
       "      <td>NaN</td>\n",
       "      <td>0.0</td>\n",
       "      <td>31.38</td>\n",
       "    </tr>\n",
       "    <tr>\n",
       "      <th>...</th>\n",
       "      <td>...</td>\n",
       "      <td>...</td>\n",
       "      <td>...</td>\n",
       "      <td>...</td>\n",
       "      <td>...</td>\n",
       "      <td>...</td>\n",
       "      <td>...</td>\n",
       "      <td>...</td>\n",
       "      <td>...</td>\n",
       "      <td>...</td>\n",
       "      <td>...</td>\n",
       "      <td>...</td>\n",
       "      <td>...</td>\n",
       "    </tr>\n",
       "    <tr>\n",
       "      <th>16708</th>\n",
       "      <td>samurai warriors: sanada maru</td>\n",
       "      <td>PS3</td>\n",
       "      <td>2016</td>\n",
       "      <td>Action</td>\n",
       "      <td>0.00</td>\n",
       "      <td>0.00</td>\n",
       "      <td>0.01</td>\n",
       "      <td>0.00</td>\n",
       "      <td>NaN</td>\n",
       "      <td>NaN</td>\n",
       "      <td>NaN</td>\n",
       "      <td>0.0</td>\n",
       "      <td>0.01</td>\n",
       "    </tr>\n",
       "    <tr>\n",
       "      <th>16709</th>\n",
       "      <td>lma manager 2007</td>\n",
       "      <td>X360</td>\n",
       "      <td>2006</td>\n",
       "      <td>Sports</td>\n",
       "      <td>0.00</td>\n",
       "      <td>0.01</td>\n",
       "      <td>0.00</td>\n",
       "      <td>0.00</td>\n",
       "      <td>NaN</td>\n",
       "      <td>NaN</td>\n",
       "      <td>NaN</td>\n",
       "      <td>0.0</td>\n",
       "      <td>0.01</td>\n",
       "    </tr>\n",
       "    <tr>\n",
       "      <th>16710</th>\n",
       "      <td>haitaka no psychedelica</td>\n",
       "      <td>PSV</td>\n",
       "      <td>2016</td>\n",
       "      <td>Adventure</td>\n",
       "      <td>0.00</td>\n",
       "      <td>0.00</td>\n",
       "      <td>0.01</td>\n",
       "      <td>0.00</td>\n",
       "      <td>NaN</td>\n",
       "      <td>NaN</td>\n",
       "      <td>NaN</td>\n",
       "      <td>0.0</td>\n",
       "      <td>0.01</td>\n",
       "    </tr>\n",
       "    <tr>\n",
       "      <th>16711</th>\n",
       "      <td>spirits &amp; spells</td>\n",
       "      <td>GBA</td>\n",
       "      <td>2003</td>\n",
       "      <td>Platform</td>\n",
       "      <td>0.01</td>\n",
       "      <td>0.00</td>\n",
       "      <td>0.00</td>\n",
       "      <td>0.00</td>\n",
       "      <td>NaN</td>\n",
       "      <td>NaN</td>\n",
       "      <td>NaN</td>\n",
       "      <td>0.0</td>\n",
       "      <td>0.01</td>\n",
       "    </tr>\n",
       "    <tr>\n",
       "      <th>16712</th>\n",
       "      <td>winning post 8 2016</td>\n",
       "      <td>PSV</td>\n",
       "      <td>2016</td>\n",
       "      <td>Simulation</td>\n",
       "      <td>0.00</td>\n",
       "      <td>0.00</td>\n",
       "      <td>0.01</td>\n",
       "      <td>0.00</td>\n",
       "      <td>NaN</td>\n",
       "      <td>NaN</td>\n",
       "      <td>NaN</td>\n",
       "      <td>0.0</td>\n",
       "      <td>0.01</td>\n",
       "    </tr>\n",
       "  </tbody>\n",
       "</table>\n",
       "<p>16713 rows × 13 columns</p>\n",
       "</div>"
      ],
      "text/plain": [
       "                                name platform  year_of_release         genre  \\\n",
       "0                         wii sports      Wii             2006        Sports   \n",
       "1                  super mario bros.      NES             1985      Platform   \n",
       "2                     mario kart wii      Wii             2008        Racing   \n",
       "3                  wii sports resort      Wii             2009        Sports   \n",
       "4           pokemon red/pokemon blue       GB             1996  Role-Playing   \n",
       "...                              ...      ...              ...           ...   \n",
       "16708  samurai warriors: sanada maru      PS3             2016        Action   \n",
       "16709               lma manager 2007     X360             2006        Sports   \n",
       "16710        haitaka no psychedelica      PSV             2016     Adventure   \n",
       "16711               spirits & spells      GBA             2003      Platform   \n",
       "16712            winning post 8 2016      PSV             2016    Simulation   \n",
       "\n",
       "       na_sales  eu_sales  jp_sales  other_sales  critic_score  user_score  \\\n",
       "0         41.36     28.96      3.77         8.45          76.0         8.0   \n",
       "1         29.08      3.58      6.81         0.77           NaN         NaN   \n",
       "2         15.68     12.76      3.79         3.29          82.0         8.3   \n",
       "3         15.61     10.93      3.28         2.95          80.0         8.0   \n",
       "4         11.27      8.89     10.22         1.00           NaN         NaN   \n",
       "...         ...       ...       ...          ...           ...         ...   \n",
       "16708      0.00      0.00      0.01         0.00           NaN         NaN   \n",
       "16709      0.00      0.01      0.00         0.00           NaN         NaN   \n",
       "16710      0.00      0.00      0.01         0.00           NaN         NaN   \n",
       "16711      0.01      0.00      0.00         0.00           NaN         NaN   \n",
       "16712      0.00      0.00      0.01         0.00           NaN         NaN   \n",
       "\n",
       "      rating  rating_id  total_profit  \n",
       "0          E        1.0         82.54  \n",
       "1        NaN        0.0         40.24  \n",
       "2          E        1.0         35.52  \n",
       "3          E        1.0         32.77  \n",
       "4        NaN        0.0         31.38  \n",
       "...      ...        ...           ...  \n",
       "16708    NaN        0.0          0.01  \n",
       "16709    NaN        0.0          0.01  \n",
       "16710    NaN        0.0          0.01  \n",
       "16711    NaN        0.0          0.01  \n",
       "16712    NaN        0.0          0.01  \n",
       "\n",
       "[16713 rows x 13 columns]"
      ]
     },
     "execution_count": 19,
     "metadata": {},
     "output_type": "execute_result"
    }
   ],
   "source": [
    "games['total_profit'] = (games['na_sales'] + games['eu_sales'] +  games['jp_sales'] + games['other_sales'])\n",
    "games\n",
    "# Ganancias totales por videjuego, en millones de dólares USD"
   ]
  },
  {
   "cell_type": "code",
   "execution_count": 20,
   "metadata": {
    "colab": {
     "base_uri": "https://localhost:8080/"
    },
    "id": "1UhFqQmCJdZX",
    "outputId": "a01fff0c-2665-4688-9c7a-8111669029a4"
   },
   "outputs": [
    {
     "data": {
      "text/plain": [
       "0"
      ]
     },
     "execution_count": 20,
     "metadata": {},
     "output_type": "execute_result"
    }
   ],
   "source": [
    "games.duplicated().sum() #No hay duplicados en el dataframe"
   ]
  },
  {
   "cell_type": "code",
   "execution_count": 21,
   "metadata": {
    "colab": {
     "base_uri": "https://localhost:8080/"
    },
    "id": "bso5-lUWyxBB",
    "outputId": "711fac98-7306-4e99-8e29-f9d8599196bf"
   },
   "outputs": [
    {
     "name": "stdout",
     "output_type": "stream",
     "text": [
      "<class 'pandas.core.frame.DataFrame'>\n",
      "RangeIndex: 16713 entries, 0 to 16712\n",
      "Data columns (total 13 columns):\n",
      " #   Column           Non-Null Count  Dtype  \n",
      "---  ------           --------------  -----  \n",
      " 0   name             16713 non-null  object \n",
      " 1   platform         16713 non-null  object \n",
      " 2   year_of_release  16713 non-null  int64  \n",
      " 3   genre            16713 non-null  object \n",
      " 4   na_sales         16713 non-null  float64\n",
      " 5   eu_sales         16713 non-null  float64\n",
      " 6   jp_sales         16713 non-null  float64\n",
      " 7   other_sales      16713 non-null  float64\n",
      " 8   critic_score     16713 non-null  int64  \n",
      " 9   user_score       8689 non-null   float64\n",
      " 10  rating           10386 non-null  object \n",
      " 11  rating_id        16713 non-null  int64  \n",
      " 12  total_profit     16713 non-null  float64\n",
      "dtypes: float64(6), int64(3), object(4)\n",
      "memory usage: 1.7+ MB\n"
     ]
    }
   ],
   "source": [
    "games['year_of_release'].fillna(0, inplace=True)\n",
    "games['rating_id'].fillna(0, inplace=True)\n",
    "games['critic_score'].fillna(0, inplace=True)\n",
    "games['user_score'] = pd.to_numeric(games['user_score'],errors='coerce')\n",
    "try: \n",
    "    games['year_of_release']   = games['year_of_release'].astype('int')\n",
    "    games['critic_score']   = games['critic_score'].astype('int')\n",
    "    games['rating_id']   = games['rating_id'].astype('int')    \n",
    "except: \n",
    "    print('Nope')\n",
    "games.info()"
   ]
  },
  {
   "cell_type": "markdown",
   "metadata": {
    "id": "VKLN5OzbxrGb"
   },
   "source": [
    "Hasta aquí hemos recuperado los datos de la mayoría de las columnas y hemos creado una nueva columna que nos muestra las ganancias totales de los videojuegos en todas las regiones y un ID para cada tipo de rating, numérico para hacer más fácil el fillna."
   ]
  },
  {
   "cell_type": "markdown",
   "metadata": {},
   "source": [
    "<div class=\"alert alert-block alert-info\">\n",
    "<a class=\"tocSkip\"></a>Creo que ya hice el valor default 0 para los datos ausentes con la columna de rating ID. y pues ya no hay fillnas arriba\n",
    "</div>"
   ]
  },
  {
   "cell_type": "markdown",
   "metadata": {
    "id": "WGHjefsJs_dD"
   },
   "source": [
    "## Paso 3. Análisis de Datos"
   ]
  },
  {
   "cell_type": "markdown",
   "metadata": {
    "id": "qHWizWVjP5XP"
   },
   "source": [
    "Primero vamos a analizar el volumen de videojuegos vendidos en millones de dólares (USD) que tenemos a través del tiempo."
   ]
  },
  {
   "cell_type": "code",
   "execution_count": 22,
   "metadata": {
    "colab": {
     "base_uri": "https://localhost:8080/",
     "height": 530
    },
    "id": "E4l-Mk3fmI1n",
    "outputId": "fbd55a0d-81ae-4926-fbc8-3330af75dcbe"
   },
   "outputs": [
    {
     "data": {
      "text/plain": [
       "<AxesSubplot:xlabel='year_of_release'>"
      ]
     },
     "execution_count": 22,
     "metadata": {},
     "output_type": "execute_result"
    },
    {
     "data": {
      "image/png": "[encoded data removed]",
      "text/plain": [
       "<Figure size 1080x576 with 1 Axes>"
      ]
     },
     "metadata": {
      "needs_background": "light"
     },
     "output_type": "display_data"
    }
   ],
   "source": [
    "profit_by_platforms = games.query('year_of_release != 0').pivot_table(index='year_of_release', values='total_profit', aggfunc='count')\n",
    "profit_by_platforms.plot(kind='bar', figsize=(15, 8), color='#9146FF')"
   ]
  },
  {
   "cell_type": "markdown",
   "metadata": {
    "id": "RVl-Y8SrZ2LT"
   },
   "source": [
    "Podemos ver que desde 1996 hasta el 2006 ha habido una subida y bajada en la cantidad de juegos que han sido vendidos. Son dos décadas de unidades vendidas en las que podemos ver que del periodo 2005-2011 hubo mayores ventas que los años anteriores y posteriores."
   ]
  },
  {
   "cell_type": "code",
   "execution_count": 23,
   "metadata": {
    "colab": {
     "base_uri": "https://localhost:8080/",
     "height": 530
    },
    "id": "wvdCat_-RqcB",
    "outputId": "293d7ef2-bf28-48c4-e6c2-5b296a15809a"
   },
   "outputs": [
    {
     "data": {
      "text/plain": [
       "<AxesSubplot:xlabel='platform'>"
      ]
     },
     "execution_count": 23,
     "metadata": {},
     "output_type": "execute_result"
    },
    {
     "data": {
      "image/png": "[encoded data removed]",
      "text/plain": [
       "<Figure size 1080x576 with 1 Axes>"
      ]
     },
     "metadata": {
      "needs_background": "light"
     },
     "output_type": "display_data"
    }
   ],
   "source": [
    "profit_by_platforms = games.pivot_table(index='platform', values='total_profit', aggfunc='sum')\n",
    "profit_by_platforms.sort_values(by = 'total_profit', ascending = False, inplace = True)  \n",
    "profit_by_platforms.plot(kind='bar', figsize=(15, 8), color='#9146FF')"
   ]
  },
  {
   "cell_type": "markdown",
   "metadata": {
    "id": "hY6Q0CWsxZ1w"
   },
   "source": [
    "Ahora vemos que las plataformas más populares son PS2, X360, PS3, Wii y DS conformado el top 5 de las ventas totales independientemente del valor del año. Vamos a analizar sus ventas de estas 5 plataformas más populares através del tiempo."
   ]
  },
  {
   "cell_type": "code",
   "execution_count": 24,
   "metadata": {
    "colab": {
     "base_uri": "https://localhost:8080/",
     "height": 352
    },
    "id": "9VqESK15wwWU",
    "outputId": "a36cf69c-c542-4c9f-ddaf-2aa90cfee4ff"
   },
   "outputs": [
    {
     "data": {
      "text/plain": [
       "<AxesSubplot:xlabel='year_of_release'>"
      ]
     },
     "execution_count": 24,
     "metadata": {},
     "output_type": "execute_result"
    },
    {
     "data": {
      "image/png": "[encoded data removed]",
      "text/plain": [
       "<Figure size 720x360 with 1 Axes>"
      ]
     },
     "metadata": {
      "needs_background": "light"
     },
     "output_type": "display_data"
    }
   ],
   "source": [
    "profit_by_year = games.query('year_of_release != 0 & platform == (\"PS2\", \"X360\", \"PS3\", \"Wii\", \"DS\")').pivot_table(index='year_of_release', columns= 'platform', values='total_profit', aggfunc='sum')\n",
    "profit_by_year.plot(kind='line', figsize=(10, 5))"
   ]
  },
  {
   "cell_type": "markdown",
   "metadata": {
    "id": "g8loA_pX3Ttr"
   },
   "source": [
    "En 2005 la plataforma PS2 tuvo una caída en las ventas, mientras que las otras plataformas comenzaban a subir las suyas al rededor de ese mismo. Ahora vmaos a analizar como ha cambiado la popularidad de las plataformas a través de los años de acuerdo con la suma total de la columna `total_profit` para cada una de ellas. "
   ]
  },
  {
   "cell_type": "code",
   "execution_count": 25,
   "metadata": {
    "colab": {
     "base_uri": "https://localhost:8080/",
     "height": 367
    },
    "id": "geKIWNRz8DOE",
    "outputId": "390fee79-b806-4b5f-9a0a-79259c237ca7"
   },
   "outputs": [
    {
     "data": {
      "text/plain": [
       "<AxesSubplot:xlabel='platform'>"
      ]
     },
     "execution_count": 25,
     "metadata": {},
     "output_type": "execute_result"
    },
    {
     "data": {
      "image/png": "[encoded data removed]",
      "text/plain": [
       "<Figure size 720x360 with 1 Axes>"
      ]
     },
     "metadata": {
      "needs_background": "light"
     },
     "output_type": "display_data"
    }
   ],
   "source": [
    "new_top_sales = games.query('year_of_release >= 2015').pivot_table(index='platform', values='total_profit', aggfunc='sum').sort_values(by='total_profit', ascending=False).head(5)\n",
    "new_top_sales.plot(kind='bar', figsize=(10, 5), color='#9146FF') #Las 5 plataformas más populares a partir del 2015 en adelante."
   ]
  },
  {
   "cell_type": "code",
   "execution_count": 26,
   "metadata": {
    "colab": {
     "base_uri": "https://localhost:8080/",
     "height": 366
    },
    "id": "pRVxIJii6G1E",
    "outputId": "97160975-6b7b-4d01-d1ec-884945c01039"
   },
   "outputs": [
    {
     "data": {
      "text/plain": [
       "<AxesSubplot:xlabel='platform'>"
      ]
     },
     "execution_count": 26,
     "metadata": {},
     "output_type": "execute_result"
    },
    {
     "data": {
      "image/png": "[encoded data removed]",
      "text/plain": [
       "<Figure size 720x360 with 1 Axes>"
      ]
     },
     "metadata": {
      "needs_background": "light"
     },
     "output_type": "display_data"
    }
   ],
   "source": [
    "old_top_sales = games.query('year_of_release <= 2015').pivot_table(index='platform', values='total_profit', aggfunc='sum').sort_values(by='total_profit', ascending=False).head(5)\n",
    "old_top_sales.plot(kind='bar', figsize=(10, 5), color='#9146FF') #Las 5 plataformas más populares antes del 2015."
   ]
  },
  {
   "cell_type": "markdown",
   "metadata": {
    "id": "ae-J9Ptg23Bx"
   },
   "source": [
    "Con estos resultados podemos observar que las distintas plataformas han logrado mantener popularidad en el mercado gracias a la evolución las consolas através del tiempo. PlayStation, Xbox y Nintendo (Wii y DS) son las plataformas más populares, siendo las versiones más actualizadas de cada una las que van obteniendo popularidad conforme las versiones antiguas van pasando de moda. Ahora vamos a determinar el tiempo de vida promedio que tienen las plataformas de videojuegos desde que son lanzadas al mercado hasta que pierden popularidad y surgen las nuevas versiones. Esto lo haremos restando el año mínimo de la plataforma (primr año de ventas) del máximo (último año de ventas)."
   ]
  },
  {
   "cell_type": "code",
   "execution_count": 27,
   "metadata": {
    "colab": {
     "base_uri": "https://localhost:8080/"
    },
    "id": "aR1usg4lqN4D",
    "outputId": "fc5d6462-5d1a-434d-dc7f-41268171dce0"
   },
   "outputs": [
    {
     "name": "stdout",
     "output_type": "stream",
     "text": [
      "Las plataformas tienen un promedio general de vida de 8 años\n"
     ]
    }
   ],
   "source": [
    "years_mean = (games.query('year_of_release != 0').groupby('platform')['year_of_release'].max() - games.query('year_of_release != 0').groupby('platform')['year_of_release'].min()).mean()\n",
    "print('Las plataformas tienen un promedio general de vida de {:0.0f} años'.format(years_mean))"
   ]
  },
  {
   "cell_type": "markdown",
   "metadata": {
    "id": "kem5IcYRB5G1"
   },
   "source": [
    "Como hemos visto, las plataformas tienen un tiempo de vida de 8 años aproximadamente, lo que quiere decir que para el forecast de ventas del año 2017 vamos a tomar datos que comiencen desde 2013 para elegir las plataformas más populares/rentables para la campaña del próximo año."
   ]
  },
  {
   "cell_type": "code",
   "execution_count": 28,
   "metadata": {
    "colab": {
     "base_uri": "https://localhost:8080/",
     "height": 352
    },
    "id": "QsgoF7YJ-NC5",
    "outputId": "e4a4b81d-9bb7-415b-fb96-6e6ad0600435"
   },
   "outputs": [
    {
     "data": {
      "text/plain": [
       "<AxesSubplot:xlabel='year_of_release'>"
      ]
     },
     "execution_count": 28,
     "metadata": {},
     "output_type": "execute_result"
    },
    {
     "data": {
      "image/png": "[encoded data removed]",
      "text/plain": [
       "<Figure size 720x360 with 1 Axes>"
      ]
     },
     "metadata": {
      "needs_background": "light"
     },
     "output_type": "display_data"
    }
   ],
   "source": [
    "bench_platforms = games.query('year_of_release >= 2013').pivot_table(index='year_of_release', columns= 'platform', values='total_profit', aggfunc='sum')\n",
    "bench_platforms.plot(kind='line', figsize=(10, 5))"
   ]
  },
  {
   "cell_type": "markdown",
   "metadata": {
    "id": "2fPFJioDD5T2"
   },
   "source": [
    "Hay algunas plataformas que desde el 2013 podrían estar already en su etapa de declive en la popularidad como lo podemos ver en la grafica de arriba, podemos ver que de los años anteriores algunas plataformas van en descenso. Algunas otras no lograron ascneder significativamente en ventas y tenemos las más recientes que están aumentando en las ventas de videjuegos que tienen. Podemos ver en la tabla de abajo cuáles son las plataformas que actualmente son líderes en ventas. Hay que tomar en cuenta que algunos datos del 2016 podrían no estar completamente registrados y las ventas sean mayores de lo que se puede observar para ese año.\n",
    "\n",
    "**Las plataformas con mayor rentabilidad de acuerdo con las gráfica de líneas serían `PS4` y `XOne`.**"
   ]
  },
  {
   "cell_type": "code",
   "execution_count": 29,
   "metadata": {
    "colab": {
     "base_uri": "https://localhost:8080/",
     "height": 664
    },
    "id": "XbcyI0g7D0lD",
    "outputId": "29e08066-c6d3-47a2-c54e-5785ff8813d6"
   },
   "outputs": [
    {
     "data": {
      "text/plain": [
       "<AxesSubplot:>"
      ]
     },
     "execution_count": 29,
     "metadata": {},
     "output_type": "execute_result"
    },
    {
     "data": {
      "image/png": "[encoded data removed]",
      "text/plain": [
       "<Figure size 1440x720 with 1 Axes>"
      ]
     },
     "metadata": {
      "needs_background": "light"
     },
     "output_type": "display_data"
    }
   ],
   "source": [
    "choosen_games = games.query('year_of_release >=2013 & year_of_release != 0')\n",
    "choosen_games.pivot_table(index='year_of_release', columns= 'platform', values='total_profit', aggfunc='sum').boxplot(figsize=(20,10))"
   ]
  },
  {
   "cell_type": "markdown",
   "metadata": {
    "id": "pn8IVwsRJPnT"
   },
   "source": [
    "En esta gráfica de cajas podemos ver que los valores medios en ventas por plataforma a partir del año 2013 que tomamons como referencia de tiempo promedio de vida de una consola desde el 2016 en retroceso, lucen muy diferentes de cada una, eso puede ser debido a que cada plataforma durante este periodo de tiempo 2013-2016 está en momentos de su ciclo de vida y por ende tienen todas una media distinta. También podemos ver con mayor facilidad que las ventas para PS4 y XOne son las más altas dentro de las paltaformas de este grupo."
   ]
  },
  {
   "cell_type": "markdown",
   "metadata": {
    "id": "mPeiz6AwQ2iV"
   },
   "source": [
    "**Correlación:** En esta sección vamos a observar cómo las reseñas de usuarios y profesionales afectan las ventas de una plataforma popular con un gráfico de dispersión y en donde se calcule correlación entre las reseñas y las ventas."
   ]
  },
  {
   "cell_type": "code",
   "execution_count": 30,
   "metadata": {
    "colab": {
     "base_uri": "https://localhost:8080/",
     "height": 460
    },
    "id": "QIfOT7ePI9QJ",
    "outputId": "b7a6830d-25bd-4d06-83a0-c559a9b9e069"
   },
   "outputs": [
    {
     "data": {
      "text/plain": [
       "<AxesSubplot:xlabel='total_profit', ylabel='critic_score'>"
      ]
     },
     "execution_count": 30,
     "metadata": {},
     "output_type": "execute_result"
    },
    {
     "data": {
      "image/png": "[encoded data removed]",
      "text/plain": [
       "<Figure size 720x504 with 1 Axes>"
      ]
     },
     "metadata": {
      "needs_background": "light"
     },
     "output_type": "display_data"
    }
   ],
   "source": [
    "choosen_games.query('platform == \"PS3\" & critic_score != 0').plot(kind='scatter', x='total_profit', y='critic_score', grid=True, figsize=(10,7), alpha=0.3)"
   ]
  },
  {
   "cell_type": "code",
   "execution_count": 31,
   "metadata": {
    "colab": {
     "base_uri": "https://localhost:8080/",
     "height": 460
    },
    "id": "py0HiJQMO-0W",
    "outputId": "e893b962-d38f-4c27-f148-9328e07edbff"
   },
   "outputs": [
    {
     "data": {
      "text/plain": [
       "<AxesSubplot:xlabel='total_profit', ylabel='user_score'>"
      ]
     },
     "execution_count": 31,
     "metadata": {},
     "output_type": "execute_result"
    },
    {
     "data": {
      "image/png": "[encoded data removed]",
      "text/plain": [
       "<Figure size 720x504 with 1 Axes>"
      ]
     },
     "metadata": {
      "needs_background": "light"
     },
     "output_type": "display_data"
    }
   ],
   "source": [
    "choosen_games.query('platform == \"PS3\" & user_score != 0').plot(kind='scatter', x='total_profit', y='user_score', grid=True, figsize=(10,7), alpha=0.3)"
   ]
  },
  {
   "cell_type": "code",
   "execution_count": 32,
   "metadata": {
    "colab": {
     "base_uri": "https://localhost:8080/"
    },
    "id": "NAb2iqQmTNvv",
    "outputId": "56526b0c-93e0-4136-8fdc-38e318401489"
   },
   "outputs": [
    {
     "data": {
      "text/plain": [
       "critic_score   NaN\n",
       "user_score     NaN\n",
       "Name: total_profit, dtype: float64"
      ]
     },
     "execution_count": 32,
     "metadata": {},
     "output_type": "execute_result"
    }
   ],
   "source": [
    "corr_work = choosen_games.query('platform == \"PS4, \" & critic_score != 0 & user_score != 0').corr()['total_profit']\n",
    "corr_work[['critic_score','user_score']]"
   ]
  },
  {
   "cell_type": "markdown",
   "metadata": {
    "id": "WqrJi42JVdRI"
   },
   "source": [
    "Aquí podemos ver las gráficas de dispersión de la correlación entre la plataforma PS4 que es la plataforma seleccionada por su capacidad de rentabilidad. Se está relacionando la cantidad de ventas totales por región y se puede observar en los resultados que ni el valor de las reviews de usuarios y expertos impacta las ventas significativamente. Abajo podemos ver que la correlación no es muy alta para las demás plataformas que fueron seleccionadas desde el 2009."
   ]
  },
  {
   "cell_type": "code",
   "execution_count": 33,
   "metadata": {
    "colab": {
     "base_uri": "https://localhost:8080/",
     "height": 457
    },
    "id": "YVi8uW6psVsQ",
    "outputId": "8e1fca8a-b92f-4443-8485-9f6d5684405e"
   },
   "outputs": [
    {
     "data": {
      "text/html": [
       "<div>\n",
       "<style scoped>\n",
       "    .dataframe tbody tr th:only-of-type {\n",
       "        vertical-align: middle;\n",
       "    }\n",
       "\n",
       "    .dataframe tbody tr th {\n",
       "        vertical-align: top;\n",
       "    }\n",
       "\n",
       "    .dataframe thead th {\n",
       "        text-align: right;\n",
       "    }\n",
       "</style>\n",
       "<table border=\"1\" class=\"dataframe\">\n",
       "  <thead>\n",
       "    <tr style=\"text-align: right;\">\n",
       "      <th></th>\n",
       "      <th>user_score</th>\n",
       "      <th>critic_score</th>\n",
       "    </tr>\n",
       "    <tr>\n",
       "      <th>platform</th>\n",
       "      <th></th>\n",
       "      <th></th>\n",
       "    </tr>\n",
       "  </thead>\n",
       "  <tbody>\n",
       "    <tr>\n",
       "      <th>3DS</th>\n",
       "      <td>0.272276</td>\n",
       "      <td>0.048972</td>\n",
       "    </tr>\n",
       "    <tr>\n",
       "      <th>DS</th>\n",
       "      <td>-0.672927</td>\n",
       "      <td>-0.020919</td>\n",
       "    </tr>\n",
       "    <tr>\n",
       "      <th>PC</th>\n",
       "      <td>-0.101889</td>\n",
       "      <td>0.198521</td>\n",
       "    </tr>\n",
       "    <tr>\n",
       "      <th>PS3</th>\n",
       "      <td>0.003173</td>\n",
       "      <td>0.269092</td>\n",
       "    </tr>\n",
       "    <tr>\n",
       "      <th>PS4</th>\n",
       "      <td>-0.023137</td>\n",
       "      <td>0.220342</td>\n",
       "    </tr>\n",
       "    <tr>\n",
       "      <th>PSP</th>\n",
       "      <td>-0.260383</td>\n",
       "      <td>0.523782</td>\n",
       "    </tr>\n",
       "    <tr>\n",
       "      <th>PSV</th>\n",
       "      <td>0.034377</td>\n",
       "      <td>0.352620</td>\n",
       "    </tr>\n",
       "    <tr>\n",
       "      <th>Wii</th>\n",
       "      <td>0.314703</td>\n",
       "      <td>0.522629</td>\n",
       "    </tr>\n",
       "    <tr>\n",
       "      <th>WiiU</th>\n",
       "      <td>0.389599</td>\n",
       "      <td>0.255605</td>\n",
       "    </tr>\n",
       "    <tr>\n",
       "      <th>X360</th>\n",
       "      <td>-0.014313</td>\n",
       "      <td>0.197024</td>\n",
       "    </tr>\n",
       "    <tr>\n",
       "      <th>XOne</th>\n",
       "      <td>-0.102383</td>\n",
       "      <td>0.197033</td>\n",
       "    </tr>\n",
       "  </tbody>\n",
       "</table>\n",
       "</div>"
      ],
      "text/plain": [
       "          user_score  critic_score\n",
       "platform                          \n",
       "3DS         0.272276      0.048972\n",
       "DS         -0.672927     -0.020919\n",
       "PC         -0.101889      0.198521\n",
       "PS3         0.003173      0.269092\n",
       "PS4        -0.023137      0.220342\n",
       "PSP        -0.260383      0.523782\n",
       "PSV         0.034377      0.352620\n",
       "Wii         0.314703      0.522629\n",
       "WiiU        0.389599      0.255605\n",
       "X360       -0.014313      0.197024\n",
       "XOne       -0.102383      0.197033"
      ]
     },
     "execution_count": 33,
     "metadata": {},
     "output_type": "execute_result"
    }
   ],
   "source": [
    "correlations_user = choosen_games[['platform', 'total_profit', 'user_score']]\n",
    "correlations_user.reset_index(drop=True)\n",
    "correlations_user = correlations_user.groupby('platform')['user_score'].corr(choosen_games['total_profit'])\n",
    "correlations_critic = choosen_games[['platform', 'total_profit', 'critic_score']]\n",
    "correlations_critic.reset_index(drop=True)\n",
    "correlations_critic = correlations_critic.groupby('platform')['critic_score'].corr(choosen_games['total_profit'])\n",
    "correlations = pd.merge(correlations_user,\n",
    "                 correlations_critic,\n",
    "                 on='platform', \n",
    "                 how='right')\n",
    "correlations"
   ]
  },
  {
   "cell_type": "markdown",
   "metadata": {
    "id": "labEdUHV3sEz"
   },
   "source": [
    "Ahora vamos a revisar los mismos juegos desde ese periodo, pero de acuerdo con su conteo de total ventas de acuerdo con el género del videojuego al que pertenecen."
   ]
  },
  {
   "cell_type": "code",
   "execution_count": 34,
   "metadata": {
    "colab": {
     "base_uri": "https://localhost:8080/",
     "height": 527
    },
    "id": "5z7g3-kj3q98",
    "outputId": "54159dee-17ee-4402-cf14-96f0d5f463ae"
   },
   "outputs": [
    {
     "data": {
      "text/plain": [
       "Text(0.5, 1.0, 'Distribución de videojuegos por Género: Unidades vendidas y Ganancias')"
      ]
     },
     "execution_count": 34,
     "metadata": {},
     "output_type": "execute_result"
    },
    {
     "data": {
      "image/png": "[encoded data removed]",
      "text/plain": [
       "<Figure size 864x504 with 1 Axes>"
      ]
     },
     "metadata": {
      "needs_background": "light"
     },
     "output_type": "display_data"
    }
   ],
   "source": [
    "genre_count = choosen_games.pivot_table(index = 'genre', values = 'name', aggfunc = 'count') # Número de juegos lanzados\n",
    "genre_profit = choosen_games.pivot_table(index = 'genre', values = 'total_profit', aggfunc = 'sum') # Ventas totales\n",
    "genre_info = pd.merge(genre_count,\n",
    "                 genre_profit,\n",
    "                 on='genre', \n",
    "                 how='right')\n",
    "genre_info.sort_values(by='total_profit', ascending=True).plot(kind='bar', figsize=(12, 7))\n",
    "plt.title('Distribución de videojuegos por Género: Unidades vendidas y Ganancias')"
   ]
  },
  {
   "cell_type": "code",
   "execution_count": 35,
   "metadata": {
    "colab": {
     "base_uri": "https://localhost:8080/",
     "height": 457
    },
    "id": "jeKGIco-zb1F",
    "outputId": "295b45bd-72b1-44b3-bd97-bfde296322d4"
   },
   "outputs": [
    {
     "data": {
      "text/html": [
       "<div>\n",
       "<style scoped>\n",
       "    .dataframe tbody tr th:only-of-type {\n",
       "        vertical-align: middle;\n",
       "    }\n",
       "\n",
       "    .dataframe tbody tr th {\n",
       "        vertical-align: top;\n",
       "    }\n",
       "\n",
       "    .dataframe thead th {\n",
       "        text-align: right;\n",
       "    }\n",
       "</style>\n",
       "<table border=\"1\" class=\"dataframe\">\n",
       "  <thead>\n",
       "    <tr style=\"text-align: right;\">\n",
       "      <th></th>\n",
       "      <th>name</th>\n",
       "      <th>total_profit</th>\n",
       "    </tr>\n",
       "    <tr>\n",
       "      <th>genre</th>\n",
       "      <th></th>\n",
       "      <th></th>\n",
       "    </tr>\n",
       "  </thead>\n",
       "  <tbody>\n",
       "    <tr>\n",
       "      <th>Action</th>\n",
       "      <td>769</td>\n",
       "      <td>322.50</td>\n",
       "    </tr>\n",
       "    <tr>\n",
       "      <th>Shooter</th>\n",
       "      <td>187</td>\n",
       "      <td>232.98</td>\n",
       "    </tr>\n",
       "    <tr>\n",
       "      <th>Sports</th>\n",
       "      <td>214</td>\n",
       "      <td>150.65</td>\n",
       "    </tr>\n",
       "    <tr>\n",
       "      <th>Role-Playing</th>\n",
       "      <td>292</td>\n",
       "      <td>145.89</td>\n",
       "    </tr>\n",
       "    <tr>\n",
       "      <th>Misc</th>\n",
       "      <td>156</td>\n",
       "      <td>63.06</td>\n",
       "    </tr>\n",
       "    <tr>\n",
       "      <th>Platform</th>\n",
       "      <td>74</td>\n",
       "      <td>42.63</td>\n",
       "    </tr>\n",
       "    <tr>\n",
       "      <th>Racing</th>\n",
       "      <td>85</td>\n",
       "      <td>39.89</td>\n",
       "    </tr>\n",
       "    <tr>\n",
       "      <th>Fighting</th>\n",
       "      <td>80</td>\n",
       "      <td>35.31</td>\n",
       "    </tr>\n",
       "    <tr>\n",
       "      <th>Adventure</th>\n",
       "      <td>245</td>\n",
       "      <td>23.64</td>\n",
       "    </tr>\n",
       "    <tr>\n",
       "      <th>Simulation</th>\n",
       "      <td>62</td>\n",
       "      <td>21.76</td>\n",
       "    </tr>\n",
       "    <tr>\n",
       "      <th>Strategy</th>\n",
       "      <td>56</td>\n",
       "      <td>10.08</td>\n",
       "    </tr>\n",
       "    <tr>\n",
       "      <th>Puzzle</th>\n",
       "      <td>17</td>\n",
       "      <td>3.17</td>\n",
       "    </tr>\n",
       "  </tbody>\n",
       "</table>\n",
       "</div>"
      ],
      "text/plain": [
       "              name  total_profit\n",
       "genre                           \n",
       "Action         769        322.50\n",
       "Shooter        187        232.98\n",
       "Sports         214        150.65\n",
       "Role-Playing   292        145.89\n",
       "Misc           156         63.06\n",
       "Platform        74         42.63\n",
       "Racing          85         39.89\n",
       "Fighting        80         35.31\n",
       "Adventure      245         23.64\n",
       "Simulation      62         21.76\n",
       "Strategy        56         10.08\n",
       "Puzzle          17          3.17"
      ]
     },
     "execution_count": 35,
     "metadata": {},
     "output_type": "execute_result"
    }
   ],
   "source": [
    "genre_info.sort_values(by='total_profit', ascending=False)"
   ]
  },
  {
   "cell_type": "markdown",
   "metadata": {
    "id": "oNmRGG6y5y6Y"
   },
   "source": [
    "Después de este breve análisis sobre los géneros de videojuegos podemos observar que aquellos que estpand entro de la categoría de Action, Shooter y Sports son los más populares con mayor número de ventas, siendo estos los más probables a tener una buena rentabilidad para los proximos años. Mientras que Puzzle, Strategy y Simulation son los que tienen menos ventas desde el 2009."
   ]
  },
  {
   "cell_type": "markdown",
   "metadata": {
    "id": "Kw7rZefy8u3w"
   },
   "source": [
    "## **Paso 4. Perfil para cada región.**\n",
    "\n",
    "En esta sección vamos a determinar las cinco plataformas principales, describiendo las variaciones en sus cuotas de mercado de una región a otra,\n",
    "los cinco géneros principales y explicaremos si las clasificaciones de ESRB afectan a las ventas en regiones individuales."
   ]
  },
  {
   "cell_type": "markdown",
   "metadata": {
    "id": "F0eT_emiAeiy"
   },
   "source": [
    "### Norteamérica"
   ]
  },
  {
   "cell_type": "code",
   "execution_count": 36,
   "metadata": {
    "colab": {
     "base_uri": "https://localhost:8080/"
    },
    "id": "DQfYJXDN1Pk0",
    "outputId": "aac965c9-7f82-4405-9276-b77f5fc150f0"
   },
   "outputs": [
    {
     "data": {
      "text/plain": [
       "platform\n",
       "PS4     30.237887\n",
       "PS3     16.824176\n",
       "XOne    15.636217\n",
       "X360    13.422561\n",
       "3DS     11.052544\n",
       "Name: share_profit, dtype: float64"
      ]
     },
     "execution_count": 36,
     "metadata": {},
     "output_type": "execute_result"
    }
   ],
   "source": [
    "choosen_plat_na = choosen_games.query('na_sales != 0')\n",
    "choosen_plat_na = (choosen_plat_na.pivot_table(index = 'platform', \n",
    "                                     values = 'total_profit', \n",
    "                                     aggfunc = 'sum')\n",
    "                             .sort_values(by = 'total_profit', \n",
    "                              ascending = False)                                \n",
    "              )\n",
    "total_profit_na = choosen_plat_na['total_profit'].sum()\n",
    "choosen_plat_na['share_profit'] = choosen_plat_na['total_profit'] / total_profit_na * 100\n",
    "choosen_plat_na['share_profit'].head() # Estas son las 5 plataformas principales en ventas para la región de Norteamérica"
   ]
  },
  {
   "cell_type": "code",
   "execution_count": 37,
   "metadata": {
    "colab": {
     "base_uri": "https://localhost:8080/"
    },
    "id": "uCUv0P-S_hpx",
    "outputId": "6b46bf9f-e9a7-4f3e-b22a-f8ab8d88527b"
   },
   "outputs": [
    {
     "data": {
      "text/plain": [
       "genre\n",
       "Action          31.714968\n",
       "Shooter         22.911483\n",
       "Sports          14.815070\n",
       "Role-Playing    14.346967\n",
       "Misc             6.201383\n",
       "Name: share_profit, dtype: float64"
      ]
     },
     "execution_count": 37,
     "metadata": {},
     "output_type": "execute_result"
    }
   ],
   "source": [
    "choosen_genre_na = (choosen_games.pivot_table(index = 'genre', \n",
    "                                   values = 'total_profit', \n",
    "                                   aggfunc = 'sum' )\n",
    "                         .sort_values(by = 'total_profit', \n",
    "                          ascending = False)                                \n",
    "                    )\n",
    "\n",
    "choosen_genre_na['share_profit'] = choosen_genre_na['total_profit'] / total_profit_na * 100\n",
    "choosen_genre_na['share_profit'].head(5) # Los 5 géneros más popoulares en NA."
   ]
  },
  {
   "cell_type": "markdown",
   "metadata": {
    "id": "j_psWtB8CpOs"
   },
   "source": [
    "### Europa"
   ]
  },
  {
   "cell_type": "code",
   "execution_count": 38,
   "metadata": {
    "colab": {
     "base_uri": "https://localhost:8080/"
    },
    "id": "ybGIDng-CvWh",
    "outputId": "991e82f2-9506-4f4c-9aff-292ad04f4ce4"
   },
   "outputs": [
    {
     "data": {
      "text/plain": [
       "platform\n",
       "PS4     30.157574\n",
       "PS3     16.579235\n",
       "XOne    15.615681\n",
       "X360    13.227956\n",
       "3DS     10.832357\n",
       "Name: share_profit, dtype: float64"
      ]
     },
     "execution_count": 38,
     "metadata": {},
     "output_type": "execute_result"
    }
   ],
   "source": [
    "choosen_plat_eu = choosen_games.query('eu_sales != 0')\n",
    "choosen_plat_eu = (choosen_plat_eu.pivot_table(index = 'platform', \n",
    "                                     values = 'total_profit', \n",
    "                                     aggfunc = 'sum')\n",
    "                             .sort_values(by = 'total_profit', \n",
    "                              ascending = False)                                \n",
    "              )\n",
    "total_profit_eu = choosen_plat_eu['total_profit'].sum()\n",
    "choosen_plat_eu['share_profit'] = choosen_plat_eu['total_profit'] / total_profit_eu * 100\n",
    "choosen_plat_eu['share_profit'].head()"
   ]
  },
  {
   "cell_type": "code",
   "execution_count": 39,
   "metadata": {
    "colab": {
     "base_uri": "https://localhost:8080/"
    },
    "id": "8EEoCQ4_CviL",
    "outputId": "f91c8bc3-0566-4bb9-be04-a5e94f2ee90c"
   },
   "outputs": [
    {
     "data": {
      "text/plain": [
       "genre\n",
       "Action          31.714968\n",
       "Shooter         22.911483\n",
       "Sports          14.815070\n",
       "Role-Playing    14.346967\n",
       "Misc             6.201383\n",
       "Name: share_profit, dtype: float64"
      ]
     },
     "execution_count": 39,
     "metadata": {},
     "output_type": "execute_result"
    }
   ],
   "source": [
    "choosen_genre_eu = (choosen_games.pivot_table(index = 'genre', \n",
    "                                   values = 'total_profit', \n",
    "                                   aggfunc = 'sum' )\n",
    "                         .sort_values(by = 'total_profit', \n",
    "                          ascending = False)                                \n",
    "                    )\n",
    "\n",
    "choosen_genre_eu['share_profit'] = choosen_genre_eu['total_profit'] / total_profit_na * 100\n",
    "choosen_genre_eu['share_profit'].head()"
   ]
  },
  {
   "cell_type": "markdown",
   "metadata": {
    "id": "D2w6zst3CtSI"
   },
   "source": [
    "### Japón"
   ]
  },
  {
   "cell_type": "code",
   "execution_count": 40,
   "metadata": {
    "colab": {
     "base_uri": "https://localhost:8080/"
    },
    "id": "uS8jRz9-A-SP",
    "outputId": "ec7c1339-ed7d-4867-caf5-af870c013608"
   },
   "outputs": [
    {
     "data": {
      "text/plain": [
       "platform\n",
       "PS4     35.652654\n",
       "PS3     19.428179\n",
       "3DS     18.318997\n",
       "X360     8.647310\n",
       "WiiU     7.223142\n",
       "Name: share_profit, dtype: float64"
      ]
     },
     "execution_count": 40,
     "metadata": {},
     "output_type": "execute_result"
    }
   ],
   "source": [
    "choosen_plat_jp = choosen_games.query('jp_sales != 0')\n",
    "choosen_plat_jp = (choosen_plat_jp.pivot_table(index = 'platform', \n",
    "                                     values = 'total_profit', \n",
    "                                     aggfunc = 'sum')\n",
    "                             .sort_values(by = 'total_profit', \n",
    "                              ascending = False)                                \n",
    "              )\n",
    "total_profit_jp = choosen_plat_jp['total_profit'].sum()\n",
    "choosen_plat_jp['share_profit'] = choosen_plat_jp['total_profit'] / total_profit_jp * 100\n",
    "choosen_plat_jp['share_profit'].head()"
   ]
  },
  {
   "cell_type": "code",
   "execution_count": 41,
   "metadata": {
    "colab": {
     "base_uri": "https://localhost:8080/"
    },
    "id": "UTfpGOMWCwJQ",
    "outputId": "14e83936-a980-4ef3-eeb6-c1ac68d61708"
   },
   "outputs": [
    {
     "data": {
      "text/plain": [
       "genre\n",
       "Action          43.411541\n",
       "Shooter         31.361305\n",
       "Sports          20.278911\n",
       "Role-Playing    19.638170\n",
       "Misc             8.488471\n",
       "Name: share_profit, dtype: float64"
      ]
     },
     "execution_count": 41,
     "metadata": {},
     "output_type": "execute_result"
    }
   ],
   "source": [
    "choosen_genre_jp = (choosen_games.pivot_table(index = 'genre', \n",
    "                                   values = 'total_profit', \n",
    "                                   aggfunc = 'sum' )\n",
    "                         .sort_values(by = 'total_profit', \n",
    "                          ascending = False)                                \n",
    "                    )\n",
    "\n",
    "choosen_genre_jp['share_profit'] = choosen_genre_jp['total_profit'] / total_profit_jp * 100\n",
    "choosen_genre_jp['share_profit'].head()"
   ]
  },
  {
   "cell_type": "markdown",
   "metadata": {
    "id": "AAXLbAFjGt4K"
   },
   "source": [
    "Para Norteamérica podemos observar que las plataformas más populares cueron PS3, X360, Wii, PS4 y 3DS, y los géneros más populares son Action, Shooter, Sports, Role-PLaying y Misc respectivamente. Tanto en Europa como en Japón las plataformas y los géneros son igualmente populares, con la única diferencia de que Wii en Japón es la menos popular contra la 3DS y PS4.\n",
    "\n",
    "Ahora vamos a analizar como es que el rating ESRB afecta las ventas individuales por región."
   ]
  },
  {
   "cell_type": "code",
   "execution_count": 42,
   "metadata": {
    "colab": {
     "base_uri": "https://localhost:8080/",
     "height": 457
    },
    "id": "mM0HR989ElcO",
    "outputId": "e1e9bf6f-3d25-41a1-f4f8-9ba485fc6194"
   },
   "outputs": [
    {
     "data": {
      "text/html": [
       "<div>\n",
       "<style scoped>\n",
       "    .dataframe tbody tr th:only-of-type {\n",
       "        vertical-align: middle;\n",
       "    }\n",
       "\n",
       "    .dataframe tbody tr th {\n",
       "        vertical-align: top;\n",
       "    }\n",
       "\n",
       "    .dataframe thead th {\n",
       "        text-align: right;\n",
       "    }\n",
       "</style>\n",
       "<table border=\"1\" class=\"dataframe\">\n",
       "  <thead>\n",
       "    <tr style=\"text-align: right;\">\n",
       "      <th></th>\n",
       "      <th>rating_id_x</th>\n",
       "      <th>rating_id_y</th>\n",
       "      <th>rating_id</th>\n",
       "    </tr>\n",
       "    <tr>\n",
       "      <th>platform</th>\n",
       "      <th></th>\n",
       "      <th></th>\n",
       "      <th></th>\n",
       "    </tr>\n",
       "  </thead>\n",
       "  <tbody>\n",
       "    <tr>\n",
       "      <th>3DS</th>\n",
       "      <td>0.009035</td>\n",
       "      <td>0.009085</td>\n",
       "      <td>-0.127996</td>\n",
       "    </tr>\n",
       "    <tr>\n",
       "      <th>DS</th>\n",
       "      <td>0.124916</td>\n",
       "      <td>-0.272260</td>\n",
       "      <td>NaN</td>\n",
       "    </tr>\n",
       "    <tr>\n",
       "      <th>PC</th>\n",
       "      <td>0.245651</td>\n",
       "      <td>0.150118</td>\n",
       "      <td>NaN</td>\n",
       "    </tr>\n",
       "    <tr>\n",
       "      <th>PS3</th>\n",
       "      <td>0.192934</td>\n",
       "      <td>0.159477</td>\n",
       "      <td>-0.004286</td>\n",
       "    </tr>\n",
       "    <tr>\n",
       "      <th>PS4</th>\n",
       "      <td>0.115980</td>\n",
       "      <td>0.099962</td>\n",
       "      <td>-0.033589</td>\n",
       "    </tr>\n",
       "    <tr>\n",
       "      <th>PSP</th>\n",
       "      <td>NaN</td>\n",
       "      <td>0.206341</td>\n",
       "      <td>0.454649</td>\n",
       "    </tr>\n",
       "    <tr>\n",
       "      <th>PSV</th>\n",
       "      <td>0.373469</td>\n",
       "      <td>0.314013</td>\n",
       "      <td>0.047858</td>\n",
       "    </tr>\n",
       "    <tr>\n",
       "      <th>Wii</th>\n",
       "      <td>0.614375</td>\n",
       "      <td>0.611486</td>\n",
       "      <td>-0.280611</td>\n",
       "    </tr>\n",
       "    <tr>\n",
       "      <th>WiiU</th>\n",
       "      <td>-0.054234</td>\n",
       "      <td>-0.006862</td>\n",
       "      <td>-0.134475</td>\n",
       "    </tr>\n",
       "    <tr>\n",
       "      <th>X360</th>\n",
       "      <td>0.046885</td>\n",
       "      <td>0.054254</td>\n",
       "      <td>0.110279</td>\n",
       "    </tr>\n",
       "    <tr>\n",
       "      <th>XOne</th>\n",
       "      <td>0.081068</td>\n",
       "      <td>0.031263</td>\n",
       "      <td>0.060889</td>\n",
       "    </tr>\n",
       "  </tbody>\n",
       "</table>\n",
       "</div>"
      ],
      "text/plain": [
       "          rating_id_x  rating_id_y  rating_id\n",
       "platform                                     \n",
       "3DS          0.009035     0.009085  -0.127996\n",
       "DS           0.124916    -0.272260        NaN\n",
       "PC           0.245651     0.150118        NaN\n",
       "PS3          0.192934     0.159477  -0.004286\n",
       "PS4          0.115980     0.099962  -0.033589\n",
       "PSP               NaN     0.206341   0.454649\n",
       "PSV          0.373469     0.314013   0.047858\n",
       "Wii          0.614375     0.611486  -0.280611\n",
       "WiiU        -0.054234    -0.006862  -0.134475\n",
       "X360         0.046885     0.054254   0.110279\n",
       "XOne         0.081068     0.031263   0.060889"
      ]
     },
     "execution_count": 42,
     "metadata": {},
     "output_type": "execute_result"
    }
   ],
   "source": [
    "esrb_sales_na = choosen_games[['platform', 'na_sales', 'rating_id']]\n",
    "esrb_sales_na.reset_index(drop=True)\n",
    "esrb_sales_na = esrb_sales_na.groupby('platform')['rating_id'].corr(choosen_games['na_sales'])\n",
    "esrb_sales_eu = choosen_games[['platform', 'eu_sales', 'rating_id']]\n",
    "esrb_sales_eu.reset_index(drop=True)\n",
    "esrb_sales_eu = esrb_sales_eu.groupby('platform')['rating_id'].corr(choosen_games['eu_sales'])\n",
    "esrb_corr = pd.merge(esrb_sales_na,\n",
    "                 esrb_sales_eu,\n",
    "                 on='platform', \n",
    "                 how='right')\n",
    "esrb_sales_jp = choosen_games[['platform', 'jp_sales', 'rating_id']]\n",
    "esrb_sales_jp.reset_index(drop=True)\n",
    "esrb_sales_jp = esrb_sales_jp.groupby('platform')['rating_id'].corr(choosen_games['jp_sales'])\n",
    "esrb_corr = pd.merge(esrb_corr,\n",
    "                 esrb_sales_jp,\n",
    "                 on='platform', \n",
    "                 how='right')\n",
    "esrb_corr"
   ]
  },
  {
   "cell_type": "markdown",
   "metadata": {
    "id": "WD1fTpCF5JIC"
   },
   "source": [
    "En la tabla anterior, tenemos la correlación entre las ventas de cada región y el rating de ESRB. Podemos observar en los resultados que los ratings afectan poco a las ventas en las distintas regiones, en algunas menos que en otras. Para norteamérica, las ventas de cada plataforma en general se ven poco afectadas pro el rating, con excepción de la consola PS2, la cuál tiene una correlación mayor que las demás. En Europa, la PS2 es de igual forma la plataforma que mayor impacto tiene en ventas debido al rating, pero en Japón no es el caso. Las demás consolas no tienen una correlación significativa entre ventas y rating."
   ]
  },
  {
   "cell_type": "markdown",
   "metadata": {
    "id": "dfRs90q557pu"
   },
   "source": [
    "## **Paso 5. Prueba de Hipótesis.**\n",
    "\n"
   ]
  },
  {
   "cell_type": "markdown",
   "metadata": {
    "id": "BttVMRM-8wu-"
   },
   "source": [
    "### 1. Las calificaciones promedio de los usuarios de las plataformas Xbox One y PC son las mismas.\n",
    "\n",
    "* Comenzaremos con una prueba de Levene para detemrinar la homocedasticidad (igualdad de varianzas) de las muestras, en este caso las plataformas con respecto de la columna `user_score`. Si el valor de pvalue es menor al comparar ambas varianzas, esto significará que las varianzas no son iguales, hay diferencias. Si es mayor quiere decir que son iguales, y según el resultado de esta prueba proseguiremos a una prueba de T.\n",
    "\n",
    "* **H0** = Las calificaciones promedio de los usuarios Xbox One y PC son iguales.\n",
    "* **H1** = Las calificaciones promedio de los usuarios Xbox One y PC son diferentes."
   ]
  },
  {
   "cell_type": "code",
   "execution_count": 43,
   "metadata": {
    "id": "7x0srATcDSC1"
   },
   "outputs": [],
   "source": [
    "one_scores = choosen_games.query('platform == \"XOne\"')['user_score'].dropna()\n",
    "pc_scores = choosen_games.query('platform == \"PC\"')['user_score'].dropna()"
   ]
  },
  {
   "cell_type": "code",
   "execution_count": 44,
   "metadata": {
    "colab": {
     "base_uri": "https://localhost:8080/"
    },
    "id": "AyiDZUZqJPAT",
    "outputId": "8f33c6f8-9fbd-4057-8f35-6465ed2c33a7"
   },
   "outputs": [
    {
     "name": "stdout",
     "output_type": "stream",
     "text": [
      "p-value: 0.0005284276589650333\n",
      "Rechazamos la hipótesis nula\n"
     ]
    }
   ],
   "source": [
    "results = st.levene(one_scores, pc_scores, center='mean')\n",
    "alpha= 0.05\n",
    "print('p-value:', results.pvalue)\n",
    "if (results.pvalue < alpha):\n",
    "    print(\"Rechazamos la hipótesis nula\")\n",
    "else:\n",
    "    print(\"No rechazamos la hipótesis nula\")"
   ]
  },
  {
   "cell_type": "markdown",
   "metadata": {
    "id": "5bESjy9KHs_G"
   },
   "source": [
    "Debido a que el valor de pvalue para esta prueba de Levene es menor que 0.05, esto significa que sí hay diferencias en las varianzas, por lo tanto rechazamos la hipótesis nula y concluimos que las calificaciones promedio de los usuarios de XOne y PC **son diferentes** en varianza. Con este resultado pasaremos a la prueba de T con un valor `False`para `equal_var`."
   ]
  },
  {
   "cell_type": "code",
   "execution_count": 45,
   "metadata": {
    "colab": {
     "base_uri": "https://localhost:8080/"
    },
    "id": "ziAUhAMEHsMC",
    "outputId": "2fcd8cb4-1897-4204-f96b-28994bfbd6b4"
   },
   "outputs": [
    {
     "name": "stdout",
     "output_type": "stream",
     "text": [
      "p-value: 0.03533507254527675\n",
      "Rechazamos la hipótesis nula\n"
     ]
    }
   ],
   "source": [
    "results = st.ttest_ind(one_scores, pc_scores, equal_var=False)\n",
    "alpha= 0.05\n",
    "print('p-value:', results.pvalue)\n",
    "if (results.pvalue < alpha):\n",
    "    print(\"Rechazamos la hipótesis nula\")\n",
    "else:\n",
    "    print(\"No rechazamos la hipótesis nula\")"
   ]
  },
  {
   "cell_type": "markdown",
   "metadata": {
    "id": "LpRfVpJZLoc7"
   },
   "source": [
    "Con este resultado podemos concluir que las calificaciones promedio de los usuarios de XOne y PC sí son diferentes."
   ]
  },
  {
   "cell_type": "markdown",
   "metadata": {
    "id": "mVsHGudw81Nj"
   },
   "source": [
    "### 2. Las calificaciones promedio de los usuarios para los géneros de Acción y Deportes son diferentes.\n",
    "\n",
    "* **H0** = Las calificaciones promedio de los usuarios para géneros de Acción y Deportes son iguales.\n",
    "* **H1** = Las calificaciones promedio de los usuarios para géneros de Acción y Deportes son diferentes"
   ]
  },
  {
   "cell_type": "code",
   "execution_count": 46,
   "metadata": {
    "id": "pRG7c65g0gXg"
   },
   "outputs": [],
   "source": [
    "action_score = choosen_games.query('genre == \"Action\"')['user_score'].dropna()\n",
    "sports_score = choosen_games.query('genre == \"Sports\"')['user_score'].dropna()"
   ]
  },
  {
   "cell_type": "code",
   "execution_count": 47,
   "metadata": {
    "colab": {
     "base_uri": "https://localhost:8080/"
    },
    "id": "5p6rWTibLjww",
    "outputId": "dec4962c-267d-4714-be6a-ebd194cf7933"
   },
   "outputs": [
    {
     "name": "stdout",
     "output_type": "stream",
     "text": [
      "p-value: 1.8589972239174216e-07\n",
      "Rechazamos la hipótesis nula\n"
     ]
    }
   ],
   "source": [
    "results = st.levene(action_score, sports_score, center='mean')\n",
    "alpha= 0.05\n",
    "print('p-value:', results.pvalue)\n",
    "if (results.pvalue < alpha):\n",
    "    print(\"Rechazamos la hipótesis nula\")\n",
    "else:\n",
    "    print(\"No rechazamos la hipótesis nula\")"
   ]
  },
  {
   "cell_type": "code",
   "execution_count": 48,
   "metadata": {
    "colab": {
     "base_uri": "https://localhost:8080/"
    },
    "id": "ymKLjC_RLzaA",
    "outputId": "abb2507f-6ab1-4eb9-a932-9f8acd099147"
   },
   "outputs": [
    {
     "name": "stdout",
     "output_type": "stream",
     "text": [
      "p-value: 2.8348202610235494e-24\n",
      "Rechazamos la hipótesis nula\n"
     ]
    }
   ],
   "source": [
    "results = st.ttest_ind(action_score, sports_score, equal_var=False)\n",
    "alpha= 0.05\n",
    "print('p-value:', results.pvalue)\n",
    "if (results.pvalue < alpha):\n",
    "    print(\"Rechazamos la hipótesis nula\")\n",
    "else:\n",
    "    print(\"No rechazamos la hipótesis nula\")"
   ]
  },
  {
   "cell_type": "markdown",
   "metadata": {
    "id": "YiucVFF8N6GY"
   },
   "source": [
    "Para esta segunda prueba de hipótesis estamos tomando en cuenta también las calificaciones de los usuarios, esta vez por género de Acción y Deportes. En la prueba de Levene para comparar las varianzas rechazamos la hipótesis nula. Posteriormente para la prueba de T, tomamos equal_var como False debido a los resultados de Levene al rechazar la hipótesis nula. Finalmente, con los resultados de la prueba de T podemos concluir que las calificaciones para ambos géneros son **diferentes**."
   ]
  },
  {
   "cell_type": "markdown",
   "metadata": {
    "id": "cCjLCMlMMkYz"
   },
   "source": [
    "## **Paso 6. Conclusión**"
   ]
  },
  {
   "cell_type": "markdown",
   "metadata": {
    "id": "TCLx11G2OzqT"
   },
   "source": [
    "* Trabajando con estos datos lo que hicimos primero fue preprocesarlos. Para esto primero, verificamos los valores nulos en las columnas. Nos deshicimos de 2 filas que no tenían la cantidad suficiente de datos para ser imputadas, representaban el 1% del dataframe. Algunos otros valores que sí imputamos/transformamos fueron los de la columna de `year_of_release`,`critic_score` y `user_score`.\n",
    "\n",
    "* Analizando los datos ya limpios y restaurados, llegamos a la conclusión de que las plataformas tienen un cierto tiempo de vida según la popularidad de la misma através de los años. En este ejercicio el tiempo de vida de cada una de ellas en promedio es de 8 años, esto toma en cuenta todo el periodo en el que en las gráficas las ventas comienzan, alcanzan su máximo y luego dejan de vender.\n",
    "\n",
    "* ASí tomamos los datos desde el 2013 (la mitad del ciclo de vida de las paltaformas) para seleccionar las plataformas que consideramos que son a las que se les puede invertir en publicidad para los próximos años ya que aún tienen tiempo de ventas.\n",
    "\n",
    "* También pudimos observar que las críticas o calificaciones de los usuarios y expertos en plataformas no afectan significativamente las ventas de las paltaformas.\n",
    "\n",
    "* Se descubrió que hay ciertos géneros y plataformas que son preferidos por los usuarios de acuerdo con las ventas que han generado los mismos. Concluimos que los videojuegos de Acción, Shooter y Deportes son los más populares.\n",
    "\n",
    "* Se seleccionaron también ciertas plataformas de las que se predice rentabilidad para los próximos años del periodo marcado, esto se decisió gracias al tiempo de vida calculado y el momento en el que se podría encontrar la plataforma en su ciclo de vida. Estas son PS4 y XOne.\n",
    "\n",
    "* Regionalmente, (NA, EU y JP) la popularidad de los géneros y las consolas no es específicamente distinta en cada una, las mismas top 3 plataformas y géneros son los mismos en todas las regiones de acuerdo con los análisis.\n",
    "\n",
    "* Esto finalizó con un par de pruebas de hipótesis en las que se concluyó que la calificación promedio de los usuarios para XOne y PC son iguales , mientras que las calificaciones promedio de los usuarios para los géneros de Acción y Deportes sí son diferentes."
   ]
  },
  {
   "cell_type": "markdown",
   "metadata": {
    "id": "ZaR6GX6kTIbZ"
   },
   "source": [
    "<div class=\"alert alert-block alert-danger\">\n",
    "\n",
    "# Comentarios generales\n",
    "    \n",
    "\n",
    "Hola, Valeria. Has hecho un buen trabajo pero es necesario que revisemos dos puntos fundamentales para el desarrollo apropiado del proyecto:\n",
    "    \n",
    "1. Revisar la imputación de los datos. En algunos casos es mejor no hacerla.\n",
    "2. Seleccionar un periodo más apropiado para un pronóstico. En algunos casos, un periodo tan largo puede desviar nuestra atención de las verdaderas tendencias.\n",
    "    \n",
    "Una vez esto sea corregido satisfactoriamente continuaremos con la evaluación del resto del proyecto.\n",
    "    \n",
    "Si tienes alguna pregunta, no dudes en consultar a tus tutores.\n",
    "</div>"
   ]
  },
  {
   "cell_type": "markdown",
   "metadata": {},
   "source": [
    "<div class=\"alert alert-block alert-success\">\n",
    "\n",
    "# Comentarios generales 2\n",
    "    \n",
    "\n",
    "¡Excelente trabajo, Valeria! Has concluido todos los proyectos del primer módulo satisfactoriamente. Has sumado más herramientas en tu camino de data analyst.\n",
    "    \n",
    "¡Sigue así, Valeria! Vas por muy buen camino.\n",
    "</div>"
   ]
  }
 ],
 "metadata": {
  "ExecuteTimeLog": [
   {
    "duration": 55,
    "start_time": "2022-07-17T19:55:53.877Z"
   },
   {
    "duration": 6,
    "start_time": "2022-07-17T19:55:58.546Z"
   },
   {
    "duration": 1440,
    "start_time": "2022-07-17T19:56:09.448Z"
   },
   {
    "duration": 27,
    "start_time": "2022-07-17T19:56:10.891Z"
   },
   {
    "duration": 15,
    "start_time": "2022-07-17T19:56:10.919Z"
   },
   {
    "duration": 32,
    "start_time": "2022-07-17T19:56:10.936Z"
   },
   {
    "duration": 19,
    "start_time": "2022-07-17T19:56:10.970Z"
   },
   {
    "duration": 29,
    "start_time": "2022-07-17T19:56:10.990Z"
   },
   {
    "duration": 28,
    "start_time": "2022-07-17T19:56:11.021Z"
   },
   {
    "duration": 5,
    "start_time": "2022-07-17T19:56:11.050Z"
   },
   {
    "duration": 6,
    "start_time": "2022-07-17T19:56:11.057Z"
   },
   {
    "duration": 16,
    "start_time": "2022-07-17T19:56:11.065Z"
   },
   {
    "duration": 100,
    "start_time": "2022-07-17T19:56:11.082Z"
   },
   {
    "duration": 0,
    "start_time": "2022-07-17T19:56:11.185Z"
   },
   {
    "duration": 0,
    "start_time": "2022-07-17T19:56:11.186Z"
   },
   {
    "duration": 0,
    "start_time": "2022-07-17T19:56:11.188Z"
   },
   {
    "duration": 0,
    "start_time": "2022-07-17T19:56:11.189Z"
   },
   {
    "duration": 0,
    "start_time": "2022-07-17T19:56:11.191Z"
   },
   {
    "duration": 0,
    "start_time": "2022-07-17T19:56:11.201Z"
   },
   {
    "duration": 0,
    "start_time": "2022-07-17T19:56:11.202Z"
   },
   {
    "duration": 0,
    "start_time": "2022-07-17T19:56:11.204Z"
   },
   {
    "duration": 0,
    "start_time": "2022-07-17T19:56:11.205Z"
   },
   {
    "duration": 0,
    "start_time": "2022-07-17T19:56:11.206Z"
   },
   {
    "duration": 0,
    "start_time": "2022-07-17T19:56:11.208Z"
   },
   {
    "duration": 0,
    "start_time": "2022-07-17T19:56:11.209Z"
   },
   {
    "duration": 0,
    "start_time": "2022-07-17T19:56:11.211Z"
   },
   {
    "duration": 0,
    "start_time": "2022-07-17T19:56:11.212Z"
   },
   {
    "duration": 0,
    "start_time": "2022-07-17T19:56:11.213Z"
   },
   {
    "duration": 0,
    "start_time": "2022-07-17T19:56:11.215Z"
   },
   {
    "duration": 0,
    "start_time": "2022-07-17T19:56:11.216Z"
   },
   {
    "duration": 0,
    "start_time": "2022-07-17T19:56:11.218Z"
   },
   {
    "duration": 0,
    "start_time": "2022-07-17T19:56:11.219Z"
   },
   {
    "duration": 0,
    "start_time": "2022-07-17T19:56:11.220Z"
   },
   {
    "duration": 0,
    "start_time": "2022-07-17T19:56:11.222Z"
   },
   {
    "duration": 0,
    "start_time": "2022-07-17T19:56:11.223Z"
   },
   {
    "duration": 0,
    "start_time": "2022-07-17T19:56:11.224Z"
   },
   {
    "duration": 0,
    "start_time": "2022-07-17T19:56:11.225Z"
   },
   {
    "duration": 0,
    "start_time": "2022-07-17T19:56:11.226Z"
   },
   {
    "duration": 0,
    "start_time": "2022-07-17T19:56:11.228Z"
   },
   {
    "duration": 0,
    "start_time": "2022-07-17T19:56:11.229Z"
   },
   {
    "duration": 0,
    "start_time": "2022-07-17T19:56:11.230Z"
   },
   {
    "duration": 0,
    "start_time": "2022-07-17T19:56:11.232Z"
   },
   {
    "duration": 0,
    "start_time": "2022-07-17T19:56:11.234Z"
   },
   {
    "duration": 0,
    "start_time": "2022-07-17T19:56:11.235Z"
   },
   {
    "duration": 0,
    "start_time": "2022-07-17T19:56:11.237Z"
   },
   {
    "duration": 0,
    "start_time": "2022-07-17T19:56:11.238Z"
   },
   {
    "duration": 0,
    "start_time": "2022-07-17T19:56:11.239Z"
   },
   {
    "duration": 0,
    "start_time": "2022-07-17T19:56:11.301Z"
   },
   {
    "duration": 0,
    "start_time": "2022-07-17T19:56:11.303Z"
   },
   {
    "duration": 5,
    "start_time": "2022-07-17T19:56:41.985Z"
   },
   {
    "duration": 6,
    "start_time": "2022-07-17T19:56:46.815Z"
   },
   {
    "duration": 22,
    "start_time": "2022-07-17T19:58:11.703Z"
   },
   {
    "duration": 5,
    "start_time": "2022-07-17T19:58:20.157Z"
   },
   {
    "duration": 15,
    "start_time": "2022-07-17T19:58:22.442Z"
   },
   {
    "duration": 14,
    "start_time": "2022-07-17T19:58:23.540Z"
   },
   {
    "duration": 1099,
    "start_time": "2022-07-17T20:01:22.909Z"
   },
   {
    "duration": 2218,
    "start_time": "2022-07-17T20:01:29.159Z"
   },
   {
    "duration": 2243,
    "start_time": "2022-07-17T20:02:12.759Z"
   },
   {
    "duration": 1279,
    "start_time": "2022-07-17T20:02:21.825Z"
   },
   {
    "duration": 26,
    "start_time": "2022-07-17T20:02:23.106Z"
   },
   {
    "duration": 12,
    "start_time": "2022-07-17T20:02:23.134Z"
   },
   {
    "duration": 18,
    "start_time": "2022-07-17T20:02:23.148Z"
   },
   {
    "duration": 8,
    "start_time": "2022-07-17T20:02:23.167Z"
   },
   {
    "duration": 15,
    "start_time": "2022-07-17T20:02:23.176Z"
   },
   {
    "duration": 37,
    "start_time": "2022-07-17T20:02:23.192Z"
   },
   {
    "duration": 4,
    "start_time": "2022-07-17T20:02:23.232Z"
   },
   {
    "duration": 7,
    "start_time": "2022-07-17T20:02:23.238Z"
   },
   {
    "duration": 11,
    "start_time": "2022-07-17T20:02:23.247Z"
   },
   {
    "duration": 2349,
    "start_time": "2022-07-17T20:02:23.260Z"
   },
   {
    "duration": 12,
    "start_time": "2022-07-17T20:02:25.611Z"
   },
   {
    "duration": 14,
    "start_time": "2022-07-17T20:02:25.624Z"
   },
   {
    "duration": 6,
    "start_time": "2022-07-17T20:02:25.640Z"
   },
   {
    "duration": 9,
    "start_time": "2022-07-17T20:02:25.647Z"
   },
   {
    "duration": 68,
    "start_time": "2022-07-17T20:02:25.657Z"
   },
   {
    "duration": 7,
    "start_time": "2022-07-17T20:02:25.727Z"
   },
   {
    "duration": 23,
    "start_time": "2022-07-17T20:02:25.735Z"
   },
   {
    "duration": 13,
    "start_time": "2022-07-17T20:02:25.760Z"
   },
   {
    "duration": 33,
    "start_time": "2022-07-17T20:02:25.774Z"
   },
   {
    "duration": 339,
    "start_time": "2022-07-17T20:02:25.808Z"
   },
   {
    "duration": 279,
    "start_time": "2022-07-17T20:02:26.148Z"
   },
   {
    "duration": 185,
    "start_time": "2022-07-17T20:02:26.429Z"
   },
   {
    "duration": 138,
    "start_time": "2022-07-17T20:02:26.615Z"
   },
   {
    "duration": 134,
    "start_time": "2022-07-17T20:02:26.755Z"
   },
   {
    "duration": 22,
    "start_time": "2022-07-17T20:02:26.890Z"
   },
   {
    "duration": 264,
    "start_time": "2022-07-17T20:02:26.913Z"
   },
   {
    "duration": 269,
    "start_time": "2022-07-17T20:02:27.180Z"
   },
   {
    "duration": 149,
    "start_time": "2022-07-17T20:02:27.451Z"
   },
   {
    "duration": 144,
    "start_time": "2022-07-17T20:02:27.602Z"
   },
   {
    "duration": 11,
    "start_time": "2022-07-17T20:02:27.748Z"
   },
   {
    "duration": 48,
    "start_time": "2022-07-17T20:02:27.760Z"
   },
   {
    "duration": 240,
    "start_time": "2022-07-17T20:02:27.810Z"
   },
   {
    "duration": 8,
    "start_time": "2022-07-17T20:02:28.051Z"
   },
   {
    "duration": 22,
    "start_time": "2022-07-17T20:02:28.061Z"
   },
   {
    "duration": 20,
    "start_time": "2022-07-17T20:02:28.084Z"
   },
   {
    "duration": 14,
    "start_time": "2022-07-17T20:02:28.106Z"
   },
   {
    "duration": 11,
    "start_time": "2022-07-17T20:02:28.122Z"
   },
   {
    "duration": 15,
    "start_time": "2022-07-17T20:02:28.135Z"
   },
   {
    "duration": 11,
    "start_time": "2022-07-17T20:02:28.151Z"
   },
   {
    "duration": 76,
    "start_time": "2022-07-17T20:02:28.163Z"
   },
   {
    "duration": 7,
    "start_time": "2022-07-17T20:02:28.240Z"
   },
   {
    "duration": 9,
    "start_time": "2022-07-17T20:02:28.249Z"
   },
   {
    "duration": 7,
    "start_time": "2022-07-17T20:02:28.259Z"
   },
   {
    "duration": 10,
    "start_time": "2022-07-17T20:02:28.267Z"
   },
   {
    "duration": 23,
    "start_time": "2022-07-17T20:02:28.278Z"
   },
   {
    "duration": 4,
    "start_time": "2022-07-17T20:02:28.303Z"
   },
   {
    "duration": 47,
    "start_time": "2022-07-17T20:02:49.111Z"
   },
   {
    "duration": 2071,
    "start_time": "2022-07-17T20:02:57.860Z"
   },
   {
    "duration": 1899,
    "start_time": "2022-07-17T20:04:14.397Z"
   },
   {
    "duration": 1192,
    "start_time": "2022-07-17T20:04:23.551Z"
   },
   {
    "duration": 25,
    "start_time": "2022-07-17T20:04:24.745Z"
   },
   {
    "duration": 11,
    "start_time": "2022-07-17T20:04:24.772Z"
   },
   {
    "duration": 26,
    "start_time": "2022-07-17T20:04:24.784Z"
   },
   {
    "duration": 5,
    "start_time": "2022-07-17T20:04:24.812Z"
   },
   {
    "duration": 8,
    "start_time": "2022-07-17T20:04:24.818Z"
   },
   {
    "duration": 26,
    "start_time": "2022-07-17T20:04:24.828Z"
   },
   {
    "duration": 4,
    "start_time": "2022-07-17T20:04:24.855Z"
   },
   {
    "duration": 113,
    "start_time": "2022-07-17T20:04:24.861Z"
   },
   {
    "duration": 0,
    "start_time": "2022-07-17T20:04:24.976Z"
   },
   {
    "duration": 0,
    "start_time": "2022-07-17T20:04:24.977Z"
   },
   {
    "duration": 0,
    "start_time": "2022-07-17T20:04:24.979Z"
   },
   {
    "duration": 0,
    "start_time": "2022-07-17T20:04:24.980Z"
   },
   {
    "duration": 0,
    "start_time": "2022-07-17T20:04:24.981Z"
   },
   {
    "duration": 0,
    "start_time": "2022-07-17T20:04:24.982Z"
   },
   {
    "duration": 0,
    "start_time": "2022-07-17T20:04:24.982Z"
   },
   {
    "duration": 0,
    "start_time": "2022-07-17T20:04:24.983Z"
   },
   {
    "duration": 0,
    "start_time": "2022-07-17T20:04:24.984Z"
   },
   {
    "duration": 0,
    "start_time": "2022-07-17T20:04:24.985Z"
   },
   {
    "duration": 0,
    "start_time": "2022-07-17T20:04:25.000Z"
   },
   {
    "duration": 0,
    "start_time": "2022-07-17T20:04:25.001Z"
   },
   {
    "duration": 0,
    "start_time": "2022-07-17T20:04:25.002Z"
   },
   {
    "duration": 0,
    "start_time": "2022-07-17T20:04:25.003Z"
   },
   {
    "duration": 0,
    "start_time": "2022-07-17T20:04:25.004Z"
   },
   {
    "duration": 0,
    "start_time": "2022-07-17T20:04:25.005Z"
   },
   {
    "duration": 0,
    "start_time": "2022-07-17T20:04:25.006Z"
   },
   {
    "duration": 0,
    "start_time": "2022-07-17T20:04:25.007Z"
   },
   {
    "duration": 0,
    "start_time": "2022-07-17T20:04:25.007Z"
   },
   {
    "duration": 0,
    "start_time": "2022-07-17T20:04:25.008Z"
   },
   {
    "duration": 0,
    "start_time": "2022-07-17T20:04:25.010Z"
   },
   {
    "duration": 0,
    "start_time": "2022-07-17T20:04:25.010Z"
   },
   {
    "duration": 0,
    "start_time": "2022-07-17T20:04:25.011Z"
   },
   {
    "duration": 0,
    "start_time": "2022-07-17T20:04:25.013Z"
   },
   {
    "duration": 1,
    "start_time": "2022-07-17T20:04:25.013Z"
   },
   {
    "duration": 0,
    "start_time": "2022-07-17T20:04:25.015Z"
   },
   {
    "duration": 0,
    "start_time": "2022-07-17T20:04:25.016Z"
   },
   {
    "duration": 0,
    "start_time": "2022-07-17T20:04:25.017Z"
   },
   {
    "duration": 0,
    "start_time": "2022-07-17T20:04:25.017Z"
   },
   {
    "duration": 0,
    "start_time": "2022-07-17T20:04:25.018Z"
   },
   {
    "duration": 0,
    "start_time": "2022-07-17T20:04:25.019Z"
   },
   {
    "duration": 0,
    "start_time": "2022-07-17T20:04:25.020Z"
   },
   {
    "duration": 0,
    "start_time": "2022-07-17T20:04:25.021Z"
   },
   {
    "duration": 0,
    "start_time": "2022-07-17T20:04:25.023Z"
   },
   {
    "duration": 0,
    "start_time": "2022-07-17T20:04:25.024Z"
   },
   {
    "duration": 0,
    "start_time": "2022-07-17T20:04:25.025Z"
   },
   {
    "duration": 0,
    "start_time": "2022-07-17T20:04:25.025Z"
   },
   {
    "duration": 0,
    "start_time": "2022-07-17T20:04:25.026Z"
   },
   {
    "duration": 0,
    "start_time": "2022-07-17T20:04:25.027Z"
   },
   {
    "duration": 2054,
    "start_time": "2022-07-17T20:04:48.295Z"
   },
   {
    "duration": 1138,
    "start_time": "2022-07-17T20:04:57.734Z"
   },
   {
    "duration": 26,
    "start_time": "2022-07-17T20:04:58.873Z"
   },
   {
    "duration": 12,
    "start_time": "2022-07-17T20:04:58.900Z"
   },
   {
    "duration": 19,
    "start_time": "2022-07-17T20:04:58.914Z"
   },
   {
    "duration": 4,
    "start_time": "2022-07-17T20:04:58.935Z"
   },
   {
    "duration": 14,
    "start_time": "2022-07-17T20:04:58.940Z"
   },
   {
    "duration": 27,
    "start_time": "2022-07-17T20:04:58.955Z"
   },
   {
    "duration": 4,
    "start_time": "2022-07-17T20:04:58.983Z"
   },
   {
    "duration": 3113,
    "start_time": "2022-07-17T20:04:59.001Z"
   },
   {
    "duration": 6,
    "start_time": "2022-07-17T20:05:02.116Z"
   },
   {
    "duration": 53,
    "start_time": "2022-07-17T20:05:02.123Z"
   },
   {
    "duration": 2262,
    "start_time": "2022-07-17T20:05:02.178Z"
   },
   {
    "duration": 13,
    "start_time": "2022-07-17T20:05:04.442Z"
   },
   {
    "duration": 14,
    "start_time": "2022-07-17T20:05:04.458Z"
   },
   {
    "duration": 52,
    "start_time": "2022-07-17T20:05:04.473Z"
   },
   {
    "duration": 23,
    "start_time": "2022-07-17T20:05:04.526Z"
   },
   {
    "duration": 60,
    "start_time": "2022-07-17T20:05:04.551Z"
   },
   {
    "duration": 8,
    "start_time": "2022-07-17T20:05:04.613Z"
   },
   {
    "duration": 26,
    "start_time": "2022-07-17T20:05:04.623Z"
   },
   {
    "duration": 22,
    "start_time": "2022-07-17T20:05:04.652Z"
   },
   {
    "duration": 47,
    "start_time": "2022-07-17T20:05:04.676Z"
   },
   {
    "duration": 408,
    "start_time": "2022-07-17T20:05:04.725Z"
   },
   {
    "duration": 404,
    "start_time": "2022-07-17T20:05:05.135Z"
   },
   {
    "duration": 193,
    "start_time": "2022-07-17T20:05:05.540Z"
   },
   {
    "duration": 157,
    "start_time": "2022-07-17T20:05:05.735Z"
   },
   {
    "duration": 146,
    "start_time": "2022-07-17T20:05:05.893Z"
   },
   {
    "duration": 14,
    "start_time": "2022-07-17T20:05:06.040Z"
   },
   {
    "duration": 268,
    "start_time": "2022-07-17T20:05:06.055Z"
   },
   {
    "duration": 279,
    "start_time": "2022-07-17T20:05:06.325Z"
   },
   {
    "duration": 154,
    "start_time": "2022-07-17T20:05:06.606Z"
   },
   {
    "duration": 161,
    "start_time": "2022-07-17T20:05:06.762Z"
   },
   {
    "duration": 10,
    "start_time": "2022-07-17T20:05:06.925Z"
   },
   {
    "duration": 38,
    "start_time": "2022-07-17T20:05:06.936Z"
   },
   {
    "duration": 263,
    "start_time": "2022-07-17T20:05:06.976Z"
   },
   {
    "duration": 9,
    "start_time": "2022-07-17T20:05:07.240Z"
   },
   {
    "duration": 21,
    "start_time": "2022-07-17T20:05:07.251Z"
   },
   {
    "duration": 34,
    "start_time": "2022-07-17T20:05:07.274Z"
   },
   {
    "duration": 18,
    "start_time": "2022-07-17T20:05:07.310Z"
   },
   {
    "duration": 14,
    "start_time": "2022-07-17T20:05:07.329Z"
   },
   {
    "duration": 15,
    "start_time": "2022-07-17T20:05:07.345Z"
   },
   {
    "duration": 42,
    "start_time": "2022-07-17T20:05:07.364Z"
   },
   {
    "duration": 50,
    "start_time": "2022-07-17T20:05:07.408Z"
   },
   {
    "duration": 8,
    "start_time": "2022-07-17T20:05:07.459Z"
   },
   {
    "duration": 12,
    "start_time": "2022-07-17T20:05:07.469Z"
   },
   {
    "duration": 22,
    "start_time": "2022-07-17T20:05:07.482Z"
   },
   {
    "duration": 14,
    "start_time": "2022-07-17T20:05:07.506Z"
   },
   {
    "duration": 5,
    "start_time": "2022-07-17T20:05:07.522Z"
   },
   {
    "duration": 9,
    "start_time": "2022-07-17T20:05:07.528Z"
   },
   {
    "duration": 1168,
    "start_time": "2022-07-17T20:10:16.163Z"
   },
   {
    "duration": 26,
    "start_time": "2022-07-17T20:10:17.333Z"
   },
   {
    "duration": 12,
    "start_time": "2022-07-17T20:10:17.360Z"
   },
   {
    "duration": 31,
    "start_time": "2022-07-17T20:10:17.374Z"
   },
   {
    "duration": 5,
    "start_time": "2022-07-17T20:10:17.406Z"
   },
   {
    "duration": 19,
    "start_time": "2022-07-17T20:10:17.412Z"
   },
   {
    "duration": 41,
    "start_time": "2022-07-17T20:10:17.432Z"
   },
   {
    "duration": 5,
    "start_time": "2022-07-17T20:10:17.475Z"
   },
   {
    "duration": 2121,
    "start_time": "2022-07-17T20:10:17.482Z"
   },
   {
    "duration": 5,
    "start_time": "2022-07-17T20:10:19.605Z"
   },
   {
    "duration": 31,
    "start_time": "2022-07-17T20:10:19.611Z"
   },
   {
    "duration": 3125,
    "start_time": "2022-07-17T20:10:19.644Z"
   },
   {
    "duration": 11,
    "start_time": "2022-07-17T20:10:22.771Z"
   },
   {
    "duration": 27,
    "start_time": "2022-07-17T20:10:22.784Z"
   },
   {
    "duration": 4,
    "start_time": "2022-07-17T20:10:22.812Z"
   },
   {
    "duration": 12,
    "start_time": "2022-07-17T20:10:22.817Z"
   },
   {
    "duration": 53,
    "start_time": "2022-07-17T20:10:22.830Z"
   },
   {
    "duration": 17,
    "start_time": "2022-07-17T20:10:22.884Z"
   },
   {
    "duration": 23,
    "start_time": "2022-07-17T20:10:22.902Z"
   },
   {
    "duration": 14,
    "start_time": "2022-07-17T20:10:22.927Z"
   },
   {
    "duration": 24,
    "start_time": "2022-07-17T20:10:22.942Z"
   },
   {
    "duration": 343,
    "start_time": "2022-07-17T20:10:22.967Z"
   },
   {
    "duration": 290,
    "start_time": "2022-07-17T20:10:23.312Z"
   },
   {
    "duration": 181,
    "start_time": "2022-07-17T20:10:23.604Z"
   },
   {
    "duration": 162,
    "start_time": "2022-07-17T20:10:23.786Z"
   },
   {
    "duration": 151,
    "start_time": "2022-07-17T20:10:23.950Z"
   },
   {
    "duration": 14,
    "start_time": "2022-07-17T20:10:24.102Z"
   },
   {
    "duration": 282,
    "start_time": "2022-07-17T20:10:24.119Z"
   },
   {
    "duration": 269,
    "start_time": "2022-07-17T20:10:24.403Z"
   },
   {
    "duration": 147,
    "start_time": "2022-07-17T20:10:24.674Z"
   },
   {
    "duration": 137,
    "start_time": "2022-07-17T20:10:24.823Z"
   },
   {
    "duration": 9,
    "start_time": "2022-07-17T20:10:24.962Z"
   },
   {
    "duration": 45,
    "start_time": "2022-07-17T20:10:24.972Z"
   },
   {
    "duration": 260,
    "start_time": "2022-07-17T20:10:25.019Z"
   },
   {
    "duration": 10,
    "start_time": "2022-07-17T20:10:25.281Z"
   },
   {
    "duration": 19,
    "start_time": "2022-07-17T20:10:25.300Z"
   },
   {
    "duration": 16,
    "start_time": "2022-07-17T20:10:25.321Z"
   },
   {
    "duration": 17,
    "start_time": "2022-07-17T20:10:25.339Z"
   },
   {
    "duration": 14,
    "start_time": "2022-07-17T20:10:25.358Z"
   },
   {
    "duration": 18,
    "start_time": "2022-07-17T20:10:25.402Z"
   },
   {
    "duration": 22,
    "start_time": "2022-07-17T20:10:25.421Z"
   },
   {
    "duration": 74,
    "start_time": "2022-07-17T20:10:25.444Z"
   },
   {
    "duration": 7,
    "start_time": "2022-07-17T20:10:25.520Z"
   },
   {
    "duration": 20,
    "start_time": "2022-07-17T20:10:25.529Z"
   },
   {
    "duration": 7,
    "start_time": "2022-07-17T20:10:25.551Z"
   },
   {
    "duration": 10,
    "start_time": "2022-07-17T20:10:25.559Z"
   },
   {
    "duration": 9,
    "start_time": "2022-07-17T20:10:25.571Z"
   },
   {
    "duration": 17,
    "start_time": "2022-07-17T20:10:25.582Z"
   },
   {
    "duration": 255,
    "start_time": "2022-07-17T20:12:42.963Z"
   },
   {
    "duration": 318,
    "start_time": "2022-07-17T20:13:18.680Z"
   },
   {
    "duration": 1209,
    "start_time": "2022-07-17T20:14:05.784Z"
   },
   {
    "duration": 29,
    "start_time": "2022-07-17T20:14:06.996Z"
   },
   {
    "duration": 14,
    "start_time": "2022-07-17T20:14:07.026Z"
   },
   {
    "duration": 18,
    "start_time": "2022-07-17T20:14:07.043Z"
   },
   {
    "duration": 5,
    "start_time": "2022-07-17T20:14:07.062Z"
   },
   {
    "duration": 32,
    "start_time": "2022-07-17T20:14:07.069Z"
   },
   {
    "duration": 26,
    "start_time": "2022-07-17T20:14:07.103Z"
   },
   {
    "duration": 4,
    "start_time": "2022-07-17T20:14:07.131Z"
   },
   {
    "duration": 2290,
    "start_time": "2022-07-17T20:14:07.136Z"
   },
   {
    "duration": 5,
    "start_time": "2022-07-17T20:14:09.428Z"
   },
   {
    "duration": 12,
    "start_time": "2022-07-17T20:14:09.435Z"
   },
   {
    "duration": 2386,
    "start_time": "2022-07-17T20:14:09.448Z"
   },
   {
    "duration": 12,
    "start_time": "2022-07-17T20:14:11.835Z"
   },
   {
    "duration": 15,
    "start_time": "2022-07-17T20:14:11.849Z"
   },
   {
    "duration": 5,
    "start_time": "2022-07-17T20:14:11.866Z"
   },
   {
    "duration": 28,
    "start_time": "2022-07-17T20:14:11.873Z"
   },
   {
    "duration": 49,
    "start_time": "2022-07-17T20:14:11.903Z"
   },
   {
    "duration": 8,
    "start_time": "2022-07-17T20:14:11.954Z"
   },
   {
    "duration": 39,
    "start_time": "2022-07-17T20:14:11.964Z"
   },
   {
    "duration": 14,
    "start_time": "2022-07-17T20:14:12.004Z"
   },
   {
    "duration": 16,
    "start_time": "2022-07-17T20:14:12.020Z"
   },
   {
    "duration": 384,
    "start_time": "2022-07-17T20:14:12.037Z"
   },
   {
    "duration": 317,
    "start_time": "2022-07-17T20:14:12.423Z"
   },
   {
    "duration": 188,
    "start_time": "2022-07-17T20:14:12.741Z"
   },
   {
    "duration": 148,
    "start_time": "2022-07-17T20:14:12.930Z"
   },
   {
    "duration": 133,
    "start_time": "2022-07-17T20:14:13.079Z"
   },
   {
    "duration": 13,
    "start_time": "2022-07-17T20:14:13.214Z"
   },
   {
    "duration": 277,
    "start_time": "2022-07-17T20:14:13.230Z"
   },
   {
    "duration": 274,
    "start_time": "2022-07-17T20:14:13.508Z"
   },
   {
    "duration": 159,
    "start_time": "2022-07-17T20:14:13.784Z"
   },
   {
    "duration": 151,
    "start_time": "2022-07-17T20:14:13.945Z"
   },
   {
    "duration": 8,
    "start_time": "2022-07-17T20:14:14.100Z"
   },
   {
    "duration": 33,
    "start_time": "2022-07-17T20:14:14.109Z"
   },
   {
    "duration": 251,
    "start_time": "2022-07-17T20:14:14.144Z"
   },
   {
    "duration": 9,
    "start_time": "2022-07-17T20:14:14.397Z"
   },
   {
    "duration": 16,
    "start_time": "2022-07-17T20:14:14.408Z"
   },
   {
    "duration": 11,
    "start_time": "2022-07-17T20:14:14.425Z"
   },
   {
    "duration": 16,
    "start_time": "2022-07-17T20:14:14.438Z"
   },
   {
    "duration": 12,
    "start_time": "2022-07-17T20:14:14.455Z"
   },
   {
    "duration": 42,
    "start_time": "2022-07-17T20:14:14.469Z"
   },
   {
    "duration": 11,
    "start_time": "2022-07-17T20:14:14.512Z"
   },
   {
    "duration": 46,
    "start_time": "2022-07-17T20:14:14.525Z"
   },
   {
    "duration": 12,
    "start_time": "2022-07-17T20:14:14.573Z"
   },
   {
    "duration": 12,
    "start_time": "2022-07-17T20:14:14.601Z"
   },
   {
    "duration": 5,
    "start_time": "2022-07-17T20:14:14.615Z"
   },
   {
    "duration": 9,
    "start_time": "2022-07-17T20:14:14.621Z"
   },
   {
    "duration": 6,
    "start_time": "2022-07-17T20:14:14.632Z"
   },
   {
    "duration": 5,
    "start_time": "2022-07-17T20:14:14.640Z"
   },
   {
    "duration": 1296,
    "start_time": "2022-07-17T20:28:54.777Z"
   },
   {
    "duration": 29,
    "start_time": "2022-07-17T20:28:56.075Z"
   },
   {
    "duration": 11,
    "start_time": "2022-07-17T20:28:56.106Z"
   },
   {
    "duration": 17,
    "start_time": "2022-07-17T20:28:56.119Z"
   },
   {
    "duration": 5,
    "start_time": "2022-07-17T20:28:56.137Z"
   },
   {
    "duration": 6,
    "start_time": "2022-07-17T20:28:56.143Z"
   },
   {
    "duration": 26,
    "start_time": "2022-07-17T20:28:56.150Z"
   },
   {
    "duration": 25,
    "start_time": "2022-07-17T20:28:56.177Z"
   },
   {
    "duration": 2069,
    "start_time": "2022-07-17T20:28:56.203Z"
   },
   {
    "duration": 5,
    "start_time": "2022-07-17T20:28:58.275Z"
   },
   {
    "duration": 20,
    "start_time": "2022-07-17T20:28:58.281Z"
   },
   {
    "duration": 2045,
    "start_time": "2022-07-17T20:28:58.303Z"
   },
   {
    "duration": 12,
    "start_time": "2022-07-17T20:29:00.350Z"
   },
   {
    "duration": 56,
    "start_time": "2022-07-17T20:29:00.364Z"
   },
   {
    "duration": 49,
    "start_time": "2022-07-17T20:29:00.421Z"
   },
   {
    "duration": 22,
    "start_time": "2022-07-17T20:29:00.471Z"
   },
   {
    "duration": 65,
    "start_time": "2022-07-17T20:29:00.495Z"
   },
   {
    "duration": 8,
    "start_time": "2022-07-17T20:29:00.562Z"
   },
   {
    "duration": 40,
    "start_time": "2022-07-17T20:29:00.572Z"
   },
   {
    "duration": 50,
    "start_time": "2022-07-17T20:29:00.614Z"
   },
   {
    "duration": 32,
    "start_time": "2022-07-17T20:29:00.665Z"
   },
   {
    "duration": 386,
    "start_time": "2022-07-17T20:29:00.698Z"
   },
   {
    "duration": 325,
    "start_time": "2022-07-17T20:29:01.086Z"
   },
   {
    "duration": 215,
    "start_time": "2022-07-17T20:29:01.413Z"
   },
   {
    "duration": 161,
    "start_time": "2022-07-17T20:29:01.630Z"
   },
   {
    "duration": 154,
    "start_time": "2022-07-17T20:29:01.793Z"
   },
   {
    "duration": 15,
    "start_time": "2022-07-17T20:29:01.949Z"
   },
   {
    "duration": 292,
    "start_time": "2022-07-17T20:29:01.967Z"
   },
   {
    "duration": 291,
    "start_time": "2022-07-17T20:29:02.260Z"
   },
   {
    "duration": 141,
    "start_time": "2022-07-17T20:29:02.553Z"
   },
   {
    "duration": 155,
    "start_time": "2022-07-17T20:29:02.695Z"
   },
   {
    "duration": 10,
    "start_time": "2022-07-17T20:29:02.851Z"
   },
   {
    "duration": 54,
    "start_time": "2022-07-17T20:29:02.862Z"
   },
   {
    "duration": 252,
    "start_time": "2022-07-17T20:29:02.918Z"
   },
   {
    "duration": 8,
    "start_time": "2022-07-17T20:29:03.172Z"
   },
   {
    "duration": 39,
    "start_time": "2022-07-17T20:29:03.181Z"
   },
   {
    "duration": 18,
    "start_time": "2022-07-17T20:29:03.221Z"
   },
   {
    "duration": 35,
    "start_time": "2022-07-17T20:29:03.241Z"
   },
   {
    "duration": 62,
    "start_time": "2022-07-17T20:29:03.278Z"
   },
   {
    "duration": 25,
    "start_time": "2022-07-17T20:29:03.341Z"
   },
   {
    "duration": 49,
    "start_time": "2022-07-17T20:29:03.368Z"
   },
   {
    "duration": 50,
    "start_time": "2022-07-17T20:29:03.418Z"
   },
   {
    "duration": 9,
    "start_time": "2022-07-17T20:29:03.469Z"
   },
   {
    "duration": 14,
    "start_time": "2022-07-17T20:29:03.480Z"
   },
   {
    "duration": 10,
    "start_time": "2022-07-17T20:29:03.495Z"
   },
   {
    "duration": 29,
    "start_time": "2022-07-17T20:29:03.507Z"
   },
   {
    "duration": 21,
    "start_time": "2022-07-17T20:29:03.537Z"
   },
   {
    "duration": 23,
    "start_time": "2022-07-17T20:29:03.559Z"
   }
  ],
  "colab": {
   "collapsed_sections": [],
   "name": "Copy of Sprint 5.ipynb",
   "provenance": []
  },
  "kernelspec": {
   "display_name": "Python 3 (ipykernel)",
   "language": "python",
   "name": "python3"
  },
  "language_info": {
   "codemirror_mode": {
    "name": "ipython",
    "version": 3
   },
   "file_extension": ".py",
   "mimetype": "text/x-python",
   "name": "python",
   "nbconvert_exporter": "python",
   "pygments_lexer": "ipython3",
   "version": "3.9.5"
  },
  "toc": {
   "base_numbering": 1,
   "nav_menu": {},
   "number_sections": true,
   "sideBar": true,
   "skip_h1_title": true,
   "title_cell": "Table of Contents",
   "title_sidebar": "Contents",
   "toc_cell": false,
   "toc_position": {},
   "toc_section_display": true,
   "toc_window_display": true
  }
 },
 "nbformat": 4,
 "nbformat_minor": 1
}
