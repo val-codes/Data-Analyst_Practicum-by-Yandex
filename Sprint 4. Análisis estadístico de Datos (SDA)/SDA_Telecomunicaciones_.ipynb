{
  "cells": [
    {
      "cell_type": "markdown",
      "metadata": {
        "id": "SxjTMpkhilfD"
      },
      "source": [
        "# **Sprint 4. Análisis de Datos estadísticos**"
      ]
    },
    {
      "cell_type": "markdown",
      "metadata": {
        "id": "0AhpU-0sPkVW"
      },
      "source": [
        "**Obejtivo**\n",
        "1. Realizar un análisis preliminar de las tarifas basado en una selección de clientes relativamente pequeña, son datos de 500 clientes de Megaline: quiénes son, de dónde son, qué tarifa usan y la cantidad de llamadas que hicieron y los mensajes de texto que enviaron en 2018.\n",
        "2. Analizar el comportamiento de los clientes y determinar qué tarifa de prepago genera más ingresos.\n",
        "\n",
        "**Descripción de los datos**\n",
        "\n",
        "Megaline redondea los segundos a minutos y los megabytes a gigabytes. Para llamadas, cada llamada individual se redondea: incluso si la llamada duró solo un segundo, se contará como un minuto.Para tráfico web, las sesiones web individuales no se redondean. En vez de esto, el total del mes se redondea hacia arriba. Si alguien usa 1025 megabytes este mes, se le cobrarán 2 gigabytes.\n",
        " \n",
        "\n"
      ]
    },
    {
      "cell_type": "markdown",
      "metadata": {
        "id": "MnGmaC8orIPl"
      },
      "source": [
        "## **Paso 1. Cargando datasets, importando librerías y mostrando la información general.**"
      ]
    },
    {
      "cell_type": "code",
      "execution_count": null,
      "metadata": {
        "id": "DNfLwCvsbuRn"
      },
      "outputs": [],
      "source": [
        "import pandas as pd\n",
        "import numpy as np\n",
        "import matplotlib.pyplot as plt\n",
        "from scipy import stats as st\n",
        "from math import factorial"
      ]
    },
    {
      "cell_type": "code",
      "execution_count": null,
      "metadata": {
        "id": "E1cy7Mcxil1y"
      },
      "outputs": [],
      "source": [
        "calls    = pd.read_csv('https://code.s3.yandex.net/datasets/megaline_calls.csv')\n",
        "internet = pd.read_csv('https://code.s3.yandex.net/datasets/megaline_internet.csv')\n",
        "messages  = pd.read_csv('https://code.s3.yandex.net/datasets/megaline_messages.csv')\n",
        "plans    = pd.read_csv('https://code.s3.yandex.net/datasets/megaline_plans.csv')\n",
        "users    = pd.read_csv('https://code.s3.yandex.net/datasets/megaline_users.csv')"
      ]
    },
    {
      "cell_type": "markdown",
      "metadata": {
        "id": "Qmh1Wz5WQeEL"
      },
      "source": [
        "La tabla calls contiene las siguientes columnas:\n",
        "* `id` - identificador único de llamada\n",
        "* `call_date` - fecha de la llamada\n",
        "* `duration` - duración en minutos de la llamada\n",
        "* `user_id` - identificador del usuario que realiza las llamadas"
      ]
    },
    {
      "cell_type": "code",
      "execution_count": null,
      "metadata": {
        "colab": {
          "base_uri": "https://localhost:8080/"
        },
        "id": "hU_VU0eYjJau",
        "outputId": "4dd2f1e6-9bc4-4083-c718-f4de64f4d09c"
      },
      "outputs": [
        {
          "output_type": "stream",
          "name": "stdout",
          "text": [
            "Llamadas Megaline:\n",
            "<class 'pandas.core.frame.DataFrame'>\n",
            "RangeIndex: 137735 entries, 0 to 137734\n",
            "Data columns (total 4 columns):\n",
            " #   Column     Non-Null Count   Dtype  \n",
            "---  ------     --------------   -----  \n",
            " 0   id         137735 non-null  object \n",
            " 1   user_id    137735 non-null  int64  \n",
            " 2   call_date  137735 non-null  object \n",
            " 3   duration   137735 non-null  float64\n",
            "dtypes: float64(1), int64(1), object(2)\n",
            "memory usage: 4.2+ MB\n"
          ]
        }
      ],
      "source": [
        "print('Llamadas Megaline:')\n",
        "calls.info() #No hay valores ausentes en las filas a primera vista. Habrá que verificar el contenido después."
      ]
    },
    {
      "cell_type": "markdown",
      "metadata": {
        "id": "TZxOF-v2Q6DE"
      },
      "source": [
        "La tabla internet contiene:\n",
        "* `id` - identificador único de la sesión\n",
        "* `mb_used` - volumen de datos por sesión en megabytes\n",
        "* `session_date` - fecha de la sesión\n",
        "* `id`identificador del usuario"
      ]
    },
    {
      "cell_type": "code",
      "execution_count": null,
      "metadata": {
        "colab": {
          "base_uri": "https://localhost:8080/"
        },
        "id": "FD_1ZPxgj2Kr",
        "outputId": "f0577ff0-a413-4f23-ccb8-b84c359da897"
      },
      "outputs": [
        {
          "output_type": "stream",
          "name": "stdout",
          "text": [
            "Internet Megacable:\n",
            "<class 'pandas.core.frame.DataFrame'>\n",
            "RangeIndex: 104825 entries, 0 to 104824\n",
            "Data columns (total 4 columns):\n",
            " #   Column        Non-Null Count   Dtype  \n",
            "---  ------        --------------   -----  \n",
            " 0   id            104825 non-null  object \n",
            " 1   user_id       104825 non-null  int64  \n",
            " 2   session_date  104825 non-null  object \n",
            " 3   mb_used       104825 non-null  float64\n",
            "dtypes: float64(1), int64(1), object(2)\n",
            "memory usage: 3.2+ MB\n"
          ]
        }
      ],
      "source": [
        "print('Internet Megacable:')\n",
        "internet.info() #tampoco parece haber datos faltantes en este dataframe."
      ]
    },
    {
      "cell_type": "markdown",
      "metadata": {
        "id": "iByKsnAYRRPy"
      },
      "source": [
        "La tabla messages contiene:\n",
        "* `id` - identificador único del mensaje\n",
        "* `message date` - fecha del mensaje\n",
        "* `id` - identificador del usuario"
      ]
    },
    {
      "cell_type": "code",
      "execution_count": null,
      "metadata": {
        "colab": {
          "base_uri": "https://localhost:8080/"
        },
        "id": "4aZ7bWZskAhi",
        "outputId": "1ae0111d-4d8b-49a2-ee56-ae25acbb25f9"
      },
      "outputs": [
        {
          "output_type": "stream",
          "name": "stdout",
          "text": [
            "Mensajes Megacable:\n",
            "<class 'pandas.core.frame.DataFrame'>\n",
            "RangeIndex: 76051 entries, 0 to 76050\n",
            "Data columns (total 3 columns):\n",
            " #   Column        Non-Null Count  Dtype \n",
            "---  ------        --------------  ----- \n",
            " 0   id            76051 non-null  object\n",
            " 1   user_id       76051 non-null  int64 \n",
            " 2   message_date  76051 non-null  object\n",
            "dtypes: int64(1), object(2)\n",
            "memory usage: 1.7+ MB\n"
          ]
        }
      ],
      "source": [
        "print('Mensajes Megacable:')\n",
        "messages.info()"
      ]
    },
    {
      "cell_type": "markdown",
      "metadata": {
        "id": "HKIJPoPYSFRL"
      },
      "source": [
        "El dataframe de los users contiene la información personal de los clientes:\n",
        "* `user_id` — identificador único del usuario\n",
        "* `first_name` — nombre del usuario\n",
        "* `last_name` — apellido del usuario\n",
        "* `age` — edad del usuario (en años)\n",
        "* `reg_date` — fecha de suscripción (dd, mm, aa)\n",
        "* `churn_date` — la fecha en que el usuario dejó de usar el servicio (si el valor es ausente, la tarifa se estaba usando cuando se recuperaron estos datos)"
      ]
    },
    {
      "cell_type": "code",
      "execution_count": null,
      "metadata": {
        "colab": {
          "base_uri": "https://localhost:8080/"
        },
        "id": "ipfSshHrkbmK",
        "outputId": "3b897343-5e4e-412a-bf1d-cd2b07731e65"
      },
      "outputs": [
        {
          "output_type": "stream",
          "name": "stdout",
          "text": [
            "Usuarios Megacable:\n",
            "<class 'pandas.core.frame.DataFrame'>\n",
            "RangeIndex: 500 entries, 0 to 499\n",
            "Data columns (total 8 columns):\n",
            " #   Column      Non-Null Count  Dtype \n",
            "---  ------      --------------  ----- \n",
            " 0   user_id     500 non-null    int64 \n",
            " 1   first_name  500 non-null    object\n",
            " 2   last_name   500 non-null    object\n",
            " 3   age         500 non-null    int64 \n",
            " 4   city        500 non-null    object\n",
            " 5   reg_date    500 non-null    object\n",
            " 6   plan        500 non-null    object\n",
            " 7   churn_date  34 non-null     object\n",
            "dtypes: int64(2), object(6)\n",
            "memory usage: 31.4+ KB\n"
          ]
        }
      ],
      "source": [
        "print('Usuarios Megacable:')\n",
        "users.info()"
      ]
    },
    {
      "cell_type": "markdown",
      "metadata": {
        "id": "npuiTd-vRgEc"
      },
      "source": [
        "La tabla plan name contiene los datos sobre las tarifas:\n",
        "* `plan_name` — nombre de la tarifa\n",
        "* `usd_monthly_fee` — pago mensual en dólares estadounidenses\n",
        "* `minutes_included` — minutos incluidos al mes\n",
        "* `messages_included` — SMS incluidos al mes\n",
        "* `mb_per_month_included` — datos incluidos al mes (en megabytes)\n",
        "* `usd_per_minute` — precio por minuto tras exceder los límites del paquete (por ejemplo, si el paquete incluye 100 minutos el operador cobrará el minuto 101)\n",
        "* `usd_per_message` — precio por SMS tras exceder los límites del paquete\n",
        "* `usd_per_gb` — precio por gigabyte de los datos extra tras exceder los límites del paquete (1 GB = 1024 megabytes)"
      ]
    },
    {
      "cell_type": "code",
      "execution_count": null,
      "metadata": {
        "colab": {
          "base_uri": "https://localhost:8080/"
        },
        "id": "Kqvj_nyEkZj0",
        "outputId": "08e66d0f-55bc-4215-f5da-8ab72b9914a5"
      },
      "outputs": [
        {
          "output_type": "stream",
          "name": "stdout",
          "text": [
            "Planes Megacable:\n",
            "<class 'pandas.core.frame.DataFrame'>\n",
            "RangeIndex: 2 entries, 0 to 1\n",
            "Data columns (total 8 columns):\n",
            " #   Column                 Non-Null Count  Dtype  \n",
            "---  ------                 --------------  -----  \n",
            " 0   messages_included      2 non-null      int64  \n",
            " 1   mb_per_month_included  2 non-null      int64  \n",
            " 2   minutes_included       2 non-null      int64  \n",
            " 3   usd_monthly_pay        2 non-null      int64  \n",
            " 4   usd_per_gb             2 non-null      int64  \n",
            " 5   usd_per_message        2 non-null      float64\n",
            " 6   usd_per_minute         2 non-null      float64\n",
            " 7   plan_name              2 non-null      object \n",
            "dtypes: float64(2), int64(5), object(1)\n",
            "memory usage: 256.0+ bytes\n"
          ]
        }
      ],
      "source": [
        "print('Planes Megacable:')\n",
        "plans.info()"
      ]
    },
    {
      "cell_type": "markdown",
      "metadata": {
        "id": "56MNFSv1knfw"
      },
      "source": [
        "No parece haber datos faltantes en ninguno de los dataframes. Todos los dataframes excepto el de los usuarios, tienen las filas de sus columnas completas. Usuarios no, porque los valores de `churn_date` que no se encuentran registrados hacen referencia a la fecha en la que el usuario dejó el servicio, si no hay fecha para cuando dejaron el servicio quiere decir que seguían con su plan de pago cuando se hizo este registro.\n",
        "Esta columna, de 500 entradas sólo dejó 34 filas rellenadas, lo que quiere decir que el 93% de los usuarios estaban con el servicio activo, mientras que el 7% ya había terminado su relación con Megacable."
      ]
    },
    {
      "cell_type": "markdown",
      "metadata": {
        "id": "xSf9tQSErckt"
      },
      "source": [
        "## **Paso 2. Preprocesando los datos.**\n",
        "\n",
        "Vamos a revisar las tablas y sus columnas para realizar un mejor análisis de los datos."
      ]
    },
    {
      "cell_type": "markdown",
      "metadata": {
        "id": "I-wEpQ28nR25"
      },
      "source": [
        "## Preprocesando `users`"
      ]
    },
    {
      "cell_type": "code",
      "execution_count": null,
      "metadata": {
        "colab": {
          "base_uri": "https://localhost:8080/"
        },
        "id": "T9OXwOyOmQ_0",
        "outputId": "8b0100e0-a93d-4b4d-cfd5-652709a9bdd1"
      },
      "outputs": [
        {
          "output_type": "execute_result",
          "data": {
            "text/plain": [
              "   user_id first_name  last_name  age                                    city  \\\n",
              "0     1000   Anamaria      Bauer   45   Atlanta-Sandy Springs-Roswell, GA MSA   \n",
              "1     1001     Mickey  Wilkerson   28         Seattle-Tacoma-Bellevue, WA MSA   \n",
              "2     1002     Carlee    Hoffman   36    Las Vegas-Henderson-Paradise, NV MSA   \n",
              "3     1003   Reynaldo    Jenkins   52                           Tulsa, OK MSA   \n",
              "4     1004    Leonila   Thompson   40         Seattle-Tacoma-Bellevue, WA MSA   \n",
              "5     1005      Livia    Shields   31     Dallas-Fort Worth-Arlington, TX MSA   \n",
              "6     1006     Jesusa   Bradford   73  San Francisco-Oakland-Berkeley, CA MSA   \n",
              "7     1007    Eusebio      Welch   42           Grand Rapids-Kentwood, MI MSA   \n",
              "8     1008      Emely    Hoffman   53       Orlando-Kissimmee-Sanford, FL MSA   \n",
              "9     1009      Gerry     Little   19  San Jose-Sunnyvale-Santa Clara, CA MSA   \n",
              "\n",
              "     reg_date      plan  churn_date  \n",
              "0  2018-12-24  ultimate         NaN  \n",
              "1  2018-08-13      surf         NaN  \n",
              "2  2018-10-21      surf         NaN  \n",
              "3  2018-01-28      surf         NaN  \n",
              "4  2018-05-23      surf         NaN  \n",
              "5  2018-11-29      surf         NaN  \n",
              "6  2018-11-27  ultimate  2018-12-18  \n",
              "7  2018-07-11      surf         NaN  \n",
              "8  2018-08-03  ultimate         NaN  \n",
              "9  2018-04-22      surf         NaN  "
            ],
            "text/html": [
              "\n",
              "  <div id=\"df-283063d1-66af-48e3-99f6-f11f5fee157a\">\n",
              "    <div class=\"colab-df-container\">\n",
              "      <div>\n",
              "<style scoped>\n",
              "    .dataframe tbody tr th:only-of-type {\n",
              "        vertical-align: middle;\n",
              "    }\n",
              "\n",
              "    .dataframe tbody tr th {\n",
              "        vertical-align: top;\n",
              "    }\n",
              "\n",
              "    .dataframe thead th {\n",
              "        text-align: right;\n",
              "    }\n",
              "</style>\n",
              "<table border=\"1\" class=\"dataframe\">\n",
              "  <thead>\n",
              "    <tr style=\"text-align: right;\">\n",
              "      <th></th>\n",
              "      <th>user_id</th>\n",
              "      <th>first_name</th>\n",
              "      <th>last_name</th>\n",
              "      <th>age</th>\n",
              "      <th>city</th>\n",
              "      <th>reg_date</th>\n",
              "      <th>plan</th>\n",
              "      <th>churn_date</th>\n",
              "    </tr>\n",
              "  </thead>\n",
              "  <tbody>\n",
              "    <tr>\n",
              "      <th>0</th>\n",
              "      <td>1000</td>\n",
              "      <td>Anamaria</td>\n",
              "      <td>Bauer</td>\n",
              "      <td>45</td>\n",
              "      <td>Atlanta-Sandy Springs-Roswell, GA MSA</td>\n",
              "      <td>2018-12-24</td>\n",
              "      <td>ultimate</td>\n",
              "      <td>NaN</td>\n",
              "    </tr>\n",
              "    <tr>\n",
              "      <th>1</th>\n",
              "      <td>1001</td>\n",
              "      <td>Mickey</td>\n",
              "      <td>Wilkerson</td>\n",
              "      <td>28</td>\n",
              "      <td>Seattle-Tacoma-Bellevue, WA MSA</td>\n",
              "      <td>2018-08-13</td>\n",
              "      <td>surf</td>\n",
              "      <td>NaN</td>\n",
              "    </tr>\n",
              "    <tr>\n",
              "      <th>2</th>\n",
              "      <td>1002</td>\n",
              "      <td>Carlee</td>\n",
              "      <td>Hoffman</td>\n",
              "      <td>36</td>\n",
              "      <td>Las Vegas-Henderson-Paradise, NV MSA</td>\n",
              "      <td>2018-10-21</td>\n",
              "      <td>surf</td>\n",
              "      <td>NaN</td>\n",
              "    </tr>\n",
              "    <tr>\n",
              "      <th>3</th>\n",
              "      <td>1003</td>\n",
              "      <td>Reynaldo</td>\n",
              "      <td>Jenkins</td>\n",
              "      <td>52</td>\n",
              "      <td>Tulsa, OK MSA</td>\n",
              "      <td>2018-01-28</td>\n",
              "      <td>surf</td>\n",
              "      <td>NaN</td>\n",
              "    </tr>\n",
              "    <tr>\n",
              "      <th>4</th>\n",
              "      <td>1004</td>\n",
              "      <td>Leonila</td>\n",
              "      <td>Thompson</td>\n",
              "      <td>40</td>\n",
              "      <td>Seattle-Tacoma-Bellevue, WA MSA</td>\n",
              "      <td>2018-05-23</td>\n",
              "      <td>surf</td>\n",
              "      <td>NaN</td>\n",
              "    </tr>\n",
              "    <tr>\n",
              "      <th>5</th>\n",
              "      <td>1005</td>\n",
              "      <td>Livia</td>\n",
              "      <td>Shields</td>\n",
              "      <td>31</td>\n",
              "      <td>Dallas-Fort Worth-Arlington, TX MSA</td>\n",
              "      <td>2018-11-29</td>\n",
              "      <td>surf</td>\n",
              "      <td>NaN</td>\n",
              "    </tr>\n",
              "    <tr>\n",
              "      <th>6</th>\n",
              "      <td>1006</td>\n",
              "      <td>Jesusa</td>\n",
              "      <td>Bradford</td>\n",
              "      <td>73</td>\n",
              "      <td>San Francisco-Oakland-Berkeley, CA MSA</td>\n",
              "      <td>2018-11-27</td>\n",
              "      <td>ultimate</td>\n",
              "      <td>2018-12-18</td>\n",
              "    </tr>\n",
              "    <tr>\n",
              "      <th>7</th>\n",
              "      <td>1007</td>\n",
              "      <td>Eusebio</td>\n",
              "      <td>Welch</td>\n",
              "      <td>42</td>\n",
              "      <td>Grand Rapids-Kentwood, MI MSA</td>\n",
              "      <td>2018-07-11</td>\n",
              "      <td>surf</td>\n",
              "      <td>NaN</td>\n",
              "    </tr>\n",
              "    <tr>\n",
              "      <th>8</th>\n",
              "      <td>1008</td>\n",
              "      <td>Emely</td>\n",
              "      <td>Hoffman</td>\n",
              "      <td>53</td>\n",
              "      <td>Orlando-Kissimmee-Sanford, FL MSA</td>\n",
              "      <td>2018-08-03</td>\n",
              "      <td>ultimate</td>\n",
              "      <td>NaN</td>\n",
              "    </tr>\n",
              "    <tr>\n",
              "      <th>9</th>\n",
              "      <td>1009</td>\n",
              "      <td>Gerry</td>\n",
              "      <td>Little</td>\n",
              "      <td>19</td>\n",
              "      <td>San Jose-Sunnyvale-Santa Clara, CA MSA</td>\n",
              "      <td>2018-04-22</td>\n",
              "      <td>surf</td>\n",
              "      <td>NaN</td>\n",
              "    </tr>\n",
              "  </tbody>\n",
              "</table>\n",
              "</div>\n",
              "      <button class=\"colab-df-convert\" onclick=\"convertToInteractive('df-283063d1-66af-48e3-99f6-f11f5fee157a')\"\n",
              "              title=\"Convert this dataframe to an interactive table.\"\n",
              "              style=\"display:none;\">\n",
              "        \n",
              "  <svg xmlns=\"http://www.w3.org/2000/svg\" height=\"24px\"viewBox=\"0 0 24 24\"\n",
              "       width=\"24px\">\n",
              "    <path d=\"M0 0h24v24H0V0z\" fill=\"none\"/>\n",
              "    <path d=\"M18.56 5.44l.94 2.06.94-2.06 2.06-.94-2.06-.94-.94-2.06-.94 2.06-2.06.94zm-11 1L8.5 8.5l.94-2.06 2.06-.94-2.06-.94L8.5 2.5l-.94 2.06-2.06.94zm10 10l.94 2.06.94-2.06 2.06-.94-2.06-.94-.94-2.06-.94 2.06-2.06.94z\"/><path d=\"M17.41 7.96l-1.37-1.37c-.4-.4-.92-.59-1.43-.59-.52 0-1.04.2-1.43.59L10.3 9.45l-7.72 7.72c-.78.78-.78 2.05 0 2.83L4 21.41c.39.39.9.59 1.41.59.51 0 1.02-.2 1.41-.59l7.78-7.78 2.81-2.81c.8-.78.8-2.07 0-2.86zM5.41 20L4 18.59l7.72-7.72 1.47 1.35L5.41 20z\"/>\n",
              "  </svg>\n",
              "      </button>\n",
              "      \n",
              "  <style>\n",
              "    .colab-df-container {\n",
              "      display:flex;\n",
              "      flex-wrap:wrap;\n",
              "      gap: 12px;\n",
              "    }\n",
              "\n",
              "    .colab-df-convert {\n",
              "      background-color: #E8F0FE;\n",
              "      border: none;\n",
              "      border-radius: 50%;\n",
              "      cursor: pointer;\n",
              "      display: none;\n",
              "      fill: #1967D2;\n",
              "      height: 32px;\n",
              "      padding: 0 0 0 0;\n",
              "      width: 32px;\n",
              "    }\n",
              "\n",
              "    .colab-df-convert:hover {\n",
              "      background-color: #E2EBFA;\n",
              "      box-shadow: 0px 1px 2px rgba(60, 64, 67, 0.3), 0px 1px 3px 1px rgba(60, 64, 67, 0.15);\n",
              "      fill: #174EA6;\n",
              "    }\n",
              "\n",
              "    [theme=dark] .colab-df-convert {\n",
              "      background-color: #3B4455;\n",
              "      fill: #D2E3FC;\n",
              "    }\n",
              "\n",
              "    [theme=dark] .colab-df-convert:hover {\n",
              "      background-color: #434B5C;\n",
              "      box-shadow: 0px 1px 3px 1px rgba(0, 0, 0, 0.15);\n",
              "      filter: drop-shadow(0px 1px 2px rgba(0, 0, 0, 0.3));\n",
              "      fill: #FFFFFF;\n",
              "    }\n",
              "  </style>\n",
              "\n",
              "      <script>\n",
              "        const buttonEl =\n",
              "          document.querySelector('#df-283063d1-66af-48e3-99f6-f11f5fee157a button.colab-df-convert');\n",
              "        buttonEl.style.display =\n",
              "          google.colab.kernel.accessAllowed ? 'block' : 'none';\n",
              "\n",
              "        async function convertToInteractive(key) {\n",
              "          const element = document.querySelector('#df-283063d1-66af-48e3-99f6-f11f5fee157a');\n",
              "          const dataTable =\n",
              "            await google.colab.kernel.invokeFunction('convertToInteractive',\n",
              "                                                     [key], {});\n",
              "          if (!dataTable) return;\n",
              "\n",
              "          const docLinkHtml = 'Like what you see? Visit the ' +\n",
              "            '<a target=\"_blank\" href=https://colab.research.google.com/notebooks/data_table.ipynb>data table notebook</a>'\n",
              "            + ' to learn more about interactive tables.';\n",
              "          element.innerHTML = '';\n",
              "          dataTable['output_type'] = 'display_data';\n",
              "          await google.colab.output.renderOutput(dataTable, element);\n",
              "          const docLink = document.createElement('div');\n",
              "          docLink.innerHTML = docLinkHtml;\n",
              "          element.appendChild(docLink);\n",
              "        }\n",
              "      </script>\n",
              "    </div>\n",
              "  </div>\n",
              "  "
            ]
          },
          "metadata": {},
          "execution_count": 8
        }
      ],
      "source": [
        "users.head(10)"
      ]
    },
    {
      "cell_type": "code",
      "execution_count": null,
      "metadata": {
        "colab": {
          "base_uri": "https://localhost:8080/"
        },
        "id": "rqkXY3HQmPJi",
        "outputId": "63dd9190-2ffe-4a67-bfe6-67c015311c1f"
      },
      "outputs": [
        {
          "output_type": "execute_result",
          "data": {
            "text/plain": [
              "466"
            ]
          },
          "metadata": {},
          "execution_count": 9
        }
      ],
      "source": [
        "users['churn_date'] = pd.to_datetime(users['churn_date'], format='%Y-%m-%d')\n",
        "users['reg_date'] = pd.to_datetime(users['reg_date'], format='%Y-%m-%d')\n",
        "users['churn_date'].isna().sum()\n",
        "# El número de usuarios que no tienen una fecha de `churn_date`, o sea que tenían el contrato aún activo.\n",
        "# Vamos a reemplazar esos valores sin fecha con 31 de diciembre de 2018 que es el año en que se llevo a cabo la recolección de datos"
      ]
    },
    {
      "cell_type": "code",
      "execution_count": null,
      "metadata": {
        "colab": {
          "base_uri": "https://localhost:8080/"
        },
        "id": "D_ns2t5Brneh",
        "outputId": "36ef24d8-0fe2-4405-8b07-c6a5566914c1"
      },
      "outputs": [
        {
          "output_type": "execute_result",
          "data": {
            "text/plain": [
              "   user_id first_name  last_name  age                                    city  \\\n",
              "0     1000   Anamaria      Bauer   45   Atlanta-Sandy Springs-Roswell, GA MSA   \n",
              "1     1001     Mickey  Wilkerson   28         Seattle-Tacoma-Bellevue, WA MSA   \n",
              "2     1002     Carlee    Hoffman   36    Las Vegas-Henderson-Paradise, NV MSA   \n",
              "3     1003   Reynaldo    Jenkins   52                           Tulsa, OK MSA   \n",
              "4     1004    Leonila   Thompson   40         Seattle-Tacoma-Bellevue, WA MSA   \n",
              "5     1005      Livia    Shields   31     Dallas-Fort Worth-Arlington, TX MSA   \n",
              "6     1006     Jesusa   Bradford   73  San Francisco-Oakland-Berkeley, CA MSA   \n",
              "7     1007    Eusebio      Welch   42           Grand Rapids-Kentwood, MI MSA   \n",
              "8     1008      Emely    Hoffman   53       Orlando-Kissimmee-Sanford, FL MSA   \n",
              "9     1009      Gerry     Little   19  San Jose-Sunnyvale-Santa Clara, CA MSA   \n",
              "\n",
              "    reg_date      plan churn_date  \n",
              "0 2018-12-24  ultimate        NaT  \n",
              "1 2018-08-13      surf        NaT  \n",
              "2 2018-10-21      surf        NaT  \n",
              "3 2018-01-28      surf        NaT  \n",
              "4 2018-05-23      surf        NaT  \n",
              "5 2018-11-29      surf        NaT  \n",
              "6 2018-11-27  ultimate 2018-12-18  \n",
              "7 2018-07-11      surf        NaT  \n",
              "8 2018-08-03  ultimate        NaT  \n",
              "9 2018-04-22      surf        NaT  "
            ],
            "text/html": [
              "\n",
              "  <div id=\"df-14ac8aee-0023-46cb-bf8b-294846c950aa\">\n",
              "    <div class=\"colab-df-container\">\n",
              "      <div>\n",
              "<style scoped>\n",
              "    .dataframe tbody tr th:only-of-type {\n",
              "        vertical-align: middle;\n",
              "    }\n",
              "\n",
              "    .dataframe tbody tr th {\n",
              "        vertical-align: top;\n",
              "    }\n",
              "\n",
              "    .dataframe thead th {\n",
              "        text-align: right;\n",
              "    }\n",
              "</style>\n",
              "<table border=\"1\" class=\"dataframe\">\n",
              "  <thead>\n",
              "    <tr style=\"text-align: right;\">\n",
              "      <th></th>\n",
              "      <th>user_id</th>\n",
              "      <th>first_name</th>\n",
              "      <th>last_name</th>\n",
              "      <th>age</th>\n",
              "      <th>city</th>\n",
              "      <th>reg_date</th>\n",
              "      <th>plan</th>\n",
              "      <th>churn_date</th>\n",
              "    </tr>\n",
              "  </thead>\n",
              "  <tbody>\n",
              "    <tr>\n",
              "      <th>0</th>\n",
              "      <td>1000</td>\n",
              "      <td>Anamaria</td>\n",
              "      <td>Bauer</td>\n",
              "      <td>45</td>\n",
              "      <td>Atlanta-Sandy Springs-Roswell, GA MSA</td>\n",
              "      <td>2018-12-24</td>\n",
              "      <td>ultimate</td>\n",
              "      <td>NaT</td>\n",
              "    </tr>\n",
              "    <tr>\n",
              "      <th>1</th>\n",
              "      <td>1001</td>\n",
              "      <td>Mickey</td>\n",
              "      <td>Wilkerson</td>\n",
              "      <td>28</td>\n",
              "      <td>Seattle-Tacoma-Bellevue, WA MSA</td>\n",
              "      <td>2018-08-13</td>\n",
              "      <td>surf</td>\n",
              "      <td>NaT</td>\n",
              "    </tr>\n",
              "    <tr>\n",
              "      <th>2</th>\n",
              "      <td>1002</td>\n",
              "      <td>Carlee</td>\n",
              "      <td>Hoffman</td>\n",
              "      <td>36</td>\n",
              "      <td>Las Vegas-Henderson-Paradise, NV MSA</td>\n",
              "      <td>2018-10-21</td>\n",
              "      <td>surf</td>\n",
              "      <td>NaT</td>\n",
              "    </tr>\n",
              "    <tr>\n",
              "      <th>3</th>\n",
              "      <td>1003</td>\n",
              "      <td>Reynaldo</td>\n",
              "      <td>Jenkins</td>\n",
              "      <td>52</td>\n",
              "      <td>Tulsa, OK MSA</td>\n",
              "      <td>2018-01-28</td>\n",
              "      <td>surf</td>\n",
              "      <td>NaT</td>\n",
              "    </tr>\n",
              "    <tr>\n",
              "      <th>4</th>\n",
              "      <td>1004</td>\n",
              "      <td>Leonila</td>\n",
              "      <td>Thompson</td>\n",
              "      <td>40</td>\n",
              "      <td>Seattle-Tacoma-Bellevue, WA MSA</td>\n",
              "      <td>2018-05-23</td>\n",
              "      <td>surf</td>\n",
              "      <td>NaT</td>\n",
              "    </tr>\n",
              "    <tr>\n",
              "      <th>5</th>\n",
              "      <td>1005</td>\n",
              "      <td>Livia</td>\n",
              "      <td>Shields</td>\n",
              "      <td>31</td>\n",
              "      <td>Dallas-Fort Worth-Arlington, TX MSA</td>\n",
              "      <td>2018-11-29</td>\n",
              "      <td>surf</td>\n",
              "      <td>NaT</td>\n",
              "    </tr>\n",
              "    <tr>\n",
              "      <th>6</th>\n",
              "      <td>1006</td>\n",
              "      <td>Jesusa</td>\n",
              "      <td>Bradford</td>\n",
              "      <td>73</td>\n",
              "      <td>San Francisco-Oakland-Berkeley, CA MSA</td>\n",
              "      <td>2018-11-27</td>\n",
              "      <td>ultimate</td>\n",
              "      <td>2018-12-18</td>\n",
              "    </tr>\n",
              "    <tr>\n",
              "      <th>7</th>\n",
              "      <td>1007</td>\n",
              "      <td>Eusebio</td>\n",
              "      <td>Welch</td>\n",
              "      <td>42</td>\n",
              "      <td>Grand Rapids-Kentwood, MI MSA</td>\n",
              "      <td>2018-07-11</td>\n",
              "      <td>surf</td>\n",
              "      <td>NaT</td>\n",
              "    </tr>\n",
              "    <tr>\n",
              "      <th>8</th>\n",
              "      <td>1008</td>\n",
              "      <td>Emely</td>\n",
              "      <td>Hoffman</td>\n",
              "      <td>53</td>\n",
              "      <td>Orlando-Kissimmee-Sanford, FL MSA</td>\n",
              "      <td>2018-08-03</td>\n",
              "      <td>ultimate</td>\n",
              "      <td>NaT</td>\n",
              "    </tr>\n",
              "    <tr>\n",
              "      <th>9</th>\n",
              "      <td>1009</td>\n",
              "      <td>Gerry</td>\n",
              "      <td>Little</td>\n",
              "      <td>19</td>\n",
              "      <td>San Jose-Sunnyvale-Santa Clara, CA MSA</td>\n",
              "      <td>2018-04-22</td>\n",
              "      <td>surf</td>\n",
              "      <td>NaT</td>\n",
              "    </tr>\n",
              "  </tbody>\n",
              "</table>\n",
              "</div>\n",
              "      <button class=\"colab-df-convert\" onclick=\"convertToInteractive('df-14ac8aee-0023-46cb-bf8b-294846c950aa')\"\n",
              "              title=\"Convert this dataframe to an interactive table.\"\n",
              "              style=\"display:none;\">\n",
              "        \n",
              "  <svg xmlns=\"http://www.w3.org/2000/svg\" height=\"24px\"viewBox=\"0 0 24 24\"\n",
              "       width=\"24px\">\n",
              "    <path d=\"M0 0h24v24H0V0z\" fill=\"none\"/>\n",
              "    <path d=\"M18.56 5.44l.94 2.06.94-2.06 2.06-.94-2.06-.94-.94-2.06-.94 2.06-2.06.94zm-11 1L8.5 8.5l.94-2.06 2.06-.94-2.06-.94L8.5 2.5l-.94 2.06-2.06.94zm10 10l.94 2.06.94-2.06 2.06-.94-2.06-.94-.94-2.06-.94 2.06-2.06.94z\"/><path d=\"M17.41 7.96l-1.37-1.37c-.4-.4-.92-.59-1.43-.59-.52 0-1.04.2-1.43.59L10.3 9.45l-7.72 7.72c-.78.78-.78 2.05 0 2.83L4 21.41c.39.39.9.59 1.41.59.51 0 1.02-.2 1.41-.59l7.78-7.78 2.81-2.81c.8-.78.8-2.07 0-2.86zM5.41 20L4 18.59l7.72-7.72 1.47 1.35L5.41 20z\"/>\n",
              "  </svg>\n",
              "      </button>\n",
              "      \n",
              "  <style>\n",
              "    .colab-df-container {\n",
              "      display:flex;\n",
              "      flex-wrap:wrap;\n",
              "      gap: 12px;\n",
              "    }\n",
              "\n",
              "    .colab-df-convert {\n",
              "      background-color: #E8F0FE;\n",
              "      border: none;\n",
              "      border-radius: 50%;\n",
              "      cursor: pointer;\n",
              "      display: none;\n",
              "      fill: #1967D2;\n",
              "      height: 32px;\n",
              "      padding: 0 0 0 0;\n",
              "      width: 32px;\n",
              "    }\n",
              "\n",
              "    .colab-df-convert:hover {\n",
              "      background-color: #E2EBFA;\n",
              "      box-shadow: 0px 1px 2px rgba(60, 64, 67, 0.3), 0px 1px 3px 1px rgba(60, 64, 67, 0.15);\n",
              "      fill: #174EA6;\n",
              "    }\n",
              "\n",
              "    [theme=dark] .colab-df-convert {\n",
              "      background-color: #3B4455;\n",
              "      fill: #D2E3FC;\n",
              "    }\n",
              "\n",
              "    [theme=dark] .colab-df-convert:hover {\n",
              "      background-color: #434B5C;\n",
              "      box-shadow: 0px 1px 3px 1px rgba(0, 0, 0, 0.15);\n",
              "      filter: drop-shadow(0px 1px 2px rgba(0, 0, 0, 0.3));\n",
              "      fill: #FFFFFF;\n",
              "    }\n",
              "  </style>\n",
              "\n",
              "      <script>\n",
              "        const buttonEl =\n",
              "          document.querySelector('#df-14ac8aee-0023-46cb-bf8b-294846c950aa button.colab-df-convert');\n",
              "        buttonEl.style.display =\n",
              "          google.colab.kernel.accessAllowed ? 'block' : 'none';\n",
              "\n",
              "        async function convertToInteractive(key) {\n",
              "          const element = document.querySelector('#df-14ac8aee-0023-46cb-bf8b-294846c950aa');\n",
              "          const dataTable =\n",
              "            await google.colab.kernel.invokeFunction('convertToInteractive',\n",
              "                                                     [key], {});\n",
              "          if (!dataTable) return;\n",
              "\n",
              "          const docLinkHtml = 'Like what you see? Visit the ' +\n",
              "            '<a target=\"_blank\" href=https://colab.research.google.com/notebooks/data_table.ipynb>data table notebook</a>'\n",
              "            + ' to learn more about interactive tables.';\n",
              "          element.innerHTML = '';\n",
              "          dataTable['output_type'] = 'display_data';\n",
              "          await google.colab.output.renderOutput(dataTable, element);\n",
              "          const docLink = document.createElement('div');\n",
              "          docLink.innerHTML = docLinkHtml;\n",
              "          element.appendChild(docLink);\n",
              "        }\n",
              "      </script>\n",
              "    </div>\n",
              "  </div>\n",
              "  "
            ]
          },
          "metadata": {},
          "execution_count": 10
        }
      ],
      "source": [
        "users.head(10)"
      ]
    },
    {
      "cell_type": "code",
      "execution_count": null,
      "metadata": {
        "colab": {
          "base_uri": "https://localhost:8080/"
        },
        "id": "z5OHyx3trzsC",
        "outputId": "a2299b53-932f-4292-84c9-f512a230f508"
      },
      "outputs": [
        {
          "output_type": "execute_result",
          "data": {
            "text/plain": [
              "   user_id first_name  last_name  age                                    city  \\\n",
              "0     1000   Anamaria      Bauer   45   Atlanta-Sandy Springs-Roswell, GA MSA   \n",
              "1     1001     Mickey  Wilkerson   28         Seattle-Tacoma-Bellevue, WA MSA   \n",
              "2     1002     Carlee    Hoffman   36    Las Vegas-Henderson-Paradise, NV MSA   \n",
              "3     1003   Reynaldo    Jenkins   52                           Tulsa, OK MSA   \n",
              "4     1004    Leonila   Thompson   40         Seattle-Tacoma-Bellevue, WA MSA   \n",
              "5     1005      Livia    Shields   31     Dallas-Fort Worth-Arlington, TX MSA   \n",
              "6     1006     Jesusa   Bradford   73  San Francisco-Oakland-Berkeley, CA MSA   \n",
              "7     1007    Eusebio      Welch   42           Grand Rapids-Kentwood, MI MSA   \n",
              "8     1008      Emely    Hoffman   53       Orlando-Kissimmee-Sanford, FL MSA   \n",
              "9     1009      Gerry     Little   19  San Jose-Sunnyvale-Santa Clara, CA MSA   \n",
              "\n",
              "    reg_date      plan           churn_date  \n",
              "0 2018-12-24  ultimate           1800-02-30  \n",
              "1 2018-08-13      surf           1800-02-30  \n",
              "2 2018-10-21      surf           1800-02-30  \n",
              "3 2018-01-28      surf           1800-02-30  \n",
              "4 2018-05-23      surf           1800-02-30  \n",
              "5 2018-11-29      surf           1800-02-30  \n",
              "6 2018-11-27  ultimate  2018-12-18 00:00:00  \n",
              "7 2018-07-11      surf           1800-02-30  \n",
              "8 2018-08-03  ultimate           1800-02-30  \n",
              "9 2018-04-22      surf           1800-02-30  "
            ],
            "text/html": [
              "\n",
              "  <div id=\"df-c8972be6-e1e0-48d1-9198-bae3df91d306\">\n",
              "    <div class=\"colab-df-container\">\n",
              "      <div>\n",
              "<style scoped>\n",
              "    .dataframe tbody tr th:only-of-type {\n",
              "        vertical-align: middle;\n",
              "    }\n",
              "\n",
              "    .dataframe tbody tr th {\n",
              "        vertical-align: top;\n",
              "    }\n",
              "\n",
              "    .dataframe thead th {\n",
              "        text-align: right;\n",
              "    }\n",
              "</style>\n",
              "<table border=\"1\" class=\"dataframe\">\n",
              "  <thead>\n",
              "    <tr style=\"text-align: right;\">\n",
              "      <th></th>\n",
              "      <th>user_id</th>\n",
              "      <th>first_name</th>\n",
              "      <th>last_name</th>\n",
              "      <th>age</th>\n",
              "      <th>city</th>\n",
              "      <th>reg_date</th>\n",
              "      <th>plan</th>\n",
              "      <th>churn_date</th>\n",
              "    </tr>\n",
              "  </thead>\n",
              "  <tbody>\n",
              "    <tr>\n",
              "      <th>0</th>\n",
              "      <td>1000</td>\n",
              "      <td>Anamaria</td>\n",
              "      <td>Bauer</td>\n",
              "      <td>45</td>\n",
              "      <td>Atlanta-Sandy Springs-Roswell, GA MSA</td>\n",
              "      <td>2018-12-24</td>\n",
              "      <td>ultimate</td>\n",
              "      <td>1800-02-30</td>\n",
              "    </tr>\n",
              "    <tr>\n",
              "      <th>1</th>\n",
              "      <td>1001</td>\n",
              "      <td>Mickey</td>\n",
              "      <td>Wilkerson</td>\n",
              "      <td>28</td>\n",
              "      <td>Seattle-Tacoma-Bellevue, WA MSA</td>\n",
              "      <td>2018-08-13</td>\n",
              "      <td>surf</td>\n",
              "      <td>1800-02-30</td>\n",
              "    </tr>\n",
              "    <tr>\n",
              "      <th>2</th>\n",
              "      <td>1002</td>\n",
              "      <td>Carlee</td>\n",
              "      <td>Hoffman</td>\n",
              "      <td>36</td>\n",
              "      <td>Las Vegas-Henderson-Paradise, NV MSA</td>\n",
              "      <td>2018-10-21</td>\n",
              "      <td>surf</td>\n",
              "      <td>1800-02-30</td>\n",
              "    </tr>\n",
              "    <tr>\n",
              "      <th>3</th>\n",
              "      <td>1003</td>\n",
              "      <td>Reynaldo</td>\n",
              "      <td>Jenkins</td>\n",
              "      <td>52</td>\n",
              "      <td>Tulsa, OK MSA</td>\n",
              "      <td>2018-01-28</td>\n",
              "      <td>surf</td>\n",
              "      <td>1800-02-30</td>\n",
              "    </tr>\n",
              "    <tr>\n",
              "      <th>4</th>\n",
              "      <td>1004</td>\n",
              "      <td>Leonila</td>\n",
              "      <td>Thompson</td>\n",
              "      <td>40</td>\n",
              "      <td>Seattle-Tacoma-Bellevue, WA MSA</td>\n",
              "      <td>2018-05-23</td>\n",
              "      <td>surf</td>\n",
              "      <td>1800-02-30</td>\n",
              "    </tr>\n",
              "    <tr>\n",
              "      <th>5</th>\n",
              "      <td>1005</td>\n",
              "      <td>Livia</td>\n",
              "      <td>Shields</td>\n",
              "      <td>31</td>\n",
              "      <td>Dallas-Fort Worth-Arlington, TX MSA</td>\n",
              "      <td>2018-11-29</td>\n",
              "      <td>surf</td>\n",
              "      <td>1800-02-30</td>\n",
              "    </tr>\n",
              "    <tr>\n",
              "      <th>6</th>\n",
              "      <td>1006</td>\n",
              "      <td>Jesusa</td>\n",
              "      <td>Bradford</td>\n",
              "      <td>73</td>\n",
              "      <td>San Francisco-Oakland-Berkeley, CA MSA</td>\n",
              "      <td>2018-11-27</td>\n",
              "      <td>ultimate</td>\n",
              "      <td>2018-12-18 00:00:00</td>\n",
              "    </tr>\n",
              "    <tr>\n",
              "      <th>7</th>\n",
              "      <td>1007</td>\n",
              "      <td>Eusebio</td>\n",
              "      <td>Welch</td>\n",
              "      <td>42</td>\n",
              "      <td>Grand Rapids-Kentwood, MI MSA</td>\n",
              "      <td>2018-07-11</td>\n",
              "      <td>surf</td>\n",
              "      <td>1800-02-30</td>\n",
              "    </tr>\n",
              "    <tr>\n",
              "      <th>8</th>\n",
              "      <td>1008</td>\n",
              "      <td>Emely</td>\n",
              "      <td>Hoffman</td>\n",
              "      <td>53</td>\n",
              "      <td>Orlando-Kissimmee-Sanford, FL MSA</td>\n",
              "      <td>2018-08-03</td>\n",
              "      <td>ultimate</td>\n",
              "      <td>1800-02-30</td>\n",
              "    </tr>\n",
              "    <tr>\n",
              "      <th>9</th>\n",
              "      <td>1009</td>\n",
              "      <td>Gerry</td>\n",
              "      <td>Little</td>\n",
              "      <td>19</td>\n",
              "      <td>San Jose-Sunnyvale-Santa Clara, CA MSA</td>\n",
              "      <td>2018-04-22</td>\n",
              "      <td>surf</td>\n",
              "      <td>1800-02-30</td>\n",
              "    </tr>\n",
              "  </tbody>\n",
              "</table>\n",
              "</div>\n",
              "      <button class=\"colab-df-convert\" onclick=\"convertToInteractive('df-c8972be6-e1e0-48d1-9198-bae3df91d306')\"\n",
              "              title=\"Convert this dataframe to an interactive table.\"\n",
              "              style=\"display:none;\">\n",
              "        \n",
              "  <svg xmlns=\"http://www.w3.org/2000/svg\" height=\"24px\"viewBox=\"0 0 24 24\"\n",
              "       width=\"24px\">\n",
              "    <path d=\"M0 0h24v24H0V0z\" fill=\"none\"/>\n",
              "    <path d=\"M18.56 5.44l.94 2.06.94-2.06 2.06-.94-2.06-.94-.94-2.06-.94 2.06-2.06.94zm-11 1L8.5 8.5l.94-2.06 2.06-.94-2.06-.94L8.5 2.5l-.94 2.06-2.06.94zm10 10l.94 2.06.94-2.06 2.06-.94-2.06-.94-.94-2.06-.94 2.06-2.06.94z\"/><path d=\"M17.41 7.96l-1.37-1.37c-.4-.4-.92-.59-1.43-.59-.52 0-1.04.2-1.43.59L10.3 9.45l-7.72 7.72c-.78.78-.78 2.05 0 2.83L4 21.41c.39.39.9.59 1.41.59.51 0 1.02-.2 1.41-.59l7.78-7.78 2.81-2.81c.8-.78.8-2.07 0-2.86zM5.41 20L4 18.59l7.72-7.72 1.47 1.35L5.41 20z\"/>\n",
              "  </svg>\n",
              "      </button>\n",
              "      \n",
              "  <style>\n",
              "    .colab-df-container {\n",
              "      display:flex;\n",
              "      flex-wrap:wrap;\n",
              "      gap: 12px;\n",
              "    }\n",
              "\n",
              "    .colab-df-convert {\n",
              "      background-color: #E8F0FE;\n",
              "      border: none;\n",
              "      border-radius: 50%;\n",
              "      cursor: pointer;\n",
              "      display: none;\n",
              "      fill: #1967D2;\n",
              "      height: 32px;\n",
              "      padding: 0 0 0 0;\n",
              "      width: 32px;\n",
              "    }\n",
              "\n",
              "    .colab-df-convert:hover {\n",
              "      background-color: #E2EBFA;\n",
              "      box-shadow: 0px 1px 2px rgba(60, 64, 67, 0.3), 0px 1px 3px 1px rgba(60, 64, 67, 0.15);\n",
              "      fill: #174EA6;\n",
              "    }\n",
              "\n",
              "    [theme=dark] .colab-df-convert {\n",
              "      background-color: #3B4455;\n",
              "      fill: #D2E3FC;\n",
              "    }\n",
              "\n",
              "    [theme=dark] .colab-df-convert:hover {\n",
              "      background-color: #434B5C;\n",
              "      box-shadow: 0px 1px 3px 1px rgba(0, 0, 0, 0.15);\n",
              "      filter: drop-shadow(0px 1px 2px rgba(0, 0, 0, 0.3));\n",
              "      fill: #FFFFFF;\n",
              "    }\n",
              "  </style>\n",
              "\n",
              "      <script>\n",
              "        const buttonEl =\n",
              "          document.querySelector('#df-c8972be6-e1e0-48d1-9198-bae3df91d306 button.colab-df-convert');\n",
              "        buttonEl.style.display =\n",
              "          google.colab.kernel.accessAllowed ? 'block' : 'none';\n",
              "\n",
              "        async function convertToInteractive(key) {\n",
              "          const element = document.querySelector('#df-c8972be6-e1e0-48d1-9198-bae3df91d306');\n",
              "          const dataTable =\n",
              "            await google.colab.kernel.invokeFunction('convertToInteractive',\n",
              "                                                     [key], {});\n",
              "          if (!dataTable) return;\n",
              "\n",
              "          const docLinkHtml = 'Like what you see? Visit the ' +\n",
              "            '<a target=\"_blank\" href=https://colab.research.google.com/notebooks/data_table.ipynb>data table notebook</a>'\n",
              "            + ' to learn more about interactive tables.';\n",
              "          element.innerHTML = '';\n",
              "          dataTable['output_type'] = 'display_data';\n",
              "          await google.colab.output.renderOutput(dataTable, element);\n",
              "          const docLink = document.createElement('div');\n",
              "          docLink.innerHTML = docLinkHtml;\n",
              "          element.appendChild(docLink);\n",
              "        }\n",
              "      </script>\n",
              "    </div>\n",
              "  </div>\n",
              "  "
            ]
          },
          "metadata": {},
          "execution_count": 11
        }
      ],
      "source": [
        "users['churn_date'] = users['churn_date'].fillna('1800-02-30')\n",
        "users.head(10)\n",
        "# Aquí ya llenamos los valroes ausentes de las fechas en `churn_date` con el 30 de febrero de 1800 (:\n",
        "# Esto es para delimitar el tiempo que se está considerando en el análisis que es el año 2018."
      ]
    },
    {
      "cell_type": "markdown",
      "metadata": {
        "id": "tOoIxyjQnJ28"
      },
      "source": [
        "## Preprocesando `calls`"
      ]
    },
    {
      "cell_type": "code",
      "execution_count": null,
      "metadata": {
        "colab": {
          "base_uri": "https://localhost:8080/",
          "height": 206
        },
        "id": "MzxyBvTY-nN1",
        "outputId": "7b843382-bac7-4d8f-a2b8-3ec380ce6fbd"
      },
      "outputs": [
        {
          "output_type": "execute_result",
          "data": {
            "text/plain": [
              "         id  user_id  call_date  duration  month\n",
              "0   1000_93     1000 2018-12-27         9     12\n",
              "1  1000_145     1000 2018-12-27        14     12\n",
              "2  1000_247     1000 2018-12-27        15     12\n",
              "3  1000_309     1000 2018-12-28         6     12\n",
              "4  1000_380     1000 2018-12-30         5     12"
            ],
            "text/html": [
              "\n",
              "  <div id=\"df-8e20af3c-222f-4233-8aa6-2c738b973b33\">\n",
              "    <div class=\"colab-df-container\">\n",
              "      <div>\n",
              "<style scoped>\n",
              "    .dataframe tbody tr th:only-of-type {\n",
              "        vertical-align: middle;\n",
              "    }\n",
              "\n",
              "    .dataframe tbody tr th {\n",
              "        vertical-align: top;\n",
              "    }\n",
              "\n",
              "    .dataframe thead th {\n",
              "        text-align: right;\n",
              "    }\n",
              "</style>\n",
              "<table border=\"1\" class=\"dataframe\">\n",
              "  <thead>\n",
              "    <tr style=\"text-align: right;\">\n",
              "      <th></th>\n",
              "      <th>id</th>\n",
              "      <th>user_id</th>\n",
              "      <th>call_date</th>\n",
              "      <th>duration</th>\n",
              "      <th>month</th>\n",
              "    </tr>\n",
              "  </thead>\n",
              "  <tbody>\n",
              "    <tr>\n",
              "      <th>0</th>\n",
              "      <td>1000_93</td>\n",
              "      <td>1000</td>\n",
              "      <td>2018-12-27</td>\n",
              "      <td>9</td>\n",
              "      <td>12</td>\n",
              "    </tr>\n",
              "    <tr>\n",
              "      <th>1</th>\n",
              "      <td>1000_145</td>\n",
              "      <td>1000</td>\n",
              "      <td>2018-12-27</td>\n",
              "      <td>14</td>\n",
              "      <td>12</td>\n",
              "    </tr>\n",
              "    <tr>\n",
              "      <th>2</th>\n",
              "      <td>1000_247</td>\n",
              "      <td>1000</td>\n",
              "      <td>2018-12-27</td>\n",
              "      <td>15</td>\n",
              "      <td>12</td>\n",
              "    </tr>\n",
              "    <tr>\n",
              "      <th>3</th>\n",
              "      <td>1000_309</td>\n",
              "      <td>1000</td>\n",
              "      <td>2018-12-28</td>\n",
              "      <td>6</td>\n",
              "      <td>12</td>\n",
              "    </tr>\n",
              "    <tr>\n",
              "      <th>4</th>\n",
              "      <td>1000_380</td>\n",
              "      <td>1000</td>\n",
              "      <td>2018-12-30</td>\n",
              "      <td>5</td>\n",
              "      <td>12</td>\n",
              "    </tr>\n",
              "  </tbody>\n",
              "</table>\n",
              "</div>\n",
              "      <button class=\"colab-df-convert\" onclick=\"convertToInteractive('df-8e20af3c-222f-4233-8aa6-2c738b973b33')\"\n",
              "              title=\"Convert this dataframe to an interactive table.\"\n",
              "              style=\"display:none;\">\n",
              "        \n",
              "  <svg xmlns=\"http://www.w3.org/2000/svg\" height=\"24px\"viewBox=\"0 0 24 24\"\n",
              "       width=\"24px\">\n",
              "    <path d=\"M0 0h24v24H0V0z\" fill=\"none\"/>\n",
              "    <path d=\"M18.56 5.44l.94 2.06.94-2.06 2.06-.94-2.06-.94-.94-2.06-.94 2.06-2.06.94zm-11 1L8.5 8.5l.94-2.06 2.06-.94-2.06-.94L8.5 2.5l-.94 2.06-2.06.94zm10 10l.94 2.06.94-2.06 2.06-.94-2.06-.94-.94-2.06-.94 2.06-2.06.94z\"/><path d=\"M17.41 7.96l-1.37-1.37c-.4-.4-.92-.59-1.43-.59-.52 0-1.04.2-1.43.59L10.3 9.45l-7.72 7.72c-.78.78-.78 2.05 0 2.83L4 21.41c.39.39.9.59 1.41.59.51 0 1.02-.2 1.41-.59l7.78-7.78 2.81-2.81c.8-.78.8-2.07 0-2.86zM5.41 20L4 18.59l7.72-7.72 1.47 1.35L5.41 20z\"/>\n",
              "  </svg>\n",
              "      </button>\n",
              "      \n",
              "  <style>\n",
              "    .colab-df-container {\n",
              "      display:flex;\n",
              "      flex-wrap:wrap;\n",
              "      gap: 12px;\n",
              "    }\n",
              "\n",
              "    .colab-df-convert {\n",
              "      background-color: #E8F0FE;\n",
              "      border: none;\n",
              "      border-radius: 50%;\n",
              "      cursor: pointer;\n",
              "      display: none;\n",
              "      fill: #1967D2;\n",
              "      height: 32px;\n",
              "      padding: 0 0 0 0;\n",
              "      width: 32px;\n",
              "    }\n",
              "\n",
              "    .colab-df-convert:hover {\n",
              "      background-color: #E2EBFA;\n",
              "      box-shadow: 0px 1px 2px rgba(60, 64, 67, 0.3), 0px 1px 3px 1px rgba(60, 64, 67, 0.15);\n",
              "      fill: #174EA6;\n",
              "    }\n",
              "\n",
              "    [theme=dark] .colab-df-convert {\n",
              "      background-color: #3B4455;\n",
              "      fill: #D2E3FC;\n",
              "    }\n",
              "\n",
              "    [theme=dark] .colab-df-convert:hover {\n",
              "      background-color: #434B5C;\n",
              "      box-shadow: 0px 1px 3px 1px rgba(0, 0, 0, 0.15);\n",
              "      filter: drop-shadow(0px 1px 2px rgba(0, 0, 0, 0.3));\n",
              "      fill: #FFFFFF;\n",
              "    }\n",
              "  </style>\n",
              "\n",
              "      <script>\n",
              "        const buttonEl =\n",
              "          document.querySelector('#df-8e20af3c-222f-4233-8aa6-2c738b973b33 button.colab-df-convert');\n",
              "        buttonEl.style.display =\n",
              "          google.colab.kernel.accessAllowed ? 'block' : 'none';\n",
              "\n",
              "        async function convertToInteractive(key) {\n",
              "          const element = document.querySelector('#df-8e20af3c-222f-4233-8aa6-2c738b973b33');\n",
              "          const dataTable =\n",
              "            await google.colab.kernel.invokeFunction('convertToInteractive',\n",
              "                                                     [key], {});\n",
              "          if (!dataTable) return;\n",
              "\n",
              "          const docLinkHtml = 'Like what you see? Visit the ' +\n",
              "            '<a target=\"_blank\" href=https://colab.research.google.com/notebooks/data_table.ipynb>data table notebook</a>'\n",
              "            + ' to learn more about interactive tables.';\n",
              "          element.innerHTML = '';\n",
              "          dataTable['output_type'] = 'display_data';\n",
              "          await google.colab.output.renderOutput(dataTable, element);\n",
              "          const docLink = document.createElement('div');\n",
              "          docLink.innerHTML = docLinkHtml;\n",
              "          element.appendChild(docLink);\n",
              "        }\n",
              "      </script>\n",
              "    </div>\n",
              "  </div>\n",
              "  "
            ]
          },
          "metadata": {},
          "execution_count": 97
        }
      ],
      "source": [
        "calls.head()\n"
      ]
    },
    {
      "cell_type": "code",
      "execution_count": null,
      "metadata": {
        "colab": {
          "base_uri": "https://localhost:8080/",
          "height": 300
        },
        "id": "c-47IZ7zcjp7",
        "outputId": "a8a1901b-5a33-4e8e-f867-76a6afcb5c2f"
      },
      "outputs": [
        {
          "output_type": "execute_result",
          "data": {
            "text/plain": [
              "             user_id       duration          month\n",
              "count  110901.000000  110901.000000  110901.000000\n",
              "mean     1247.511871       8.875907       9.319231\n",
              "std       139.475249       5.355181       2.415025\n",
              "min      1000.000000       1.000000       1.000000\n",
              "25%      1127.000000       5.000000       8.000000\n",
              "50%      1247.000000       8.000000      10.000000\n",
              "75%      1365.000000      12.000000      11.000000\n",
              "max      1499.000000      38.000000      12.000000"
            ],
            "text/html": [
              "\n",
              "  <div id=\"df-e420fff2-be1c-4a62-9b45-69d03d207c44\">\n",
              "    <div class=\"colab-df-container\">\n",
              "      <div>\n",
              "<style scoped>\n",
              "    .dataframe tbody tr th:only-of-type {\n",
              "        vertical-align: middle;\n",
              "    }\n",
              "\n",
              "    .dataframe tbody tr th {\n",
              "        vertical-align: top;\n",
              "    }\n",
              "\n",
              "    .dataframe thead th {\n",
              "        text-align: right;\n",
              "    }\n",
              "</style>\n",
              "<table border=\"1\" class=\"dataframe\">\n",
              "  <thead>\n",
              "    <tr style=\"text-align: right;\">\n",
              "      <th></th>\n",
              "      <th>user_id</th>\n",
              "      <th>duration</th>\n",
              "      <th>month</th>\n",
              "    </tr>\n",
              "  </thead>\n",
              "  <tbody>\n",
              "    <tr>\n",
              "      <th>count</th>\n",
              "      <td>110901.000000</td>\n",
              "      <td>110901.000000</td>\n",
              "      <td>110901.000000</td>\n",
              "    </tr>\n",
              "    <tr>\n",
              "      <th>mean</th>\n",
              "      <td>1247.511871</td>\n",
              "      <td>8.875907</td>\n",
              "      <td>9.319231</td>\n",
              "    </tr>\n",
              "    <tr>\n",
              "      <th>std</th>\n",
              "      <td>139.475249</td>\n",
              "      <td>5.355181</td>\n",
              "      <td>2.415025</td>\n",
              "    </tr>\n",
              "    <tr>\n",
              "      <th>min</th>\n",
              "      <td>1000.000000</td>\n",
              "      <td>1.000000</td>\n",
              "      <td>1.000000</td>\n",
              "    </tr>\n",
              "    <tr>\n",
              "      <th>25%</th>\n",
              "      <td>1127.000000</td>\n",
              "      <td>5.000000</td>\n",
              "      <td>8.000000</td>\n",
              "    </tr>\n",
              "    <tr>\n",
              "      <th>50%</th>\n",
              "      <td>1247.000000</td>\n",
              "      <td>8.000000</td>\n",
              "      <td>10.000000</td>\n",
              "    </tr>\n",
              "    <tr>\n",
              "      <th>75%</th>\n",
              "      <td>1365.000000</td>\n",
              "      <td>12.000000</td>\n",
              "      <td>11.000000</td>\n",
              "    </tr>\n",
              "    <tr>\n",
              "      <th>max</th>\n",
              "      <td>1499.000000</td>\n",
              "      <td>38.000000</td>\n",
              "      <td>12.000000</td>\n",
              "    </tr>\n",
              "  </tbody>\n",
              "</table>\n",
              "</div>\n",
              "      <button class=\"colab-df-convert\" onclick=\"convertToInteractive('df-e420fff2-be1c-4a62-9b45-69d03d207c44')\"\n",
              "              title=\"Convert this dataframe to an interactive table.\"\n",
              "              style=\"display:none;\">\n",
              "        \n",
              "  <svg xmlns=\"http://www.w3.org/2000/svg\" height=\"24px\"viewBox=\"0 0 24 24\"\n",
              "       width=\"24px\">\n",
              "    <path d=\"M0 0h24v24H0V0z\" fill=\"none\"/>\n",
              "    <path d=\"M18.56 5.44l.94 2.06.94-2.06 2.06-.94-2.06-.94-.94-2.06-.94 2.06-2.06.94zm-11 1L8.5 8.5l.94-2.06 2.06-.94-2.06-.94L8.5 2.5l-.94 2.06-2.06.94zm10 10l.94 2.06.94-2.06 2.06-.94-2.06-.94-.94-2.06-.94 2.06-2.06.94z\"/><path d=\"M17.41 7.96l-1.37-1.37c-.4-.4-.92-.59-1.43-.59-.52 0-1.04.2-1.43.59L10.3 9.45l-7.72 7.72c-.78.78-.78 2.05 0 2.83L4 21.41c.39.39.9.59 1.41.59.51 0 1.02-.2 1.41-.59l7.78-7.78 2.81-2.81c.8-.78.8-2.07 0-2.86zM5.41 20L4 18.59l7.72-7.72 1.47 1.35L5.41 20z\"/>\n",
              "  </svg>\n",
              "      </button>\n",
              "      \n",
              "  <style>\n",
              "    .colab-df-container {\n",
              "      display:flex;\n",
              "      flex-wrap:wrap;\n",
              "      gap: 12px;\n",
              "    }\n",
              "\n",
              "    .colab-df-convert {\n",
              "      background-color: #E8F0FE;\n",
              "      border: none;\n",
              "      border-radius: 50%;\n",
              "      cursor: pointer;\n",
              "      display: none;\n",
              "      fill: #1967D2;\n",
              "      height: 32px;\n",
              "      padding: 0 0 0 0;\n",
              "      width: 32px;\n",
              "    }\n",
              "\n",
              "    .colab-df-convert:hover {\n",
              "      background-color: #E2EBFA;\n",
              "      box-shadow: 0px 1px 2px rgba(60, 64, 67, 0.3), 0px 1px 3px 1px rgba(60, 64, 67, 0.15);\n",
              "      fill: #174EA6;\n",
              "    }\n",
              "\n",
              "    [theme=dark] .colab-df-convert {\n",
              "      background-color: #3B4455;\n",
              "      fill: #D2E3FC;\n",
              "    }\n",
              "\n",
              "    [theme=dark] .colab-df-convert:hover {\n",
              "      background-color: #434B5C;\n",
              "      box-shadow: 0px 1px 3px 1px rgba(0, 0, 0, 0.15);\n",
              "      filter: drop-shadow(0px 1px 2px rgba(0, 0, 0, 0.3));\n",
              "      fill: #FFFFFF;\n",
              "    }\n",
              "  </style>\n",
              "\n",
              "      <script>\n",
              "        const buttonEl =\n",
              "          document.querySelector('#df-e420fff2-be1c-4a62-9b45-69d03d207c44 button.colab-df-convert');\n",
              "        buttonEl.style.display =\n",
              "          google.colab.kernel.accessAllowed ? 'block' : 'none';\n",
              "\n",
              "        async function convertToInteractive(key) {\n",
              "          const element = document.querySelector('#df-e420fff2-be1c-4a62-9b45-69d03d207c44');\n",
              "          const dataTable =\n",
              "            await google.colab.kernel.invokeFunction('convertToInteractive',\n",
              "                                                     [key], {});\n",
              "          if (!dataTable) return;\n",
              "\n",
              "          const docLinkHtml = 'Like what you see? Visit the ' +\n",
              "            '<a target=\"_blank\" href=https://colab.research.google.com/notebooks/data_table.ipynb>data table notebook</a>'\n",
              "            + ' to learn more about interactive tables.';\n",
              "          element.innerHTML = '';\n",
              "          dataTable['output_type'] = 'display_data';\n",
              "          await google.colab.output.renderOutput(dataTable, element);\n",
              "          const docLink = document.createElement('div');\n",
              "          docLink.innerHTML = docLinkHtml;\n",
              "          element.appendChild(docLink);\n",
              "        }\n",
              "      </script>\n",
              "    </div>\n",
              "  </div>\n",
              "  "
            ]
          },
          "metadata": {},
          "execution_count": 98
        }
      ],
      "source": [
        "calls.describe()"
      ]
    },
    {
      "cell_type": "code",
      "execution_count": null,
      "metadata": {
        "colab": {
          "base_uri": "https://localhost:8080/",
          "height": 367
        },
        "id": "-VydWbJgkm7y",
        "outputId": "bf979d1d-380c-4cba-9225-634a2c64947c"
      },
      "outputs": [
        {
          "output_type": "execute_result",
          "data": {
            "text/plain": [
              "Text(0.5, 1.0, 'Duración de las llamadas de usuarios Megacable')"
            ]
          },
          "metadata": {},
          "execution_count": 99
        },
        {
          "output_type": "display_data",
          "data": {
            "text/plain": [
              "<Figure size 1440x360 with 1 Axes>"
            ],
            "image/png": "[encoded data removed]"
          },
          "metadata": {
            "needs_background": "light"
          }
        }
      ],
      "source": [
        "calls['duration'].hist(bins=30, figsize=(20, 5))\n",
        "plt.xlabel('Duración')\n",
        "plt.ylabel('Frecuencia')\n",
        "plt.title(\"Duración de las llamadas de usuarios Megacable\")"
      ]
    },
    {
      "cell_type": "code",
      "execution_count": null,
      "metadata": {
        "colab": {
          "base_uri": "https://localhost:8080/"
        },
        "id": "Mey-XuyDfkfH",
        "outputId": "5f047b55-c42e-42cb-ef54-6e5de5aeb284"
      },
      "outputs": [
        {
          "output_type": "execute_result",
          "data": {
            "text/plain": [
              "0"
            ]
          },
          "metadata": {},
          "execution_count": 100
        }
      ],
      "source": [
        "calls[calls['duration'] == 0.00].value_counts().sum()"
      ]
    },
    {
      "cell_type": "markdown",
      "metadata": {
        "id": "9ixUmfwso4fY"
      },
      "source": [
        "Aquí podemos ver que en `duration` tenemos 26,834 llamadas en 0.00 minutos (llamadas no conectadas), que representan un  llamadas rechazadas, fallidas o no contestadas. \n",
        "Todas las llamadas que no fueron conectadas representan el 20% del total de los datos de este dataframe. Al tener duración 0 no son consideradas para el cargo del sevicio de los planes, ya que ese comienza a cobrarse por minuto desde el segundo 1, así que nos desharemos de esas llamadas no conectadas."
      ]
    },
    {
      "cell_type": "code",
      "execution_count": null,
      "metadata": {
        "id": "KhWFDFGnpZES"
      },
      "outputs": [],
      "source": [
        "calls.drop(calls[calls['duration'] == 0].index, inplace=True)\n",
        "# aquí nos deshacemos de las llamadas que tienen duración igual a 0.00.\n",
        "# La duración de las llamadas se encuentra en minutos. "
      ]
    },
    {
      "cell_type": "code",
      "execution_count": null,
      "metadata": {
        "colab": {
          "base_uri": "https://localhost:8080/",
          "height": 367
        },
        "id": "li8ngDJ9pf10",
        "outputId": "8add494f-0de4-42c9-f158-33e0e77df651"
      },
      "outputs": [
        {
          "output_type": "execute_result",
          "data": {
            "text/plain": [
              "Text(0.5, 1.0, 'Duración de las llamadas de usuarios Megacable')"
            ]
          },
          "metadata": {},
          "execution_count": 102
        },
        {
          "output_type": "display_data",
          "data": {
            "text/plain": [
              "<Figure size 1440x360 with 1 Axes>"
            ],
            "image/png": "[encoded data removed]"
          },
          "metadata": {
            "needs_background": "light"
          }
        }
      ],
      "source": [
        "calls['duration'].hist(bins=30, figsize=(20, 5))\n",
        "plt.xlabel('Duración en minutos')\n",
        "plt.ylabel('Frecuencia')\n",
        "plt.title(\"Duración de las llamadas de usuarios Megacable\")"
      ]
    },
    {
      "cell_type": "code",
      "execution_count": null,
      "metadata": {
        "colab": {
          "base_uri": "https://localhost:8080/"
        },
        "id": "JgSHPya1r54d",
        "outputId": "053336f1-e43e-48eb-cad5-6be0068e2e4a"
      },
      "outputs": [
        {
          "output_type": "execute_result",
          "data": {
            "text/plain": [
              "110901"
            ]
          },
          "metadata": {},
          "execution_count": 103
        }
      ],
      "source": [
        "calls.value_counts('duration').sum()\n",
        "# Menos entradas en el nuevo calls filtrado, tenemos el 80% de los datos del calls original."
      ]
    },
    {
      "cell_type": "code",
      "execution_count": null,
      "metadata": {
        "colab": {
          "base_uri": "https://localhost:8080/",
          "height": 206
        },
        "id": "_EF14NS8iJTV",
        "outputId": "f0d979d4-98bb-41f1-ed4f-e6708a655007"
      },
      "outputs": [
        {
          "output_type": "execute_result",
          "data": {
            "text/plain": [
              "         id  user_id  call_date  duration  month\n",
              "0   1000_93     1000 2018-12-27         9     12\n",
              "1  1000_145     1000 2018-12-27        14     12\n",
              "2  1000_247     1000 2018-12-27        15     12\n",
              "3  1000_309     1000 2018-12-28         6     12\n",
              "4  1000_380     1000 2018-12-30         5     12"
            ],
            "text/html": [
              "\n",
              "  <div id=\"df-8af310a8-cdf8-4179-9f4e-22e2db022172\">\n",
              "    <div class=\"colab-df-container\">\n",
              "      <div>\n",
              "<style scoped>\n",
              "    .dataframe tbody tr th:only-of-type {\n",
              "        vertical-align: middle;\n",
              "    }\n",
              "\n",
              "    .dataframe tbody tr th {\n",
              "        vertical-align: top;\n",
              "    }\n",
              "\n",
              "    .dataframe thead th {\n",
              "        text-align: right;\n",
              "    }\n",
              "</style>\n",
              "<table border=\"1\" class=\"dataframe\">\n",
              "  <thead>\n",
              "    <tr style=\"text-align: right;\">\n",
              "      <th></th>\n",
              "      <th>id</th>\n",
              "      <th>user_id</th>\n",
              "      <th>call_date</th>\n",
              "      <th>duration</th>\n",
              "      <th>month</th>\n",
              "    </tr>\n",
              "  </thead>\n",
              "  <tbody>\n",
              "    <tr>\n",
              "      <th>0</th>\n",
              "      <td>1000_93</td>\n",
              "      <td>1000</td>\n",
              "      <td>2018-12-27</td>\n",
              "      <td>9</td>\n",
              "      <td>12</td>\n",
              "    </tr>\n",
              "    <tr>\n",
              "      <th>1</th>\n",
              "      <td>1000_145</td>\n",
              "      <td>1000</td>\n",
              "      <td>2018-12-27</td>\n",
              "      <td>14</td>\n",
              "      <td>12</td>\n",
              "    </tr>\n",
              "    <tr>\n",
              "      <th>2</th>\n",
              "      <td>1000_247</td>\n",
              "      <td>1000</td>\n",
              "      <td>2018-12-27</td>\n",
              "      <td>15</td>\n",
              "      <td>12</td>\n",
              "    </tr>\n",
              "    <tr>\n",
              "      <th>3</th>\n",
              "      <td>1000_309</td>\n",
              "      <td>1000</td>\n",
              "      <td>2018-12-28</td>\n",
              "      <td>6</td>\n",
              "      <td>12</td>\n",
              "    </tr>\n",
              "    <tr>\n",
              "      <th>4</th>\n",
              "      <td>1000_380</td>\n",
              "      <td>1000</td>\n",
              "      <td>2018-12-30</td>\n",
              "      <td>5</td>\n",
              "      <td>12</td>\n",
              "    </tr>\n",
              "  </tbody>\n",
              "</table>\n",
              "</div>\n",
              "      <button class=\"colab-df-convert\" onclick=\"convertToInteractive('df-8af310a8-cdf8-4179-9f4e-22e2db022172')\"\n",
              "              title=\"Convert this dataframe to an interactive table.\"\n",
              "              style=\"display:none;\">\n",
              "        \n",
              "  <svg xmlns=\"http://www.w3.org/2000/svg\" height=\"24px\"viewBox=\"0 0 24 24\"\n",
              "       width=\"24px\">\n",
              "    <path d=\"M0 0h24v24H0V0z\" fill=\"none\"/>\n",
              "    <path d=\"M18.56 5.44l.94 2.06.94-2.06 2.06-.94-2.06-.94-.94-2.06-.94 2.06-2.06.94zm-11 1L8.5 8.5l.94-2.06 2.06-.94-2.06-.94L8.5 2.5l-.94 2.06-2.06.94zm10 10l.94 2.06.94-2.06 2.06-.94-2.06-.94-.94-2.06-.94 2.06-2.06.94z\"/><path d=\"M17.41 7.96l-1.37-1.37c-.4-.4-.92-.59-1.43-.59-.52 0-1.04.2-1.43.59L10.3 9.45l-7.72 7.72c-.78.78-.78 2.05 0 2.83L4 21.41c.39.39.9.59 1.41.59.51 0 1.02-.2 1.41-.59l7.78-7.78 2.81-2.81c.8-.78.8-2.07 0-2.86zM5.41 20L4 18.59l7.72-7.72 1.47 1.35L5.41 20z\"/>\n",
              "  </svg>\n",
              "      </button>\n",
              "      \n",
              "  <style>\n",
              "    .colab-df-container {\n",
              "      display:flex;\n",
              "      flex-wrap:wrap;\n",
              "      gap: 12px;\n",
              "    }\n",
              "\n",
              "    .colab-df-convert {\n",
              "      background-color: #E8F0FE;\n",
              "      border: none;\n",
              "      border-radius: 50%;\n",
              "      cursor: pointer;\n",
              "      display: none;\n",
              "      fill: #1967D2;\n",
              "      height: 32px;\n",
              "      padding: 0 0 0 0;\n",
              "      width: 32px;\n",
              "    }\n",
              "\n",
              "    .colab-df-convert:hover {\n",
              "      background-color: #E2EBFA;\n",
              "      box-shadow: 0px 1px 2px rgba(60, 64, 67, 0.3), 0px 1px 3px 1px rgba(60, 64, 67, 0.15);\n",
              "      fill: #174EA6;\n",
              "    }\n",
              "\n",
              "    [theme=dark] .colab-df-convert {\n",
              "      background-color: #3B4455;\n",
              "      fill: #D2E3FC;\n",
              "    }\n",
              "\n",
              "    [theme=dark] .colab-df-convert:hover {\n",
              "      background-color: #434B5C;\n",
              "      box-shadow: 0px 1px 3px 1px rgba(0, 0, 0, 0.15);\n",
              "      filter: drop-shadow(0px 1px 2px rgba(0, 0, 0, 0.3));\n",
              "      fill: #FFFFFF;\n",
              "    }\n",
              "  </style>\n",
              "\n",
              "      <script>\n",
              "        const buttonEl =\n",
              "          document.querySelector('#df-8af310a8-cdf8-4179-9f4e-22e2db022172 button.colab-df-convert');\n",
              "        buttonEl.style.display =\n",
              "          google.colab.kernel.accessAllowed ? 'block' : 'none';\n",
              "\n",
              "        async function convertToInteractive(key) {\n",
              "          const element = document.querySelector('#df-8af310a8-cdf8-4179-9f4e-22e2db022172');\n",
              "          const dataTable =\n",
              "            await google.colab.kernel.invokeFunction('convertToInteractive',\n",
              "                                                     [key], {});\n",
              "          if (!dataTable) return;\n",
              "\n",
              "          const docLinkHtml = 'Like what you see? Visit the ' +\n",
              "            '<a target=\"_blank\" href=https://colab.research.google.com/notebooks/data_table.ipynb>data table notebook</a>'\n",
              "            + ' to learn more about interactive tables.';\n",
              "          element.innerHTML = '';\n",
              "          dataTable['output_type'] = 'display_data';\n",
              "          await google.colab.output.renderOutput(dataTable, element);\n",
              "          const docLink = document.createElement('div');\n",
              "          docLink.innerHTML = docLinkHtml;\n",
              "          element.appendChild(docLink);\n",
              "        }\n",
              "      </script>\n",
              "    </div>\n",
              "  </div>\n",
              "  "
            ]
          },
          "metadata": {},
          "execution_count": 104
        }
      ],
      "source": [
        "calls['duration'] = calls['duration'].apply(np.ceil).astype('int64')\n",
        "calls.head() "
      ]
    },
    {
      "cell_type": "code",
      "execution_count": null,
      "metadata": {
        "id": "BFBkfcrcDYm5"
      },
      "outputs": [],
      "source": [
        "calls['call_date'] = pd.to_datetime(calls['call_date'], format='%Y-%m-%d')"
      ]
    },
    {
      "cell_type": "code",
      "execution_count": null,
      "metadata": {
        "colab": {
          "base_uri": "https://localhost:8080/"
        },
        "id": "60m6e5vjGMsz",
        "outputId": "cf0224e2-33be-41f3-80e1-f7eab18f7096"
      },
      "outputs": [
        {
          "output_type": "stream",
          "name": "stdout",
          "text": [
            "<class 'pandas.core.frame.DataFrame'>\n",
            "Int64Index: 110901 entries, 0 to 137734\n",
            "Data columns (total 5 columns):\n",
            " #   Column     Non-Null Count   Dtype         \n",
            "---  ------     --------------   -----         \n",
            " 0   id         110901 non-null  object        \n",
            " 1   user_id    110901 non-null  int64         \n",
            " 2   call_date  110901 non-null  datetime64[ns]\n",
            " 3   duration   110901 non-null  int64         \n",
            " 4   month      110901 non-null  int64         \n",
            "dtypes: datetime64[ns](1), int64(3), object(1)\n",
            "memory usage: 9.1+ MB\n"
          ]
        }
      ],
      "source": [
        "calls.info()\n",
        "# Los 481 usuarios en user_id ahora son strings porque es un valor categórico, no es precisamente numérico o cuantitativo (aunque tenga números). "
      ]
    },
    {
      "cell_type": "code",
      "execution_count": null,
      "metadata": {
        "colab": {
          "base_uri": "https://localhost:8080/"
        },
        "id": "wT3oI4nOOY5a",
        "outputId": "0afaa4b2-1ff4-4bc6-93e2-c0220f7d842b"
      },
      "outputs": [
        {
          "output_type": "execute_result",
          "data": {
            "text/plain": [
              "481"
            ]
          },
          "metadata": {},
          "execution_count": 107
        }
      ],
      "source": [
        "len(calls['user_id'].unique())"
      ]
    },
    {
      "cell_type": "code",
      "execution_count": null,
      "metadata": {
        "colab": {
          "base_uri": "https://localhost:8080/",
          "height": 530
        },
        "id": "Sz-DeIraCTiJ",
        "outputId": "15b3a945-73a6-48bb-b4db-e2ee9b8eb24c"
      },
      "outputs": [
        {
          "output_type": "execute_result",
          "data": {
            "text/plain": [
              "Text(0.5, 1.0, 'Duración de las llamadas por usuario')"
            ]
          },
          "metadata": {},
          "execution_count": 108
        },
        {
          "output_type": "display_data",
          "data": {
            "text/plain": [
              "<Figure size 1440x576 with 1 Axes>"
            ],
            "image/png": "[encoded data removed]"
          },
          "metadata": {
            "needs_background": "light"
          }
        }
      ],
      "source": [
        "calls.pivot_table(index='user_id', values='duration', aggfunc='median').plot(kind='hist', grid=True, bins= 100, figsize=(20, 8))\n",
        "plt.xlabel('Duración en minutos')\n",
        "plt.ylabel('Frecuencia')\n",
        "plt.title(\"Duración de las llamadas por usuario\")\n",
        "# Mayor frecuencia de usuarios con un valor medio de duración de llamadas, 7.7 minutos."
      ]
    },
    {
      "cell_type": "code",
      "execution_count": null,
      "metadata": {
        "colab": {
          "base_uri": "https://localhost:8080/",
          "height": 300
        },
        "id": "Z2TwXj4ZHMjS",
        "outputId": "263c5345-a159-4aab-f667-a8b9029235bf"
      },
      "outputs": [
        {
          "output_type": "execute_result",
          "data": {
            "text/plain": [
              "             user_id       duration          month\n",
              "count  110901.000000  110901.000000  110901.000000\n",
              "mean     1247.511871       8.875907       9.319231\n",
              "std       139.475249       5.355181       2.415025\n",
              "min      1000.000000       1.000000       1.000000\n",
              "25%      1127.000000       5.000000       8.000000\n",
              "50%      1247.000000       8.000000      10.000000\n",
              "75%      1365.000000      12.000000      11.000000\n",
              "max      1499.000000      38.000000      12.000000"
            ],
            "text/html": [
              "\n",
              "  <div id=\"df-5b2733c1-1ac7-4a32-a1dc-465e9dc5d6e3\">\n",
              "    <div class=\"colab-df-container\">\n",
              "      <div>\n",
              "<style scoped>\n",
              "    .dataframe tbody tr th:only-of-type {\n",
              "        vertical-align: middle;\n",
              "    }\n",
              "\n",
              "    .dataframe tbody tr th {\n",
              "        vertical-align: top;\n",
              "    }\n",
              "\n",
              "    .dataframe thead th {\n",
              "        text-align: right;\n",
              "    }\n",
              "</style>\n",
              "<table border=\"1\" class=\"dataframe\">\n",
              "  <thead>\n",
              "    <tr style=\"text-align: right;\">\n",
              "      <th></th>\n",
              "      <th>user_id</th>\n",
              "      <th>duration</th>\n",
              "      <th>month</th>\n",
              "    </tr>\n",
              "  </thead>\n",
              "  <tbody>\n",
              "    <tr>\n",
              "      <th>count</th>\n",
              "      <td>110901.000000</td>\n",
              "      <td>110901.000000</td>\n",
              "      <td>110901.000000</td>\n",
              "    </tr>\n",
              "    <tr>\n",
              "      <th>mean</th>\n",
              "      <td>1247.511871</td>\n",
              "      <td>8.875907</td>\n",
              "      <td>9.319231</td>\n",
              "    </tr>\n",
              "    <tr>\n",
              "      <th>std</th>\n",
              "      <td>139.475249</td>\n",
              "      <td>5.355181</td>\n",
              "      <td>2.415025</td>\n",
              "    </tr>\n",
              "    <tr>\n",
              "      <th>min</th>\n",
              "      <td>1000.000000</td>\n",
              "      <td>1.000000</td>\n",
              "      <td>1.000000</td>\n",
              "    </tr>\n",
              "    <tr>\n",
              "      <th>25%</th>\n",
              "      <td>1127.000000</td>\n",
              "      <td>5.000000</td>\n",
              "      <td>8.000000</td>\n",
              "    </tr>\n",
              "    <tr>\n",
              "      <th>50%</th>\n",
              "      <td>1247.000000</td>\n",
              "      <td>8.000000</td>\n",
              "      <td>10.000000</td>\n",
              "    </tr>\n",
              "    <tr>\n",
              "      <th>75%</th>\n",
              "      <td>1365.000000</td>\n",
              "      <td>12.000000</td>\n",
              "      <td>11.000000</td>\n",
              "    </tr>\n",
              "    <tr>\n",
              "      <th>max</th>\n",
              "      <td>1499.000000</td>\n",
              "      <td>38.000000</td>\n",
              "      <td>12.000000</td>\n",
              "    </tr>\n",
              "  </tbody>\n",
              "</table>\n",
              "</div>\n",
              "      <button class=\"colab-df-convert\" onclick=\"convertToInteractive('df-5b2733c1-1ac7-4a32-a1dc-465e9dc5d6e3')\"\n",
              "              title=\"Convert this dataframe to an interactive table.\"\n",
              "              style=\"display:none;\">\n",
              "        \n",
              "  <svg xmlns=\"http://www.w3.org/2000/svg\" height=\"24px\"viewBox=\"0 0 24 24\"\n",
              "       width=\"24px\">\n",
              "    <path d=\"M0 0h24v24H0V0z\" fill=\"none\"/>\n",
              "    <path d=\"M18.56 5.44l.94 2.06.94-2.06 2.06-.94-2.06-.94-.94-2.06-.94 2.06-2.06.94zm-11 1L8.5 8.5l.94-2.06 2.06-.94-2.06-.94L8.5 2.5l-.94 2.06-2.06.94zm10 10l.94 2.06.94-2.06 2.06-.94-2.06-.94-.94-2.06-.94 2.06-2.06.94z\"/><path d=\"M17.41 7.96l-1.37-1.37c-.4-.4-.92-.59-1.43-.59-.52 0-1.04.2-1.43.59L10.3 9.45l-7.72 7.72c-.78.78-.78 2.05 0 2.83L4 21.41c.39.39.9.59 1.41.59.51 0 1.02-.2 1.41-.59l7.78-7.78 2.81-2.81c.8-.78.8-2.07 0-2.86zM5.41 20L4 18.59l7.72-7.72 1.47 1.35L5.41 20z\"/>\n",
              "  </svg>\n",
              "      </button>\n",
              "      \n",
              "  <style>\n",
              "    .colab-df-container {\n",
              "      display:flex;\n",
              "      flex-wrap:wrap;\n",
              "      gap: 12px;\n",
              "    }\n",
              "\n",
              "    .colab-df-convert {\n",
              "      background-color: #E8F0FE;\n",
              "      border: none;\n",
              "      border-radius: 50%;\n",
              "      cursor: pointer;\n",
              "      display: none;\n",
              "      fill: #1967D2;\n",
              "      height: 32px;\n",
              "      padding: 0 0 0 0;\n",
              "      width: 32px;\n",
              "    }\n",
              "\n",
              "    .colab-df-convert:hover {\n",
              "      background-color: #E2EBFA;\n",
              "      box-shadow: 0px 1px 2px rgba(60, 64, 67, 0.3), 0px 1px 3px 1px rgba(60, 64, 67, 0.15);\n",
              "      fill: #174EA6;\n",
              "    }\n",
              "\n",
              "    [theme=dark] .colab-df-convert {\n",
              "      background-color: #3B4455;\n",
              "      fill: #D2E3FC;\n",
              "    }\n",
              "\n",
              "    [theme=dark] .colab-df-convert:hover {\n",
              "      background-color: #434B5C;\n",
              "      box-shadow: 0px 1px 3px 1px rgba(0, 0, 0, 0.15);\n",
              "      filter: drop-shadow(0px 1px 2px rgba(0, 0, 0, 0.3));\n",
              "      fill: #FFFFFF;\n",
              "    }\n",
              "  </style>\n",
              "\n",
              "      <script>\n",
              "        const buttonEl =\n",
              "          document.querySelector('#df-5b2733c1-1ac7-4a32-a1dc-465e9dc5d6e3 button.colab-df-convert');\n",
              "        buttonEl.style.display =\n",
              "          google.colab.kernel.accessAllowed ? 'block' : 'none';\n",
              "\n",
              "        async function convertToInteractive(key) {\n",
              "          const element = document.querySelector('#df-5b2733c1-1ac7-4a32-a1dc-465e9dc5d6e3');\n",
              "          const dataTable =\n",
              "            await google.colab.kernel.invokeFunction('convertToInteractive',\n",
              "                                                     [key], {});\n",
              "          if (!dataTable) return;\n",
              "\n",
              "          const docLinkHtml = 'Like what you see? Visit the ' +\n",
              "            '<a target=\"_blank\" href=https://colab.research.google.com/notebooks/data_table.ipynb>data table notebook</a>'\n",
              "            + ' to learn more about interactive tables.';\n",
              "          element.innerHTML = '';\n",
              "          dataTable['output_type'] = 'display_data';\n",
              "          await google.colab.output.renderOutput(dataTable, element);\n",
              "          const docLink = document.createElement('div');\n",
              "          docLink.innerHTML = docLinkHtml;\n",
              "          element.appendChild(docLink);\n",
              "        }\n",
              "      </script>\n",
              "    </div>\n",
              "  </div>\n",
              "  "
            ]
          },
          "metadata": {},
          "execution_count": 109
        }
      ],
      "source": [
        "calls.describe()# media y mediana de la duración en minutos "
      ]
    },
    {
      "cell_type": "code",
      "execution_count": null,
      "metadata": {
        "colab": {
          "base_uri": "https://localhost:8080/",
          "height": 455
        },
        "id": "OmsACCa_wszD",
        "outputId": "61df2377-d6a9-4bfb-bd11-369c56d5162d"
      },
      "outputs": [
        {
          "output_type": "execute_result",
          "data": {
            "text/plain": [
              "               count_calls  duration_calls\n",
              "user_id month                             \n",
              "1000    12              16             124\n",
              "1001    8               22             182\n",
              "        9               38             315\n",
              "        10              47             393\n",
              "        11              49             426\n",
              "...                    ...             ...\n",
              "1498    12              32             339\n",
              "1499    9               35             346\n",
              "        10              41             385\n",
              "        11              39             308\n",
              "        12              56             496\n",
              "\n",
              "[2256 rows x 2 columns]"
            ],
            "text/html": [
              "\n",
              "  <div id=\"df-28056d5f-df49-46ce-b22d-bbf7ad7a7973\">\n",
              "    <div class=\"colab-df-container\">\n",
              "      <div>\n",
              "<style scoped>\n",
              "    .dataframe tbody tr th:only-of-type {\n",
              "        vertical-align: middle;\n",
              "    }\n",
              "\n",
              "    .dataframe tbody tr th {\n",
              "        vertical-align: top;\n",
              "    }\n",
              "\n",
              "    .dataframe thead th {\n",
              "        text-align: right;\n",
              "    }\n",
              "</style>\n",
              "<table border=\"1\" class=\"dataframe\">\n",
              "  <thead>\n",
              "    <tr style=\"text-align: right;\">\n",
              "      <th></th>\n",
              "      <th></th>\n",
              "      <th>count_calls</th>\n",
              "      <th>duration_calls</th>\n",
              "    </tr>\n",
              "    <tr>\n",
              "      <th>user_id</th>\n",
              "      <th>month</th>\n",
              "      <th></th>\n",
              "      <th></th>\n",
              "    </tr>\n",
              "  </thead>\n",
              "  <tbody>\n",
              "    <tr>\n",
              "      <th>1000</th>\n",
              "      <th>12</th>\n",
              "      <td>16</td>\n",
              "      <td>124</td>\n",
              "    </tr>\n",
              "    <tr>\n",
              "      <th rowspan=\"4\" valign=\"top\">1001</th>\n",
              "      <th>8</th>\n",
              "      <td>22</td>\n",
              "      <td>182</td>\n",
              "    </tr>\n",
              "    <tr>\n",
              "      <th>9</th>\n",
              "      <td>38</td>\n",
              "      <td>315</td>\n",
              "    </tr>\n",
              "    <tr>\n",
              "      <th>10</th>\n",
              "      <td>47</td>\n",
              "      <td>393</td>\n",
              "    </tr>\n",
              "    <tr>\n",
              "      <th>11</th>\n",
              "      <td>49</td>\n",
              "      <td>426</td>\n",
              "    </tr>\n",
              "    <tr>\n",
              "      <th>...</th>\n",
              "      <th>...</th>\n",
              "      <td>...</td>\n",
              "      <td>...</td>\n",
              "    </tr>\n",
              "    <tr>\n",
              "      <th>1498</th>\n",
              "      <th>12</th>\n",
              "      <td>32</td>\n",
              "      <td>339</td>\n",
              "    </tr>\n",
              "    <tr>\n",
              "      <th rowspan=\"4\" valign=\"top\">1499</th>\n",
              "      <th>9</th>\n",
              "      <td>35</td>\n",
              "      <td>346</td>\n",
              "    </tr>\n",
              "    <tr>\n",
              "      <th>10</th>\n",
              "      <td>41</td>\n",
              "      <td>385</td>\n",
              "    </tr>\n",
              "    <tr>\n",
              "      <th>11</th>\n",
              "      <td>39</td>\n",
              "      <td>308</td>\n",
              "    </tr>\n",
              "    <tr>\n",
              "      <th>12</th>\n",
              "      <td>56</td>\n",
              "      <td>496</td>\n",
              "    </tr>\n",
              "  </tbody>\n",
              "</table>\n",
              "<p>2256 rows × 2 columns</p>\n",
              "</div>\n",
              "      <button class=\"colab-df-convert\" onclick=\"convertToInteractive('df-28056d5f-df49-46ce-b22d-bbf7ad7a7973')\"\n",
              "              title=\"Convert this dataframe to an interactive table.\"\n",
              "              style=\"display:none;\">\n",
              "        \n",
              "  <svg xmlns=\"http://www.w3.org/2000/svg\" height=\"24px\"viewBox=\"0 0 24 24\"\n",
              "       width=\"24px\">\n",
              "    <path d=\"M0 0h24v24H0V0z\" fill=\"none\"/>\n",
              "    <path d=\"M18.56 5.44l.94 2.06.94-2.06 2.06-.94-2.06-.94-.94-2.06-.94 2.06-2.06.94zm-11 1L8.5 8.5l.94-2.06 2.06-.94-2.06-.94L8.5 2.5l-.94 2.06-2.06.94zm10 10l.94 2.06.94-2.06 2.06-.94-2.06-.94-.94-2.06-.94 2.06-2.06.94z\"/><path d=\"M17.41 7.96l-1.37-1.37c-.4-.4-.92-.59-1.43-.59-.52 0-1.04.2-1.43.59L10.3 9.45l-7.72 7.72c-.78.78-.78 2.05 0 2.83L4 21.41c.39.39.9.59 1.41.59.51 0 1.02-.2 1.41-.59l7.78-7.78 2.81-2.81c.8-.78.8-2.07 0-2.86zM5.41 20L4 18.59l7.72-7.72 1.47 1.35L5.41 20z\"/>\n",
              "  </svg>\n",
              "      </button>\n",
              "      \n",
              "  <style>\n",
              "    .colab-df-container {\n",
              "      display:flex;\n",
              "      flex-wrap:wrap;\n",
              "      gap: 12px;\n",
              "    }\n",
              "\n",
              "    .colab-df-convert {\n",
              "      background-color: #E8F0FE;\n",
              "      border: none;\n",
              "      border-radius: 50%;\n",
              "      cursor: pointer;\n",
              "      display: none;\n",
              "      fill: #1967D2;\n",
              "      height: 32px;\n",
              "      padding: 0 0 0 0;\n",
              "      width: 32px;\n",
              "    }\n",
              "\n",
              "    .colab-df-convert:hover {\n",
              "      background-color: #E2EBFA;\n",
              "      box-shadow: 0px 1px 2px rgba(60, 64, 67, 0.3), 0px 1px 3px 1px rgba(60, 64, 67, 0.15);\n",
              "      fill: #174EA6;\n",
              "    }\n",
              "\n",
              "    [theme=dark] .colab-df-convert {\n",
              "      background-color: #3B4455;\n",
              "      fill: #D2E3FC;\n",
              "    }\n",
              "\n",
              "    [theme=dark] .colab-df-convert:hover {\n",
              "      background-color: #434B5C;\n",
              "      box-shadow: 0px 1px 3px 1px rgba(0, 0, 0, 0.15);\n",
              "      filter: drop-shadow(0px 1px 2px rgba(0, 0, 0, 0.3));\n",
              "      fill: #FFFFFF;\n",
              "    }\n",
              "  </style>\n",
              "\n",
              "      <script>\n",
              "        const buttonEl =\n",
              "          document.querySelector('#df-28056d5f-df49-46ce-b22d-bbf7ad7a7973 button.colab-df-convert');\n",
              "        buttonEl.style.display =\n",
              "          google.colab.kernel.accessAllowed ? 'block' : 'none';\n",
              "\n",
              "        async function convertToInteractive(key) {\n",
              "          const element = document.querySelector('#df-28056d5f-df49-46ce-b22d-bbf7ad7a7973');\n",
              "          const dataTable =\n",
              "            await google.colab.kernel.invokeFunction('convertToInteractive',\n",
              "                                                     [key], {});\n",
              "          if (!dataTable) return;\n",
              "\n",
              "          const docLinkHtml = 'Like what you see? Visit the ' +\n",
              "            '<a target=\"_blank\" href=https://colab.research.google.com/notebooks/data_table.ipynb>data table notebook</a>'\n",
              "            + ' to learn more about interactive tables.';\n",
              "          element.innerHTML = '';\n",
              "          dataTable['output_type'] = 'display_data';\n",
              "          await google.colab.output.renderOutput(dataTable, element);\n",
              "          const docLink = document.createElement('div');\n",
              "          docLink.innerHTML = docLinkHtml;\n",
              "          element.appendChild(docLink);\n",
              "        }\n",
              "      </script>\n",
              "    </div>\n",
              "  </div>\n",
              "  "
            ]
          },
          "metadata": {},
          "execution_count": 110
        }
      ],
      "source": [
        "#calls['duration'] = np.ceil(calls['duration'])\n",
        "calls['month'] = pd.to_datetime(calls['call_date'], format = '%Y-%m-%d').dt.month\n",
        "calls_pivot = calls.pivot_table(index = ['user_id', 'month'], values = 'duration', aggfunc = ['count', 'sum'])\n",
        "calls_pivot.columns = ['count_calls','duration_calls']\n",
        "calls_pivot\n",
        "# Aquí ya tenemos una columna nueva que muestra el número de mes y la duración total en minutos del total de llamadas realizadas"
      ]
    },
    {
      "cell_type": "markdown",
      "metadata": {
        "id": "Dq3-vTjKxJgE"
      },
      "source": [
        "## Preprocesando `internet`"
      ]
    },
    {
      "cell_type": "code",
      "execution_count": null,
      "metadata": {
        "colab": {
          "base_uri": "https://localhost:8080/",
          "height": 424
        },
        "id": "kRtZr8_OyAJL",
        "outputId": "0cbdc441-e706-4709-84ee-93bc70aa97ed"
      },
      "outputs": [
        {
          "output_type": "execute_result",
          "data": {
            "text/plain": [
              "              id  user_id session_date  mb_used  month   gb_used\n",
              "0        1000_13     1000   2018-12-29    89.86     12  0.087754\n",
              "1       1000_204     1000   2018-12-31     0.00     12  0.000000\n",
              "2       1000_379     1000   2018-12-28   660.40     12  0.644922\n",
              "3       1000_413     1000   2018-12-26   270.99     12  0.264639\n",
              "4       1000_442     1000   2018-12-27   880.22     12  0.859590\n",
              "...          ...      ...          ...      ...    ...       ...\n",
              "104820  1499_215     1499   2018-10-20   218.06     10  0.212949\n",
              "104821  1499_216     1499   2018-12-30   304.72     12  0.297578\n",
              "104822  1499_217     1499   2018-09-22   292.75      9  0.285889\n",
              "104823  1499_218     1499   2018-12-07     0.00     12  0.000000\n",
              "104824  1499_219     1499   2018-12-24   758.31     12  0.740537\n",
              "\n",
              "[104825 rows x 6 columns]"
            ],
            "text/html": [
              "\n",
              "  <div id=\"df-77b27174-b5d9-48ab-9186-f060b96b50aa\">\n",
              "    <div class=\"colab-df-container\">\n",
              "      <div>\n",
              "<style scoped>\n",
              "    .dataframe tbody tr th:only-of-type {\n",
              "        vertical-align: middle;\n",
              "    }\n",
              "\n",
              "    .dataframe tbody tr th {\n",
              "        vertical-align: top;\n",
              "    }\n",
              "\n",
              "    .dataframe thead th {\n",
              "        text-align: right;\n",
              "    }\n",
              "</style>\n",
              "<table border=\"1\" class=\"dataframe\">\n",
              "  <thead>\n",
              "    <tr style=\"text-align: right;\">\n",
              "      <th></th>\n",
              "      <th>id</th>\n",
              "      <th>user_id</th>\n",
              "      <th>session_date</th>\n",
              "      <th>mb_used</th>\n",
              "      <th>month</th>\n",
              "      <th>gb_used</th>\n",
              "    </tr>\n",
              "  </thead>\n",
              "  <tbody>\n",
              "    <tr>\n",
              "      <th>0</th>\n",
              "      <td>1000_13</td>\n",
              "      <td>1000</td>\n",
              "      <td>2018-12-29</td>\n",
              "      <td>89.86</td>\n",
              "      <td>12</td>\n",
              "      <td>0.087754</td>\n",
              "    </tr>\n",
              "    <tr>\n",
              "      <th>1</th>\n",
              "      <td>1000_204</td>\n",
              "      <td>1000</td>\n",
              "      <td>2018-12-31</td>\n",
              "      <td>0.00</td>\n",
              "      <td>12</td>\n",
              "      <td>0.000000</td>\n",
              "    </tr>\n",
              "    <tr>\n",
              "      <th>2</th>\n",
              "      <td>1000_379</td>\n",
              "      <td>1000</td>\n",
              "      <td>2018-12-28</td>\n",
              "      <td>660.40</td>\n",
              "      <td>12</td>\n",
              "      <td>0.644922</td>\n",
              "    </tr>\n",
              "    <tr>\n",
              "      <th>3</th>\n",
              "      <td>1000_413</td>\n",
              "      <td>1000</td>\n",
              "      <td>2018-12-26</td>\n",
              "      <td>270.99</td>\n",
              "      <td>12</td>\n",
              "      <td>0.264639</td>\n",
              "    </tr>\n",
              "    <tr>\n",
              "      <th>4</th>\n",
              "      <td>1000_442</td>\n",
              "      <td>1000</td>\n",
              "      <td>2018-12-27</td>\n",
              "      <td>880.22</td>\n",
              "      <td>12</td>\n",
              "      <td>0.859590</td>\n",
              "    </tr>\n",
              "    <tr>\n",
              "      <th>...</th>\n",
              "      <td>...</td>\n",
              "      <td>...</td>\n",
              "      <td>...</td>\n",
              "      <td>...</td>\n",
              "      <td>...</td>\n",
              "      <td>...</td>\n",
              "    </tr>\n",
              "    <tr>\n",
              "      <th>104820</th>\n",
              "      <td>1499_215</td>\n",
              "      <td>1499</td>\n",
              "      <td>2018-10-20</td>\n",
              "      <td>218.06</td>\n",
              "      <td>10</td>\n",
              "      <td>0.212949</td>\n",
              "    </tr>\n",
              "    <tr>\n",
              "      <th>104821</th>\n",
              "      <td>1499_216</td>\n",
              "      <td>1499</td>\n",
              "      <td>2018-12-30</td>\n",
              "      <td>304.72</td>\n",
              "      <td>12</td>\n",
              "      <td>0.297578</td>\n",
              "    </tr>\n",
              "    <tr>\n",
              "      <th>104822</th>\n",
              "      <td>1499_217</td>\n",
              "      <td>1499</td>\n",
              "      <td>2018-09-22</td>\n",
              "      <td>292.75</td>\n",
              "      <td>9</td>\n",
              "      <td>0.285889</td>\n",
              "    </tr>\n",
              "    <tr>\n",
              "      <th>104823</th>\n",
              "      <td>1499_218</td>\n",
              "      <td>1499</td>\n",
              "      <td>2018-12-07</td>\n",
              "      <td>0.00</td>\n",
              "      <td>12</td>\n",
              "      <td>0.000000</td>\n",
              "    </tr>\n",
              "    <tr>\n",
              "      <th>104824</th>\n",
              "      <td>1499_219</td>\n",
              "      <td>1499</td>\n",
              "      <td>2018-12-24</td>\n",
              "      <td>758.31</td>\n",
              "      <td>12</td>\n",
              "      <td>0.740537</td>\n",
              "    </tr>\n",
              "  </tbody>\n",
              "</table>\n",
              "<p>104825 rows × 6 columns</p>\n",
              "</div>\n",
              "      <button class=\"colab-df-convert\" onclick=\"convertToInteractive('df-77b27174-b5d9-48ab-9186-f060b96b50aa')\"\n",
              "              title=\"Convert this dataframe to an interactive table.\"\n",
              "              style=\"display:none;\">\n",
              "        \n",
              "  <svg xmlns=\"http://www.w3.org/2000/svg\" height=\"24px\"viewBox=\"0 0 24 24\"\n",
              "       width=\"24px\">\n",
              "    <path d=\"M0 0h24v24H0V0z\" fill=\"none\"/>\n",
              "    <path d=\"M18.56 5.44l.94 2.06.94-2.06 2.06-.94-2.06-.94-.94-2.06-.94 2.06-2.06.94zm-11 1L8.5 8.5l.94-2.06 2.06-.94-2.06-.94L8.5 2.5l-.94 2.06-2.06.94zm10 10l.94 2.06.94-2.06 2.06-.94-2.06-.94-.94-2.06-.94 2.06-2.06.94z\"/><path d=\"M17.41 7.96l-1.37-1.37c-.4-.4-.92-.59-1.43-.59-.52 0-1.04.2-1.43.59L10.3 9.45l-7.72 7.72c-.78.78-.78 2.05 0 2.83L4 21.41c.39.39.9.59 1.41.59.51 0 1.02-.2 1.41-.59l7.78-7.78 2.81-2.81c.8-.78.8-2.07 0-2.86zM5.41 20L4 18.59l7.72-7.72 1.47 1.35L5.41 20z\"/>\n",
              "  </svg>\n",
              "      </button>\n",
              "      \n",
              "  <style>\n",
              "    .colab-df-container {\n",
              "      display:flex;\n",
              "      flex-wrap:wrap;\n",
              "      gap: 12px;\n",
              "    }\n",
              "\n",
              "    .colab-df-convert {\n",
              "      background-color: #E8F0FE;\n",
              "      border: none;\n",
              "      border-radius: 50%;\n",
              "      cursor: pointer;\n",
              "      display: none;\n",
              "      fill: #1967D2;\n",
              "      height: 32px;\n",
              "      padding: 0 0 0 0;\n",
              "      width: 32px;\n",
              "    }\n",
              "\n",
              "    .colab-df-convert:hover {\n",
              "      background-color: #E2EBFA;\n",
              "      box-shadow: 0px 1px 2px rgba(60, 64, 67, 0.3), 0px 1px 3px 1px rgba(60, 64, 67, 0.15);\n",
              "      fill: #174EA6;\n",
              "    }\n",
              "\n",
              "    [theme=dark] .colab-df-convert {\n",
              "      background-color: #3B4455;\n",
              "      fill: #D2E3FC;\n",
              "    }\n",
              "\n",
              "    [theme=dark] .colab-df-convert:hover {\n",
              "      background-color: #434B5C;\n",
              "      box-shadow: 0px 1px 3px 1px rgba(0, 0, 0, 0.15);\n",
              "      filter: drop-shadow(0px 1px 2px rgba(0, 0, 0, 0.3));\n",
              "      fill: #FFFFFF;\n",
              "    }\n",
              "  </style>\n",
              "\n",
              "      <script>\n",
              "        const buttonEl =\n",
              "          document.querySelector('#df-77b27174-b5d9-48ab-9186-f060b96b50aa button.colab-df-convert');\n",
              "        buttonEl.style.display =\n",
              "          google.colab.kernel.accessAllowed ? 'block' : 'none';\n",
              "\n",
              "        async function convertToInteractive(key) {\n",
              "          const element = document.querySelector('#df-77b27174-b5d9-48ab-9186-f060b96b50aa');\n",
              "          const dataTable =\n",
              "            await google.colab.kernel.invokeFunction('convertToInteractive',\n",
              "                                                     [key], {});\n",
              "          if (!dataTable) return;\n",
              "\n",
              "          const docLinkHtml = 'Like what you see? Visit the ' +\n",
              "            '<a target=\"_blank\" href=https://colab.research.google.com/notebooks/data_table.ipynb>data table notebook</a>'\n",
              "            + ' to learn more about interactive tables.';\n",
              "          element.innerHTML = '';\n",
              "          dataTable['output_type'] = 'display_data';\n",
              "          await google.colab.output.renderOutput(dataTable, element);\n",
              "          const docLink = document.createElement('div');\n",
              "          docLink.innerHTML = docLinkHtml;\n",
              "          element.appendChild(docLink);\n",
              "        }\n",
              "      </script>\n",
              "    </div>\n",
              "  </div>\n",
              "  "
            ]
          },
          "metadata": {},
          "execution_count": 111
        }
      ],
      "source": [
        "internet['month'] = pd.to_datetime(internet['session_date'], format = '%Y-%m-%d').dt.month\n",
        "internet['session_date'] = pd.to_datetime(internet['session_date'], format='%Y-%m-%d')\n",
        "internet"
      ]
    },
    {
      "cell_type": "markdown",
      "metadata": {
        "id": "E9kV_ccJvu12"
      },
      "source": [
        "En este dataframe tenemos la cantidad de megabytes que utilizaron nuestros clientes de acuerdo a el usuario y la duración total del total de sesiones de navegación que tuvieron. Vamos a calcular el volumen de datos utilizados en gigabytes, se cobra el gigabyte completo desde el primer mg."
      ]
    },
    {
      "cell_type": "code",
      "execution_count": null,
      "metadata": {
        "colab": {
          "base_uri": "https://localhost:8080/",
          "height": 424
        },
        "id": "yBWembaeOY5c",
        "outputId": "6e3a00c6-df38-4eee-e265-58715c50ede6"
      },
      "outputs": [
        {
          "output_type": "execute_result",
          "data": {
            "text/plain": [
              "              id  user_id session_date  mb_used  month   gb_used\n",
              "0        1000_13     1000   2018-12-29    89.86     12  0.087754\n",
              "1       1000_204     1000   2018-12-31     0.00     12  0.000000\n",
              "2       1000_379     1000   2018-12-28   660.40     12  0.644922\n",
              "3       1000_413     1000   2018-12-26   270.99     12  0.264639\n",
              "4       1000_442     1000   2018-12-27   880.22     12  0.859590\n",
              "...          ...      ...          ...      ...    ...       ...\n",
              "104820  1499_215     1499   2018-10-20   218.06     10  0.212949\n",
              "104821  1499_216     1499   2018-12-30   304.72     12  0.297578\n",
              "104822  1499_217     1499   2018-09-22   292.75      9  0.285889\n",
              "104823  1499_218     1499   2018-12-07     0.00     12  0.000000\n",
              "104824  1499_219     1499   2018-12-24   758.31     12  0.740537\n",
              "\n",
              "[104825 rows x 6 columns]"
            ],
            "text/html": [
              "\n",
              "  <div id=\"df-037f9455-86d1-42e0-8cce-24dd31f2f794\">\n",
              "    <div class=\"colab-df-container\">\n",
              "      <div>\n",
              "<style scoped>\n",
              "    .dataframe tbody tr th:only-of-type {\n",
              "        vertical-align: middle;\n",
              "    }\n",
              "\n",
              "    .dataframe tbody tr th {\n",
              "        vertical-align: top;\n",
              "    }\n",
              "\n",
              "    .dataframe thead th {\n",
              "        text-align: right;\n",
              "    }\n",
              "</style>\n",
              "<table border=\"1\" class=\"dataframe\">\n",
              "  <thead>\n",
              "    <tr style=\"text-align: right;\">\n",
              "      <th></th>\n",
              "      <th>id</th>\n",
              "      <th>user_id</th>\n",
              "      <th>session_date</th>\n",
              "      <th>mb_used</th>\n",
              "      <th>month</th>\n",
              "      <th>gb_used</th>\n",
              "    </tr>\n",
              "  </thead>\n",
              "  <tbody>\n",
              "    <tr>\n",
              "      <th>0</th>\n",
              "      <td>1000_13</td>\n",
              "      <td>1000</td>\n",
              "      <td>2018-12-29</td>\n",
              "      <td>89.86</td>\n",
              "      <td>12</td>\n",
              "      <td>0.087754</td>\n",
              "    </tr>\n",
              "    <tr>\n",
              "      <th>1</th>\n",
              "      <td>1000_204</td>\n",
              "      <td>1000</td>\n",
              "      <td>2018-12-31</td>\n",
              "      <td>0.00</td>\n",
              "      <td>12</td>\n",
              "      <td>0.000000</td>\n",
              "    </tr>\n",
              "    <tr>\n",
              "      <th>2</th>\n",
              "      <td>1000_379</td>\n",
              "      <td>1000</td>\n",
              "      <td>2018-12-28</td>\n",
              "      <td>660.40</td>\n",
              "      <td>12</td>\n",
              "      <td>0.644922</td>\n",
              "    </tr>\n",
              "    <tr>\n",
              "      <th>3</th>\n",
              "      <td>1000_413</td>\n",
              "      <td>1000</td>\n",
              "      <td>2018-12-26</td>\n",
              "      <td>270.99</td>\n",
              "      <td>12</td>\n",
              "      <td>0.264639</td>\n",
              "    </tr>\n",
              "    <tr>\n",
              "      <th>4</th>\n",
              "      <td>1000_442</td>\n",
              "      <td>1000</td>\n",
              "      <td>2018-12-27</td>\n",
              "      <td>880.22</td>\n",
              "      <td>12</td>\n",
              "      <td>0.859590</td>\n",
              "    </tr>\n",
              "    <tr>\n",
              "      <th>...</th>\n",
              "      <td>...</td>\n",
              "      <td>...</td>\n",
              "      <td>...</td>\n",
              "      <td>...</td>\n",
              "      <td>...</td>\n",
              "      <td>...</td>\n",
              "    </tr>\n",
              "    <tr>\n",
              "      <th>104820</th>\n",
              "      <td>1499_215</td>\n",
              "      <td>1499</td>\n",
              "      <td>2018-10-20</td>\n",
              "      <td>218.06</td>\n",
              "      <td>10</td>\n",
              "      <td>0.212949</td>\n",
              "    </tr>\n",
              "    <tr>\n",
              "      <th>104821</th>\n",
              "      <td>1499_216</td>\n",
              "      <td>1499</td>\n",
              "      <td>2018-12-30</td>\n",
              "      <td>304.72</td>\n",
              "      <td>12</td>\n",
              "      <td>0.297578</td>\n",
              "    </tr>\n",
              "    <tr>\n",
              "      <th>104822</th>\n",
              "      <td>1499_217</td>\n",
              "      <td>1499</td>\n",
              "      <td>2018-09-22</td>\n",
              "      <td>292.75</td>\n",
              "      <td>9</td>\n",
              "      <td>0.285889</td>\n",
              "    </tr>\n",
              "    <tr>\n",
              "      <th>104823</th>\n",
              "      <td>1499_218</td>\n",
              "      <td>1499</td>\n",
              "      <td>2018-12-07</td>\n",
              "      <td>0.00</td>\n",
              "      <td>12</td>\n",
              "      <td>0.000000</td>\n",
              "    </tr>\n",
              "    <tr>\n",
              "      <th>104824</th>\n",
              "      <td>1499_219</td>\n",
              "      <td>1499</td>\n",
              "      <td>2018-12-24</td>\n",
              "      <td>758.31</td>\n",
              "      <td>12</td>\n",
              "      <td>0.740537</td>\n",
              "    </tr>\n",
              "  </tbody>\n",
              "</table>\n",
              "<p>104825 rows × 6 columns</p>\n",
              "</div>\n",
              "      <button class=\"colab-df-convert\" onclick=\"convertToInteractive('df-037f9455-86d1-42e0-8cce-24dd31f2f794')\"\n",
              "              title=\"Convert this dataframe to an interactive table.\"\n",
              "              style=\"display:none;\">\n",
              "        \n",
              "  <svg xmlns=\"http://www.w3.org/2000/svg\" height=\"24px\"viewBox=\"0 0 24 24\"\n",
              "       width=\"24px\">\n",
              "    <path d=\"M0 0h24v24H0V0z\" fill=\"none\"/>\n",
              "    <path d=\"M18.56 5.44l.94 2.06.94-2.06 2.06-.94-2.06-.94-.94-2.06-.94 2.06-2.06.94zm-11 1L8.5 8.5l.94-2.06 2.06-.94-2.06-.94L8.5 2.5l-.94 2.06-2.06.94zm10 10l.94 2.06.94-2.06 2.06-.94-2.06-.94-.94-2.06-.94 2.06-2.06.94z\"/><path d=\"M17.41 7.96l-1.37-1.37c-.4-.4-.92-.59-1.43-.59-.52 0-1.04.2-1.43.59L10.3 9.45l-7.72 7.72c-.78.78-.78 2.05 0 2.83L4 21.41c.39.39.9.59 1.41.59.51 0 1.02-.2 1.41-.59l7.78-7.78 2.81-2.81c.8-.78.8-2.07 0-2.86zM5.41 20L4 18.59l7.72-7.72 1.47 1.35L5.41 20z\"/>\n",
              "  </svg>\n",
              "      </button>\n",
              "      \n",
              "  <style>\n",
              "    .colab-df-container {\n",
              "      display:flex;\n",
              "      flex-wrap:wrap;\n",
              "      gap: 12px;\n",
              "    }\n",
              "\n",
              "    .colab-df-convert {\n",
              "      background-color: #E8F0FE;\n",
              "      border: none;\n",
              "      border-radius: 50%;\n",
              "      cursor: pointer;\n",
              "      display: none;\n",
              "      fill: #1967D2;\n",
              "      height: 32px;\n",
              "      padding: 0 0 0 0;\n",
              "      width: 32px;\n",
              "    }\n",
              "\n",
              "    .colab-df-convert:hover {\n",
              "      background-color: #E2EBFA;\n",
              "      box-shadow: 0px 1px 2px rgba(60, 64, 67, 0.3), 0px 1px 3px 1px rgba(60, 64, 67, 0.15);\n",
              "      fill: #174EA6;\n",
              "    }\n",
              "\n",
              "    [theme=dark] .colab-df-convert {\n",
              "      background-color: #3B4455;\n",
              "      fill: #D2E3FC;\n",
              "    }\n",
              "\n",
              "    [theme=dark] .colab-df-convert:hover {\n",
              "      background-color: #434B5C;\n",
              "      box-shadow: 0px 1px 3px 1px rgba(0, 0, 0, 0.15);\n",
              "      filter: drop-shadow(0px 1px 2px rgba(0, 0, 0, 0.3));\n",
              "      fill: #FFFFFF;\n",
              "    }\n",
              "  </style>\n",
              "\n",
              "      <script>\n",
              "        const buttonEl =\n",
              "          document.querySelector('#df-037f9455-86d1-42e0-8cce-24dd31f2f794 button.colab-df-convert');\n",
              "        buttonEl.style.display =\n",
              "          google.colab.kernel.accessAllowed ? 'block' : 'none';\n",
              "\n",
              "        async function convertToInteractive(key) {\n",
              "          const element = document.querySelector('#df-037f9455-86d1-42e0-8cce-24dd31f2f794');\n",
              "          const dataTable =\n",
              "            await google.colab.kernel.invokeFunction('convertToInteractive',\n",
              "                                                     [key], {});\n",
              "          if (!dataTable) return;\n",
              "\n",
              "          const docLinkHtml = 'Like what you see? Visit the ' +\n",
              "            '<a target=\"_blank\" href=https://colab.research.google.com/notebooks/data_table.ipynb>data table notebook</a>'\n",
              "            + ' to learn more about interactive tables.';\n",
              "          element.innerHTML = '';\n",
              "          dataTable['output_type'] = 'display_data';\n",
              "          await google.colab.output.renderOutput(dataTable, element);\n",
              "          const docLink = document.createElement('div');\n",
              "          docLink.innerHTML = docLinkHtml;\n",
              "          element.appendChild(docLink);\n",
              "        }\n",
              "      </script>\n",
              "    </div>\n",
              "  </div>\n",
              "  "
            ]
          },
          "metadata": {},
          "execution_count": 112
        }
      ],
      "source": [
        "internet"
      ]
    },
    {
      "cell_type": "code",
      "execution_count": null,
      "metadata": {
        "id": "eUpgsdazwy_4"
      },
      "outputs": [],
      "source": [
        "internet['gb_used'] = internet['mb_used'] / 1024\n",
        "internet_usage = internet.pivot_table(values=['mb_used', 'gb_used'], index=['user_id', 'month'], aggfunc='sum')\n",
        "internet_usage['gb_used'] = internet_usage['gb_used'].apply(np.ceil)"
      ]
    },
    {
      "cell_type": "code",
      "execution_count": null,
      "metadata": {
        "id": "h_Bym9GawSLd",
        "colab": {
          "base_uri": "https://localhost:8080/",
          "height": 455
        },
        "outputId": "42ea272c-d0b8-47a4-8745-fa8987ee33ae"
      },
      "outputs": [
        {
          "output_type": "execute_result",
          "data": {
            "text/plain": [
              "               gb_used   mb_used\n",
              "user_id month                   \n",
              "1000    12         2.0   1901.47\n",
              "1001    8          7.0   6919.15\n",
              "        9         14.0  13314.82\n",
              "        10        22.0  22330.49\n",
              "        11        19.0  18504.30\n",
              "...                ...       ...\n",
              "1498    12        23.0  23137.69\n",
              "1499    9         13.0  12984.76\n",
              "        10        20.0  19492.43\n",
              "        11        17.0  16813.83\n",
              "        12        22.0  22059.21\n",
              "\n",
              "[2277 rows x 2 columns]"
            ],
            "text/html": [
              "\n",
              "  <div id=\"df-7831672a-a966-4e07-8679-f4c4382d1e2c\">\n",
              "    <div class=\"colab-df-container\">\n",
              "      <div>\n",
              "<style scoped>\n",
              "    .dataframe tbody tr th:only-of-type {\n",
              "        vertical-align: middle;\n",
              "    }\n",
              "\n",
              "    .dataframe tbody tr th {\n",
              "        vertical-align: top;\n",
              "    }\n",
              "\n",
              "    .dataframe thead th {\n",
              "        text-align: right;\n",
              "    }\n",
              "</style>\n",
              "<table border=\"1\" class=\"dataframe\">\n",
              "  <thead>\n",
              "    <tr style=\"text-align: right;\">\n",
              "      <th></th>\n",
              "      <th></th>\n",
              "      <th>gb_used</th>\n",
              "      <th>mb_used</th>\n",
              "    </tr>\n",
              "    <tr>\n",
              "      <th>user_id</th>\n",
              "      <th>month</th>\n",
              "      <th></th>\n",
              "      <th></th>\n",
              "    </tr>\n",
              "  </thead>\n",
              "  <tbody>\n",
              "    <tr>\n",
              "      <th>1000</th>\n",
              "      <th>12</th>\n",
              "      <td>2.0</td>\n",
              "      <td>1901.47</td>\n",
              "    </tr>\n",
              "    <tr>\n",
              "      <th rowspan=\"4\" valign=\"top\">1001</th>\n",
              "      <th>8</th>\n",
              "      <td>7.0</td>\n",
              "      <td>6919.15</td>\n",
              "    </tr>\n",
              "    <tr>\n",
              "      <th>9</th>\n",
              "      <td>14.0</td>\n",
              "      <td>13314.82</td>\n",
              "    </tr>\n",
              "    <tr>\n",
              "      <th>10</th>\n",
              "      <td>22.0</td>\n",
              "      <td>22330.49</td>\n",
              "    </tr>\n",
              "    <tr>\n",
              "      <th>11</th>\n",
              "      <td>19.0</td>\n",
              "      <td>18504.30</td>\n",
              "    </tr>\n",
              "    <tr>\n",
              "      <th>...</th>\n",
              "      <th>...</th>\n",
              "      <td>...</td>\n",
              "      <td>...</td>\n",
              "    </tr>\n",
              "    <tr>\n",
              "      <th>1498</th>\n",
              "      <th>12</th>\n",
              "      <td>23.0</td>\n",
              "      <td>23137.69</td>\n",
              "    </tr>\n",
              "    <tr>\n",
              "      <th rowspan=\"4\" valign=\"top\">1499</th>\n",
              "      <th>9</th>\n",
              "      <td>13.0</td>\n",
              "      <td>12984.76</td>\n",
              "    </tr>\n",
              "    <tr>\n",
              "      <th>10</th>\n",
              "      <td>20.0</td>\n",
              "      <td>19492.43</td>\n",
              "    </tr>\n",
              "    <tr>\n",
              "      <th>11</th>\n",
              "      <td>17.0</td>\n",
              "      <td>16813.83</td>\n",
              "    </tr>\n",
              "    <tr>\n",
              "      <th>12</th>\n",
              "      <td>22.0</td>\n",
              "      <td>22059.21</td>\n",
              "    </tr>\n",
              "  </tbody>\n",
              "</table>\n",
              "<p>2277 rows × 2 columns</p>\n",
              "</div>\n",
              "      <button class=\"colab-df-convert\" onclick=\"convertToInteractive('df-7831672a-a966-4e07-8679-f4c4382d1e2c')\"\n",
              "              title=\"Convert this dataframe to an interactive table.\"\n",
              "              style=\"display:none;\">\n",
              "        \n",
              "  <svg xmlns=\"http://www.w3.org/2000/svg\" height=\"24px\"viewBox=\"0 0 24 24\"\n",
              "       width=\"24px\">\n",
              "    <path d=\"M0 0h24v24H0V0z\" fill=\"none\"/>\n",
              "    <path d=\"M18.56 5.44l.94 2.06.94-2.06 2.06-.94-2.06-.94-.94-2.06-.94 2.06-2.06.94zm-11 1L8.5 8.5l.94-2.06 2.06-.94-2.06-.94L8.5 2.5l-.94 2.06-2.06.94zm10 10l.94 2.06.94-2.06 2.06-.94-2.06-.94-.94-2.06-.94 2.06-2.06.94z\"/><path d=\"M17.41 7.96l-1.37-1.37c-.4-.4-.92-.59-1.43-.59-.52 0-1.04.2-1.43.59L10.3 9.45l-7.72 7.72c-.78.78-.78 2.05 0 2.83L4 21.41c.39.39.9.59 1.41.59.51 0 1.02-.2 1.41-.59l7.78-7.78 2.81-2.81c.8-.78.8-2.07 0-2.86zM5.41 20L4 18.59l7.72-7.72 1.47 1.35L5.41 20z\"/>\n",
              "  </svg>\n",
              "      </button>\n",
              "      \n",
              "  <style>\n",
              "    .colab-df-container {\n",
              "      display:flex;\n",
              "      flex-wrap:wrap;\n",
              "      gap: 12px;\n",
              "    }\n",
              "\n",
              "    .colab-df-convert {\n",
              "      background-color: #E8F0FE;\n",
              "      border: none;\n",
              "      border-radius: 50%;\n",
              "      cursor: pointer;\n",
              "      display: none;\n",
              "      fill: #1967D2;\n",
              "      height: 32px;\n",
              "      padding: 0 0 0 0;\n",
              "      width: 32px;\n",
              "    }\n",
              "\n",
              "    .colab-df-convert:hover {\n",
              "      background-color: #E2EBFA;\n",
              "      box-shadow: 0px 1px 2px rgba(60, 64, 67, 0.3), 0px 1px 3px 1px rgba(60, 64, 67, 0.15);\n",
              "      fill: #174EA6;\n",
              "    }\n",
              "\n",
              "    [theme=dark] .colab-df-convert {\n",
              "      background-color: #3B4455;\n",
              "      fill: #D2E3FC;\n",
              "    }\n",
              "\n",
              "    [theme=dark] .colab-df-convert:hover {\n",
              "      background-color: #434B5C;\n",
              "      box-shadow: 0px 1px 3px 1px rgba(0, 0, 0, 0.15);\n",
              "      filter: drop-shadow(0px 1px 2px rgba(0, 0, 0, 0.3));\n",
              "      fill: #FFFFFF;\n",
              "    }\n",
              "  </style>\n",
              "\n",
              "      <script>\n",
              "        const buttonEl =\n",
              "          document.querySelector('#df-7831672a-a966-4e07-8679-f4c4382d1e2c button.colab-df-convert');\n",
              "        buttonEl.style.display =\n",
              "          google.colab.kernel.accessAllowed ? 'block' : 'none';\n",
              "\n",
              "        async function convertToInteractive(key) {\n",
              "          const element = document.querySelector('#df-7831672a-a966-4e07-8679-f4c4382d1e2c');\n",
              "          const dataTable =\n",
              "            await google.colab.kernel.invokeFunction('convertToInteractive',\n",
              "                                                     [key], {});\n",
              "          if (!dataTable) return;\n",
              "\n",
              "          const docLinkHtml = 'Like what you see? Visit the ' +\n",
              "            '<a target=\"_blank\" href=https://colab.research.google.com/notebooks/data_table.ipynb>data table notebook</a>'\n",
              "            + ' to learn more about interactive tables.';\n",
              "          element.innerHTML = '';\n",
              "          dataTable['output_type'] = 'display_data';\n",
              "          await google.colab.output.renderOutput(dataTable, element);\n",
              "          const docLink = document.createElement('div');\n",
              "          docLink.innerHTML = docLinkHtml;\n",
              "          element.appendChild(docLink);\n",
              "        }\n",
              "      </script>\n",
              "    </div>\n",
              "  </div>\n",
              "  "
            ]
          },
          "metadata": {},
          "execution_count": 114
        }
      ],
      "source": [
        "# Convirtiendo mb a gb y creando nueva columna con el total\n",
        "internet_usage"
      ]
    },
    {
      "cell_type": "markdown",
      "metadata": {
        "id": "ogMzDBv_zEeM"
      },
      "source": [
        "## Preprocesando `messages`"
      ]
    },
    {
      "cell_type": "code",
      "execution_count": null,
      "metadata": {
        "colab": {
          "base_uri": "https://localhost:8080/"
        },
        "id": "t88QffUtzICK",
        "outputId": "1e6d718e-b277-4935-a413-3d2b3b7ea850"
      },
      "outputs": [
        {
          "output_type": "execute_result",
          "data": {
            "text/plain": [
              "             id  user_id message_date  month\n",
              "0      1000_125     1000   2018-12-27     12\n",
              "1      1000_160     1000   2018-12-31     12\n",
              "2      1000_223     1000   2018-12-31     12\n",
              "3      1000_251     1000   2018-12-27     12\n",
              "4      1000_255     1000   2018-12-26     12\n",
              "...         ...      ...          ...    ...\n",
              "76046  1497_526     1497   2018-12-24     12\n",
              "76047  1497_536     1497   2018-12-24     12\n",
              "76048  1497_547     1497   2018-12-31     12\n",
              "76049  1497_558     1497   2018-12-24     12\n",
              "76050  1497_613     1497   2018-12-23     12\n",
              "\n",
              "[76051 rows x 4 columns]"
            ],
            "text/html": [
              "\n",
              "  <div id=\"df-9eb086d6-ef6b-44d7-ab5c-e28d4405e712\">\n",
              "    <div class=\"colab-df-container\">\n",
              "      <div>\n",
              "<style scoped>\n",
              "    .dataframe tbody tr th:only-of-type {\n",
              "        vertical-align: middle;\n",
              "    }\n",
              "\n",
              "    .dataframe tbody tr th {\n",
              "        vertical-align: top;\n",
              "    }\n",
              "\n",
              "    .dataframe thead th {\n",
              "        text-align: right;\n",
              "    }\n",
              "</style>\n",
              "<table border=\"1\" class=\"dataframe\">\n",
              "  <thead>\n",
              "    <tr style=\"text-align: right;\">\n",
              "      <th></th>\n",
              "      <th>id</th>\n",
              "      <th>user_id</th>\n",
              "      <th>message_date</th>\n",
              "      <th>month</th>\n",
              "    </tr>\n",
              "  </thead>\n",
              "  <tbody>\n",
              "    <tr>\n",
              "      <th>0</th>\n",
              "      <td>1000_125</td>\n",
              "      <td>1000</td>\n",
              "      <td>2018-12-27</td>\n",
              "      <td>12</td>\n",
              "    </tr>\n",
              "    <tr>\n",
              "      <th>1</th>\n",
              "      <td>1000_160</td>\n",
              "      <td>1000</td>\n",
              "      <td>2018-12-31</td>\n",
              "      <td>12</td>\n",
              "    </tr>\n",
              "    <tr>\n",
              "      <th>2</th>\n",
              "      <td>1000_223</td>\n",
              "      <td>1000</td>\n",
              "      <td>2018-12-31</td>\n",
              "      <td>12</td>\n",
              "    </tr>\n",
              "    <tr>\n",
              "      <th>3</th>\n",
              "      <td>1000_251</td>\n",
              "      <td>1000</td>\n",
              "      <td>2018-12-27</td>\n",
              "      <td>12</td>\n",
              "    </tr>\n",
              "    <tr>\n",
              "      <th>4</th>\n",
              "      <td>1000_255</td>\n",
              "      <td>1000</td>\n",
              "      <td>2018-12-26</td>\n",
              "      <td>12</td>\n",
              "    </tr>\n",
              "    <tr>\n",
              "      <th>...</th>\n",
              "      <td>...</td>\n",
              "      <td>...</td>\n",
              "      <td>...</td>\n",
              "      <td>...</td>\n",
              "    </tr>\n",
              "    <tr>\n",
              "      <th>76046</th>\n",
              "      <td>1497_526</td>\n",
              "      <td>1497</td>\n",
              "      <td>2018-12-24</td>\n",
              "      <td>12</td>\n",
              "    </tr>\n",
              "    <tr>\n",
              "      <th>76047</th>\n",
              "      <td>1497_536</td>\n",
              "      <td>1497</td>\n",
              "      <td>2018-12-24</td>\n",
              "      <td>12</td>\n",
              "    </tr>\n",
              "    <tr>\n",
              "      <th>76048</th>\n",
              "      <td>1497_547</td>\n",
              "      <td>1497</td>\n",
              "      <td>2018-12-31</td>\n",
              "      <td>12</td>\n",
              "    </tr>\n",
              "    <tr>\n",
              "      <th>76049</th>\n",
              "      <td>1497_558</td>\n",
              "      <td>1497</td>\n",
              "      <td>2018-12-24</td>\n",
              "      <td>12</td>\n",
              "    </tr>\n",
              "    <tr>\n",
              "      <th>76050</th>\n",
              "      <td>1497_613</td>\n",
              "      <td>1497</td>\n",
              "      <td>2018-12-23</td>\n",
              "      <td>12</td>\n",
              "    </tr>\n",
              "  </tbody>\n",
              "</table>\n",
              "<p>76051 rows × 4 columns</p>\n",
              "</div>\n",
              "      <button class=\"colab-df-convert\" onclick=\"convertToInteractive('df-9eb086d6-ef6b-44d7-ab5c-e28d4405e712')\"\n",
              "              title=\"Convert this dataframe to an interactive table.\"\n",
              "              style=\"display:none;\">\n",
              "        \n",
              "  <svg xmlns=\"http://www.w3.org/2000/svg\" height=\"24px\"viewBox=\"0 0 24 24\"\n",
              "       width=\"24px\">\n",
              "    <path d=\"M0 0h24v24H0V0z\" fill=\"none\"/>\n",
              "    <path d=\"M18.56 5.44l.94 2.06.94-2.06 2.06-.94-2.06-.94-.94-2.06-.94 2.06-2.06.94zm-11 1L8.5 8.5l.94-2.06 2.06-.94-2.06-.94L8.5 2.5l-.94 2.06-2.06.94zm10 10l.94 2.06.94-2.06 2.06-.94-2.06-.94-.94-2.06-.94 2.06-2.06.94z\"/><path d=\"M17.41 7.96l-1.37-1.37c-.4-.4-.92-.59-1.43-.59-.52 0-1.04.2-1.43.59L10.3 9.45l-7.72 7.72c-.78.78-.78 2.05 0 2.83L4 21.41c.39.39.9.59 1.41.59.51 0 1.02-.2 1.41-.59l7.78-7.78 2.81-2.81c.8-.78.8-2.07 0-2.86zM5.41 20L4 18.59l7.72-7.72 1.47 1.35L5.41 20z\"/>\n",
              "  </svg>\n",
              "      </button>\n",
              "      \n",
              "  <style>\n",
              "    .colab-df-container {\n",
              "      display:flex;\n",
              "      flex-wrap:wrap;\n",
              "      gap: 12px;\n",
              "    }\n",
              "\n",
              "    .colab-df-convert {\n",
              "      background-color: #E8F0FE;\n",
              "      border: none;\n",
              "      border-radius: 50%;\n",
              "      cursor: pointer;\n",
              "      display: none;\n",
              "      fill: #1967D2;\n",
              "      height: 32px;\n",
              "      padding: 0 0 0 0;\n",
              "      width: 32px;\n",
              "    }\n",
              "\n",
              "    .colab-df-convert:hover {\n",
              "      background-color: #E2EBFA;\n",
              "      box-shadow: 0px 1px 2px rgba(60, 64, 67, 0.3), 0px 1px 3px 1px rgba(60, 64, 67, 0.15);\n",
              "      fill: #174EA6;\n",
              "    }\n",
              "\n",
              "    [theme=dark] .colab-df-convert {\n",
              "      background-color: #3B4455;\n",
              "      fill: #D2E3FC;\n",
              "    }\n",
              "\n",
              "    [theme=dark] .colab-df-convert:hover {\n",
              "      background-color: #434B5C;\n",
              "      box-shadow: 0px 1px 3px 1px rgba(0, 0, 0, 0.15);\n",
              "      filter: drop-shadow(0px 1px 2px rgba(0, 0, 0, 0.3));\n",
              "      fill: #FFFFFF;\n",
              "    }\n",
              "  </style>\n",
              "\n",
              "      <script>\n",
              "        const buttonEl =\n",
              "          document.querySelector('#df-9eb086d6-ef6b-44d7-ab5c-e28d4405e712 button.colab-df-convert');\n",
              "        buttonEl.style.display =\n",
              "          google.colab.kernel.accessAllowed ? 'block' : 'none';\n",
              "\n",
              "        async function convertToInteractive(key) {\n",
              "          const element = document.querySelector('#df-9eb086d6-ef6b-44d7-ab5c-e28d4405e712');\n",
              "          const dataTable =\n",
              "            await google.colab.kernel.invokeFunction('convertToInteractive',\n",
              "                                                     [key], {});\n",
              "          if (!dataTable) return;\n",
              "\n",
              "          const docLinkHtml = 'Like what you see? Visit the ' +\n",
              "            '<a target=\"_blank\" href=https://colab.research.google.com/notebooks/data_table.ipynb>data table notebook</a>'\n",
              "            + ' to learn more about interactive tables.';\n",
              "          element.innerHTML = '';\n",
              "          dataTable['output_type'] = 'display_data';\n",
              "          await google.colab.output.renderOutput(dataTable, element);\n",
              "          const docLink = document.createElement('div');\n",
              "          docLink.innerHTML = docLinkHtml;\n",
              "          element.appendChild(docLink);\n",
              "        }\n",
              "      </script>\n",
              "    </div>\n",
              "  </div>\n",
              "  "
            ]
          },
          "metadata": {},
          "execution_count": 30
        }
      ],
      "source": [
        "messages['month'] = pd.to_datetime(messages['message_date'], format = '%Y-%m-%d').dt.month\n",
        "messages['message_date'] = pd.to_datetime(messages['message_date'], format='%Y-%m-%d')\n",
        "messages"
      ]
    },
    {
      "cell_type": "code",
      "execution_count": null,
      "metadata": {
        "colab": {
          "base_uri": "https://localhost:8080/"
        },
        "id": "t04UG737ojSE",
        "outputId": "961e1440-37a2-4470-c8d8-b130b6f21da0"
      },
      "outputs": [
        {
          "output_type": "execute_result",
          "data": {
            "text/plain": [
              "array([12, 11,  8, 10,  9,  6,  7,  5,  4,  3,  2,  1])"
            ]
          },
          "metadata": {},
          "execution_count": 31
        }
      ],
      "source": [
        "messages['month'].unique()"
      ]
    },
    {
      "cell_type": "code",
      "execution_count": null,
      "metadata": {
        "id": "Am3sdcx2r864"
      },
      "outputs": [],
      "source": [
        "messages_pivot = messages.pivot_table(index=['user_id', 'month'], aggfunc='count').drop(columns='id')"
      ]
    },
    {
      "cell_type": "code",
      "execution_count": null,
      "metadata": {
        "colab": {
          "base_uri": "https://localhost:8080/"
        },
        "id": "85t2asCgs_HW",
        "outputId": "08cfbc11-5b59-4b1f-cd5c-5d159205ed46"
      },
      "outputs": [
        {
          "output_type": "execute_result",
          "data": {
            "text/plain": [
              "               message_date\n",
              "user_id month              \n",
              "1000    12               11\n",
              "1001    8                30\n",
              "        9                44\n",
              "        10               53\n",
              "        11               36\n",
              "...                     ...\n",
              "1496    9                21\n",
              "        10               18\n",
              "        11               13\n",
              "        12               11\n",
              "1497    12               50\n",
              "\n",
              "[1806 rows x 1 columns]"
            ],
            "text/html": [
              "\n",
              "  <div id=\"df-931cd108-d1f9-498d-9443-7516254da4f9\">\n",
              "    <div class=\"colab-df-container\">\n",
              "      <div>\n",
              "<style scoped>\n",
              "    .dataframe tbody tr th:only-of-type {\n",
              "        vertical-align: middle;\n",
              "    }\n",
              "\n",
              "    .dataframe tbody tr th {\n",
              "        vertical-align: top;\n",
              "    }\n",
              "\n",
              "    .dataframe thead th {\n",
              "        text-align: right;\n",
              "    }\n",
              "</style>\n",
              "<table border=\"1\" class=\"dataframe\">\n",
              "  <thead>\n",
              "    <tr style=\"text-align: right;\">\n",
              "      <th></th>\n",
              "      <th></th>\n",
              "      <th>message_date</th>\n",
              "    </tr>\n",
              "    <tr>\n",
              "      <th>user_id</th>\n",
              "      <th>month</th>\n",
              "      <th></th>\n",
              "    </tr>\n",
              "  </thead>\n",
              "  <tbody>\n",
              "    <tr>\n",
              "      <th>1000</th>\n",
              "      <th>12</th>\n",
              "      <td>11</td>\n",
              "    </tr>\n",
              "    <tr>\n",
              "      <th rowspan=\"4\" valign=\"top\">1001</th>\n",
              "      <th>8</th>\n",
              "      <td>30</td>\n",
              "    </tr>\n",
              "    <tr>\n",
              "      <th>9</th>\n",
              "      <td>44</td>\n",
              "    </tr>\n",
              "    <tr>\n",
              "      <th>10</th>\n",
              "      <td>53</td>\n",
              "    </tr>\n",
              "    <tr>\n",
              "      <th>11</th>\n",
              "      <td>36</td>\n",
              "    </tr>\n",
              "    <tr>\n",
              "      <th>...</th>\n",
              "      <th>...</th>\n",
              "      <td>...</td>\n",
              "    </tr>\n",
              "    <tr>\n",
              "      <th rowspan=\"4\" valign=\"top\">1496</th>\n",
              "      <th>9</th>\n",
              "      <td>21</td>\n",
              "    </tr>\n",
              "    <tr>\n",
              "      <th>10</th>\n",
              "      <td>18</td>\n",
              "    </tr>\n",
              "    <tr>\n",
              "      <th>11</th>\n",
              "      <td>13</td>\n",
              "    </tr>\n",
              "    <tr>\n",
              "      <th>12</th>\n",
              "      <td>11</td>\n",
              "    </tr>\n",
              "    <tr>\n",
              "      <th>1497</th>\n",
              "      <th>12</th>\n",
              "      <td>50</td>\n",
              "    </tr>\n",
              "  </tbody>\n",
              "</table>\n",
              "<p>1806 rows × 1 columns</p>\n",
              "</div>\n",
              "      <button class=\"colab-df-convert\" onclick=\"convertToInteractive('df-931cd108-d1f9-498d-9443-7516254da4f9')\"\n",
              "              title=\"Convert this dataframe to an interactive table.\"\n",
              "              style=\"display:none;\">\n",
              "        \n",
              "  <svg xmlns=\"http://www.w3.org/2000/svg\" height=\"24px\"viewBox=\"0 0 24 24\"\n",
              "       width=\"24px\">\n",
              "    <path d=\"M0 0h24v24H0V0z\" fill=\"none\"/>\n",
              "    <path d=\"M18.56 5.44l.94 2.06.94-2.06 2.06-.94-2.06-.94-.94-2.06-.94 2.06-2.06.94zm-11 1L8.5 8.5l.94-2.06 2.06-.94-2.06-.94L8.5 2.5l-.94 2.06-2.06.94zm10 10l.94 2.06.94-2.06 2.06-.94-2.06-.94-.94-2.06-.94 2.06-2.06.94z\"/><path d=\"M17.41 7.96l-1.37-1.37c-.4-.4-.92-.59-1.43-.59-.52 0-1.04.2-1.43.59L10.3 9.45l-7.72 7.72c-.78.78-.78 2.05 0 2.83L4 21.41c.39.39.9.59 1.41.59.51 0 1.02-.2 1.41-.59l7.78-7.78 2.81-2.81c.8-.78.8-2.07 0-2.86zM5.41 20L4 18.59l7.72-7.72 1.47 1.35L5.41 20z\"/>\n",
              "  </svg>\n",
              "      </button>\n",
              "      \n",
              "  <style>\n",
              "    .colab-df-container {\n",
              "      display:flex;\n",
              "      flex-wrap:wrap;\n",
              "      gap: 12px;\n",
              "    }\n",
              "\n",
              "    .colab-df-convert {\n",
              "      background-color: #E8F0FE;\n",
              "      border: none;\n",
              "      border-radius: 50%;\n",
              "      cursor: pointer;\n",
              "      display: none;\n",
              "      fill: #1967D2;\n",
              "      height: 32px;\n",
              "      padding: 0 0 0 0;\n",
              "      width: 32px;\n",
              "    }\n",
              "\n",
              "    .colab-df-convert:hover {\n",
              "      background-color: #E2EBFA;\n",
              "      box-shadow: 0px 1px 2px rgba(60, 64, 67, 0.3), 0px 1px 3px 1px rgba(60, 64, 67, 0.15);\n",
              "      fill: #174EA6;\n",
              "    }\n",
              "\n",
              "    [theme=dark] .colab-df-convert {\n",
              "      background-color: #3B4455;\n",
              "      fill: #D2E3FC;\n",
              "    }\n",
              "\n",
              "    [theme=dark] .colab-df-convert:hover {\n",
              "      background-color: #434B5C;\n",
              "      box-shadow: 0px 1px 3px 1px rgba(0, 0, 0, 0.15);\n",
              "      filter: drop-shadow(0px 1px 2px rgba(0, 0, 0, 0.3));\n",
              "      fill: #FFFFFF;\n",
              "    }\n",
              "  </style>\n",
              "\n",
              "      <script>\n",
              "        const buttonEl =\n",
              "          document.querySelector('#df-931cd108-d1f9-498d-9443-7516254da4f9 button.colab-df-convert');\n",
              "        buttonEl.style.display =\n",
              "          google.colab.kernel.accessAllowed ? 'block' : 'none';\n",
              "\n",
              "        async function convertToInteractive(key) {\n",
              "          const element = document.querySelector('#df-931cd108-d1f9-498d-9443-7516254da4f9');\n",
              "          const dataTable =\n",
              "            await google.colab.kernel.invokeFunction('convertToInteractive',\n",
              "                                                     [key], {});\n",
              "          if (!dataTable) return;\n",
              "\n",
              "          const docLinkHtml = 'Like what you see? Visit the ' +\n",
              "            '<a target=\"_blank\" href=https://colab.research.google.com/notebooks/data_table.ipynb>data table notebook</a>'\n",
              "            + ' to learn more about interactive tables.';\n",
              "          element.innerHTML = '';\n",
              "          dataTable['output_type'] = 'display_data';\n",
              "          await google.colab.output.renderOutput(dataTable, element);\n",
              "          const docLink = document.createElement('div');\n",
              "          docLink.innerHTML = docLinkHtml;\n",
              "          element.appendChild(docLink);\n",
              "        }\n",
              "      </script>\n",
              "    </div>\n",
              "  </div>\n",
              "  "
            ]
          },
          "metadata": {},
          "execution_count": 33
        }
      ],
      "source": [
        "messages_pivot"
      ]
    },
    {
      "cell_type": "markdown",
      "metadata": {
        "id": "qps1mPNivdmy"
      },
      "source": [
        "Hasta este punto tenemos una columna nueva en cada uno de los dataframes que estamos analizando (`month`) y también `user_id`. Las tenemos en común en los dataframes `calls`, `messages` e `internet`. Las pivot tables que calculamos para cada uno de los dataframes son las que vamos a combinar para tener todos los datos que necesitamos para calcular el ingreso que cada usuario representa de acuerdo al número de llamadas realizadas y minutos utilizados, la cantidad de mensajes y los gb utilizados en las sesiones de navegación. Obtendremos un dataframe más grande."
      ]
    },
    {
      "cell_type": "markdown",
      "metadata": {
        "id": "0lfl4FhV0JOA"
      },
      "source": [
        "## Agrupando datos"
      ]
    },
    {
      "cell_type": "code",
      "execution_count": null,
      "metadata": {
        "id": "SWYTFA8Voy5P"
      },
      "outputs": [],
      "source": [
        "summary_users = pd.concat([calls_pivot, messages_pivot, internet_usage], axis=1, join='outer').reset_index()"
      ]
    },
    {
      "cell_type": "code",
      "execution_count": null,
      "metadata": {
        "colab": {
          "base_uri": "https://localhost:8080/",
          "height": 424
        },
        "id": "DpwbQDImxUZk",
        "outputId": "a92a31fc-63fb-45e6-86ac-504e4623f1be"
      },
      "outputs": [
        {
          "output_type": "execute_result",
          "data": {
            "text/plain": [
              "      user_id  month  count_calls  duration_calls  message_date  gb_used  \\\n",
              "0        1000     12         16.0           124.0          11.0      2.0   \n",
              "1        1001      8         22.0           182.0          30.0      7.0   \n",
              "2        1001      9         38.0           315.0          44.0     14.0   \n",
              "3        1001     10         47.0           393.0          53.0     22.0   \n",
              "4        1001     11         49.0           426.0          36.0     19.0   \n",
              "...       ...    ...          ...             ...           ...      ...   \n",
              "2288     1498     12         32.0           339.0           NaN     23.0   \n",
              "2289     1499      9         35.0           346.0           NaN     13.0   \n",
              "2290     1499     10         41.0           385.0           NaN     20.0   \n",
              "2291     1499     11         39.0           308.0           NaN     17.0   \n",
              "2292     1499     12         56.0           496.0           NaN     22.0   \n",
              "\n",
              "       mb_used  \n",
              "0      1901.47  \n",
              "1      6919.15  \n",
              "2     13314.82  \n",
              "3     22330.49  \n",
              "4     18504.30  \n",
              "...        ...  \n",
              "2288  23137.69  \n",
              "2289  12984.76  \n",
              "2290  19492.43  \n",
              "2291  16813.83  \n",
              "2292  22059.21  \n",
              "\n",
              "[2293 rows x 7 columns]"
            ],
            "text/html": [
              "\n",
              "  <div id=\"df-54030c80-a3c9-4c12-8dfa-3ac6604dcb82\">\n",
              "    <div class=\"colab-df-container\">\n",
              "      <div>\n",
              "<style scoped>\n",
              "    .dataframe tbody tr th:only-of-type {\n",
              "        vertical-align: middle;\n",
              "    }\n",
              "\n",
              "    .dataframe tbody tr th {\n",
              "        vertical-align: top;\n",
              "    }\n",
              "\n",
              "    .dataframe thead th {\n",
              "        text-align: right;\n",
              "    }\n",
              "</style>\n",
              "<table border=\"1\" class=\"dataframe\">\n",
              "  <thead>\n",
              "    <tr style=\"text-align: right;\">\n",
              "      <th></th>\n",
              "      <th>user_id</th>\n",
              "      <th>month</th>\n",
              "      <th>count_calls</th>\n",
              "      <th>duration_calls</th>\n",
              "      <th>message_date</th>\n",
              "      <th>gb_used</th>\n",
              "      <th>mb_used</th>\n",
              "    </tr>\n",
              "  </thead>\n",
              "  <tbody>\n",
              "    <tr>\n",
              "      <th>0</th>\n",
              "      <td>1000</td>\n",
              "      <td>12</td>\n",
              "      <td>16.0</td>\n",
              "      <td>124.0</td>\n",
              "      <td>11.0</td>\n",
              "      <td>2.0</td>\n",
              "      <td>1901.47</td>\n",
              "    </tr>\n",
              "    <tr>\n",
              "      <th>1</th>\n",
              "      <td>1001</td>\n",
              "      <td>8</td>\n",
              "      <td>22.0</td>\n",
              "      <td>182.0</td>\n",
              "      <td>30.0</td>\n",
              "      <td>7.0</td>\n",
              "      <td>6919.15</td>\n",
              "    </tr>\n",
              "    <tr>\n",
              "      <th>2</th>\n",
              "      <td>1001</td>\n",
              "      <td>9</td>\n",
              "      <td>38.0</td>\n",
              "      <td>315.0</td>\n",
              "      <td>44.0</td>\n",
              "      <td>14.0</td>\n",
              "      <td>13314.82</td>\n",
              "    </tr>\n",
              "    <tr>\n",
              "      <th>3</th>\n",
              "      <td>1001</td>\n",
              "      <td>10</td>\n",
              "      <td>47.0</td>\n",
              "      <td>393.0</td>\n",
              "      <td>53.0</td>\n",
              "      <td>22.0</td>\n",
              "      <td>22330.49</td>\n",
              "    </tr>\n",
              "    <tr>\n",
              "      <th>4</th>\n",
              "      <td>1001</td>\n",
              "      <td>11</td>\n",
              "      <td>49.0</td>\n",
              "      <td>426.0</td>\n",
              "      <td>36.0</td>\n",
              "      <td>19.0</td>\n",
              "      <td>18504.30</td>\n",
              "    </tr>\n",
              "    <tr>\n",
              "      <th>...</th>\n",
              "      <td>...</td>\n",
              "      <td>...</td>\n",
              "      <td>...</td>\n",
              "      <td>...</td>\n",
              "      <td>...</td>\n",
              "      <td>...</td>\n",
              "      <td>...</td>\n",
              "    </tr>\n",
              "    <tr>\n",
              "      <th>2288</th>\n",
              "      <td>1498</td>\n",
              "      <td>12</td>\n",
              "      <td>32.0</td>\n",
              "      <td>339.0</td>\n",
              "      <td>NaN</td>\n",
              "      <td>23.0</td>\n",
              "      <td>23137.69</td>\n",
              "    </tr>\n",
              "    <tr>\n",
              "      <th>2289</th>\n",
              "      <td>1499</td>\n",
              "      <td>9</td>\n",
              "      <td>35.0</td>\n",
              "      <td>346.0</td>\n",
              "      <td>NaN</td>\n",
              "      <td>13.0</td>\n",
              "      <td>12984.76</td>\n",
              "    </tr>\n",
              "    <tr>\n",
              "      <th>2290</th>\n",
              "      <td>1499</td>\n",
              "      <td>10</td>\n",
              "      <td>41.0</td>\n",
              "      <td>385.0</td>\n",
              "      <td>NaN</td>\n",
              "      <td>20.0</td>\n",
              "      <td>19492.43</td>\n",
              "    </tr>\n",
              "    <tr>\n",
              "      <th>2291</th>\n",
              "      <td>1499</td>\n",
              "      <td>11</td>\n",
              "      <td>39.0</td>\n",
              "      <td>308.0</td>\n",
              "      <td>NaN</td>\n",
              "      <td>17.0</td>\n",
              "      <td>16813.83</td>\n",
              "    </tr>\n",
              "    <tr>\n",
              "      <th>2292</th>\n",
              "      <td>1499</td>\n",
              "      <td>12</td>\n",
              "      <td>56.0</td>\n",
              "      <td>496.0</td>\n",
              "      <td>NaN</td>\n",
              "      <td>22.0</td>\n",
              "      <td>22059.21</td>\n",
              "    </tr>\n",
              "  </tbody>\n",
              "</table>\n",
              "<p>2293 rows × 7 columns</p>\n",
              "</div>\n",
              "      <button class=\"colab-df-convert\" onclick=\"convertToInteractive('df-54030c80-a3c9-4c12-8dfa-3ac6604dcb82')\"\n",
              "              title=\"Convert this dataframe to an interactive table.\"\n",
              "              style=\"display:none;\">\n",
              "        \n",
              "  <svg xmlns=\"http://www.w3.org/2000/svg\" height=\"24px\"viewBox=\"0 0 24 24\"\n",
              "       width=\"24px\">\n",
              "    <path d=\"M0 0h24v24H0V0z\" fill=\"none\"/>\n",
              "    <path d=\"M18.56 5.44l.94 2.06.94-2.06 2.06-.94-2.06-.94-.94-2.06-.94 2.06-2.06.94zm-11 1L8.5 8.5l.94-2.06 2.06-.94-2.06-.94L8.5 2.5l-.94 2.06-2.06.94zm10 10l.94 2.06.94-2.06 2.06-.94-2.06-.94-.94-2.06-.94 2.06-2.06.94z\"/><path d=\"M17.41 7.96l-1.37-1.37c-.4-.4-.92-.59-1.43-.59-.52 0-1.04.2-1.43.59L10.3 9.45l-7.72 7.72c-.78.78-.78 2.05 0 2.83L4 21.41c.39.39.9.59 1.41.59.51 0 1.02-.2 1.41-.59l7.78-7.78 2.81-2.81c.8-.78.8-2.07 0-2.86zM5.41 20L4 18.59l7.72-7.72 1.47 1.35L5.41 20z\"/>\n",
              "  </svg>\n",
              "      </button>\n",
              "      \n",
              "  <style>\n",
              "    .colab-df-container {\n",
              "      display:flex;\n",
              "      flex-wrap:wrap;\n",
              "      gap: 12px;\n",
              "    }\n",
              "\n",
              "    .colab-df-convert {\n",
              "      background-color: #E8F0FE;\n",
              "      border: none;\n",
              "      border-radius: 50%;\n",
              "      cursor: pointer;\n",
              "      display: none;\n",
              "      fill: #1967D2;\n",
              "      height: 32px;\n",
              "      padding: 0 0 0 0;\n",
              "      width: 32px;\n",
              "    }\n",
              "\n",
              "    .colab-df-convert:hover {\n",
              "      background-color: #E2EBFA;\n",
              "      box-shadow: 0px 1px 2px rgba(60, 64, 67, 0.3), 0px 1px 3px 1px rgba(60, 64, 67, 0.15);\n",
              "      fill: #174EA6;\n",
              "    }\n",
              "\n",
              "    [theme=dark] .colab-df-convert {\n",
              "      background-color: #3B4455;\n",
              "      fill: #D2E3FC;\n",
              "    }\n",
              "\n",
              "    [theme=dark] .colab-df-convert:hover {\n",
              "      background-color: #434B5C;\n",
              "      box-shadow: 0px 1px 3px 1px rgba(0, 0, 0, 0.15);\n",
              "      filter: drop-shadow(0px 1px 2px rgba(0, 0, 0, 0.3));\n",
              "      fill: #FFFFFF;\n",
              "    }\n",
              "  </style>\n",
              "\n",
              "      <script>\n",
              "        const buttonEl =\n",
              "          document.querySelector('#df-54030c80-a3c9-4c12-8dfa-3ac6604dcb82 button.colab-df-convert');\n",
              "        buttonEl.style.display =\n",
              "          google.colab.kernel.accessAllowed ? 'block' : 'none';\n",
              "\n",
              "        async function convertToInteractive(key) {\n",
              "          const element = document.querySelector('#df-54030c80-a3c9-4c12-8dfa-3ac6604dcb82');\n",
              "          const dataTable =\n",
              "            await google.colab.kernel.invokeFunction('convertToInteractive',\n",
              "                                                     [key], {});\n",
              "          if (!dataTable) return;\n",
              "\n",
              "          const docLinkHtml = 'Like what you see? Visit the ' +\n",
              "            '<a target=\"_blank\" href=https://colab.research.google.com/notebooks/data_table.ipynb>data table notebook</a>'\n",
              "            + ' to learn more about interactive tables.';\n",
              "          element.innerHTML = '';\n",
              "          dataTable['output_type'] = 'display_data';\n",
              "          await google.colab.output.renderOutput(dataTable, element);\n",
              "          const docLink = document.createElement('div');\n",
              "          docLink.innerHTML = docLinkHtml;\n",
              "          element.appendChild(docLink);\n",
              "        }\n",
              "      </script>\n",
              "    </div>\n",
              "  </div>\n",
              "  "
            ]
          },
          "metadata": {},
          "execution_count": 35
        }
      ],
      "source": [
        "summary_users"
      ]
    },
    {
      "cell_type": "code",
      "execution_count": null,
      "metadata": {
        "colab": {
          "base_uri": "https://localhost:8080/"
        },
        "id": "v5vj8-Jzupsh",
        "outputId": "702a1cf0-cf8f-4788-b89f-0c76bb2dbdf2"
      },
      "outputs": [
        {
          "output_type": "stream",
          "name": "stdout",
          "text": [
            "<class 'pandas.core.frame.DataFrame'>\n",
            "RangeIndex: 2 entries, 0 to 1\n",
            "Data columns (total 8 columns):\n",
            " #   Column                 Non-Null Count  Dtype  \n",
            "---  ------                 --------------  -----  \n",
            " 0   messages_included      2 non-null      int64  \n",
            " 1   mb_per_month_included  2 non-null      int64  \n",
            " 2   minutes_included       2 non-null      int64  \n",
            " 3   usd_monthly_pay        2 non-null      int64  \n",
            " 4   usd_per_gb             2 non-null      int64  \n",
            " 5   usd_per_message        2 non-null      float64\n",
            " 6   usd_per_minute         2 non-null      float64\n",
            " 7   plan                   2 non-null      object \n",
            "dtypes: float64(2), int64(5), object(1)\n",
            "memory usage: 256.0+ bytes\n"
          ]
        }
      ],
      "source": [
        "plans = plans.rename(columns= {'plan_name': 'plan'})\n",
        "plans.info()\n",
        "# Aquí estamos renombrando la columna a `plan` con el objetivo de utilizar .merge() para acercarnos más al valor de los ingresos por usuario según su actividad."
      ]
    },
    {
      "cell_type": "code",
      "execution_count": null,
      "metadata": {
        "colab": {
          "base_uri": "https://localhost:8080/"
        },
        "id": "Ud201G-Mw8f8",
        "outputId": "280a57a9-0c95-4de6-b25f-e65b614a052d"
      },
      "outputs": [
        {
          "output_type": "execute_result",
          "data": {
            "text/plain": [
              "user_id\n",
              "1000     1\n",
              "1001     5\n",
              "1002     3\n",
              "1003     1\n",
              "1004     8\n",
              "        ..\n",
              "1495     4\n",
              "1496     5\n",
              "1497     1\n",
              "1498    11\n",
              "1499     4\n",
              "Length: 500, dtype: int64"
            ]
          },
          "metadata": {},
          "execution_count": 37
        }
      ],
      "source": [
        "summary_users= summary_users.merge(users.merge(plans, on='plan', how='left'), on='user_id', how='right')\n",
        "summary_users.groupby('user_id').size()\n",
        "# Esta es la comprobación de que tenemos 500 usuarios con los que estamos trabajando."
      ]
    },
    {
      "cell_type": "code",
      "execution_count": null,
      "metadata": {
        "colab": {
          "base_uri": "https://localhost:8080/",
          "height": 661
        },
        "id": "biwlnX2R9KN2",
        "outputId": "2ccf025c-a800-4c06-8478-f4a05dfec7dd"
      },
      "outputs": [
        {
          "output_type": "execute_result",
          "data": {
            "text/plain": [
              "      user_id  month  count_calls  duration_calls  message_date  gb_used  \\\n",
              "0        1000   12.0         16.0           124.0          11.0      2.0   \n",
              "1        1001    8.0         22.0           182.0          30.0      7.0   \n",
              "2        1001    9.0         38.0           315.0          44.0     14.0   \n",
              "3        1001   10.0         47.0           393.0          53.0     22.0   \n",
              "4        1001   11.0         49.0           426.0          36.0     19.0   \n",
              "...       ...    ...          ...             ...           ...      ...   \n",
              "2298     1498   12.0         32.0           339.0           NaN     23.0   \n",
              "2299     1499    9.0         35.0           346.0           NaN     13.0   \n",
              "2300     1499   10.0         41.0           385.0           NaN     20.0   \n",
              "2301     1499   11.0         39.0           308.0           NaN     17.0   \n",
              "2302     1499   12.0         56.0           496.0           NaN     22.0   \n",
              "\n",
              "       mb_used first_name   last_name  age  ...   reg_date      plan  \\\n",
              "0      1901.47   Anamaria       Bauer   45  ... 2018-12-24  ultimate   \n",
              "1      6919.15     Mickey   Wilkerson   28  ... 2018-08-13      surf   \n",
              "2     13314.82     Mickey   Wilkerson   28  ... 2018-08-13      surf   \n",
              "3     22330.49     Mickey   Wilkerson   28  ... 2018-08-13      surf   \n",
              "4     18504.30     Mickey   Wilkerson   28  ... 2018-08-13      surf   \n",
              "...        ...        ...         ...  ...  ...        ...       ...   \n",
              "2298  23137.69       Scot  Williamson   51  ... 2018-02-04      surf   \n",
              "2299  12984.76      Shena     Dickson   37  ... 2018-05-06      surf   \n",
              "2300  19492.43      Shena     Dickson   37  ... 2018-05-06      surf   \n",
              "2301  16813.83      Shena     Dickson   37  ... 2018-05-06      surf   \n",
              "2302  22059.21      Shena     Dickson   37  ... 2018-05-06      surf   \n",
              "\n",
              "      churn_date messages_included  mb_per_month_included  minutes_included  \\\n",
              "0     1800-02-30              1000                  30720              3000   \n",
              "1     1800-02-30                50                  15360               500   \n",
              "2     1800-02-30                50                  15360               500   \n",
              "3     1800-02-30                50                  15360               500   \n",
              "4     1800-02-30                50                  15360               500   \n",
              "...          ...               ...                    ...               ...   \n",
              "2298  1800-02-30                50                  15360               500   \n",
              "2299  1800-02-30                50                  15360               500   \n",
              "2300  1800-02-30                50                  15360               500   \n",
              "2301  1800-02-30                50                  15360               500   \n",
              "2302  1800-02-30                50                  15360               500   \n",
              "\n",
              "      usd_monthly_pay  usd_per_gb  usd_per_message  usd_per_minute  \n",
              "0                  70           7             0.01            0.01  \n",
              "1                  20          10             0.03            0.03  \n",
              "2                  20          10             0.03            0.03  \n",
              "3                  20          10             0.03            0.03  \n",
              "4                  20          10             0.03            0.03  \n",
              "...               ...         ...              ...             ...  \n",
              "2298               20          10             0.03            0.03  \n",
              "2299               20          10             0.03            0.03  \n",
              "2300               20          10             0.03            0.03  \n",
              "2301               20          10             0.03            0.03  \n",
              "2302               20          10             0.03            0.03  \n",
              "\n",
              "[2303 rows x 21 columns]"
            ],
            "text/html": [
              "\n",
              "  <div id=\"df-bb6c81bd-4983-44ba-be56-0e3a50fcd048\">\n",
              "    <div class=\"colab-df-container\">\n",
              "      <div>\n",
              "<style scoped>\n",
              "    .dataframe tbody tr th:only-of-type {\n",
              "        vertical-align: middle;\n",
              "    }\n",
              "\n",
              "    .dataframe tbody tr th {\n",
              "        vertical-align: top;\n",
              "    }\n",
              "\n",
              "    .dataframe thead th {\n",
              "        text-align: right;\n",
              "    }\n",
              "</style>\n",
              "<table border=\"1\" class=\"dataframe\">\n",
              "  <thead>\n",
              "    <tr style=\"text-align: right;\">\n",
              "      <th></th>\n",
              "      <th>user_id</th>\n",
              "      <th>month</th>\n",
              "      <th>count_calls</th>\n",
              "      <th>duration_calls</th>\n",
              "      <th>message_date</th>\n",
              "      <th>gb_used</th>\n",
              "      <th>mb_used</th>\n",
              "      <th>first_name</th>\n",
              "      <th>last_name</th>\n",
              "      <th>age</th>\n",
              "      <th>...</th>\n",
              "      <th>reg_date</th>\n",
              "      <th>plan</th>\n",
              "      <th>churn_date</th>\n",
              "      <th>messages_included</th>\n",
              "      <th>mb_per_month_included</th>\n",
              "      <th>minutes_included</th>\n",
              "      <th>usd_monthly_pay</th>\n",
              "      <th>usd_per_gb</th>\n",
              "      <th>usd_per_message</th>\n",
              "      <th>usd_per_minute</th>\n",
              "    </tr>\n",
              "  </thead>\n",
              "  <tbody>\n",
              "    <tr>\n",
              "      <th>0</th>\n",
              "      <td>1000</td>\n",
              "      <td>12.0</td>\n",
              "      <td>16.0</td>\n",
              "      <td>124.0</td>\n",
              "      <td>11.0</td>\n",
              "      <td>2.0</td>\n",
              "      <td>1901.47</td>\n",
              "      <td>Anamaria</td>\n",
              "      <td>Bauer</td>\n",
              "      <td>45</td>\n",
              "      <td>...</td>\n",
              "      <td>2018-12-24</td>\n",
              "      <td>ultimate</td>\n",
              "      <td>1800-02-30</td>\n",
              "      <td>1000</td>\n",
              "      <td>30720</td>\n",
              "      <td>3000</td>\n",
              "      <td>70</td>\n",
              "      <td>7</td>\n",
              "      <td>0.01</td>\n",
              "      <td>0.01</td>\n",
              "    </tr>\n",
              "    <tr>\n",
              "      <th>1</th>\n",
              "      <td>1001</td>\n",
              "      <td>8.0</td>\n",
              "      <td>22.0</td>\n",
              "      <td>182.0</td>\n",
              "      <td>30.0</td>\n",
              "      <td>7.0</td>\n",
              "      <td>6919.15</td>\n",
              "      <td>Mickey</td>\n",
              "      <td>Wilkerson</td>\n",
              "      <td>28</td>\n",
              "      <td>...</td>\n",
              "      <td>2018-08-13</td>\n",
              "      <td>surf</td>\n",
              "      <td>1800-02-30</td>\n",
              "      <td>50</td>\n",
              "      <td>15360</td>\n",
              "      <td>500</td>\n",
              "      <td>20</td>\n",
              "      <td>10</td>\n",
              "      <td>0.03</td>\n",
              "      <td>0.03</td>\n",
              "    </tr>\n",
              "    <tr>\n",
              "      <th>2</th>\n",
              "      <td>1001</td>\n",
              "      <td>9.0</td>\n",
              "      <td>38.0</td>\n",
              "      <td>315.0</td>\n",
              "      <td>44.0</td>\n",
              "      <td>14.0</td>\n",
              "      <td>13314.82</td>\n",
              "      <td>Mickey</td>\n",
              "      <td>Wilkerson</td>\n",
              "      <td>28</td>\n",
              "      <td>...</td>\n",
              "      <td>2018-08-13</td>\n",
              "      <td>surf</td>\n",
              "      <td>1800-02-30</td>\n",
              "      <td>50</td>\n",
              "      <td>15360</td>\n",
              "      <td>500</td>\n",
              "      <td>20</td>\n",
              "      <td>10</td>\n",
              "      <td>0.03</td>\n",
              "      <td>0.03</td>\n",
              "    </tr>\n",
              "    <tr>\n",
              "      <th>3</th>\n",
              "      <td>1001</td>\n",
              "      <td>10.0</td>\n",
              "      <td>47.0</td>\n",
              "      <td>393.0</td>\n",
              "      <td>53.0</td>\n",
              "      <td>22.0</td>\n",
              "      <td>22330.49</td>\n",
              "      <td>Mickey</td>\n",
              "      <td>Wilkerson</td>\n",
              "      <td>28</td>\n",
              "      <td>...</td>\n",
              "      <td>2018-08-13</td>\n",
              "      <td>surf</td>\n",
              "      <td>1800-02-30</td>\n",
              "      <td>50</td>\n",
              "      <td>15360</td>\n",
              "      <td>500</td>\n",
              "      <td>20</td>\n",
              "      <td>10</td>\n",
              "      <td>0.03</td>\n",
              "      <td>0.03</td>\n",
              "    </tr>\n",
              "    <tr>\n",
              "      <th>4</th>\n",
              "      <td>1001</td>\n",
              "      <td>11.0</td>\n",
              "      <td>49.0</td>\n",
              "      <td>426.0</td>\n",
              "      <td>36.0</td>\n",
              "      <td>19.0</td>\n",
              "      <td>18504.30</td>\n",
              "      <td>Mickey</td>\n",
              "      <td>Wilkerson</td>\n",
              "      <td>28</td>\n",
              "      <td>...</td>\n",
              "      <td>2018-08-13</td>\n",
              "      <td>surf</td>\n",
              "      <td>1800-02-30</td>\n",
              "      <td>50</td>\n",
              "      <td>15360</td>\n",
              "      <td>500</td>\n",
              "      <td>20</td>\n",
              "      <td>10</td>\n",
              "      <td>0.03</td>\n",
              "      <td>0.03</td>\n",
              "    </tr>\n",
              "    <tr>\n",
              "      <th>...</th>\n",
              "      <td>...</td>\n",
              "      <td>...</td>\n",
              "      <td>...</td>\n",
              "      <td>...</td>\n",
              "      <td>...</td>\n",
              "      <td>...</td>\n",
              "      <td>...</td>\n",
              "      <td>...</td>\n",
              "      <td>...</td>\n",
              "      <td>...</td>\n",
              "      <td>...</td>\n",
              "      <td>...</td>\n",
              "      <td>...</td>\n",
              "      <td>...</td>\n",
              "      <td>...</td>\n",
              "      <td>...</td>\n",
              "      <td>...</td>\n",
              "      <td>...</td>\n",
              "      <td>...</td>\n",
              "      <td>...</td>\n",
              "      <td>...</td>\n",
              "    </tr>\n",
              "    <tr>\n",
              "      <th>2298</th>\n",
              "      <td>1498</td>\n",
              "      <td>12.0</td>\n",
              "      <td>32.0</td>\n",
              "      <td>339.0</td>\n",
              "      <td>NaN</td>\n",
              "      <td>23.0</td>\n",
              "      <td>23137.69</td>\n",
              "      <td>Scot</td>\n",
              "      <td>Williamson</td>\n",
              "      <td>51</td>\n",
              "      <td>...</td>\n",
              "      <td>2018-02-04</td>\n",
              "      <td>surf</td>\n",
              "      <td>1800-02-30</td>\n",
              "      <td>50</td>\n",
              "      <td>15360</td>\n",
              "      <td>500</td>\n",
              "      <td>20</td>\n",
              "      <td>10</td>\n",
              "      <td>0.03</td>\n",
              "      <td>0.03</td>\n",
              "    </tr>\n",
              "    <tr>\n",
              "      <th>2299</th>\n",
              "      <td>1499</td>\n",
              "      <td>9.0</td>\n",
              "      <td>35.0</td>\n",
              "      <td>346.0</td>\n",
              "      <td>NaN</td>\n",
              "      <td>13.0</td>\n",
              "      <td>12984.76</td>\n",
              "      <td>Shena</td>\n",
              "      <td>Dickson</td>\n",
              "      <td>37</td>\n",
              "      <td>...</td>\n",
              "      <td>2018-05-06</td>\n",
              "      <td>surf</td>\n",
              "      <td>1800-02-30</td>\n",
              "      <td>50</td>\n",
              "      <td>15360</td>\n",
              "      <td>500</td>\n",
              "      <td>20</td>\n",
              "      <td>10</td>\n",
              "      <td>0.03</td>\n",
              "      <td>0.03</td>\n",
              "    </tr>\n",
              "    <tr>\n",
              "      <th>2300</th>\n",
              "      <td>1499</td>\n",
              "      <td>10.0</td>\n",
              "      <td>41.0</td>\n",
              "      <td>385.0</td>\n",
              "      <td>NaN</td>\n",
              "      <td>20.0</td>\n",
              "      <td>19492.43</td>\n",
              "      <td>Shena</td>\n",
              "      <td>Dickson</td>\n",
              "      <td>37</td>\n",
              "      <td>...</td>\n",
              "      <td>2018-05-06</td>\n",
              "      <td>surf</td>\n",
              "      <td>1800-02-30</td>\n",
              "      <td>50</td>\n",
              "      <td>15360</td>\n",
              "      <td>500</td>\n",
              "      <td>20</td>\n",
              "      <td>10</td>\n",
              "      <td>0.03</td>\n",
              "      <td>0.03</td>\n",
              "    </tr>\n",
              "    <tr>\n",
              "      <th>2301</th>\n",
              "      <td>1499</td>\n",
              "      <td>11.0</td>\n",
              "      <td>39.0</td>\n",
              "      <td>308.0</td>\n",
              "      <td>NaN</td>\n",
              "      <td>17.0</td>\n",
              "      <td>16813.83</td>\n",
              "      <td>Shena</td>\n",
              "      <td>Dickson</td>\n",
              "      <td>37</td>\n",
              "      <td>...</td>\n",
              "      <td>2018-05-06</td>\n",
              "      <td>surf</td>\n",
              "      <td>1800-02-30</td>\n",
              "      <td>50</td>\n",
              "      <td>15360</td>\n",
              "      <td>500</td>\n",
              "      <td>20</td>\n",
              "      <td>10</td>\n",
              "      <td>0.03</td>\n",
              "      <td>0.03</td>\n",
              "    </tr>\n",
              "    <tr>\n",
              "      <th>2302</th>\n",
              "      <td>1499</td>\n",
              "      <td>12.0</td>\n",
              "      <td>56.0</td>\n",
              "      <td>496.0</td>\n",
              "      <td>NaN</td>\n",
              "      <td>22.0</td>\n",
              "      <td>22059.21</td>\n",
              "      <td>Shena</td>\n",
              "      <td>Dickson</td>\n",
              "      <td>37</td>\n",
              "      <td>...</td>\n",
              "      <td>2018-05-06</td>\n",
              "      <td>surf</td>\n",
              "      <td>1800-02-30</td>\n",
              "      <td>50</td>\n",
              "      <td>15360</td>\n",
              "      <td>500</td>\n",
              "      <td>20</td>\n",
              "      <td>10</td>\n",
              "      <td>0.03</td>\n",
              "      <td>0.03</td>\n",
              "    </tr>\n",
              "  </tbody>\n",
              "</table>\n",
              "<p>2303 rows × 21 columns</p>\n",
              "</div>\n",
              "      <button class=\"colab-df-convert\" onclick=\"convertToInteractive('df-bb6c81bd-4983-44ba-be56-0e3a50fcd048')\"\n",
              "              title=\"Convert this dataframe to an interactive table.\"\n",
              "              style=\"display:none;\">\n",
              "        \n",
              "  <svg xmlns=\"http://www.w3.org/2000/svg\" height=\"24px\"viewBox=\"0 0 24 24\"\n",
              "       width=\"24px\">\n",
              "    <path d=\"M0 0h24v24H0V0z\" fill=\"none\"/>\n",
              "    <path d=\"M18.56 5.44l.94 2.06.94-2.06 2.06-.94-2.06-.94-.94-2.06-.94 2.06-2.06.94zm-11 1L8.5 8.5l.94-2.06 2.06-.94-2.06-.94L8.5 2.5l-.94 2.06-2.06.94zm10 10l.94 2.06.94-2.06 2.06-.94-2.06-.94-.94-2.06-.94 2.06-2.06.94z\"/><path d=\"M17.41 7.96l-1.37-1.37c-.4-.4-.92-.59-1.43-.59-.52 0-1.04.2-1.43.59L10.3 9.45l-7.72 7.72c-.78.78-.78 2.05 0 2.83L4 21.41c.39.39.9.59 1.41.59.51 0 1.02-.2 1.41-.59l7.78-7.78 2.81-2.81c.8-.78.8-2.07 0-2.86zM5.41 20L4 18.59l7.72-7.72 1.47 1.35L5.41 20z\"/>\n",
              "  </svg>\n",
              "      </button>\n",
              "      \n",
              "  <style>\n",
              "    .colab-df-container {\n",
              "      display:flex;\n",
              "      flex-wrap:wrap;\n",
              "      gap: 12px;\n",
              "    }\n",
              "\n",
              "    .colab-df-convert {\n",
              "      background-color: #E8F0FE;\n",
              "      border: none;\n",
              "      border-radius: 50%;\n",
              "      cursor: pointer;\n",
              "      display: none;\n",
              "      fill: #1967D2;\n",
              "      height: 32px;\n",
              "      padding: 0 0 0 0;\n",
              "      width: 32px;\n",
              "    }\n",
              "\n",
              "    .colab-df-convert:hover {\n",
              "      background-color: #E2EBFA;\n",
              "      box-shadow: 0px 1px 2px rgba(60, 64, 67, 0.3), 0px 1px 3px 1px rgba(60, 64, 67, 0.15);\n",
              "      fill: #174EA6;\n",
              "    }\n",
              "\n",
              "    [theme=dark] .colab-df-convert {\n",
              "      background-color: #3B4455;\n",
              "      fill: #D2E3FC;\n",
              "    }\n",
              "\n",
              "    [theme=dark] .colab-df-convert:hover {\n",
              "      background-color: #434B5C;\n",
              "      box-shadow: 0px 1px 3px 1px rgba(0, 0, 0, 0.15);\n",
              "      filter: drop-shadow(0px 1px 2px rgba(0, 0, 0, 0.3));\n",
              "      fill: #FFFFFF;\n",
              "    }\n",
              "  </style>\n",
              "\n",
              "      <script>\n",
              "        const buttonEl =\n",
              "          document.querySelector('#df-bb6c81bd-4983-44ba-be56-0e3a50fcd048 button.colab-df-convert');\n",
              "        buttonEl.style.display =\n",
              "          google.colab.kernel.accessAllowed ? 'block' : 'none';\n",
              "\n",
              "        async function convertToInteractive(key) {\n",
              "          const element = document.querySelector('#df-bb6c81bd-4983-44ba-be56-0e3a50fcd048');\n",
              "          const dataTable =\n",
              "            await google.colab.kernel.invokeFunction('convertToInteractive',\n",
              "                                                     [key], {});\n",
              "          if (!dataTable) return;\n",
              "\n",
              "          const docLinkHtml = 'Like what you see? Visit the ' +\n",
              "            '<a target=\"_blank\" href=https://colab.research.google.com/notebooks/data_table.ipynb>data table notebook</a>'\n",
              "            + ' to learn more about interactive tables.';\n",
              "          element.innerHTML = '';\n",
              "          dataTable['output_type'] = 'display_data';\n",
              "          await google.colab.output.renderOutput(dataTable, element);\n",
              "          const docLink = document.createElement('div');\n",
              "          docLink.innerHTML = docLinkHtml;\n",
              "          element.appendChild(docLink);\n",
              "        }\n",
              "      </script>\n",
              "    </div>\n",
              "  </div>\n",
              "  "
            ]
          },
          "metadata": {},
          "execution_count": 38
        }
      ],
      "source": [
        "summary_users"
      ]
    },
    {
      "cell_type": "markdown",
      "metadata": {
        "id": "aWKTyLcP0A92"
      },
      "source": [
        "Ahora en esta pivot hemos calculado el número de mensajes utilizados por cada usuario y por mes. Y con todos estos datos por usuario y mes de las llamadas, mensajes y gb de navegación vamos a calcular los ignresos que cada usuario representa en la compañía Megaline según su plan de datos."
      ]
    },
    {
      "cell_type": "code",
      "execution_count": null,
      "metadata": {
        "colab": {
          "base_uri": "https://localhost:8080/",
          "height": 112
        },
        "id": "L4-Dw1to1T5-",
        "outputId": "57031fd8-b1f5-4926-a5cc-4622c8400b2e"
      },
      "outputs": [
        {
          "output_type": "execute_result",
          "data": {
            "text/plain": [
              "   messages_included  mb_per_month_included  minutes_included  \\\n",
              "0                 50                  15360               500   \n",
              "1               1000                  30720              3000   \n",
              "\n",
              "   usd_monthly_pay  usd_per_gb  usd_per_message  usd_per_minute      plan  \n",
              "0               20          10             0.03            0.03      surf  \n",
              "1               70           7             0.01            0.01  ultimate  "
            ],
            "text/html": [
              "\n",
              "  <div id=\"df-7c9d50f2-81a3-4169-b289-262de9b2d82d\">\n",
              "    <div class=\"colab-df-container\">\n",
              "      <div>\n",
              "<style scoped>\n",
              "    .dataframe tbody tr th:only-of-type {\n",
              "        vertical-align: middle;\n",
              "    }\n",
              "\n",
              "    .dataframe tbody tr th {\n",
              "        vertical-align: top;\n",
              "    }\n",
              "\n",
              "    .dataframe thead th {\n",
              "        text-align: right;\n",
              "    }\n",
              "</style>\n",
              "<table border=\"1\" class=\"dataframe\">\n",
              "  <thead>\n",
              "    <tr style=\"text-align: right;\">\n",
              "      <th></th>\n",
              "      <th>messages_included</th>\n",
              "      <th>mb_per_month_included</th>\n",
              "      <th>minutes_included</th>\n",
              "      <th>usd_monthly_pay</th>\n",
              "      <th>usd_per_gb</th>\n",
              "      <th>usd_per_message</th>\n",
              "      <th>usd_per_minute</th>\n",
              "      <th>plan</th>\n",
              "    </tr>\n",
              "  </thead>\n",
              "  <tbody>\n",
              "    <tr>\n",
              "      <th>0</th>\n",
              "      <td>50</td>\n",
              "      <td>15360</td>\n",
              "      <td>500</td>\n",
              "      <td>20</td>\n",
              "      <td>10</td>\n",
              "      <td>0.03</td>\n",
              "      <td>0.03</td>\n",
              "      <td>surf</td>\n",
              "    </tr>\n",
              "    <tr>\n",
              "      <th>1</th>\n",
              "      <td>1000</td>\n",
              "      <td>30720</td>\n",
              "      <td>3000</td>\n",
              "      <td>70</td>\n",
              "      <td>7</td>\n",
              "      <td>0.01</td>\n",
              "      <td>0.01</td>\n",
              "      <td>ultimate</td>\n",
              "    </tr>\n",
              "  </tbody>\n",
              "</table>\n",
              "</div>\n",
              "      <button class=\"colab-df-convert\" onclick=\"convertToInteractive('df-7c9d50f2-81a3-4169-b289-262de9b2d82d')\"\n",
              "              title=\"Convert this dataframe to an interactive table.\"\n",
              "              style=\"display:none;\">\n",
              "        \n",
              "  <svg xmlns=\"http://www.w3.org/2000/svg\" height=\"24px\"viewBox=\"0 0 24 24\"\n",
              "       width=\"24px\">\n",
              "    <path d=\"M0 0h24v24H0V0z\" fill=\"none\"/>\n",
              "    <path d=\"M18.56 5.44l.94 2.06.94-2.06 2.06-.94-2.06-.94-.94-2.06-.94 2.06-2.06.94zm-11 1L8.5 8.5l.94-2.06 2.06-.94-2.06-.94L8.5 2.5l-.94 2.06-2.06.94zm10 10l.94 2.06.94-2.06 2.06-.94-2.06-.94-.94-2.06-.94 2.06-2.06.94z\"/><path d=\"M17.41 7.96l-1.37-1.37c-.4-.4-.92-.59-1.43-.59-.52 0-1.04.2-1.43.59L10.3 9.45l-7.72 7.72c-.78.78-.78 2.05 0 2.83L4 21.41c.39.39.9.59 1.41.59.51 0 1.02-.2 1.41-.59l7.78-7.78 2.81-2.81c.8-.78.8-2.07 0-2.86zM5.41 20L4 18.59l7.72-7.72 1.47 1.35L5.41 20z\"/>\n",
              "  </svg>\n",
              "      </button>\n",
              "      \n",
              "  <style>\n",
              "    .colab-df-container {\n",
              "      display:flex;\n",
              "      flex-wrap:wrap;\n",
              "      gap: 12px;\n",
              "    }\n",
              "\n",
              "    .colab-df-convert {\n",
              "      background-color: #E8F0FE;\n",
              "      border: none;\n",
              "      border-radius: 50%;\n",
              "      cursor: pointer;\n",
              "      display: none;\n",
              "      fill: #1967D2;\n",
              "      height: 32px;\n",
              "      padding: 0 0 0 0;\n",
              "      width: 32px;\n",
              "    }\n",
              "\n",
              "    .colab-df-convert:hover {\n",
              "      background-color: #E2EBFA;\n",
              "      box-shadow: 0px 1px 2px rgba(60, 64, 67, 0.3), 0px 1px 3px 1px rgba(60, 64, 67, 0.15);\n",
              "      fill: #174EA6;\n",
              "    }\n",
              "\n",
              "    [theme=dark] .colab-df-convert {\n",
              "      background-color: #3B4455;\n",
              "      fill: #D2E3FC;\n",
              "    }\n",
              "\n",
              "    [theme=dark] .colab-df-convert:hover {\n",
              "      background-color: #434B5C;\n",
              "      box-shadow: 0px 1px 3px 1px rgba(0, 0, 0, 0.15);\n",
              "      filter: drop-shadow(0px 1px 2px rgba(0, 0, 0, 0.3));\n",
              "      fill: #FFFFFF;\n",
              "    }\n",
              "  </style>\n",
              "\n",
              "      <script>\n",
              "        const buttonEl =\n",
              "          document.querySelector('#df-7c9d50f2-81a3-4169-b289-262de9b2d82d button.colab-df-convert');\n",
              "        buttonEl.style.display =\n",
              "          google.colab.kernel.accessAllowed ? 'block' : 'none';\n",
              "\n",
              "        async function convertToInteractive(key) {\n",
              "          const element = document.querySelector('#df-7c9d50f2-81a3-4169-b289-262de9b2d82d');\n",
              "          const dataTable =\n",
              "            await google.colab.kernel.invokeFunction('convertToInteractive',\n",
              "                                                     [key], {});\n",
              "          if (!dataTable) return;\n",
              "\n",
              "          const docLinkHtml = 'Like what you see? Visit the ' +\n",
              "            '<a target=\"_blank\" href=https://colab.research.google.com/notebooks/data_table.ipynb>data table notebook</a>'\n",
              "            + ' to learn more about interactive tables.';\n",
              "          element.innerHTML = '';\n",
              "          dataTable['output_type'] = 'display_data';\n",
              "          await google.colab.output.renderOutput(dataTable, element);\n",
              "          const docLink = document.createElement('div');\n",
              "          docLink.innerHTML = docLinkHtml;\n",
              "          element.appendChild(docLink);\n",
              "        }\n",
              "      </script>\n",
              "    </div>\n",
              "  </div>\n",
              "  "
            ]
          },
          "metadata": {},
          "execution_count": 39
        }
      ],
      "source": [
        "plans"
      ]
    },
    {
      "cell_type": "code",
      "execution_count": null,
      "metadata": {
        "id": "RWa0ZSshBLfZ"
      },
      "outputs": [],
      "source": [
        "summary_users['gb_per_month_included'] = summary_users['mb_per_month_included'] / 1024"
      ]
    },
    {
      "cell_type": "code",
      "execution_count": null,
      "metadata": {
        "colab": {
          "base_uri": "https://localhost:8080/",
          "height": 206
        },
        "id": "lGxgUdqM_RU6",
        "outputId": "996ff574-233b-46f3-e6ec-e9a73b197ab0"
      },
      "outputs": [
        {
          "output_type": "execute_result",
          "data": {
            "text/plain": [
              "   gb_per_month_included  mb_per_month_included\n",
              "0                   30.0                  30720\n",
              "1                   15.0                  15360\n",
              "2                   15.0                  15360\n",
              "3                   15.0                  15360\n",
              "4                   15.0                  15360"
            ],
            "text/html": [
              "\n",
              "  <div id=\"df-c54c17d8-8d3f-4c27-af16-5453ce5ccd6b\">\n",
              "    <div class=\"colab-df-container\">\n",
              "      <div>\n",
              "<style scoped>\n",
              "    .dataframe tbody tr th:only-of-type {\n",
              "        vertical-align: middle;\n",
              "    }\n",
              "\n",
              "    .dataframe tbody tr th {\n",
              "        vertical-align: top;\n",
              "    }\n",
              "\n",
              "    .dataframe thead th {\n",
              "        text-align: right;\n",
              "    }\n",
              "</style>\n",
              "<table border=\"1\" class=\"dataframe\">\n",
              "  <thead>\n",
              "    <tr style=\"text-align: right;\">\n",
              "      <th></th>\n",
              "      <th>gb_per_month_included</th>\n",
              "      <th>mb_per_month_included</th>\n",
              "    </tr>\n",
              "  </thead>\n",
              "  <tbody>\n",
              "    <tr>\n",
              "      <th>0</th>\n",
              "      <td>30.0</td>\n",
              "      <td>30720</td>\n",
              "    </tr>\n",
              "    <tr>\n",
              "      <th>1</th>\n",
              "      <td>15.0</td>\n",
              "      <td>15360</td>\n",
              "    </tr>\n",
              "    <tr>\n",
              "      <th>2</th>\n",
              "      <td>15.0</td>\n",
              "      <td>15360</td>\n",
              "    </tr>\n",
              "    <tr>\n",
              "      <th>3</th>\n",
              "      <td>15.0</td>\n",
              "      <td>15360</td>\n",
              "    </tr>\n",
              "    <tr>\n",
              "      <th>4</th>\n",
              "      <td>15.0</td>\n",
              "      <td>15360</td>\n",
              "    </tr>\n",
              "  </tbody>\n",
              "</table>\n",
              "</div>\n",
              "      <button class=\"colab-df-convert\" onclick=\"convertToInteractive('df-c54c17d8-8d3f-4c27-af16-5453ce5ccd6b')\"\n",
              "              title=\"Convert this dataframe to an interactive table.\"\n",
              "              style=\"display:none;\">\n",
              "        \n",
              "  <svg xmlns=\"http://www.w3.org/2000/svg\" height=\"24px\"viewBox=\"0 0 24 24\"\n",
              "       width=\"24px\">\n",
              "    <path d=\"M0 0h24v24H0V0z\" fill=\"none\"/>\n",
              "    <path d=\"M18.56 5.44l.94 2.06.94-2.06 2.06-.94-2.06-.94-.94-2.06-.94 2.06-2.06.94zm-11 1L8.5 8.5l.94-2.06 2.06-.94-2.06-.94L8.5 2.5l-.94 2.06-2.06.94zm10 10l.94 2.06.94-2.06 2.06-.94-2.06-.94-.94-2.06-.94 2.06-2.06.94z\"/><path d=\"M17.41 7.96l-1.37-1.37c-.4-.4-.92-.59-1.43-.59-.52 0-1.04.2-1.43.59L10.3 9.45l-7.72 7.72c-.78.78-.78 2.05 0 2.83L4 21.41c.39.39.9.59 1.41.59.51 0 1.02-.2 1.41-.59l7.78-7.78 2.81-2.81c.8-.78.8-2.07 0-2.86zM5.41 20L4 18.59l7.72-7.72 1.47 1.35L5.41 20z\"/>\n",
              "  </svg>\n",
              "      </button>\n",
              "      \n",
              "  <style>\n",
              "    .colab-df-container {\n",
              "      display:flex;\n",
              "      flex-wrap:wrap;\n",
              "      gap: 12px;\n",
              "    }\n",
              "\n",
              "    .colab-df-convert {\n",
              "      background-color: #E8F0FE;\n",
              "      border: none;\n",
              "      border-radius: 50%;\n",
              "      cursor: pointer;\n",
              "      display: none;\n",
              "      fill: #1967D2;\n",
              "      height: 32px;\n",
              "      padding: 0 0 0 0;\n",
              "      width: 32px;\n",
              "    }\n",
              "\n",
              "    .colab-df-convert:hover {\n",
              "      background-color: #E2EBFA;\n",
              "      box-shadow: 0px 1px 2px rgba(60, 64, 67, 0.3), 0px 1px 3px 1px rgba(60, 64, 67, 0.15);\n",
              "      fill: #174EA6;\n",
              "    }\n",
              "\n",
              "    [theme=dark] .colab-df-convert {\n",
              "      background-color: #3B4455;\n",
              "      fill: #D2E3FC;\n",
              "    }\n",
              "\n",
              "    [theme=dark] .colab-df-convert:hover {\n",
              "      background-color: #434B5C;\n",
              "      box-shadow: 0px 1px 3px 1px rgba(0, 0, 0, 0.15);\n",
              "      filter: drop-shadow(0px 1px 2px rgba(0, 0, 0, 0.3));\n",
              "      fill: #FFFFFF;\n",
              "    }\n",
              "  </style>\n",
              "\n",
              "      <script>\n",
              "        const buttonEl =\n",
              "          document.querySelector('#df-c54c17d8-8d3f-4c27-af16-5453ce5ccd6b button.colab-df-convert');\n",
              "        buttonEl.style.display =\n",
              "          google.colab.kernel.accessAllowed ? 'block' : 'none';\n",
              "\n",
              "        async function convertToInteractive(key) {\n",
              "          const element = document.querySelector('#df-c54c17d8-8d3f-4c27-af16-5453ce5ccd6b');\n",
              "          const dataTable =\n",
              "            await google.colab.kernel.invokeFunction('convertToInteractive',\n",
              "                                                     [key], {});\n",
              "          if (!dataTable) return;\n",
              "\n",
              "          const docLinkHtml = 'Like what you see? Visit the ' +\n",
              "            '<a target=\"_blank\" href=https://colab.research.google.com/notebooks/data_table.ipynb>data table notebook</a>'\n",
              "            + ' to learn more about interactive tables.';\n",
              "          element.innerHTML = '';\n",
              "          dataTable['output_type'] = 'display_data';\n",
              "          await google.colab.output.renderOutput(dataTable, element);\n",
              "          const docLink = document.createElement('div');\n",
              "          docLink.innerHTML = docLinkHtml;\n",
              "          element.appendChild(docLink);\n",
              "        }\n",
              "      </script>\n",
              "    </div>\n",
              "  </div>\n",
              "  "
            ]
          },
          "metadata": {},
          "execution_count": 41
        }
      ],
      "source": [
        "summary_users[['gb_per_month_included', 'mb_per_month_included']].head(5) # Para hacer los cálculos en gb"
      ]
    },
    {
      "cell_type": "code",
      "execution_count": null,
      "metadata": {
        "colab": {
          "base_uri": "https://localhost:8080/",
          "height": 488
        },
        "id": "Kvc7SaexAVOv",
        "outputId": "faf99c81-4d7b-4f1c-d960-47202f63884a"
      },
      "outputs": [
        {
          "output_type": "execute_result",
          "data": {
            "text/plain": [
              "      user_id  month  count_calls  duration_calls  message_date  gb_used  \\\n",
              "0        1000   12.0         16.0           124.0          11.0      2.0   \n",
              "1        1001    8.0         22.0           182.0          30.0      7.0   \n",
              "2        1001    9.0         38.0           315.0          44.0     14.0   \n",
              "3        1001   10.0         47.0           393.0          53.0     22.0   \n",
              "4        1001   11.0         49.0           426.0          36.0     19.0   \n",
              "...       ...    ...          ...             ...           ...      ...   \n",
              "2298     1498   12.0         32.0           339.0           0.0     23.0   \n",
              "2299     1499    9.0         35.0           346.0           0.0     13.0   \n",
              "2300     1499   10.0         41.0           385.0           0.0     20.0   \n",
              "2301     1499   11.0         39.0           308.0           0.0     17.0   \n",
              "2302     1499   12.0         56.0           496.0           0.0     22.0   \n",
              "\n",
              "       mb_used first_name   last_name  age  ...      plan  churn_date  \\\n",
              "0      1901.47   Anamaria       Bauer   45  ...  ultimate  1800-02-30   \n",
              "1      6919.15     Mickey   Wilkerson   28  ...      surf  1800-02-30   \n",
              "2     13314.82     Mickey   Wilkerson   28  ...      surf  1800-02-30   \n",
              "3     22330.49     Mickey   Wilkerson   28  ...      surf  1800-02-30   \n",
              "4     18504.30     Mickey   Wilkerson   28  ...      surf  1800-02-30   \n",
              "...        ...        ...         ...  ...  ...       ...         ...   \n",
              "2298  23137.69       Scot  Williamson   51  ...      surf  1800-02-30   \n",
              "2299  12984.76      Shena     Dickson   37  ...      surf  1800-02-30   \n",
              "2300  19492.43      Shena     Dickson   37  ...      surf  1800-02-30   \n",
              "2301  16813.83      Shena     Dickson   37  ...      surf  1800-02-30   \n",
              "2302  22059.21      Shena     Dickson   37  ...      surf  1800-02-30   \n",
              "\n",
              "     messages_included mb_per_month_included  minutes_included  \\\n",
              "0                 1000                 30720              3000   \n",
              "1                   50                 15360               500   \n",
              "2                   50                 15360               500   \n",
              "3                   50                 15360               500   \n",
              "4                   50                 15360               500   \n",
              "...                ...                   ...               ...   \n",
              "2298                50                 15360               500   \n",
              "2299                50                 15360               500   \n",
              "2300                50                 15360               500   \n",
              "2301                50                 15360               500   \n",
              "2302                50                 15360               500   \n",
              "\n",
              "      usd_monthly_pay  usd_per_gb  usd_per_message  usd_per_minute  \\\n",
              "0                  70           7             0.01            0.01   \n",
              "1                  20          10             0.03            0.03   \n",
              "2                  20          10             0.03            0.03   \n",
              "3                  20          10             0.03            0.03   \n",
              "4                  20          10             0.03            0.03   \n",
              "...               ...         ...              ...             ...   \n",
              "2298               20          10             0.03            0.03   \n",
              "2299               20          10             0.03            0.03   \n",
              "2300               20          10             0.03            0.03   \n",
              "2301               20          10             0.03            0.03   \n",
              "2302               20          10             0.03            0.03   \n",
              "\n",
              "      gb_per_month_included  \n",
              "0                      30.0  \n",
              "1                      15.0  \n",
              "2                      15.0  \n",
              "3                      15.0  \n",
              "4                      15.0  \n",
              "...                     ...  \n",
              "2298                   15.0  \n",
              "2299                   15.0  \n",
              "2300                   15.0  \n",
              "2301                   15.0  \n",
              "2302                   15.0  \n",
              "\n",
              "[2303 rows x 22 columns]"
            ],
            "text/html": [
              "\n",
              "  <div id=\"df-db270ecb-3a8d-4f7b-819a-a4b0c93485f4\">\n",
              "    <div class=\"colab-df-container\">\n",
              "      <div>\n",
              "<style scoped>\n",
              "    .dataframe tbody tr th:only-of-type {\n",
              "        vertical-align: middle;\n",
              "    }\n",
              "\n",
              "    .dataframe tbody tr th {\n",
              "        vertical-align: top;\n",
              "    }\n",
              "\n",
              "    .dataframe thead th {\n",
              "        text-align: right;\n",
              "    }\n",
              "</style>\n",
              "<table border=\"1\" class=\"dataframe\">\n",
              "  <thead>\n",
              "    <tr style=\"text-align: right;\">\n",
              "      <th></th>\n",
              "      <th>user_id</th>\n",
              "      <th>month</th>\n",
              "      <th>count_calls</th>\n",
              "      <th>duration_calls</th>\n",
              "      <th>message_date</th>\n",
              "      <th>gb_used</th>\n",
              "      <th>mb_used</th>\n",
              "      <th>first_name</th>\n",
              "      <th>last_name</th>\n",
              "      <th>age</th>\n",
              "      <th>...</th>\n",
              "      <th>plan</th>\n",
              "      <th>churn_date</th>\n",
              "      <th>messages_included</th>\n",
              "      <th>mb_per_month_included</th>\n",
              "      <th>minutes_included</th>\n",
              "      <th>usd_monthly_pay</th>\n",
              "      <th>usd_per_gb</th>\n",
              "      <th>usd_per_message</th>\n",
              "      <th>usd_per_minute</th>\n",
              "      <th>gb_per_month_included</th>\n",
              "    </tr>\n",
              "  </thead>\n",
              "  <tbody>\n",
              "    <tr>\n",
              "      <th>0</th>\n",
              "      <td>1000</td>\n",
              "      <td>12.0</td>\n",
              "      <td>16.0</td>\n",
              "      <td>124.0</td>\n",
              "      <td>11.0</td>\n",
              "      <td>2.0</td>\n",
              "      <td>1901.47</td>\n",
              "      <td>Anamaria</td>\n",
              "      <td>Bauer</td>\n",
              "      <td>45</td>\n",
              "      <td>...</td>\n",
              "      <td>ultimate</td>\n",
              "      <td>1800-02-30</td>\n",
              "      <td>1000</td>\n",
              "      <td>30720</td>\n",
              "      <td>3000</td>\n",
              "      <td>70</td>\n",
              "      <td>7</td>\n",
              "      <td>0.01</td>\n",
              "      <td>0.01</td>\n",
              "      <td>30.0</td>\n",
              "    </tr>\n",
              "    <tr>\n",
              "      <th>1</th>\n",
              "      <td>1001</td>\n",
              "      <td>8.0</td>\n",
              "      <td>22.0</td>\n",
              "      <td>182.0</td>\n",
              "      <td>30.0</td>\n",
              "      <td>7.0</td>\n",
              "      <td>6919.15</td>\n",
              "      <td>Mickey</td>\n",
              "      <td>Wilkerson</td>\n",
              "      <td>28</td>\n",
              "      <td>...</td>\n",
              "      <td>surf</td>\n",
              "      <td>1800-02-30</td>\n",
              "      <td>50</td>\n",
              "      <td>15360</td>\n",
              "      <td>500</td>\n",
              "      <td>20</td>\n",
              "      <td>10</td>\n",
              "      <td>0.03</td>\n",
              "      <td>0.03</td>\n",
              "      <td>15.0</td>\n",
              "    </tr>\n",
              "    <tr>\n",
              "      <th>2</th>\n",
              "      <td>1001</td>\n",
              "      <td>9.0</td>\n",
              "      <td>38.0</td>\n",
              "      <td>315.0</td>\n",
              "      <td>44.0</td>\n",
              "      <td>14.0</td>\n",
              "      <td>13314.82</td>\n",
              "      <td>Mickey</td>\n",
              "      <td>Wilkerson</td>\n",
              "      <td>28</td>\n",
              "      <td>...</td>\n",
              "      <td>surf</td>\n",
              "      <td>1800-02-30</td>\n",
              "      <td>50</td>\n",
              "      <td>15360</td>\n",
              "      <td>500</td>\n",
              "      <td>20</td>\n",
              "      <td>10</td>\n",
              "      <td>0.03</td>\n",
              "      <td>0.03</td>\n",
              "      <td>15.0</td>\n",
              "    </tr>\n",
              "    <tr>\n",
              "      <th>3</th>\n",
              "      <td>1001</td>\n",
              "      <td>10.0</td>\n",
              "      <td>47.0</td>\n",
              "      <td>393.0</td>\n",
              "      <td>53.0</td>\n",
              "      <td>22.0</td>\n",
              "      <td>22330.49</td>\n",
              "      <td>Mickey</td>\n",
              "      <td>Wilkerson</td>\n",
              "      <td>28</td>\n",
              "      <td>...</td>\n",
              "      <td>surf</td>\n",
              "      <td>1800-02-30</td>\n",
              "      <td>50</td>\n",
              "      <td>15360</td>\n",
              "      <td>500</td>\n",
              "      <td>20</td>\n",
              "      <td>10</td>\n",
              "      <td>0.03</td>\n",
              "      <td>0.03</td>\n",
              "      <td>15.0</td>\n",
              "    </tr>\n",
              "    <tr>\n",
              "      <th>4</th>\n",
              "      <td>1001</td>\n",
              "      <td>11.0</td>\n",
              "      <td>49.0</td>\n",
              "      <td>426.0</td>\n",
              "      <td>36.0</td>\n",
              "      <td>19.0</td>\n",
              "      <td>18504.30</td>\n",
              "      <td>Mickey</td>\n",
              "      <td>Wilkerson</td>\n",
              "      <td>28</td>\n",
              "      <td>...</td>\n",
              "      <td>surf</td>\n",
              "      <td>1800-02-30</td>\n",
              "      <td>50</td>\n",
              "      <td>15360</td>\n",
              "      <td>500</td>\n",
              "      <td>20</td>\n",
              "      <td>10</td>\n",
              "      <td>0.03</td>\n",
              "      <td>0.03</td>\n",
              "      <td>15.0</td>\n",
              "    </tr>\n",
              "    <tr>\n",
              "      <th>...</th>\n",
              "      <td>...</td>\n",
              "      <td>...</td>\n",
              "      <td>...</td>\n",
              "      <td>...</td>\n",
              "      <td>...</td>\n",
              "      <td>...</td>\n",
              "      <td>...</td>\n",
              "      <td>...</td>\n",
              "      <td>...</td>\n",
              "      <td>...</td>\n",
              "      <td>...</td>\n",
              "      <td>...</td>\n",
              "      <td>...</td>\n",
              "      <td>...</td>\n",
              "      <td>...</td>\n",
              "      <td>...</td>\n",
              "      <td>...</td>\n",
              "      <td>...</td>\n",
              "      <td>...</td>\n",
              "      <td>...</td>\n",
              "      <td>...</td>\n",
              "    </tr>\n",
              "    <tr>\n",
              "      <th>2298</th>\n",
              "      <td>1498</td>\n",
              "      <td>12.0</td>\n",
              "      <td>32.0</td>\n",
              "      <td>339.0</td>\n",
              "      <td>0.0</td>\n",
              "      <td>23.0</td>\n",
              "      <td>23137.69</td>\n",
              "      <td>Scot</td>\n",
              "      <td>Williamson</td>\n",
              "      <td>51</td>\n",
              "      <td>...</td>\n",
              "      <td>surf</td>\n",
              "      <td>1800-02-30</td>\n",
              "      <td>50</td>\n",
              "      <td>15360</td>\n",
              "      <td>500</td>\n",
              "      <td>20</td>\n",
              "      <td>10</td>\n",
              "      <td>0.03</td>\n",
              "      <td>0.03</td>\n",
              "      <td>15.0</td>\n",
              "    </tr>\n",
              "    <tr>\n",
              "      <th>2299</th>\n",
              "      <td>1499</td>\n",
              "      <td>9.0</td>\n",
              "      <td>35.0</td>\n",
              "      <td>346.0</td>\n",
              "      <td>0.0</td>\n",
              "      <td>13.0</td>\n",
              "      <td>12984.76</td>\n",
              "      <td>Shena</td>\n",
              "      <td>Dickson</td>\n",
              "      <td>37</td>\n",
              "      <td>...</td>\n",
              "      <td>surf</td>\n",
              "      <td>1800-02-30</td>\n",
              "      <td>50</td>\n",
              "      <td>15360</td>\n",
              "      <td>500</td>\n",
              "      <td>20</td>\n",
              "      <td>10</td>\n",
              "      <td>0.03</td>\n",
              "      <td>0.03</td>\n",
              "      <td>15.0</td>\n",
              "    </tr>\n",
              "    <tr>\n",
              "      <th>2300</th>\n",
              "      <td>1499</td>\n",
              "      <td>10.0</td>\n",
              "      <td>41.0</td>\n",
              "      <td>385.0</td>\n",
              "      <td>0.0</td>\n",
              "      <td>20.0</td>\n",
              "      <td>19492.43</td>\n",
              "      <td>Shena</td>\n",
              "      <td>Dickson</td>\n",
              "      <td>37</td>\n",
              "      <td>...</td>\n",
              "      <td>surf</td>\n",
              "      <td>1800-02-30</td>\n",
              "      <td>50</td>\n",
              "      <td>15360</td>\n",
              "      <td>500</td>\n",
              "      <td>20</td>\n",
              "      <td>10</td>\n",
              "      <td>0.03</td>\n",
              "      <td>0.03</td>\n",
              "      <td>15.0</td>\n",
              "    </tr>\n",
              "    <tr>\n",
              "      <th>2301</th>\n",
              "      <td>1499</td>\n",
              "      <td>11.0</td>\n",
              "      <td>39.0</td>\n",
              "      <td>308.0</td>\n",
              "      <td>0.0</td>\n",
              "      <td>17.0</td>\n",
              "      <td>16813.83</td>\n",
              "      <td>Shena</td>\n",
              "      <td>Dickson</td>\n",
              "      <td>37</td>\n",
              "      <td>...</td>\n",
              "      <td>surf</td>\n",
              "      <td>1800-02-30</td>\n",
              "      <td>50</td>\n",
              "      <td>15360</td>\n",
              "      <td>500</td>\n",
              "      <td>20</td>\n",
              "      <td>10</td>\n",
              "      <td>0.03</td>\n",
              "      <td>0.03</td>\n",
              "      <td>15.0</td>\n",
              "    </tr>\n",
              "    <tr>\n",
              "      <th>2302</th>\n",
              "      <td>1499</td>\n",
              "      <td>12.0</td>\n",
              "      <td>56.0</td>\n",
              "      <td>496.0</td>\n",
              "      <td>0.0</td>\n",
              "      <td>22.0</td>\n",
              "      <td>22059.21</td>\n",
              "      <td>Shena</td>\n",
              "      <td>Dickson</td>\n",
              "      <td>37</td>\n",
              "      <td>...</td>\n",
              "      <td>surf</td>\n",
              "      <td>1800-02-30</td>\n",
              "      <td>50</td>\n",
              "      <td>15360</td>\n",
              "      <td>500</td>\n",
              "      <td>20</td>\n",
              "      <td>10</td>\n",
              "      <td>0.03</td>\n",
              "      <td>0.03</td>\n",
              "      <td>15.0</td>\n",
              "    </tr>\n",
              "  </tbody>\n",
              "</table>\n",
              "<p>2303 rows × 22 columns</p>\n",
              "</div>\n",
              "      <button class=\"colab-df-convert\" onclick=\"convertToInteractive('df-db270ecb-3a8d-4f7b-819a-a4b0c93485f4')\"\n",
              "              title=\"Convert this dataframe to an interactive table.\"\n",
              "              style=\"display:none;\">\n",
              "        \n",
              "  <svg xmlns=\"http://www.w3.org/2000/svg\" height=\"24px\"viewBox=\"0 0 24 24\"\n",
              "       width=\"24px\">\n",
              "    <path d=\"M0 0h24v24H0V0z\" fill=\"none\"/>\n",
              "    <path d=\"M18.56 5.44l.94 2.06.94-2.06 2.06-.94-2.06-.94-.94-2.06-.94 2.06-2.06.94zm-11 1L8.5 8.5l.94-2.06 2.06-.94-2.06-.94L8.5 2.5l-.94 2.06-2.06.94zm10 10l.94 2.06.94-2.06 2.06-.94-2.06-.94-.94-2.06-.94 2.06-2.06.94z\"/><path d=\"M17.41 7.96l-1.37-1.37c-.4-.4-.92-.59-1.43-.59-.52 0-1.04.2-1.43.59L10.3 9.45l-7.72 7.72c-.78.78-.78 2.05 0 2.83L4 21.41c.39.39.9.59 1.41.59.51 0 1.02-.2 1.41-.59l7.78-7.78 2.81-2.81c.8-.78.8-2.07 0-2.86zM5.41 20L4 18.59l7.72-7.72 1.47 1.35L5.41 20z\"/>\n",
              "  </svg>\n",
              "      </button>\n",
              "      \n",
              "  <style>\n",
              "    .colab-df-container {\n",
              "      display:flex;\n",
              "      flex-wrap:wrap;\n",
              "      gap: 12px;\n",
              "    }\n",
              "\n",
              "    .colab-df-convert {\n",
              "      background-color: #E8F0FE;\n",
              "      border: none;\n",
              "      border-radius: 50%;\n",
              "      cursor: pointer;\n",
              "      display: none;\n",
              "      fill: #1967D2;\n",
              "      height: 32px;\n",
              "      padding: 0 0 0 0;\n",
              "      width: 32px;\n",
              "    }\n",
              "\n",
              "    .colab-df-convert:hover {\n",
              "      background-color: #E2EBFA;\n",
              "      box-shadow: 0px 1px 2px rgba(60, 64, 67, 0.3), 0px 1px 3px 1px rgba(60, 64, 67, 0.15);\n",
              "      fill: #174EA6;\n",
              "    }\n",
              "\n",
              "    [theme=dark] .colab-df-convert {\n",
              "      background-color: #3B4455;\n",
              "      fill: #D2E3FC;\n",
              "    }\n",
              "\n",
              "    [theme=dark] .colab-df-convert:hover {\n",
              "      background-color: #434B5C;\n",
              "      box-shadow: 0px 1px 3px 1px rgba(0, 0, 0, 0.15);\n",
              "      filter: drop-shadow(0px 1px 2px rgba(0, 0, 0, 0.3));\n",
              "      fill: #FFFFFF;\n",
              "    }\n",
              "  </style>\n",
              "\n",
              "      <script>\n",
              "        const buttonEl =\n",
              "          document.querySelector('#df-db270ecb-3a8d-4f7b-819a-a4b0c93485f4 button.colab-df-convert');\n",
              "        buttonEl.style.display =\n",
              "          google.colab.kernel.accessAllowed ? 'block' : 'none';\n",
              "\n",
              "        async function convertToInteractive(key) {\n",
              "          const element = document.querySelector('#df-db270ecb-3a8d-4f7b-819a-a4b0c93485f4');\n",
              "          const dataTable =\n",
              "            await google.colab.kernel.invokeFunction('convertToInteractive',\n",
              "                                                     [key], {});\n",
              "          if (!dataTable) return;\n",
              "\n",
              "          const docLinkHtml = 'Like what you see? Visit the ' +\n",
              "            '<a target=\"_blank\" href=https://colab.research.google.com/notebooks/data_table.ipynb>data table notebook</a>'\n",
              "            + ' to learn more about interactive tables.';\n",
              "          element.innerHTML = '';\n",
              "          dataTable['output_type'] = 'display_data';\n",
              "          await google.colab.output.renderOutput(dataTable, element);\n",
              "          const docLink = document.createElement('div');\n",
              "          docLink.innerHTML = docLinkHtml;\n",
              "          element.appendChild(docLink);\n",
              "        }\n",
              "      </script>\n",
              "    </div>\n",
              "  </div>\n",
              "  "
            ]
          },
          "metadata": {},
          "execution_count": 42
        }
      ],
      "source": [
        "summary_users.fillna(0, inplace=True)\n",
        "summary_users"
      ]
    },
    {
      "cell_type": "code",
      "execution_count": null,
      "metadata": {
        "colab": {
          "base_uri": "https://localhost:8080/"
        },
        "id": "JyHa7RRNt3jb",
        "outputId": "f9a20861-7c01-4229-aae0-76e8d5f77038"
      },
      "outputs": [
        {
          "output_type": "stream",
          "name": "stdout",
          "text": [
            "<class 'pandas.core.frame.DataFrame'>\n",
            "Int64Index: 2303 entries, 0 to 2302\n",
            "Data columns (total 22 columns):\n",
            " #   Column                 Non-Null Count  Dtype         \n",
            "---  ------                 --------------  -----         \n",
            " 0   user_id                2303 non-null   int64         \n",
            " 1   month                  2303 non-null   float64       \n",
            " 2   count_calls            2303 non-null   float64       \n",
            " 3   duration_calls         2303 non-null   float64       \n",
            " 4   message_date           2303 non-null   float64       \n",
            " 5   gb_used                2303 non-null   float64       \n",
            " 6   mb_used                2303 non-null   float64       \n",
            " 7   first_name             2303 non-null   object        \n",
            " 8   last_name              2303 non-null   object        \n",
            " 9   age                    2303 non-null   int64         \n",
            " 10  city                   2303 non-null   object        \n",
            " 11  reg_date               2303 non-null   datetime64[ns]\n",
            " 12  plan                   2303 non-null   object        \n",
            " 13  churn_date             2303 non-null   object        \n",
            " 14  messages_included      2303 non-null   int64         \n",
            " 15  mb_per_month_included  2303 non-null   int64         \n",
            " 16  minutes_included       2303 non-null   int64         \n",
            " 17  usd_monthly_pay        2303 non-null   int64         \n",
            " 18  usd_per_gb             2303 non-null   int64         \n",
            " 19  usd_per_message        2303 non-null   float64       \n",
            " 20  usd_per_minute         2303 non-null   float64       \n",
            " 21  gb_per_month_included  2303 non-null   float64       \n",
            "dtypes: datetime64[ns](1), float64(9), int64(7), object(5)\n",
            "memory usage: 413.8+ KB\n"
          ]
        }
      ],
      "source": [
        "summary_users.info()"
      ]
    },
    {
      "cell_type": "code",
      "execution_count": null,
      "metadata": {
        "colab": {
          "base_uri": "https://localhost:8080/"
        },
        "id": "uiQJ7QyBOY5g",
        "outputId": "174a9045-736d-4533-a590-df36d10f3bac"
      },
      "outputs": [
        {
          "output_type": "execute_result",
          "data": {
            "text/plain": [
              "500"
            ]
          },
          "metadata": {},
          "execution_count": 44
        }
      ],
      "source": [
        "plans[plans['plan'] == 'surf']['minutes_included'].min()"
      ]
    },
    {
      "cell_type": "code",
      "execution_count": null,
      "metadata": {
        "colab": {
          "base_uri": "https://localhost:8080/",
          "height": 424
        },
        "id": "V-OaKVXQ155V",
        "outputId": "063f2130-71fa-455a-99f1-d9e6c129a392"
      },
      "outputs": [
        {
          "output_type": "execute_result",
          "data": {
            "text/plain": [
              "      user_id  month  duration_calls  count_calls  message_date  gb_used  \\\n",
              "0        1000   12.0           124.0         16.0          11.0      2.0   \n",
              "1        1001    8.0           182.0         22.0          30.0      7.0   \n",
              "2        1001    9.0           315.0         38.0          44.0     14.0   \n",
              "3        1001   10.0           393.0         47.0          53.0     22.0   \n",
              "4        1001   11.0           426.0         49.0          36.0     19.0   \n",
              "...       ...    ...             ...          ...           ...      ...   \n",
              "2298     1498   12.0           339.0         32.0           0.0     23.0   \n",
              "2299     1499    9.0           346.0         35.0           0.0     13.0   \n",
              "2300     1499   10.0           385.0         41.0           0.0     20.0   \n",
              "2301     1499   11.0           308.0         39.0           0.0     17.0   \n",
              "2302     1499   12.0           496.0         56.0           0.0     22.0   \n",
              "\n",
              "          plan  profit  \n",
              "0     ultimate   70.00  \n",
              "1         surf   20.00  \n",
              "2         surf   20.00  \n",
              "3         surf   90.09  \n",
              "4         surf   60.00  \n",
              "...        ...     ...  \n",
              "2298      surf  100.00  \n",
              "2299      surf   20.00  \n",
              "2300      surf   70.00  \n",
              "2301      surf   40.00  \n",
              "2302      surf   90.00  \n",
              "\n",
              "[2303 rows x 8 columns]"
            ],
            "text/html": [
              "\n",
              "  <div id=\"df-5c20fefa-42be-46d7-af5b-50b8a29e5d08\">\n",
              "    <div class=\"colab-df-container\">\n",
              "      <div>\n",
              "<style scoped>\n",
              "    .dataframe tbody tr th:only-of-type {\n",
              "        vertical-align: middle;\n",
              "    }\n",
              "\n",
              "    .dataframe tbody tr th {\n",
              "        vertical-align: top;\n",
              "    }\n",
              "\n",
              "    .dataframe thead th {\n",
              "        text-align: right;\n",
              "    }\n",
              "</style>\n",
              "<table border=\"1\" class=\"dataframe\">\n",
              "  <thead>\n",
              "    <tr style=\"text-align: right;\">\n",
              "      <th></th>\n",
              "      <th>user_id</th>\n",
              "      <th>month</th>\n",
              "      <th>duration_calls</th>\n",
              "      <th>count_calls</th>\n",
              "      <th>message_date</th>\n",
              "      <th>gb_used</th>\n",
              "      <th>plan</th>\n",
              "      <th>profit</th>\n",
              "    </tr>\n",
              "  </thead>\n",
              "  <tbody>\n",
              "    <tr>\n",
              "      <th>0</th>\n",
              "      <td>1000</td>\n",
              "      <td>12.0</td>\n",
              "      <td>124.0</td>\n",
              "      <td>16.0</td>\n",
              "      <td>11.0</td>\n",
              "      <td>2.0</td>\n",
              "      <td>ultimate</td>\n",
              "      <td>70.00</td>\n",
              "    </tr>\n",
              "    <tr>\n",
              "      <th>1</th>\n",
              "      <td>1001</td>\n",
              "      <td>8.0</td>\n",
              "      <td>182.0</td>\n",
              "      <td>22.0</td>\n",
              "      <td>30.0</td>\n",
              "      <td>7.0</td>\n",
              "      <td>surf</td>\n",
              "      <td>20.00</td>\n",
              "    </tr>\n",
              "    <tr>\n",
              "      <th>2</th>\n",
              "      <td>1001</td>\n",
              "      <td>9.0</td>\n",
              "      <td>315.0</td>\n",
              "      <td>38.0</td>\n",
              "      <td>44.0</td>\n",
              "      <td>14.0</td>\n",
              "      <td>surf</td>\n",
              "      <td>20.00</td>\n",
              "    </tr>\n",
              "    <tr>\n",
              "      <th>3</th>\n",
              "      <td>1001</td>\n",
              "      <td>10.0</td>\n",
              "      <td>393.0</td>\n",
              "      <td>47.0</td>\n",
              "      <td>53.0</td>\n",
              "      <td>22.0</td>\n",
              "      <td>surf</td>\n",
              "      <td>90.09</td>\n",
              "    </tr>\n",
              "    <tr>\n",
              "      <th>4</th>\n",
              "      <td>1001</td>\n",
              "      <td>11.0</td>\n",
              "      <td>426.0</td>\n",
              "      <td>49.0</td>\n",
              "      <td>36.0</td>\n",
              "      <td>19.0</td>\n",
              "      <td>surf</td>\n",
              "      <td>60.00</td>\n",
              "    </tr>\n",
              "    <tr>\n",
              "      <th>...</th>\n",
              "      <td>...</td>\n",
              "      <td>...</td>\n",
              "      <td>...</td>\n",
              "      <td>...</td>\n",
              "      <td>...</td>\n",
              "      <td>...</td>\n",
              "      <td>...</td>\n",
              "      <td>...</td>\n",
              "    </tr>\n",
              "    <tr>\n",
              "      <th>2298</th>\n",
              "      <td>1498</td>\n",
              "      <td>12.0</td>\n",
              "      <td>339.0</td>\n",
              "      <td>32.0</td>\n",
              "      <td>0.0</td>\n",
              "      <td>23.0</td>\n",
              "      <td>surf</td>\n",
              "      <td>100.00</td>\n",
              "    </tr>\n",
              "    <tr>\n",
              "      <th>2299</th>\n",
              "      <td>1499</td>\n",
              "      <td>9.0</td>\n",
              "      <td>346.0</td>\n",
              "      <td>35.0</td>\n",
              "      <td>0.0</td>\n",
              "      <td>13.0</td>\n",
              "      <td>surf</td>\n",
              "      <td>20.00</td>\n",
              "    </tr>\n",
              "    <tr>\n",
              "      <th>2300</th>\n",
              "      <td>1499</td>\n",
              "      <td>10.0</td>\n",
              "      <td>385.0</td>\n",
              "      <td>41.0</td>\n",
              "      <td>0.0</td>\n",
              "      <td>20.0</td>\n",
              "      <td>surf</td>\n",
              "      <td>70.00</td>\n",
              "    </tr>\n",
              "    <tr>\n",
              "      <th>2301</th>\n",
              "      <td>1499</td>\n",
              "      <td>11.0</td>\n",
              "      <td>308.0</td>\n",
              "      <td>39.0</td>\n",
              "      <td>0.0</td>\n",
              "      <td>17.0</td>\n",
              "      <td>surf</td>\n",
              "      <td>40.00</td>\n",
              "    </tr>\n",
              "    <tr>\n",
              "      <th>2302</th>\n",
              "      <td>1499</td>\n",
              "      <td>12.0</td>\n",
              "      <td>496.0</td>\n",
              "      <td>56.0</td>\n",
              "      <td>0.0</td>\n",
              "      <td>22.0</td>\n",
              "      <td>surf</td>\n",
              "      <td>90.00</td>\n",
              "    </tr>\n",
              "  </tbody>\n",
              "</table>\n",
              "<p>2303 rows × 8 columns</p>\n",
              "</div>\n",
              "      <button class=\"colab-df-convert\" onclick=\"convertToInteractive('df-5c20fefa-42be-46d7-af5b-50b8a29e5d08')\"\n",
              "              title=\"Convert this dataframe to an interactive table.\"\n",
              "              style=\"display:none;\">\n",
              "        \n",
              "  <svg xmlns=\"http://www.w3.org/2000/svg\" height=\"24px\"viewBox=\"0 0 24 24\"\n",
              "       width=\"24px\">\n",
              "    <path d=\"M0 0h24v24H0V0z\" fill=\"none\"/>\n",
              "    <path d=\"M18.56 5.44l.94 2.06.94-2.06 2.06-.94-2.06-.94-.94-2.06-.94 2.06-2.06.94zm-11 1L8.5 8.5l.94-2.06 2.06-.94-2.06-.94L8.5 2.5l-.94 2.06-2.06.94zm10 10l.94 2.06.94-2.06 2.06-.94-2.06-.94-.94-2.06-.94 2.06-2.06.94z\"/><path d=\"M17.41 7.96l-1.37-1.37c-.4-.4-.92-.59-1.43-.59-.52 0-1.04.2-1.43.59L10.3 9.45l-7.72 7.72c-.78.78-.78 2.05 0 2.83L4 21.41c.39.39.9.59 1.41.59.51 0 1.02-.2 1.41-.59l7.78-7.78 2.81-2.81c.8-.78.8-2.07 0-2.86zM5.41 20L4 18.59l7.72-7.72 1.47 1.35L5.41 20z\"/>\n",
              "  </svg>\n",
              "      </button>\n",
              "      \n",
              "  <style>\n",
              "    .colab-df-container {\n",
              "      display:flex;\n",
              "      flex-wrap:wrap;\n",
              "      gap: 12px;\n",
              "    }\n",
              "\n",
              "    .colab-df-convert {\n",
              "      background-color: #E8F0FE;\n",
              "      border: none;\n",
              "      border-radius: 50%;\n",
              "      cursor: pointer;\n",
              "      display: none;\n",
              "      fill: #1967D2;\n",
              "      height: 32px;\n",
              "      padding: 0 0 0 0;\n",
              "      width: 32px;\n",
              "    }\n",
              "\n",
              "    .colab-df-convert:hover {\n",
              "      background-color: #E2EBFA;\n",
              "      box-shadow: 0px 1px 2px rgba(60, 64, 67, 0.3), 0px 1px 3px 1px rgba(60, 64, 67, 0.15);\n",
              "      fill: #174EA6;\n",
              "    }\n",
              "\n",
              "    [theme=dark] .colab-df-convert {\n",
              "      background-color: #3B4455;\n",
              "      fill: #D2E3FC;\n",
              "    }\n",
              "\n",
              "    [theme=dark] .colab-df-convert:hover {\n",
              "      background-color: #434B5C;\n",
              "      box-shadow: 0px 1px 3px 1px rgba(0, 0, 0, 0.15);\n",
              "      filter: drop-shadow(0px 1px 2px rgba(0, 0, 0, 0.3));\n",
              "      fill: #FFFFFF;\n",
              "    }\n",
              "  </style>\n",
              "\n",
              "      <script>\n",
              "        const buttonEl =\n",
              "          document.querySelector('#df-5c20fefa-42be-46d7-af5b-50b8a29e5d08 button.colab-df-convert');\n",
              "        buttonEl.style.display =\n",
              "          google.colab.kernel.accessAllowed ? 'block' : 'none';\n",
              "\n",
              "        async function convertToInteractive(key) {\n",
              "          const element = document.querySelector('#df-5c20fefa-42be-46d7-af5b-50b8a29e5d08');\n",
              "          const dataTable =\n",
              "            await google.colab.kernel.invokeFunction('convertToInteractive',\n",
              "                                                     [key], {});\n",
              "          if (!dataTable) return;\n",
              "\n",
              "          const docLinkHtml = 'Like what you see? Visit the ' +\n",
              "            '<a target=\"_blank\" href=https://colab.research.google.com/notebooks/data_table.ipynb>data table notebook</a>'\n",
              "            + ' to learn more about interactive tables.';\n",
              "          element.innerHTML = '';\n",
              "          dataTable['output_type'] = 'display_data';\n",
              "          await google.colab.output.renderOutput(dataTable, element);\n",
              "          const docLink = document.createElement('div');\n",
              "          docLink.innerHTML = docLinkHtml;\n",
              "          element.appendChild(docLink);\n",
              "        }\n",
              "      </script>\n",
              "    </div>\n",
              "  </div>\n",
              "  "
            ]
          },
          "metadata": {},
          "execution_count": 45
        }
      ],
      "source": [
        "def calculate_profit(item):\n",
        "    def positive_result(number):\n",
        "        if number < 0:\n",
        "            return 0\n",
        "        else:\n",
        "            return number\n",
        "    \n",
        "    plan = users[users['user_id'] == item['user_id']]['plan'].min()\n",
        "    tariff = plans[plans['plan'] == plan]\n",
        "\n",
        "    # Tomamos el valor de los minutos incluidos en el paquete que tiene cada usuario según minutos, mensajes y gb\n",
        "    minutes_included  = tariff['minutes_included'].min()\n",
        "    messages_included = tariff['messages_included'].min()\n",
        "    gb_included = tariff['mb_per_month_included'].min() / 1024\n",
        "\n",
        "    # Restamos la cantidad de minutos llamadas y gb utilizados por el usuario al mes, y le restamos lo que incluye cada plan.\n",
        "    #Esta es la diferencia de lo que pagan los usuarios según el plan, que representa un ingreso a la empresa.\n",
        "    minutes_not_included  = positive_result( item['count_calls'] - minutes_included )\n",
        "    messages_not_included = positive_result( item['message_date'] - messages_included )\n",
        "    gb_not_included = positive_result( item['gb_used']  - gb_included )\n",
        "\n",
        "    # Se calcula el ingreso\n",
        "    profit = ( \n",
        "        tariff['usd_monthly_pay'].min() \n",
        "        + minutes_not_included  * tariff['usd_per_minute'].min()\n",
        "        + messages_not_included * tariff['usd_per_message'].min()\n",
        "        + gb_not_included * tariff['usd_per_gb'].min()\n",
        "    )\n",
        "    return profit\n",
        "\n",
        "summary_users['profit'] = summary_users.apply(calculate_profit, axis=1)\n",
        "megaline_data = summary_users[['user_id', 'month', 'duration_calls', 'count_calls', 'message_date', 'gb_used', 'plan', 'profit']]\n",
        "megaline_data"
      ]
    },
    {
      "cell_type": "markdown",
      "metadata": {
        "id": "CuHykNm1E2-R"
      },
      "source": [
        "Ahora ya hemos calculado el ingreso que representa cada usuario por mes de acuerdo a sus llamadas, mensajes y sesiones de navegación. Por fin, es hora del:\n",
        "\n",
        "## **Paso 3. Análisis de Datos**"
      ]
    },
    {
      "cell_type": "markdown",
      "metadata": {
        "id": "M-ZsC__tvFhV"
      },
      "source": [
        "Aquí vamos a revisar el comportamiento de los clientes (by= `user_id`) según el plan que tienen contratado y los servicios de llamadas, mensajes y datos de navegación."
      ]
    },
    {
      "cell_type": "code",
      "execution_count": null,
      "metadata": {
        "id": "St1d7CAwCfcu"
      },
      "outputs": [],
      "source": [
        "plan_surf = users.query('plan == \"surf\"')['user_id']\n",
        "plan_ultimate = users.query('plan == \"ultimate\"')['user_id']"
      ]
    },
    {
      "cell_type": "markdown",
      "metadata": {
        "id": "IE0MWFIuD3eQ"
      },
      "source": [
        "## Histograma de la distribución de `calls` de acuerdo con su duración por plan."
      ]
    },
    {
      "cell_type": "code",
      "execution_count": null,
      "metadata": {
        "colab": {
          "base_uri": "https://localhost:8080/",
          "height": 300
        },
        "id": "IGBr8ttRsiJV",
        "outputId": "798feff5-6d52-4161-9b48-ea21984b5563"
      },
      "outputs": [
        {
          "output_type": "execute_result",
          "data": {
            "text/plain": [
              "       count_calls  duration_calls\n",
              "count  1544.000000     1544.000000\n",
              "mean     49.143135      436.802461\n",
              "std      25.304258      229.088544\n",
              "min       1.000000        2.000000\n",
              "25%      32.000000      279.000000\n",
              "50%      48.000000      430.000000\n",
              "75%      65.000000      579.000000\n",
              "max     167.000000     1510.000000"
            ],
            "text/html": [
              "\n",
              "  <div id=\"df-ead36828-80fe-4739-addb-ebf9eaf4952f\">\n",
              "    <div class=\"colab-df-container\">\n",
              "      <div>\n",
              "<style scoped>\n",
              "    .dataframe tbody tr th:only-of-type {\n",
              "        vertical-align: middle;\n",
              "    }\n",
              "\n",
              "    .dataframe tbody tr th {\n",
              "        vertical-align: top;\n",
              "    }\n",
              "\n",
              "    .dataframe thead th {\n",
              "        text-align: right;\n",
              "    }\n",
              "</style>\n",
              "<table border=\"1\" class=\"dataframe\">\n",
              "  <thead>\n",
              "    <tr style=\"text-align: right;\">\n",
              "      <th></th>\n",
              "      <th>count_calls</th>\n",
              "      <th>duration_calls</th>\n",
              "    </tr>\n",
              "  </thead>\n",
              "  <tbody>\n",
              "    <tr>\n",
              "      <th>count</th>\n",
              "      <td>1544.000000</td>\n",
              "      <td>1544.000000</td>\n",
              "    </tr>\n",
              "    <tr>\n",
              "      <th>mean</th>\n",
              "      <td>49.143135</td>\n",
              "      <td>436.802461</td>\n",
              "    </tr>\n",
              "    <tr>\n",
              "      <th>std</th>\n",
              "      <td>25.304258</td>\n",
              "      <td>229.088544</td>\n",
              "    </tr>\n",
              "    <tr>\n",
              "      <th>min</th>\n",
              "      <td>1.000000</td>\n",
              "      <td>2.000000</td>\n",
              "    </tr>\n",
              "    <tr>\n",
              "      <th>25%</th>\n",
              "      <td>32.000000</td>\n",
              "      <td>279.000000</td>\n",
              "    </tr>\n",
              "    <tr>\n",
              "      <th>50%</th>\n",
              "      <td>48.000000</td>\n",
              "      <td>430.000000</td>\n",
              "    </tr>\n",
              "    <tr>\n",
              "      <th>75%</th>\n",
              "      <td>65.000000</td>\n",
              "      <td>579.000000</td>\n",
              "    </tr>\n",
              "    <tr>\n",
              "      <th>max</th>\n",
              "      <td>167.000000</td>\n",
              "      <td>1510.000000</td>\n",
              "    </tr>\n",
              "  </tbody>\n",
              "</table>\n",
              "</div>\n",
              "      <button class=\"colab-df-convert\" onclick=\"convertToInteractive('df-ead36828-80fe-4739-addb-ebf9eaf4952f')\"\n",
              "              title=\"Convert this dataframe to an interactive table.\"\n",
              "              style=\"display:none;\">\n",
              "        \n",
              "  <svg xmlns=\"http://www.w3.org/2000/svg\" height=\"24px\"viewBox=\"0 0 24 24\"\n",
              "       width=\"24px\">\n",
              "    <path d=\"M0 0h24v24H0V0z\" fill=\"none\"/>\n",
              "    <path d=\"M18.56 5.44l.94 2.06.94-2.06 2.06-.94-2.06-.94-.94-2.06-.94 2.06-2.06.94zm-11 1L8.5 8.5l.94-2.06 2.06-.94-2.06-.94L8.5 2.5l-.94 2.06-2.06.94zm10 10l.94 2.06.94-2.06 2.06-.94-2.06-.94-.94-2.06-.94 2.06-2.06.94z\"/><path d=\"M17.41 7.96l-1.37-1.37c-.4-.4-.92-.59-1.43-.59-.52 0-1.04.2-1.43.59L10.3 9.45l-7.72 7.72c-.78.78-.78 2.05 0 2.83L4 21.41c.39.39.9.59 1.41.59.51 0 1.02-.2 1.41-.59l7.78-7.78 2.81-2.81c.8-.78.8-2.07 0-2.86zM5.41 20L4 18.59l7.72-7.72 1.47 1.35L5.41 20z\"/>\n",
              "  </svg>\n",
              "      </button>\n",
              "      \n",
              "  <style>\n",
              "    .colab-df-container {\n",
              "      display:flex;\n",
              "      flex-wrap:wrap;\n",
              "      gap: 12px;\n",
              "    }\n",
              "\n",
              "    .colab-df-convert {\n",
              "      background-color: #E8F0FE;\n",
              "      border: none;\n",
              "      border-radius: 50%;\n",
              "      cursor: pointer;\n",
              "      display: none;\n",
              "      fill: #1967D2;\n",
              "      height: 32px;\n",
              "      padding: 0 0 0 0;\n",
              "      width: 32px;\n",
              "    }\n",
              "\n",
              "    .colab-df-convert:hover {\n",
              "      background-color: #E2EBFA;\n",
              "      box-shadow: 0px 1px 2px rgba(60, 64, 67, 0.3), 0px 1px 3px 1px rgba(60, 64, 67, 0.15);\n",
              "      fill: #174EA6;\n",
              "    }\n",
              "\n",
              "    [theme=dark] .colab-df-convert {\n",
              "      background-color: #3B4455;\n",
              "      fill: #D2E3FC;\n",
              "    }\n",
              "\n",
              "    [theme=dark] .colab-df-convert:hover {\n",
              "      background-color: #434B5C;\n",
              "      box-shadow: 0px 1px 3px 1px rgba(0, 0, 0, 0.15);\n",
              "      filter: drop-shadow(0px 1px 2px rgba(0, 0, 0, 0.3));\n",
              "      fill: #FFFFFF;\n",
              "    }\n",
              "  </style>\n",
              "\n",
              "      <script>\n",
              "        const buttonEl =\n",
              "          document.querySelector('#df-ead36828-80fe-4739-addb-ebf9eaf4952f button.colab-df-convert');\n",
              "        buttonEl.style.display =\n",
              "          google.colab.kernel.accessAllowed ? 'block' : 'none';\n",
              "\n",
              "        async function convertToInteractive(key) {\n",
              "          const element = document.querySelector('#df-ead36828-80fe-4739-addb-ebf9eaf4952f');\n",
              "          const dataTable =\n",
              "            await google.colab.kernel.invokeFunction('convertToInteractive',\n",
              "                                                     [key], {});\n",
              "          if (!dataTable) return;\n",
              "\n",
              "          const docLinkHtml = 'Like what you see? Visit the ' +\n",
              "            '<a target=\"_blank\" href=https://colab.research.google.com/notebooks/data_table.ipynb>data table notebook</a>'\n",
              "            + ' to learn more about interactive tables.';\n",
              "          element.innerHTML = '';\n",
              "          dataTable['output_type'] = 'display_data';\n",
              "          await google.colab.output.renderOutput(dataTable, element);\n",
              "          const docLink = document.createElement('div');\n",
              "          docLink.innerHTML = docLinkHtml;\n",
              "          element.appendChild(docLink);\n",
              "        }\n",
              "      </script>\n",
              "    </div>\n",
              "  </div>\n",
              "  "
            ]
          },
          "metadata": {},
          "execution_count": 47
        }
      ],
      "source": [
        "calls_pivot_surf = calls_pivot.query('user_id in @plan_surf')\n",
        "calls_pivot_surf.describe() #Distribución de la duración de llamadas en el plan Surf."
      ]
    },
    {
      "cell_type": "code",
      "execution_count": null,
      "metadata": {
        "colab": {
          "base_uri": "https://localhost:8080/",
          "height": 300
        },
        "id": "BsYh8QTi4C8u",
        "outputId": "e335b7a2-8965-4a9b-ed90-2a6e973a99eb"
      },
      "outputs": [
        {
          "output_type": "execute_result",
          "data": {
            "text/plain": [
              "       count_calls  duration_calls\n",
              "count   712.000000      712.000000\n",
              "mean     49.191011      435.286517\n",
              "std      26.457567      237.459650\n",
              "min       2.000000       10.000000\n",
              "25%      30.000000      263.000000\n",
              "50%      48.000000      425.500000\n",
              "75%      64.000000      566.000000\n",
              "max     156.000000     1369.000000"
            ],
            "text/html": [
              "\n",
              "  <div id=\"df-41d13ebd-f483-4efd-89bf-51bf13a2bb6c\">\n",
              "    <div class=\"colab-df-container\">\n",
              "      <div>\n",
              "<style scoped>\n",
              "    .dataframe tbody tr th:only-of-type {\n",
              "        vertical-align: middle;\n",
              "    }\n",
              "\n",
              "    .dataframe tbody tr th {\n",
              "        vertical-align: top;\n",
              "    }\n",
              "\n",
              "    .dataframe thead th {\n",
              "        text-align: right;\n",
              "    }\n",
              "</style>\n",
              "<table border=\"1\" class=\"dataframe\">\n",
              "  <thead>\n",
              "    <tr style=\"text-align: right;\">\n",
              "      <th></th>\n",
              "      <th>count_calls</th>\n",
              "      <th>duration_calls</th>\n",
              "    </tr>\n",
              "  </thead>\n",
              "  <tbody>\n",
              "    <tr>\n",
              "      <th>count</th>\n",
              "      <td>712.000000</td>\n",
              "      <td>712.000000</td>\n",
              "    </tr>\n",
              "    <tr>\n",
              "      <th>mean</th>\n",
              "      <td>49.191011</td>\n",
              "      <td>435.286517</td>\n",
              "    </tr>\n",
              "    <tr>\n",
              "      <th>std</th>\n",
              "      <td>26.457567</td>\n",
              "      <td>237.459650</td>\n",
              "    </tr>\n",
              "    <tr>\n",
              "      <th>min</th>\n",
              "      <td>2.000000</td>\n",
              "      <td>10.000000</td>\n",
              "    </tr>\n",
              "    <tr>\n",
              "      <th>25%</th>\n",
              "      <td>30.000000</td>\n",
              "      <td>263.000000</td>\n",
              "    </tr>\n",
              "    <tr>\n",
              "      <th>50%</th>\n",
              "      <td>48.000000</td>\n",
              "      <td>425.500000</td>\n",
              "    </tr>\n",
              "    <tr>\n",
              "      <th>75%</th>\n",
              "      <td>64.000000</td>\n",
              "      <td>566.000000</td>\n",
              "    </tr>\n",
              "    <tr>\n",
              "      <th>max</th>\n",
              "      <td>156.000000</td>\n",
              "      <td>1369.000000</td>\n",
              "    </tr>\n",
              "  </tbody>\n",
              "</table>\n",
              "</div>\n",
              "      <button class=\"colab-df-convert\" onclick=\"convertToInteractive('df-41d13ebd-f483-4efd-89bf-51bf13a2bb6c')\"\n",
              "              title=\"Convert this dataframe to an interactive table.\"\n",
              "              style=\"display:none;\">\n",
              "        \n",
              "  <svg xmlns=\"http://www.w3.org/2000/svg\" height=\"24px\"viewBox=\"0 0 24 24\"\n",
              "       width=\"24px\">\n",
              "    <path d=\"M0 0h24v24H0V0z\" fill=\"none\"/>\n",
              "    <path d=\"M18.56 5.44l.94 2.06.94-2.06 2.06-.94-2.06-.94-.94-2.06-.94 2.06-2.06.94zm-11 1L8.5 8.5l.94-2.06 2.06-.94-2.06-.94L8.5 2.5l-.94 2.06-2.06.94zm10 10l.94 2.06.94-2.06 2.06-.94-2.06-.94-.94-2.06-.94 2.06-2.06.94z\"/><path d=\"M17.41 7.96l-1.37-1.37c-.4-.4-.92-.59-1.43-.59-.52 0-1.04.2-1.43.59L10.3 9.45l-7.72 7.72c-.78.78-.78 2.05 0 2.83L4 21.41c.39.39.9.59 1.41.59.51 0 1.02-.2 1.41-.59l7.78-7.78 2.81-2.81c.8-.78.8-2.07 0-2.86zM5.41 20L4 18.59l7.72-7.72 1.47 1.35L5.41 20z\"/>\n",
              "  </svg>\n",
              "      </button>\n",
              "      \n",
              "  <style>\n",
              "    .colab-df-container {\n",
              "      display:flex;\n",
              "      flex-wrap:wrap;\n",
              "      gap: 12px;\n",
              "    }\n",
              "\n",
              "    .colab-df-convert {\n",
              "      background-color: #E8F0FE;\n",
              "      border: none;\n",
              "      border-radius: 50%;\n",
              "      cursor: pointer;\n",
              "      display: none;\n",
              "      fill: #1967D2;\n",
              "      height: 32px;\n",
              "      padding: 0 0 0 0;\n",
              "      width: 32px;\n",
              "    }\n",
              "\n",
              "    .colab-df-convert:hover {\n",
              "      background-color: #E2EBFA;\n",
              "      box-shadow: 0px 1px 2px rgba(60, 64, 67, 0.3), 0px 1px 3px 1px rgba(60, 64, 67, 0.15);\n",
              "      fill: #174EA6;\n",
              "    }\n",
              "\n",
              "    [theme=dark] .colab-df-convert {\n",
              "      background-color: #3B4455;\n",
              "      fill: #D2E3FC;\n",
              "    }\n",
              "\n",
              "    [theme=dark] .colab-df-convert:hover {\n",
              "      background-color: #434B5C;\n",
              "      box-shadow: 0px 1px 3px 1px rgba(0, 0, 0, 0.15);\n",
              "      filter: drop-shadow(0px 1px 2px rgba(0, 0, 0, 0.3));\n",
              "      fill: #FFFFFF;\n",
              "    }\n",
              "  </style>\n",
              "\n",
              "      <script>\n",
              "        const buttonEl =\n",
              "          document.querySelector('#df-41d13ebd-f483-4efd-89bf-51bf13a2bb6c button.colab-df-convert');\n",
              "        buttonEl.style.display =\n",
              "          google.colab.kernel.accessAllowed ? 'block' : 'none';\n",
              "\n",
              "        async function convertToInteractive(key) {\n",
              "          const element = document.querySelector('#df-41d13ebd-f483-4efd-89bf-51bf13a2bb6c');\n",
              "          const dataTable =\n",
              "            await google.colab.kernel.invokeFunction('convertToInteractive',\n",
              "                                                     [key], {});\n",
              "          if (!dataTable) return;\n",
              "\n",
              "          const docLinkHtml = 'Like what you see? Visit the ' +\n",
              "            '<a target=\"_blank\" href=https://colab.research.google.com/notebooks/data_table.ipynb>data table notebook</a>'\n",
              "            + ' to learn more about interactive tables.';\n",
              "          element.innerHTML = '';\n",
              "          dataTable['output_type'] = 'display_data';\n",
              "          await google.colab.output.renderOutput(dataTable, element);\n",
              "          const docLink = document.createElement('div');\n",
              "          docLink.innerHTML = docLinkHtml;\n",
              "          element.appendChild(docLink);\n",
              "        }\n",
              "      </script>\n",
              "    </div>\n",
              "  </div>\n",
              "  "
            ]
          },
          "metadata": {},
          "execution_count": 48
        }
      ],
      "source": [
        "calls_pivot_ultimate = calls_pivot.query('user_id in @plan_ultimate')\n",
        "calls_pivot_ultimate.describe() # Distribución de llamadas en el plan Ultimate."
      ]
    },
    {
      "cell_type": "code",
      "execution_count": null,
      "metadata": {
        "id": "x3vsJZzd--ot"
      },
      "outputs": [],
      "source": [
        "def bye_outliers(name_df,column): # Función para eliminar valores atípicos de la distribución.\n",
        "    q1 = name_df[column].quantile(0.25)\n",
        "    q3 = name_df[column].quantile(0.75)\n",
        "    iqr = q3 - q1\n",
        "    if q1 - iqr*1.5 < 0:\n",
        "        return (0, q3 + iqr*1.5)\n",
        "    else:\n",
        "        return (q1 - iqr*1.5, q3 + iqr*1.5)"
      ]
    },
    {
      "cell_type": "code",
      "execution_count": null,
      "metadata": {
        "id": "n8UT8U6dAFpA"
      },
      "outputs": [],
      "source": [
        "surf_duration_calls_outliers = bye_outliers(calls_pivot_surf,'duration_calls')\n",
        "ultimate_duration_calls_outliers  = bye_outliers(calls_pivot_ultimate,'duration_calls')\n",
        "# Creando una nueva variable en la que no se consideran los valores atípicos o outliers para seguir con el posterior análisis estadístico."
      ]
    },
    {
      "cell_type": "code",
      "execution_count": null,
      "metadata": {
        "colab": {
          "base_uri": "https://localhost:8080/",
          "height": 300
        },
        "id": "QpZD-s0S45ME",
        "outputId": "a1c5c5e8-558e-4b64-a77b-27daba2c724d"
      },
      "outputs": [
        {
          "output_type": "execute_result",
          "data": {
            "text/plain": [
              "       count_calls  duration_calls\n",
              "count  1515.000000     1515.000000\n",
              "mean     47.702970      423.438944\n",
              "std      23.207301      209.183970\n",
              "min       1.000000        2.000000\n",
              "25%      32.000000      278.000000\n",
              "50%      48.000000      425.000000\n",
              "75%      63.000000      567.500000\n",
              "max     124.000000     1021.000000"
            ],
            "text/html": [
              "\n",
              "  <div id=\"df-94c47da6-4e0c-4b8f-88de-e276cd2a390f\">\n",
              "    <div class=\"colab-df-container\">\n",
              "      <div>\n",
              "<style scoped>\n",
              "    .dataframe tbody tr th:only-of-type {\n",
              "        vertical-align: middle;\n",
              "    }\n",
              "\n",
              "    .dataframe tbody tr th {\n",
              "        vertical-align: top;\n",
              "    }\n",
              "\n",
              "    .dataframe thead th {\n",
              "        text-align: right;\n",
              "    }\n",
              "</style>\n",
              "<table border=\"1\" class=\"dataframe\">\n",
              "  <thead>\n",
              "    <tr style=\"text-align: right;\">\n",
              "      <th></th>\n",
              "      <th>count_calls</th>\n",
              "      <th>duration_calls</th>\n",
              "    </tr>\n",
              "  </thead>\n",
              "  <tbody>\n",
              "    <tr>\n",
              "      <th>count</th>\n",
              "      <td>1515.000000</td>\n",
              "      <td>1515.000000</td>\n",
              "    </tr>\n",
              "    <tr>\n",
              "      <th>mean</th>\n",
              "      <td>47.702970</td>\n",
              "      <td>423.438944</td>\n",
              "    </tr>\n",
              "    <tr>\n",
              "      <th>std</th>\n",
              "      <td>23.207301</td>\n",
              "      <td>209.183970</td>\n",
              "    </tr>\n",
              "    <tr>\n",
              "      <th>min</th>\n",
              "      <td>1.000000</td>\n",
              "      <td>2.000000</td>\n",
              "    </tr>\n",
              "    <tr>\n",
              "      <th>25%</th>\n",
              "      <td>32.000000</td>\n",
              "      <td>278.000000</td>\n",
              "    </tr>\n",
              "    <tr>\n",
              "      <th>50%</th>\n",
              "      <td>48.000000</td>\n",
              "      <td>425.000000</td>\n",
              "    </tr>\n",
              "    <tr>\n",
              "      <th>75%</th>\n",
              "      <td>63.000000</td>\n",
              "      <td>567.500000</td>\n",
              "    </tr>\n",
              "    <tr>\n",
              "      <th>max</th>\n",
              "      <td>124.000000</td>\n",
              "      <td>1021.000000</td>\n",
              "    </tr>\n",
              "  </tbody>\n",
              "</table>\n",
              "</div>\n",
              "      <button class=\"colab-df-convert\" onclick=\"convertToInteractive('df-94c47da6-4e0c-4b8f-88de-e276cd2a390f')\"\n",
              "              title=\"Convert this dataframe to an interactive table.\"\n",
              "              style=\"display:none;\">\n",
              "        \n",
              "  <svg xmlns=\"http://www.w3.org/2000/svg\" height=\"24px\"viewBox=\"0 0 24 24\"\n",
              "       width=\"24px\">\n",
              "    <path d=\"M0 0h24v24H0V0z\" fill=\"none\"/>\n",
              "    <path d=\"M18.56 5.44l.94 2.06.94-2.06 2.06-.94-2.06-.94-.94-2.06-.94 2.06-2.06.94zm-11 1L8.5 8.5l.94-2.06 2.06-.94-2.06-.94L8.5 2.5l-.94 2.06-2.06.94zm10 10l.94 2.06.94-2.06 2.06-.94-2.06-.94-.94-2.06-.94 2.06-2.06.94z\"/><path d=\"M17.41 7.96l-1.37-1.37c-.4-.4-.92-.59-1.43-.59-.52 0-1.04.2-1.43.59L10.3 9.45l-7.72 7.72c-.78.78-.78 2.05 0 2.83L4 21.41c.39.39.9.59 1.41.59.51 0 1.02-.2 1.41-.59l7.78-7.78 2.81-2.81c.8-.78.8-2.07 0-2.86zM5.41 20L4 18.59l7.72-7.72 1.47 1.35L5.41 20z\"/>\n",
              "  </svg>\n",
              "      </button>\n",
              "      \n",
              "  <style>\n",
              "    .colab-df-container {\n",
              "      display:flex;\n",
              "      flex-wrap:wrap;\n",
              "      gap: 12px;\n",
              "    }\n",
              "\n",
              "    .colab-df-convert {\n",
              "      background-color: #E8F0FE;\n",
              "      border: none;\n",
              "      border-radius: 50%;\n",
              "      cursor: pointer;\n",
              "      display: none;\n",
              "      fill: #1967D2;\n",
              "      height: 32px;\n",
              "      padding: 0 0 0 0;\n",
              "      width: 32px;\n",
              "    }\n",
              "\n",
              "    .colab-df-convert:hover {\n",
              "      background-color: #E2EBFA;\n",
              "      box-shadow: 0px 1px 2px rgba(60, 64, 67, 0.3), 0px 1px 3px 1px rgba(60, 64, 67, 0.15);\n",
              "      fill: #174EA6;\n",
              "    }\n",
              "\n",
              "    [theme=dark] .colab-df-convert {\n",
              "      background-color: #3B4455;\n",
              "      fill: #D2E3FC;\n",
              "    }\n",
              "\n",
              "    [theme=dark] .colab-df-convert:hover {\n",
              "      background-color: #434B5C;\n",
              "      box-shadow: 0px 1px 3px 1px rgba(0, 0, 0, 0.15);\n",
              "      filter: drop-shadow(0px 1px 2px rgba(0, 0, 0, 0.3));\n",
              "      fill: #FFFFFF;\n",
              "    }\n",
              "  </style>\n",
              "\n",
              "      <script>\n",
              "        const buttonEl =\n",
              "          document.querySelector('#df-94c47da6-4e0c-4b8f-88de-e276cd2a390f button.colab-df-convert');\n",
              "        buttonEl.style.display =\n",
              "          google.colab.kernel.accessAllowed ? 'block' : 'none';\n",
              "\n",
              "        async function convertToInteractive(key) {\n",
              "          const element = document.querySelector('#df-94c47da6-4e0c-4b8f-88de-e276cd2a390f');\n",
              "          const dataTable =\n",
              "            await google.colab.kernel.invokeFunction('convertToInteractive',\n",
              "                                                     [key], {});\n",
              "          if (!dataTable) return;\n",
              "\n",
              "          const docLinkHtml = 'Like what you see? Visit the ' +\n",
              "            '<a target=\"_blank\" href=https://colab.research.google.com/notebooks/data_table.ipynb>data table notebook</a>'\n",
              "            + ' to learn more about interactive tables.';\n",
              "          element.innerHTML = '';\n",
              "          dataTable['output_type'] = 'display_data';\n",
              "          await google.colab.output.renderOutput(dataTable, element);\n",
              "          const docLink = document.createElement('div');\n",
              "          docLink.innerHTML = docLinkHtml;\n",
              "          element.appendChild(docLink);\n",
              "        }\n",
              "      </script>\n",
              "    </div>\n",
              "  </div>\n",
              "  "
            ]
          },
          "metadata": {},
          "execution_count": 51
        }
      ],
      "source": [
        "calls_pivot_surf_filtered = (calls_pivot_surf.query(\n",
        "    '@surf_duration_calls_outliers[0] < duration_calls < @surf_duration_calls_outliers[1]'))\n",
        "calls_pivot_surf_filtered.describe()"
      ]
    },
    {
      "cell_type": "code",
      "execution_count": null,
      "metadata": {
        "colab": {
          "base_uri": "https://localhost:8080/",
          "height": 300
        },
        "id": "4rsU9yriAUDZ",
        "outputId": "8c7d63d2-505f-4c2e-f52e-2ba58ddd8719"
      },
      "outputs": [
        {
          "output_type": "execute_result",
          "data": {
            "text/plain": [
              "       count_calls  duration_calls\n",
              "count   696.000000      696.000000\n",
              "mean     47.274425      418.265805\n",
              "std      23.439393      211.128171\n",
              "min       2.000000       10.000000\n",
              "25%      30.000000      261.500000\n",
              "50%      48.000000      421.000000\n",
              "75%      63.000000      551.250000\n",
              "max     123.000000     1020.000000"
            ],
            "text/html": [
              "\n",
              "  <div id=\"df-6f4a3160-1c0b-4ecf-9279-19cba0a51699\">\n",
              "    <div class=\"colab-df-container\">\n",
              "      <div>\n",
              "<style scoped>\n",
              "    .dataframe tbody tr th:only-of-type {\n",
              "        vertical-align: middle;\n",
              "    }\n",
              "\n",
              "    .dataframe tbody tr th {\n",
              "        vertical-align: top;\n",
              "    }\n",
              "\n",
              "    .dataframe thead th {\n",
              "        text-align: right;\n",
              "    }\n",
              "</style>\n",
              "<table border=\"1\" class=\"dataframe\">\n",
              "  <thead>\n",
              "    <tr style=\"text-align: right;\">\n",
              "      <th></th>\n",
              "      <th>count_calls</th>\n",
              "      <th>duration_calls</th>\n",
              "    </tr>\n",
              "  </thead>\n",
              "  <tbody>\n",
              "    <tr>\n",
              "      <th>count</th>\n",
              "      <td>696.000000</td>\n",
              "      <td>696.000000</td>\n",
              "    </tr>\n",
              "    <tr>\n",
              "      <th>mean</th>\n",
              "      <td>47.274425</td>\n",
              "      <td>418.265805</td>\n",
              "    </tr>\n",
              "    <tr>\n",
              "      <th>std</th>\n",
              "      <td>23.439393</td>\n",
              "      <td>211.128171</td>\n",
              "    </tr>\n",
              "    <tr>\n",
              "      <th>min</th>\n",
              "      <td>2.000000</td>\n",
              "      <td>10.000000</td>\n",
              "    </tr>\n",
              "    <tr>\n",
              "      <th>25%</th>\n",
              "      <td>30.000000</td>\n",
              "      <td>261.500000</td>\n",
              "    </tr>\n",
              "    <tr>\n",
              "      <th>50%</th>\n",
              "      <td>48.000000</td>\n",
              "      <td>421.000000</td>\n",
              "    </tr>\n",
              "    <tr>\n",
              "      <th>75%</th>\n",
              "      <td>63.000000</td>\n",
              "      <td>551.250000</td>\n",
              "    </tr>\n",
              "    <tr>\n",
              "      <th>max</th>\n",
              "      <td>123.000000</td>\n",
              "      <td>1020.000000</td>\n",
              "    </tr>\n",
              "  </tbody>\n",
              "</table>\n",
              "</div>\n",
              "      <button class=\"colab-df-convert\" onclick=\"convertToInteractive('df-6f4a3160-1c0b-4ecf-9279-19cba0a51699')\"\n",
              "              title=\"Convert this dataframe to an interactive table.\"\n",
              "              style=\"display:none;\">\n",
              "        \n",
              "  <svg xmlns=\"http://www.w3.org/2000/svg\" height=\"24px\"viewBox=\"0 0 24 24\"\n",
              "       width=\"24px\">\n",
              "    <path d=\"M0 0h24v24H0V0z\" fill=\"none\"/>\n",
              "    <path d=\"M18.56 5.44l.94 2.06.94-2.06 2.06-.94-2.06-.94-.94-2.06-.94 2.06-2.06.94zm-11 1L8.5 8.5l.94-2.06 2.06-.94-2.06-.94L8.5 2.5l-.94 2.06-2.06.94zm10 10l.94 2.06.94-2.06 2.06-.94-2.06-.94-.94-2.06-.94 2.06-2.06.94z\"/><path d=\"M17.41 7.96l-1.37-1.37c-.4-.4-.92-.59-1.43-.59-.52 0-1.04.2-1.43.59L10.3 9.45l-7.72 7.72c-.78.78-.78 2.05 0 2.83L4 21.41c.39.39.9.59 1.41.59.51 0 1.02-.2 1.41-.59l7.78-7.78 2.81-2.81c.8-.78.8-2.07 0-2.86zM5.41 20L4 18.59l7.72-7.72 1.47 1.35L5.41 20z\"/>\n",
              "  </svg>\n",
              "      </button>\n",
              "      \n",
              "  <style>\n",
              "    .colab-df-container {\n",
              "      display:flex;\n",
              "      flex-wrap:wrap;\n",
              "      gap: 12px;\n",
              "    }\n",
              "\n",
              "    .colab-df-convert {\n",
              "      background-color: #E8F0FE;\n",
              "      border: none;\n",
              "      border-radius: 50%;\n",
              "      cursor: pointer;\n",
              "      display: none;\n",
              "      fill: #1967D2;\n",
              "      height: 32px;\n",
              "      padding: 0 0 0 0;\n",
              "      width: 32px;\n",
              "    }\n",
              "\n",
              "    .colab-df-convert:hover {\n",
              "      background-color: #E2EBFA;\n",
              "      box-shadow: 0px 1px 2px rgba(60, 64, 67, 0.3), 0px 1px 3px 1px rgba(60, 64, 67, 0.15);\n",
              "      fill: #174EA6;\n",
              "    }\n",
              "\n",
              "    [theme=dark] .colab-df-convert {\n",
              "      background-color: #3B4455;\n",
              "      fill: #D2E3FC;\n",
              "    }\n",
              "\n",
              "    [theme=dark] .colab-df-convert:hover {\n",
              "      background-color: #434B5C;\n",
              "      box-shadow: 0px 1px 3px 1px rgba(0, 0, 0, 0.15);\n",
              "      filter: drop-shadow(0px 1px 2px rgba(0, 0, 0, 0.3));\n",
              "      fill: #FFFFFF;\n",
              "    }\n",
              "  </style>\n",
              "\n",
              "      <script>\n",
              "        const buttonEl =\n",
              "          document.querySelector('#df-6f4a3160-1c0b-4ecf-9279-19cba0a51699 button.colab-df-convert');\n",
              "        buttonEl.style.display =\n",
              "          google.colab.kernel.accessAllowed ? 'block' : 'none';\n",
              "\n",
              "        async function convertToInteractive(key) {\n",
              "          const element = document.querySelector('#df-6f4a3160-1c0b-4ecf-9279-19cba0a51699');\n",
              "          const dataTable =\n",
              "            await google.colab.kernel.invokeFunction('convertToInteractive',\n",
              "                                                     [key], {});\n",
              "          if (!dataTable) return;\n",
              "\n",
              "          const docLinkHtml = 'Like what you see? Visit the ' +\n",
              "            '<a target=\"_blank\" href=https://colab.research.google.com/notebooks/data_table.ipynb>data table notebook</a>'\n",
              "            + ' to learn more about interactive tables.';\n",
              "          element.innerHTML = '';\n",
              "          dataTable['output_type'] = 'display_data';\n",
              "          await google.colab.output.renderOutput(dataTable, element);\n",
              "          const docLink = document.createElement('div');\n",
              "          docLink.innerHTML = docLinkHtml;\n",
              "          element.appendChild(docLink);\n",
              "        }\n",
              "      </script>\n",
              "    </div>\n",
              "  </div>\n",
              "  "
            ]
          },
          "metadata": {},
          "execution_count": 52
        }
      ],
      "source": [
        "calls_pivot_ultimate_filtered = (calls_pivot_ultimate.query(\n",
        "    '@ultimate_duration_calls_outliers[0] < duration_calls < @ultimate_duration_calls_outliers[1]'))\n",
        "calls_pivot_ultimate_filtered.describe()"
      ]
    },
    {
      "cell_type": "markdown",
      "metadata": {
        "id": "LYFt2lGXOY5j"
      },
      "source": [
        "Para las llamadas surfer ya filtradas, tenemos el 98% de los datos originales de los usuarios de este plan. Y en la tabla filtrada de los usuarios del plan ultimate, tenemos el 97%. En ambos grupos removimos un porcentaje pequeño de las llamadas atípicas, y algunos valores de los estadísticos tanto para surfers y ultimaters cambiaron un poco, esto quiere decir que aún tenemos datos que representan bien la muestra, aunque tenemos menos."
      ]
    },
    {
      "cell_type": "code",
      "execution_count": null,
      "metadata": {
        "colab": {
          "base_uri": "https://localhost:8080/",
          "height": 298
        },
        "id": "NCPA_Zgr4QrD",
        "outputId": "43638975-4549-4ff8-bf38-1439bc80c822"
      },
      "outputs": [
        {
          "output_type": "execute_result",
          "data": {
            "text/plain": [
              "<matplotlib.axes._subplots.AxesSubplot at 0x7fade4007b10>"
            ]
          },
          "metadata": {},
          "execution_count": 53
        },
        {
          "output_type": "display_data",
          "data": {
            "text/plain": [
              "<Figure size 1080x288 with 1 Axes>"
            ],
            "image/png": "[encoded data removed]"
          },
          "metadata": {
            "needs_background": "light"
          }
        }
      ],
      "source": [
        "calls_pivot_surf_filtered['duration_calls'].plot(\n",
        "    kind     = 'hist'\n",
        "    ,title   = 'Duración de llamadas para Surfers'\n",
        "    ,bins    = 21\n",
        "    ,figsize = (15, 4)\n",
        " )"
      ]
    },
    {
      "cell_type": "code",
      "execution_count": null,
      "metadata": {
        "colab": {
          "base_uri": "https://localhost:8080/",
          "height": 298
        },
        "id": "OQm9lGHH4W5i",
        "outputId": "cdcdf302-e103-4c53-fe2d-1ebe5ecde41c"
      },
      "outputs": [
        {
          "output_type": "execute_result",
          "data": {
            "text/plain": [
              "<matplotlib.axes._subplots.AxesSubplot at 0x7fade3f1f750>"
            ]
          },
          "metadata": {},
          "execution_count": 54
        },
        {
          "output_type": "display_data",
          "data": {
            "text/plain": [
              "<Figure size 1080x288 with 1 Axes>"
            ],
            "image/png": "[encoded data removed]"
          },
          "metadata": {
            "needs_background": "light"
          }
        }
      ],
      "source": [
        "calls_pivot_ultimate_filtered['duration_calls'].plot(\n",
        "    kind     = 'hist'\n",
        "    ,title   = 'Duración de llamada para Ultimaters'\n",
        "    ,bins    = 21\n",
        "    ,figsize = (15, 4)\n",
        " )"
      ]
    },
    {
      "cell_type": "markdown",
      "metadata": {
        "id": "t9040qn1CDhU"
      },
      "source": [
        "Hasta ahora hemos eliminado los valores atípicos de las llamadas de ambos planes que utilizan los usuaruos, haremos lo mismo con las llamadas y los mensajes. Podemos observar que la distribución para llamadas ultimaters es menos uniforme que para las llamadas surfers, ambas lucen normales. La duración de llamadas para los surfers parece variar un poco de la de nuestros usuarios ultimaters. En ambos grupos podemos observar que la duración de llamadas se encuentra dentro de un rango de 30-60 minutos aproximadamente, pero por la cantidad de datos que tenemos en ambos grupos, los surfers tienen una frecuencia mayor en casi todo el espectro de la duración. "
      ]
    },
    {
      "cell_type": "markdown",
      "metadata": {
        "id": "aCKv2SWXEXiX"
      },
      "source": [
        "## Histograma de la distribución de `messages` de acuerdo con la cantidad de mensajes enviados por plan."
      ]
    },
    {
      "cell_type": "code",
      "execution_count": null,
      "metadata": {
        "colab": {
          "base_uri": "https://localhost:8080/",
          "height": 300
        },
        "id": "TA3Nt0QLCCwS",
        "outputId": "c1dc4699-d83e-4a07-c607-b57d48d72e5c"
      },
      "outputs": [
        {
          "output_type": "execute_result",
          "data": {
            "text/plain": [
              "       message_date\n",
              "count   1222.000000\n",
              "mean      40.109656\n",
              "std       33.035500\n",
              "min        1.000000\n",
              "25%       16.000000\n",
              "50%       32.000000\n",
              "75%       54.000000\n",
              "max      266.000000"
            ],
            "text/html": [
              "\n",
              "  <div id=\"df-26f8c6f5-e558-460f-92e4-e03440931f5c\">\n",
              "    <div class=\"colab-df-container\">\n",
              "      <div>\n",
              "<style scoped>\n",
              "    .dataframe tbody tr th:only-of-type {\n",
              "        vertical-align: middle;\n",
              "    }\n",
              "\n",
              "    .dataframe tbody tr th {\n",
              "        vertical-align: top;\n",
              "    }\n",
              "\n",
              "    .dataframe thead th {\n",
              "        text-align: right;\n",
              "    }\n",
              "</style>\n",
              "<table border=\"1\" class=\"dataframe\">\n",
              "  <thead>\n",
              "    <tr style=\"text-align: right;\">\n",
              "      <th></th>\n",
              "      <th>message_date</th>\n",
              "    </tr>\n",
              "  </thead>\n",
              "  <tbody>\n",
              "    <tr>\n",
              "      <th>count</th>\n",
              "      <td>1222.000000</td>\n",
              "    </tr>\n",
              "    <tr>\n",
              "      <th>mean</th>\n",
              "      <td>40.109656</td>\n",
              "    </tr>\n",
              "    <tr>\n",
              "      <th>std</th>\n",
              "      <td>33.035500</td>\n",
              "    </tr>\n",
              "    <tr>\n",
              "      <th>min</th>\n",
              "      <td>1.000000</td>\n",
              "    </tr>\n",
              "    <tr>\n",
              "      <th>25%</th>\n",
              "      <td>16.000000</td>\n",
              "    </tr>\n",
              "    <tr>\n",
              "      <th>50%</th>\n",
              "      <td>32.000000</td>\n",
              "    </tr>\n",
              "    <tr>\n",
              "      <th>75%</th>\n",
              "      <td>54.000000</td>\n",
              "    </tr>\n",
              "    <tr>\n",
              "      <th>max</th>\n",
              "      <td>266.000000</td>\n",
              "    </tr>\n",
              "  </tbody>\n",
              "</table>\n",
              "</div>\n",
              "      <button class=\"colab-df-convert\" onclick=\"convertToInteractive('df-26f8c6f5-e558-460f-92e4-e03440931f5c')\"\n",
              "              title=\"Convert this dataframe to an interactive table.\"\n",
              "              style=\"display:none;\">\n",
              "        \n",
              "  <svg xmlns=\"http://www.w3.org/2000/svg\" height=\"24px\"viewBox=\"0 0 24 24\"\n",
              "       width=\"24px\">\n",
              "    <path d=\"M0 0h24v24H0V0z\" fill=\"none\"/>\n",
              "    <path d=\"M18.56 5.44l.94 2.06.94-2.06 2.06-.94-2.06-.94-.94-2.06-.94 2.06-2.06.94zm-11 1L8.5 8.5l.94-2.06 2.06-.94-2.06-.94L8.5 2.5l-.94 2.06-2.06.94zm10 10l.94 2.06.94-2.06 2.06-.94-2.06-.94-.94-2.06-.94 2.06-2.06.94z\"/><path d=\"M17.41 7.96l-1.37-1.37c-.4-.4-.92-.59-1.43-.59-.52 0-1.04.2-1.43.59L10.3 9.45l-7.72 7.72c-.78.78-.78 2.05 0 2.83L4 21.41c.39.39.9.59 1.41.59.51 0 1.02-.2 1.41-.59l7.78-7.78 2.81-2.81c.8-.78.8-2.07 0-2.86zM5.41 20L4 18.59l7.72-7.72 1.47 1.35L5.41 20z\"/>\n",
              "  </svg>\n",
              "      </button>\n",
              "      \n",
              "  <style>\n",
              "    .colab-df-container {\n",
              "      display:flex;\n",
              "      flex-wrap:wrap;\n",
              "      gap: 12px;\n",
              "    }\n",
              "\n",
              "    .colab-df-convert {\n",
              "      background-color: #E8F0FE;\n",
              "      border: none;\n",
              "      border-radius: 50%;\n",
              "      cursor: pointer;\n",
              "      display: none;\n",
              "      fill: #1967D2;\n",
              "      height: 32px;\n",
              "      padding: 0 0 0 0;\n",
              "      width: 32px;\n",
              "    }\n",
              "\n",
              "    .colab-df-convert:hover {\n",
              "      background-color: #E2EBFA;\n",
              "      box-shadow: 0px 1px 2px rgba(60, 64, 67, 0.3), 0px 1px 3px 1px rgba(60, 64, 67, 0.15);\n",
              "      fill: #174EA6;\n",
              "    }\n",
              "\n",
              "    [theme=dark] .colab-df-convert {\n",
              "      background-color: #3B4455;\n",
              "      fill: #D2E3FC;\n",
              "    }\n",
              "\n",
              "    [theme=dark] .colab-df-convert:hover {\n",
              "      background-color: #434B5C;\n",
              "      box-shadow: 0px 1px 3px 1px rgba(0, 0, 0, 0.15);\n",
              "      filter: drop-shadow(0px 1px 2px rgba(0, 0, 0, 0.3));\n",
              "      fill: #FFFFFF;\n",
              "    }\n",
              "  </style>\n",
              "\n",
              "      <script>\n",
              "        const buttonEl =\n",
              "          document.querySelector('#df-26f8c6f5-e558-460f-92e4-e03440931f5c button.colab-df-convert');\n",
              "        buttonEl.style.display =\n",
              "          google.colab.kernel.accessAllowed ? 'block' : 'none';\n",
              "\n",
              "        async function convertToInteractive(key) {\n",
              "          const element = document.querySelector('#df-26f8c6f5-e558-460f-92e4-e03440931f5c');\n",
              "          const dataTable =\n",
              "            await google.colab.kernel.invokeFunction('convertToInteractive',\n",
              "                                                     [key], {});\n",
              "          if (!dataTable) return;\n",
              "\n",
              "          const docLinkHtml = 'Like what you see? Visit the ' +\n",
              "            '<a target=\"_blank\" href=https://colab.research.google.com/notebooks/data_table.ipynb>data table notebook</a>'\n",
              "            + ' to learn more about interactive tables.';\n",
              "          element.innerHTML = '';\n",
              "          dataTable['output_type'] = 'display_data';\n",
              "          await google.colab.output.renderOutput(dataTable, element);\n",
              "          const docLink = document.createElement('div');\n",
              "          docLink.innerHTML = docLinkHtml;\n",
              "          element.appendChild(docLink);\n",
              "        }\n",
              "      </script>\n",
              "    </div>\n",
              "  </div>\n",
              "  "
            ]
          },
          "metadata": {},
          "execution_count": 55
        }
      ],
      "source": [
        "message_pivot_surf = messages_pivot.query('user_id in @plan_surf')\n",
        "message_pivot_surf.describe()"
      ]
    },
    {
      "cell_type": "code",
      "execution_count": null,
      "metadata": {
        "colab": {
          "base_uri": "https://localhost:8080/",
          "height": 300
        },
        "id": "8KBWtnekCZpQ",
        "outputId": "c0efbfa5-e513-4214-c714-eaa84155f513"
      },
      "outputs": [
        {
          "output_type": "execute_result",
          "data": {
            "text/plain": [
              "       message_date\n",
              "count    584.000000\n",
              "mean      46.296233\n",
              "std       32.942118\n",
              "min        1.000000\n",
              "25%       21.000000\n",
              "50%       41.000000\n",
              "75%       66.000000\n",
              "max      166.000000"
            ],
            "text/html": [
              "\n",
              "  <div id=\"df-6c2ec6e8-2f89-497a-94ea-bb028aaee0dc\">\n",
              "    <div class=\"colab-df-container\">\n",
              "      <div>\n",
              "<style scoped>\n",
              "    .dataframe tbody tr th:only-of-type {\n",
              "        vertical-align: middle;\n",
              "    }\n",
              "\n",
              "    .dataframe tbody tr th {\n",
              "        vertical-align: top;\n",
              "    }\n",
              "\n",
              "    .dataframe thead th {\n",
              "        text-align: right;\n",
              "    }\n",
              "</style>\n",
              "<table border=\"1\" class=\"dataframe\">\n",
              "  <thead>\n",
              "    <tr style=\"text-align: right;\">\n",
              "      <th></th>\n",
              "      <th>message_date</th>\n",
              "    </tr>\n",
              "  </thead>\n",
              "  <tbody>\n",
              "    <tr>\n",
              "      <th>count</th>\n",
              "      <td>584.000000</td>\n",
              "    </tr>\n",
              "    <tr>\n",
              "      <th>mean</th>\n",
              "      <td>46.296233</td>\n",
              "    </tr>\n",
              "    <tr>\n",
              "      <th>std</th>\n",
              "      <td>32.942118</td>\n",
              "    </tr>\n",
              "    <tr>\n",
              "      <th>min</th>\n",
              "      <td>1.000000</td>\n",
              "    </tr>\n",
              "    <tr>\n",
              "      <th>25%</th>\n",
              "      <td>21.000000</td>\n",
              "    </tr>\n",
              "    <tr>\n",
              "      <th>50%</th>\n",
              "      <td>41.000000</td>\n",
              "    </tr>\n",
              "    <tr>\n",
              "      <th>75%</th>\n",
              "      <td>66.000000</td>\n",
              "    </tr>\n",
              "    <tr>\n",
              "      <th>max</th>\n",
              "      <td>166.000000</td>\n",
              "    </tr>\n",
              "  </tbody>\n",
              "</table>\n",
              "</div>\n",
              "      <button class=\"colab-df-convert\" onclick=\"convertToInteractive('df-6c2ec6e8-2f89-497a-94ea-bb028aaee0dc')\"\n",
              "              title=\"Convert this dataframe to an interactive table.\"\n",
              "              style=\"display:none;\">\n",
              "        \n",
              "  <svg xmlns=\"http://www.w3.org/2000/svg\" height=\"24px\"viewBox=\"0 0 24 24\"\n",
              "       width=\"24px\">\n",
              "    <path d=\"M0 0h24v24H0V0z\" fill=\"none\"/>\n",
              "    <path d=\"M18.56 5.44l.94 2.06.94-2.06 2.06-.94-2.06-.94-.94-2.06-.94 2.06-2.06.94zm-11 1L8.5 8.5l.94-2.06 2.06-.94-2.06-.94L8.5 2.5l-.94 2.06-2.06.94zm10 10l.94 2.06.94-2.06 2.06-.94-2.06-.94-.94-2.06-.94 2.06-2.06.94z\"/><path d=\"M17.41 7.96l-1.37-1.37c-.4-.4-.92-.59-1.43-.59-.52 0-1.04.2-1.43.59L10.3 9.45l-7.72 7.72c-.78.78-.78 2.05 0 2.83L4 21.41c.39.39.9.59 1.41.59.51 0 1.02-.2 1.41-.59l7.78-7.78 2.81-2.81c.8-.78.8-2.07 0-2.86zM5.41 20L4 18.59l7.72-7.72 1.47 1.35L5.41 20z\"/>\n",
              "  </svg>\n",
              "      </button>\n",
              "      \n",
              "  <style>\n",
              "    .colab-df-container {\n",
              "      display:flex;\n",
              "      flex-wrap:wrap;\n",
              "      gap: 12px;\n",
              "    }\n",
              "\n",
              "    .colab-df-convert {\n",
              "      background-color: #E8F0FE;\n",
              "      border: none;\n",
              "      border-radius: 50%;\n",
              "      cursor: pointer;\n",
              "      display: none;\n",
              "      fill: #1967D2;\n",
              "      height: 32px;\n",
              "      padding: 0 0 0 0;\n",
              "      width: 32px;\n",
              "    }\n",
              "\n",
              "    .colab-df-convert:hover {\n",
              "      background-color: #E2EBFA;\n",
              "      box-shadow: 0px 1px 2px rgba(60, 64, 67, 0.3), 0px 1px 3px 1px rgba(60, 64, 67, 0.15);\n",
              "      fill: #174EA6;\n",
              "    }\n",
              "\n",
              "    [theme=dark] .colab-df-convert {\n",
              "      background-color: #3B4455;\n",
              "      fill: #D2E3FC;\n",
              "    }\n",
              "\n",
              "    [theme=dark] .colab-df-convert:hover {\n",
              "      background-color: #434B5C;\n",
              "      box-shadow: 0px 1px 3px 1px rgba(0, 0, 0, 0.15);\n",
              "      filter: drop-shadow(0px 1px 2px rgba(0, 0, 0, 0.3));\n",
              "      fill: #FFFFFF;\n",
              "    }\n",
              "  </style>\n",
              "\n",
              "      <script>\n",
              "        const buttonEl =\n",
              "          document.querySelector('#df-6c2ec6e8-2f89-497a-94ea-bb028aaee0dc button.colab-df-convert');\n",
              "        buttonEl.style.display =\n",
              "          google.colab.kernel.accessAllowed ? 'block' : 'none';\n",
              "\n",
              "        async function convertToInteractive(key) {\n",
              "          const element = document.querySelector('#df-6c2ec6e8-2f89-497a-94ea-bb028aaee0dc');\n",
              "          const dataTable =\n",
              "            await google.colab.kernel.invokeFunction('convertToInteractive',\n",
              "                                                     [key], {});\n",
              "          if (!dataTable) return;\n",
              "\n",
              "          const docLinkHtml = 'Like what you see? Visit the ' +\n",
              "            '<a target=\"_blank\" href=https://colab.research.google.com/notebooks/data_table.ipynb>data table notebook</a>'\n",
              "            + ' to learn more about interactive tables.';\n",
              "          element.innerHTML = '';\n",
              "          dataTable['output_type'] = 'display_data';\n",
              "          await google.colab.output.renderOutput(dataTable, element);\n",
              "          const docLink = document.createElement('div');\n",
              "          docLink.innerHTML = docLinkHtml;\n",
              "          element.appendChild(docLink);\n",
              "        }\n",
              "      </script>\n",
              "    </div>\n",
              "  </div>\n",
              "  "
            ]
          },
          "metadata": {},
          "execution_count": 56
        }
      ],
      "source": [
        "message_pivot_ultimate = messages_pivot.query('user_id in @plan_ultimate')\n",
        "message_pivot_ultimate.describe()"
      ]
    },
    {
      "cell_type": "code",
      "execution_count": null,
      "metadata": {
        "id": "wv3e3BmdDMHa"
      },
      "outputs": [],
      "source": [
        "surf_message_outliers = bye_outliers(message_pivot_surf,'message_date')\n",
        "ultimate_message_outliers = bye_outliers(message_pivot_ultimate,'message_date')"
      ]
    },
    {
      "cell_type": "code",
      "execution_count": null,
      "metadata": {
        "colab": {
          "base_uri": "https://localhost:8080/",
          "height": 300
        },
        "id": "wC72Rq0zDj_g",
        "outputId": "b4b97bf1-68ac-4ee0-bc06-ac01cdbb118c"
      },
      "outputs": [
        {
          "output_type": "execute_result",
          "data": {
            "text/plain": [
              "       message_date\n",
              "count   1169.000000\n",
              "mean      35.577417\n",
              "std       25.201266\n",
              "min        1.000000\n",
              "25%       15.000000\n",
              "50%       31.000000\n",
              "75%       50.000000\n",
              "max      110.000000"
            ],
            "text/html": [
              "\n",
              "  <div id=\"df-6bf37121-7955-42f0-82d7-00830b18bf0c\">\n",
              "    <div class=\"colab-df-container\">\n",
              "      <div>\n",
              "<style scoped>\n",
              "    .dataframe tbody tr th:only-of-type {\n",
              "        vertical-align: middle;\n",
              "    }\n",
              "\n",
              "    .dataframe tbody tr th {\n",
              "        vertical-align: top;\n",
              "    }\n",
              "\n",
              "    .dataframe thead th {\n",
              "        text-align: right;\n",
              "    }\n",
              "</style>\n",
              "<table border=\"1\" class=\"dataframe\">\n",
              "  <thead>\n",
              "    <tr style=\"text-align: right;\">\n",
              "      <th></th>\n",
              "      <th>message_date</th>\n",
              "    </tr>\n",
              "  </thead>\n",
              "  <tbody>\n",
              "    <tr>\n",
              "      <th>count</th>\n",
              "      <td>1169.000000</td>\n",
              "    </tr>\n",
              "    <tr>\n",
              "      <th>mean</th>\n",
              "      <td>35.577417</td>\n",
              "    </tr>\n",
              "    <tr>\n",
              "      <th>std</th>\n",
              "      <td>25.201266</td>\n",
              "    </tr>\n",
              "    <tr>\n",
              "      <th>min</th>\n",
              "      <td>1.000000</td>\n",
              "    </tr>\n",
              "    <tr>\n",
              "      <th>25%</th>\n",
              "      <td>15.000000</td>\n",
              "    </tr>\n",
              "    <tr>\n",
              "      <th>50%</th>\n",
              "      <td>31.000000</td>\n",
              "    </tr>\n",
              "    <tr>\n",
              "      <th>75%</th>\n",
              "      <td>50.000000</td>\n",
              "    </tr>\n",
              "    <tr>\n",
              "      <th>max</th>\n",
              "      <td>110.000000</td>\n",
              "    </tr>\n",
              "  </tbody>\n",
              "</table>\n",
              "</div>\n",
              "      <button class=\"colab-df-convert\" onclick=\"convertToInteractive('df-6bf37121-7955-42f0-82d7-00830b18bf0c')\"\n",
              "              title=\"Convert this dataframe to an interactive table.\"\n",
              "              style=\"display:none;\">\n",
              "        \n",
              "  <svg xmlns=\"http://www.w3.org/2000/svg\" height=\"24px\"viewBox=\"0 0 24 24\"\n",
              "       width=\"24px\">\n",
              "    <path d=\"M0 0h24v24H0V0z\" fill=\"none\"/>\n",
              "    <path d=\"M18.56 5.44l.94 2.06.94-2.06 2.06-.94-2.06-.94-.94-2.06-.94 2.06-2.06.94zm-11 1L8.5 8.5l.94-2.06 2.06-.94-2.06-.94L8.5 2.5l-.94 2.06-2.06.94zm10 10l.94 2.06.94-2.06 2.06-.94-2.06-.94-.94-2.06-.94 2.06-2.06.94z\"/><path d=\"M17.41 7.96l-1.37-1.37c-.4-.4-.92-.59-1.43-.59-.52 0-1.04.2-1.43.59L10.3 9.45l-7.72 7.72c-.78.78-.78 2.05 0 2.83L4 21.41c.39.39.9.59 1.41.59.51 0 1.02-.2 1.41-.59l7.78-7.78 2.81-2.81c.8-.78.8-2.07 0-2.86zM5.41 20L4 18.59l7.72-7.72 1.47 1.35L5.41 20z\"/>\n",
              "  </svg>\n",
              "      </button>\n",
              "      \n",
              "  <style>\n",
              "    .colab-df-container {\n",
              "      display:flex;\n",
              "      flex-wrap:wrap;\n",
              "      gap: 12px;\n",
              "    }\n",
              "\n",
              "    .colab-df-convert {\n",
              "      background-color: #E8F0FE;\n",
              "      border: none;\n",
              "      border-radius: 50%;\n",
              "      cursor: pointer;\n",
              "      display: none;\n",
              "      fill: #1967D2;\n",
              "      height: 32px;\n",
              "      padding: 0 0 0 0;\n",
              "      width: 32px;\n",
              "    }\n",
              "\n",
              "    .colab-df-convert:hover {\n",
              "      background-color: #E2EBFA;\n",
              "      box-shadow: 0px 1px 2px rgba(60, 64, 67, 0.3), 0px 1px 3px 1px rgba(60, 64, 67, 0.15);\n",
              "      fill: #174EA6;\n",
              "    }\n",
              "\n",
              "    [theme=dark] .colab-df-convert {\n",
              "      background-color: #3B4455;\n",
              "      fill: #D2E3FC;\n",
              "    }\n",
              "\n",
              "    [theme=dark] .colab-df-convert:hover {\n",
              "      background-color: #434B5C;\n",
              "      box-shadow: 0px 1px 3px 1px rgba(0, 0, 0, 0.15);\n",
              "      filter: drop-shadow(0px 1px 2px rgba(0, 0, 0, 0.3));\n",
              "      fill: #FFFFFF;\n",
              "    }\n",
              "  </style>\n",
              "\n",
              "      <script>\n",
              "        const buttonEl =\n",
              "          document.querySelector('#df-6bf37121-7955-42f0-82d7-00830b18bf0c button.colab-df-convert');\n",
              "        buttonEl.style.display =\n",
              "          google.colab.kernel.accessAllowed ? 'block' : 'none';\n",
              "\n",
              "        async function convertToInteractive(key) {\n",
              "          const element = document.querySelector('#df-6bf37121-7955-42f0-82d7-00830b18bf0c');\n",
              "          const dataTable =\n",
              "            await google.colab.kernel.invokeFunction('convertToInteractive',\n",
              "                                                     [key], {});\n",
              "          if (!dataTable) return;\n",
              "\n",
              "          const docLinkHtml = 'Like what you see? Visit the ' +\n",
              "            '<a target=\"_blank\" href=https://colab.research.google.com/notebooks/data_table.ipynb>data table notebook</a>'\n",
              "            + ' to learn more about interactive tables.';\n",
              "          element.innerHTML = '';\n",
              "          dataTable['output_type'] = 'display_data';\n",
              "          await google.colab.output.renderOutput(dataTable, element);\n",
              "          const docLink = document.createElement('div');\n",
              "          docLink.innerHTML = docLinkHtml;\n",
              "          element.appendChild(docLink);\n",
              "        }\n",
              "      </script>\n",
              "    </div>\n",
              "  </div>\n",
              "  "
            ]
          },
          "metadata": {},
          "execution_count": 58
        }
      ],
      "source": [
        "message_pivot_surf_filtered = (\n",
        "    message_pivot_surf.query('message_date < @surf_message_outliers[1] & message_date > @surf_message_outliers[0]')\n",
        ")\n",
        "message_pivot_surf_filtered.describe()"
      ]
    },
    {
      "cell_type": "code",
      "execution_count": null,
      "metadata": {
        "colab": {
          "base_uri": "https://localhost:8080/",
          "height": 300
        },
        "id": "vOEpgtd5Do-D",
        "outputId": "77b5b3d6-6075-4c0c-ba78-80a1b8eba4a3"
      },
      "outputs": [
        {
          "output_type": "execute_result",
          "data": {
            "text/plain": [
              "       message_date\n",
              "count    572.000000\n",
              "mean      44.138112\n",
              "std       29.661904\n",
              "min        1.000000\n",
              "25%       20.000000\n",
              "50%       39.500000\n",
              "75%       65.000000\n",
              "max      131.000000"
            ],
            "text/html": [
              "\n",
              "  <div id=\"df-62fa62c0-4768-47d7-92f0-5d04d00831a0\">\n",
              "    <div class=\"colab-df-container\">\n",
              "      <div>\n",
              "<style scoped>\n",
              "    .dataframe tbody tr th:only-of-type {\n",
              "        vertical-align: middle;\n",
              "    }\n",
              "\n",
              "    .dataframe tbody tr th {\n",
              "        vertical-align: top;\n",
              "    }\n",
              "\n",
              "    .dataframe thead th {\n",
              "        text-align: right;\n",
              "    }\n",
              "</style>\n",
              "<table border=\"1\" class=\"dataframe\">\n",
              "  <thead>\n",
              "    <tr style=\"text-align: right;\">\n",
              "      <th></th>\n",
              "      <th>message_date</th>\n",
              "    </tr>\n",
              "  </thead>\n",
              "  <tbody>\n",
              "    <tr>\n",
              "      <th>count</th>\n",
              "      <td>572.000000</td>\n",
              "    </tr>\n",
              "    <tr>\n",
              "      <th>mean</th>\n",
              "      <td>44.138112</td>\n",
              "    </tr>\n",
              "    <tr>\n",
              "      <th>std</th>\n",
              "      <td>29.661904</td>\n",
              "    </tr>\n",
              "    <tr>\n",
              "      <th>min</th>\n",
              "      <td>1.000000</td>\n",
              "    </tr>\n",
              "    <tr>\n",
              "      <th>25%</th>\n",
              "      <td>20.000000</td>\n",
              "    </tr>\n",
              "    <tr>\n",
              "      <th>50%</th>\n",
              "      <td>39.500000</td>\n",
              "    </tr>\n",
              "    <tr>\n",
              "      <th>75%</th>\n",
              "      <td>65.000000</td>\n",
              "    </tr>\n",
              "    <tr>\n",
              "      <th>max</th>\n",
              "      <td>131.000000</td>\n",
              "    </tr>\n",
              "  </tbody>\n",
              "</table>\n",
              "</div>\n",
              "      <button class=\"colab-df-convert\" onclick=\"convertToInteractive('df-62fa62c0-4768-47d7-92f0-5d04d00831a0')\"\n",
              "              title=\"Convert this dataframe to an interactive table.\"\n",
              "              style=\"display:none;\">\n",
              "        \n",
              "  <svg xmlns=\"http://www.w3.org/2000/svg\" height=\"24px\"viewBox=\"0 0 24 24\"\n",
              "       width=\"24px\">\n",
              "    <path d=\"M0 0h24v24H0V0z\" fill=\"none\"/>\n",
              "    <path d=\"M18.56 5.44l.94 2.06.94-2.06 2.06-.94-2.06-.94-.94-2.06-.94 2.06-2.06.94zm-11 1L8.5 8.5l.94-2.06 2.06-.94-2.06-.94L8.5 2.5l-.94 2.06-2.06.94zm10 10l.94 2.06.94-2.06 2.06-.94-2.06-.94-.94-2.06-.94 2.06-2.06.94z\"/><path d=\"M17.41 7.96l-1.37-1.37c-.4-.4-.92-.59-1.43-.59-.52 0-1.04.2-1.43.59L10.3 9.45l-7.72 7.72c-.78.78-.78 2.05 0 2.83L4 21.41c.39.39.9.59 1.41.59.51 0 1.02-.2 1.41-.59l7.78-7.78 2.81-2.81c.8-.78.8-2.07 0-2.86zM5.41 20L4 18.59l7.72-7.72 1.47 1.35L5.41 20z\"/>\n",
              "  </svg>\n",
              "      </button>\n",
              "      \n",
              "  <style>\n",
              "    .colab-df-container {\n",
              "      display:flex;\n",
              "      flex-wrap:wrap;\n",
              "      gap: 12px;\n",
              "    }\n",
              "\n",
              "    .colab-df-convert {\n",
              "      background-color: #E8F0FE;\n",
              "      border: none;\n",
              "      border-radius: 50%;\n",
              "      cursor: pointer;\n",
              "      display: none;\n",
              "      fill: #1967D2;\n",
              "      height: 32px;\n",
              "      padding: 0 0 0 0;\n",
              "      width: 32px;\n",
              "    }\n",
              "\n",
              "    .colab-df-convert:hover {\n",
              "      background-color: #E2EBFA;\n",
              "      box-shadow: 0px 1px 2px rgba(60, 64, 67, 0.3), 0px 1px 3px 1px rgba(60, 64, 67, 0.15);\n",
              "      fill: #174EA6;\n",
              "    }\n",
              "\n",
              "    [theme=dark] .colab-df-convert {\n",
              "      background-color: #3B4455;\n",
              "      fill: #D2E3FC;\n",
              "    }\n",
              "\n",
              "    [theme=dark] .colab-df-convert:hover {\n",
              "      background-color: #434B5C;\n",
              "      box-shadow: 0px 1px 3px 1px rgba(0, 0, 0, 0.15);\n",
              "      filter: drop-shadow(0px 1px 2px rgba(0, 0, 0, 0.3));\n",
              "      fill: #FFFFFF;\n",
              "    }\n",
              "  </style>\n",
              "\n",
              "      <script>\n",
              "        const buttonEl =\n",
              "          document.querySelector('#df-62fa62c0-4768-47d7-92f0-5d04d00831a0 button.colab-df-convert');\n",
              "        buttonEl.style.display =\n",
              "          google.colab.kernel.accessAllowed ? 'block' : 'none';\n",
              "\n",
              "        async function convertToInteractive(key) {\n",
              "          const element = document.querySelector('#df-62fa62c0-4768-47d7-92f0-5d04d00831a0');\n",
              "          const dataTable =\n",
              "            await google.colab.kernel.invokeFunction('convertToInteractive',\n",
              "                                                     [key], {});\n",
              "          if (!dataTable) return;\n",
              "\n",
              "          const docLinkHtml = 'Like what you see? Visit the ' +\n",
              "            '<a target=\"_blank\" href=https://colab.research.google.com/notebooks/data_table.ipynb>data table notebook</a>'\n",
              "            + ' to learn more about interactive tables.';\n",
              "          element.innerHTML = '';\n",
              "          dataTable['output_type'] = 'display_data';\n",
              "          await google.colab.output.renderOutput(dataTable, element);\n",
              "          const docLink = document.createElement('div');\n",
              "          docLink.innerHTML = docLinkHtml;\n",
              "          element.appendChild(docLink);\n",
              "        }\n",
              "      </script>\n",
              "    </div>\n",
              "  </div>\n",
              "  "
            ]
          },
          "metadata": {},
          "execution_count": 59
        }
      ],
      "source": [
        "message_pivot_ultimate_filtered = (\n",
        "    message_pivot_ultimate.query('message_date < @ultimate_message_outliers[1] & message_date > @ultimate_message_outliers[0]')\n",
        ")\n",
        "message_pivot_ultimate_filtered.describe()"
      ]
    },
    {
      "cell_type": "code",
      "execution_count": null,
      "metadata": {
        "colab": {
          "base_uri": "https://localhost:8080/",
          "height": 298
        },
        "id": "ogRRf5b5EoFH",
        "outputId": "e37ce003-dc13-4fed-cfd9-e63d5cba675b"
      },
      "outputs": [
        {
          "output_type": "execute_result",
          "data": {
            "text/plain": [
              "<matplotlib.axes._subplots.AxesSubplot at 0x7fade3ec5210>"
            ]
          },
          "metadata": {},
          "execution_count": 60
        },
        {
          "output_type": "display_data",
          "data": {
            "text/plain": [
              "<Figure size 1080x288 with 1 Axes>"
            ],
            "image/png": "[encoded data removed]"
          },
          "metadata": {
            "needs_background": "light"
          }
        }
      ],
      "source": [
        "message_pivot_surf_filtered['message_date'].plot(\n",
        "    kind     = 'hist'\n",
        "    ,title   = 'Cantidad de mensajes enviados para Surfers'\n",
        "    ,figsize = (15, 4)\n",
        " )"
      ]
    },
    {
      "cell_type": "code",
      "execution_count": null,
      "metadata": {
        "colab": {
          "base_uri": "https://localhost:8080/",
          "height": 298
        },
        "id": "IK8a1YFiEqCO",
        "outputId": "2ae0bdca-047c-4424-e44b-a473d843a52b"
      },
      "outputs": [
        {
          "output_type": "execute_result",
          "data": {
            "text/plain": [
              "<matplotlib.axes._subplots.AxesSubplot at 0x7fade3e2cf90>"
            ]
          },
          "metadata": {},
          "execution_count": 61
        },
        {
          "output_type": "display_data",
          "data": {
            "text/plain": [
              "<Figure size 1080x288 with 1 Axes>"
            ],
            "image/png": "[encoded data removed]"
          },
          "metadata": {
            "needs_background": "light"
          }
        }
      ],
      "source": [
        "message_pivot_ultimate_filtered['message_date'].plot(\n",
        "    kind     = 'hist'\n",
        "    ,title   = 'Cantidad de mensajes enviados para Ultimaters'\n",
        "    ,figsize = (15, 4)\n",
        " )"
      ]
    },
    {
      "cell_type": "markdown",
      "metadata": {
        "id": "DfjEdORSB6oX"
      },
      "source": [
        "En ambos grupos de plan tarifario podemos observar una distribución hacia la derecha. Podemos observar que la mayoría de los usuarios se encuentran dentro de un rango de 1 a 50 mensajes enviados por mes (del plan Surf). En el plan Ultimate el rango de mensajes enviados en el que se encuentra la mayoría de los usuarios es similar (1-65). Son los menos los que envían más de 65 mensajes (en el grupo de usuarios del plan Ultimate), se puede ver marcado en el histograma la diferencia. La cantidad de usuarios en el pla Surf podría ser la que hace que no se note tan marcada la diferencia después del tercer cuartil."
      ]
    },
    {
      "cell_type": "markdown",
      "metadata": {
        "id": "oPAp6kUsEd7g"
      },
      "source": [
        "## Histograma de la distribución de `internet` de acuerdo con los gb utilizados por plan."
      ]
    },
    {
      "cell_type": "code",
      "execution_count": null,
      "metadata": {
        "colab": {
          "base_uri": "https://localhost:8080/"
        },
        "id": "urztcinUEwJF",
        "outputId": "3771d2dc-868d-451c-fa95-ce42561e1630"
      },
      "outputs": [
        {
          "output_type": "execute_result",
          "data": {
            "text/plain": [
              "           gb_used       mb_used\n",
              "count  1558.000000   1558.000000\n",
              "mean     16.831194  16717.702137\n",
              "std       7.711922   7884.682983\n",
              "min       1.000000     92.310000\n",
              "25%      12.000000  12187.955000\n",
              "50%      17.000000  16923.830000\n",
              "75%      21.000000  21039.860000\n",
              "max      70.000000  70931.590000"
            ],
            "text/html": [
              "\n",
              "  <div id=\"df-1a9a64ad-c312-46cf-80c2-5ca6d50efe6e\">\n",
              "    <div class=\"colab-df-container\">\n",
              "      <div>\n",
              "<style scoped>\n",
              "    .dataframe tbody tr th:only-of-type {\n",
              "        vertical-align: middle;\n",
              "    }\n",
              "\n",
              "    .dataframe tbody tr th {\n",
              "        vertical-align: top;\n",
              "    }\n",
              "\n",
              "    .dataframe thead th {\n",
              "        text-align: right;\n",
              "    }\n",
              "</style>\n",
              "<table border=\"1\" class=\"dataframe\">\n",
              "  <thead>\n",
              "    <tr style=\"text-align: right;\">\n",
              "      <th></th>\n",
              "      <th>gb_used</th>\n",
              "      <th>mb_used</th>\n",
              "    </tr>\n",
              "  </thead>\n",
              "  <tbody>\n",
              "    <tr>\n",
              "      <th>count</th>\n",
              "      <td>1558.000000</td>\n",
              "      <td>1558.000000</td>\n",
              "    </tr>\n",
              "    <tr>\n",
              "      <th>mean</th>\n",
              "      <td>16.831194</td>\n",
              "      <td>16717.702137</td>\n",
              "    </tr>\n",
              "    <tr>\n",
              "      <th>std</th>\n",
              "      <td>7.711922</td>\n",
              "      <td>7884.682983</td>\n",
              "    </tr>\n",
              "    <tr>\n",
              "      <th>min</th>\n",
              "      <td>1.000000</td>\n",
              "      <td>92.310000</td>\n",
              "    </tr>\n",
              "    <tr>\n",
              "      <th>25%</th>\n",
              "      <td>12.000000</td>\n",
              "      <td>12187.955000</td>\n",
              "    </tr>\n",
              "    <tr>\n",
              "      <th>50%</th>\n",
              "      <td>17.000000</td>\n",
              "      <td>16923.830000</td>\n",
              "    </tr>\n",
              "    <tr>\n",
              "      <th>75%</th>\n",
              "      <td>21.000000</td>\n",
              "      <td>21039.860000</td>\n",
              "    </tr>\n",
              "    <tr>\n",
              "      <th>max</th>\n",
              "      <td>70.000000</td>\n",
              "      <td>70931.590000</td>\n",
              "    </tr>\n",
              "  </tbody>\n",
              "</table>\n",
              "</div>\n",
              "      <button class=\"colab-df-convert\" onclick=\"convertToInteractive('df-1a9a64ad-c312-46cf-80c2-5ca6d50efe6e')\"\n",
              "              title=\"Convert this dataframe to an interactive table.\"\n",
              "              style=\"display:none;\">\n",
              "        \n",
              "  <svg xmlns=\"http://www.w3.org/2000/svg\" height=\"24px\"viewBox=\"0 0 24 24\"\n",
              "       width=\"24px\">\n",
              "    <path d=\"M0 0h24v24H0V0z\" fill=\"none\"/>\n",
              "    <path d=\"M18.56 5.44l.94 2.06.94-2.06 2.06-.94-2.06-.94-.94-2.06-.94 2.06-2.06.94zm-11 1L8.5 8.5l.94-2.06 2.06-.94-2.06-.94L8.5 2.5l-.94 2.06-2.06.94zm10 10l.94 2.06.94-2.06 2.06-.94-2.06-.94-.94-2.06-.94 2.06-2.06.94z\"/><path d=\"M17.41 7.96l-1.37-1.37c-.4-.4-.92-.59-1.43-.59-.52 0-1.04.2-1.43.59L10.3 9.45l-7.72 7.72c-.78.78-.78 2.05 0 2.83L4 21.41c.39.39.9.59 1.41.59.51 0 1.02-.2 1.41-.59l7.78-7.78 2.81-2.81c.8-.78.8-2.07 0-2.86zM5.41 20L4 18.59l7.72-7.72 1.47 1.35L5.41 20z\"/>\n",
              "  </svg>\n",
              "      </button>\n",
              "      \n",
              "  <style>\n",
              "    .colab-df-container {\n",
              "      display:flex;\n",
              "      flex-wrap:wrap;\n",
              "      gap: 12px;\n",
              "    }\n",
              "\n",
              "    .colab-df-convert {\n",
              "      background-color: #E8F0FE;\n",
              "      border: none;\n",
              "      border-radius: 50%;\n",
              "      cursor: pointer;\n",
              "      display: none;\n",
              "      fill: #1967D2;\n",
              "      height: 32px;\n",
              "      padding: 0 0 0 0;\n",
              "      width: 32px;\n",
              "    }\n",
              "\n",
              "    .colab-df-convert:hover {\n",
              "      background-color: #E2EBFA;\n",
              "      box-shadow: 0px 1px 2px rgba(60, 64, 67, 0.3), 0px 1px 3px 1px rgba(60, 64, 67, 0.15);\n",
              "      fill: #174EA6;\n",
              "    }\n",
              "\n",
              "    [theme=dark] .colab-df-convert {\n",
              "      background-color: #3B4455;\n",
              "      fill: #D2E3FC;\n",
              "    }\n",
              "\n",
              "    [theme=dark] .colab-df-convert:hover {\n",
              "      background-color: #434B5C;\n",
              "      box-shadow: 0px 1px 3px 1px rgba(0, 0, 0, 0.15);\n",
              "      filter: drop-shadow(0px 1px 2px rgba(0, 0, 0, 0.3));\n",
              "      fill: #FFFFFF;\n",
              "    }\n",
              "  </style>\n",
              "\n",
              "      <script>\n",
              "        const buttonEl =\n",
              "          document.querySelector('#df-1a9a64ad-c312-46cf-80c2-5ca6d50efe6e button.colab-df-convert');\n",
              "        buttonEl.style.display =\n",
              "          google.colab.kernel.accessAllowed ? 'block' : 'none';\n",
              "\n",
              "        async function convertToInteractive(key) {\n",
              "          const element = document.querySelector('#df-1a9a64ad-c312-46cf-80c2-5ca6d50efe6e');\n",
              "          const dataTable =\n",
              "            await google.colab.kernel.invokeFunction('convertToInteractive',\n",
              "                                                     [key], {});\n",
              "          if (!dataTable) return;\n",
              "\n",
              "          const docLinkHtml = 'Like what you see? Visit the ' +\n",
              "            '<a target=\"_blank\" href=https://colab.research.google.com/notebooks/data_table.ipynb>data table notebook</a>'\n",
              "            + ' to learn more about interactive tables.';\n",
              "          element.innerHTML = '';\n",
              "          dataTable['output_type'] = 'display_data';\n",
              "          await google.colab.output.renderOutput(dataTable, element);\n",
              "          const docLink = document.createElement('div');\n",
              "          docLink.innerHTML = docLinkHtml;\n",
              "          element.appendChild(docLink);\n",
              "        }\n",
              "      </script>\n",
              "    </div>\n",
              "  </div>\n",
              "  "
            ]
          },
          "metadata": {},
          "execution_count": 62
        }
      ],
      "source": [
        "internet_pivot_surf = internet_usage.query('user_id in @plan_surf')\n",
        "internet_pivot_surf.describe()"
      ]
    },
    {
      "cell_type": "markdown",
      "metadata": {
        "id": "PTtp_nBdOY5q"
      },
      "source": [
        "<div class=\"alert alert-block alert-danger\">\n",
        "\n",
        "<b>A resolver</b> <a class=\"tocSkip\"></a>\n",
        "\n",
        "~~Como ya te comenté arriba, tienes errorcitos en tu dataframe de internet_usage y por eso lo que obtienes en esta sección es incorrecto~~\n",
        "</div>"
      ]
    },
    {
      "cell_type": "code",
      "execution_count": null,
      "metadata": {
        "colab": {
          "base_uri": "https://localhost:8080/"
        },
        "id": "1X3tgryKFEM0",
        "outputId": "3982a8d2-1cd9-40b0-ecfc-00ae020647ac"
      },
      "outputs": [
        {
          "output_type": "execute_result",
          "data": {
            "text/plain": [
              "          gb_used       mb_used\n",
              "count  719.000000    719.000000\n",
              "mean    17.331015  17238.642253\n",
              "std      7.648185   7831.018323\n",
              "min      1.000000    233.170000\n",
              "25%     13.000000  12671.130000\n",
              "50%     17.000000  16863.450000\n",
              "75%     21.000000  21025.155000\n",
              "max     46.000000  46595.330000"
            ],
            "text/html": [
              "\n",
              "  <div id=\"df-dff7bed0-db27-4025-bfb1-10ba2c024a61\">\n",
              "    <div class=\"colab-df-container\">\n",
              "      <div>\n",
              "<style scoped>\n",
              "    .dataframe tbody tr th:only-of-type {\n",
              "        vertical-align: middle;\n",
              "    }\n",
              "\n",
              "    .dataframe tbody tr th {\n",
              "        vertical-align: top;\n",
              "    }\n",
              "\n",
              "    .dataframe thead th {\n",
              "        text-align: right;\n",
              "    }\n",
              "</style>\n",
              "<table border=\"1\" class=\"dataframe\">\n",
              "  <thead>\n",
              "    <tr style=\"text-align: right;\">\n",
              "      <th></th>\n",
              "      <th>gb_used</th>\n",
              "      <th>mb_used</th>\n",
              "    </tr>\n",
              "  </thead>\n",
              "  <tbody>\n",
              "    <tr>\n",
              "      <th>count</th>\n",
              "      <td>719.000000</td>\n",
              "      <td>719.000000</td>\n",
              "    </tr>\n",
              "    <tr>\n",
              "      <th>mean</th>\n",
              "      <td>17.331015</td>\n",
              "      <td>17238.642253</td>\n",
              "    </tr>\n",
              "    <tr>\n",
              "      <th>std</th>\n",
              "      <td>7.648185</td>\n",
              "      <td>7831.018323</td>\n",
              "    </tr>\n",
              "    <tr>\n",
              "      <th>min</th>\n",
              "      <td>1.000000</td>\n",
              "      <td>233.170000</td>\n",
              "    </tr>\n",
              "    <tr>\n",
              "      <th>25%</th>\n",
              "      <td>13.000000</td>\n",
              "      <td>12671.130000</td>\n",
              "    </tr>\n",
              "    <tr>\n",
              "      <th>50%</th>\n",
              "      <td>17.000000</td>\n",
              "      <td>16863.450000</td>\n",
              "    </tr>\n",
              "    <tr>\n",
              "      <th>75%</th>\n",
              "      <td>21.000000</td>\n",
              "      <td>21025.155000</td>\n",
              "    </tr>\n",
              "    <tr>\n",
              "      <th>max</th>\n",
              "      <td>46.000000</td>\n",
              "      <td>46595.330000</td>\n",
              "    </tr>\n",
              "  </tbody>\n",
              "</table>\n",
              "</div>\n",
              "      <button class=\"colab-df-convert\" onclick=\"convertToInteractive('df-dff7bed0-db27-4025-bfb1-10ba2c024a61')\"\n",
              "              title=\"Convert this dataframe to an interactive table.\"\n",
              "              style=\"display:none;\">\n",
              "        \n",
              "  <svg xmlns=\"http://www.w3.org/2000/svg\" height=\"24px\"viewBox=\"0 0 24 24\"\n",
              "       width=\"24px\">\n",
              "    <path d=\"M0 0h24v24H0V0z\" fill=\"none\"/>\n",
              "    <path d=\"M18.56 5.44l.94 2.06.94-2.06 2.06-.94-2.06-.94-.94-2.06-.94 2.06-2.06.94zm-11 1L8.5 8.5l.94-2.06 2.06-.94-2.06-.94L8.5 2.5l-.94 2.06-2.06.94zm10 10l.94 2.06.94-2.06 2.06-.94-2.06-.94-.94-2.06-.94 2.06-2.06.94z\"/><path d=\"M17.41 7.96l-1.37-1.37c-.4-.4-.92-.59-1.43-.59-.52 0-1.04.2-1.43.59L10.3 9.45l-7.72 7.72c-.78.78-.78 2.05 0 2.83L4 21.41c.39.39.9.59 1.41.59.51 0 1.02-.2 1.41-.59l7.78-7.78 2.81-2.81c.8-.78.8-2.07 0-2.86zM5.41 20L4 18.59l7.72-7.72 1.47 1.35L5.41 20z\"/>\n",
              "  </svg>\n",
              "      </button>\n",
              "      \n",
              "  <style>\n",
              "    .colab-df-container {\n",
              "      display:flex;\n",
              "      flex-wrap:wrap;\n",
              "      gap: 12px;\n",
              "    }\n",
              "\n",
              "    .colab-df-convert {\n",
              "      background-color: #E8F0FE;\n",
              "      border: none;\n",
              "      border-radius: 50%;\n",
              "      cursor: pointer;\n",
              "      display: none;\n",
              "      fill: #1967D2;\n",
              "      height: 32px;\n",
              "      padding: 0 0 0 0;\n",
              "      width: 32px;\n",
              "    }\n",
              "\n",
              "    .colab-df-convert:hover {\n",
              "      background-color: #E2EBFA;\n",
              "      box-shadow: 0px 1px 2px rgba(60, 64, 67, 0.3), 0px 1px 3px 1px rgba(60, 64, 67, 0.15);\n",
              "      fill: #174EA6;\n",
              "    }\n",
              "\n",
              "    [theme=dark] .colab-df-convert {\n",
              "      background-color: #3B4455;\n",
              "      fill: #D2E3FC;\n",
              "    }\n",
              "\n",
              "    [theme=dark] .colab-df-convert:hover {\n",
              "      background-color: #434B5C;\n",
              "      box-shadow: 0px 1px 3px 1px rgba(0, 0, 0, 0.15);\n",
              "      filter: drop-shadow(0px 1px 2px rgba(0, 0, 0, 0.3));\n",
              "      fill: #FFFFFF;\n",
              "    }\n",
              "  </style>\n",
              "\n",
              "      <script>\n",
              "        const buttonEl =\n",
              "          document.querySelector('#df-dff7bed0-db27-4025-bfb1-10ba2c024a61 button.colab-df-convert');\n",
              "        buttonEl.style.display =\n",
              "          google.colab.kernel.accessAllowed ? 'block' : 'none';\n",
              "\n",
              "        async function convertToInteractive(key) {\n",
              "          const element = document.querySelector('#df-dff7bed0-db27-4025-bfb1-10ba2c024a61');\n",
              "          const dataTable =\n",
              "            await google.colab.kernel.invokeFunction('convertToInteractive',\n",
              "                                                     [key], {});\n",
              "          if (!dataTable) return;\n",
              "\n",
              "          const docLinkHtml = 'Like what you see? Visit the ' +\n",
              "            '<a target=\"_blank\" href=https://colab.research.google.com/notebooks/data_table.ipynb>data table notebook</a>'\n",
              "            + ' to learn more about interactive tables.';\n",
              "          element.innerHTML = '';\n",
              "          dataTable['output_type'] = 'display_data';\n",
              "          await google.colab.output.renderOutput(dataTable, element);\n",
              "          const docLink = document.createElement('div');\n",
              "          docLink.innerHTML = docLinkHtml;\n",
              "          element.appendChild(docLink);\n",
              "        }\n",
              "      </script>\n",
              "    </div>\n",
              "  </div>\n",
              "  "
            ]
          },
          "metadata": {},
          "execution_count": 63
        }
      ],
      "source": [
        "internet_pivot_ultimate = internet_usage.query('user_id in @plan_ultimate')\n",
        "internet_pivot_ultimate.describe()"
      ]
    },
    {
      "cell_type": "code",
      "execution_count": null,
      "metadata": {
        "id": "Fvlx2asRGpAV"
      },
      "outputs": [],
      "source": [
        "surf_internet_outliers = bye_outliers(internet_pivot_surf,'gb_used')\n",
        "ultimate_internet_outliers = bye_outliers(internet_pivot_ultimate,'gb_used')"
      ]
    },
    {
      "cell_type": "code",
      "execution_count": null,
      "metadata": {
        "colab": {
          "base_uri": "https://localhost:8080/"
        },
        "id": "5U2-n_DyGzAp",
        "outputId": "c645a79c-276d-4a34-aedd-8c82616e7dd3"
      },
      "outputs": [
        {
          "output_type": "execute_result",
          "data": {
            "text/plain": [
              "           gb_used       mb_used\n",
              "count  1524.000000   1524.000000\n",
              "mean     16.299869  16173.483524\n",
              "std       6.810442   6959.232750\n",
              "min       1.000000     92.310000\n",
              "25%      12.000000  12040.765000\n",
              "50%      17.000000  16743.835000\n",
              "75%      21.000000  20753.340000\n",
              "max      34.000000  34750.430000"
            ],
            "text/html": [
              "\n",
              "  <div id=\"df-c46a7775-8776-4fd8-a11e-8d4a8ef691d9\">\n",
              "    <div class=\"colab-df-container\">\n",
              "      <div>\n",
              "<style scoped>\n",
              "    .dataframe tbody tr th:only-of-type {\n",
              "        vertical-align: middle;\n",
              "    }\n",
              "\n",
              "    .dataframe tbody tr th {\n",
              "        vertical-align: top;\n",
              "    }\n",
              "\n",
              "    .dataframe thead th {\n",
              "        text-align: right;\n",
              "    }\n",
              "</style>\n",
              "<table border=\"1\" class=\"dataframe\">\n",
              "  <thead>\n",
              "    <tr style=\"text-align: right;\">\n",
              "      <th></th>\n",
              "      <th>gb_used</th>\n",
              "      <th>mb_used</th>\n",
              "    </tr>\n",
              "  </thead>\n",
              "  <tbody>\n",
              "    <tr>\n",
              "      <th>count</th>\n",
              "      <td>1524.000000</td>\n",
              "      <td>1524.000000</td>\n",
              "    </tr>\n",
              "    <tr>\n",
              "      <th>mean</th>\n",
              "      <td>16.299869</td>\n",
              "      <td>16173.483524</td>\n",
              "    </tr>\n",
              "    <tr>\n",
              "      <th>std</th>\n",
              "      <td>6.810442</td>\n",
              "      <td>6959.232750</td>\n",
              "    </tr>\n",
              "    <tr>\n",
              "      <th>min</th>\n",
              "      <td>1.000000</td>\n",
              "      <td>92.310000</td>\n",
              "    </tr>\n",
              "    <tr>\n",
              "      <th>25%</th>\n",
              "      <td>12.000000</td>\n",
              "      <td>12040.765000</td>\n",
              "    </tr>\n",
              "    <tr>\n",
              "      <th>50%</th>\n",
              "      <td>17.000000</td>\n",
              "      <td>16743.835000</td>\n",
              "    </tr>\n",
              "    <tr>\n",
              "      <th>75%</th>\n",
              "      <td>21.000000</td>\n",
              "      <td>20753.340000</td>\n",
              "    </tr>\n",
              "    <tr>\n",
              "      <th>max</th>\n",
              "      <td>34.000000</td>\n",
              "      <td>34750.430000</td>\n",
              "    </tr>\n",
              "  </tbody>\n",
              "</table>\n",
              "</div>\n",
              "      <button class=\"colab-df-convert\" onclick=\"convertToInteractive('df-c46a7775-8776-4fd8-a11e-8d4a8ef691d9')\"\n",
              "              title=\"Convert this dataframe to an interactive table.\"\n",
              "              style=\"display:none;\">\n",
              "        \n",
              "  <svg xmlns=\"http://www.w3.org/2000/svg\" height=\"24px\"viewBox=\"0 0 24 24\"\n",
              "       width=\"24px\">\n",
              "    <path d=\"M0 0h24v24H0V0z\" fill=\"none\"/>\n",
              "    <path d=\"M18.56 5.44l.94 2.06.94-2.06 2.06-.94-2.06-.94-.94-2.06-.94 2.06-2.06.94zm-11 1L8.5 8.5l.94-2.06 2.06-.94-2.06-.94L8.5 2.5l-.94 2.06-2.06.94zm10 10l.94 2.06.94-2.06 2.06-.94-2.06-.94-.94-2.06-.94 2.06-2.06.94z\"/><path d=\"M17.41 7.96l-1.37-1.37c-.4-.4-.92-.59-1.43-.59-.52 0-1.04.2-1.43.59L10.3 9.45l-7.72 7.72c-.78.78-.78 2.05 0 2.83L4 21.41c.39.39.9.59 1.41.59.51 0 1.02-.2 1.41-.59l7.78-7.78 2.81-2.81c.8-.78.8-2.07 0-2.86zM5.41 20L4 18.59l7.72-7.72 1.47 1.35L5.41 20z\"/>\n",
              "  </svg>\n",
              "      </button>\n",
              "      \n",
              "  <style>\n",
              "    .colab-df-container {\n",
              "      display:flex;\n",
              "      flex-wrap:wrap;\n",
              "      gap: 12px;\n",
              "    }\n",
              "\n",
              "    .colab-df-convert {\n",
              "      background-color: #E8F0FE;\n",
              "      border: none;\n",
              "      border-radius: 50%;\n",
              "      cursor: pointer;\n",
              "      display: none;\n",
              "      fill: #1967D2;\n",
              "      height: 32px;\n",
              "      padding: 0 0 0 0;\n",
              "      width: 32px;\n",
              "    }\n",
              "\n",
              "    .colab-df-convert:hover {\n",
              "      background-color: #E2EBFA;\n",
              "      box-shadow: 0px 1px 2px rgba(60, 64, 67, 0.3), 0px 1px 3px 1px rgba(60, 64, 67, 0.15);\n",
              "      fill: #174EA6;\n",
              "    }\n",
              "\n",
              "    [theme=dark] .colab-df-convert {\n",
              "      background-color: #3B4455;\n",
              "      fill: #D2E3FC;\n",
              "    }\n",
              "\n",
              "    [theme=dark] .colab-df-convert:hover {\n",
              "      background-color: #434B5C;\n",
              "      box-shadow: 0px 1px 3px 1px rgba(0, 0, 0, 0.15);\n",
              "      filter: drop-shadow(0px 1px 2px rgba(0, 0, 0, 0.3));\n",
              "      fill: #FFFFFF;\n",
              "    }\n",
              "  </style>\n",
              "\n",
              "      <script>\n",
              "        const buttonEl =\n",
              "          document.querySelector('#df-c46a7775-8776-4fd8-a11e-8d4a8ef691d9 button.colab-df-convert');\n",
              "        buttonEl.style.display =\n",
              "          google.colab.kernel.accessAllowed ? 'block' : 'none';\n",
              "\n",
              "        async function convertToInteractive(key) {\n",
              "          const element = document.querySelector('#df-c46a7775-8776-4fd8-a11e-8d4a8ef691d9');\n",
              "          const dataTable =\n",
              "            await google.colab.kernel.invokeFunction('convertToInteractive',\n",
              "                                                     [key], {});\n",
              "          if (!dataTable) return;\n",
              "\n",
              "          const docLinkHtml = 'Like what you see? Visit the ' +\n",
              "            '<a target=\"_blank\" href=https://colab.research.google.com/notebooks/data_table.ipynb>data table notebook</a>'\n",
              "            + ' to learn more about interactive tables.';\n",
              "          element.innerHTML = '';\n",
              "          dataTable['output_type'] = 'display_data';\n",
              "          await google.colab.output.renderOutput(dataTable, element);\n",
              "          const docLink = document.createElement('div');\n",
              "          docLink.innerHTML = docLinkHtml;\n",
              "          element.appendChild(docLink);\n",
              "        }\n",
              "      </script>\n",
              "    </div>\n",
              "  </div>\n",
              "  "
            ]
          },
          "metadata": {},
          "execution_count": 65
        }
      ],
      "source": [
        "internet_pivot_surf_filtered = (\n",
        "    internet_pivot_surf.query('gb_used < @surf_internet_outliers[1] & gb_used > @surf_internet_outliers[0]')\n",
        ")\n",
        "internet_pivot_surf_filtered.describe()"
      ]
    },
    {
      "cell_type": "code",
      "execution_count": null,
      "metadata": {
        "colab": {
          "base_uri": "https://localhost:8080/"
        },
        "id": "VCgOgtu5G3ph",
        "outputId": "778473a8-a7ad-4f76-a8f6-c661518012e9"
      },
      "outputs": [
        {
          "output_type": "execute_result",
          "data": {
            "text/plain": [
              "          gb_used       mb_used\n",
              "count  681.000000    681.000000\n",
              "mean    16.549192  16437.460323\n",
              "std      6.322532   6471.036499\n",
              "min      2.000000   1031.010000\n",
              "25%     13.000000  12622.110000\n",
              "50%     17.000000  16490.950000\n",
              "75%     20.000000  20376.970000\n",
              "max     32.000000  32619.760000"
            ],
            "text/html": [
              "\n",
              "  <div id=\"df-dab18de0-80ae-462b-b999-3337b1808339\">\n",
              "    <div class=\"colab-df-container\">\n",
              "      <div>\n",
              "<style scoped>\n",
              "    .dataframe tbody tr th:only-of-type {\n",
              "        vertical-align: middle;\n",
              "    }\n",
              "\n",
              "    .dataframe tbody tr th {\n",
              "        vertical-align: top;\n",
              "    }\n",
              "\n",
              "    .dataframe thead th {\n",
              "        text-align: right;\n",
              "    }\n",
              "</style>\n",
              "<table border=\"1\" class=\"dataframe\">\n",
              "  <thead>\n",
              "    <tr style=\"text-align: right;\">\n",
              "      <th></th>\n",
              "      <th>gb_used</th>\n",
              "      <th>mb_used</th>\n",
              "    </tr>\n",
              "  </thead>\n",
              "  <tbody>\n",
              "    <tr>\n",
              "      <th>count</th>\n",
              "      <td>681.000000</td>\n",
              "      <td>681.000000</td>\n",
              "    </tr>\n",
              "    <tr>\n",
              "      <th>mean</th>\n",
              "      <td>16.549192</td>\n",
              "      <td>16437.460323</td>\n",
              "    </tr>\n",
              "    <tr>\n",
              "      <th>std</th>\n",
              "      <td>6.322532</td>\n",
              "      <td>6471.036499</td>\n",
              "    </tr>\n",
              "    <tr>\n",
              "      <th>min</th>\n",
              "      <td>2.000000</td>\n",
              "      <td>1031.010000</td>\n",
              "    </tr>\n",
              "    <tr>\n",
              "      <th>25%</th>\n",
              "      <td>13.000000</td>\n",
              "      <td>12622.110000</td>\n",
              "    </tr>\n",
              "    <tr>\n",
              "      <th>50%</th>\n",
              "      <td>17.000000</td>\n",
              "      <td>16490.950000</td>\n",
              "    </tr>\n",
              "    <tr>\n",
              "      <th>75%</th>\n",
              "      <td>20.000000</td>\n",
              "      <td>20376.970000</td>\n",
              "    </tr>\n",
              "    <tr>\n",
              "      <th>max</th>\n",
              "      <td>32.000000</td>\n",
              "      <td>32619.760000</td>\n",
              "    </tr>\n",
              "  </tbody>\n",
              "</table>\n",
              "</div>\n",
              "      <button class=\"colab-df-convert\" onclick=\"convertToInteractive('df-dab18de0-80ae-462b-b999-3337b1808339')\"\n",
              "              title=\"Convert this dataframe to an interactive table.\"\n",
              "              style=\"display:none;\">\n",
              "        \n",
              "  <svg xmlns=\"http://www.w3.org/2000/svg\" height=\"24px\"viewBox=\"0 0 24 24\"\n",
              "       width=\"24px\">\n",
              "    <path d=\"M0 0h24v24H0V0z\" fill=\"none\"/>\n",
              "    <path d=\"M18.56 5.44l.94 2.06.94-2.06 2.06-.94-2.06-.94-.94-2.06-.94 2.06-2.06.94zm-11 1L8.5 8.5l.94-2.06 2.06-.94-2.06-.94L8.5 2.5l-.94 2.06-2.06.94zm10 10l.94 2.06.94-2.06 2.06-.94-2.06-.94-.94-2.06-.94 2.06-2.06.94z\"/><path d=\"M17.41 7.96l-1.37-1.37c-.4-.4-.92-.59-1.43-.59-.52 0-1.04.2-1.43.59L10.3 9.45l-7.72 7.72c-.78.78-.78 2.05 0 2.83L4 21.41c.39.39.9.59 1.41.59.51 0 1.02-.2 1.41-.59l7.78-7.78 2.81-2.81c.8-.78.8-2.07 0-2.86zM5.41 20L4 18.59l7.72-7.72 1.47 1.35L5.41 20z\"/>\n",
              "  </svg>\n",
              "      </button>\n",
              "      \n",
              "  <style>\n",
              "    .colab-df-container {\n",
              "      display:flex;\n",
              "      flex-wrap:wrap;\n",
              "      gap: 12px;\n",
              "    }\n",
              "\n",
              "    .colab-df-convert {\n",
              "      background-color: #E8F0FE;\n",
              "      border: none;\n",
              "      border-radius: 50%;\n",
              "      cursor: pointer;\n",
              "      display: none;\n",
              "      fill: #1967D2;\n",
              "      height: 32px;\n",
              "      padding: 0 0 0 0;\n",
              "      width: 32px;\n",
              "    }\n",
              "\n",
              "    .colab-df-convert:hover {\n",
              "      background-color: #E2EBFA;\n",
              "      box-shadow: 0px 1px 2px rgba(60, 64, 67, 0.3), 0px 1px 3px 1px rgba(60, 64, 67, 0.15);\n",
              "      fill: #174EA6;\n",
              "    }\n",
              "\n",
              "    [theme=dark] .colab-df-convert {\n",
              "      background-color: #3B4455;\n",
              "      fill: #D2E3FC;\n",
              "    }\n",
              "\n",
              "    [theme=dark] .colab-df-convert:hover {\n",
              "      background-color: #434B5C;\n",
              "      box-shadow: 0px 1px 3px 1px rgba(0, 0, 0, 0.15);\n",
              "      filter: drop-shadow(0px 1px 2px rgba(0, 0, 0, 0.3));\n",
              "      fill: #FFFFFF;\n",
              "    }\n",
              "  </style>\n",
              "\n",
              "      <script>\n",
              "        const buttonEl =\n",
              "          document.querySelector('#df-dab18de0-80ae-462b-b999-3337b1808339 button.colab-df-convert');\n",
              "        buttonEl.style.display =\n",
              "          google.colab.kernel.accessAllowed ? 'block' : 'none';\n",
              "\n",
              "        async function convertToInteractive(key) {\n",
              "          const element = document.querySelector('#df-dab18de0-80ae-462b-b999-3337b1808339');\n",
              "          const dataTable =\n",
              "            await google.colab.kernel.invokeFunction('convertToInteractive',\n",
              "                                                     [key], {});\n",
              "          if (!dataTable) return;\n",
              "\n",
              "          const docLinkHtml = 'Like what you see? Visit the ' +\n",
              "            '<a target=\"_blank\" href=https://colab.research.google.com/notebooks/data_table.ipynb>data table notebook</a>'\n",
              "            + ' to learn more about interactive tables.';\n",
              "          element.innerHTML = '';\n",
              "          dataTable['output_type'] = 'display_data';\n",
              "          await google.colab.output.renderOutput(dataTable, element);\n",
              "          const docLink = document.createElement('div');\n",
              "          docLink.innerHTML = docLinkHtml;\n",
              "          element.appendChild(docLink);\n",
              "        }\n",
              "      </script>\n",
              "    </div>\n",
              "  </div>\n",
              "  "
            ]
          },
          "metadata": {},
          "execution_count": 66
        }
      ],
      "source": [
        "internet_pivot_ultimate_filtered = (\n",
        "    internet_pivot_ultimate.query('gb_used < @ultimate_internet_outliers[1] & gb_used > @ultimate_internet_outliers[0]')\n",
        ")\n",
        "internet_pivot_ultimate_filtered.describe()"
      ]
    },
    {
      "cell_type": "code",
      "execution_count": null,
      "metadata": {
        "colab": {
          "base_uri": "https://localhost:8080/"
        },
        "id": "n1m9SUVYHCPh",
        "outputId": "f4494702-997e-4ea2-b0ee-7b0d0b5c3ea3"
      },
      "outputs": [
        {
          "output_type": "execute_result",
          "data": {
            "text/plain": [
              "<matplotlib.axes._subplots.AxesSubplot at 0x7fade4573ed0>"
            ]
          },
          "metadata": {},
          "execution_count": 67
        },
        {
          "output_type": "display_data",
          "data": {
            "text/plain": [
              "<Figure size 1080x288 with 1 Axes>"
            ],
            "image/png": "[encoded data removed]"
          },
          "metadata": {
            "needs_background": "light"
          }
        }
      ],
      "source": [
        "internet_pivot_surf_filtered['gb_used'].plot(\n",
        "    kind     = 'hist'\n",
        "    ,bins    =  15\n",
        "    ,title   = 'Gigabytes utilizados por Surfers'\n",
        "    ,figsize = (15, 4)\n",
        " )"
      ]
    },
    {
      "cell_type": "code",
      "execution_count": null,
      "metadata": {
        "colab": {
          "base_uri": "https://localhost:8080/"
        },
        "id": "kKzbzVsHHMd5",
        "outputId": "3be94fce-cbc9-4572-f794-07b198a6b730"
      },
      "outputs": [
        {
          "output_type": "execute_result",
          "data": {
            "text/plain": [
              "<matplotlib.axes._subplots.AxesSubplot at 0x7fade3d9d850>"
            ]
          },
          "metadata": {},
          "execution_count": 68
        },
        {
          "output_type": "display_data",
          "data": {
            "text/plain": [
              "<Figure size 1080x288 with 1 Axes>"
            ],
            "image/png": "[encoded data removed]"
          },
          "metadata": {
            "needs_background": "light"
          }
        }
      ],
      "source": [
        "internet_pivot_ultimate_filtered['gb_used'].plot(\n",
        "    kind     = 'hist'\n",
        "    ,bins    =  15\n",
        "    ,title   = 'Gigabytes utilizados por Ultimaters'\n",
        "    ,figsize = (15, 4)\n",
        " )"
      ]
    },
    {
      "cell_type": "markdown",
      "metadata": {
        "id": "bxOfs9FzCZ4R"
      },
      "source": [
        "Esta distribución parece más normal ahora que hemos descartado los valores atípicos. En el plan Surf para datos de navegación en internet podemos observar que está muy marcado el rango de gb utilizados por los usuarios, vemos que se encuentra de 12 a 25 (Debe ser por el redonde mensual de gb, valdría la pena analizar otras variables de este subgrupo de usuarios dentor de este rango de uso de datos, para otro proyecto). Mientras, en el histograma de uso de datos para los usuarios del grupo que cuentan con plan tarifario Ultimate, la distribución luce más limpia, y podemos apreciar el pico en la media de 17 gb al mes."
      ]
    },
    {
      "cell_type": "markdown",
      "metadata": {
        "id": "n2oa9OIeC4vN"
      },
      "source": [
        "## Media, varianza y desviación estándar.\n",
        "Según el plan y el tipo de servicio utilizado:"
      ]
    },
    {
      "cell_type": "code",
      "execution_count": null,
      "metadata": {
        "id": "aixdIpN9JLe4"
      },
      "outputs": [],
      "source": [
        "def get_together_param(type_data,name_df_first,name_df_second,name_column):\n",
        "    data = (\n",
        "        pd.DataFrame([[type_data,'surf',\n",
        "                       name_df_first[name_column].mean(),\n",
        "                       np.std(name_df_first[name_column]),\n",
        "                       np.var(name_df_first[name_column])\n",
        "                      ],\n",
        "                      [type_data,'ultimate',\n",
        "                       name_df_second[name_column].mean(),\n",
        "                       np.std(name_df_second[name_column]),\n",
        "                       np.var(name_df_second[name_column])\n",
        "                      ]], columns = ['type','plan','mean','std','var']))    \n",
        "    return data   "
      ]
    },
    {
      "cell_type": "code",
      "execution_count": null,
      "metadata": {
        "colab": {
          "base_uri": "https://localhost:8080/"
        },
        "id": "6H1PdOeDJVD4",
        "outputId": "10d395bb-2556-4f67-bd3a-6bb8e122d2cf"
      },
      "outputs": [
        {
          "output_type": "execute_result",
          "data": {
            "text/plain": [
              "                         mean         std           var\n",
              "type     plan                                          \n",
              "Calls    surf      423.438944  209.114921  43729.050233\n",
              "         ultimate  418.265805  210.976444  44511.060095\n",
              "Data     surf       16.299869    6.808207     46.351680\n",
              "         ultimate   16.549192    6.317889     39.915715\n",
              "Messages surf       35.577417   25.190485    634.560517\n",
              "         ultimate   44.138112   29.635964    878.290366"
            ],
            "text/html": [
              "\n",
              "  <div id=\"df-c957b607-7636-4c34-a552-45a071b4f2fc\">\n",
              "    <div class=\"colab-df-container\">\n",
              "      <div>\n",
              "<style scoped>\n",
              "    .dataframe tbody tr th:only-of-type {\n",
              "        vertical-align: middle;\n",
              "    }\n",
              "\n",
              "    .dataframe tbody tr th {\n",
              "        vertical-align: top;\n",
              "    }\n",
              "\n",
              "    .dataframe thead th {\n",
              "        text-align: right;\n",
              "    }\n",
              "</style>\n",
              "<table border=\"1\" class=\"dataframe\">\n",
              "  <thead>\n",
              "    <tr style=\"text-align: right;\">\n",
              "      <th></th>\n",
              "      <th></th>\n",
              "      <th>mean</th>\n",
              "      <th>std</th>\n",
              "      <th>var</th>\n",
              "    </tr>\n",
              "    <tr>\n",
              "      <th>type</th>\n",
              "      <th>plan</th>\n",
              "      <th></th>\n",
              "      <th></th>\n",
              "      <th></th>\n",
              "    </tr>\n",
              "  </thead>\n",
              "  <tbody>\n",
              "    <tr>\n",
              "      <th rowspan=\"2\" valign=\"top\">Calls</th>\n",
              "      <th>surf</th>\n",
              "      <td>423.438944</td>\n",
              "      <td>209.114921</td>\n",
              "      <td>43729.050233</td>\n",
              "    </tr>\n",
              "    <tr>\n",
              "      <th>ultimate</th>\n",
              "      <td>418.265805</td>\n",
              "      <td>210.976444</td>\n",
              "      <td>44511.060095</td>\n",
              "    </tr>\n",
              "    <tr>\n",
              "      <th rowspan=\"2\" valign=\"top\">Data</th>\n",
              "      <th>surf</th>\n",
              "      <td>16.299869</td>\n",
              "      <td>6.808207</td>\n",
              "      <td>46.351680</td>\n",
              "    </tr>\n",
              "    <tr>\n",
              "      <th>ultimate</th>\n",
              "      <td>16.549192</td>\n",
              "      <td>6.317889</td>\n",
              "      <td>39.915715</td>\n",
              "    </tr>\n",
              "    <tr>\n",
              "      <th rowspan=\"2\" valign=\"top\">Messages</th>\n",
              "      <th>surf</th>\n",
              "      <td>35.577417</td>\n",
              "      <td>25.190485</td>\n",
              "      <td>634.560517</td>\n",
              "    </tr>\n",
              "    <tr>\n",
              "      <th>ultimate</th>\n",
              "      <td>44.138112</td>\n",
              "      <td>29.635964</td>\n",
              "      <td>878.290366</td>\n",
              "    </tr>\n",
              "  </tbody>\n",
              "</table>\n",
              "</div>\n",
              "      <button class=\"colab-df-convert\" onclick=\"convertToInteractive('df-c957b607-7636-4c34-a552-45a071b4f2fc')\"\n",
              "              title=\"Convert this dataframe to an interactive table.\"\n",
              "              style=\"display:none;\">\n",
              "        \n",
              "  <svg xmlns=\"http://www.w3.org/2000/svg\" height=\"24px\"viewBox=\"0 0 24 24\"\n",
              "       width=\"24px\">\n",
              "    <path d=\"M0 0h24v24H0V0z\" fill=\"none\"/>\n",
              "    <path d=\"M18.56 5.44l.94 2.06.94-2.06 2.06-.94-2.06-.94-.94-2.06-.94 2.06-2.06.94zm-11 1L8.5 8.5l.94-2.06 2.06-.94-2.06-.94L8.5 2.5l-.94 2.06-2.06.94zm10 10l.94 2.06.94-2.06 2.06-.94-2.06-.94-.94-2.06-.94 2.06-2.06.94z\"/><path d=\"M17.41 7.96l-1.37-1.37c-.4-.4-.92-.59-1.43-.59-.52 0-1.04.2-1.43.59L10.3 9.45l-7.72 7.72c-.78.78-.78 2.05 0 2.83L4 21.41c.39.39.9.59 1.41.59.51 0 1.02-.2 1.41-.59l7.78-7.78 2.81-2.81c.8-.78.8-2.07 0-2.86zM5.41 20L4 18.59l7.72-7.72 1.47 1.35L5.41 20z\"/>\n",
              "  </svg>\n",
              "      </button>\n",
              "      \n",
              "  <style>\n",
              "    .colab-df-container {\n",
              "      display:flex;\n",
              "      flex-wrap:wrap;\n",
              "      gap: 12px;\n",
              "    }\n",
              "\n",
              "    .colab-df-convert {\n",
              "      background-color: #E8F0FE;\n",
              "      border: none;\n",
              "      border-radius: 50%;\n",
              "      cursor: pointer;\n",
              "      display: none;\n",
              "      fill: #1967D2;\n",
              "      height: 32px;\n",
              "      padding: 0 0 0 0;\n",
              "      width: 32px;\n",
              "    }\n",
              "\n",
              "    .colab-df-convert:hover {\n",
              "      background-color: #E2EBFA;\n",
              "      box-shadow: 0px 1px 2px rgba(60, 64, 67, 0.3), 0px 1px 3px 1px rgba(60, 64, 67, 0.15);\n",
              "      fill: #174EA6;\n",
              "    }\n",
              "\n",
              "    [theme=dark] .colab-df-convert {\n",
              "      background-color: #3B4455;\n",
              "      fill: #D2E3FC;\n",
              "    }\n",
              "\n",
              "    [theme=dark] .colab-df-convert:hover {\n",
              "      background-color: #434B5C;\n",
              "      box-shadow: 0px 1px 3px 1px rgba(0, 0, 0, 0.15);\n",
              "      filter: drop-shadow(0px 1px 2px rgba(0, 0, 0, 0.3));\n",
              "      fill: #FFFFFF;\n",
              "    }\n",
              "  </style>\n",
              "\n",
              "      <script>\n",
              "        const buttonEl =\n",
              "          document.querySelector('#df-c957b607-7636-4c34-a552-45a071b4f2fc button.colab-df-convert');\n",
              "        buttonEl.style.display =\n",
              "          google.colab.kernel.accessAllowed ? 'block' : 'none';\n",
              "\n",
              "        async function convertToInteractive(key) {\n",
              "          const element = document.querySelector('#df-c957b607-7636-4c34-a552-45a071b4f2fc');\n",
              "          const dataTable =\n",
              "            await google.colab.kernel.invokeFunction('convertToInteractive',\n",
              "                                                     [key], {});\n",
              "          if (!dataTable) return;\n",
              "\n",
              "          const docLinkHtml = 'Like what you see? Visit the ' +\n",
              "            '<a target=\"_blank\" href=https://colab.research.google.com/notebooks/data_table.ipynb>data table notebook</a>'\n",
              "            + ' to learn more about interactive tables.';\n",
              "          element.innerHTML = '';\n",
              "          dataTable['output_type'] = 'display_data';\n",
              "          await google.colab.output.renderOutput(dataTable, element);\n",
              "          const docLink = document.createElement('div');\n",
              "          docLink.innerHTML = docLinkHtml;\n",
              "          element.appendChild(docLink);\n",
              "        }\n",
              "      </script>\n",
              "    </div>\n",
              "  </div>\n",
              "  "
            ]
          },
          "metadata": {},
          "execution_count": 70
        }
      ],
      "source": [
        "description_data = get_together_param('Calls',\n",
        "                                      calls_pivot_surf_filtered,\n",
        "                                      calls_pivot_ultimate_filtered,\n",
        "                                      'duration_calls')\n",
        "messages_data = get_together_param('Messages',\n",
        "                                   message_pivot_surf_filtered,\n",
        "                                   message_pivot_ultimate_filtered,\n",
        "                                   'message_date')\n",
        "internet_data = get_together_param('Data',\n",
        "                                   internet_pivot_surf_filtered,\n",
        "                                   internet_pivot_ultimate_filtered,\n",
        "                                   'gb_used')\n",
        "\n",
        "description_data = description_data.append(messages_data, ignore_index=True)\n",
        "description_data = description_data.append(internet_data, ignore_index=True)\n",
        "description_data = description_data.pivot_table(index = ['type','plan'])\n",
        "\n",
        "description_data"
      ]
    },
    {
      "cell_type": "markdown",
      "metadata": {
        "id": "aYRvI3jrOY5s"
      },
      "source": [
        "Ahora con la tabla anterior podemos observar la comparación de los valores estadísticos en `mean`, `std` y `var`para cada plan y por cada uno de los 3 servicios: imnutos de llamada, mensajes y gb de datos de navegación.\n",
        "\n",
        "**Dentro de la sección de llamadas `Calls`** podemos apreciar que el plan Surf tiene una media más elevada que el Ultimate, lo cual debe ocurrir por la cantidad de usuarios en ese grupo y las duraciones que pudieron haber sido mayores que las del otro plan. LA desviación estándar es menor en Surf, lo cuál quiere decir que los valores de este grupo se encuentran más cercanos a la media que los del plan Ultimate, ocurre lo mismo con la varianza.\n",
        "\n",
        "**Para la sección `Data`** la media y la desviación estándar son muy parecidas, apesar de la diferencia en la cantidad de usuarios el comportamiento en navegación es similar para ambos grupos, pero hay mayor dispersión de datos (mayor varianza) en el plan Surf.\n",
        "\n",
        "**En cuanto a `Messages`** tenemos valores más altos en los estadísticos por la diferencia marcada en el histograma donde observamos que los usuarios del plan Ultimate parecen envíar más mensajes al mes, por la diferencia en la cantidad y el número de datos que hay, la dispersión de los datos es mayor y se encuentran más alejados de la media."
      ]
    },
    {
      "cell_type": "markdown",
      "metadata": {
        "id": "_XkuCvvSOY5t"
      },
      "source": [
        "<div class=\"alert alert-block alert-info\">\n",
        "Explicadísimo.\n",
        "</div>"
      ]
    },
    {
      "cell_type": "code",
      "execution_count": null,
      "metadata": {
        "colab": {
          "base_uri": "https://localhost:8080/"
        },
        "id": "OGOfgB4BLqTg",
        "outputId": "b9d9b654-ef1e-4741-cf4b-8a3f8870a696"
      },
      "outputs": [
        {
          "output_type": "execute_result",
          "data": {
            "text/plain": [
              "67.80000000000001"
            ]
          },
          "metadata": {},
          "execution_count": 71
        }
      ],
      "source": [
        "len(users[users['plan'] == 'surf'])/500 * 100"
      ]
    },
    {
      "cell_type": "code",
      "execution_count": null,
      "metadata": {
        "colab": {
          "base_uri": "https://localhost:8080/"
        },
        "id": "8hL0NnYcLw-R",
        "outputId": "af1bafc4-7e8b-466e-91c1-75a4bc0c33c7"
      },
      "outputs": [
        {
          "output_type": "execute_result",
          "data": {
            "text/plain": [
              "32.2"
            ]
          },
          "metadata": {},
          "execution_count": 72
        }
      ],
      "source": [
        "len(users[users['plan'] == 'ultimate'])/500 * 100"
      ]
    },
    {
      "cell_type": "markdown",
      "metadata": {
        "id": "I4A8iFU1KDxx"
      },
      "source": [
        "En esta tabla podemos observar el comportamiento de los clientes de acuerdo con el plan de tarifas que tienen contratado.\n",
        "* Empecemos por la proporción de usuarios, tenemos en la muestra 68% de surfers y 31% de Ultimaters.\n",
        "* Tienen en promedio los Surfers un total de minutos al mes de 423, mientras que los Ultimaters en promedio utilizan 418 minutos al mes.\n",
        "* En mensajes, los Surfers envían en promedio 35 y los Ultimaters 44.\n",
        "* Los Surfers utilizan 190gb y Ultimaters 173gb."
      ]
    },
    {
      "cell_type": "markdown",
      "metadata": {
        "id": "T9fc3UacFsW-"
      },
      "source": [
        "## **Paso 4. Prueba de hipótesis**\n",
        "1. **El ingreso promedio de los usuarios de las tarifas Ultimate y Surf**\n",
        "\n",
        "Aquí vamos a considerar como hipótesis nula que el ingreso promedio de los usuarios de las tarifas difiere, y como hipótesis alternativa vamos a tomar en cuenta que el ingreso promedio de los usuarios de ambas tarifas es igual. Vamos a utilizar un t-test y alpha=0.05 como nivel de significancia para comparar estos dos grupos de usuarios."
      ]
    },
    {
      "cell_type": "code",
      "execution_count": null,
      "metadata": {
        "colab": {
          "base_uri": "https://localhost:8080/"
        },
        "id": "5e8tycq_2jZv",
        "outputId": "9f2168c3-252e-418f-fb8b-5eb4497707df"
      },
      "outputs": [
        {
          "output_type": "execute_result",
          "data": {
            "text/plain": [
              "58.71496516782774"
            ]
          },
          "metadata": {},
          "execution_count": 73
        }
      ],
      "source": [
        "summary_users.query('plan == \"surf\"')['profit'].mean() # Promedio de ingresos gracias a los surfers"
      ]
    },
    {
      "cell_type": "code",
      "execution_count": null,
      "metadata": {
        "colab": {
          "base_uri": "https://localhost:8080/"
        },
        "id": "4wsYSk9l3oOf",
        "outputId": "ffd207d5-5f3e-4ea5-90f1-fe50b8a06f87"
      },
      "outputs": [
        {
          "output_type": "execute_result",
          "data": {
            "text/plain": [
              "72.3011049723757"
            ]
          },
          "metadata": {},
          "execution_count": 74
        }
      ],
      "source": [
        "summary_users.query('plan == \"ultimate\"')['profit'].mean() # Promedio de ingresos gracias a los ultimaters"
      ]
    },
    {
      "cell_type": "code",
      "execution_count": null,
      "metadata": {
        "id": "DoE07tbC7syY"
      },
      "outputs": [],
      "source": [
        "surf = summary_users.query('plan == \"surf\"')\n",
        "ultimate = summary_users.query('plan == \"ultimate\"')"
      ]
    },
    {
      "cell_type": "code",
      "execution_count": null,
      "metadata": {
        "colab": {
          "base_uri": "https://localhost:8080/"
        },
        "id": "YbejIAxl8VAU",
        "outputId": "b8247f1a-b167-4bc1-b228-591d2e4ffbf4"
      },
      "outputs": [
        {
          "output_type": "execute_result",
          "data": {
            "text/plain": [
              "1        20.00\n",
              "2        20.00\n",
              "3        90.09\n",
              "4        60.00\n",
              "5        60.00\n",
              "         ...  \n",
              "2298    100.00\n",
              "2299     20.00\n",
              "2300     70.00\n",
              "2301     40.00\n",
              "2302     90.00\n",
              "Name: profit, Length: 1579, dtype: float64"
            ]
          },
          "metadata": {},
          "execution_count": 76
        }
      ],
      "source": [
        "surf_profit = surf['profit']\n",
        "surf_profit"
      ]
    },
    {
      "cell_type": "code",
      "execution_count": null,
      "metadata": {
        "colab": {
          "base_uri": "https://localhost:8080/"
        },
        "id": "tRiSEy1_8js2",
        "outputId": "062ba5d7-1455-45ea-eede-a630e73b7bde"
      },
      "outputs": [
        {
          "output_type": "execute_result",
          "data": {
            "text/plain": [
              "0       70.0\n",
              "19      70.0\n",
              "20      84.0\n",
              "26      70.0\n",
              "27      70.0\n",
              "        ... \n",
              "2268    70.0\n",
              "2269    70.0\n",
              "2270    70.0\n",
              "2271    70.0\n",
              "2287    70.0\n",
              "Name: profit, Length: 724, dtype: float64"
            ]
          },
          "metadata": {},
          "execution_count": 77
        }
      ],
      "source": [
        "ultimate_profit = ultimate['profit']\n",
        "ultimate_profit"
      ]
    },
    {
      "cell_type": "markdown",
      "metadata": {
        "id": "sgM3Iq2BOY5u"
      },
      "source": [
        "* **H⁰: **El ingreso promedio de los usuarios de las tarifas Ultimate y Surf es igual.**\n",
        "* **H¹: **El ingreso promedio de los usuarios de las tarifas Ultimate y Surf difiere.**"
      ]
    },
    {
      "cell_type": "code",
      "execution_count": null,
      "metadata": {
        "colab": {
          "base_uri": "https://localhost:8080/"
        },
        "id": "cMVLfjBC9Btl",
        "outputId": "b6874fc0-80f5-42a5-ccdf-6c22837a7d14"
      },
      "outputs": [
        {
          "output_type": "stream",
          "name": "stdout",
          "text": [
            "La probabilidad es de: 3.8676390411339405e-11\n",
            "Rechazamos hipótesis nula\n"
          ]
        }
      ],
      "source": [
        "alpha = 0.05\n",
        "\n",
        "# Prueba de hipótesis para ver si sí es igual\n",
        "results = st.ttest_ind(ultimate_profit, surf_profit, equal_var = True)\n",
        "print('La probabilidad es de: {}'.format(results.pvalue))\n",
        "\n",
        "# o si no\n",
        "if (results.pvalue < alpha):\n",
        "    print('Rechazamos hipótesis nula')\n",
        "else:\n",
        "    print('No rechazamos hipótesis nula')"
      ]
    },
    {
      "cell_type": "markdown",
      "metadata": {
        "id": "lqnBlvif_7mw"
      },
      "source": [
        "Rechazar la hipótesis nula en esta prueba nos da como resultado que tomaremos la hipótesis alternativa comov erdadera, en la que el ingreso promeido de los usuarios de las dos tarifas difiere significativamente."
      ]
    },
    {
      "cell_type": "markdown",
      "metadata": {
        "id": "K-vdjxXQ6Mg_"
      },
      "source": [
        "2. **El ingreso promedio de los usuarios en el área de NY-NJ vs las demás:** Aquí  también vamos a utilizar un t-test y alpha=0.05 como nivel de significancia para comparar estos dos grupos de usuarios. Nuestras hipótesis son:\n",
        "\n",
        "* **H⁰: El ingreso promedio de los usuarios en el área de NY-NJ vs otras regione es igual.**\n",
        "* **H¹: El ingreso promedio de los usuarios en el área de NY-NJ vs otras regiones difiere.**"
      ]
    },
    {
      "cell_type": "code",
      "execution_count": null,
      "metadata": {
        "colab": {
          "base_uri": "https://localhost:8080/"
        },
        "id": "5if9j3Lz1SIm",
        "outputId": "d2361786-fdaf-465a-cd9c-dfc49ada0fd3"
      },
      "outputs": [
        {
          "output_type": "stream",
          "name": "stdout",
          "text": [
            "Promedio de ingresos en NY-NJ: $58.60\n",
            "Promedio de ingresos everywhere else: $63.85\n"
          ]
        }
      ],
      "source": [
        "ny_nj = summary_users.query('city == \"New York-Newark-Jersey City, NY-NJ-PA MSA\"')['profit']\n",
        "aint_ny_nj = summary_users.query('city != \"New York-Newark-Jersey City, NY-NJ-PA MSA\"')['profit']\n",
        "print('Promedio de ingresos en NY-NJ: ${:.2f}'.format(ny_nj.mean()))\n",
        "print('Promedio de ingresos everywhere else: ${:.2f}'.format(aint_ny_nj.mean()))"
      ]
    },
    {
      "cell_type": "code",
      "execution_count": null,
      "metadata": {
        "colab": {
          "base_uri": "https://localhost:8080/"
        },
        "id": "bZNIKrtY_gzK",
        "outputId": "f95f6bb4-dbaf-44a3-b1d8-b7443391eeb1"
      },
      "outputs": [
        {
          "output_type": "stream",
          "name": "stdout",
          "text": [
            "La probabilidad es de: 0.042665861485584725\n",
            "Rechazamos hipótesis nula\n"
          ]
        }
      ],
      "source": [
        "alpha = 0.05\n",
        "\n",
        "# Prueba de hipótesis para ver si es diferente\n",
        "results = st.ttest_ind(ny_nj, aint_ny_nj, equal_var = True)\n",
        "print('La probabilidad es de: {}'.format(results.pvalue))\n",
        "\n",
        "# o si sí\n",
        "if (results.pvalue < alpha):\n",
        "    print('Rechazamos hipótesis nula') # No tuvimos razón\n",
        "else:\n",
        "    print('No rechazamos hipótesis nula') # Sí tuvimos razón"
      ]
    },
    {
      "cell_type": "markdown",
      "metadata": {
        "id": "xTInkhp5wEm2"
      },
      "source": [
        "## **Paso 5. Conclusión**\n",
        "\n",
        "* Orgnaizamos y filtramos los datos de tal manera que separamos los 3 servicios de megaline: llamadas, mensajes y gb de navegación por plan (surf y ultimate).\n",
        "* Obtuvimos la cantidad en las unidades correspondientes (minutos, mensajes y gb) para cada servicio y calculado por usuario por mes.\n",
        "* También obtuvimos la ganancia por cada usuario de megaline a partir del uso que le da a los 3 servicios en su plan tarifario. Todo convirtiéndolo a los tipos de datos necesarios y filtrandolos.\n",
        "* Hicimos unas pruebas de T para 2 hipótesis nulas que fueron rechazadas. Ambas nos hacen saber que los ingresos promedio de los usuarios sí difieren significativamente en cuanto a el plan o la región en la que utilicen los servicios.\n",
        "* Invertir en publicidad sería con el objetivo de incrementar los ingresos promedio del plan surf y de los usuarios que se encuentran en la región NY-NJ."
      ]
    }
  ],
  "metadata": {
    "ExecuteTimeLog": [
      {
        "duration": 1527,
        "start_time": "2022-06-08T15:06:11.877Z"
      },
      {
        "duration": 1562,
        "start_time": "2022-06-08T15:06:13.406Z"
      },
      {
        "duration": 22,
        "start_time": "2022-06-08T15:06:14.970Z"
      },
      {
        "duration": 35,
        "start_time": "2022-06-08T15:06:14.994Z"
      },
      {
        "duration": 82,
        "start_time": "2022-06-08T15:06:15.035Z"
      },
      {
        "duration": 67,
        "start_time": "2022-06-08T15:06:15.119Z"
      },
      {
        "duration": 31,
        "start_time": "2022-06-08T15:06:15.188Z"
      },
      {
        "duration": 83,
        "start_time": "2022-06-08T15:06:15.222Z"
      },
      {
        "duration": 69,
        "start_time": "2022-06-08T15:06:15.308Z"
      },
      {
        "duration": 79,
        "start_time": "2022-06-08T15:06:15.405Z"
      },
      {
        "duration": 102,
        "start_time": "2022-06-08T15:06:15.486Z"
      },
      {
        "duration": 91,
        "start_time": "2022-06-08T15:06:15.590Z"
      },
      {
        "duration": 61,
        "start_time": "2022-06-08T15:06:15.683Z"
      },
      {
        "duration": 396,
        "start_time": "2022-06-08T15:06:15.749Z"
      },
      {
        "duration": 58,
        "start_time": "2022-06-08T15:06:16.148Z"
      },
      {
        "duration": 118,
        "start_time": "2022-06-08T15:06:16.211Z"
      },
      {
        "duration": 484,
        "start_time": "2022-06-08T15:06:16.337Z"
      },
      {
        "duration": 16,
        "start_time": "2022-06-08T15:06:16.829Z"
      },
      {
        "duration": 79,
        "start_time": "2022-06-08T15:06:16.855Z"
      },
      {
        "duration": 263,
        "start_time": "2022-06-08T15:06:16.938Z"
      },
      {
        "duration": 77,
        "start_time": "2022-06-08T15:06:17.203Z"
      },
      {
        "duration": 589,
        "start_time": "2022-06-08T15:06:17.282Z"
      },
      {
        "duration": 25,
        "start_time": "2022-06-08T15:06:17.873Z"
      },
      {
        "duration": 137,
        "start_time": "2022-06-08T15:06:17.901Z"
      },
      {
        "duration": 49,
        "start_time": "2022-06-08T15:06:18.039Z"
      },
      {
        "duration": 16,
        "start_time": "2022-06-08T15:06:18.090Z"
      },
      {
        "duration": 38,
        "start_time": "2022-06-08T15:06:18.109Z"
      },
      {
        "duration": 22,
        "start_time": "2022-06-08T15:06:18.149Z"
      },
      {
        "duration": 71,
        "start_time": "2022-06-08T15:06:18.175Z"
      },
      {
        "duration": 15,
        "start_time": "2022-06-08T15:06:18.248Z"
      },
      {
        "duration": 36,
        "start_time": "2022-06-08T15:06:18.266Z"
      },
      {
        "duration": 36,
        "start_time": "2022-06-08T15:06:18.304Z"
      },
      {
        "duration": 106,
        "start_time": "2022-06-08T15:06:18.342Z"
      },
      {
        "duration": 28,
        "start_time": "2022-06-08T15:06:18.454Z"
      },
      {
        "duration": 19,
        "start_time": "2022-06-08T15:06:18.484Z"
      },
      {
        "duration": 46,
        "start_time": "2022-06-08T15:06:18.505Z"
      },
      {
        "duration": 69,
        "start_time": "2022-06-08T15:06:18.554Z"
      },
      {
        "duration": 11,
        "start_time": "2022-06-08T15:06:18.625Z"
      },
      {
        "duration": 40,
        "start_time": "2022-06-08T15:06:18.639Z"
      },
      {
        "duration": 19,
        "start_time": "2022-06-08T15:06:18.683Z"
      },
      {
        "duration": 60,
        "start_time": "2022-06-08T15:06:18.708Z"
      },
      {
        "duration": 105,
        "start_time": "2022-06-08T15:06:18.771Z"
      },
      {
        "duration": 5804,
        "start_time": "2022-06-08T15:06:18.879Z"
      },
      {
        "duration": 9,
        "start_time": "2022-06-08T15:06:24.685Z"
      },
      {
        "duration": 82,
        "start_time": "2022-06-08T15:06:24.696Z"
      },
      {
        "duration": 91,
        "start_time": "2022-06-08T15:06:24.780Z"
      },
      {
        "duration": 33,
        "start_time": "2022-06-08T15:06:24.873Z"
      },
      {
        "duration": 73,
        "start_time": "2022-06-08T15:06:24.915Z"
      },
      {
        "duration": 213,
        "start_time": "2022-06-08T15:06:24.990Z"
      },
      {
        "duration": 33,
        "start_time": "2022-06-08T15:06:25.205Z"
      },
      {
        "duration": 294,
        "start_time": "2022-06-08T15:06:25.240Z"
      },
      {
        "duration": 368,
        "start_time": "2022-06-08T15:06:25.539Z"
      },
      {
        "duration": 18,
        "start_time": "2022-06-08T15:06:25.911Z"
      },
      {
        "duration": 94,
        "start_time": "2022-06-08T15:06:25.930Z"
      },
      {
        "duration": 7,
        "start_time": "2022-06-08T15:06:26.026Z"
      },
      {
        "duration": 80,
        "start_time": "2022-06-08T15:06:26.036Z"
      },
      {
        "duration": 28,
        "start_time": "2022-06-08T15:06:26.118Z"
      },
      {
        "duration": 248,
        "start_time": "2022-06-08T15:06:26.148Z"
      },
      {
        "duration": 231,
        "start_time": "2022-06-08T15:06:26.402Z"
      },
      {
        "duration": 20,
        "start_time": "2022-06-08T15:06:26.639Z"
      },
      {
        "duration": 141,
        "start_time": "2022-06-08T15:06:26.665Z"
      },
      {
        "duration": 84,
        "start_time": "2022-06-08T15:06:26.809Z"
      },
      {
        "duration": 146,
        "start_time": "2022-06-08T15:06:26.895Z"
      },
      {
        "duration": 81,
        "start_time": "2022-06-08T15:06:27.043Z"
      },
      {
        "duration": 337,
        "start_time": "2022-06-08T15:06:27.126Z"
      },
      {
        "duration": 338,
        "start_time": "2022-06-08T15:06:27.467Z"
      },
      {
        "duration": 22,
        "start_time": "2022-06-08T15:06:27.811Z"
      },
      {
        "duration": 196,
        "start_time": "2022-06-08T15:06:27.842Z"
      },
      {
        "duration": 87,
        "start_time": "2022-06-08T15:06:28.040Z"
      },
      {
        "duration": 174,
        "start_time": "2022-06-08T15:06:28.137Z"
      },
      {
        "duration": 51,
        "start_time": "2022-06-08T15:06:28.317Z"
      },
      {
        "duration": 104,
        "start_time": "2022-06-08T15:06:28.375Z"
      },
      {
        "duration": 94,
        "start_time": "2022-06-08T15:06:28.485Z"
      },
      {
        "duration": 117,
        "start_time": "2022-06-08T15:06:28.585Z"
      },
      {
        "duration": 101,
        "start_time": "2022-06-08T15:06:28.708Z"
      },
      {
        "duration": 125,
        "start_time": "2022-06-08T15:06:28.814Z"
      },
      {
        "duration": 103,
        "start_time": "2022-06-08T15:06:28.947Z"
      },
      {
        "duration": 68,
        "start_time": "2022-06-08T15:06:29.060Z"
      },
      {
        "duration": 69,
        "start_time": "2022-06-08T15:06:29.133Z"
      },
      {
        "duration": 9,
        "start_time": "2022-06-08T15:43:09.658Z"
      },
      {
        "duration": 1126,
        "start_time": "2022-06-08T15:43:09.669Z"
      },
      {
        "duration": 27,
        "start_time": "2022-06-08T15:43:10.797Z"
      },
      {
        "duration": 44,
        "start_time": "2022-06-08T15:43:10.826Z"
      },
      {
        "duration": 29,
        "start_time": "2022-06-08T15:43:10.872Z"
      },
      {
        "duration": 10,
        "start_time": "2022-06-08T15:43:10.903Z"
      },
      {
        "duration": 30,
        "start_time": "2022-06-08T15:43:10.915Z"
      },
      {
        "duration": 38,
        "start_time": "2022-06-08T15:43:10.947Z"
      },
      {
        "duration": 10,
        "start_time": "2022-06-08T15:43:10.987Z"
      },
      {
        "duration": 61,
        "start_time": "2022-06-08T15:43:11.000Z"
      },
      {
        "duration": 42,
        "start_time": "2022-06-08T15:43:11.064Z"
      },
      {
        "duration": 16,
        "start_time": "2022-06-08T15:43:11.107Z"
      },
      {
        "duration": 75,
        "start_time": "2022-06-08T15:43:11.124Z"
      },
      {
        "duration": 282,
        "start_time": "2022-06-08T15:43:11.201Z"
      },
      {
        "duration": 56,
        "start_time": "2022-06-08T15:43:11.485Z"
      },
      {
        "duration": 21,
        "start_time": "2022-06-08T15:43:11.558Z"
      },
      {
        "duration": 254,
        "start_time": "2022-06-08T15:43:11.581Z"
      },
      {
        "duration": 25,
        "start_time": "2022-06-08T15:43:11.838Z"
      },
      {
        "duration": 25,
        "start_time": "2022-06-08T15:43:11.866Z"
      },
      {
        "duration": 3,
        "start_time": "2022-06-08T15:43:11.893Z"
      },
      {
        "duration": 24,
        "start_time": "2022-06-08T15:43:11.898Z"
      },
      {
        "duration": 463,
        "start_time": "2022-06-08T15:43:11.924Z"
      },
      {
        "duration": 68,
        "start_time": "2022-06-08T15:43:12.389Z"
      },
      {
        "duration": 74,
        "start_time": "2022-06-08T15:43:12.467Z"
      },
      {
        "duration": 50,
        "start_time": "2022-06-08T15:43:12.549Z"
      },
      {
        "duration": 6,
        "start_time": "2022-06-08T15:43:12.601Z"
      },
      {
        "duration": 20,
        "start_time": "2022-06-08T15:43:12.609Z"
      },
      {
        "duration": 57,
        "start_time": "2022-06-08T15:43:12.632Z"
      },
      {
        "duration": 80,
        "start_time": "2022-06-08T15:43:12.695Z"
      },
      {
        "duration": 6,
        "start_time": "2022-06-08T15:43:12.777Z"
      },
      {
        "duration": 44,
        "start_time": "2022-06-08T15:43:12.785Z"
      },
      {
        "duration": 41,
        "start_time": "2022-06-08T15:43:12.832Z"
      },
      {
        "duration": 248,
        "start_time": "2022-06-08T15:43:12.876Z"
      },
      {
        "duration": 22,
        "start_time": "2022-06-08T15:43:13.126Z"
      },
      {
        "duration": 50,
        "start_time": "2022-06-08T15:43:13.151Z"
      },
      {
        "duration": 26,
        "start_time": "2022-06-08T15:43:13.203Z"
      },
      {
        "duration": 58,
        "start_time": "2022-06-08T15:43:13.232Z"
      },
      {
        "duration": 12,
        "start_time": "2022-06-08T15:43:13.292Z"
      },
      {
        "duration": 8,
        "start_time": "2022-06-08T15:43:13.306Z"
      },
      {
        "duration": 19,
        "start_time": "2022-06-08T15:43:13.316Z"
      },
      {
        "duration": 84,
        "start_time": "2022-06-08T15:43:13.338Z"
      },
      {
        "duration": 27,
        "start_time": "2022-06-08T15:43:13.424Z"
      },
      {
        "duration": 6383,
        "start_time": "2022-06-08T15:43:13.453Z"
      },
      {
        "duration": 9,
        "start_time": "2022-06-08T15:43:19.838Z"
      },
      {
        "duration": 58,
        "start_time": "2022-06-08T15:43:19.855Z"
      },
      {
        "duration": 40,
        "start_time": "2022-06-08T15:43:19.915Z"
      },
      {
        "duration": 26,
        "start_time": "2022-06-08T15:43:19.960Z"
      },
      {
        "duration": 14,
        "start_time": "2022-06-08T15:43:19.987Z"
      },
      {
        "duration": 54,
        "start_time": "2022-06-08T15:43:20.003Z"
      },
      {
        "duration": 41,
        "start_time": "2022-06-08T15:43:20.066Z"
      },
      {
        "duration": 266,
        "start_time": "2022-06-08T15:43:20.108Z"
      },
      {
        "duration": 243,
        "start_time": "2022-06-08T15:43:20.378Z"
      },
      {
        "duration": 20,
        "start_time": "2022-06-08T15:43:20.625Z"
      },
      {
        "duration": 78,
        "start_time": "2022-06-08T15:43:20.648Z"
      },
      {
        "duration": 74,
        "start_time": "2022-06-08T15:43:20.729Z"
      },
      {
        "duration": 51,
        "start_time": "2022-06-08T15:43:20.805Z"
      },
      {
        "duration": 61,
        "start_time": "2022-06-08T15:43:20.859Z"
      },
      {
        "duration": 275,
        "start_time": "2022-06-08T15:43:20.923Z"
      },
      {
        "duration": 217,
        "start_time": "2022-06-08T15:43:21.200Z"
      },
      {
        "duration": 33,
        "start_time": "2022-06-08T15:43:21.425Z"
      },
      {
        "duration": 23,
        "start_time": "2022-06-08T15:43:21.468Z"
      },
      {
        "duration": 14,
        "start_time": "2022-06-08T15:43:21.493Z"
      },
      {
        "duration": 70,
        "start_time": "2022-06-08T15:43:21.508Z"
      },
      {
        "duration": 39,
        "start_time": "2022-06-08T15:43:21.581Z"
      },
      {
        "duration": 258,
        "start_time": "2022-06-08T15:43:21.622Z"
      },
      {
        "duration": 226,
        "start_time": "2022-06-08T15:43:21.882Z"
      },
      {
        "duration": 5,
        "start_time": "2022-06-08T15:43:22.111Z"
      },
      {
        "duration": 70,
        "start_time": "2022-06-08T15:43:22.118Z"
      },
      {
        "duration": 5,
        "start_time": "2022-06-08T15:43:22.190Z"
      },
      {
        "duration": 11,
        "start_time": "2022-06-08T15:43:22.197Z"
      },
      {
        "duration": 12,
        "start_time": "2022-06-08T15:43:22.210Z"
      },
      {
        "duration": 45,
        "start_time": "2022-06-08T15:43:22.244Z"
      },
      {
        "duration": 13,
        "start_time": "2022-06-08T15:43:22.291Z"
      },
      {
        "duration": 8,
        "start_time": "2022-06-08T15:43:22.306Z"
      },
      {
        "duration": 77,
        "start_time": "2022-06-08T15:43:22.316Z"
      },
      {
        "duration": 17,
        "start_time": "2022-06-08T15:43:22.395Z"
      },
      {
        "duration": 26,
        "start_time": "2022-06-08T15:43:22.414Z"
      },
      {
        "duration": 47,
        "start_time": "2022-06-08T15:43:22.442Z"
      },
      {
        "duration": 15,
        "start_time": "2022-06-08T15:43:22.491Z"
      },
      {
        "duration": 7,
        "start_time": "2022-06-08T16:28:32.186Z"
      },
      {
        "duration": 3098,
        "start_time": "2022-06-08T16:28:32.195Z"
      },
      {
        "duration": 32,
        "start_time": "2022-06-08T16:28:35.301Z"
      },
      {
        "duration": 73,
        "start_time": "2022-06-08T16:28:35.339Z"
      },
      {
        "duration": 102,
        "start_time": "2022-06-08T16:28:35.418Z"
      },
      {
        "duration": 20,
        "start_time": "2022-06-08T16:28:35.523Z"
      },
      {
        "duration": 120,
        "start_time": "2022-06-08T16:28:35.549Z"
      },
      {
        "duration": 148,
        "start_time": "2022-06-08T16:28:35.674Z"
      },
      {
        "duration": 57,
        "start_time": "2022-06-08T16:28:35.827Z"
      },
      {
        "duration": 18,
        "start_time": "2022-06-08T16:29:28.141Z"
      },
      {
        "duration": 2055,
        "start_time": "2022-06-08T16:30:39.108Z"
      },
      {
        "duration": 1474,
        "start_time": "2022-06-08T16:30:41.167Z"
      },
      {
        "duration": 44,
        "start_time": "2022-06-08T16:30:42.647Z"
      },
      {
        "duration": 46,
        "start_time": "2022-06-08T16:30:42.703Z"
      },
      {
        "duration": 73,
        "start_time": "2022-06-08T16:30:42.755Z"
      },
      {
        "duration": 83,
        "start_time": "2022-06-08T16:30:42.834Z"
      },
      {
        "duration": 92,
        "start_time": "2022-06-08T16:30:42.923Z"
      },
      {
        "duration": 79,
        "start_time": "2022-06-08T16:30:43.018Z"
      },
      {
        "duration": 8,
        "start_time": "2022-06-08T16:30:43.099Z"
      },
      {
        "duration": 24,
        "start_time": "2022-06-08T16:30:43.110Z"
      },
      {
        "duration": 47,
        "start_time": "2022-06-08T16:30:43.137Z"
      },
      {
        "duration": 22,
        "start_time": "2022-06-08T16:30:43.187Z"
      },
      {
        "duration": 32,
        "start_time": "2022-06-08T16:30:43.212Z"
      },
      {
        "duration": 312,
        "start_time": "2022-06-08T16:30:43.248Z"
      },
      {
        "duration": 62,
        "start_time": "2022-06-08T16:30:43.565Z"
      },
      {
        "duration": 30,
        "start_time": "2022-06-08T16:30:43.629Z"
      },
      {
        "duration": 330,
        "start_time": "2022-06-08T16:30:43.666Z"
      },
      {
        "duration": 12,
        "start_time": "2022-06-08T16:30:43.998Z"
      },
      {
        "duration": 121,
        "start_time": "2022-06-08T16:30:44.012Z"
      },
      {
        "duration": 33,
        "start_time": "2022-06-08T16:30:44.139Z"
      },
      {
        "duration": 41,
        "start_time": "2022-06-08T16:30:44.175Z"
      },
      {
        "duration": 486,
        "start_time": "2022-06-08T16:30:44.218Z"
      },
      {
        "duration": 26,
        "start_time": "2022-06-08T16:30:44.710Z"
      },
      {
        "duration": 115,
        "start_time": "2022-06-08T16:30:44.739Z"
      },
      {
        "duration": 50,
        "start_time": "2022-06-08T16:30:44.860Z"
      },
      {
        "duration": 9,
        "start_time": "2022-06-08T16:30:44.912Z"
      },
      {
        "duration": 39,
        "start_time": "2022-06-08T16:30:44.923Z"
      },
      {
        "duration": 30,
        "start_time": "2022-06-08T16:30:44.967Z"
      },
      {
        "duration": 67,
        "start_time": "2022-06-08T16:30:44.999Z"
      },
      {
        "duration": 27,
        "start_time": "2022-06-08T16:30:45.068Z"
      },
      {
        "duration": 37,
        "start_time": "2022-06-08T16:30:45.097Z"
      },
      {
        "duration": 27,
        "start_time": "2022-06-08T16:30:45.136Z"
      },
      {
        "duration": 87,
        "start_time": "2022-06-08T16:30:45.165Z"
      },
      {
        "duration": 17,
        "start_time": "2022-06-08T16:30:45.254Z"
      },
      {
        "duration": 17,
        "start_time": "2022-06-08T16:30:45.276Z"
      },
      {
        "duration": 25,
        "start_time": "2022-06-08T16:30:45.295Z"
      },
      {
        "duration": 76,
        "start_time": "2022-06-08T16:30:45.322Z"
      },
      {
        "duration": 12,
        "start_time": "2022-06-08T16:30:45.400Z"
      },
      {
        "duration": 15,
        "start_time": "2022-06-08T16:30:45.414Z"
      },
      {
        "duration": 34,
        "start_time": "2022-06-08T16:30:45.438Z"
      },
      {
        "duration": 32,
        "start_time": "2022-06-08T16:30:45.479Z"
      },
      {
        "duration": 20,
        "start_time": "2022-06-08T16:30:45.512Z"
      },
      {
        "duration": 5342,
        "start_time": "2022-06-08T16:30:45.535Z"
      },
      {
        "duration": 11,
        "start_time": "2022-06-08T16:30:50.879Z"
      },
      {
        "duration": 38,
        "start_time": "2022-06-08T16:30:50.892Z"
      },
      {
        "duration": 24,
        "start_time": "2022-06-08T16:30:50.938Z"
      },
      {
        "duration": 17,
        "start_time": "2022-06-08T16:30:50.964Z"
      },
      {
        "duration": 19,
        "start_time": "2022-06-08T16:30:50.984Z"
      },
      {
        "duration": 172,
        "start_time": "2022-06-08T16:30:51.006Z"
      },
      {
        "duration": 36,
        "start_time": "2022-06-08T16:30:51.184Z"
      },
      {
        "duration": 189,
        "start_time": "2022-06-08T16:30:51.229Z"
      },
      {
        "duration": 194,
        "start_time": "2022-06-08T16:30:51.426Z"
      },
      {
        "duration": 24,
        "start_time": "2022-06-08T16:30:51.627Z"
      },
      {
        "duration": 41,
        "start_time": "2022-06-08T16:30:51.653Z"
      },
      {
        "duration": 14,
        "start_time": "2022-06-08T16:30:51.696Z"
      },
      {
        "duration": 65,
        "start_time": "2022-06-08T16:30:51.712Z"
      },
      {
        "duration": 151,
        "start_time": "2022-06-08T16:30:51.780Z"
      },
      {
        "duration": 222,
        "start_time": "2022-06-08T16:30:51.939Z"
      },
      {
        "duration": 199,
        "start_time": "2022-06-08T16:30:52.162Z"
      },
      {
        "duration": 16,
        "start_time": "2022-06-08T16:30:52.366Z"
      },
      {
        "duration": 29,
        "start_time": "2022-06-08T16:30:52.383Z"
      },
      {
        "duration": 22,
        "start_time": "2022-06-08T16:30:52.414Z"
      },
      {
        "duration": 103,
        "start_time": "2022-06-08T16:30:52.440Z"
      },
      {
        "duration": 39,
        "start_time": "2022-06-08T16:30:52.548Z"
      },
      {
        "duration": 225,
        "start_time": "2022-06-08T16:30:52.591Z"
      },
      {
        "duration": 258,
        "start_time": "2022-06-08T16:30:52.818Z"
      },
      {
        "duration": 13,
        "start_time": "2022-06-08T16:30:53.080Z"
      },
      {
        "duration": 227,
        "start_time": "2022-06-08T16:30:53.096Z"
      },
      {
        "duration": 47,
        "start_time": "2022-06-08T16:30:53.326Z"
      },
      {
        "duration": 36,
        "start_time": "2022-06-08T16:30:53.375Z"
      },
      {
        "duration": 83,
        "start_time": "2022-06-08T16:30:53.413Z"
      },
      {
        "duration": 57,
        "start_time": "2022-06-08T16:30:53.498Z"
      },
      {
        "duration": 43,
        "start_time": "2022-06-08T16:30:53.557Z"
      },
      {
        "duration": 105,
        "start_time": "2022-06-08T16:30:53.602Z"
      },
      {
        "duration": 81,
        "start_time": "2022-06-08T16:30:53.712Z"
      },
      {
        "duration": 59,
        "start_time": "2022-06-08T16:30:53.795Z"
      },
      {
        "duration": 64,
        "start_time": "2022-06-08T16:30:53.856Z"
      },
      {
        "duration": 171,
        "start_time": "2022-06-08T16:30:53.922Z"
      },
      {
        "duration": 31,
        "start_time": "2022-06-08T16:30:54.095Z"
      },
      {
        "duration": 3,
        "start_time": "2022-06-08T16:55:19.782Z"
      },
      {
        "duration": 1003,
        "start_time": "2022-06-08T16:55:19.788Z"
      },
      {
        "duration": 40,
        "start_time": "2022-06-08T16:55:20.794Z"
      },
      {
        "duration": 30,
        "start_time": "2022-06-08T16:55:20.837Z"
      },
      {
        "duration": 38,
        "start_time": "2022-06-08T16:55:20.870Z"
      },
      {
        "duration": 22,
        "start_time": "2022-06-08T16:55:20.912Z"
      },
      {
        "duration": 39,
        "start_time": "2022-06-08T16:55:20.942Z"
      },
      {
        "duration": 22,
        "start_time": "2022-06-08T16:55:20.983Z"
      },
      {
        "duration": 11,
        "start_time": "2022-06-08T16:55:21.007Z"
      },
      {
        "duration": 35,
        "start_time": "2022-06-08T16:55:21.020Z"
      },
      {
        "duration": 20,
        "start_time": "2022-06-08T16:55:21.061Z"
      },
      {
        "duration": 12,
        "start_time": "2022-06-08T16:55:21.084Z"
      },
      {
        "duration": 42,
        "start_time": "2022-06-08T16:55:21.098Z"
      },
      {
        "duration": 271,
        "start_time": "2022-06-08T16:55:21.142Z"
      },
      {
        "duration": 89,
        "start_time": "2022-06-08T16:55:21.415Z"
      },
      {
        "duration": 34,
        "start_time": "2022-06-08T16:55:21.507Z"
      },
      {
        "duration": 335,
        "start_time": "2022-06-08T16:55:21.552Z"
      },
      {
        "duration": 11,
        "start_time": "2022-06-08T16:55:21.890Z"
      },
      {
        "duration": 32,
        "start_time": "2022-06-08T16:55:21.903Z"
      },
      {
        "duration": 52,
        "start_time": "2022-06-08T16:55:21.942Z"
      },
      {
        "duration": 62,
        "start_time": "2022-06-08T16:55:21.997Z"
      },
      {
        "duration": 595,
        "start_time": "2022-06-08T16:55:22.061Z"
      },
      {
        "duration": 30,
        "start_time": "2022-06-08T16:55:22.659Z"
      },
      {
        "duration": 121,
        "start_time": "2022-06-08T16:55:22.692Z"
      },
      {
        "duration": 28,
        "start_time": "2022-06-08T16:55:38.874Z"
      },
      {
        "duration": 3,
        "start_time": "2022-06-08T17:58:47.014Z"
      },
      {
        "duration": 1102,
        "start_time": "2022-06-08T17:58:47.030Z"
      },
      {
        "duration": 33,
        "start_time": "2022-06-08T17:58:48.135Z"
      },
      {
        "duration": 24,
        "start_time": "2022-06-08T17:58:48.172Z"
      },
      {
        "duration": 16,
        "start_time": "2022-06-08T17:58:48.198Z"
      },
      {
        "duration": 29,
        "start_time": "2022-06-08T17:58:48.217Z"
      },
      {
        "duration": 51,
        "start_time": "2022-06-08T17:58:48.248Z"
      },
      {
        "duration": 13,
        "start_time": "2022-06-08T17:58:48.300Z"
      },
      {
        "duration": 10,
        "start_time": "2022-06-08T17:58:48.315Z"
      },
      {
        "duration": 83,
        "start_time": "2022-06-08T17:58:48.328Z"
      },
      {
        "duration": 24,
        "start_time": "2022-06-08T17:58:48.413Z"
      },
      {
        "duration": 56,
        "start_time": "2022-06-08T17:58:48.438Z"
      },
      {
        "duration": 47,
        "start_time": "2022-06-08T17:58:48.496Z"
      },
      {
        "duration": 265,
        "start_time": "2022-06-08T17:58:48.545Z"
      },
      {
        "duration": 58,
        "start_time": "2022-06-08T17:58:48.814Z"
      },
      {
        "duration": 22,
        "start_time": "2022-06-08T17:58:48.877Z"
      },
      {
        "duration": 240,
        "start_time": "2022-06-08T17:58:48.902Z"
      },
      {
        "duration": 8,
        "start_time": "2022-06-08T17:58:49.144Z"
      },
      {
        "duration": 12,
        "start_time": "2022-06-08T17:58:49.153Z"
      },
      {
        "duration": 10,
        "start_time": "2022-06-08T17:58:49.172Z"
      },
      {
        "duration": 33,
        "start_time": "2022-06-08T17:58:49.184Z"
      },
      {
        "duration": 489,
        "start_time": "2022-06-08T17:58:49.219Z"
      },
      {
        "duration": 30,
        "start_time": "2022-06-08T17:58:49.710Z"
      },
      {
        "duration": 67,
        "start_time": "2022-06-08T17:58:49.742Z"
      },
      {
        "duration": 66,
        "start_time": "2022-06-08T17:58:49.811Z"
      },
      {
        "duration": 8,
        "start_time": "2022-06-08T17:58:49.880Z"
      },
      {
        "duration": 17,
        "start_time": "2022-06-08T17:58:49.890Z"
      },
      {
        "duration": 41,
        "start_time": "2022-06-08T17:58:49.908Z"
      },
      {
        "duration": 84,
        "start_time": "2022-06-08T17:58:49.953Z"
      },
      {
        "duration": 9,
        "start_time": "2022-06-08T17:58:50.039Z"
      },
      {
        "duration": 62,
        "start_time": "2022-06-08T17:58:50.050Z"
      },
      {
        "duration": 26,
        "start_time": "2022-06-08T17:59:01.349Z"
      },
      {
        "duration": 7,
        "start_time": "2022-06-08T18:27:01.191Z"
      },
      {
        "duration": 31,
        "start_time": "2022-06-08T18:27:05.974Z"
      },
      {
        "duration": 4,
        "start_time": "2022-06-08T18:27:16.191Z"
      },
      {
        "duration": 1631,
        "start_time": "2022-06-08T18:27:16.197Z"
      },
      {
        "duration": 37,
        "start_time": "2022-06-08T18:27:17.830Z"
      },
      {
        "duration": 48,
        "start_time": "2022-06-08T18:27:17.869Z"
      },
      {
        "duration": 22,
        "start_time": "2022-06-08T18:27:17.920Z"
      },
      {
        "duration": 52,
        "start_time": "2022-06-08T18:27:17.943Z"
      },
      {
        "duration": 15,
        "start_time": "2022-06-08T18:27:17.997Z"
      },
      {
        "duration": 31,
        "start_time": "2022-06-08T18:27:18.014Z"
      },
      {
        "duration": 54,
        "start_time": "2022-06-08T18:27:18.047Z"
      },
      {
        "duration": 18,
        "start_time": "2022-06-08T18:27:18.103Z"
      },
      {
        "duration": 57,
        "start_time": "2022-06-08T18:27:18.123Z"
      },
      {
        "duration": 19,
        "start_time": "2022-06-08T18:27:18.182Z"
      },
      {
        "duration": 36,
        "start_time": "2022-06-08T18:27:18.205Z"
      },
      {
        "duration": 293,
        "start_time": "2022-06-08T18:27:18.242Z"
      },
      {
        "duration": 60,
        "start_time": "2022-06-08T18:27:18.539Z"
      },
      {
        "duration": 30,
        "start_time": "2022-06-08T18:27:18.602Z"
      },
      {
        "duration": 350,
        "start_time": "2022-06-08T18:27:18.644Z"
      },
      {
        "duration": 12,
        "start_time": "2022-06-08T18:27:19.000Z"
      },
      {
        "duration": 27,
        "start_time": "2022-06-08T18:27:19.015Z"
      },
      {
        "duration": 57,
        "start_time": "2022-06-08T18:27:19.043Z"
      },
      {
        "duration": 42,
        "start_time": "2022-06-08T18:27:19.102Z"
      },
      {
        "duration": 472,
        "start_time": "2022-06-08T18:27:19.148Z"
      },
      {
        "duration": 71,
        "start_time": "2022-06-08T18:27:19.623Z"
      },
      {
        "duration": 97,
        "start_time": "2022-06-08T18:27:19.705Z"
      },
      {
        "duration": 66,
        "start_time": "2022-06-08T18:27:19.813Z"
      },
      {
        "duration": 6,
        "start_time": "2022-06-08T18:27:19.881Z"
      },
      {
        "duration": 32,
        "start_time": "2022-06-08T18:27:19.890Z"
      },
      {
        "duration": 40,
        "start_time": "2022-06-08T18:27:19.924Z"
      },
      {
        "duration": 65,
        "start_time": "2022-06-08T18:27:19.968Z"
      },
      {
        "duration": 15,
        "start_time": "2022-06-08T18:27:20.046Z"
      },
      {
        "duration": 63,
        "start_time": "2022-06-08T18:27:20.068Z"
      },
      {
        "duration": 43,
        "start_time": "2022-06-08T18:27:20.136Z"
      },
      {
        "duration": 121,
        "start_time": "2022-06-08T18:27:20.187Z"
      },
      {
        "duration": 31,
        "start_time": "2022-06-08T18:27:20.310Z"
      },
      {
        "duration": 46,
        "start_time": "2022-06-08T18:27:54.623Z"
      },
      {
        "duration": 13,
        "start_time": "2022-06-08T18:28:43.203Z"
      },
      {
        "duration": 41,
        "start_time": "2022-06-08T18:29:00.351Z"
      },
      {
        "duration": 22,
        "start_time": "2022-06-08T18:29:20.875Z"
      },
      {
        "duration": 13,
        "start_time": "2022-06-08T18:30:01.805Z"
      },
      {
        "duration": 25,
        "start_time": "2022-06-08T18:30:07.468Z"
      },
      {
        "duration": 22,
        "start_time": "2022-06-08T18:31:11.293Z"
      },
      {
        "duration": 40,
        "start_time": "2022-06-08T18:48:23.103Z"
      },
      {
        "duration": 74,
        "start_time": "2022-06-08T18:50:09.677Z"
      },
      {
        "duration": 88,
        "start_time": "2022-06-08T18:50:39.755Z"
      },
      {
        "duration": 15,
        "start_time": "2022-06-08T18:51:24.919Z"
      },
      {
        "duration": 1327,
        "start_time": "2022-06-09T01:12:54.495Z"
      },
      {
        "duration": 818,
        "start_time": "2022-06-09T01:12:55.825Z"
      },
      {
        "duration": 34,
        "start_time": "2022-06-09T01:12:56.645Z"
      },
      {
        "duration": 28,
        "start_time": "2022-06-09T01:12:56.681Z"
      },
      {
        "duration": 12,
        "start_time": "2022-06-09T01:12:56.712Z"
      },
      {
        "duration": 12,
        "start_time": "2022-06-09T01:12:56.725Z"
      },
      {
        "duration": 28,
        "start_time": "2022-06-09T01:12:56.738Z"
      },
      {
        "duration": 34,
        "start_time": "2022-06-09T01:12:56.767Z"
      },
      {
        "duration": 6,
        "start_time": "2022-06-09T01:12:56.802Z"
      },
      {
        "duration": 22,
        "start_time": "2022-06-09T01:12:56.809Z"
      },
      {
        "duration": 16,
        "start_time": "2022-06-09T01:12:56.832Z"
      },
      {
        "duration": 39,
        "start_time": "2022-06-09T01:12:56.849Z"
      },
      {
        "duration": 38,
        "start_time": "2022-06-09T01:12:56.889Z"
      },
      {
        "duration": 265,
        "start_time": "2022-06-09T01:12:56.930Z"
      },
      {
        "duration": 35,
        "start_time": "2022-06-09T01:12:57.197Z"
      },
      {
        "duration": 28,
        "start_time": "2022-06-09T01:12:57.233Z"
      },
      {
        "duration": 231,
        "start_time": "2022-06-09T01:12:57.263Z"
      },
      {
        "duration": 7,
        "start_time": "2022-06-09T01:12:57.496Z"
      },
      {
        "duration": 8,
        "start_time": "2022-06-09T01:12:57.505Z"
      },
      {
        "duration": 3,
        "start_time": "2022-06-09T01:12:57.514Z"
      },
      {
        "duration": 45,
        "start_time": "2022-06-09T01:12:57.519Z"
      },
      {
        "duration": 370,
        "start_time": "2022-06-09T01:12:57.566Z"
      },
      {
        "duration": 32,
        "start_time": "2022-06-09T01:12:57.938Z"
      },
      {
        "duration": 57,
        "start_time": "2022-06-09T01:12:57.976Z"
      },
      {
        "duration": 46,
        "start_time": "2022-06-09T01:12:58.035Z"
      },
      {
        "duration": 5,
        "start_time": "2022-06-09T01:12:58.082Z"
      },
      {
        "duration": 17,
        "start_time": "2022-06-09T01:12:58.088Z"
      },
      {
        "duration": 19,
        "start_time": "2022-06-09T01:12:58.107Z"
      },
      {
        "duration": 64,
        "start_time": "2022-06-09T01:12:58.127Z"
      },
      {
        "duration": 4,
        "start_time": "2022-06-09T01:12:58.193Z"
      },
      {
        "duration": 19,
        "start_time": "2022-06-09T01:12:58.198Z"
      },
      {
        "duration": 14,
        "start_time": "2022-06-09T01:12:58.219Z"
      },
      {
        "duration": 87,
        "start_time": "2022-06-09T01:12:58.235Z"
      },
      {
        "duration": 13,
        "start_time": "2022-06-09T01:12:58.324Z"
      },
      {
        "duration": 39,
        "start_time": "2022-06-09T01:12:58.338Z"
      },
      {
        "duration": 15,
        "start_time": "2022-06-09T01:12:58.379Z"
      },
      {
        "duration": 25,
        "start_time": "2022-06-09T01:12:58.395Z"
      },
      {
        "duration": 16,
        "start_time": "2022-06-09T01:12:58.421Z"
      },
      {
        "duration": 51,
        "start_time": "2022-06-09T01:12:58.438Z"
      },
      {
        "duration": 10,
        "start_time": "2022-06-09T01:12:58.492Z"
      },
      {
        "duration": 44,
        "start_time": "2022-06-09T01:12:58.506Z"
      },
      {
        "duration": 25,
        "start_time": "2022-06-09T01:12:58.551Z"
      },
      {
        "duration": 4216,
        "start_time": "2022-06-09T01:12:58.580Z"
      },
      {
        "duration": 7,
        "start_time": "2022-06-09T01:13:02.797Z"
      },
      {
        "duration": 35,
        "start_time": "2022-06-09T01:13:02.805Z"
      },
      {
        "duration": 45,
        "start_time": "2022-06-09T01:13:02.841Z"
      },
      {
        "duration": 19,
        "start_time": "2022-06-09T01:13:02.888Z"
      },
      {
        "duration": 28,
        "start_time": "2022-06-09T01:13:02.908Z"
      },
      {
        "duration": 154,
        "start_time": "2022-06-09T01:13:02.937Z"
      },
      {
        "duration": 20,
        "start_time": "2022-06-09T01:13:03.092Z"
      },
      {
        "duration": 184,
        "start_time": "2022-06-09T01:13:03.114Z"
      },
      {
        "duration": 187,
        "start_time": "2022-06-09T01:13:03.300Z"
      },
      {
        "duration": 13,
        "start_time": "2022-06-09T01:13:03.490Z"
      },
      {
        "duration": 38,
        "start_time": "2022-06-09T01:13:03.505Z"
      },
      {
        "duration": 44,
        "start_time": "2022-06-09T01:13:03.545Z"
      },
      {
        "duration": 27,
        "start_time": "2022-06-09T01:13:03.591Z"
      },
      {
        "duration": 86,
        "start_time": "2022-06-09T01:13:03.620Z"
      },
      {
        "duration": 140,
        "start_time": "2022-06-09T01:13:03.708Z"
      },
      {
        "duration": 169,
        "start_time": "2022-06-09T01:13:03.849Z"
      },
      {
        "duration": 12,
        "start_time": "2022-06-09T01:13:04.019Z"
      },
      {
        "duration": 15,
        "start_time": "2022-06-09T01:13:04.033Z"
      },
      {
        "duration": 35,
        "start_time": "2022-06-09T01:13:04.050Z"
      },
      {
        "duration": 30,
        "start_time": "2022-06-09T01:13:04.087Z"
      },
      {
        "duration": 26,
        "start_time": "2022-06-09T01:13:04.119Z"
      },
      {
        "duration": 165,
        "start_time": "2022-06-09T01:13:04.147Z"
      },
      {
        "duration": 148,
        "start_time": "2022-06-09T01:13:04.313Z"
      },
      {
        "duration": 5,
        "start_time": "2022-06-09T01:13:04.466Z"
      },
      {
        "duration": 38,
        "start_time": "2022-06-09T01:13:04.473Z"
      },
      {
        "duration": 7,
        "start_time": "2022-06-09T01:13:04.513Z"
      },
      {
        "duration": 6,
        "start_time": "2022-06-09T01:13:04.521Z"
      },
      {
        "duration": 10,
        "start_time": "2022-06-09T01:13:04.529Z"
      },
      {
        "duration": 8,
        "start_time": "2022-06-09T01:13:04.540Z"
      },
      {
        "duration": 36,
        "start_time": "2022-06-09T01:13:04.550Z"
      },
      {
        "duration": 5,
        "start_time": "2022-06-09T01:13:04.588Z"
      },
      {
        "duration": 11,
        "start_time": "2022-06-09T01:13:04.594Z"
      },
      {
        "duration": 8,
        "start_time": "2022-06-09T01:13:04.607Z"
      },
      {
        "duration": 9,
        "start_time": "2022-06-09T01:13:04.617Z"
      },
      {
        "duration": 5,
        "start_time": "2022-06-09T01:13:04.628Z"
      },
      {
        "duration": 6,
        "start_time": "2022-06-09T01:13:04.634Z"
      },
      {
        "duration": 15,
        "start_time": "2022-06-09T01:36:43.848Z"
      },
      {
        "duration": 11,
        "start_time": "2022-06-09T01:37:11.675Z"
      },
      {
        "duration": 14,
        "start_time": "2022-06-09T01:37:37.116Z"
      },
      {
        "duration": 9,
        "start_time": "2022-06-09T01:37:50.615Z"
      },
      {
        "duration": 11,
        "start_time": "2022-06-09T01:38:41.076Z"
      },
      {
        "duration": 11,
        "start_time": "2022-06-09T01:41:34.631Z"
      },
      {
        "duration": 5,
        "start_time": "2022-06-09T01:42:03.471Z"
      },
      {
        "duration": 6,
        "start_time": "2022-06-09T01:42:11.643Z"
      },
      {
        "duration": 6,
        "start_time": "2022-06-09T01:42:45.958Z"
      },
      {
        "duration": 10,
        "start_time": "2022-06-09T01:43:34.283Z"
      },
      {
        "duration": 6,
        "start_time": "2022-06-09T01:45:24.764Z"
      },
      {
        "duration": 36,
        "start_time": "2022-06-09T01:45:31.883Z"
      },
      {
        "duration": 5,
        "start_time": "2022-06-09T01:45:37.731Z"
      },
      {
        "duration": 29,
        "start_time": "2022-06-09T02:32:45.429Z"
      },
      {
        "duration": 22,
        "start_time": "2022-06-09T02:33:12.169Z"
      },
      {
        "duration": 8,
        "start_time": "2022-06-09T02:56:31.637Z"
      },
      {
        "duration": 10,
        "start_time": "2022-06-09T03:41:00.750Z"
      },
      {
        "duration": 7,
        "start_time": "2022-06-09T03:41:40.425Z"
      },
      {
        "duration": 10,
        "start_time": "2022-06-09T03:43:53.511Z"
      },
      {
        "duration": 6,
        "start_time": "2022-06-09T03:44:10.253Z"
      },
      {
        "duration": 5,
        "start_time": "2022-06-09T03:44:26.350Z"
      },
      {
        "duration": 6,
        "start_time": "2022-06-09T03:44:33.722Z"
      },
      {
        "duration": 5,
        "start_time": "2022-06-09T03:44:43.283Z"
      },
      {
        "duration": 20,
        "start_time": "2022-06-09T03:45:18.111Z"
      },
      {
        "duration": 44,
        "start_time": "2022-06-10T14:12:03.848Z"
      },
      {
        "duration": 1115,
        "start_time": "2022-06-10T14:12:15.675Z"
      },
      {
        "duration": 3043,
        "start_time": "2022-06-10T14:12:16.792Z"
      },
      {
        "duration": 18,
        "start_time": "2022-06-10T14:12:19.836Z"
      },
      {
        "duration": 14,
        "start_time": "2022-06-10T14:12:19.856Z"
      },
      {
        "duration": 11,
        "start_time": "2022-06-10T14:12:19.871Z"
      },
      {
        "duration": 9,
        "start_time": "2022-06-10T14:12:19.884Z"
      },
      {
        "duration": 14,
        "start_time": "2022-06-10T14:12:19.894Z"
      },
      {
        "duration": 13,
        "start_time": "2022-06-10T14:12:19.909Z"
      },
      {
        "duration": 7,
        "start_time": "2022-06-10T14:12:19.923Z"
      },
      {
        "duration": 12,
        "start_time": "2022-06-10T14:12:19.932Z"
      },
      {
        "duration": 34,
        "start_time": "2022-06-10T14:12:19.945Z"
      },
      {
        "duration": 11,
        "start_time": "2022-06-10T14:12:19.981Z"
      },
      {
        "duration": 25,
        "start_time": "2022-06-10T14:12:19.993Z"
      },
      {
        "duration": 232,
        "start_time": "2022-06-10T14:12:20.019Z"
      },
      {
        "duration": 44,
        "start_time": "2022-06-10T14:12:20.253Z"
      },
      {
        "duration": 15,
        "start_time": "2022-06-10T14:12:20.299Z"
      },
      {
        "duration": 185,
        "start_time": "2022-06-10T14:12:20.316Z"
      },
      {
        "duration": 6,
        "start_time": "2022-06-10T14:12:20.503Z"
      },
      {
        "duration": 11,
        "start_time": "2022-06-10T14:12:20.510Z"
      },
      {
        "duration": 3,
        "start_time": "2022-06-10T14:12:20.522Z"
      },
      {
        "duration": 24,
        "start_time": "2022-06-10T14:12:20.527Z"
      },
      {
        "duration": 312,
        "start_time": "2022-06-10T14:12:20.552Z"
      },
      {
        "duration": 19,
        "start_time": "2022-06-10T14:12:20.865Z"
      },
      {
        "duration": 55,
        "start_time": "2022-06-10T14:12:20.886Z"
      },
      {
        "duration": 45,
        "start_time": "2022-06-10T14:12:20.942Z"
      },
      {
        "duration": 4,
        "start_time": "2022-06-10T14:12:20.989Z"
      },
      {
        "duration": 17,
        "start_time": "2022-06-10T14:12:20.994Z"
      },
      {
        "duration": 16,
        "start_time": "2022-06-10T14:12:21.014Z"
      },
      {
        "duration": 53,
        "start_time": "2022-06-10T14:12:21.031Z"
      },
      {
        "duration": 4,
        "start_time": "2022-06-10T14:12:21.085Z"
      },
      {
        "duration": 17,
        "start_time": "2022-06-10T14:12:21.090Z"
      },
      {
        "duration": 14,
        "start_time": "2022-06-10T14:12:21.109Z"
      },
      {
        "duration": 82,
        "start_time": "2022-06-10T14:12:21.124Z"
      },
      {
        "duration": 13,
        "start_time": "2022-06-10T14:12:21.208Z"
      },
      {
        "duration": 14,
        "start_time": "2022-06-10T14:12:21.222Z"
      },
      {
        "duration": 16,
        "start_time": "2022-06-10T14:12:21.237Z"
      },
      {
        "duration": 44,
        "start_time": "2022-06-10T14:12:21.255Z"
      },
      {
        "duration": 8,
        "start_time": "2022-06-10T14:12:21.300Z"
      },
      {
        "duration": 6,
        "start_time": "2022-06-10T14:12:21.309Z"
      },
      {
        "duration": 16,
        "start_time": "2022-06-10T14:12:21.317Z"
      },
      {
        "duration": 46,
        "start_time": "2022-06-10T14:12:21.335Z"
      },
      {
        "duration": 14,
        "start_time": "2022-06-10T14:12:21.383Z"
      },
      {
        "duration": 8,
        "start_time": "2022-06-10T14:12:21.398Z"
      },
      {
        "duration": 3809,
        "start_time": "2022-06-10T14:12:21.407Z"
      },
      {
        "duration": 7,
        "start_time": "2022-06-10T14:12:25.217Z"
      },
      {
        "duration": 26,
        "start_time": "2022-06-10T14:12:25.225Z"
      },
      {
        "duration": 27,
        "start_time": "2022-06-10T14:12:25.252Z"
      },
      {
        "duration": 4,
        "start_time": "2022-06-10T14:12:25.280Z"
      },
      {
        "duration": 10,
        "start_time": "2022-06-10T14:12:25.285Z"
      },
      {
        "duration": 130,
        "start_time": "2022-06-10T14:12:25.296Z"
      },
      {
        "duration": 21,
        "start_time": "2022-06-10T14:12:25.427Z"
      },
      {
        "duration": 165,
        "start_time": "2022-06-10T14:12:25.450Z"
      },
      {
        "duration": 162,
        "start_time": "2022-06-10T14:12:25.617Z"
      },
      {
        "duration": 13,
        "start_time": "2022-06-10T14:12:25.781Z"
      },
      {
        "duration": 11,
        "start_time": "2022-06-10T14:12:25.796Z"
      },
      {
        "duration": 7,
        "start_time": "2022-06-10T14:12:25.808Z"
      },
      {
        "duration": 22,
        "start_time": "2022-06-10T14:12:25.817Z"
      },
      {
        "duration": 101,
        "start_time": "2022-06-10T14:12:25.840Z"
      },
      {
        "duration": 145,
        "start_time": "2022-06-10T14:12:25.943Z"
      },
      {
        "duration": 153,
        "start_time": "2022-06-10T14:12:26.089Z"
      },
      {
        "duration": 13,
        "start_time": "2022-06-10T14:12:26.244Z"
      },
      {
        "duration": 25,
        "start_time": "2022-06-10T14:12:26.259Z"
      },
      {
        "duration": 7,
        "start_time": "2022-06-10T14:12:26.285Z"
      },
      {
        "duration": 26,
        "start_time": "2022-06-10T14:12:26.293Z"
      },
      {
        "duration": 23,
        "start_time": "2022-06-10T14:12:26.321Z"
      },
      {
        "duration": 156,
        "start_time": "2022-06-10T14:12:26.346Z"
      },
      {
        "duration": 136,
        "start_time": "2022-06-10T14:12:26.504Z"
      },
      {
        "duration": 3,
        "start_time": "2022-06-10T14:12:26.642Z"
      },
      {
        "duration": 37,
        "start_time": "2022-06-10T14:12:26.647Z"
      },
      {
        "duration": 4,
        "start_time": "2022-06-10T14:12:26.685Z"
      },
      {
        "duration": 12,
        "start_time": "2022-06-10T14:12:26.691Z"
      },
      {
        "duration": 15,
        "start_time": "2022-06-10T14:12:26.705Z"
      },
      {
        "duration": 14,
        "start_time": "2022-06-10T14:12:26.721Z"
      },
      {
        "duration": 12,
        "start_time": "2022-06-10T14:12:26.736Z"
      },
      {
        "duration": 15,
        "start_time": "2022-06-10T14:12:26.749Z"
      },
      {
        "duration": 22,
        "start_time": "2022-06-10T14:12:26.765Z"
      },
      {
        "duration": 12,
        "start_time": "2022-06-10T14:12:26.789Z"
      },
      {
        "duration": 21,
        "start_time": "2022-06-10T14:12:26.803Z"
      },
      {
        "duration": 15,
        "start_time": "2022-06-10T14:12:26.825Z"
      },
      {
        "duration": 10,
        "start_time": "2022-06-10T14:12:26.842Z"
      },
      {
        "duration": 12,
        "start_time": "2022-06-10T14:13:06.521Z"
      },
      {
        "duration": 12,
        "start_time": "2022-06-10T14:13:47.104Z"
      },
      {
        "duration": 999,
        "start_time": "2022-06-10T14:13:57.122Z"
      },
      {
        "duration": 645,
        "start_time": "2022-06-10T14:13:58.123Z"
      },
      {
        "duration": 17,
        "start_time": "2022-06-10T14:13:58.770Z"
      },
      {
        "duration": 13,
        "start_time": "2022-06-10T14:13:58.789Z"
      },
      {
        "duration": 13,
        "start_time": "2022-06-10T14:13:58.804Z"
      },
      {
        "duration": 9,
        "start_time": "2022-06-10T14:13:58.819Z"
      },
      {
        "duration": 12,
        "start_time": "2022-06-10T14:13:58.830Z"
      },
      {
        "duration": 36,
        "start_time": "2022-06-10T14:13:58.843Z"
      },
      {
        "duration": 7,
        "start_time": "2022-06-10T14:13:58.880Z"
      },
      {
        "duration": 13,
        "start_time": "2022-06-10T14:13:58.889Z"
      },
      {
        "duration": 18,
        "start_time": "2022-06-10T14:13:58.903Z"
      },
      {
        "duration": 9,
        "start_time": "2022-06-10T14:13:58.922Z"
      },
      {
        "duration": 24,
        "start_time": "2022-06-10T14:13:58.932Z"
      },
      {
        "duration": 196,
        "start_time": "2022-06-10T14:13:58.977Z"
      },
      {
        "duration": 37,
        "start_time": "2022-06-10T14:13:59.174Z"
      },
      {
        "duration": 14,
        "start_time": "2022-06-10T14:13:59.213Z"
      },
      {
        "duration": 194,
        "start_time": "2022-06-10T14:13:59.228Z"
      },
      {
        "duration": 7,
        "start_time": "2022-06-10T14:13:59.424Z"
      },
      {
        "duration": 9,
        "start_time": "2022-06-10T14:13:59.432Z"
      },
      {
        "duration": 4,
        "start_time": "2022-06-10T14:13:59.442Z"
      },
      {
        "duration": 40,
        "start_time": "2022-06-10T14:13:59.447Z"
      },
      {
        "duration": 295,
        "start_time": "2022-06-10T14:13:59.488Z"
      },
      {
        "duration": 17,
        "start_time": "2022-06-10T14:13:59.785Z"
      },
      {
        "duration": 75,
        "start_time": "2022-06-10T14:13:59.804Z"
      },
      {
        "duration": 31,
        "start_time": "2022-06-10T14:13:59.881Z"
      },
      {
        "duration": 5,
        "start_time": "2022-06-10T14:13:59.914Z"
      },
      {
        "duration": 16,
        "start_time": "2022-06-10T14:13:59.920Z"
      },
      {
        "duration": 38,
        "start_time": "2022-06-10T14:13:59.941Z"
      },
      {
        "duration": 35,
        "start_time": "2022-06-10T14:13:59.980Z"
      },
      {
        "duration": 4,
        "start_time": "2022-06-10T14:14:00.017Z"
      },
      {
        "duration": 20,
        "start_time": "2022-06-10T14:14:00.023Z"
      },
      {
        "duration": 39,
        "start_time": "2022-06-10T14:14:00.044Z"
      },
      {
        "duration": 64,
        "start_time": "2022-06-10T14:14:00.085Z"
      },
      {
        "duration": 29,
        "start_time": "2022-06-10T14:14:00.150Z"
      },
      {
        "duration": 10,
        "start_time": "2022-06-10T14:14:00.181Z"
      },
      {
        "duration": 22,
        "start_time": "2022-06-10T14:14:00.192Z"
      },
      {
        "duration": 31,
        "start_time": "2022-06-10T14:14:00.215Z"
      },
      {
        "duration": 8,
        "start_time": "2022-06-10T14:14:00.248Z"
      },
      {
        "duration": 40,
        "start_time": "2022-06-10T14:14:00.258Z"
      },
      {
        "duration": 19,
        "start_time": "2022-06-10T14:14:00.299Z"
      },
      {
        "duration": 57,
        "start_time": "2022-06-10T14:14:00.320Z"
      },
      {
        "duration": 13,
        "start_time": "2022-06-10T14:14:00.378Z"
      },
      {
        "duration": 5,
        "start_time": "2022-06-10T14:14:00.392Z"
      },
      {
        "duration": 3619,
        "start_time": "2022-06-10T14:14:00.398Z"
      },
      {
        "duration": 6,
        "start_time": "2022-06-10T14:14:04.018Z"
      },
      {
        "duration": 22,
        "start_time": "2022-06-10T14:14:04.026Z"
      },
      {
        "duration": 13,
        "start_time": "2022-06-10T14:14:04.049Z"
      },
      {
        "duration": 14,
        "start_time": "2022-06-10T14:14:04.064Z"
      },
      {
        "duration": 19,
        "start_time": "2022-06-10T14:14:04.080Z"
      },
      {
        "duration": 104,
        "start_time": "2022-06-10T14:14:04.100Z"
      },
      {
        "duration": 21,
        "start_time": "2022-06-10T14:14:04.205Z"
      },
      {
        "duration": 154,
        "start_time": "2022-06-10T14:14:04.227Z"
      },
      {
        "duration": 151,
        "start_time": "2022-06-10T14:14:04.383Z"
      },
      {
        "duration": 13,
        "start_time": "2022-06-10T14:14:04.536Z"
      },
      {
        "duration": 14,
        "start_time": "2022-06-10T14:14:04.550Z"
      },
      {
        "duration": 19,
        "start_time": "2022-06-10T14:14:04.578Z"
      },
      {
        "duration": 27,
        "start_time": "2022-06-10T14:14:04.598Z"
      },
      {
        "duration": 85,
        "start_time": "2022-06-10T14:14:04.626Z"
      },
      {
        "duration": 139,
        "start_time": "2022-06-10T14:14:04.713Z"
      },
      {
        "duration": 135,
        "start_time": "2022-06-10T14:14:04.854Z"
      },
      {
        "duration": 12,
        "start_time": "2022-06-10T14:14:04.991Z"
      },
      {
        "duration": 14,
        "start_time": "2022-06-10T14:14:05.004Z"
      },
      {
        "duration": 11,
        "start_time": "2022-06-10T14:14:05.020Z"
      },
      {
        "duration": 45,
        "start_time": "2022-06-10T14:14:05.033Z"
      },
      {
        "duration": 23,
        "start_time": "2022-06-10T14:14:05.080Z"
      },
      {
        "duration": 141,
        "start_time": "2022-06-10T14:14:05.104Z"
      },
      {
        "duration": 137,
        "start_time": "2022-06-10T14:14:05.247Z"
      },
      {
        "duration": 4,
        "start_time": "2022-06-10T14:14:05.386Z"
      },
      {
        "duration": 27,
        "start_time": "2022-06-10T14:14:05.392Z"
      },
      {
        "duration": 5,
        "start_time": "2022-06-10T14:14:05.421Z"
      },
      {
        "duration": 5,
        "start_time": "2022-06-10T14:14:05.427Z"
      },
      {
        "duration": 15,
        "start_time": "2022-06-10T14:14:05.433Z"
      },
      {
        "duration": 7,
        "start_time": "2022-06-10T14:14:05.449Z"
      },
      {
        "duration": 20,
        "start_time": "2022-06-10T14:14:05.458Z"
      },
      {
        "duration": 9,
        "start_time": "2022-06-10T14:14:05.479Z"
      },
      {
        "duration": 8,
        "start_time": "2022-06-10T14:14:05.490Z"
      },
      {
        "duration": 17,
        "start_time": "2022-06-10T14:14:05.499Z"
      },
      {
        "duration": 10,
        "start_time": "2022-06-10T14:14:05.517Z"
      },
      {
        "duration": 8,
        "start_time": "2022-06-10T14:14:05.528Z"
      },
      {
        "duration": 20,
        "start_time": "2022-06-10T14:14:05.537Z"
      },
      {
        "duration": 4,
        "start_time": "2022-06-10T14:16:20.267Z"
      },
      {
        "duration": 15,
        "start_time": "2022-06-10T14:17:56.519Z"
      },
      {
        "duration": 945,
        "start_time": "2022-06-10T14:18:05.349Z"
      },
      {
        "duration": 1104,
        "start_time": "2022-06-10T14:18:06.295Z"
      },
      {
        "duration": 18,
        "start_time": "2022-06-10T14:18:07.400Z"
      },
      {
        "duration": 14,
        "start_time": "2022-06-10T14:18:07.420Z"
      },
      {
        "duration": 12,
        "start_time": "2022-06-10T14:18:07.435Z"
      },
      {
        "duration": 9,
        "start_time": "2022-06-10T14:18:07.448Z"
      },
      {
        "duration": 9,
        "start_time": "2022-06-10T14:18:07.458Z"
      },
      {
        "duration": 12,
        "start_time": "2022-06-10T14:18:07.478Z"
      },
      {
        "duration": 12,
        "start_time": "2022-06-10T14:18:07.491Z"
      },
      {
        "duration": 9,
        "start_time": "2022-06-10T14:18:07.505Z"
      },
      {
        "duration": 17,
        "start_time": "2022-06-10T14:18:07.515Z"
      },
      {
        "duration": 9,
        "start_time": "2022-06-10T14:18:07.533Z"
      },
      {
        "duration": 40,
        "start_time": "2022-06-10T14:18:07.544Z"
      },
      {
        "duration": 265,
        "start_time": "2022-06-10T14:18:07.585Z"
      },
      {
        "duration": 46,
        "start_time": "2022-06-10T14:18:07.852Z"
      },
      {
        "duration": 17,
        "start_time": "2022-06-10T14:18:07.900Z"
      },
      {
        "duration": 194,
        "start_time": "2022-06-10T14:18:07.919Z"
      },
      {
        "duration": 6,
        "start_time": "2022-06-10T14:18:08.115Z"
      },
      {
        "duration": 8,
        "start_time": "2022-06-10T14:18:08.122Z"
      },
      {
        "duration": 14,
        "start_time": "2022-06-10T14:18:08.131Z"
      },
      {
        "duration": 122,
        "start_time": "2022-06-10T14:18:08.146Z"
      },
      {
        "duration": 0,
        "start_time": "2022-06-10T14:18:08.271Z"
      },
      {
        "duration": 0,
        "start_time": "2022-06-10T14:18:08.273Z"
      },
      {
        "duration": 0,
        "start_time": "2022-06-10T14:18:08.278Z"
      },
      {
        "duration": 1,
        "start_time": "2022-06-10T14:18:08.278Z"
      },
      {
        "duration": 0,
        "start_time": "2022-06-10T14:18:08.279Z"
      },
      {
        "duration": 0,
        "start_time": "2022-06-10T14:18:08.280Z"
      },
      {
        "duration": 0,
        "start_time": "2022-06-10T14:18:08.281Z"
      },
      {
        "duration": 0,
        "start_time": "2022-06-10T14:18:08.282Z"
      },
      {
        "duration": 0,
        "start_time": "2022-06-10T14:18:08.283Z"
      },
      {
        "duration": 0,
        "start_time": "2022-06-10T14:18:08.284Z"
      },
      {
        "duration": 0,
        "start_time": "2022-06-10T14:18:08.284Z"
      },
      {
        "duration": 0,
        "start_time": "2022-06-10T14:18:08.286Z"
      },
      {
        "duration": 0,
        "start_time": "2022-06-10T14:18:08.286Z"
      },
      {
        "duration": 0,
        "start_time": "2022-06-10T14:18:08.287Z"
      },
      {
        "duration": 0,
        "start_time": "2022-06-10T14:18:08.288Z"
      },
      {
        "duration": 0,
        "start_time": "2022-06-10T14:18:08.289Z"
      },
      {
        "duration": 0,
        "start_time": "2022-06-10T14:18:08.290Z"
      },
      {
        "duration": 1,
        "start_time": "2022-06-10T14:18:08.290Z"
      },
      {
        "duration": 0,
        "start_time": "2022-06-10T14:18:08.291Z"
      },
      {
        "duration": 0,
        "start_time": "2022-06-10T14:18:08.292Z"
      },
      {
        "duration": 0,
        "start_time": "2022-06-10T14:18:08.293Z"
      },
      {
        "duration": 0,
        "start_time": "2022-06-10T14:18:08.294Z"
      },
      {
        "duration": 0,
        "start_time": "2022-06-10T14:18:08.295Z"
      },
      {
        "duration": 0,
        "start_time": "2022-06-10T14:18:08.296Z"
      },
      {
        "duration": 0,
        "start_time": "2022-06-10T14:18:08.297Z"
      },
      {
        "duration": 0,
        "start_time": "2022-06-10T14:18:08.298Z"
      },
      {
        "duration": 0,
        "start_time": "2022-06-10T14:18:08.299Z"
      },
      {
        "duration": 0,
        "start_time": "2022-06-10T14:18:08.300Z"
      },
      {
        "duration": 0,
        "start_time": "2022-06-10T14:18:08.301Z"
      },
      {
        "duration": 0,
        "start_time": "2022-06-10T14:18:08.301Z"
      },
      {
        "duration": 0,
        "start_time": "2022-06-10T14:18:08.302Z"
      },
      {
        "duration": 0,
        "start_time": "2022-06-10T14:18:08.303Z"
      },
      {
        "duration": 0,
        "start_time": "2022-06-10T14:18:08.304Z"
      },
      {
        "duration": 0,
        "start_time": "2022-06-10T14:18:08.305Z"
      },
      {
        "duration": 0,
        "start_time": "2022-06-10T14:18:08.306Z"
      },
      {
        "duration": 0,
        "start_time": "2022-06-10T14:18:08.307Z"
      },
      {
        "duration": 0,
        "start_time": "2022-06-10T14:18:08.308Z"
      },
      {
        "duration": 0,
        "start_time": "2022-06-10T14:18:08.309Z"
      },
      {
        "duration": 0,
        "start_time": "2022-06-10T14:18:08.310Z"
      },
      {
        "duration": 0,
        "start_time": "2022-06-10T14:18:08.311Z"
      },
      {
        "duration": 0,
        "start_time": "2022-06-10T14:18:08.312Z"
      },
      {
        "duration": 0,
        "start_time": "2022-06-10T14:18:08.313Z"
      },
      {
        "duration": 0,
        "start_time": "2022-06-10T14:18:08.314Z"
      },
      {
        "duration": 0,
        "start_time": "2022-06-10T14:18:08.314Z"
      },
      {
        "duration": 0,
        "start_time": "2022-06-10T14:18:08.315Z"
      },
      {
        "duration": 0,
        "start_time": "2022-06-10T14:18:08.378Z"
      },
      {
        "duration": 0,
        "start_time": "2022-06-10T14:18:08.379Z"
      },
      {
        "duration": 0,
        "start_time": "2022-06-10T14:18:08.380Z"
      },
      {
        "duration": 0,
        "start_time": "2022-06-10T14:18:08.380Z"
      },
      {
        "duration": 0,
        "start_time": "2022-06-10T14:18:08.381Z"
      },
      {
        "duration": 0,
        "start_time": "2022-06-10T14:18:08.382Z"
      },
      {
        "duration": 0,
        "start_time": "2022-06-10T14:18:08.383Z"
      },
      {
        "duration": 0,
        "start_time": "2022-06-10T14:18:08.384Z"
      },
      {
        "duration": 0,
        "start_time": "2022-06-10T14:18:08.384Z"
      },
      {
        "duration": 0,
        "start_time": "2022-06-10T14:18:08.385Z"
      },
      {
        "duration": 0,
        "start_time": "2022-06-10T14:18:08.386Z"
      },
      {
        "duration": 0,
        "start_time": "2022-06-10T14:18:08.387Z"
      },
      {
        "duration": 0,
        "start_time": "2022-06-10T14:18:08.388Z"
      },
      {
        "duration": 0,
        "start_time": "2022-06-10T14:18:08.389Z"
      },
      {
        "duration": 8,
        "start_time": "2022-06-10T14:21:29.784Z"
      },
      {
        "duration": 334,
        "start_time": "2022-06-10T14:21:49.154Z"
      },
      {
        "duration": 954,
        "start_time": "2022-06-10T14:22:00.429Z"
      },
      {
        "duration": 890,
        "start_time": "2022-06-10T14:22:01.385Z"
      },
      {
        "duration": 21,
        "start_time": "2022-06-10T14:22:02.277Z"
      },
      {
        "duration": 19,
        "start_time": "2022-06-10T14:22:02.301Z"
      },
      {
        "duration": 13,
        "start_time": "2022-06-10T14:22:02.321Z"
      },
      {
        "duration": 10,
        "start_time": "2022-06-10T14:22:02.336Z"
      },
      {
        "duration": 31,
        "start_time": "2022-06-10T14:22:02.347Z"
      },
      {
        "duration": 14,
        "start_time": "2022-06-10T14:22:02.379Z"
      },
      {
        "duration": 11,
        "start_time": "2022-06-10T14:22:02.394Z"
      },
      {
        "duration": 24,
        "start_time": "2022-06-10T14:22:02.407Z"
      },
      {
        "duration": 25,
        "start_time": "2022-06-10T14:22:02.432Z"
      },
      {
        "duration": 34,
        "start_time": "2022-06-10T14:22:02.458Z"
      },
      {
        "duration": 26,
        "start_time": "2022-06-10T14:22:02.494Z"
      },
      {
        "duration": 188,
        "start_time": "2022-06-10T14:22:02.522Z"
      },
      {
        "duration": 34,
        "start_time": "2022-06-10T14:22:02.711Z"
      },
      {
        "duration": 14,
        "start_time": "2022-06-10T14:22:02.746Z"
      },
      {
        "duration": 218,
        "start_time": "2022-06-10T14:22:02.762Z"
      },
      {
        "duration": 7,
        "start_time": "2022-06-10T14:22:02.981Z"
      },
      {
        "duration": 17,
        "start_time": "2022-06-10T14:22:02.990Z"
      },
      {
        "duration": 17,
        "start_time": "2022-06-10T14:22:03.008Z"
      },
      {
        "duration": 88,
        "start_time": "2022-06-10T14:22:03.027Z"
      },
      {
        "duration": 0,
        "start_time": "2022-06-10T14:22:03.118Z"
      },
      {
        "duration": 0,
        "start_time": "2022-06-10T14:22:03.119Z"
      },
      {
        "duration": 0,
        "start_time": "2022-06-10T14:22:03.121Z"
      },
      {
        "duration": 0,
        "start_time": "2022-06-10T14:22:03.121Z"
      },
      {
        "duration": 0,
        "start_time": "2022-06-10T14:22:03.122Z"
      },
      {
        "duration": 0,
        "start_time": "2022-06-10T14:22:03.123Z"
      },
      {
        "duration": 0,
        "start_time": "2022-06-10T14:22:03.124Z"
      },
      {
        "duration": 0,
        "start_time": "2022-06-10T14:22:03.125Z"
      },
      {
        "duration": 0,
        "start_time": "2022-06-10T14:22:03.126Z"
      },
      {
        "duration": 0,
        "start_time": "2022-06-10T14:22:03.127Z"
      },
      {
        "duration": 0,
        "start_time": "2022-06-10T14:22:03.127Z"
      },
      {
        "duration": 0,
        "start_time": "2022-06-10T14:22:03.128Z"
      },
      {
        "duration": 0,
        "start_time": "2022-06-10T14:22:03.129Z"
      },
      {
        "duration": 0,
        "start_time": "2022-06-10T14:22:03.130Z"
      },
      {
        "duration": 0,
        "start_time": "2022-06-10T14:22:03.130Z"
      },
      {
        "duration": 0,
        "start_time": "2022-06-10T14:22:03.131Z"
      },
      {
        "duration": 0,
        "start_time": "2022-06-10T14:22:03.132Z"
      },
      {
        "duration": 0,
        "start_time": "2022-06-10T14:22:03.133Z"
      },
      {
        "duration": 0,
        "start_time": "2022-06-10T14:22:03.134Z"
      },
      {
        "duration": 0,
        "start_time": "2022-06-10T14:22:03.135Z"
      },
      {
        "duration": 0,
        "start_time": "2022-06-10T14:22:03.136Z"
      },
      {
        "duration": 0,
        "start_time": "2022-06-10T14:22:03.137Z"
      },
      {
        "duration": 0,
        "start_time": "2022-06-10T14:22:03.138Z"
      },
      {
        "duration": 0,
        "start_time": "2022-06-10T14:22:03.139Z"
      },
      {
        "duration": 0,
        "start_time": "2022-06-10T14:22:03.139Z"
      },
      {
        "duration": 0,
        "start_time": "2022-06-10T14:22:03.177Z"
      },
      {
        "duration": 0,
        "start_time": "2022-06-10T14:22:03.178Z"
      },
      {
        "duration": 0,
        "start_time": "2022-06-10T14:22:03.179Z"
      },
      {
        "duration": 0,
        "start_time": "2022-06-10T14:22:03.180Z"
      },
      {
        "duration": 0,
        "start_time": "2022-06-10T14:22:03.181Z"
      },
      {
        "duration": 0,
        "start_time": "2022-06-10T14:22:03.182Z"
      },
      {
        "duration": 0,
        "start_time": "2022-06-10T14:22:03.183Z"
      },
      {
        "duration": 0,
        "start_time": "2022-06-10T14:22:03.185Z"
      },
      {
        "duration": 0,
        "start_time": "2022-06-10T14:22:03.185Z"
      },
      {
        "duration": 0,
        "start_time": "2022-06-10T14:22:03.186Z"
      },
      {
        "duration": 0,
        "start_time": "2022-06-10T14:22:03.187Z"
      },
      {
        "duration": 0,
        "start_time": "2022-06-10T14:22:03.188Z"
      },
      {
        "duration": 0,
        "start_time": "2022-06-10T14:22:03.189Z"
      },
      {
        "duration": 0,
        "start_time": "2022-06-10T14:22:03.190Z"
      },
      {
        "duration": 0,
        "start_time": "2022-06-10T14:22:03.191Z"
      },
      {
        "duration": 0,
        "start_time": "2022-06-10T14:22:03.192Z"
      },
      {
        "duration": 0,
        "start_time": "2022-06-10T14:22:03.193Z"
      },
      {
        "duration": 0,
        "start_time": "2022-06-10T14:22:03.194Z"
      },
      {
        "duration": 1,
        "start_time": "2022-06-10T14:22:03.194Z"
      },
      {
        "duration": 0,
        "start_time": "2022-06-10T14:22:03.195Z"
      },
      {
        "duration": 0,
        "start_time": "2022-06-10T14:22:03.196Z"
      },
      {
        "duration": 0,
        "start_time": "2022-06-10T14:22:03.197Z"
      },
      {
        "duration": 0,
        "start_time": "2022-06-10T14:22:03.198Z"
      },
      {
        "duration": 0,
        "start_time": "2022-06-10T14:22:03.199Z"
      },
      {
        "duration": 0,
        "start_time": "2022-06-10T14:22:03.200Z"
      },
      {
        "duration": 0,
        "start_time": "2022-06-10T14:22:03.201Z"
      },
      {
        "duration": 0,
        "start_time": "2022-06-10T14:22:03.202Z"
      },
      {
        "duration": 0,
        "start_time": "2022-06-10T14:22:03.203Z"
      },
      {
        "duration": 0,
        "start_time": "2022-06-10T14:22:03.204Z"
      },
      {
        "duration": 0,
        "start_time": "2022-06-10T14:22:03.204Z"
      },
      {
        "duration": 0,
        "start_time": "2022-06-10T14:22:03.205Z"
      },
      {
        "duration": 0,
        "start_time": "2022-06-10T14:22:03.206Z"
      },
      {
        "duration": 0,
        "start_time": "2022-06-10T14:22:03.207Z"
      },
      {
        "duration": 0,
        "start_time": "2022-06-10T14:22:03.208Z"
      },
      {
        "duration": 303,
        "start_time": "2022-06-10T14:23:02.463Z"
      },
      {
        "duration": 9,
        "start_time": "2022-06-10T14:23:04.099Z"
      },
      {
        "duration": 998,
        "start_time": "2022-06-10T14:23:17.893Z"
      },
      {
        "duration": 975,
        "start_time": "2022-06-10T14:23:18.893Z"
      },
      {
        "duration": 18,
        "start_time": "2022-06-10T14:23:19.869Z"
      },
      {
        "duration": 14,
        "start_time": "2022-06-10T14:23:19.889Z"
      },
      {
        "duration": 13,
        "start_time": "2022-06-10T14:23:19.905Z"
      },
      {
        "duration": 11,
        "start_time": "2022-06-10T14:23:19.919Z"
      },
      {
        "duration": 8,
        "start_time": "2022-06-10T14:23:19.932Z"
      },
      {
        "duration": 38,
        "start_time": "2022-06-10T14:23:19.941Z"
      },
      {
        "duration": 7,
        "start_time": "2022-06-10T14:23:19.980Z"
      },
      {
        "duration": 13,
        "start_time": "2022-06-10T14:23:19.990Z"
      },
      {
        "duration": 13,
        "start_time": "2022-06-10T14:23:20.004Z"
      },
      {
        "duration": 10,
        "start_time": "2022-06-10T14:23:20.019Z"
      },
      {
        "duration": 23,
        "start_time": "2022-06-10T14:23:20.030Z"
      },
      {
        "duration": 216,
        "start_time": "2022-06-10T14:23:20.054Z"
      },
      {
        "duration": 33,
        "start_time": "2022-06-10T14:23:20.278Z"
      },
      {
        "duration": 15,
        "start_time": "2022-06-10T14:23:20.313Z"
      },
      {
        "duration": 191,
        "start_time": "2022-06-10T14:23:20.330Z"
      },
      {
        "duration": 8,
        "start_time": "2022-06-10T14:23:20.523Z"
      },
      {
        "duration": 10,
        "start_time": "2022-06-10T14:23:20.532Z"
      },
      {
        "duration": 16,
        "start_time": "2022-06-10T14:23:20.544Z"
      },
      {
        "duration": 28,
        "start_time": "2022-06-10T14:23:20.561Z"
      },
      {
        "duration": 300,
        "start_time": "2022-06-10T14:23:20.590Z"
      },
      {
        "duration": 17,
        "start_time": "2022-06-10T14:23:20.892Z"
      },
      {
        "duration": 52,
        "start_time": "2022-06-10T14:23:20.911Z"
      },
      {
        "duration": 32,
        "start_time": "2022-06-10T14:23:20.978Z"
      },
      {
        "duration": 4,
        "start_time": "2022-06-10T14:23:21.011Z"
      },
      {
        "duration": 17,
        "start_time": "2022-06-10T14:23:21.017Z"
      },
      {
        "duration": 15,
        "start_time": "2022-06-10T14:23:21.039Z"
      },
      {
        "duration": 57,
        "start_time": "2022-06-10T14:23:21.056Z"
      },
      {
        "duration": 4,
        "start_time": "2022-06-10T14:23:21.115Z"
      },
      {
        "duration": 17,
        "start_time": "2022-06-10T14:23:21.121Z"
      },
      {
        "duration": 15,
        "start_time": "2022-06-10T14:23:21.139Z"
      },
      {
        "duration": 60,
        "start_time": "2022-06-10T14:23:21.178Z"
      },
      {
        "duration": 14,
        "start_time": "2022-06-10T14:23:21.240Z"
      },
      {
        "duration": 27,
        "start_time": "2022-06-10T14:23:21.256Z"
      },
      {
        "duration": 16,
        "start_time": "2022-06-10T14:23:21.284Z"
      },
      {
        "duration": 24,
        "start_time": "2022-06-10T14:23:21.301Z"
      },
      {
        "duration": 8,
        "start_time": "2022-06-10T14:23:21.327Z"
      },
      {
        "duration": 6,
        "start_time": "2022-06-10T14:23:21.337Z"
      },
      {
        "duration": 12,
        "start_time": "2022-06-10T14:23:21.344Z"
      },
      {
        "duration": 28,
        "start_time": "2022-06-10T14:23:21.378Z"
      },
      {
        "duration": 10,
        "start_time": "2022-06-10T14:23:21.407Z"
      },
      {
        "duration": 4,
        "start_time": "2022-06-10T14:23:21.419Z"
      },
      {
        "duration": 3752,
        "start_time": "2022-06-10T14:23:21.424Z"
      },
      {
        "duration": 7,
        "start_time": "2022-06-10T14:23:25.178Z"
      },
      {
        "duration": 21,
        "start_time": "2022-06-10T14:23:25.186Z"
      },
      {
        "duration": 14,
        "start_time": "2022-06-10T14:23:25.209Z"
      },
      {
        "duration": 3,
        "start_time": "2022-06-10T14:23:25.225Z"
      },
      {
        "duration": 10,
        "start_time": "2022-06-10T14:23:25.229Z"
      },
      {
        "duration": 121,
        "start_time": "2022-06-10T14:23:25.241Z"
      },
      {
        "duration": 29,
        "start_time": "2022-06-10T14:23:25.364Z"
      },
      {
        "duration": 168,
        "start_time": "2022-06-10T14:23:25.394Z"
      },
      {
        "duration": 221,
        "start_time": "2022-06-10T14:23:25.563Z"
      },
      {
        "duration": 13,
        "start_time": "2022-06-10T14:23:25.785Z"
      },
      {
        "duration": 13,
        "start_time": "2022-06-10T14:23:25.800Z"
      },
      {
        "duration": 6,
        "start_time": "2022-06-10T14:23:25.814Z"
      },
      {
        "duration": 17,
        "start_time": "2022-06-10T14:23:25.821Z"
      },
      {
        "duration": 49,
        "start_time": "2022-06-10T14:23:25.839Z"
      },
      {
        "duration": 127,
        "start_time": "2022-06-10T14:23:25.889Z"
      },
      {
        "duration": 147,
        "start_time": "2022-06-10T14:23:26.017Z"
      },
      {
        "duration": 19,
        "start_time": "2022-06-10T14:23:26.165Z"
      },
      {
        "duration": 14,
        "start_time": "2022-06-10T14:23:26.185Z"
      },
      {
        "duration": 6,
        "start_time": "2022-06-10T14:23:26.200Z"
      },
      {
        "duration": 27,
        "start_time": "2022-06-10T14:23:26.207Z"
      },
      {
        "duration": 22,
        "start_time": "2022-06-10T14:23:26.235Z"
      },
      {
        "duration": 141,
        "start_time": "2022-06-10T14:23:26.277Z"
      },
      {
        "duration": 140,
        "start_time": "2022-06-10T14:23:26.420Z"
      },
      {
        "duration": 3,
        "start_time": "2022-06-10T14:23:26.562Z"
      },
      {
        "duration": 30,
        "start_time": "2022-06-10T14:23:26.567Z"
      },
      {
        "duration": 5,
        "start_time": "2022-06-10T14:23:26.598Z"
      },
      {
        "duration": 5,
        "start_time": "2022-06-10T14:23:26.604Z"
      },
      {
        "duration": 7,
        "start_time": "2022-06-10T14:23:26.611Z"
      },
      {
        "duration": 8,
        "start_time": "2022-06-10T14:23:26.620Z"
      },
      {
        "duration": 9,
        "start_time": "2022-06-10T14:23:26.630Z"
      },
      {
        "duration": 6,
        "start_time": "2022-06-10T14:23:26.640Z"
      },
      {
        "duration": 31,
        "start_time": "2022-06-10T14:23:26.648Z"
      },
      {
        "duration": 6,
        "start_time": "2022-06-10T14:23:26.680Z"
      },
      {
        "duration": 10,
        "start_time": "2022-06-10T14:23:26.687Z"
      },
      {
        "duration": 4,
        "start_time": "2022-06-10T14:23:26.698Z"
      },
      {
        "duration": 3,
        "start_time": "2022-06-10T14:23:26.704Z"
      },
      {
        "duration": 5,
        "start_time": "2022-06-10T14:23:52.391Z"
      },
      {
        "duration": 63,
        "start_time": "2022-06-10T14:26:33.273Z"
      },
      {
        "duration": 60,
        "start_time": "2022-06-10T14:26:42.348Z"
      },
      {
        "duration": 36,
        "start_time": "2022-06-10T14:28:30.351Z"
      },
      {
        "duration": 1029,
        "start_time": "2022-06-10T14:29:16.175Z"
      },
      {
        "duration": 1185,
        "start_time": "2022-06-10T14:29:17.206Z"
      },
      {
        "duration": 19,
        "start_time": "2022-06-10T14:29:18.393Z"
      },
      {
        "duration": 16,
        "start_time": "2022-06-10T14:29:18.414Z"
      },
      {
        "duration": 14,
        "start_time": "2022-06-10T14:29:18.432Z"
      },
      {
        "duration": 11,
        "start_time": "2022-06-10T14:29:18.448Z"
      },
      {
        "duration": 10,
        "start_time": "2022-06-10T14:29:18.478Z"
      },
      {
        "duration": 18,
        "start_time": "2022-06-10T14:29:18.490Z"
      },
      {
        "duration": 8,
        "start_time": "2022-06-10T14:29:18.510Z"
      },
      {
        "duration": 21,
        "start_time": "2022-06-10T14:29:18.520Z"
      },
      {
        "duration": 36,
        "start_time": "2022-06-10T14:29:18.543Z"
      },
      {
        "duration": 12,
        "start_time": "2022-06-10T14:29:18.581Z"
      },
      {
        "duration": 21,
        "start_time": "2022-06-10T14:29:18.595Z"
      },
      {
        "duration": 207,
        "start_time": "2022-06-10T14:29:18.617Z"
      },
      {
        "duration": 52,
        "start_time": "2022-06-10T14:29:18.826Z"
      },
      {
        "duration": 16,
        "start_time": "2022-06-10T14:29:18.879Z"
      },
      {
        "duration": 187,
        "start_time": "2022-06-10T14:29:18.896Z"
      },
      {
        "duration": 7,
        "start_time": "2022-06-10T14:29:19.085Z"
      },
      {
        "duration": 12,
        "start_time": "2022-06-10T14:29:19.093Z"
      },
      {
        "duration": 18,
        "start_time": "2022-06-10T14:29:19.106Z"
      },
      {
        "duration": 13,
        "start_time": "2022-06-10T14:29:19.125Z"
      },
      {
        "duration": 3,
        "start_time": "2022-06-10T14:29:19.140Z"
      },
      {
        "duration": 328,
        "start_time": "2022-06-10T14:29:19.145Z"
      },
      {
        "duration": 17,
        "start_time": "2022-06-10T14:29:19.475Z"
      },
      {
        "duration": 64,
        "start_time": "2022-06-10T14:29:19.494Z"
      },
      {
        "duration": 58,
        "start_time": "2022-06-10T14:29:19.559Z"
      },
      {
        "duration": 6,
        "start_time": "2022-06-10T14:29:19.619Z"
      },
      {
        "duration": 15,
        "start_time": "2022-06-10T14:29:19.629Z"
      },
      {
        "duration": 38,
        "start_time": "2022-06-10T14:29:19.645Z"
      },
      {
        "duration": 34,
        "start_time": "2022-06-10T14:29:19.685Z"
      },
      {
        "duration": 4,
        "start_time": "2022-06-10T14:29:19.721Z"
      },
      {
        "duration": 18,
        "start_time": "2022-06-10T14:29:19.727Z"
      },
      {
        "duration": 40,
        "start_time": "2022-06-10T14:29:19.746Z"
      },
      {
        "duration": 64,
        "start_time": "2022-06-10T14:29:19.787Z"
      },
      {
        "duration": 29,
        "start_time": "2022-06-10T14:29:19.853Z"
      },
      {
        "duration": 10,
        "start_time": "2022-06-10T14:29:19.884Z"
      },
      {
        "duration": 15,
        "start_time": "2022-06-10T14:29:19.896Z"
      },
      {
        "duration": 27,
        "start_time": "2022-06-10T14:29:19.912Z"
      },
      {
        "duration": 7,
        "start_time": "2022-06-10T14:29:19.940Z"
      },
      {
        "duration": 4,
        "start_time": "2022-06-10T14:29:19.978Z"
      },
      {
        "duration": 12,
        "start_time": "2022-06-10T14:29:19.983Z"
      },
      {
        "duration": 29,
        "start_time": "2022-06-10T14:29:19.996Z"
      },
      {
        "duration": 11,
        "start_time": "2022-06-10T14:29:20.027Z"
      },
      {
        "duration": 5,
        "start_time": "2022-06-10T14:29:20.039Z"
      },
      {
        "duration": 3523,
        "start_time": "2022-06-10T14:29:20.078Z"
      },
      {
        "duration": 6,
        "start_time": "2022-06-10T14:29:23.603Z"
      },
      {
        "duration": 25,
        "start_time": "2022-06-10T14:29:23.610Z"
      },
      {
        "duration": 22,
        "start_time": "2022-06-10T14:29:23.636Z"
      },
      {
        "duration": 30,
        "start_time": "2022-06-10T14:29:23.659Z"
      },
      {
        "duration": 31,
        "start_time": "2022-06-10T14:29:23.691Z"
      },
      {
        "duration": 118,
        "start_time": "2022-06-10T14:29:23.724Z"
      },
      {
        "duration": 19,
        "start_time": "2022-06-10T14:29:23.843Z"
      },
      {
        "duration": 155,
        "start_time": "2022-06-10T14:29:23.864Z"
      },
      {
        "duration": 238,
        "start_time": "2022-06-10T14:29:24.021Z"
      },
      {
        "duration": 18,
        "start_time": "2022-06-10T14:29:24.260Z"
      },
      {
        "duration": 30,
        "start_time": "2022-06-10T14:29:24.279Z"
      },
      {
        "duration": 14,
        "start_time": "2022-06-10T14:29:24.310Z"
      },
      {
        "duration": 25,
        "start_time": "2022-06-10T14:29:24.326Z"
      },
      {
        "duration": 18,
        "start_time": "2022-06-10T14:29:24.353Z"
      },
      {
        "duration": 119,
        "start_time": "2022-06-10T14:29:24.373Z"
      },
      {
        "duration": 137,
        "start_time": "2022-06-10T14:29:24.493Z"
      },
      {
        "duration": 13,
        "start_time": "2022-06-10T14:29:24.631Z"
      },
      {
        "duration": 18,
        "start_time": "2022-06-10T14:29:24.646Z"
      },
      {
        "duration": 18,
        "start_time": "2022-06-10T14:29:24.666Z"
      },
      {
        "duration": 32,
        "start_time": "2022-06-10T14:29:24.686Z"
      },
      {
        "duration": 27,
        "start_time": "2022-06-10T14:29:24.719Z"
      },
      {
        "duration": 158,
        "start_time": "2022-06-10T14:29:24.747Z"
      },
      {
        "duration": 145,
        "start_time": "2022-06-10T14:29:24.907Z"
      },
      {
        "duration": 4,
        "start_time": "2022-06-10T14:29:25.054Z"
      },
      {
        "duration": 32,
        "start_time": "2022-06-10T14:29:25.059Z"
      },
      {
        "duration": 4,
        "start_time": "2022-06-10T14:29:25.092Z"
      },
      {
        "duration": 6,
        "start_time": "2022-06-10T14:29:25.097Z"
      },
      {
        "duration": 13,
        "start_time": "2022-06-10T14:29:25.105Z"
      },
      {
        "duration": 11,
        "start_time": "2022-06-10T14:29:25.119Z"
      },
      {
        "duration": 10,
        "start_time": "2022-06-10T14:29:25.132Z"
      },
      {
        "duration": 7,
        "start_time": "2022-06-10T14:29:25.144Z"
      },
      {
        "duration": 26,
        "start_time": "2022-06-10T14:29:25.152Z"
      },
      {
        "duration": 4,
        "start_time": "2022-06-10T14:29:25.180Z"
      },
      {
        "duration": 9,
        "start_time": "2022-06-10T14:29:25.185Z"
      },
      {
        "duration": 4,
        "start_time": "2022-06-10T14:29:25.195Z"
      },
      {
        "duration": 9,
        "start_time": "2022-06-10T14:29:25.201Z"
      },
      {
        "duration": 30,
        "start_time": "2022-06-10T14:33:09.311Z"
      },
      {
        "duration": 5,
        "start_time": "2022-06-10T14:40:22.298Z"
      },
      {
        "duration": 983,
        "start_time": "2022-06-10T14:41:03.014Z"
      },
      {
        "duration": 898,
        "start_time": "2022-06-10T14:41:03.999Z"
      },
      {
        "duration": 17,
        "start_time": "2022-06-10T14:41:04.899Z"
      },
      {
        "duration": 13,
        "start_time": "2022-06-10T14:41:04.918Z"
      },
      {
        "duration": 12,
        "start_time": "2022-06-10T14:41:04.932Z"
      },
      {
        "duration": 9,
        "start_time": "2022-06-10T14:41:04.945Z"
      },
      {
        "duration": 11,
        "start_time": "2022-06-10T14:41:04.955Z"
      },
      {
        "duration": 12,
        "start_time": "2022-06-10T14:41:04.977Z"
      },
      {
        "duration": 6,
        "start_time": "2022-06-10T14:41:04.991Z"
      },
      {
        "duration": 12,
        "start_time": "2022-06-10T14:41:04.999Z"
      },
      {
        "duration": 15,
        "start_time": "2022-06-10T14:41:05.013Z"
      },
      {
        "duration": 10,
        "start_time": "2022-06-10T14:41:05.029Z"
      },
      {
        "duration": 39,
        "start_time": "2022-06-10T14:41:05.040Z"
      },
      {
        "duration": 199,
        "start_time": "2022-06-10T14:41:05.081Z"
      },
      {
        "duration": 36,
        "start_time": "2022-06-10T14:41:05.281Z"
      },
      {
        "duration": 16,
        "start_time": "2022-06-10T14:41:05.318Z"
      },
      {
        "duration": 194,
        "start_time": "2022-06-10T14:41:05.340Z"
      },
      {
        "duration": 7,
        "start_time": "2022-06-10T14:41:05.535Z"
      },
      {
        "duration": 12,
        "start_time": "2022-06-10T14:41:05.543Z"
      },
      {
        "duration": 26,
        "start_time": "2022-06-10T14:41:05.556Z"
      },
      {
        "duration": 13,
        "start_time": "2022-06-10T14:41:05.583Z"
      },
      {
        "duration": 4,
        "start_time": "2022-06-10T14:41:05.597Z"
      },
      {
        "duration": 309,
        "start_time": "2022-06-10T14:41:05.602Z"
      },
      {
        "duration": 17,
        "start_time": "2022-06-10T14:41:05.912Z"
      },
      {
        "duration": 69,
        "start_time": "2022-06-10T14:41:05.931Z"
      },
      {
        "duration": 44,
        "start_time": "2022-06-10T14:41:06.002Z"
      },
      {
        "duration": 34,
        "start_time": "2022-06-10T14:41:06.048Z"
      },
      {
        "duration": 4,
        "start_time": "2022-06-10T14:41:06.086Z"
      },
      {
        "duration": 17,
        "start_time": "2022-06-10T14:41:06.092Z"
      },
      {
        "duration": 37,
        "start_time": "2022-06-10T14:41:06.111Z"
      },
      {
        "duration": 4,
        "start_time": "2022-06-10T14:41:06.149Z"
      },
      {
        "duration": 38,
        "start_time": "2022-06-10T14:41:06.154Z"
      },
      {
        "duration": 9,
        "start_time": "2022-06-10T14:41:06.193Z"
      },
      {
        "duration": 75,
        "start_time": "2022-06-10T14:41:06.204Z"
      },
      {
        "duration": 13,
        "start_time": "2022-06-10T14:41:06.281Z"
      },
      {
        "duration": 10,
        "start_time": "2022-06-10T14:41:06.295Z"
      },
      {
        "duration": 17,
        "start_time": "2022-06-10T14:41:06.306Z"
      },
      {
        "duration": 23,
        "start_time": "2022-06-10T14:41:06.324Z"
      },
      {
        "duration": 31,
        "start_time": "2022-06-10T14:41:06.348Z"
      },
      {
        "duration": 4,
        "start_time": "2022-06-10T14:41:06.380Z"
      },
      {
        "duration": 13,
        "start_time": "2022-06-10T14:41:06.385Z"
      },
      {
        "duration": 30,
        "start_time": "2022-06-10T14:41:06.399Z"
      },
      {
        "duration": 11,
        "start_time": "2022-06-10T14:41:06.430Z"
      },
      {
        "duration": 5,
        "start_time": "2022-06-10T14:41:06.442Z"
      },
      {
        "duration": 3553,
        "start_time": "2022-06-10T14:41:06.448Z"
      },
      {
        "duration": 7,
        "start_time": "2022-06-10T14:41:10.002Z"
      },
      {
        "duration": 30,
        "start_time": "2022-06-10T14:41:10.010Z"
      },
      {
        "duration": 14,
        "start_time": "2022-06-10T14:41:10.042Z"
      },
      {
        "duration": 8,
        "start_time": "2022-06-10T14:41:10.057Z"
      },
      {
        "duration": 17,
        "start_time": "2022-06-10T14:41:10.066Z"
      },
      {
        "duration": 107,
        "start_time": "2022-06-10T14:41:10.085Z"
      },
      {
        "duration": 20,
        "start_time": "2022-06-10T14:41:10.193Z"
      },
      {
        "duration": 155,
        "start_time": "2022-06-10T14:41:10.214Z"
      },
      {
        "duration": 209,
        "start_time": "2022-06-10T14:41:10.371Z"
      },
      {
        "duration": 11,
        "start_time": "2022-06-10T14:41:10.582Z"
      },
      {
        "duration": 12,
        "start_time": "2022-06-10T14:41:10.595Z"
      },
      {
        "duration": 5,
        "start_time": "2022-06-10T14:41:10.608Z"
      },
      {
        "duration": 21,
        "start_time": "2022-06-10T14:41:10.614Z"
      },
      {
        "duration": 17,
        "start_time": "2022-06-10T14:41:10.636Z"
      },
      {
        "duration": 145,
        "start_time": "2022-06-10T14:41:10.655Z"
      },
      {
        "duration": 138,
        "start_time": "2022-06-10T14:41:10.801Z"
      },
      {
        "duration": 12,
        "start_time": "2022-06-10T14:41:10.940Z"
      },
      {
        "duration": 25,
        "start_time": "2022-06-10T14:41:10.954Z"
      },
      {
        "duration": 25,
        "start_time": "2022-06-10T14:41:10.980Z"
      },
      {
        "duration": 0,
        "start_time": "2022-06-10T14:41:11.006Z"
      },
      {
        "duration": 0,
        "start_time": "2022-06-10T14:41:11.008Z"
      },
      {
        "duration": 0,
        "start_time": "2022-06-10T14:41:11.008Z"
      },
      {
        "duration": 0,
        "start_time": "2022-06-10T14:41:11.009Z"
      },
      {
        "duration": 0,
        "start_time": "2022-06-10T14:41:11.010Z"
      },
      {
        "duration": 0,
        "start_time": "2022-06-10T14:41:11.011Z"
      },
      {
        "duration": 0,
        "start_time": "2022-06-10T14:41:11.012Z"
      },
      {
        "duration": 0,
        "start_time": "2022-06-10T14:41:11.013Z"
      },
      {
        "duration": 0,
        "start_time": "2022-06-10T14:41:11.013Z"
      },
      {
        "duration": 0,
        "start_time": "2022-06-10T14:41:11.014Z"
      },
      {
        "duration": 0,
        "start_time": "2022-06-10T14:41:11.015Z"
      },
      {
        "duration": 0,
        "start_time": "2022-06-10T14:41:11.016Z"
      },
      {
        "duration": 0,
        "start_time": "2022-06-10T14:41:11.017Z"
      },
      {
        "duration": 0,
        "start_time": "2022-06-10T14:41:11.018Z"
      },
      {
        "duration": 0,
        "start_time": "2022-06-10T14:41:11.019Z"
      },
      {
        "duration": 0,
        "start_time": "2022-06-10T14:41:11.020Z"
      },
      {
        "duration": 0,
        "start_time": "2022-06-10T14:41:11.021Z"
      },
      {
        "duration": 12,
        "start_time": "2022-06-10T14:43:21.017Z"
      },
      {
        "duration": 21,
        "start_time": "2022-06-10T14:58:57.019Z"
      },
      {
        "duration": 21,
        "start_time": "2022-06-10T14:59:00.443Z"
      },
      {
        "duration": 961,
        "start_time": "2022-06-10T14:59:08.937Z"
      },
      {
        "duration": 1133,
        "start_time": "2022-06-10T14:59:09.900Z"
      },
      {
        "duration": 18,
        "start_time": "2022-06-10T14:59:11.035Z"
      },
      {
        "duration": 40,
        "start_time": "2022-06-10T14:59:11.054Z"
      },
      {
        "duration": 15,
        "start_time": "2022-06-10T14:59:11.096Z"
      },
      {
        "duration": 13,
        "start_time": "2022-06-10T14:59:11.113Z"
      },
      {
        "duration": 16,
        "start_time": "2022-06-10T14:59:11.128Z"
      },
      {
        "duration": 33,
        "start_time": "2022-06-10T14:59:11.146Z"
      },
      {
        "duration": 21,
        "start_time": "2022-06-10T14:59:11.181Z"
      },
      {
        "duration": 34,
        "start_time": "2022-06-10T14:59:11.205Z"
      },
      {
        "duration": 25,
        "start_time": "2022-06-10T14:59:11.241Z"
      },
      {
        "duration": 22,
        "start_time": "2022-06-10T14:59:11.268Z"
      },
      {
        "duration": 41,
        "start_time": "2022-06-10T14:59:11.292Z"
      },
      {
        "duration": 213,
        "start_time": "2022-06-10T14:59:11.335Z"
      },
      {
        "duration": 46,
        "start_time": "2022-06-10T14:59:11.550Z"
      },
      {
        "duration": 15,
        "start_time": "2022-06-10T14:59:11.598Z"
      },
      {
        "duration": 195,
        "start_time": "2022-06-10T14:59:11.615Z"
      },
      {
        "duration": 7,
        "start_time": "2022-06-10T14:59:11.811Z"
      },
      {
        "duration": 21,
        "start_time": "2022-06-10T14:59:11.820Z"
      },
      {
        "duration": 16,
        "start_time": "2022-06-10T14:59:11.843Z"
      },
      {
        "duration": 20,
        "start_time": "2022-06-10T14:59:11.861Z"
      },
      {
        "duration": 4,
        "start_time": "2022-06-10T14:59:11.883Z"
      },
      {
        "duration": 338,
        "start_time": "2022-06-10T14:59:11.888Z"
      },
      {
        "duration": 21,
        "start_time": "2022-06-10T14:59:12.228Z"
      },
      {
        "duration": 77,
        "start_time": "2022-06-10T14:59:12.250Z"
      },
      {
        "duration": 50,
        "start_time": "2022-06-10T14:59:12.329Z"
      },
      {
        "duration": 88,
        "start_time": "2022-06-10T14:59:12.380Z"
      },
      {
        "duration": 1,
        "start_time": "2022-06-10T14:59:12.478Z"
      },
      {
        "duration": 0,
        "start_time": "2022-06-10T14:59:12.480Z"
      },
      {
        "duration": 0,
        "start_time": "2022-06-10T14:59:12.481Z"
      },
      {
        "duration": 0,
        "start_time": "2022-06-10T14:59:12.482Z"
      },
      {
        "duration": 0,
        "start_time": "2022-06-10T14:59:12.483Z"
      },
      {
        "duration": 0,
        "start_time": "2022-06-10T14:59:12.484Z"
      },
      {
        "duration": 0,
        "start_time": "2022-06-10T14:59:12.485Z"
      },
      {
        "duration": 0,
        "start_time": "2022-06-10T14:59:12.486Z"
      },
      {
        "duration": 0,
        "start_time": "2022-06-10T14:59:12.487Z"
      },
      {
        "duration": 0,
        "start_time": "2022-06-10T14:59:12.488Z"
      },
      {
        "duration": 0,
        "start_time": "2022-06-10T14:59:12.489Z"
      },
      {
        "duration": 0,
        "start_time": "2022-06-10T14:59:12.490Z"
      },
      {
        "duration": 0,
        "start_time": "2022-06-10T14:59:12.491Z"
      },
      {
        "duration": 0,
        "start_time": "2022-06-10T14:59:12.493Z"
      },
      {
        "duration": 0,
        "start_time": "2022-06-10T14:59:12.494Z"
      },
      {
        "duration": 0,
        "start_time": "2022-06-10T14:59:12.495Z"
      },
      {
        "duration": 0,
        "start_time": "2022-06-10T14:59:12.496Z"
      },
      {
        "duration": 0,
        "start_time": "2022-06-10T14:59:12.497Z"
      },
      {
        "duration": 0,
        "start_time": "2022-06-10T14:59:12.498Z"
      },
      {
        "duration": 0,
        "start_time": "2022-06-10T14:59:12.498Z"
      },
      {
        "duration": 0,
        "start_time": "2022-06-10T14:59:12.500Z"
      },
      {
        "duration": 0,
        "start_time": "2022-06-10T14:59:12.500Z"
      },
      {
        "duration": 0,
        "start_time": "2022-06-10T14:59:12.501Z"
      },
      {
        "duration": 0,
        "start_time": "2022-06-10T14:59:12.502Z"
      },
      {
        "duration": 0,
        "start_time": "2022-06-10T14:59:12.503Z"
      },
      {
        "duration": 0,
        "start_time": "2022-06-10T14:59:12.504Z"
      },
      {
        "duration": 0,
        "start_time": "2022-06-10T14:59:12.505Z"
      },
      {
        "duration": 0,
        "start_time": "2022-06-10T14:59:12.506Z"
      },
      {
        "duration": 0,
        "start_time": "2022-06-10T14:59:12.507Z"
      },
      {
        "duration": 0,
        "start_time": "2022-06-10T14:59:12.508Z"
      },
      {
        "duration": 0,
        "start_time": "2022-06-10T14:59:12.509Z"
      },
      {
        "duration": 0,
        "start_time": "2022-06-10T14:59:12.510Z"
      },
      {
        "duration": 0,
        "start_time": "2022-06-10T14:59:12.511Z"
      },
      {
        "duration": 0,
        "start_time": "2022-06-10T14:59:12.512Z"
      },
      {
        "duration": 0,
        "start_time": "2022-06-10T14:59:12.513Z"
      },
      {
        "duration": 0,
        "start_time": "2022-06-10T14:59:12.514Z"
      },
      {
        "duration": 0,
        "start_time": "2022-06-10T14:59:12.515Z"
      },
      {
        "duration": 0,
        "start_time": "2022-06-10T14:59:12.516Z"
      },
      {
        "duration": 0,
        "start_time": "2022-06-10T14:59:12.517Z"
      },
      {
        "duration": 0,
        "start_time": "2022-06-10T14:59:12.518Z"
      },
      {
        "duration": 0,
        "start_time": "2022-06-10T14:59:12.578Z"
      },
      {
        "duration": 0,
        "start_time": "2022-06-10T14:59:12.579Z"
      },
      {
        "duration": 0,
        "start_time": "2022-06-10T14:59:12.580Z"
      },
      {
        "duration": 0,
        "start_time": "2022-06-10T14:59:12.581Z"
      },
      {
        "duration": 0,
        "start_time": "2022-06-10T14:59:12.582Z"
      },
      {
        "duration": 0,
        "start_time": "2022-06-10T14:59:12.583Z"
      },
      {
        "duration": 0,
        "start_time": "2022-06-10T14:59:12.584Z"
      },
      {
        "duration": 0,
        "start_time": "2022-06-10T14:59:12.585Z"
      },
      {
        "duration": 0,
        "start_time": "2022-06-10T14:59:12.586Z"
      },
      {
        "duration": 0,
        "start_time": "2022-06-10T14:59:12.587Z"
      },
      {
        "duration": 0,
        "start_time": "2022-06-10T14:59:12.588Z"
      },
      {
        "duration": 0,
        "start_time": "2022-06-10T14:59:12.589Z"
      },
      {
        "duration": 0,
        "start_time": "2022-06-10T14:59:12.590Z"
      },
      {
        "duration": 0,
        "start_time": "2022-06-10T14:59:12.591Z"
      },
      {
        "duration": 0,
        "start_time": "2022-06-10T14:59:12.592Z"
      },
      {
        "duration": 10,
        "start_time": "2022-06-10T14:59:39.137Z"
      },
      {
        "duration": 14,
        "start_time": "2022-06-10T14:59:45.009Z"
      },
      {
        "duration": 4,
        "start_time": "2022-06-10T14:59:46.494Z"
      },
      {
        "duration": 15,
        "start_time": "2022-06-10T14:59:50.045Z"
      },
      {
        "duration": 15,
        "start_time": "2022-06-10T15:00:04.992Z"
      },
      {
        "duration": 17,
        "start_time": "2022-06-10T15:00:22.525Z"
      },
      {
        "duration": 4,
        "start_time": "2022-06-10T15:00:23.342Z"
      },
      {
        "duration": 16,
        "start_time": "2022-06-10T15:00:24.141Z"
      },
      {
        "duration": 27,
        "start_time": "2022-06-10T15:00:31.854Z"
      },
      {
        "duration": 3,
        "start_time": "2022-06-10T15:01:00.831Z"
      },
      {
        "duration": 15,
        "start_time": "2022-06-10T15:01:01.460Z"
      },
      {
        "duration": 56,
        "start_time": "2022-06-10T15:01:09.922Z"
      },
      {
        "duration": 16,
        "start_time": "2022-06-10T15:01:58.514Z"
      },
      {
        "duration": 3,
        "start_time": "2022-06-10T15:01:59.959Z"
      },
      {
        "duration": 12,
        "start_time": "2022-06-10T15:02:10.348Z"
      },
      {
        "duration": 13,
        "start_time": "2022-06-10T15:02:12.267Z"
      },
      {
        "duration": 20,
        "start_time": "2022-06-10T15:02:23.810Z"
      },
      {
        "duration": 993,
        "start_time": "2022-06-10T15:02:32.936Z"
      },
      {
        "duration": 831,
        "start_time": "2022-06-10T15:02:33.931Z"
      },
      {
        "duration": 19,
        "start_time": "2022-06-10T15:02:34.763Z"
      },
      {
        "duration": 16,
        "start_time": "2022-06-10T15:02:34.784Z"
      },
      {
        "duration": 13,
        "start_time": "2022-06-10T15:02:34.801Z"
      },
      {
        "duration": 9,
        "start_time": "2022-06-10T15:02:34.815Z"
      },
      {
        "duration": 11,
        "start_time": "2022-06-10T15:02:34.825Z"
      },
      {
        "duration": 12,
        "start_time": "2022-06-10T15:02:34.837Z"
      },
      {
        "duration": 29,
        "start_time": "2022-06-10T15:02:34.851Z"
      },
      {
        "duration": 12,
        "start_time": "2022-06-10T15:02:34.883Z"
      },
      {
        "duration": 16,
        "start_time": "2022-06-10T15:02:34.897Z"
      },
      {
        "duration": 9,
        "start_time": "2022-06-10T15:02:34.914Z"
      },
      {
        "duration": 20,
        "start_time": "2022-06-10T15:02:34.925Z"
      },
      {
        "duration": 215,
        "start_time": "2022-06-10T15:02:34.947Z"
      },
      {
        "duration": 48,
        "start_time": "2022-06-10T15:02:35.164Z"
      },
      {
        "duration": 16,
        "start_time": "2022-06-10T15:02:35.213Z"
      },
      {
        "duration": 189,
        "start_time": "2022-06-10T15:02:35.230Z"
      },
      {
        "duration": 7,
        "start_time": "2022-06-10T15:02:35.421Z"
      },
      {
        "duration": 11,
        "start_time": "2022-06-10T15:02:35.429Z"
      },
      {
        "duration": 16,
        "start_time": "2022-06-10T15:02:35.441Z"
      },
      {
        "duration": 13,
        "start_time": "2022-06-10T15:02:35.479Z"
      },
      {
        "duration": 4,
        "start_time": "2022-06-10T15:02:35.493Z"
      },
      {
        "duration": 332,
        "start_time": "2022-06-10T15:02:35.499Z"
      },
      {
        "duration": 18,
        "start_time": "2022-06-10T15:02:35.832Z"
      },
      {
        "duration": 61,
        "start_time": "2022-06-10T15:02:35.851Z"
      },
      {
        "duration": 43,
        "start_time": "2022-06-10T15:02:35.913Z"
      },
      {
        "duration": 28,
        "start_time": "2022-06-10T15:02:35.958Z"
      },
      {
        "duration": 19,
        "start_time": "2022-06-10T15:02:35.990Z"
      },
      {
        "duration": 14,
        "start_time": "2022-06-10T15:02:36.010Z"
      },
      {
        "duration": 29,
        "start_time": "2022-06-10T15:02:36.026Z"
      },
      {
        "duration": 47,
        "start_time": "2022-06-10T15:02:36.057Z"
      },
      {
        "duration": 4,
        "start_time": "2022-06-10T15:02:36.106Z"
      },
      {
        "duration": 19,
        "start_time": "2022-06-10T15:02:36.112Z"
      },
      {
        "duration": 8,
        "start_time": "2022-06-10T15:02:36.133Z"
      },
      {
        "duration": 78,
        "start_time": "2022-06-10T15:02:36.143Z"
      },
      {
        "duration": 12,
        "start_time": "2022-06-10T15:02:36.222Z"
      },
      {
        "duration": 48,
        "start_time": "2022-06-10T15:02:36.235Z"
      },
      {
        "duration": 34,
        "start_time": "2022-06-10T15:02:36.285Z"
      },
      {
        "duration": 41,
        "start_time": "2022-06-10T15:02:36.320Z"
      },
      {
        "duration": 8,
        "start_time": "2022-06-10T15:02:36.362Z"
      },
      {
        "duration": 16,
        "start_time": "2022-06-10T15:02:36.371Z"
      },
      {
        "duration": 19,
        "start_time": "2022-06-10T15:02:36.389Z"
      },
      {
        "duration": 29,
        "start_time": "2022-06-10T15:02:36.410Z"
      },
      {
        "duration": 12,
        "start_time": "2022-06-10T15:02:36.441Z"
      },
      {
        "duration": 14,
        "start_time": "2022-06-10T15:02:36.454Z"
      },
      {
        "duration": 3632,
        "start_time": "2022-06-10T15:02:36.469Z"
      },
      {
        "duration": 6,
        "start_time": "2022-06-10T15:02:40.102Z"
      },
      {
        "duration": 18,
        "start_time": "2022-06-10T15:02:40.109Z"
      },
      {
        "duration": 13,
        "start_time": "2022-06-10T15:02:40.129Z"
      },
      {
        "duration": 3,
        "start_time": "2022-06-10T15:02:40.143Z"
      },
      {
        "duration": 14,
        "start_time": "2022-06-10T15:02:40.147Z"
      },
      {
        "duration": 114,
        "start_time": "2022-06-10T15:02:40.162Z"
      },
      {
        "duration": 21,
        "start_time": "2022-06-10T15:02:40.277Z"
      },
      {
        "duration": 153,
        "start_time": "2022-06-10T15:02:40.300Z"
      },
      {
        "duration": 221,
        "start_time": "2022-06-10T15:02:40.455Z"
      },
      {
        "duration": 12,
        "start_time": "2022-06-10T15:02:40.677Z"
      },
      {
        "duration": 11,
        "start_time": "2022-06-10T15:02:40.690Z"
      },
      {
        "duration": 4,
        "start_time": "2022-06-10T15:02:40.702Z"
      },
      {
        "duration": 16,
        "start_time": "2022-06-10T15:02:40.708Z"
      },
      {
        "duration": 15,
        "start_time": "2022-06-10T15:02:40.726Z"
      },
      {
        "duration": 153,
        "start_time": "2022-06-10T15:02:40.742Z"
      },
      {
        "duration": 145,
        "start_time": "2022-06-10T15:02:40.897Z"
      },
      {
        "duration": 15,
        "start_time": "2022-06-10T15:02:41.044Z"
      },
      {
        "duration": 24,
        "start_time": "2022-06-10T15:02:41.060Z"
      },
      {
        "duration": 5,
        "start_time": "2022-06-10T15:02:41.085Z"
      },
      {
        "duration": 28,
        "start_time": "2022-06-10T15:02:41.092Z"
      },
      {
        "duration": 27,
        "start_time": "2022-06-10T15:02:41.122Z"
      },
      {
        "duration": 157,
        "start_time": "2022-06-10T15:02:41.151Z"
      },
      {
        "duration": 136,
        "start_time": "2022-06-10T15:02:41.310Z"
      },
      {
        "duration": 4,
        "start_time": "2022-06-10T15:02:41.447Z"
      },
      {
        "duration": 32,
        "start_time": "2022-06-10T15:02:41.452Z"
      },
      {
        "duration": 5,
        "start_time": "2022-06-10T15:02:41.486Z"
      },
      {
        "duration": 5,
        "start_time": "2022-06-10T15:02:41.492Z"
      },
      {
        "duration": 8,
        "start_time": "2022-06-10T15:02:41.498Z"
      },
      {
        "duration": 10,
        "start_time": "2022-06-10T15:02:41.508Z"
      },
      {
        "duration": 10,
        "start_time": "2022-06-10T15:02:41.520Z"
      },
      {
        "duration": 5,
        "start_time": "2022-06-10T15:02:41.532Z"
      },
      {
        "duration": 10,
        "start_time": "2022-06-10T15:02:41.538Z"
      },
      {
        "duration": 7,
        "start_time": "2022-06-10T15:02:41.549Z"
      },
      {
        "duration": 25,
        "start_time": "2022-06-10T15:02:41.558Z"
      },
      {
        "duration": 4,
        "start_time": "2022-06-10T15:02:41.584Z"
      },
      {
        "duration": 4,
        "start_time": "2022-06-10T15:02:41.593Z"
      },
      {
        "duration": 3,
        "start_time": "2022-06-10T15:05:24.753Z"
      },
      {
        "duration": 13,
        "start_time": "2022-06-10T15:05:27.114Z"
      },
      {
        "duration": 17,
        "start_time": "2022-06-10T15:06:26.653Z"
      },
      {
        "duration": 14,
        "start_time": "2022-06-10T15:06:28.424Z"
      },
      {
        "duration": 33,
        "start_time": "2022-06-10T15:07:26.836Z"
      },
      {
        "duration": 983,
        "start_time": "2022-06-10T15:09:12.209Z"
      },
      {
        "duration": 771,
        "start_time": "2022-06-10T15:09:13.194Z"
      },
      {
        "duration": 17,
        "start_time": "2022-06-10T15:09:13.966Z"
      },
      {
        "duration": 16,
        "start_time": "2022-06-10T15:09:13.985Z"
      },
      {
        "duration": 15,
        "start_time": "2022-06-10T15:09:14.002Z"
      },
      {
        "duration": 9,
        "start_time": "2022-06-10T15:09:14.018Z"
      },
      {
        "duration": 15,
        "start_time": "2022-06-10T15:09:14.028Z"
      },
      {
        "duration": 14,
        "start_time": "2022-06-10T15:09:14.045Z"
      },
      {
        "duration": 8,
        "start_time": "2022-06-10T15:09:14.078Z"
      },
      {
        "duration": 15,
        "start_time": "2022-06-10T15:09:14.088Z"
      },
      {
        "duration": 12,
        "start_time": "2022-06-10T15:09:14.104Z"
      },
      {
        "duration": 10,
        "start_time": "2022-06-10T15:09:14.117Z"
      },
      {
        "duration": 30,
        "start_time": "2022-06-10T15:09:14.128Z"
      },
      {
        "duration": 211,
        "start_time": "2022-06-10T15:09:14.159Z"
      },
      {
        "duration": 41,
        "start_time": "2022-06-10T15:09:14.371Z"
      },
      {
        "duration": 14,
        "start_time": "2022-06-10T15:09:14.413Z"
      },
      {
        "duration": 186,
        "start_time": "2022-06-10T15:09:14.429Z"
      },
      {
        "duration": 7,
        "start_time": "2022-06-10T15:09:14.616Z"
      },
      {
        "duration": 8,
        "start_time": "2022-06-10T15:09:14.624Z"
      },
      {
        "duration": 15,
        "start_time": "2022-06-10T15:09:14.633Z"
      },
      {
        "duration": 30,
        "start_time": "2022-06-10T15:09:14.650Z"
      },
      {
        "duration": 4,
        "start_time": "2022-06-10T15:09:14.681Z"
      },
      {
        "duration": 327,
        "start_time": "2022-06-10T15:09:14.686Z"
      },
      {
        "duration": 19,
        "start_time": "2022-06-10T15:09:15.015Z"
      },
      {
        "duration": 64,
        "start_time": "2022-06-10T15:09:15.035Z"
      },
      {
        "duration": 44,
        "start_time": "2022-06-10T15:09:15.101Z"
      },
      {
        "duration": 12,
        "start_time": "2022-06-10T15:09:15.146Z"
      },
      {
        "duration": 17,
        "start_time": "2022-06-10T15:09:15.180Z"
      },
      {
        "duration": 12,
        "start_time": "2022-06-10T15:09:15.199Z"
      },
      {
        "duration": 36,
        "start_time": "2022-06-10T15:09:15.212Z"
      },
      {
        "duration": 4,
        "start_time": "2022-06-10T15:09:15.249Z"
      },
      {
        "duration": 37,
        "start_time": "2022-06-10T15:09:15.255Z"
      },
      {
        "duration": 8,
        "start_time": "2022-06-10T15:09:15.293Z"
      },
      {
        "duration": 17,
        "start_time": "2022-06-10T15:09:15.303Z"
      },
      {
        "duration": 14,
        "start_time": "2022-06-10T15:09:15.321Z"
      },
      {
        "duration": 10,
        "start_time": "2022-06-10T15:09:15.336Z"
      },
      {
        "duration": 40,
        "start_time": "2022-06-10T15:09:15.347Z"
      },
      {
        "duration": 25,
        "start_time": "2022-06-10T15:09:15.388Z"
      },
      {
        "duration": 7,
        "start_time": "2022-06-10T15:09:15.415Z"
      },
      {
        "duration": 5,
        "start_time": "2022-06-10T15:09:15.423Z"
      },
      {
        "duration": 10,
        "start_time": "2022-06-10T15:09:15.430Z"
      },
      {
        "duration": 49,
        "start_time": "2022-06-10T15:09:15.442Z"
      },
      {
        "duration": 12,
        "start_time": "2022-06-10T15:09:15.492Z"
      },
      {
        "duration": 7,
        "start_time": "2022-06-10T15:09:15.505Z"
      },
      {
        "duration": 130,
        "start_time": "2022-06-10T15:09:15.513Z"
      },
      {
        "duration": 0,
        "start_time": "2022-06-10T15:09:15.644Z"
      },
      {
        "duration": 0,
        "start_time": "2022-06-10T15:09:15.645Z"
      },
      {
        "duration": 0,
        "start_time": "2022-06-10T15:09:15.646Z"
      },
      {
        "duration": 0,
        "start_time": "2022-06-10T15:09:15.647Z"
      },
      {
        "duration": 0,
        "start_time": "2022-06-10T15:09:15.648Z"
      },
      {
        "duration": 0,
        "start_time": "2022-06-10T15:09:15.649Z"
      },
      {
        "duration": 0,
        "start_time": "2022-06-10T15:09:15.650Z"
      },
      {
        "duration": 0,
        "start_time": "2022-06-10T15:09:15.650Z"
      },
      {
        "duration": 0,
        "start_time": "2022-06-10T15:09:15.652Z"
      },
      {
        "duration": 0,
        "start_time": "2022-06-10T15:09:15.652Z"
      },
      {
        "duration": 0,
        "start_time": "2022-06-10T15:09:15.653Z"
      },
      {
        "duration": 0,
        "start_time": "2022-06-10T15:09:15.654Z"
      },
      {
        "duration": 0,
        "start_time": "2022-06-10T15:09:15.655Z"
      },
      {
        "duration": 0,
        "start_time": "2022-06-10T15:09:15.678Z"
      },
      {
        "duration": 0,
        "start_time": "2022-06-10T15:09:15.679Z"
      },
      {
        "duration": 0,
        "start_time": "2022-06-10T15:09:15.680Z"
      },
      {
        "duration": 0,
        "start_time": "2022-06-10T15:09:15.681Z"
      },
      {
        "duration": 0,
        "start_time": "2022-06-10T15:09:15.681Z"
      },
      {
        "duration": 0,
        "start_time": "2022-06-10T15:09:15.683Z"
      },
      {
        "duration": 0,
        "start_time": "2022-06-10T15:09:15.684Z"
      },
      {
        "duration": 0,
        "start_time": "2022-06-10T15:09:15.685Z"
      },
      {
        "duration": 0,
        "start_time": "2022-06-10T15:09:15.686Z"
      },
      {
        "duration": 0,
        "start_time": "2022-06-10T15:09:15.687Z"
      },
      {
        "duration": 0,
        "start_time": "2022-06-10T15:09:15.688Z"
      },
      {
        "duration": 0,
        "start_time": "2022-06-10T15:09:15.690Z"
      },
      {
        "duration": 0,
        "start_time": "2022-06-10T15:09:15.691Z"
      },
      {
        "duration": 0,
        "start_time": "2022-06-10T15:09:15.692Z"
      },
      {
        "duration": 0,
        "start_time": "2022-06-10T15:09:15.693Z"
      },
      {
        "duration": 0,
        "start_time": "2022-06-10T15:09:15.694Z"
      },
      {
        "duration": 0,
        "start_time": "2022-06-10T15:09:15.695Z"
      },
      {
        "duration": 0,
        "start_time": "2022-06-10T15:09:15.696Z"
      },
      {
        "duration": 0,
        "start_time": "2022-06-10T15:09:15.698Z"
      },
      {
        "duration": 0,
        "start_time": "2022-06-10T15:09:15.699Z"
      },
      {
        "duration": 0,
        "start_time": "2022-06-10T15:09:15.700Z"
      },
      {
        "duration": 0,
        "start_time": "2022-06-10T15:09:15.700Z"
      },
      {
        "duration": 0,
        "start_time": "2022-06-10T15:09:15.701Z"
      },
      {
        "duration": 1015,
        "start_time": "2022-06-10T15:09:38.172Z"
      },
      {
        "duration": 682,
        "start_time": "2022-06-10T15:09:39.189Z"
      },
      {
        "duration": 17,
        "start_time": "2022-06-10T15:09:39.872Z"
      },
      {
        "duration": 14,
        "start_time": "2022-06-10T15:09:39.891Z"
      },
      {
        "duration": 12,
        "start_time": "2022-06-10T15:09:39.906Z"
      },
      {
        "duration": 11,
        "start_time": "2022-06-10T15:09:39.919Z"
      },
      {
        "duration": 9,
        "start_time": "2022-06-10T15:09:39.931Z"
      },
      {
        "duration": 38,
        "start_time": "2022-06-10T15:09:39.941Z"
      },
      {
        "duration": 7,
        "start_time": "2022-06-10T15:09:39.980Z"
      },
      {
        "duration": 12,
        "start_time": "2022-06-10T15:09:39.989Z"
      },
      {
        "duration": 17,
        "start_time": "2022-06-10T15:09:40.002Z"
      },
      {
        "duration": 13,
        "start_time": "2022-06-10T15:09:40.021Z"
      },
      {
        "duration": 25,
        "start_time": "2022-06-10T15:09:40.035Z"
      },
      {
        "duration": 207,
        "start_time": "2022-06-10T15:09:40.078Z"
      },
      {
        "duration": 42,
        "start_time": "2022-06-10T15:09:40.286Z"
      },
      {
        "duration": 14,
        "start_time": "2022-06-10T15:09:40.330Z"
      },
      {
        "duration": 188,
        "start_time": "2022-06-10T15:09:40.345Z"
      },
      {
        "duration": 7,
        "start_time": "2022-06-10T15:09:40.534Z"
      },
      {
        "duration": 9,
        "start_time": "2022-06-10T15:09:40.542Z"
      },
      {
        "duration": 29,
        "start_time": "2022-06-10T15:09:40.552Z"
      },
      {
        "duration": 12,
        "start_time": "2022-06-10T15:09:40.582Z"
      },
      {
        "duration": 4,
        "start_time": "2022-06-10T15:09:40.595Z"
      },
      {
        "duration": 302,
        "start_time": "2022-06-10T15:09:40.600Z"
      },
      {
        "duration": 16,
        "start_time": "2022-06-10T15:09:40.903Z"
      },
      {
        "duration": 65,
        "start_time": "2022-06-10T15:09:40.920Z"
      },
      {
        "duration": 42,
        "start_time": "2022-06-10T15:09:40.987Z"
      },
      {
        "duration": 11,
        "start_time": "2022-06-10T15:09:41.031Z"
      },
      {
        "duration": 35,
        "start_time": "2022-06-10T15:09:41.046Z"
      },
      {
        "duration": 12,
        "start_time": "2022-06-10T15:09:41.082Z"
      },
      {
        "duration": 43,
        "start_time": "2022-06-10T15:09:41.096Z"
      },
      {
        "duration": 4,
        "start_time": "2022-06-10T15:09:41.140Z"
      },
      {
        "duration": 17,
        "start_time": "2022-06-10T15:09:41.145Z"
      },
      {
        "duration": 23,
        "start_time": "2022-06-10T15:09:41.163Z"
      },
      {
        "duration": 16,
        "start_time": "2022-06-10T15:09:41.188Z"
      },
      {
        "duration": 13,
        "start_time": "2022-06-10T15:09:41.206Z"
      },
      {
        "duration": 11,
        "start_time": "2022-06-10T15:09:41.221Z"
      },
      {
        "duration": 45,
        "start_time": "2022-06-10T15:09:41.234Z"
      },
      {
        "duration": 27,
        "start_time": "2022-06-10T15:09:41.280Z"
      },
      {
        "duration": 7,
        "start_time": "2022-06-10T15:09:41.309Z"
      },
      {
        "duration": 8,
        "start_time": "2022-06-10T15:09:41.318Z"
      },
      {
        "duration": 11,
        "start_time": "2022-06-10T15:09:41.327Z"
      },
      {
        "duration": 56,
        "start_time": "2022-06-10T15:09:41.340Z"
      },
      {
        "duration": 12,
        "start_time": "2022-06-10T15:09:41.398Z"
      },
      {
        "duration": 4,
        "start_time": "2022-06-10T15:09:41.411Z"
      },
      {
        "duration": 131,
        "start_time": "2022-06-10T15:09:41.416Z"
      },
      {
        "duration": 0,
        "start_time": "2022-06-10T15:09:41.548Z"
      },
      {
        "duration": 0,
        "start_time": "2022-06-10T15:09:41.549Z"
      },
      {
        "duration": 0,
        "start_time": "2022-06-10T15:09:41.551Z"
      },
      {
        "duration": 0,
        "start_time": "2022-06-10T15:09:41.552Z"
      },
      {
        "duration": 0,
        "start_time": "2022-06-10T15:09:41.553Z"
      },
      {
        "duration": 0,
        "start_time": "2022-06-10T15:09:41.554Z"
      },
      {
        "duration": 0,
        "start_time": "2022-06-10T15:09:41.554Z"
      },
      {
        "duration": 0,
        "start_time": "2022-06-10T15:09:41.555Z"
      },
      {
        "duration": 0,
        "start_time": "2022-06-10T15:09:41.556Z"
      },
      {
        "duration": 0,
        "start_time": "2022-06-10T15:09:41.557Z"
      },
      {
        "duration": 0,
        "start_time": "2022-06-10T15:09:41.559Z"
      },
      {
        "duration": 0,
        "start_time": "2022-06-10T15:09:41.577Z"
      },
      {
        "duration": 0,
        "start_time": "2022-06-10T15:09:41.578Z"
      },
      {
        "duration": 0,
        "start_time": "2022-06-10T15:09:41.579Z"
      },
      {
        "duration": 0,
        "start_time": "2022-06-10T15:09:41.580Z"
      },
      {
        "duration": 0,
        "start_time": "2022-06-10T15:09:41.580Z"
      },
      {
        "duration": 0,
        "start_time": "2022-06-10T15:09:41.581Z"
      },
      {
        "duration": 0,
        "start_time": "2022-06-10T15:09:41.582Z"
      },
      {
        "duration": 0,
        "start_time": "2022-06-10T15:09:41.583Z"
      },
      {
        "duration": 0,
        "start_time": "2022-06-10T15:09:41.583Z"
      },
      {
        "duration": 0,
        "start_time": "2022-06-10T15:09:41.584Z"
      },
      {
        "duration": 0,
        "start_time": "2022-06-10T15:09:41.585Z"
      },
      {
        "duration": 0,
        "start_time": "2022-06-10T15:09:41.586Z"
      },
      {
        "duration": 0,
        "start_time": "2022-06-10T15:09:41.587Z"
      },
      {
        "duration": 0,
        "start_time": "2022-06-10T15:09:41.588Z"
      },
      {
        "duration": 0,
        "start_time": "2022-06-10T15:09:41.588Z"
      },
      {
        "duration": 0,
        "start_time": "2022-06-10T15:09:41.589Z"
      },
      {
        "duration": 0,
        "start_time": "2022-06-10T15:09:41.591Z"
      },
      {
        "duration": 0,
        "start_time": "2022-06-10T15:09:41.591Z"
      },
      {
        "duration": 0,
        "start_time": "2022-06-10T15:09:41.592Z"
      },
      {
        "duration": 0,
        "start_time": "2022-06-10T15:09:41.593Z"
      },
      {
        "duration": 0,
        "start_time": "2022-06-10T15:09:41.594Z"
      },
      {
        "duration": 0,
        "start_time": "2022-06-10T15:09:41.595Z"
      },
      {
        "duration": 0,
        "start_time": "2022-06-10T15:09:41.596Z"
      },
      {
        "duration": 0,
        "start_time": "2022-06-10T15:09:41.597Z"
      },
      {
        "duration": 0,
        "start_time": "2022-06-10T15:09:41.597Z"
      },
      {
        "duration": 420,
        "start_time": "2022-06-10T15:11:09.164Z"
      },
      {
        "duration": 3719,
        "start_time": "2022-06-10T15:11:58.637Z"
      },
      {
        "duration": 974,
        "start_time": "2022-06-10T15:12:15.710Z"
      },
      {
        "duration": 599,
        "start_time": "2022-06-10T15:12:16.686Z"
      },
      {
        "duration": 18,
        "start_time": "2022-06-10T15:12:17.286Z"
      },
      {
        "duration": 15,
        "start_time": "2022-06-10T15:12:17.305Z"
      },
      {
        "duration": 13,
        "start_time": "2022-06-10T15:12:17.321Z"
      },
      {
        "duration": 9,
        "start_time": "2022-06-10T15:12:17.336Z"
      },
      {
        "duration": 32,
        "start_time": "2022-06-10T15:12:17.347Z"
      },
      {
        "duration": 18,
        "start_time": "2022-06-10T15:12:17.381Z"
      },
      {
        "duration": 7,
        "start_time": "2022-06-10T15:12:17.400Z"
      },
      {
        "duration": 11,
        "start_time": "2022-06-10T15:12:17.409Z"
      },
      {
        "duration": 12,
        "start_time": "2022-06-10T15:12:17.421Z"
      },
      {
        "duration": 10,
        "start_time": "2022-06-10T15:12:17.435Z"
      },
      {
        "duration": 51,
        "start_time": "2022-06-10T15:12:17.447Z"
      },
      {
        "duration": 253,
        "start_time": "2022-06-10T15:12:17.500Z"
      },
      {
        "duration": 49,
        "start_time": "2022-06-10T15:12:17.755Z"
      },
      {
        "duration": 19,
        "start_time": "2022-06-10T15:12:17.806Z"
      },
      {
        "duration": 218,
        "start_time": "2022-06-10T15:12:17.827Z"
      },
      {
        "duration": 9,
        "start_time": "2022-06-10T15:12:18.047Z"
      },
      {
        "duration": 21,
        "start_time": "2022-06-10T15:12:18.058Z"
      },
      {
        "duration": 15,
        "start_time": "2022-06-10T15:12:18.080Z"
      },
      {
        "duration": 12,
        "start_time": "2022-06-10T15:12:18.096Z"
      },
      {
        "duration": 4,
        "start_time": "2022-06-10T15:12:18.109Z"
      },
      {
        "duration": 390,
        "start_time": "2022-06-10T15:12:18.115Z"
      },
      {
        "duration": 19,
        "start_time": "2022-06-10T15:12:18.507Z"
      },
      {
        "duration": 71,
        "start_time": "2022-06-10T15:12:18.528Z"
      },
      {
        "duration": 43,
        "start_time": "2022-06-10T15:12:18.601Z"
      },
      {
        "duration": 14,
        "start_time": "2022-06-10T15:12:18.645Z"
      },
      {
        "duration": 20,
        "start_time": "2022-06-10T15:12:18.677Z"
      },
      {
        "duration": 12,
        "start_time": "2022-06-10T15:12:18.698Z"
      },
      {
        "duration": 41,
        "start_time": "2022-06-10T15:12:18.711Z"
      },
      {
        "duration": 5,
        "start_time": "2022-06-10T15:12:18.753Z"
      },
      {
        "duration": 16,
        "start_time": "2022-06-10T15:12:18.778Z"
      },
      {
        "duration": 10,
        "start_time": "2022-06-10T15:12:18.796Z"
      },
      {
        "duration": 18,
        "start_time": "2022-06-10T15:12:18.808Z"
      },
      {
        "duration": 16,
        "start_time": "2022-06-10T15:12:18.827Z"
      },
      {
        "duration": 38,
        "start_time": "2022-06-10T15:12:18.845Z"
      },
      {
        "duration": 16,
        "start_time": "2022-06-10T15:12:18.885Z"
      },
      {
        "duration": 29,
        "start_time": "2022-06-10T15:12:18.904Z"
      },
      {
        "duration": 8,
        "start_time": "2022-06-10T15:12:18.935Z"
      },
      {
        "duration": 34,
        "start_time": "2022-06-10T15:12:18.944Z"
      },
      {
        "duration": 9,
        "start_time": "2022-06-10T15:12:18.980Z"
      },
      {
        "duration": 28,
        "start_time": "2022-06-10T15:12:18.990Z"
      },
      {
        "duration": 12,
        "start_time": "2022-06-10T15:12:19.019Z"
      },
      {
        "duration": 14,
        "start_time": "2022-06-10T15:12:19.032Z"
      },
      {
        "duration": 3691,
        "start_time": "2022-06-10T15:12:19.047Z"
      },
      {
        "duration": 7,
        "start_time": "2022-06-10T15:12:22.740Z"
      },
      {
        "duration": 35,
        "start_time": "2022-06-10T15:12:22.748Z"
      },
      {
        "duration": 15,
        "start_time": "2022-06-10T15:12:22.785Z"
      },
      {
        "duration": 10,
        "start_time": "2022-06-10T15:12:22.802Z"
      },
      {
        "duration": 38,
        "start_time": "2022-06-10T15:12:22.814Z"
      },
      {
        "duration": 123,
        "start_time": "2022-06-10T15:12:22.854Z"
      },
      {
        "duration": 27,
        "start_time": "2022-06-10T15:12:22.978Z"
      },
      {
        "duration": 185,
        "start_time": "2022-06-10T15:12:23.007Z"
      },
      {
        "duration": 280,
        "start_time": "2022-06-10T15:12:23.194Z"
      },
      {
        "duration": 16,
        "start_time": "2022-06-10T15:12:23.475Z"
      },
      {
        "duration": 22,
        "start_time": "2022-06-10T15:12:23.495Z"
      },
      {
        "duration": 7,
        "start_time": "2022-06-10T15:12:23.519Z"
      },
      {
        "duration": 32,
        "start_time": "2022-06-10T15:12:23.528Z"
      },
      {
        "duration": 36,
        "start_time": "2022-06-10T15:12:23.562Z"
      },
      {
        "duration": 157,
        "start_time": "2022-06-10T15:12:23.599Z"
      },
      {
        "duration": 165,
        "start_time": "2022-06-10T15:12:23.758Z"
      },
      {
        "duration": 16,
        "start_time": "2022-06-10T15:12:23.924Z"
      },
      {
        "duration": 14,
        "start_time": "2022-06-10T15:12:23.942Z"
      },
      {
        "duration": 24,
        "start_time": "2022-06-10T15:12:23.958Z"
      },
      {
        "duration": 35,
        "start_time": "2022-06-10T15:12:23.983Z"
      },
      {
        "duration": 30,
        "start_time": "2022-06-10T15:12:24.019Z"
      },
      {
        "duration": 195,
        "start_time": "2022-06-10T15:12:24.050Z"
      },
      {
        "duration": 163,
        "start_time": "2022-06-10T15:12:24.247Z"
      },
      {
        "duration": 4,
        "start_time": "2022-06-10T15:12:24.412Z"
      },
      {
        "duration": 29,
        "start_time": "2022-06-10T15:12:24.418Z"
      },
      {
        "duration": 4,
        "start_time": "2022-06-10T15:12:24.449Z"
      },
      {
        "duration": 8,
        "start_time": "2022-06-10T15:12:24.454Z"
      },
      {
        "duration": 21,
        "start_time": "2022-06-10T15:12:24.463Z"
      },
      {
        "duration": 15,
        "start_time": "2022-06-10T15:12:24.485Z"
      },
      {
        "duration": 9,
        "start_time": "2022-06-10T15:12:24.502Z"
      },
      {
        "duration": 12,
        "start_time": "2022-06-10T15:12:24.513Z"
      },
      {
        "duration": 11,
        "start_time": "2022-06-10T15:12:24.526Z"
      },
      {
        "duration": 6,
        "start_time": "2022-06-10T15:12:24.539Z"
      },
      {
        "duration": 15,
        "start_time": "2022-06-10T15:12:24.547Z"
      },
      {
        "duration": 9,
        "start_time": "2022-06-10T15:12:24.563Z"
      },
      {
        "duration": 2,
        "start_time": "2022-06-10T15:12:24.578Z"
      },
      {
        "duration": 36,
        "start_time": "2022-06-10T15:13:19.495Z"
      },
      {
        "duration": 29,
        "start_time": "2022-06-10T15:13:26.417Z"
      },
      {
        "duration": 29,
        "start_time": "2022-06-10T15:13:48.938Z"
      },
      {
        "duration": 973,
        "start_time": "2022-06-10T15:14:00.231Z"
      },
      {
        "duration": 1403,
        "start_time": "2022-06-10T15:14:01.206Z"
      },
      {
        "duration": 19,
        "start_time": "2022-06-10T15:14:02.610Z"
      },
      {
        "duration": 17,
        "start_time": "2022-06-10T15:14:02.630Z"
      },
      {
        "duration": 14,
        "start_time": "2022-06-10T15:14:02.650Z"
      },
      {
        "duration": 40,
        "start_time": "2022-06-10T15:14:02.665Z"
      },
      {
        "duration": 14,
        "start_time": "2022-06-10T15:14:02.707Z"
      },
      {
        "duration": 12,
        "start_time": "2022-06-10T15:14:02.723Z"
      },
      {
        "duration": 6,
        "start_time": "2022-06-10T15:14:02.736Z"
      },
      {
        "duration": 13,
        "start_time": "2022-06-10T15:14:02.744Z"
      },
      {
        "duration": 22,
        "start_time": "2022-06-10T15:14:02.758Z"
      },
      {
        "duration": 15,
        "start_time": "2022-06-10T15:14:02.782Z"
      },
      {
        "duration": 22,
        "start_time": "2022-06-10T15:14:02.799Z"
      },
      {
        "duration": 192,
        "start_time": "2022-06-10T15:14:02.824Z"
      },
      {
        "duration": 34,
        "start_time": "2022-06-10T15:14:03.018Z"
      },
      {
        "duration": 25,
        "start_time": "2022-06-10T15:14:03.053Z"
      },
      {
        "duration": 181,
        "start_time": "2022-06-10T15:14:03.079Z"
      },
      {
        "duration": 19,
        "start_time": "2022-06-10T15:14:03.261Z"
      },
      {
        "duration": 9,
        "start_time": "2022-06-10T15:14:03.282Z"
      },
      {
        "duration": 29,
        "start_time": "2022-06-10T15:14:03.293Z"
      },
      {
        "duration": 20,
        "start_time": "2022-06-10T15:14:03.324Z"
      },
      {
        "duration": 4,
        "start_time": "2022-06-10T15:14:03.346Z"
      },
      {
        "duration": 305,
        "start_time": "2022-06-10T15:14:03.352Z"
      },
      {
        "duration": 23,
        "start_time": "2022-06-10T15:14:03.659Z"
      },
      {
        "duration": 51,
        "start_time": "2022-06-10T15:14:03.683Z"
      },
      {
        "duration": 58,
        "start_time": "2022-06-10T15:14:03.735Z"
      },
      {
        "duration": 13,
        "start_time": "2022-06-10T15:14:03.794Z"
      },
      {
        "duration": 18,
        "start_time": "2022-06-10T15:14:03.808Z"
      },
      {
        "duration": 11,
        "start_time": "2022-06-10T15:14:03.828Z"
      },
      {
        "duration": 58,
        "start_time": "2022-06-10T15:14:03.840Z"
      },
      {
        "duration": 4,
        "start_time": "2022-06-10T15:14:03.900Z"
      },
      {
        "duration": 19,
        "start_time": "2022-06-10T15:14:03.906Z"
      },
      {
        "duration": 9,
        "start_time": "2022-06-10T15:14:03.927Z"
      },
      {
        "duration": 19,
        "start_time": "2022-06-10T15:14:03.937Z"
      },
      {
        "duration": 32,
        "start_time": "2022-06-10T15:14:03.957Z"
      },
      {
        "duration": 9,
        "start_time": "2022-06-10T15:14:03.991Z"
      },
      {
        "duration": 14,
        "start_time": "2022-06-10T15:14:04.001Z"
      },
      {
        "duration": 33,
        "start_time": "2022-06-10T15:14:04.016Z"
      },
      {
        "duration": 8,
        "start_time": "2022-06-10T15:14:04.050Z"
      },
      {
        "duration": 4,
        "start_time": "2022-06-10T15:14:04.078Z"
      },
      {
        "duration": 22,
        "start_time": "2022-06-10T15:14:04.086Z"
      },
      {
        "duration": 29,
        "start_time": "2022-06-10T15:14:04.109Z"
      },
      {
        "duration": 9,
        "start_time": "2022-06-10T15:14:04.140Z"
      },
      {
        "duration": 4,
        "start_time": "2022-06-10T15:14:04.151Z"
      },
      {
        "duration": 3437,
        "start_time": "2022-06-10T15:14:04.156Z"
      },
      {
        "duration": 6,
        "start_time": "2022-06-10T15:14:07.595Z"
      },
      {
        "duration": 27,
        "start_time": "2022-06-10T15:14:07.602Z"
      },
      {
        "duration": 16,
        "start_time": "2022-06-10T15:14:07.631Z"
      },
      {
        "duration": 3,
        "start_time": "2022-06-10T15:14:07.648Z"
      },
      {
        "duration": 30,
        "start_time": "2022-06-10T15:14:07.653Z"
      },
      {
        "duration": 108,
        "start_time": "2022-06-10T15:14:07.684Z"
      },
      {
        "duration": 27,
        "start_time": "2022-06-10T15:14:07.794Z"
      },
      {
        "duration": 199,
        "start_time": "2022-06-10T15:14:07.822Z"
      },
      {
        "duration": 263,
        "start_time": "2022-06-10T15:14:08.023Z"
      },
      {
        "duration": 12,
        "start_time": "2022-06-10T15:14:08.288Z"
      },
      {
        "duration": 14,
        "start_time": "2022-06-10T15:14:08.302Z"
      },
      {
        "duration": 5,
        "start_time": "2022-06-10T15:14:08.318Z"
      },
      {
        "duration": 47,
        "start_time": "2022-06-10T15:14:08.324Z"
      },
      {
        "duration": 57,
        "start_time": "2022-06-10T15:14:08.372Z"
      },
      {
        "duration": 122,
        "start_time": "2022-06-10T15:14:08.430Z"
      },
      {
        "duration": 134,
        "start_time": "2022-06-10T15:14:08.554Z"
      },
      {
        "duration": 15,
        "start_time": "2022-06-10T15:14:08.690Z"
      },
      {
        "duration": 17,
        "start_time": "2022-06-10T15:14:08.707Z"
      },
      {
        "duration": 6,
        "start_time": "2022-06-10T15:14:08.725Z"
      },
      {
        "duration": 47,
        "start_time": "2022-06-10T15:14:08.732Z"
      },
      {
        "duration": 27,
        "start_time": "2022-06-10T15:14:08.780Z"
      },
      {
        "duration": 143,
        "start_time": "2022-06-10T15:14:08.808Z"
      },
      {
        "duration": 133,
        "start_time": "2022-06-10T15:14:08.952Z"
      },
      {
        "duration": 4,
        "start_time": "2022-06-10T15:14:09.087Z"
      },
      {
        "duration": 28,
        "start_time": "2022-06-10T15:14:09.092Z"
      },
      {
        "duration": 3,
        "start_time": "2022-06-10T15:14:09.122Z"
      },
      {
        "duration": 7,
        "start_time": "2022-06-10T15:14:09.126Z"
      },
      {
        "duration": 13,
        "start_time": "2022-06-10T15:14:09.135Z"
      },
      {
        "duration": 8,
        "start_time": "2022-06-10T15:14:09.150Z"
      },
      {
        "duration": 21,
        "start_time": "2022-06-10T15:14:09.159Z"
      },
      {
        "duration": 4,
        "start_time": "2022-06-10T15:14:09.182Z"
      },
      {
        "duration": 9,
        "start_time": "2022-06-10T15:14:09.187Z"
      },
      {
        "duration": 10,
        "start_time": "2022-06-10T15:14:09.197Z"
      },
      {
        "duration": 10,
        "start_time": "2022-06-10T15:14:09.208Z"
      },
      {
        "duration": 9,
        "start_time": "2022-06-10T15:14:09.220Z"
      },
      {
        "duration": 13,
        "start_time": "2022-06-10T15:14:09.230Z"
      },
      {
        "duration": 28,
        "start_time": "2022-06-10T15:15:48.921Z"
      },
      {
        "duration": 1042,
        "start_time": "2022-06-10T16:31:12.865Z"
      },
      {
        "duration": 1082,
        "start_time": "2022-06-10T16:31:13.909Z"
      },
      {
        "duration": 20,
        "start_time": "2022-06-10T16:31:14.992Z"
      },
      {
        "duration": 21,
        "start_time": "2022-06-10T16:31:15.014Z"
      },
      {
        "duration": 11,
        "start_time": "2022-06-10T16:31:15.037Z"
      },
      {
        "duration": 9,
        "start_time": "2022-06-10T16:31:15.049Z"
      },
      {
        "duration": 18,
        "start_time": "2022-06-10T16:31:15.060Z"
      },
      {
        "duration": 13,
        "start_time": "2022-06-10T16:31:15.079Z"
      },
      {
        "duration": 7,
        "start_time": "2022-06-10T16:31:15.093Z"
      },
      {
        "duration": 14,
        "start_time": "2022-06-10T16:31:15.102Z"
      },
      {
        "duration": 17,
        "start_time": "2022-06-10T16:31:15.118Z"
      },
      {
        "duration": 12,
        "start_time": "2022-06-10T16:31:15.137Z"
      },
      {
        "duration": 40,
        "start_time": "2022-06-10T16:31:15.151Z"
      },
      {
        "duration": 198,
        "start_time": "2022-06-10T16:31:15.192Z"
      },
      {
        "duration": 34,
        "start_time": "2022-06-10T16:31:15.391Z"
      },
      {
        "duration": 14,
        "start_time": "2022-06-10T16:31:15.427Z"
      },
      {
        "duration": 181,
        "start_time": "2022-06-10T16:31:15.442Z"
      },
      {
        "duration": 7,
        "start_time": "2022-06-10T16:31:15.624Z"
      },
      {
        "duration": 8,
        "start_time": "2022-06-10T16:31:15.632Z"
      },
      {
        "duration": 15,
        "start_time": "2022-06-10T16:31:15.641Z"
      },
      {
        "duration": 12,
        "start_time": "2022-06-10T16:31:15.677Z"
      },
      {
        "duration": 4,
        "start_time": "2022-06-10T16:31:15.690Z"
      },
      {
        "duration": 296,
        "start_time": "2022-06-10T16:31:15.695Z"
      },
      {
        "duration": 17,
        "start_time": "2022-06-10T16:31:15.992Z"
      },
      {
        "duration": 50,
        "start_time": "2022-06-10T16:31:16.010Z"
      },
      {
        "duration": 60,
        "start_time": "2022-06-10T16:31:16.061Z"
      },
      {
        "duration": 12,
        "start_time": "2022-06-10T16:31:16.122Z"
      },
      {
        "duration": 17,
        "start_time": "2022-06-10T16:31:16.137Z"
      },
      {
        "duration": 33,
        "start_time": "2022-06-10T16:31:16.155Z"
      },
      {
        "duration": 43,
        "start_time": "2022-06-10T16:31:16.189Z"
      },
      {
        "duration": 4,
        "start_time": "2022-06-10T16:31:16.233Z"
      },
      {
        "duration": 18,
        "start_time": "2022-06-10T16:31:16.238Z"
      },
      {
        "duration": 25,
        "start_time": "2022-06-10T16:31:16.257Z"
      },
      {
        "duration": 18,
        "start_time": "2022-06-10T16:31:16.283Z"
      },
      {
        "duration": 13,
        "start_time": "2022-06-10T16:31:16.302Z"
      },
      {
        "duration": 9,
        "start_time": "2022-06-10T16:31:16.316Z"
      },
      {
        "duration": 13,
        "start_time": "2022-06-10T16:31:16.326Z"
      },
      {
        "duration": 52,
        "start_time": "2022-06-10T16:31:16.340Z"
      },
      {
        "duration": 7,
        "start_time": "2022-06-10T16:31:16.393Z"
      },
      {
        "duration": 8,
        "start_time": "2022-06-10T16:31:16.401Z"
      },
      {
        "duration": 19,
        "start_time": "2022-06-10T16:31:16.411Z"
      },
      {
        "duration": 26,
        "start_time": "2022-06-10T16:31:16.431Z"
      },
      {
        "duration": 20,
        "start_time": "2022-06-10T16:31:16.458Z"
      },
      {
        "duration": 9,
        "start_time": "2022-06-10T16:31:16.479Z"
      },
      {
        "duration": 3589,
        "start_time": "2022-06-10T16:31:16.490Z"
      },
      {
        "duration": 6,
        "start_time": "2022-06-10T16:31:20.081Z"
      },
      {
        "duration": 20,
        "start_time": "2022-06-10T16:31:20.088Z"
      },
      {
        "duration": 13,
        "start_time": "2022-06-10T16:31:20.109Z"
      },
      {
        "duration": 3,
        "start_time": "2022-06-10T16:31:20.123Z"
      },
      {
        "duration": 13,
        "start_time": "2022-06-10T16:31:20.127Z"
      },
      {
        "duration": 115,
        "start_time": "2022-06-10T16:31:20.142Z"
      },
      {
        "duration": 33,
        "start_time": "2022-06-10T16:31:20.258Z"
      },
      {
        "duration": 150,
        "start_time": "2022-06-10T16:31:20.292Z"
      },
      {
        "duration": 205,
        "start_time": "2022-06-10T16:31:20.444Z"
      },
      {
        "duration": 12,
        "start_time": "2022-06-10T16:31:20.650Z"
      },
      {
        "duration": 21,
        "start_time": "2022-06-10T16:31:20.663Z"
      },
      {
        "duration": 5,
        "start_time": "2022-06-10T16:31:20.685Z"
      },
      {
        "duration": 22,
        "start_time": "2022-06-10T16:31:20.691Z"
      },
      {
        "duration": 16,
        "start_time": "2022-06-10T16:31:20.714Z"
      },
      {
        "duration": 138,
        "start_time": "2022-06-10T16:31:20.731Z"
      },
      {
        "duration": 134,
        "start_time": "2022-06-10T16:31:20.871Z"
      },
      {
        "duration": 16,
        "start_time": "2022-06-10T16:31:21.007Z"
      },
      {
        "duration": 14,
        "start_time": "2022-06-10T16:31:21.024Z"
      },
      {
        "duration": 6,
        "start_time": "2022-06-10T16:31:21.040Z"
      },
      {
        "duration": 51,
        "start_time": "2022-06-10T16:31:21.047Z"
      },
      {
        "duration": 27,
        "start_time": "2022-06-10T16:31:21.100Z"
      },
      {
        "duration": 152,
        "start_time": "2022-06-10T16:31:21.129Z"
      },
      {
        "duration": 145,
        "start_time": "2022-06-10T16:31:21.282Z"
      },
      {
        "duration": 4,
        "start_time": "2022-06-10T16:31:21.429Z"
      },
      {
        "duration": 27,
        "start_time": "2022-06-10T16:31:21.435Z"
      },
      {
        "duration": 17,
        "start_time": "2022-06-10T16:31:21.463Z"
      },
      {
        "duration": 5,
        "start_time": "2022-06-10T16:31:21.482Z"
      },
      {
        "duration": 9,
        "start_time": "2022-06-10T16:31:21.488Z"
      },
      {
        "duration": 9,
        "start_time": "2022-06-10T16:31:21.498Z"
      },
      {
        "duration": 7,
        "start_time": "2022-06-10T16:31:21.508Z"
      },
      {
        "duration": 8,
        "start_time": "2022-06-10T16:31:21.516Z"
      },
      {
        "duration": 9,
        "start_time": "2022-06-10T16:31:21.525Z"
      },
      {
        "duration": 7,
        "start_time": "2022-06-10T16:31:21.536Z"
      },
      {
        "duration": 34,
        "start_time": "2022-06-10T16:31:21.544Z"
      },
      {
        "duration": 4,
        "start_time": "2022-06-10T16:31:21.580Z"
      },
      {
        "duration": 4,
        "start_time": "2022-06-10T16:31:21.585Z"
      },
      {
        "duration": 6,
        "start_time": "2022-06-10T16:52:46.858Z"
      },
      {
        "duration": 5,
        "start_time": "2022-06-10T16:52:52.901Z"
      },
      {
        "duration": 5,
        "start_time": "2022-06-10T16:54:35.471Z"
      },
      {
        "duration": 1404,
        "start_time": "2022-06-11T16:02:00.133Z"
      },
      {
        "duration": 886,
        "start_time": "2022-06-11T16:02:01.539Z"
      },
      {
        "duration": 28,
        "start_time": "2022-06-11T16:02:02.427Z"
      },
      {
        "duration": 27,
        "start_time": "2022-06-11T16:02:02.457Z"
      },
      {
        "duration": 29,
        "start_time": "2022-06-11T16:02:02.486Z"
      },
      {
        "duration": 26,
        "start_time": "2022-06-11T16:02:02.520Z"
      },
      {
        "duration": 12,
        "start_time": "2022-06-11T16:02:02.548Z"
      },
      {
        "duration": 15,
        "start_time": "2022-06-11T16:02:02.562Z"
      },
      {
        "duration": 8,
        "start_time": "2022-06-11T16:02:02.579Z"
      },
      {
        "duration": 16,
        "start_time": "2022-06-11T16:02:02.589Z"
      },
      {
        "duration": 35,
        "start_time": "2022-06-11T16:02:02.607Z"
      },
      {
        "duration": 15,
        "start_time": "2022-06-11T16:02:02.644Z"
      },
      {
        "duration": 26,
        "start_time": "2022-06-11T16:02:02.660Z"
      },
      {
        "duration": 248,
        "start_time": "2022-06-11T16:02:02.687Z"
      },
      {
        "duration": 40,
        "start_time": "2022-06-11T16:02:02.937Z"
      },
      {
        "duration": 47,
        "start_time": "2022-06-11T16:02:02.978Z"
      },
      {
        "duration": 228,
        "start_time": "2022-06-11T16:02:03.027Z"
      },
      {
        "duration": 7,
        "start_time": "2022-06-11T16:02:03.257Z"
      },
      {
        "duration": 9,
        "start_time": "2022-06-11T16:02:03.266Z"
      },
      {
        "duration": 47,
        "start_time": "2022-06-11T16:02:03.277Z"
      },
      {
        "duration": 17,
        "start_time": "2022-06-11T16:02:03.327Z"
      },
      {
        "duration": 5,
        "start_time": "2022-06-11T16:02:03.346Z"
      },
      {
        "duration": 407,
        "start_time": "2022-06-11T16:02:03.352Z"
      },
      {
        "duration": 20,
        "start_time": "2022-06-11T16:02:03.760Z"
      },
      {
        "duration": 77,
        "start_time": "2022-06-11T16:02:03.782Z"
      },
      {
        "duration": 80,
        "start_time": "2022-06-11T16:02:03.861Z"
      },
      {
        "duration": 19,
        "start_time": "2022-06-11T16:02:03.943Z"
      },
      {
        "duration": 39,
        "start_time": "2022-06-11T16:02:03.967Z"
      },
      {
        "duration": 21,
        "start_time": "2022-06-11T16:02:04.008Z"
      },
      {
        "duration": 49,
        "start_time": "2022-06-11T16:02:04.031Z"
      },
      {
        "duration": 4,
        "start_time": "2022-06-11T16:02:04.082Z"
      },
      {
        "duration": 38,
        "start_time": "2022-06-11T16:02:04.087Z"
      },
      {
        "duration": 16,
        "start_time": "2022-06-11T16:02:04.128Z"
      },
      {
        "duration": 17,
        "start_time": "2022-06-11T16:02:04.146Z"
      },
      {
        "duration": 36,
        "start_time": "2022-06-11T16:02:04.165Z"
      },
      {
        "duration": 15,
        "start_time": "2022-06-11T16:02:04.202Z"
      },
      {
        "duration": 24,
        "start_time": "2022-06-11T16:02:04.219Z"
      },
      {
        "duration": 31,
        "start_time": "2022-06-11T16:02:04.245Z"
      },
      {
        "duration": 23,
        "start_time": "2022-06-11T16:02:04.278Z"
      },
      {
        "duration": 27,
        "start_time": "2022-06-11T16:02:04.303Z"
      },
      {
        "duration": 13,
        "start_time": "2022-06-11T16:02:04.332Z"
      },
      {
        "duration": 35,
        "start_time": "2022-06-11T16:02:04.347Z"
      },
      {
        "duration": 15,
        "start_time": "2022-06-11T16:02:04.383Z"
      },
      {
        "duration": 31,
        "start_time": "2022-06-11T16:02:04.408Z"
      },
      {
        "duration": 4179,
        "start_time": "2022-06-11T16:02:04.441Z"
      },
      {
        "duration": 10,
        "start_time": "2022-06-11T16:02:08.622Z"
      },
      {
        "duration": 17,
        "start_time": "2022-06-11T16:02:08.634Z"
      },
      {
        "duration": 16,
        "start_time": "2022-06-11T16:02:08.652Z"
      },
      {
        "duration": 4,
        "start_time": "2022-06-11T16:02:08.669Z"
      },
      {
        "duration": 9,
        "start_time": "2022-06-11T16:02:08.699Z"
      },
      {
        "duration": 143,
        "start_time": "2022-06-11T16:02:08.710Z"
      },
      {
        "duration": 51,
        "start_time": "2022-06-11T16:02:08.856Z"
      },
      {
        "duration": 219,
        "start_time": "2022-06-11T16:02:08.909Z"
      },
      {
        "duration": 281,
        "start_time": "2022-06-11T16:02:09.130Z"
      },
      {
        "duration": 15,
        "start_time": "2022-06-11T16:02:09.413Z"
      },
      {
        "duration": 17,
        "start_time": "2022-06-11T16:02:09.430Z"
      },
      {
        "duration": 9,
        "start_time": "2022-06-11T16:02:09.449Z"
      },
      {
        "duration": 51,
        "start_time": "2022-06-11T16:02:09.460Z"
      },
      {
        "duration": 21,
        "start_time": "2022-06-11T16:02:09.513Z"
      },
      {
        "duration": 167,
        "start_time": "2022-06-11T16:02:09.535Z"
      },
      {
        "duration": 164,
        "start_time": "2022-06-11T16:02:09.703Z"
      },
      {
        "duration": 41,
        "start_time": "2022-06-11T16:02:09.869Z"
      },
      {
        "duration": 23,
        "start_time": "2022-06-11T16:02:09.912Z"
      },
      {
        "duration": 7,
        "start_time": "2022-06-11T16:02:09.937Z"
      },
      {
        "duration": 36,
        "start_time": "2022-06-11T16:02:09.946Z"
      },
      {
        "duration": 41,
        "start_time": "2022-06-11T16:02:09.994Z"
      },
      {
        "duration": 192,
        "start_time": "2022-06-11T16:02:10.037Z"
      },
      {
        "duration": 173,
        "start_time": "2022-06-11T16:02:10.231Z"
      },
      {
        "duration": 5,
        "start_time": "2022-06-11T16:02:10.408Z"
      },
      {
        "duration": 31,
        "start_time": "2022-06-11T16:02:10.415Z"
      },
      {
        "duration": 5,
        "start_time": "2022-06-11T16:02:10.448Z"
      },
      {
        "duration": 6,
        "start_time": "2022-06-11T16:02:10.455Z"
      },
      {
        "duration": 12,
        "start_time": "2022-06-11T16:02:10.462Z"
      },
      {
        "duration": 12,
        "start_time": "2022-06-11T16:02:10.498Z"
      },
      {
        "duration": 14,
        "start_time": "2022-06-11T16:02:10.512Z"
      },
      {
        "duration": 27,
        "start_time": "2022-06-11T16:02:10.528Z"
      },
      {
        "duration": 13,
        "start_time": "2022-06-11T16:02:10.557Z"
      },
      {
        "duration": 7,
        "start_time": "2022-06-11T16:02:10.572Z"
      },
      {
        "duration": 15,
        "start_time": "2022-06-11T16:02:10.581Z"
      },
      {
        "duration": 27,
        "start_time": "2022-06-11T16:02:10.598Z"
      },
      {
        "duration": 8,
        "start_time": "2022-06-11T16:02:10.627Z"
      },
      {
        "duration": 44,
        "start_time": "2022-06-12T01:07:42.784Z"
      },
      {
        "duration": 1360,
        "start_time": "2022-06-12T01:07:50.223Z"
      },
      {
        "duration": 865,
        "start_time": "2022-06-12T01:07:51.584Z"
      },
      {
        "duration": 20,
        "start_time": "2022-06-12T01:07:52.451Z"
      },
      {
        "duration": 15,
        "start_time": "2022-06-12T01:07:52.473Z"
      },
      {
        "duration": 19,
        "start_time": "2022-06-12T01:07:52.490Z"
      },
      {
        "duration": 13,
        "start_time": "2022-06-12T01:07:52.511Z"
      },
      {
        "duration": 17,
        "start_time": "2022-06-12T01:07:52.552Z"
      },
      {
        "duration": 20,
        "start_time": "2022-06-12T01:07:52.571Z"
      },
      {
        "duration": 20,
        "start_time": "2022-06-12T01:07:52.593Z"
      },
      {
        "duration": 23,
        "start_time": "2022-06-12T01:07:52.616Z"
      },
      {
        "duration": 22,
        "start_time": "2022-06-12T01:07:52.642Z"
      },
      {
        "duration": 10,
        "start_time": "2022-06-12T01:07:52.666Z"
      },
      {
        "duration": 22,
        "start_time": "2022-06-12T01:07:52.677Z"
      },
      {
        "duration": 221,
        "start_time": "2022-06-12T01:07:52.701Z"
      },
      {
        "duration": 52,
        "start_time": "2022-06-12T01:07:52.924Z"
      },
      {
        "duration": 18,
        "start_time": "2022-06-12T01:07:52.977Z"
      },
      {
        "duration": 213,
        "start_time": "2022-06-12T01:07:52.997Z"
      },
      {
        "duration": 7,
        "start_time": "2022-06-12T01:07:53.212Z"
      },
      {
        "duration": 8,
        "start_time": "2022-06-12T01:07:53.220Z"
      },
      {
        "duration": 31,
        "start_time": "2022-06-12T01:07:53.230Z"
      },
      {
        "duration": 15,
        "start_time": "2022-06-12T01:07:53.263Z"
      },
      {
        "duration": 4,
        "start_time": "2022-06-12T01:07:53.280Z"
      },
      {
        "duration": 331,
        "start_time": "2022-06-12T01:07:53.285Z"
      },
      {
        "duration": 20,
        "start_time": "2022-06-12T01:07:53.617Z"
      },
      {
        "duration": 64,
        "start_time": "2022-06-12T01:07:53.639Z"
      },
      {
        "duration": 67,
        "start_time": "2022-06-12T01:07:53.707Z"
      },
      {
        "duration": 13,
        "start_time": "2022-06-12T01:07:53.776Z"
      },
      {
        "duration": 18,
        "start_time": "2022-06-12T01:07:53.793Z"
      },
      {
        "duration": 13,
        "start_time": "2022-06-12T01:07:53.812Z"
      },
      {
        "duration": 38,
        "start_time": "2022-06-12T01:07:53.851Z"
      },
      {
        "duration": 4,
        "start_time": "2022-06-12T01:07:53.890Z"
      },
      {
        "duration": 21,
        "start_time": "2022-06-12T01:07:53.896Z"
      },
      {
        "duration": 36,
        "start_time": "2022-06-12T01:07:53.919Z"
      },
      {
        "duration": 22,
        "start_time": "2022-06-12T01:07:53.957Z"
      },
      {
        "duration": 16,
        "start_time": "2022-06-12T01:07:53.980Z"
      },
      {
        "duration": 14,
        "start_time": "2022-06-12T01:07:53.998Z"
      },
      {
        "duration": 42,
        "start_time": "2022-06-12T01:07:54.013Z"
      },
      {
        "duration": 29,
        "start_time": "2022-06-12T01:07:54.057Z"
      },
      {
        "duration": 9,
        "start_time": "2022-06-12T01:07:54.087Z"
      },
      {
        "duration": 10,
        "start_time": "2022-06-12T01:07:54.097Z"
      },
      {
        "duration": 11,
        "start_time": "2022-06-12T01:07:54.108Z"
      },
      {
        "duration": 53,
        "start_time": "2022-06-12T01:07:54.123Z"
      },
      {
        "duration": 12,
        "start_time": "2022-06-12T01:07:54.177Z"
      },
      {
        "duration": 5,
        "start_time": "2022-06-12T01:07:54.190Z"
      },
      {
        "duration": 3792,
        "start_time": "2022-06-12T01:07:54.196Z"
      },
      {
        "duration": 6,
        "start_time": "2022-06-12T01:07:57.990Z"
      },
      {
        "duration": 17,
        "start_time": "2022-06-12T01:07:57.997Z"
      },
      {
        "duration": 15,
        "start_time": "2022-06-12T01:07:58.015Z"
      },
      {
        "duration": 20,
        "start_time": "2022-06-12T01:07:58.032Z"
      },
      {
        "duration": 7,
        "start_time": "2022-06-12T01:07:58.053Z"
      },
      {
        "duration": 119,
        "start_time": "2022-06-12T01:07:58.061Z"
      },
      {
        "duration": 28,
        "start_time": "2022-06-12T01:07:58.181Z"
      },
      {
        "duration": 165,
        "start_time": "2022-06-12T01:07:58.211Z"
      },
      {
        "duration": 222,
        "start_time": "2022-06-12T01:07:58.377Z"
      },
      {
        "duration": 12,
        "start_time": "2022-06-12T01:07:58.600Z"
      },
      {
        "duration": 12,
        "start_time": "2022-06-12T01:07:58.614Z"
      },
      {
        "duration": 29,
        "start_time": "2022-06-12T01:07:58.628Z"
      },
      {
        "duration": 26,
        "start_time": "2022-06-12T01:07:58.660Z"
      },
      {
        "duration": 18,
        "start_time": "2022-06-12T01:07:58.687Z"
      },
      {
        "duration": 142,
        "start_time": "2022-06-12T01:07:58.706Z"
      },
      {
        "duration": 145,
        "start_time": "2022-06-12T01:07:58.852Z"
      },
      {
        "duration": 16,
        "start_time": "2022-06-12T01:07:58.999Z"
      },
      {
        "duration": 15,
        "start_time": "2022-06-12T01:07:59.017Z"
      },
      {
        "duration": 6,
        "start_time": "2022-06-12T01:07:59.052Z"
      },
      {
        "duration": 31,
        "start_time": "2022-06-12T01:07:59.060Z"
      },
      {
        "duration": 29,
        "start_time": "2022-06-12T01:07:59.092Z"
      },
      {
        "duration": 168,
        "start_time": "2022-06-12T01:07:59.122Z"
      },
      {
        "duration": 141,
        "start_time": "2022-06-12T01:07:59.292Z"
      },
      {
        "duration": 4,
        "start_time": "2022-06-12T01:07:59.434Z"
      },
      {
        "duration": 32,
        "start_time": "2022-06-12T01:07:59.439Z"
      },
      {
        "duration": 5,
        "start_time": "2022-06-12T01:07:59.473Z"
      },
      {
        "duration": 9,
        "start_time": "2022-06-12T01:07:59.480Z"
      },
      {
        "duration": 12,
        "start_time": "2022-06-12T01:07:59.491Z"
      },
      {
        "duration": 8,
        "start_time": "2022-06-12T01:07:59.505Z"
      },
      {
        "duration": 9,
        "start_time": "2022-06-12T01:07:59.515Z"
      },
      {
        "duration": 30,
        "start_time": "2022-06-12T01:07:59.525Z"
      },
      {
        "duration": 5,
        "start_time": "2022-06-12T01:07:59.557Z"
      },
      {
        "duration": 9,
        "start_time": "2022-06-12T01:07:59.563Z"
      },
      {
        "duration": 13,
        "start_time": "2022-06-12T01:07:59.573Z"
      },
      {
        "duration": 6,
        "start_time": "2022-06-12T01:07:59.587Z"
      },
      {
        "duration": 6,
        "start_time": "2022-06-12T01:07:59.595Z"
      },
      {
        "duration": 30,
        "start_time": "2022-06-12T01:08:49.212Z"
      },
      {
        "duration": 1049,
        "start_time": "2022-06-12T01:09:18.829Z"
      },
      {
        "duration": 603,
        "start_time": "2022-06-12T01:09:19.880Z"
      },
      {
        "duration": 19,
        "start_time": "2022-06-12T01:09:20.485Z"
      },
      {
        "duration": 15,
        "start_time": "2022-06-12T01:09:20.506Z"
      },
      {
        "duration": 14,
        "start_time": "2022-06-12T01:09:20.522Z"
      },
      {
        "duration": 13,
        "start_time": "2022-06-12T01:09:20.537Z"
      },
      {
        "duration": 14,
        "start_time": "2022-06-12T01:09:20.552Z"
      },
      {
        "duration": 18,
        "start_time": "2022-06-12T01:09:20.567Z"
      },
      {
        "duration": 10,
        "start_time": "2022-06-12T01:09:20.586Z"
      },
      {
        "duration": 16,
        "start_time": "2022-06-12T01:09:20.598Z"
      },
      {
        "duration": 18,
        "start_time": "2022-06-12T01:09:20.615Z"
      },
      {
        "duration": 18,
        "start_time": "2022-06-12T01:09:20.634Z"
      },
      {
        "duration": 22,
        "start_time": "2022-06-12T01:09:20.653Z"
      },
      {
        "duration": 212,
        "start_time": "2022-06-12T01:09:20.676Z"
      },
      {
        "duration": 37,
        "start_time": "2022-06-12T01:09:20.889Z"
      },
      {
        "duration": 34,
        "start_time": "2022-06-12T01:09:20.927Z"
      },
      {
        "duration": 211,
        "start_time": "2022-06-12T01:09:20.963Z"
      },
      {
        "duration": 7,
        "start_time": "2022-06-12T01:09:21.176Z"
      },
      {
        "duration": 9,
        "start_time": "2022-06-12T01:09:21.185Z"
      },
      {
        "duration": 17,
        "start_time": "2022-06-12T01:09:21.196Z"
      },
      {
        "duration": 41,
        "start_time": "2022-06-12T01:09:21.215Z"
      },
      {
        "duration": 5,
        "start_time": "2022-06-12T01:09:21.258Z"
      },
      {
        "duration": 359,
        "start_time": "2022-06-12T01:09:21.265Z"
      },
      {
        "duration": 29,
        "start_time": "2022-06-12T01:09:21.627Z"
      },
      {
        "duration": 59,
        "start_time": "2022-06-12T01:09:21.658Z"
      },
      {
        "duration": 71,
        "start_time": "2022-06-12T01:09:21.719Z"
      },
      {
        "duration": 14,
        "start_time": "2022-06-12T01:09:21.792Z"
      },
      {
        "duration": 18,
        "start_time": "2022-06-12T01:09:21.810Z"
      },
      {
        "duration": 29,
        "start_time": "2022-06-12T01:09:21.830Z"
      },
      {
        "duration": 36,
        "start_time": "2022-06-12T01:09:21.861Z"
      },
      {
        "duration": 4,
        "start_time": "2022-06-12T01:09:21.899Z"
      },
      {
        "duration": 19,
        "start_time": "2022-06-12T01:09:21.905Z"
      },
      {
        "duration": 35,
        "start_time": "2022-06-12T01:09:21.925Z"
      },
      {
        "duration": 20,
        "start_time": "2022-06-12T01:09:21.961Z"
      },
      {
        "duration": 15,
        "start_time": "2022-06-12T01:09:21.982Z"
      },
      {
        "duration": 15,
        "start_time": "2022-06-12T01:09:21.999Z"
      },
      {
        "duration": 42,
        "start_time": "2022-06-12T01:09:22.016Z"
      },
      {
        "duration": 28,
        "start_time": "2022-06-12T01:09:22.059Z"
      },
      {
        "duration": 14,
        "start_time": "2022-06-12T01:09:22.089Z"
      },
      {
        "duration": 7,
        "start_time": "2022-06-12T01:09:22.105Z"
      },
      {
        "duration": 21,
        "start_time": "2022-06-12T01:09:22.114Z"
      },
      {
        "duration": 41,
        "start_time": "2022-06-12T01:09:22.136Z"
      },
      {
        "duration": 12,
        "start_time": "2022-06-12T01:09:22.178Z"
      },
      {
        "duration": 22,
        "start_time": "2022-06-12T01:09:22.192Z"
      },
      {
        "duration": 3632,
        "start_time": "2022-06-12T01:09:22.215Z"
      },
      {
        "duration": 8,
        "start_time": "2022-06-12T01:09:25.849Z"
      },
      {
        "duration": 19,
        "start_time": "2022-06-12T01:09:25.859Z"
      },
      {
        "duration": 15,
        "start_time": "2022-06-12T01:09:25.879Z"
      },
      {
        "duration": 4,
        "start_time": "2022-06-12T01:09:25.895Z"
      },
      {
        "duration": 12,
        "start_time": "2022-06-12T01:09:25.900Z"
      },
      {
        "duration": 123,
        "start_time": "2022-06-12T01:09:25.913Z"
      },
      {
        "duration": 32,
        "start_time": "2022-06-12T01:09:26.037Z"
      },
      {
        "duration": 168,
        "start_time": "2022-06-12T01:09:26.070Z"
      },
      {
        "duration": 226,
        "start_time": "2022-06-12T01:09:26.240Z"
      },
      {
        "duration": 14,
        "start_time": "2022-06-12T01:09:26.467Z"
      },
      {
        "duration": 27,
        "start_time": "2022-06-12T01:09:26.482Z"
      },
      {
        "duration": 18,
        "start_time": "2022-06-12T01:09:26.511Z"
      },
      {
        "duration": 23,
        "start_time": "2022-06-12T01:09:26.530Z"
      },
      {
        "duration": 29,
        "start_time": "2022-06-12T01:09:26.555Z"
      },
      {
        "duration": 0,
        "start_time": "2022-06-12T01:09:26.585Z"
      },
      {
        "duration": 0,
        "start_time": "2022-06-12T01:09:26.587Z"
      },
      {
        "duration": 0,
        "start_time": "2022-06-12T01:09:26.588Z"
      },
      {
        "duration": 0,
        "start_time": "2022-06-12T01:09:26.589Z"
      },
      {
        "duration": 0,
        "start_time": "2022-06-12T01:09:26.590Z"
      },
      {
        "duration": 0,
        "start_time": "2022-06-12T01:09:26.591Z"
      },
      {
        "duration": 0,
        "start_time": "2022-06-12T01:09:26.592Z"
      },
      {
        "duration": 0,
        "start_time": "2022-06-12T01:09:26.593Z"
      },
      {
        "duration": 0,
        "start_time": "2022-06-12T01:09:26.594Z"
      },
      {
        "duration": 0,
        "start_time": "2022-06-12T01:09:26.595Z"
      },
      {
        "duration": 0,
        "start_time": "2022-06-12T01:09:26.596Z"
      },
      {
        "duration": 0,
        "start_time": "2022-06-12T01:09:26.596Z"
      },
      {
        "duration": 0,
        "start_time": "2022-06-12T01:09:26.598Z"
      },
      {
        "duration": 0,
        "start_time": "2022-06-12T01:09:26.599Z"
      },
      {
        "duration": 0,
        "start_time": "2022-06-12T01:09:26.600Z"
      },
      {
        "duration": 0,
        "start_time": "2022-06-12T01:09:26.601Z"
      },
      {
        "duration": 0,
        "start_time": "2022-06-12T01:09:26.602Z"
      },
      {
        "duration": 0,
        "start_time": "2022-06-12T01:09:26.603Z"
      },
      {
        "duration": 0,
        "start_time": "2022-06-12T01:09:26.605Z"
      },
      {
        "duration": 0,
        "start_time": "2022-06-12T01:09:26.606Z"
      },
      {
        "duration": 0,
        "start_time": "2022-06-12T01:09:26.607Z"
      },
      {
        "duration": 0,
        "start_time": "2022-06-12T01:09:26.608Z"
      },
      {
        "duration": 39,
        "start_time": "2022-06-12T01:11:15.022Z"
      },
      {
        "duration": 29,
        "start_time": "2022-06-12T01:12:23.089Z"
      },
      {
        "duration": 27,
        "start_time": "2022-06-12T01:13:36.939Z"
      },
      {
        "duration": 9,
        "start_time": "2022-06-12T01:23:22.244Z"
      },
      {
        "duration": 1024,
        "start_time": "2022-06-12T01:23:33.038Z"
      },
      {
        "duration": 561,
        "start_time": "2022-06-12T01:23:34.064Z"
      },
      {
        "duration": 27,
        "start_time": "2022-06-12T01:23:34.627Z"
      },
      {
        "duration": 16,
        "start_time": "2022-06-12T01:23:34.657Z"
      },
      {
        "duration": 15,
        "start_time": "2022-06-12T01:23:34.675Z"
      },
      {
        "duration": 9,
        "start_time": "2022-06-12T01:23:34.693Z"
      },
      {
        "duration": 21,
        "start_time": "2022-06-12T01:23:34.704Z"
      },
      {
        "duration": 13,
        "start_time": "2022-06-12T01:23:34.752Z"
      },
      {
        "duration": 7,
        "start_time": "2022-06-12T01:23:34.766Z"
      },
      {
        "duration": 13,
        "start_time": "2022-06-12T01:23:34.775Z"
      },
      {
        "duration": 15,
        "start_time": "2022-06-12T01:23:34.789Z"
      },
      {
        "duration": 12,
        "start_time": "2022-06-12T01:23:34.805Z"
      },
      {
        "duration": 52,
        "start_time": "2022-06-12T01:23:34.819Z"
      },
      {
        "duration": 220,
        "start_time": "2022-06-12T01:23:34.873Z"
      },
      {
        "duration": 39,
        "start_time": "2022-06-12T01:23:35.095Z"
      },
      {
        "duration": 25,
        "start_time": "2022-06-12T01:23:35.136Z"
      },
      {
        "duration": 270,
        "start_time": "2022-06-12T01:23:35.163Z"
      },
      {
        "duration": 17,
        "start_time": "2022-06-12T01:23:35.435Z"
      },
      {
        "duration": 11,
        "start_time": "2022-06-12T01:23:35.454Z"
      },
      {
        "duration": 38,
        "start_time": "2022-06-12T01:23:35.466Z"
      },
      {
        "duration": 16,
        "start_time": "2022-06-12T01:23:35.506Z"
      },
      {
        "duration": 16,
        "start_time": "2022-06-12T01:23:35.524Z"
      },
      {
        "duration": 378,
        "start_time": "2022-06-12T01:23:35.543Z"
      },
      {
        "duration": 20,
        "start_time": "2022-06-12T01:23:35.922Z"
      },
      {
        "duration": 60,
        "start_time": "2022-06-12T01:23:35.953Z"
      },
      {
        "duration": 71,
        "start_time": "2022-06-12T01:23:36.015Z"
      },
      {
        "duration": 21,
        "start_time": "2022-06-12T01:23:36.088Z"
      },
      {
        "duration": 46,
        "start_time": "2022-06-12T01:23:36.115Z"
      },
      {
        "duration": 19,
        "start_time": "2022-06-12T01:23:36.163Z"
      },
      {
        "duration": 51,
        "start_time": "2022-06-12T01:23:36.184Z"
      },
      {
        "duration": 19,
        "start_time": "2022-06-12T01:23:36.237Z"
      },
      {
        "duration": 25,
        "start_time": "2022-06-12T01:23:36.259Z"
      },
      {
        "duration": 14,
        "start_time": "2022-06-12T01:23:36.286Z"
      },
      {
        "duration": 20,
        "start_time": "2022-06-12T01:23:36.301Z"
      },
      {
        "duration": 41,
        "start_time": "2022-06-12T01:23:36.322Z"
      },
      {
        "duration": 11,
        "start_time": "2022-06-12T01:23:36.364Z"
      },
      {
        "duration": 32,
        "start_time": "2022-06-12T01:23:36.377Z"
      },
      {
        "duration": 42,
        "start_time": "2022-06-12T01:23:36.411Z"
      },
      {
        "duration": 13,
        "start_time": "2022-06-12T01:23:36.455Z"
      },
      {
        "duration": 9,
        "start_time": "2022-06-12T01:23:36.470Z"
      },
      {
        "duration": 15,
        "start_time": "2022-06-12T01:23:36.481Z"
      },
      {
        "duration": 55,
        "start_time": "2022-06-12T01:23:36.498Z"
      },
      {
        "duration": 13,
        "start_time": "2022-06-12T01:23:36.554Z"
      },
      {
        "duration": 11,
        "start_time": "2022-06-12T01:23:36.569Z"
      },
      {
        "duration": 3849,
        "start_time": "2022-06-12T01:23:36.581Z"
      },
      {
        "duration": 8,
        "start_time": "2022-06-12T01:23:40.432Z"
      },
      {
        "duration": 26,
        "start_time": "2022-06-12T01:23:40.441Z"
      },
      {
        "duration": 30,
        "start_time": "2022-06-12T01:23:40.469Z"
      },
      {
        "duration": 4,
        "start_time": "2022-06-12T01:23:40.501Z"
      },
      {
        "duration": 13,
        "start_time": "2022-06-12T01:23:40.507Z"
      },
      {
        "duration": 152,
        "start_time": "2022-06-12T01:23:40.522Z"
      },
      {
        "duration": 35,
        "start_time": "2022-06-12T01:23:40.676Z"
      },
      {
        "duration": 208,
        "start_time": "2022-06-12T01:23:40.713Z"
      },
      {
        "duration": 253,
        "start_time": "2022-06-12T01:23:40.923Z"
      },
      {
        "duration": 14,
        "start_time": "2022-06-12T01:23:41.178Z"
      },
      {
        "duration": 15,
        "start_time": "2022-06-12T01:23:41.194Z"
      },
      {
        "duration": 8,
        "start_time": "2022-06-12T01:23:41.211Z"
      },
      {
        "duration": 57,
        "start_time": "2022-06-12T01:23:41.221Z"
      },
      {
        "duration": 27,
        "start_time": "2022-06-12T01:23:41.279Z"
      },
      {
        "duration": 169,
        "start_time": "2022-06-12T01:23:41.307Z"
      },
      {
        "duration": 162,
        "start_time": "2022-06-12T01:23:41.478Z"
      },
      {
        "duration": 25,
        "start_time": "2022-06-12T01:23:41.642Z"
      },
      {
        "duration": 25,
        "start_time": "2022-06-12T01:23:41.669Z"
      },
      {
        "duration": 9,
        "start_time": "2022-06-12T01:23:41.697Z"
      },
      {
        "duration": 71,
        "start_time": "2022-06-12T01:23:41.707Z"
      },
      {
        "duration": 43,
        "start_time": "2022-06-12T01:23:41.780Z"
      },
      {
        "duration": 195,
        "start_time": "2022-06-12T01:23:41.825Z"
      },
      {
        "duration": 171,
        "start_time": "2022-06-12T01:23:42.022Z"
      },
      {
        "duration": 4,
        "start_time": "2022-06-12T01:23:42.195Z"
      },
      {
        "duration": 28,
        "start_time": "2022-06-12T01:23:42.200Z"
      },
      {
        "duration": 22,
        "start_time": "2022-06-12T01:23:42.230Z"
      },
      {
        "duration": 6,
        "start_time": "2022-06-12T01:23:42.254Z"
      },
      {
        "duration": 9,
        "start_time": "2022-06-12T01:23:42.262Z"
      },
      {
        "duration": 14,
        "start_time": "2022-06-12T01:23:42.272Z"
      },
      {
        "duration": 11,
        "start_time": "2022-06-12T01:23:42.287Z"
      },
      {
        "duration": 13,
        "start_time": "2022-06-12T01:23:42.299Z"
      },
      {
        "duration": 14,
        "start_time": "2022-06-12T01:23:42.314Z"
      },
      {
        "duration": 10,
        "start_time": "2022-06-12T01:23:42.352Z"
      },
      {
        "duration": 18,
        "start_time": "2022-06-12T01:23:42.365Z"
      },
      {
        "duration": 14,
        "start_time": "2022-06-12T01:23:42.385Z"
      },
      {
        "duration": 6,
        "start_time": "2022-06-12T01:23:42.401Z"
      },
      {
        "duration": 1062,
        "start_time": "2022-06-12T02:03:17.223Z"
      },
      {
        "duration": 665,
        "start_time": "2022-06-12T02:03:18.286Z"
      },
      {
        "duration": 21,
        "start_time": "2022-06-12T02:03:18.953Z"
      },
      {
        "duration": 21,
        "start_time": "2022-06-12T02:03:18.977Z"
      },
      {
        "duration": 14,
        "start_time": "2022-06-12T02:03:19.001Z"
      },
      {
        "duration": 13,
        "start_time": "2022-06-12T02:03:19.017Z"
      },
      {
        "duration": 10,
        "start_time": "2022-06-12T02:03:19.053Z"
      },
      {
        "duration": 19,
        "start_time": "2022-06-12T02:03:19.065Z"
      },
      {
        "duration": 11,
        "start_time": "2022-06-12T02:03:19.086Z"
      },
      {
        "duration": 18,
        "start_time": "2022-06-12T02:03:19.099Z"
      },
      {
        "duration": 35,
        "start_time": "2022-06-12T02:03:19.118Z"
      },
      {
        "duration": 8,
        "start_time": "2022-06-12T02:03:19.155Z"
      },
      {
        "duration": 29,
        "start_time": "2022-06-12T02:03:19.165Z"
      },
      {
        "duration": 225,
        "start_time": "2022-06-12T02:03:19.195Z"
      },
      {
        "duration": 46,
        "start_time": "2022-06-12T02:03:19.421Z"
      },
      {
        "duration": 15,
        "start_time": "2022-06-12T02:03:19.468Z"
      },
      {
        "duration": 200,
        "start_time": "2022-06-12T02:03:19.485Z"
      },
      {
        "duration": 7,
        "start_time": "2022-06-12T02:03:19.686Z"
      },
      {
        "duration": 10,
        "start_time": "2022-06-12T02:03:19.694Z"
      },
      {
        "duration": 16,
        "start_time": "2022-06-12T02:03:19.706Z"
      },
      {
        "duration": 40,
        "start_time": "2022-06-12T02:03:19.723Z"
      },
      {
        "duration": 4,
        "start_time": "2022-06-12T02:03:19.764Z"
      },
      {
        "duration": 353,
        "start_time": "2022-06-12T02:03:19.770Z"
      },
      {
        "duration": 30,
        "start_time": "2022-06-12T02:03:20.125Z"
      },
      {
        "duration": 56,
        "start_time": "2022-06-12T02:03:20.156Z"
      },
      {
        "duration": 61,
        "start_time": "2022-06-12T02:03:20.214Z"
      },
      {
        "duration": 12,
        "start_time": "2022-06-12T02:03:20.277Z"
      },
      {
        "duration": 19,
        "start_time": "2022-06-12T02:03:20.293Z"
      },
      {
        "duration": 12,
        "start_time": "2022-06-12T02:03:20.314Z"
      },
      {
        "duration": 57,
        "start_time": "2022-06-12T02:03:20.328Z"
      },
      {
        "duration": 4,
        "start_time": "2022-06-12T02:03:20.387Z"
      },
      {
        "duration": 25,
        "start_time": "2022-06-12T02:03:20.393Z"
      },
      {
        "duration": 12,
        "start_time": "2022-06-12T02:03:20.420Z"
      },
      {
        "duration": 19,
        "start_time": "2022-06-12T02:03:20.452Z"
      },
      {
        "duration": 15,
        "start_time": "2022-06-12T02:03:20.472Z"
      },
      {
        "duration": 12,
        "start_time": "2022-06-12T02:03:20.488Z"
      },
      {
        "duration": 16,
        "start_time": "2022-06-12T02:03:20.502Z"
      },
      {
        "duration": 52,
        "start_time": "2022-06-12T02:03:20.520Z"
      },
      {
        "duration": 8,
        "start_time": "2022-06-12T02:03:20.574Z"
      },
      {
        "duration": 7,
        "start_time": "2022-06-12T02:03:20.583Z"
      },
      {
        "duration": 14,
        "start_time": "2022-06-12T02:03:20.591Z"
      },
      {
        "duration": 29,
        "start_time": "2022-06-12T02:03:20.607Z"
      },
      {
        "duration": 13,
        "start_time": "2022-06-12T02:03:20.652Z"
      },
      {
        "duration": 15,
        "start_time": "2022-06-12T02:03:20.667Z"
      },
      {
        "duration": 3796,
        "start_time": "2022-06-12T02:03:20.683Z"
      },
      {
        "duration": 6,
        "start_time": "2022-06-12T02:03:24.481Z"
      },
      {
        "duration": 29,
        "start_time": "2022-06-12T02:03:24.489Z"
      },
      {
        "duration": 16,
        "start_time": "2022-06-12T02:03:24.520Z"
      },
      {
        "duration": 18,
        "start_time": "2022-06-12T02:03:24.537Z"
      },
      {
        "duration": 34,
        "start_time": "2022-06-12T02:03:24.556Z"
      },
      {
        "duration": 116,
        "start_time": "2022-06-12T02:03:24.592Z"
      },
      {
        "duration": 29,
        "start_time": "2022-06-12T02:03:24.709Z"
      },
      {
        "duration": 157,
        "start_time": "2022-06-12T02:03:24.739Z"
      },
      {
        "duration": 224,
        "start_time": "2022-06-12T02:03:24.897Z"
      },
      {
        "duration": 14,
        "start_time": "2022-06-12T02:03:25.123Z"
      },
      {
        "duration": 19,
        "start_time": "2022-06-12T02:03:25.152Z"
      },
      {
        "duration": 24,
        "start_time": "2022-06-12T02:03:25.173Z"
      },
      {
        "duration": 42,
        "start_time": "2022-06-12T02:03:25.200Z"
      },
      {
        "duration": 38,
        "start_time": "2022-06-12T02:03:25.244Z"
      },
      {
        "duration": 149,
        "start_time": "2022-06-12T02:03:25.284Z"
      },
      {
        "duration": 140,
        "start_time": "2022-06-12T02:03:25.435Z"
      },
      {
        "duration": 15,
        "start_time": "2022-06-12T02:03:25.576Z"
      },
      {
        "duration": 14,
        "start_time": "2022-06-12T02:03:25.592Z"
      },
      {
        "duration": 11,
        "start_time": "2022-06-12T02:03:25.608Z"
      },
      {
        "duration": 45,
        "start_time": "2022-06-12T02:03:25.620Z"
      },
      {
        "duration": 28,
        "start_time": "2022-06-12T02:03:25.666Z"
      },
      {
        "duration": 152,
        "start_time": "2022-06-12T02:03:25.696Z"
      },
      {
        "duration": 147,
        "start_time": "2022-06-12T02:03:25.851Z"
      },
      {
        "duration": 4,
        "start_time": "2022-06-12T02:03:25.999Z"
      },
      {
        "duration": 27,
        "start_time": "2022-06-12T02:03:26.005Z"
      },
      {
        "duration": 18,
        "start_time": "2022-06-12T02:03:26.034Z"
      },
      {
        "duration": 5,
        "start_time": "2022-06-12T02:03:26.054Z"
      },
      {
        "duration": 11,
        "start_time": "2022-06-12T02:03:26.060Z"
      },
      {
        "duration": 8,
        "start_time": "2022-06-12T02:03:26.073Z"
      },
      {
        "duration": 8,
        "start_time": "2022-06-12T02:03:26.083Z"
      },
      {
        "duration": 14,
        "start_time": "2022-06-12T02:03:26.093Z"
      },
      {
        "duration": 18,
        "start_time": "2022-06-12T02:03:26.108Z"
      },
      {
        "duration": 9,
        "start_time": "2022-06-12T02:03:26.127Z"
      },
      {
        "duration": 25,
        "start_time": "2022-06-12T02:03:26.138Z"
      },
      {
        "duration": 6,
        "start_time": "2022-06-12T02:03:26.164Z"
      },
      {
        "duration": 10,
        "start_time": "2022-06-12T02:03:26.172Z"
      },
      {
        "duration": 1471,
        "start_time": "2022-06-12T20:55:41.832Z"
      },
      {
        "duration": 1136,
        "start_time": "2022-06-12T20:55:43.305Z"
      },
      {
        "duration": 42,
        "start_time": "2022-06-12T20:55:44.443Z"
      },
      {
        "duration": 28,
        "start_time": "2022-06-12T20:55:44.488Z"
      },
      {
        "duration": 17,
        "start_time": "2022-06-12T20:55:44.518Z"
      },
      {
        "duration": 39,
        "start_time": "2022-06-12T20:55:44.537Z"
      },
      {
        "duration": 13,
        "start_time": "2022-06-12T20:55:44.579Z"
      },
      {
        "duration": 21,
        "start_time": "2022-06-12T20:55:44.594Z"
      },
      {
        "duration": 12,
        "start_time": "2022-06-12T20:55:44.617Z"
      },
      {
        "duration": 44,
        "start_time": "2022-06-12T20:55:44.631Z"
      },
      {
        "duration": 20,
        "start_time": "2022-06-12T20:55:44.677Z"
      },
      {
        "duration": 17,
        "start_time": "2022-06-12T20:55:44.699Z"
      },
      {
        "duration": 25,
        "start_time": "2022-06-12T20:55:44.718Z"
      },
      {
        "duration": 333,
        "start_time": "2022-06-12T20:55:44.747Z"
      },
      {
        "duration": 45,
        "start_time": "2022-06-12T20:55:45.082Z"
      },
      {
        "duration": 30,
        "start_time": "2022-06-12T20:55:45.129Z"
      },
      {
        "duration": 282,
        "start_time": "2022-06-12T20:55:45.161Z"
      },
      {
        "duration": 32,
        "start_time": "2022-06-12T20:55:45.445Z"
      },
      {
        "duration": 10,
        "start_time": "2022-06-12T20:55:45.478Z"
      },
      {
        "duration": 19,
        "start_time": "2022-06-12T20:55:45.490Z"
      },
      {
        "duration": 16,
        "start_time": "2022-06-12T20:55:45.511Z"
      },
      {
        "duration": 6,
        "start_time": "2022-06-12T20:55:45.530Z"
      },
      {
        "duration": 417,
        "start_time": "2022-06-12T20:55:45.559Z"
      },
      {
        "duration": 21,
        "start_time": "2022-06-12T20:55:45.978Z"
      },
      {
        "duration": 79,
        "start_time": "2022-06-12T20:55:46.001Z"
      },
      {
        "duration": 58,
        "start_time": "2022-06-12T20:55:46.081Z"
      },
      {
        "duration": 34,
        "start_time": "2022-06-12T20:55:46.141Z"
      },
      {
        "duration": 34,
        "start_time": "2022-06-12T20:55:46.179Z"
      },
      {
        "duration": 21,
        "start_time": "2022-06-12T20:55:46.215Z"
      },
      {
        "duration": 65,
        "start_time": "2022-06-12T20:55:46.238Z"
      },
      {
        "duration": 7,
        "start_time": "2022-06-12T20:55:46.308Z"
      },
      {
        "duration": 34,
        "start_time": "2022-06-12T20:55:46.317Z"
      },
      {
        "duration": 23,
        "start_time": "2022-06-12T20:55:46.353Z"
      },
      {
        "duration": 23,
        "start_time": "2022-06-12T20:55:46.379Z"
      },
      {
        "duration": 17,
        "start_time": "2022-06-12T20:55:46.404Z"
      },
      {
        "duration": 12,
        "start_time": "2022-06-12T20:55:46.423Z"
      },
      {
        "duration": 56,
        "start_time": "2022-06-12T20:55:46.437Z"
      },
      {
        "duration": 32,
        "start_time": "2022-06-12T20:55:46.495Z"
      },
      {
        "duration": 9,
        "start_time": "2022-06-12T20:55:46.528Z"
      },
      {
        "duration": 31,
        "start_time": "2022-06-12T20:55:46.539Z"
      },
      {
        "duration": 16,
        "start_time": "2022-06-12T20:55:46.578Z"
      },
      {
        "duration": 35,
        "start_time": "2022-06-12T20:55:46.596Z"
      },
      {
        "duration": 27,
        "start_time": "2022-06-12T20:55:46.633Z"
      },
      {
        "duration": 10,
        "start_time": "2022-06-12T20:55:46.668Z"
      },
      {
        "duration": 4288,
        "start_time": "2022-06-12T20:55:46.680Z"
      },
      {
        "duration": 10,
        "start_time": "2022-06-12T20:55:50.970Z"
      },
      {
        "duration": 24,
        "start_time": "2022-06-12T20:55:50.982Z"
      },
      {
        "duration": 18,
        "start_time": "2022-06-12T20:55:51.008Z"
      },
      {
        "duration": 4,
        "start_time": "2022-06-12T20:55:51.028Z"
      },
      {
        "duration": 34,
        "start_time": "2022-06-12T20:55:51.033Z"
      },
      {
        "duration": 131,
        "start_time": "2022-06-12T20:55:51.069Z"
      },
      {
        "duration": 33,
        "start_time": "2022-06-12T20:55:51.201Z"
      },
      {
        "duration": 207,
        "start_time": "2022-06-12T20:55:51.236Z"
      },
      {
        "duration": 277,
        "start_time": "2022-06-12T20:55:51.445Z"
      },
      {
        "duration": 13,
        "start_time": "2022-06-12T20:55:51.724Z"
      },
      {
        "duration": 34,
        "start_time": "2022-06-12T20:55:51.740Z"
      },
      {
        "duration": 14,
        "start_time": "2022-06-12T20:55:51.777Z"
      },
      {
        "duration": 48,
        "start_time": "2022-06-12T20:55:51.794Z"
      },
      {
        "duration": 56,
        "start_time": "2022-06-12T20:55:51.844Z"
      },
      {
        "duration": 213,
        "start_time": "2022-06-12T20:55:51.903Z"
      },
      {
        "duration": 224,
        "start_time": "2022-06-12T20:55:52.119Z"
      },
      {
        "duration": 34,
        "start_time": "2022-06-12T20:55:52.345Z"
      },
      {
        "duration": 20,
        "start_time": "2022-06-12T20:55:52.380Z"
      },
      {
        "duration": 8,
        "start_time": "2022-06-12T20:55:52.402Z"
      },
      {
        "duration": 54,
        "start_time": "2022-06-12T20:55:52.412Z"
      },
      {
        "duration": 44,
        "start_time": "2022-06-12T20:55:52.470Z"
      },
      {
        "duration": 200,
        "start_time": "2022-06-12T20:55:52.516Z"
      },
      {
        "duration": 200,
        "start_time": "2022-06-12T20:55:52.718Z"
      },
      {
        "duration": 5,
        "start_time": "2022-06-12T20:55:52.920Z"
      },
      {
        "duration": 49,
        "start_time": "2022-06-12T20:55:52.927Z"
      },
      {
        "duration": 6,
        "start_time": "2022-06-12T20:55:52.980Z"
      },
      {
        "duration": 7,
        "start_time": "2022-06-12T20:55:52.988Z"
      },
      {
        "duration": 13,
        "start_time": "2022-06-12T20:55:52.997Z"
      },
      {
        "duration": 9,
        "start_time": "2022-06-12T20:55:53.012Z"
      },
      {
        "duration": 49,
        "start_time": "2022-06-12T20:55:53.023Z"
      },
      {
        "duration": 11,
        "start_time": "2022-06-12T20:55:53.074Z"
      },
      {
        "duration": 12,
        "start_time": "2022-06-12T20:55:53.087Z"
      },
      {
        "duration": 8,
        "start_time": "2022-06-12T20:55:53.100Z"
      },
      {
        "duration": 12,
        "start_time": "2022-06-12T20:55:53.110Z"
      },
      {
        "duration": 6,
        "start_time": "2022-06-12T20:55:53.124Z"
      },
      {
        "duration": 5,
        "start_time": "2022-06-12T20:55:53.132Z"
      },
      {
        "duration": 53,
        "start_time": "2022-06-12T22:51:26.003Z"
      },
      {
        "duration": 1484,
        "start_time": "2022-06-12T22:51:46.499Z"
      },
      {
        "duration": 978,
        "start_time": "2022-06-12T22:51:47.985Z"
      },
      {
        "duration": 34,
        "start_time": "2022-06-12T22:51:48.965Z"
      },
      {
        "duration": 36,
        "start_time": "2022-06-12T22:51:49.002Z"
      },
      {
        "duration": 54,
        "start_time": "2022-06-12T22:51:49.041Z"
      },
      {
        "duration": 19,
        "start_time": "2022-06-12T22:51:49.097Z"
      },
      {
        "duration": 45,
        "start_time": "2022-06-12T22:51:49.118Z"
      },
      {
        "duration": 24,
        "start_time": "2022-06-12T22:51:49.165Z"
      },
      {
        "duration": 8,
        "start_time": "2022-06-12T22:51:49.191Z"
      },
      {
        "duration": 13,
        "start_time": "2022-06-12T22:51:49.203Z"
      },
      {
        "duration": 34,
        "start_time": "2022-06-12T22:51:49.218Z"
      },
      {
        "duration": 12,
        "start_time": "2022-06-12T22:51:49.254Z"
      },
      {
        "duration": 31,
        "start_time": "2022-06-12T22:51:49.267Z"
      },
      {
        "duration": 329,
        "start_time": "2022-06-12T22:51:49.300Z"
      },
      {
        "duration": 52,
        "start_time": "2022-06-12T22:51:49.633Z"
      },
      {
        "duration": 17,
        "start_time": "2022-06-12T22:51:49.687Z"
      },
      {
        "duration": 261,
        "start_time": "2022-06-12T22:51:49.706Z"
      },
      {
        "duration": 10,
        "start_time": "2022-06-12T22:51:49.969Z"
      },
      {
        "duration": 26,
        "start_time": "2022-06-12T22:51:49.982Z"
      },
      {
        "duration": 44,
        "start_time": "2022-06-12T22:51:50.010Z"
      },
      {
        "duration": 38,
        "start_time": "2022-06-12T22:51:50.056Z"
      },
      {
        "duration": 8,
        "start_time": "2022-06-12T22:51:50.096Z"
      },
      {
        "duration": 412,
        "start_time": "2022-06-12T22:51:50.106Z"
      },
      {
        "duration": 29,
        "start_time": "2022-06-12T22:51:50.520Z"
      },
      {
        "duration": 95,
        "start_time": "2022-06-12T22:51:50.555Z"
      },
      {
        "duration": 78,
        "start_time": "2022-06-12T22:51:50.652Z"
      },
      {
        "duration": 15,
        "start_time": "2022-06-12T22:51:50.741Z"
      },
      {
        "duration": 34,
        "start_time": "2022-06-12T22:51:50.761Z"
      },
      {
        "duration": 39,
        "start_time": "2022-06-12T22:51:50.797Z"
      },
      {
        "duration": 98,
        "start_time": "2022-06-12T22:51:50.838Z"
      },
      {
        "duration": 6,
        "start_time": "2022-06-12T22:51:50.938Z"
      },
      {
        "duration": 54,
        "start_time": "2022-06-12T22:51:50.946Z"
      },
      {
        "duration": 16,
        "start_time": "2022-06-12T22:51:51.003Z"
      },
      {
        "duration": 57,
        "start_time": "2022-06-12T22:51:51.021Z"
      },
      {
        "duration": 23,
        "start_time": "2022-06-12T22:51:51.081Z"
      },
      {
        "duration": 64,
        "start_time": "2022-06-12T22:51:51.106Z"
      },
      {
        "duration": 38,
        "start_time": "2022-06-12T22:51:51.172Z"
      },
      {
        "duration": 52,
        "start_time": "2022-06-12T22:51:51.212Z"
      },
      {
        "duration": 17,
        "start_time": "2022-06-12T22:51:51.266Z"
      },
      {
        "duration": 15,
        "start_time": "2022-06-12T22:51:51.289Z"
      },
      {
        "duration": 19,
        "start_time": "2022-06-12T22:51:51.306Z"
      },
      {
        "duration": 59,
        "start_time": "2022-06-12T22:51:51.329Z"
      },
      {
        "duration": 15,
        "start_time": "2022-06-12T22:51:51.391Z"
      },
      {
        "duration": 18,
        "start_time": "2022-06-12T22:51:51.408Z"
      },
      {
        "duration": 3867,
        "start_time": "2022-06-12T22:51:51.428Z"
      },
      {
        "duration": 9,
        "start_time": "2022-06-12T22:51:55.298Z"
      },
      {
        "duration": 58,
        "start_time": "2022-06-12T22:51:55.309Z"
      },
      {
        "duration": 20,
        "start_time": "2022-06-12T22:51:55.370Z"
      },
      {
        "duration": 5,
        "start_time": "2022-06-12T22:51:55.392Z"
      },
      {
        "duration": 35,
        "start_time": "2022-06-12T22:51:55.399Z"
      },
      {
        "duration": 183,
        "start_time": "2022-06-12T22:51:55.436Z"
      },
      {
        "duration": 46,
        "start_time": "2022-06-12T22:51:55.620Z"
      },
      {
        "duration": 288,
        "start_time": "2022-06-12T22:51:55.668Z"
      },
      {
        "duration": 192,
        "start_time": "2022-06-12T22:51:55.959Z"
      },
      {
        "duration": 15,
        "start_time": "2022-06-12T22:51:56.152Z"
      },
      {
        "duration": 47,
        "start_time": "2022-06-12T22:51:56.172Z"
      },
      {
        "duration": 58,
        "start_time": "2022-06-12T22:51:56.222Z"
      },
      {
        "duration": 48,
        "start_time": "2022-06-12T22:51:56.285Z"
      },
      {
        "duration": 111,
        "start_time": "2022-06-12T22:51:56.335Z"
      },
      {
        "duration": 250,
        "start_time": "2022-06-12T22:51:56.450Z"
      },
      {
        "duration": 209,
        "start_time": "2022-06-12T22:51:56.703Z"
      },
      {
        "duration": 42,
        "start_time": "2022-06-12T22:51:56.914Z"
      },
      {
        "duration": 26,
        "start_time": "2022-06-12T22:51:56.959Z"
      },
      {
        "duration": 8,
        "start_time": "2022-06-12T22:51:56.988Z"
      },
      {
        "duration": 62,
        "start_time": "2022-06-12T22:51:56.998Z"
      },
      {
        "duration": 38,
        "start_time": "2022-06-12T22:51:57.062Z"
      },
      {
        "duration": 196,
        "start_time": "2022-06-12T22:51:57.102Z"
      },
      {
        "duration": 186,
        "start_time": "2022-06-12T22:51:57.300Z"
      },
      {
        "duration": 5,
        "start_time": "2022-06-12T22:51:57.488Z"
      },
      {
        "duration": 54,
        "start_time": "2022-06-12T22:51:57.495Z"
      },
      {
        "duration": 7,
        "start_time": "2022-06-12T22:51:57.550Z"
      },
      {
        "duration": 23,
        "start_time": "2022-06-12T22:51:57.559Z"
      },
      {
        "duration": 21,
        "start_time": "2022-06-12T22:51:57.584Z"
      },
      {
        "duration": 32,
        "start_time": "2022-06-12T22:51:57.607Z"
      },
      {
        "duration": 31,
        "start_time": "2022-06-12T22:51:57.641Z"
      },
      {
        "duration": 26,
        "start_time": "2022-06-12T22:51:57.674Z"
      },
      {
        "duration": 51,
        "start_time": "2022-06-12T22:51:57.703Z"
      },
      {
        "duration": 18,
        "start_time": "2022-06-12T22:51:57.756Z"
      },
      {
        "duration": 32,
        "start_time": "2022-06-12T22:51:57.776Z"
      },
      {
        "duration": 49,
        "start_time": "2022-06-12T22:51:57.810Z"
      },
      {
        "duration": 17,
        "start_time": "2022-06-12T22:51:57.862Z"
      },
      {
        "duration": 37,
        "start_time": "2022-06-12T22:52:31.774Z"
      },
      {
        "duration": 143,
        "start_time": "2022-06-12T22:52:35.749Z"
      },
      {
        "duration": 165,
        "start_time": "2022-06-12T22:52:37.676Z"
      },
      {
        "duration": 1326,
        "start_time": "2022-06-12T22:53:48.849Z"
      },
      {
        "duration": 789,
        "start_time": "2022-06-12T22:53:50.178Z"
      },
      {
        "duration": 36,
        "start_time": "2022-06-12T22:53:50.972Z"
      },
      {
        "duration": 35,
        "start_time": "2022-06-12T22:53:51.010Z"
      },
      {
        "duration": 43,
        "start_time": "2022-06-12T22:53:51.048Z"
      },
      {
        "duration": 16,
        "start_time": "2022-06-12T22:53:51.094Z"
      },
      {
        "duration": 33,
        "start_time": "2022-06-12T22:53:51.112Z"
      },
      {
        "duration": 30,
        "start_time": "2022-06-12T22:53:51.153Z"
      },
      {
        "duration": 11,
        "start_time": "2022-06-12T22:53:51.185Z"
      },
      {
        "duration": 20,
        "start_time": "2022-06-12T22:53:51.198Z"
      },
      {
        "duration": 25,
        "start_time": "2022-06-12T22:53:51.220Z"
      },
      {
        "duration": 33,
        "start_time": "2022-06-12T22:53:51.247Z"
      },
      {
        "duration": 34,
        "start_time": "2022-06-12T22:53:51.283Z"
      },
      {
        "duration": 339,
        "start_time": "2022-06-12T22:53:51.323Z"
      },
      {
        "duration": 71,
        "start_time": "2022-06-12T22:53:51.666Z"
      },
      {
        "duration": 28,
        "start_time": "2022-06-12T22:53:51.740Z"
      },
      {
        "duration": 317,
        "start_time": "2022-06-12T22:53:51.770Z"
      },
      {
        "duration": 10,
        "start_time": "2022-06-12T22:53:52.091Z"
      },
      {
        "duration": 25,
        "start_time": "2022-06-12T22:53:52.103Z"
      },
      {
        "duration": 33,
        "start_time": "2022-06-12T22:53:52.132Z"
      },
      {
        "duration": 35,
        "start_time": "2022-06-12T22:53:52.167Z"
      },
      {
        "duration": 7,
        "start_time": "2022-06-12T22:53:52.204Z"
      },
      {
        "duration": 508,
        "start_time": "2022-06-12T22:53:52.226Z"
      },
      {
        "duration": 26,
        "start_time": "2022-06-12T22:53:52.735Z"
      },
      {
        "duration": 92,
        "start_time": "2022-06-12T22:53:52.762Z"
      },
      {
        "duration": 83,
        "start_time": "2022-06-12T22:53:52.856Z"
      },
      {
        "duration": 30,
        "start_time": "2022-06-12T22:53:52.945Z"
      },
      {
        "duration": 46,
        "start_time": "2022-06-12T22:53:52.977Z"
      },
      {
        "duration": 20,
        "start_time": "2022-06-12T22:53:53.026Z"
      },
      {
        "duration": 87,
        "start_time": "2022-06-12T22:53:53.057Z"
      },
      {
        "duration": 7,
        "start_time": "2022-06-12T22:53:53.147Z"
      },
      {
        "duration": 56,
        "start_time": "2022-06-12T22:53:53.157Z"
      },
      {
        "duration": 26,
        "start_time": "2022-06-12T22:53:53.216Z"
      },
      {
        "duration": 101,
        "start_time": "2022-06-12T22:53:53.251Z"
      },
      {
        "duration": 67,
        "start_time": "2022-06-12T22:53:53.356Z"
      },
      {
        "duration": 18,
        "start_time": "2022-06-12T22:53:53.425Z"
      },
      {
        "duration": 50,
        "start_time": "2022-06-12T22:53:53.447Z"
      },
      {
        "duration": 54,
        "start_time": "2022-06-12T22:53:53.500Z"
      },
      {
        "duration": 14,
        "start_time": "2022-06-12T22:53:53.556Z"
      },
      {
        "duration": 12,
        "start_time": "2022-06-12T22:53:53.572Z"
      },
      {
        "duration": 27,
        "start_time": "2022-06-12T22:53:53.590Z"
      },
      {
        "duration": 67,
        "start_time": "2022-06-12T22:53:53.620Z"
      },
      {
        "duration": 26,
        "start_time": "2022-06-12T22:53:53.690Z"
      },
      {
        "duration": 55,
        "start_time": "2022-06-12T22:53:53.720Z"
      },
      {
        "duration": 6356,
        "start_time": "2022-06-12T22:53:53.778Z"
      },
      {
        "duration": 12,
        "start_time": "2022-06-12T22:54:00.136Z"
      },
      {
        "duration": 42,
        "start_time": "2022-06-12T22:54:00.150Z"
      },
      {
        "duration": 29,
        "start_time": "2022-06-12T22:54:00.194Z"
      },
      {
        "duration": 48,
        "start_time": "2022-06-12T22:54:00.225Z"
      },
      {
        "duration": 29,
        "start_time": "2022-06-12T22:54:00.276Z"
      },
      {
        "duration": 223,
        "start_time": "2022-06-12T22:54:00.307Z"
      },
      {
        "duration": 43,
        "start_time": "2022-06-12T22:54:00.534Z"
      },
      {
        "duration": 268,
        "start_time": "2022-06-12T22:54:00.579Z"
      },
      {
        "duration": 347,
        "start_time": "2022-06-12T22:54:00.852Z"
      },
      {
        "duration": 44,
        "start_time": "2022-06-12T22:54:01.201Z"
      },
      {
        "duration": 45,
        "start_time": "2022-06-12T22:54:01.248Z"
      },
      {
        "duration": 19,
        "start_time": "2022-06-12T22:54:01.295Z"
      },
      {
        "duration": 80,
        "start_time": "2022-06-12T22:54:01.316Z"
      },
      {
        "duration": 50,
        "start_time": "2022-06-12T22:54:01.401Z"
      },
      {
        "duration": 212,
        "start_time": "2022-06-12T22:54:01.453Z"
      },
      {
        "duration": 241,
        "start_time": "2022-06-12T22:54:01.667Z"
      },
      {
        "duration": 53,
        "start_time": "2022-06-12T22:54:01.911Z"
      },
      {
        "duration": 40,
        "start_time": "2022-06-12T22:54:01.970Z"
      },
      {
        "duration": 21,
        "start_time": "2022-06-12T22:54:02.012Z"
      },
      {
        "duration": 83,
        "start_time": "2022-06-12T22:54:02.036Z"
      },
      {
        "duration": 49,
        "start_time": "2022-06-12T22:54:02.122Z"
      },
      {
        "duration": 241,
        "start_time": "2022-06-12T22:54:02.172Z"
      },
      {
        "duration": 235,
        "start_time": "2022-06-12T22:54:02.416Z"
      },
      {
        "duration": 5,
        "start_time": "2022-06-12T22:54:02.655Z"
      },
      {
        "duration": 47,
        "start_time": "2022-06-12T22:54:02.662Z"
      },
      {
        "duration": 29,
        "start_time": "2022-06-12T22:54:02.712Z"
      },
      {
        "duration": 29,
        "start_time": "2022-06-12T22:54:02.745Z"
      },
      {
        "duration": 17,
        "start_time": "2022-06-12T22:54:02.776Z"
      },
      {
        "duration": 20,
        "start_time": "2022-06-12T22:54:02.795Z"
      },
      {
        "duration": 16,
        "start_time": "2022-06-12T22:54:02.817Z"
      },
      {
        "duration": 53,
        "start_time": "2022-06-12T22:54:02.835Z"
      },
      {
        "duration": 22,
        "start_time": "2022-06-12T22:54:02.891Z"
      },
      {
        "duration": 9,
        "start_time": "2022-06-12T22:54:02.915Z"
      },
      {
        "duration": 48,
        "start_time": "2022-06-12T22:54:02.926Z"
      },
      {
        "duration": 11,
        "start_time": "2022-06-12T22:54:02.976Z"
      },
      {
        "duration": 8,
        "start_time": "2022-06-12T22:54:02.989Z"
      },
      {
        "duration": 6,
        "start_time": "2022-06-12T22:56:31.465Z"
      },
      {
        "duration": 3,
        "start_time": "2022-06-13T00:15:11.869Z"
      },
      {
        "duration": 1105,
        "start_time": "2022-06-13T00:15:22.451Z"
      },
      {
        "duration": 950,
        "start_time": "2022-06-13T00:15:23.558Z"
      },
      {
        "duration": 30,
        "start_time": "2022-06-13T00:15:24.510Z"
      },
      {
        "duration": 32,
        "start_time": "2022-06-13T00:15:24.542Z"
      },
      {
        "duration": 15,
        "start_time": "2022-06-13T00:15:24.576Z"
      },
      {
        "duration": 10,
        "start_time": "2022-06-13T00:15:24.593Z"
      },
      {
        "duration": 30,
        "start_time": "2022-06-13T00:15:24.605Z"
      },
      {
        "duration": 20,
        "start_time": "2022-06-13T00:15:24.643Z"
      },
      {
        "duration": 9,
        "start_time": "2022-06-13T00:15:24.664Z"
      },
      {
        "duration": 16,
        "start_time": "2022-06-13T00:15:24.674Z"
      },
      {
        "duration": 21,
        "start_time": "2022-06-13T00:15:24.692Z"
      },
      {
        "duration": 20,
        "start_time": "2022-06-13T00:15:24.715Z"
      },
      {
        "duration": 44,
        "start_time": "2022-06-13T00:15:24.740Z"
      },
      {
        "duration": 226,
        "start_time": "2022-06-13T00:15:24.787Z"
      },
      {
        "duration": 52,
        "start_time": "2022-06-13T00:15:25.015Z"
      },
      {
        "duration": 16,
        "start_time": "2022-06-13T00:15:25.068Z"
      },
      {
        "duration": 211,
        "start_time": "2022-06-13T00:15:25.086Z"
      },
      {
        "duration": 7,
        "start_time": "2022-06-13T00:15:25.299Z"
      },
      {
        "duration": 30,
        "start_time": "2022-06-13T00:15:25.307Z"
      },
      {
        "duration": 17,
        "start_time": "2022-06-13T00:15:25.338Z"
      },
      {
        "duration": 15,
        "start_time": "2022-06-13T00:15:25.357Z"
      },
      {
        "duration": 4,
        "start_time": "2022-06-13T00:15:25.374Z"
      },
      {
        "duration": 339,
        "start_time": "2022-06-13T00:15:25.380Z"
      },
      {
        "duration": 24,
        "start_time": "2022-06-13T00:15:25.726Z"
      },
      {
        "duration": 56,
        "start_time": "2022-06-13T00:15:25.752Z"
      },
      {
        "duration": 67,
        "start_time": "2022-06-13T00:15:25.810Z"
      },
      {
        "duration": 13,
        "start_time": "2022-06-13T00:15:25.878Z"
      },
      {
        "duration": 22,
        "start_time": "2022-06-13T00:15:25.893Z"
      },
      {
        "duration": 16,
        "start_time": "2022-06-13T00:15:25.930Z"
      },
      {
        "duration": 49,
        "start_time": "2022-06-13T00:15:25.948Z"
      },
      {
        "duration": 3,
        "start_time": "2022-06-13T00:15:25.999Z"
      },
      {
        "duration": 38,
        "start_time": "2022-06-13T00:15:26.004Z"
      },
      {
        "duration": 10,
        "start_time": "2022-06-13T00:15:26.043Z"
      },
      {
        "duration": 23,
        "start_time": "2022-06-13T00:15:26.055Z"
      },
      {
        "duration": 15,
        "start_time": "2022-06-13T00:15:26.079Z"
      },
      {
        "duration": 11,
        "start_time": "2022-06-13T00:15:26.096Z"
      },
      {
        "duration": 36,
        "start_time": "2022-06-13T00:15:26.108Z"
      },
      {
        "duration": 30,
        "start_time": "2022-06-13T00:15:26.146Z"
      },
      {
        "duration": 18,
        "start_time": "2022-06-13T00:15:26.178Z"
      },
      {
        "duration": 19,
        "start_time": "2022-06-13T00:15:26.197Z"
      },
      {
        "duration": 34,
        "start_time": "2022-06-13T00:15:26.228Z"
      },
      {
        "duration": 50,
        "start_time": "2022-06-13T00:15:26.264Z"
      },
      {
        "duration": 23,
        "start_time": "2022-06-13T00:15:26.317Z"
      },
      {
        "duration": 7,
        "start_time": "2022-06-13T00:15:26.348Z"
      },
      {
        "duration": 3819,
        "start_time": "2022-06-13T00:15:26.357Z"
      },
      {
        "duration": 7,
        "start_time": "2022-06-13T00:15:30.178Z"
      },
      {
        "duration": 56,
        "start_time": "2022-06-13T00:15:30.187Z"
      },
      {
        "duration": 38,
        "start_time": "2022-06-13T00:15:30.249Z"
      },
      {
        "duration": 9,
        "start_time": "2022-06-13T00:15:30.289Z"
      },
      {
        "duration": 17,
        "start_time": "2022-06-13T00:15:30.300Z"
      },
      {
        "duration": 134,
        "start_time": "2022-06-13T00:15:30.319Z"
      },
      {
        "duration": 29,
        "start_time": "2022-06-13T00:15:30.455Z"
      },
      {
        "duration": 185,
        "start_time": "2022-06-13T00:15:30.486Z"
      },
      {
        "duration": 247,
        "start_time": "2022-06-13T00:15:30.673Z"
      },
      {
        "duration": 22,
        "start_time": "2022-06-13T00:15:30.921Z"
      },
      {
        "duration": 39,
        "start_time": "2022-06-13T00:15:30.944Z"
      },
      {
        "duration": 24,
        "start_time": "2022-06-13T00:15:30.986Z"
      },
      {
        "duration": 65,
        "start_time": "2022-06-13T00:15:31.012Z"
      },
      {
        "duration": 28,
        "start_time": "2022-06-13T00:15:31.079Z"
      },
      {
        "duration": 165,
        "start_time": "2022-06-13T00:15:31.109Z"
      },
      {
        "duration": 160,
        "start_time": "2022-06-13T00:15:31.276Z"
      },
      {
        "duration": 16,
        "start_time": "2022-06-13T00:15:31.441Z"
      },
      {
        "duration": 15,
        "start_time": "2022-06-13T00:15:31.459Z"
      },
      {
        "duration": 13,
        "start_time": "2022-06-13T00:15:31.476Z"
      },
      {
        "duration": 46,
        "start_time": "2022-06-13T00:15:31.491Z"
      },
      {
        "duration": 30,
        "start_time": "2022-06-13T00:15:31.538Z"
      },
      {
        "duration": 153,
        "start_time": "2022-06-13T00:15:31.570Z"
      },
      {
        "duration": 159,
        "start_time": "2022-06-13T00:15:31.725Z"
      },
      {
        "duration": 4,
        "start_time": "2022-06-13T00:15:31.886Z"
      },
      {
        "duration": 31,
        "start_time": "2022-06-13T00:15:31.892Z"
      },
      {
        "duration": 11,
        "start_time": "2022-06-13T00:15:31.927Z"
      },
      {
        "duration": 15,
        "start_time": "2022-06-13T00:15:31.940Z"
      },
      {
        "duration": 21,
        "start_time": "2022-06-13T00:15:31.957Z"
      },
      {
        "duration": 22,
        "start_time": "2022-06-13T00:15:31.981Z"
      },
      {
        "duration": 9,
        "start_time": "2022-06-13T00:15:32.006Z"
      },
      {
        "duration": 10,
        "start_time": "2022-06-13T00:15:32.016Z"
      },
      {
        "duration": 45,
        "start_time": "2022-06-13T00:15:32.027Z"
      },
      {
        "duration": 8,
        "start_time": "2022-06-13T00:15:32.075Z"
      },
      {
        "duration": 18,
        "start_time": "2022-06-13T00:15:32.086Z"
      },
      {
        "duration": 9,
        "start_time": "2022-06-13T00:15:32.106Z"
      },
      {
        "duration": 6,
        "start_time": "2022-06-13T00:15:32.116Z"
      },
      {
        "duration": 24,
        "start_time": "2022-06-13T00:15:32.124Z"
      },
      {
        "duration": 1564,
        "start_time": "2022-06-13T16:20:30.056Z"
      },
      {
        "duration": 1616,
        "start_time": "2022-06-13T16:20:31.623Z"
      },
      {
        "duration": 51,
        "start_time": "2022-06-13T16:20:33.241Z"
      },
      {
        "duration": 57,
        "start_time": "2022-06-13T16:20:33.294Z"
      },
      {
        "duration": 83,
        "start_time": "2022-06-13T16:20:33.354Z"
      },
      {
        "duration": 16,
        "start_time": "2022-06-13T16:20:33.439Z"
      },
      {
        "duration": 71,
        "start_time": "2022-06-13T16:20:33.458Z"
      },
      {
        "duration": 33,
        "start_time": "2022-06-13T16:20:33.532Z"
      },
      {
        "duration": 56,
        "start_time": "2022-06-13T16:20:33.567Z"
      },
      {
        "duration": 14,
        "start_time": "2022-06-13T16:20:33.626Z"
      },
      {
        "duration": 39,
        "start_time": "2022-06-13T16:20:33.643Z"
      },
      {
        "duration": 54,
        "start_time": "2022-06-13T16:20:33.684Z"
      },
      {
        "duration": 47,
        "start_time": "2022-06-13T16:20:33.741Z"
      },
      {
        "duration": 338,
        "start_time": "2022-06-13T16:20:33.793Z"
      },
      {
        "duration": 88,
        "start_time": "2022-06-13T16:20:34.134Z"
      },
      {
        "duration": 20,
        "start_time": "2022-06-13T16:20:34.224Z"
      },
      {
        "duration": 295,
        "start_time": "2022-06-13T16:20:34.246Z"
      },
      {
        "duration": 22,
        "start_time": "2022-06-13T16:20:34.543Z"
      },
      {
        "duration": 24,
        "start_time": "2022-06-13T16:20:34.568Z"
      },
      {
        "duration": 34,
        "start_time": "2022-06-13T16:20:34.594Z"
      },
      {
        "duration": 15,
        "start_time": "2022-06-13T16:20:34.630Z"
      },
      {
        "duration": 12,
        "start_time": "2022-06-13T16:20:34.647Z"
      },
      {
        "duration": 542,
        "start_time": "2022-06-13T16:20:34.661Z"
      },
      {
        "duration": 32,
        "start_time": "2022-06-13T16:20:35.205Z"
      },
      {
        "duration": 115,
        "start_time": "2022-06-13T16:20:35.239Z"
      },
      {
        "duration": 94,
        "start_time": "2022-06-13T16:20:35.359Z"
      },
      {
        "duration": 46,
        "start_time": "2022-06-13T16:20:35.455Z"
      },
      {
        "duration": 59,
        "start_time": "2022-06-13T16:20:35.504Z"
      },
      {
        "duration": 27,
        "start_time": "2022-06-13T16:20:35.572Z"
      },
      {
        "duration": 113,
        "start_time": "2022-06-13T16:20:35.605Z"
      },
      {
        "duration": 6,
        "start_time": "2022-06-13T16:20:35.720Z"
      },
      {
        "duration": 34,
        "start_time": "2022-06-13T16:20:35.728Z"
      },
      {
        "duration": 16,
        "start_time": "2022-06-13T16:20:35.763Z"
      },
      {
        "duration": 101,
        "start_time": "2022-06-13T16:20:35.781Z"
      },
      {
        "duration": 52,
        "start_time": "2022-06-13T16:20:35.898Z"
      },
      {
        "duration": 64,
        "start_time": "2022-06-13T16:20:35.952Z"
      },
      {
        "duration": 51,
        "start_time": "2022-06-13T16:20:36.018Z"
      },
      {
        "duration": 82,
        "start_time": "2022-06-13T16:20:36.074Z"
      },
      {
        "duration": 15,
        "start_time": "2022-06-13T16:20:36.157Z"
      },
      {
        "duration": 77,
        "start_time": "2022-06-13T16:20:36.174Z"
      },
      {
        "duration": 112,
        "start_time": "2022-06-13T16:20:36.257Z"
      },
      {
        "duration": 149,
        "start_time": "2022-06-13T16:20:36.371Z"
      },
      {
        "duration": 25,
        "start_time": "2022-06-13T16:20:36.523Z"
      },
      {
        "duration": 15,
        "start_time": "2022-06-13T16:20:36.550Z"
      },
      {
        "duration": 5264,
        "start_time": "2022-06-13T16:20:36.570Z"
      },
      {
        "duration": 11,
        "start_time": "2022-06-13T16:20:41.836Z"
      },
      {
        "duration": 89,
        "start_time": "2022-06-13T16:20:41.859Z"
      },
      {
        "duration": 72,
        "start_time": "2022-06-13T16:20:41.950Z"
      },
      {
        "duration": 18,
        "start_time": "2022-06-13T16:20:42.024Z"
      },
      {
        "duration": 90,
        "start_time": "2022-06-13T16:20:42.044Z"
      },
      {
        "duration": 265,
        "start_time": "2022-06-13T16:20:42.137Z"
      },
      {
        "duration": 49,
        "start_time": "2022-06-13T16:20:42.403Z"
      },
      {
        "duration": 376,
        "start_time": "2022-06-13T16:20:42.455Z"
      },
      {
        "duration": 330,
        "start_time": "2022-06-13T16:20:42.834Z"
      },
      {
        "duration": 18,
        "start_time": "2022-06-13T16:20:43.166Z"
      },
      {
        "duration": 28,
        "start_time": "2022-06-13T16:20:43.186Z"
      },
      {
        "duration": 15,
        "start_time": "2022-06-13T16:20:43.216Z"
      },
      {
        "duration": 53,
        "start_time": "2022-06-13T16:20:43.234Z"
      },
      {
        "duration": 41,
        "start_time": "2022-06-13T16:20:43.289Z"
      },
      {
        "duration": 212,
        "start_time": "2022-06-13T16:20:43.332Z"
      },
      {
        "duration": 229,
        "start_time": "2022-06-13T16:20:43.546Z"
      },
      {
        "duration": 26,
        "start_time": "2022-06-13T16:20:43.778Z"
      },
      {
        "duration": 60,
        "start_time": "2022-06-13T16:20:43.806Z"
      },
      {
        "duration": 12,
        "start_time": "2022-06-13T16:20:43.871Z"
      },
      {
        "duration": 105,
        "start_time": "2022-06-13T16:20:43.889Z"
      },
      {
        "duration": 63,
        "start_time": "2022-06-13T16:20:44.000Z"
      },
      {
        "duration": 250,
        "start_time": "2022-06-13T16:20:44.067Z"
      },
      {
        "duration": 261,
        "start_time": "2022-06-13T16:20:44.320Z"
      },
      {
        "duration": 6,
        "start_time": "2022-06-13T16:20:44.583Z"
      },
      {
        "duration": 75,
        "start_time": "2022-06-13T16:20:44.591Z"
      },
      {
        "duration": 9,
        "start_time": "2022-06-13T16:20:44.668Z"
      },
      {
        "duration": 46,
        "start_time": "2022-06-13T16:20:44.679Z"
      },
      {
        "duration": 12,
        "start_time": "2022-06-13T16:20:44.727Z"
      },
      {
        "duration": 12,
        "start_time": "2022-06-13T16:20:44.741Z"
      },
      {
        "duration": 58,
        "start_time": "2022-06-13T16:20:44.755Z"
      },
      {
        "duration": 14,
        "start_time": "2022-06-13T16:20:44.815Z"
      },
      {
        "duration": 71,
        "start_time": "2022-06-13T16:20:44.831Z"
      },
      {
        "duration": 34,
        "start_time": "2022-06-13T16:20:44.904Z"
      },
      {
        "duration": 23,
        "start_time": "2022-06-13T16:20:44.940Z"
      },
      {
        "duration": 55,
        "start_time": "2022-06-13T16:20:44.967Z"
      },
      {
        "duration": 11,
        "start_time": "2022-06-13T16:20:45.024Z"
      },
      {
        "duration": 6,
        "start_time": "2022-06-13T16:20:45.037Z"
      }
    ],
    "colab": {
      "provenance": []
    },
    "kernelspec": {
      "display_name": "Python 3 (ipykernel)",
      "language": "python",
      "name": "python3"
    },
    "language_info": {
      "codemirror_mode": {
        "name": "ipython",
        "version": 3
      },
      "file_extension": ".py",
      "mimetype": "text/x-python",
      "name": "python",
      "nbconvert_exporter": "python",
      "pygments_lexer": "ipython3",
      "version": "3.9.5"
    },
    "toc": {
      "base_numbering": 1,
      "nav_menu": {},
      "number_sections": true,
      "sideBar": true,
      "skip_h1_title": true,
      "title_cell": "Table of Contents",
      "title_sidebar": "Contents",
      "toc_cell": false,
      "toc_position": {},
      "toc_section_display": true,
      "toc_window_display": false
    }
  },
  "nbformat": 4,
  "nbformat_minor": 0
}