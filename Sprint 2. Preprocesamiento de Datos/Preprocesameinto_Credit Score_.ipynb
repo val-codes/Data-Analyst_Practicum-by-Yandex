{
  "cells": [
    {
      "cell_type": "markdown",
      "metadata": {
        "id": "UWMsqo1j76qB"
      },
      "source": [
        "## Archivo de datos"
      ]
    },
    {
      "cell_type": "code",
      "execution_count": null,
      "metadata": {
        "id": "xnVvrVaP76qC"
      },
      "outputs": [],
      "source": [
        "# Cargando las librerías\n",
        "import pandas as pd\n",
        "data = pd.read_csv('https://code.s3.yandex.net/datasets/credit_scoring_eng.csv')"
      ]
    },
    {
      "cell_type": "markdown",
      "metadata": {
        "id": "YrchTWvw76qE"
      },
      "source": [
        "## Exploración de datos e información general\n",
        "\n",
        "**Descripción de los datos**\n",
        "- `children` - el número de hijos en la familia\n",
        "- `days_employed` - experiencia laboral en días\n",
        "- `dob_years` - la edad del cliente en años\n",
        "- `education` - la educación del cliente\n",
        "- `education_id` - identificador de educación\n",
        "- `family_status` - estado civil\n",
        "- `family_status_id` - identificador de estado civil\n",
        "- `gender` - género del cliente\n",
        "- `income_type` - tipo de empleo\n",
        "- `debt` - deuda en el pago de un préstamo\n",
        "- `total_income` - ingreso mensual\n",
        "- `purpose` - el propósito de obtener un préstamo"
      ]
    },
    {
      "cell_type": "code",
      "execution_count": null,
      "metadata": {
        "colab": {
          "base_uri": "https://localhost:8080/"
        },
        "id": "PqvNVzqZ76qF",
        "outputId": "b054e765-5baa-4675-c30c-ce62e3ee211b"
      },
      "outputs": [
        {
          "name": "stdout",
          "output_type": "stream",
          "text": [
            "(21525, 12)\n"
          ]
        }
      ],
      "source": [
        "print(data.shape) # Filas y columnas de los datos\n",
        "\n"
      ]
    },
    {
      "cell_type": "code",
      "execution_count": null,
      "metadata": {
        "colab": {
          "base_uri": "https://localhost:8080/"
        },
        "id": "d2gJsPZB76qH",
        "outputId": "ac73dc37-3c01-4cf4-cd2a-323ad4d3c90b",
        "scrolled": true
      },
      "outputs": [
        {
          "data": {
            "text/html": [
              "<div>\n",
              "<style scoped>\n",
              "    .dataframe tbody tr th:only-of-type {\n",
              "        vertical-align: middle;\n",
              "    }\n",
              "\n",
              "    .dataframe tbody tr th {\n",
              "        vertical-align: top;\n",
              "    }\n",
              "\n",
              "    .dataframe thead th {\n",
              "        text-align: right;\n",
              "    }\n",
              "</style>\n",
              "<table border=\"1\" class=\"dataframe\">\n",
              "  <thead>\n",
              "    <tr style=\"text-align: right;\">\n",
              "      <th></th>\n",
              "      <th>children</th>\n",
              "      <th>days_employed</th>\n",
              "      <th>dob_years</th>\n",
              "      <th>education</th>\n",
              "      <th>education_id</th>\n",
              "      <th>family_status</th>\n",
              "      <th>family_status_id</th>\n",
              "      <th>gender</th>\n",
              "      <th>income_type</th>\n",
              "      <th>debt</th>\n",
              "      <th>total_income</th>\n",
              "      <th>purpose</th>\n",
              "    </tr>\n",
              "  </thead>\n",
              "  <tbody>\n",
              "    <tr>\n",
              "      <th>0</th>\n",
              "      <td>1</td>\n",
              "      <td>-8437.673028</td>\n",
              "      <td>42</td>\n",
              "      <td>bachelor's degree</td>\n",
              "      <td>0</td>\n",
              "      <td>married</td>\n",
              "      <td>0</td>\n",
              "      <td>F</td>\n",
              "      <td>employee</td>\n",
              "      <td>0</td>\n",
              "      <td>40620.102</td>\n",
              "      <td>purchase of the house</td>\n",
              "    </tr>\n",
              "    <tr>\n",
              "      <th>1</th>\n",
              "      <td>1</td>\n",
              "      <td>-4024.803754</td>\n",
              "      <td>36</td>\n",
              "      <td>secondary education</td>\n",
              "      <td>1</td>\n",
              "      <td>married</td>\n",
              "      <td>0</td>\n",
              "      <td>F</td>\n",
              "      <td>employee</td>\n",
              "      <td>0</td>\n",
              "      <td>17932.802</td>\n",
              "      <td>car purchase</td>\n",
              "    </tr>\n",
              "    <tr>\n",
              "      <th>2</th>\n",
              "      <td>0</td>\n",
              "      <td>-5623.422610</td>\n",
              "      <td>33</td>\n",
              "      <td>Secondary Education</td>\n",
              "      <td>1</td>\n",
              "      <td>married</td>\n",
              "      <td>0</td>\n",
              "      <td>M</td>\n",
              "      <td>employee</td>\n",
              "      <td>0</td>\n",
              "      <td>23341.752</td>\n",
              "      <td>purchase of the house</td>\n",
              "    </tr>\n",
              "    <tr>\n",
              "      <th>3</th>\n",
              "      <td>3</td>\n",
              "      <td>-4124.747207</td>\n",
              "      <td>32</td>\n",
              "      <td>secondary education</td>\n",
              "      <td>1</td>\n",
              "      <td>married</td>\n",
              "      <td>0</td>\n",
              "      <td>M</td>\n",
              "      <td>employee</td>\n",
              "      <td>0</td>\n",
              "      <td>42820.568</td>\n",
              "      <td>supplementary education</td>\n",
              "    </tr>\n",
              "    <tr>\n",
              "      <th>4</th>\n",
              "      <td>0</td>\n",
              "      <td>340266.072047</td>\n",
              "      <td>53</td>\n",
              "      <td>secondary education</td>\n",
              "      <td>1</td>\n",
              "      <td>civil partnership</td>\n",
              "      <td>1</td>\n",
              "      <td>F</td>\n",
              "      <td>retiree</td>\n",
              "      <td>0</td>\n",
              "      <td>25378.572</td>\n",
              "      <td>to have a wedding</td>\n",
              "    </tr>\n",
              "  </tbody>\n",
              "</table>\n",
              "</div>"
            ],
            "text/plain": [
              "   children  days_employed  dob_years            education  education_id  \\\n",
              "0         1   -8437.673028         42    bachelor's degree             0   \n",
              "1         1   -4024.803754         36  secondary education             1   \n",
              "2         0   -5623.422610         33  Secondary Education             1   \n",
              "3         3   -4124.747207         32  secondary education             1   \n",
              "4         0  340266.072047         53  secondary education             1   \n",
              "\n",
              "       family_status  family_status_id gender income_type  debt  total_income  \\\n",
              "0            married                 0      F    employee     0     40620.102   \n",
              "1            married                 0      F    employee     0     17932.802   \n",
              "2            married                 0      M    employee     0     23341.752   \n",
              "3            married                 0      M    employee     0     42820.568   \n",
              "4  civil partnership                 1      F     retiree     0     25378.572   \n",
              "\n",
              "                   purpose  \n",
              "0    purchase of the house  \n",
              "1             car purchase  \n",
              "2    purchase of the house  \n",
              "3  supplementary education  \n",
              "4        to have a wedding  "
            ]
          },
          "execution_count": 81,
          "metadata": {},
          "output_type": "execute_result"
        }
      ],
      "source": [
        "data.head()# Primeras 5 filas del dataframe\n",
        "\n"
      ]
    },
    {
      "cell_type": "code",
      "execution_count": null,
      "metadata": {
        "colab": {
          "base_uri": "https://localhost:8080/"
        },
        "id": "-8NS3Ham76qJ",
        "outputId": "294f1d05-6dd0-4b47-cc6a-14243fd0ddd9",
        "scrolled": false
      },
      "outputs": [
        {
          "name": "stdout",
          "output_type": "stream",
          "text": [
            "<class 'pandas.core.frame.DataFrame'>\n",
            "RangeIndex: 21525 entries, 0 to 21524\n",
            "Data columns (total 12 columns):\n",
            " #   Column            Non-Null Count  Dtype  \n",
            "---  ------            --------------  -----  \n",
            " 0   children          21525 non-null  int64  \n",
            " 1   days_employed     19351 non-null  float64\n",
            " 2   dob_years         21525 non-null  int64  \n",
            " 3   education         21525 non-null  object \n",
            " 4   education_id      21525 non-null  int64  \n",
            " 5   family_status     21525 non-null  object \n",
            " 6   family_status_id  21525 non-null  int64  \n",
            " 7   gender            21525 non-null  object \n",
            " 8   income_type       21525 non-null  object \n",
            " 9   debt              21525 non-null  int64  \n",
            " 10  total_income      19351 non-null  float64\n",
            " 11  purpose           21525 non-null  object \n",
            "dtypes: float64(2), int64(5), object(5)\n",
            "memory usage: 2.0+ MB\n"
          ]
        }
      ],
      "source": [
        "data.info()# # Información general acerca del contenido del dataframe, por columnas.\n"
      ]
    },
    {
      "cell_type": "markdown",
      "metadata": {
        "id": "fTSNtUqL76qI"
      },
      "source": [
        "Algunos de los datos en la columna `days_employed` y `total_income` representan valores ausentes en ciertas filas de esas columnas. Vamos a analizar lo que representa en el dataframe la cantidad de valores ausentes que hay en estas dos filas, comparado con el resto de las columnas con la diferencia de valores registrados."
      ]
    },
    {
      "cell_type": "code",
      "execution_count": null,
      "metadata": {
        "colab": {
          "base_uri": "https://localhost:8080/"
        },
        "id": "WqFOQUnc76qK",
        "outputId": "e4312a58-dc3f-458c-982f-d482e3fbeced",
        "scrolled": true
      },
      "outputs": [
        {
          "data": {
            "text/plain": [
              "days_employed    2174\n",
              "total_income     2174\n",
              "dtype: int64"
            ]
          },
          "execution_count": 83,
          "metadata": {},
          "output_type": "execute_result"
        }
      ],
      "source": [
        "data[['days_employed', 'total_income']].isnull().sum()\n",
        "# Veamos la tabla filtrada con valores ausentes de la primera columna donde faltan datos\n",
        "\n"
      ]
    },
    {
      "cell_type": "code",
      "execution_count": null,
      "metadata": {
        "id": "5BwyQRsdBEcc",
        "outputId": "1392bed4-8384-4a41-c831-e041259578ec"
      },
      "outputs": [
        {
          "data": {
            "text/html": [
              "<div>\n",
              "<style scoped>\n",
              "    .dataframe tbody tr th:only-of-type {\n",
              "        vertical-align: middle;\n",
              "    }\n",
              "\n",
              "    .dataframe tbody tr th {\n",
              "        vertical-align: top;\n",
              "    }\n",
              "\n",
              "    .dataframe thead th {\n",
              "        text-align: right;\n",
              "    }\n",
              "</style>\n",
              "<table border=\"1\" class=\"dataframe\">\n",
              "  <thead>\n",
              "    <tr style=\"text-align: right;\">\n",
              "      <th></th>\n",
              "      <th>days_employed</th>\n",
              "      <th>total_income</th>\n",
              "    </tr>\n",
              "  </thead>\n",
              "  <tbody>\n",
              "    <tr>\n",
              "      <th>21505</th>\n",
              "      <td>338904.866406</td>\n",
              "      <td>12070.399</td>\n",
              "    </tr>\n",
              "    <tr>\n",
              "      <th>21506</th>\n",
              "      <td>-1556.249906</td>\n",
              "      <td>23286.719</td>\n",
              "    </tr>\n",
              "    <tr>\n",
              "      <th>21507</th>\n",
              "      <td>-79.832064</td>\n",
              "      <td>15708.845</td>\n",
              "    </tr>\n",
              "    <tr>\n",
              "      <th>21508</th>\n",
              "      <td>386497.714078</td>\n",
              "      <td>11622.175</td>\n",
              "    </tr>\n",
              "    <tr>\n",
              "      <th>21509</th>\n",
              "      <td>362161.054124</td>\n",
              "      <td>11684.650</td>\n",
              "    </tr>\n",
              "    <tr>\n",
              "      <th>21510</th>\n",
              "      <td>NaN</td>\n",
              "      <td>NaN</td>\n",
              "    </tr>\n",
              "    <tr>\n",
              "      <th>21511</th>\n",
              "      <td>-612.569129</td>\n",
              "      <td>22410.956</td>\n",
              "    </tr>\n",
              "    <tr>\n",
              "      <th>21512</th>\n",
              "      <td>-165.377752</td>\n",
              "      <td>23568.233</td>\n",
              "    </tr>\n",
              "    <tr>\n",
              "      <th>21513</th>\n",
              "      <td>-1166.216789</td>\n",
              "      <td>40157.783</td>\n",
              "    </tr>\n",
              "    <tr>\n",
              "      <th>21514</th>\n",
              "      <td>-280.469996</td>\n",
              "      <td>56958.145</td>\n",
              "    </tr>\n",
              "    <tr>\n",
              "      <th>21515</th>\n",
              "      <td>-467.685130</td>\n",
              "      <td>17517.812</td>\n",
              "    </tr>\n",
              "    <tr>\n",
              "      <th>21516</th>\n",
              "      <td>-914.391429</td>\n",
              "      <td>51649.244</td>\n",
              "    </tr>\n",
              "    <tr>\n",
              "      <th>21517</th>\n",
              "      <td>-404.679034</td>\n",
              "      <td>28489.529</td>\n",
              "    </tr>\n",
              "    <tr>\n",
              "      <th>21518</th>\n",
              "      <td>373995.710838</td>\n",
              "      <td>24618.344</td>\n",
              "    </tr>\n",
              "    <tr>\n",
              "      <th>21519</th>\n",
              "      <td>-2351.431934</td>\n",
              "      <td>18551.846</td>\n",
              "    </tr>\n",
              "    <tr>\n",
              "      <th>21520</th>\n",
              "      <td>-4529.316663</td>\n",
              "      <td>35966.698</td>\n",
              "    </tr>\n",
              "    <tr>\n",
              "      <th>21521</th>\n",
              "      <td>343937.404131</td>\n",
              "      <td>24959.969</td>\n",
              "    </tr>\n",
              "    <tr>\n",
              "      <th>21522</th>\n",
              "      <td>-2113.346888</td>\n",
              "      <td>14347.610</td>\n",
              "    </tr>\n",
              "    <tr>\n",
              "      <th>21523</th>\n",
              "      <td>-3112.481705</td>\n",
              "      <td>39054.888</td>\n",
              "    </tr>\n",
              "    <tr>\n",
              "      <th>21524</th>\n",
              "      <td>-1984.507589</td>\n",
              "      <td>13127.587</td>\n",
              "    </tr>\n",
              "  </tbody>\n",
              "</table>\n",
              "</div>"
            ],
            "text/plain": [
              "       days_employed  total_income\n",
              "21505  338904.866406     12070.399\n",
              "21506   -1556.249906     23286.719\n",
              "21507     -79.832064     15708.845\n",
              "21508  386497.714078     11622.175\n",
              "21509  362161.054124     11684.650\n",
              "21510            NaN           NaN\n",
              "21511    -612.569129     22410.956\n",
              "21512    -165.377752     23568.233\n",
              "21513   -1166.216789     40157.783\n",
              "21514    -280.469996     56958.145\n",
              "21515    -467.685130     17517.812\n",
              "21516    -914.391429     51649.244\n",
              "21517    -404.679034     28489.529\n",
              "21518  373995.710838     24618.344\n",
              "21519   -2351.431934     18551.846\n",
              "21520   -4529.316663     35966.698\n",
              "21521  343937.404131     24959.969\n",
              "21522   -2113.346888     14347.610\n",
              "21523   -3112.481705     39054.888\n",
              "21524   -1984.507589     13127.587"
            ]
          },
          "execution_count": 84,
          "metadata": {},
          "output_type": "execute_result"
        }
      ],
      "source": [
        "data[['days_employed', 'total_income']].tail(20)"
      ]
    },
    {
      "cell_type": "code",
      "execution_count": null,
      "metadata": {
        "id": "bn_hwWCOBEcd",
        "outputId": "a50fad24-257a-4cda-ea6e-adf9755789ee"
      },
      "outputs": [
        {
          "data": {
            "text/plain": [
              "children            0.000000\n",
              "days_employed       0.100999\n",
              "dob_years           0.000000\n",
              "education           0.000000\n",
              "education_id        0.000000\n",
              "family_status       0.000000\n",
              "family_status_id    0.000000\n",
              "gender              0.000000\n",
              "income_type         0.000000\n",
              "debt                0.000000\n",
              "total_income        0.100999\n",
              "purpose             0.000000\n",
              "dtype: float64"
            ]
          },
          "execution_count": 85,
          "metadata": {},
          "output_type": "execute_result"
        }
      ],
      "source": [
        "data.isna().sum() / len(data) "
      ]
    },
    {
      "cell_type": "markdown",
      "metadata": {
        "id": "jmCwXY-676qN"
      },
      "source": [
        "**Conclusión intermedia**\n",
        "\n",
        "¿El número de filas en la tabla filtrada coincide con el número de valores ausentes? El número de valores ausentes en las columnas `days_employed` y `total_income` coincide con la diferencia del número de filas faltantes en ambas. Hay 2714 filas en mabas que no tienen un valor asignado.\n",
        "\n",
        "El porcentaje de valores ausentes es 10% así que podríamos deshacernos de ellos y continuar con el análisis. Eliminaremos las filas que tienen valores ausentes para continuar sólo con las filas que si tienen valores en esas columnas, esto es para eliminar los valroes atípicos que afectan los valores de media y mediana por mucho, afectando también el análisis."
      ]
    },
    {
      "cell_type": "code",
      "execution_count": null,
      "metadata": {
        "colab": {
          "base_uri": "https://localhost:8080/"
        },
        "id": "MPiKhexs76qN",
        "outputId": "ea4b9341-8f56-4dc1-d6e4-0a918d7f154f"
      },
      "outputs": [
        {
          "name": "stdout",
          "output_type": "stream",
          "text": [
            "21525\n"
          ]
        }
      ],
      "source": [
        "print(len(data['total_income']))\n",
        "# Vamos a investigar a los clientes que no tienen datos sobre la característica identificada\n",
        "# y la columna con los valores ausentes\n",
        "\n"
      ]
    },
    {
      "cell_type": "code",
      "execution_count": null,
      "metadata": {
        "colab": {
          "base_uri": "https://localhost:8080/"
        },
        "id": "CGOVy8UG76qO",
        "outputId": "8df80da9-cd6b-45dc-fd3b-636b72d91518",
        "scrolled": true
      },
      "outputs": [
        {
          "data": {
            "text/plain": [
              "secondary education    13750\n",
              "bachelor's degree       4718\n",
              "SECONDARY EDUCATION      772\n",
              "Secondary Education      711\n",
              "some college             668\n",
              "BACHELOR'S DEGREE        274\n",
              "Bachelor's Degree        268\n",
              "primary education        250\n",
              "Some College              47\n",
              "SOME COLLEGE              29\n",
              "PRIMARY EDUCATION         17\n",
              "Primary Education         15\n",
              "graduate degree            4\n",
              "GRADUATE DEGREE            1\n",
              "Graduate Degree            1\n",
              "Name: education, dtype: int64"
            ]
          },
          "execution_count": 87,
          "metadata": {},
          "output_type": "execute_result"
        }
      ],
      "source": [
        "no_nan = data.dropna()\n",
        "no_nan['education'].value_counts()\n",
        "\n",
        "data['education'].value_counts()\n",
        "# Comprobación de la distribución\n",
        "\n"
      ]
    },
    {
      "cell_type": "markdown",
      "metadata": {
        "id": "b1NelnGX76qO"
      },
      "source": [
        "Parece que hay ciertas columnas duplicadas de acuerdo con la comparación de distribución en la columna de `education` ya que hay diferencias por mayúsculas y minúsculas en las categorías/respuestas que hay en esa columna para los clientes. Aquí estamos visualizando la cantidad de registros únicos que hay en todas las filas del dataframe separándolas por los caracteres utilizados durante el registro. Podemos ver que hay algunos repetidos en los que la diferencia radica en el uso de mayúsculas y minúsculas de cada uno de ellos.\n",
        "\n",
        "**Posibles razones por las que hay valores ausentes en los datos**\n",
        "\n",
        "Podría haber sucedido un error al registrar los datos."
      ]
    },
    {
      "cell_type": "code",
      "execution_count": null,
      "metadata": {
        "colab": {
          "base_uri": "https://localhost:8080/"
        },
        "id": "1AZItEB276qP",
        "outputId": "94228d72-fbe6-4066-a3a4-35b5e11b3e1b"
      },
      "outputs": [
        {
          "data": {
            "text/plain": [
              "secondary education    0.638792\n",
              "bachelor's degree      0.219187\n",
              "SECONDARY EDUCATION    0.035865\n",
              "Secondary Education    0.033031\n",
              "some college           0.031034\n",
              "BACHELOR'S DEGREE      0.012729\n",
              "Bachelor's Degree      0.012451\n",
              "primary education      0.011614\n",
              "Some College           0.002184\n",
              "SOME COLLEGE           0.001347\n",
              "PRIMARY EDUCATION      0.000790\n",
              "Primary Education      0.000697\n",
              "graduate degree        0.000186\n",
              "GRADUATE DEGREE        0.000046\n",
              "Graduate Degree        0.000046\n",
              "Name: education, dtype: float64"
            ]
          },
          "execution_count": 88,
          "metadata": {},
          "output_type": "execute_result"
        }
      ],
      "source": [
        "no_nan['education'].value_counts(normalize=True)\n",
        "data['education'].value_counts(normalize=True)# Comprobando la distribución en el conjunto de datos entero\n",
        "\n"
      ]
    },
    {
      "cell_type": "markdown",
      "metadata": {
        "id": "8B5DrHUZ76qP"
      },
      "source": [
        "**Conclusión intermedia**\n",
        "\n",
        "¿Es similar la distribución en el conjunto de datos original a la distribución de la tabla filtrada? Sí es similar lo cual podría significar que la diferencia entre la tabla original y la filtrada no cambia mucho en cuanto a la distribución de los datos. Podemos continuar."
      ]
    },
    {
      "cell_type": "code",
      "execution_count": null,
      "metadata": {
        "colab": {
          "base_uri": "https://localhost:8080/"
        },
        "id": "9t01cPf_76qQ",
        "outputId": "1726cdb1-9609-4702-f196-fa1ac5342f64"
      },
      "outputs": [
        {
          "name": "stdout",
          "output_type": "stream",
          "text": [
            "54\n",
            "       children  days_employed  dob_years            education  education_id  \\\n",
            "2849          0            NaN         41  secondary education             1   \n",
            "4182          1            NaN         34    BACHELOR'S DEGREE             0   \n",
            "4851          0            NaN         60  secondary education             1   \n",
            "5557          0            NaN         58  secondary education             1   \n",
            "7808          0            NaN         57  secondary education             1   \n",
            "8583          0            NaN         58    bachelor's degree             0   \n",
            "9238          2            NaN         34  secondary education             1   \n",
            "9528          0            NaN         66  secondary education             1   \n",
            "9627          0            NaN         56  secondary education             1   \n",
            "10462         0            NaN         62  secondary education             1   \n",
            "10697         0            NaN         40  secondary education             1   \n",
            "10864         0            NaN         62  secondary education             1   \n",
            "10994         0            NaN         62  secondary education             1   \n",
            "11791         0            NaN         47  secondary education             1   \n",
            "12373         0            NaN         58  secondary education             1   \n",
            "12375         1            NaN         37  secondary education             1   \n",
            "12736         0            NaN         59  secondary education             1   \n",
            "13025         1            NaN         44  secondary education             1   \n",
            "13639         0            NaN         64  secondary education             1   \n",
            "13773         0            NaN         35  secondary education             1   \n",
            "13878         1            NaN         31  secondary education             1   \n",
            "13942         0            NaN         44  secondary education             1   \n",
            "14432         2            NaN         36    bachelor's degree             0   \n",
            "14832         0            NaN         50  secondary education             1   \n",
            "15091         0            NaN         58  secondary education             1   \n",
            "15188         0            NaN         60  secondary education             1   \n",
            "15273         0            NaN         57  secondary education             1   \n",
            "16176         0            NaN         47  secondary education             1   \n",
            "16378         0            NaN         46  secondary education             1   \n",
            "16902         2            NaN         39  secondary education             1   \n",
            "16904         1            NaN         32    bachelor's degree             0   \n",
            "17379         0            NaN         54    bachelor's degree             0   \n",
            "17755         1            NaN         43  secondary education             1   \n",
            "17774         1            NaN         40  secondary education             1   \n",
            "18328         0            NaN         29    bachelor's degree             0   \n",
            "18349         1            NaN         30    bachelor's degree             0   \n",
            "18428         0            NaN         64  secondary education             1   \n",
            "18521         0            NaN         56  secondary education             1   \n",
            "18563         0            NaN         54  secondary education             1   \n",
            "18755         0            NaN         58  secondary education             1   \n",
            "19041         0            NaN         56  secondary education             1   \n",
            "19184         0            NaN         46  secondary education             1   \n",
            "19321         0            NaN         23  secondary education             1   \n",
            "19387         0            NaN         38    bachelor's degree             0   \n",
            "19688         0            NaN         61  secondary education             1   \n",
            "19832         0            NaN         48  secondary education             1   \n",
            "19946         0            NaN         57  secondary education             1   \n",
            "20116         0            NaN         57  secondary education             1   \n",
            "20165         0            NaN         42  secondary education             1   \n",
            "20702         0            NaN         64  secondary education             1   \n",
            "21032         0            NaN         60  secondary education             1   \n",
            "21132         0            NaN         47  secondary education             1   \n",
            "21281         1            NaN         30    bachelor's degree             0   \n",
            "21415         0            NaN         54  secondary education             1   \n",
            "\n",
            "           family_status  family_status_id gender    income_type  debt  \\\n",
            "2849             married                 0      F       employee     0   \n",
            "4182   civil partnership                 1      F       employee     0   \n",
            "4851   civil partnership                 1      F        retiree     0   \n",
            "5557   civil partnership                 1      F        retiree     0   \n",
            "7808   civil partnership                 1      F        retiree     0   \n",
            "8583           unmarried                 4      F        retiree     0   \n",
            "9238             married                 0      F       employee     0   \n",
            "9528     widow / widower                 2      F        retiree     0   \n",
            "9627             married                 0      F        retiree     0   \n",
            "10462            married                 0      F        retiree     0   \n",
            "10697  civil partnership                 1      F       business     0   \n",
            "10864            married                 0      F        retiree     0   \n",
            "10994            married                 0      F        retiree     0   \n",
            "11791            married                 0      F       employee     0   \n",
            "12373            married                 0      M       employee     0   \n",
            "12375            married                 0      F       employee     0   \n",
            "12736            married                 0      F        retiree     0   \n",
            "13025            married                 0      F       employee     0   \n",
            "13639            married                 0      F        retiree     0   \n",
            "13773  civil partnership                 1      F       employee     0   \n",
            "13878            married                 0      F       business     0   \n",
            "13942            married                 0      F       employee     0   \n",
            "14432            married                 0      F  civil servant     0   \n",
            "14832          unmarried                 4      F       employee     0   \n",
            "15091  civil partnership                 1      M       employee     0   \n",
            "15188            married                 0      M       employee     0   \n",
            "15273  civil partnership                 1      F        retiree     0   \n",
            "16176            married                 0      F       employee     0   \n",
            "16378            married                 0      F       employee     0   \n",
            "16902  civil partnership                 1      F       employee     0   \n",
            "16904            married                 0      F       employee     0   \n",
            "17379            married                 0      M       business     0   \n",
            "17755            married                 0      M       employee     0   \n",
            "17774  civil partnership                 1      F       business     0   \n",
            "18328            married                 0      M       employee     0   \n",
            "18349            married                 0      F  civil servant     0   \n",
            "18428            married                 0      F        retiree     0   \n",
            "18521  civil partnership                 1      F       employee     0   \n",
            "18563            married                 0      F       employee     0   \n",
            "18755            married                 0      F        retiree     0   \n",
            "19041  civil partnership                 1      F       employee     0   \n",
            "19184            married                 0      F       employee     0   \n",
            "19321          unmarried                 4      F       employee     0   \n",
            "19387  civil partnership                 1      F       business     0   \n",
            "19688            married                 0      F        retiree     0   \n",
            "19832            married                 0      F       employee     0   \n",
            "19946            married                 0      F       employee     0   \n",
            "20116  civil partnership                 1      M        retiree     0   \n",
            "20165            married                 0      F       employee     0   \n",
            "20702            married                 0      F        retiree     0   \n",
            "21032            married                 0      F        retiree     0   \n",
            "21132            married                 0      F       employee     0   \n",
            "21281            married                 0      F       employee     0   \n",
            "21415            married                 0      F        retiree     0   \n",
            "\n",
            "       total_income                                   purpose  \n",
            "2849            NaN       purchase of the house for my family  \n",
            "4182            NaN                          wedding ceremony  \n",
            "4851            NaN                          wedding ceremony  \n",
            "5557            NaN                         to have a wedding  \n",
            "7808            NaN                          having a wedding  \n",
            "8583            NaN                   supplementary education  \n",
            "9238            NaN           buying property for renting out  \n",
            "9528            NaN          transactions with my real estate  \n",
            "9627            NaN          transactions with my real estate  \n",
            "10462           NaN                buy commercial real estate  \n",
            "10697           NaN                         to have a wedding  \n",
            "10864           NaN                        housing renovation  \n",
            "10994           NaN                        housing renovation  \n",
            "11791           NaN                       building a property  \n",
            "12373           NaN                           buy real estate  \n",
            "12375           NaN                           buy real estate  \n",
            "12736           NaN                        to become educated  \n",
            "13025           NaN                  second-hand car purchase  \n",
            "13639           NaN                                       car  \n",
            "13773           NaN                         to have a wedding  \n",
            "13878           NaN                     purchase of the house  \n",
            "13942           NaN                              car purchase  \n",
            "14432           NaN                      getting an education  \n",
            "14832           NaN                                  property  \n",
            "15091           NaN                          having a wedding  \n",
            "15188           NaN                           buy real estate  \n",
            "15273           NaN                          wedding ceremony  \n",
            "16176           NaN                        housing renovation  \n",
            "16378           NaN                      university education  \n",
            "16902           NaN                         to have a wedding  \n",
            "16904           NaN                  buying a second-hand car  \n",
            "17379           NaN  transactions with commercial real estate  \n",
            "17755           NaN                        to become educated  \n",
            "17774           NaN                    building a real estate  \n",
            "18328           NaN               buy residential real estate  \n",
            "18349           NaN       purchase of the house for my family  \n",
            "18428           NaN                                   housing  \n",
            "18521           NaN                         to have a wedding  \n",
            "18563           NaN          transactions with my real estate  \n",
            "18755           NaN                        to become educated  \n",
            "19041           NaN                          having a wedding  \n",
            "19184           NaN                              to own a car  \n",
            "19321           NaN                  second-hand car purchase  \n",
            "19387           NaN                          having a wedding  \n",
            "19688           NaN                  real estate transactions  \n",
            "19832           NaN                        housing renovation  \n",
            "19946           NaN                  second-hand car purchase  \n",
            "20116           NaN                          wedding ceremony  \n",
            "20165           NaN       purchase of the house for my family  \n",
            "20702           NaN                   supplementary education  \n",
            "21032           NaN                        to become educated  \n",
            "21132           NaN                        housing renovation  \n",
            "21281           NaN                buy commercial real estate  \n",
            "21415           NaN                      housing transactions  \n"
          ]
        }
      ],
      "source": [
        "print(data.duplicated().sum())\n",
        "print(data[data.duplicated()])# Comprueba otras razones y patrones que podrían llevar a valores ausentes\n",
        "\n"
      ]
    },
    {
      "cell_type": "markdown",
      "metadata": {
        "id": "6V6Hh2nw76qQ"
      },
      "source": [
        "**Conclusión intermedia**\n",
        "\n",
        "Podría ser que los duplicados están ocasionando algunos de los valores ausentes y los demás podrían ser por accidentes al llenar la información para cada cliente."
      ]
    },
    {
      "cell_type": "markdown",
      "metadata": {
        "id": "nHTDg0zH76qR"
      },
      "source": [
        "**Conclusiones**\n",
        "\n",
        "Las dos columnas con valores ausentes son `total_income` y `days_employed` que podrían estar relacionadas con las personas que tienen en su education parameter secondary school o some college ya que tal vez no han tenido un empleo y no han recibido salario, además de que en esta misma columna 'education' hay duplicados no aparentes por la ortografía de la respuesta.\n",
        "\n",
        "Los valores ausentes en `days_employed` serán reemplazados con 0, y en `total_income` veremos de acuerdo conforme avanzamos. Vamos a checar now los valores duplicados y algunas otras cosas extrañas las vamos a resolver según lo que encontremos al analizar cada columna."
      ]
    },
    {
      "cell_type": "markdown",
      "metadata": {
        "id": "JGaoKPH876qR"
      },
      "source": [
        "## Transformación de datos\n",
        "\n",
        "Aquí vamos a combinar las diferentes variabilidades que tenemos convirtiéndo todo a minúsculas para minimizar la cantidad de categorías que podríamos tomar en cuenta y volverlo más fácil de analizar."
      ]
    },
    {
      "cell_type": "code",
      "execution_count": null,
      "metadata": {
        "colab": {
          "base_uri": "https://localhost:8080/"
        },
        "id": "zEB5XVI276qR",
        "outputId": "ae0a362a-0278-43fd-a963-0b8eb8deca93"
      },
      "outputs": [
        {
          "name": "stdout",
          "output_type": "stream",
          "text": [
            "[\"bachelor's degree\" 'secondary education' 'Secondary Education'\n",
            " 'SECONDARY EDUCATION' \"BACHELOR'S DEGREE\" 'some college'\n",
            " 'primary education' \"Bachelor's Degree\" 'SOME COLLEGE' 'Some College'\n",
            " 'PRIMARY EDUCATION' 'Primary Education' 'Graduate Degree'\n",
            " 'GRADUATE DEGREE' 'graduate degree']\n"
          ]
        }
      ],
      "source": [
        "print(data['education'].unique())\n",
        "# Valores en la columna de educación para verificar si será necesario corregir la ortografía y\n",
        "# qué habrá que corregir exactamente\n"
      ]
    },
    {
      "cell_type": "code",
      "execution_count": null,
      "metadata": {
        "id": "Is9Y1xaI76qR",
        "scrolled": true
      },
      "outputs": [],
      "source": [
        "data['education'] = data['education'].str.lower() # Arregla los registros si es necesario\n"
      ]
    },
    {
      "cell_type": "code",
      "execution_count": null,
      "metadata": {
        "colab": {
          "base_uri": "https://localhost:8080/"
        },
        "id": "lkiyHzEd76qS",
        "outputId": "901c4e62-b540-4914-e44b-dbd90d004ac9"
      },
      "outputs": [
        {
          "data": {
            "text/plain": [
              "array([\"bachelor's degree\", 'secondary education', 'some college',\n",
              "       'primary education', 'graduate degree'], dtype=object)"
            ]
          },
          "execution_count": 92,
          "metadata": {},
          "output_type": "execute_result"
        }
      ],
      "source": [
        "data['education'].unique()# Comprobar todos los valores en la columna para asegurarnos de que los hayamos corregido\n",
        "\n"
      ]
    },
    {
      "cell_type": "markdown",
      "metadata": {
        "id": "qeylR9sM76qS"
      },
      "source": [
        "Comprobando los datos de la columna `children`"
      ]
    },
    {
      "cell_type": "code",
      "execution_count": null,
      "metadata": {
        "colab": {
          "base_uri": "https://localhost:8080/"
        },
        "id": "glZqkU2W76qS",
        "outputId": "6de2685f-643b-488b-bd38-5b3b96d97f7c"
      },
      "outputs": [
        {
          "data": {
            "text/plain": [
              " 0     0.657329\n",
              " 1     0.223833\n",
              " 2     0.095470\n",
              " 3     0.015331\n",
              " 20    0.003531\n",
              "-1     0.002184\n",
              " 4     0.001905\n",
              " 5     0.000418\n",
              "Name: children, dtype: float64"
            ]
          },
          "execution_count": 93,
          "metadata": {},
          "output_type": "execute_result"
        }
      ],
      "source": [
        "no_nan['children'].value_counts(normalize=True)\n",
        "data['children'].value_counts(normalize=True)# Veamos la distribución de los valores en la columna `children`\n"
      ]
    },
    {
      "cell_type": "markdown",
      "metadata": {
        "id": "g2VVOtoZ76qS"
      },
      "source": [
        "En las filas en la que el númeor de hijos es -1 y 20 lo vamos a converitr respectivamente en 1 y 2 asumiendo que fue un error de registro, convirtiendo -1 a absoluto y eliminando el 0 de 20."
      ]
    },
    {
      "cell_type": "code",
      "execution_count": null,
      "metadata": {
        "id": "ZQW9727976qS"
      },
      "outputs": [],
      "source": [
        "data['children'] = data['children'].abs()\n",
        "data['children'] = data['children'].replace(20, 2)"
      ]
    },
    {
      "cell_type": "code",
      "execution_count": null,
      "metadata": {
        "colab": {
          "base_uri": "https://localhost:8080/"
        },
        "id": "n_UbTAES76qS",
        "outputId": "9921d631-d70b-49b5-85c5-f2d0a3b1e33a"
      },
      "outputs": [
        {
          "name": "stdout",
          "output_type": "stream",
          "text": [
            "Empty DataFrame\n",
            "Columns: [children, days_employed, dob_years, education, education_id, family_status, family_status_id, gender, income_type, debt, total_income, purpose]\n",
            "Index: []\n",
            "Empty DataFrame\n",
            "Columns: [children, days_employed, dob_years, education, education_id, family_status, family_status_id, gender, income_type, debt, total_income, purpose]\n",
            "Index: []\n",
            "[1 0 3 2 4 5]\n"
          ]
        }
      ],
      "source": [
        "print(data[data['children'] == 20])\n",
        "print(data[data['children'] == -1])\n",
        "print(data['children'].unique())\n",
        "# Comprobando la columna `children` de nuevo para asegurarnos de que todo está arreglado\n",
        "\n"
      ]
    },
    {
      "cell_type": "code",
      "execution_count": null,
      "metadata": {
        "colab": {
          "base_uri": "https://localhost:8080/"
        },
        "id": "B7w2AbmW76qU",
        "outputId": "5e25c52d-2b7a-41b2-9b45-4cf007cc05c7",
        "scrolled": true
      },
      "outputs": [
        {
          "data": {
            "text/plain": [
              "array([ 0, 19, 20, 21, 22, 23, 24, 25, 26, 27, 28, 29, 30, 31, 32, 33, 34,\n",
              "       35, 36, 37, 38, 39, 40, 41, 42, 43, 44, 45, 46, 47, 48, 49, 50, 51,\n",
              "       52, 53, 54, 55, 56, 57, 58, 59, 60, 61, 62, 63, 64, 65, 66, 67, 68,\n",
              "       69, 70, 71, 72, 73, 74, 75])"
            ]
          },
          "execution_count": 96,
          "metadata": {},
          "output_type": "execute_result"
        }
      ],
      "source": [
        "data['dob_years'].sort_values(ascending=True).unique()\n",
        "# `dob_years` en busca de valores sospechosos y cuenta el porcentaje\n",
        "\n"
      ]
    },
    {
      "cell_type": "code",
      "execution_count": null,
      "metadata": {
        "id": "gw6w1RMUBEcj",
        "outputId": "c96063dc-9976-4e28-b332-0b0683131da9"
      },
      "outputs": [
        {
          "data": {
            "text/html": [
              "<div>\n",
              "<style scoped>\n",
              "    .dataframe tbody tr th:only-of-type {\n",
              "        vertical-align: middle;\n",
              "    }\n",
              "\n",
              "    .dataframe tbody tr th {\n",
              "        vertical-align: top;\n",
              "    }\n",
              "\n",
              "    .dataframe thead th {\n",
              "        text-align: right;\n",
              "    }\n",
              "</style>\n",
              "<table border=\"1\" class=\"dataframe\">\n",
              "  <thead>\n",
              "    <tr style=\"text-align: right;\">\n",
              "      <th></th>\n",
              "      <th>children</th>\n",
              "      <th>days_employed</th>\n",
              "      <th>dob_years</th>\n",
              "      <th>education</th>\n",
              "      <th>education_id</th>\n",
              "      <th>family_status</th>\n",
              "      <th>family_status_id</th>\n",
              "      <th>gender</th>\n",
              "      <th>income_type</th>\n",
              "      <th>debt</th>\n",
              "      <th>total_income</th>\n",
              "      <th>purpose</th>\n",
              "    </tr>\n",
              "  </thead>\n",
              "  <tbody>\n",
              "    <tr>\n",
              "      <th>99</th>\n",
              "      <td>0</td>\n",
              "      <td>346541.618895</td>\n",
              "      <td>0</td>\n",
              "      <td>secondary education</td>\n",
              "      <td>1</td>\n",
              "      <td>married</td>\n",
              "      <td>0</td>\n",
              "      <td>F</td>\n",
              "      <td>retiree</td>\n",
              "      <td>0</td>\n",
              "      <td>11406.644</td>\n",
              "      <td>car</td>\n",
              "    </tr>\n",
              "    <tr>\n",
              "      <th>149</th>\n",
              "      <td>0</td>\n",
              "      <td>-2664.273168</td>\n",
              "      <td>0</td>\n",
              "      <td>secondary education</td>\n",
              "      <td>1</td>\n",
              "      <td>divorced</td>\n",
              "      <td>3</td>\n",
              "      <td>F</td>\n",
              "      <td>employee</td>\n",
              "      <td>0</td>\n",
              "      <td>11228.230</td>\n",
              "      <td>housing transactions</td>\n",
              "    </tr>\n",
              "    <tr>\n",
              "      <th>270</th>\n",
              "      <td>3</td>\n",
              "      <td>-1872.663186</td>\n",
              "      <td>0</td>\n",
              "      <td>secondary education</td>\n",
              "      <td>1</td>\n",
              "      <td>married</td>\n",
              "      <td>0</td>\n",
              "      <td>F</td>\n",
              "      <td>employee</td>\n",
              "      <td>0</td>\n",
              "      <td>16346.633</td>\n",
              "      <td>housing renovation</td>\n",
              "    </tr>\n",
              "    <tr>\n",
              "      <th>578</th>\n",
              "      <td>0</td>\n",
              "      <td>397856.565013</td>\n",
              "      <td>0</td>\n",
              "      <td>secondary education</td>\n",
              "      <td>1</td>\n",
              "      <td>married</td>\n",
              "      <td>0</td>\n",
              "      <td>F</td>\n",
              "      <td>retiree</td>\n",
              "      <td>0</td>\n",
              "      <td>15619.310</td>\n",
              "      <td>construction of own property</td>\n",
              "    </tr>\n",
              "    <tr>\n",
              "      <th>1040</th>\n",
              "      <td>0</td>\n",
              "      <td>-1158.029561</td>\n",
              "      <td>0</td>\n",
              "      <td>bachelor's degree</td>\n",
              "      <td>0</td>\n",
              "      <td>divorced</td>\n",
              "      <td>3</td>\n",
              "      <td>F</td>\n",
              "      <td>business</td>\n",
              "      <td>0</td>\n",
              "      <td>48639.062</td>\n",
              "      <td>to own a car</td>\n",
              "    </tr>\n",
              "    <tr>\n",
              "      <th>...</th>\n",
              "      <td>...</td>\n",
              "      <td>...</td>\n",
              "      <td>...</td>\n",
              "      <td>...</td>\n",
              "      <td>...</td>\n",
              "      <td>...</td>\n",
              "      <td>...</td>\n",
              "      <td>...</td>\n",
              "      <td>...</td>\n",
              "      <td>...</td>\n",
              "      <td>...</td>\n",
              "      <td>...</td>\n",
              "    </tr>\n",
              "    <tr>\n",
              "      <th>19829</th>\n",
              "      <td>0</td>\n",
              "      <td>NaN</td>\n",
              "      <td>0</td>\n",
              "      <td>secondary education</td>\n",
              "      <td>1</td>\n",
              "      <td>married</td>\n",
              "      <td>0</td>\n",
              "      <td>F</td>\n",
              "      <td>employee</td>\n",
              "      <td>0</td>\n",
              "      <td>NaN</td>\n",
              "      <td>housing</td>\n",
              "    </tr>\n",
              "    <tr>\n",
              "      <th>20462</th>\n",
              "      <td>0</td>\n",
              "      <td>338734.868540</td>\n",
              "      <td>0</td>\n",
              "      <td>secondary education</td>\n",
              "      <td>1</td>\n",
              "      <td>married</td>\n",
              "      <td>0</td>\n",
              "      <td>F</td>\n",
              "      <td>retiree</td>\n",
              "      <td>0</td>\n",
              "      <td>41471.027</td>\n",
              "      <td>purchase of my own house</td>\n",
              "    </tr>\n",
              "    <tr>\n",
              "      <th>20577</th>\n",
              "      <td>0</td>\n",
              "      <td>331741.271455</td>\n",
              "      <td>0</td>\n",
              "      <td>secondary education</td>\n",
              "      <td>1</td>\n",
              "      <td>unmarried</td>\n",
              "      <td>4</td>\n",
              "      <td>F</td>\n",
              "      <td>retiree</td>\n",
              "      <td>0</td>\n",
              "      <td>20766.202</td>\n",
              "      <td>property</td>\n",
              "    </tr>\n",
              "    <tr>\n",
              "      <th>21179</th>\n",
              "      <td>2</td>\n",
              "      <td>-108.967042</td>\n",
              "      <td>0</td>\n",
              "      <td>bachelor's degree</td>\n",
              "      <td>0</td>\n",
              "      <td>married</td>\n",
              "      <td>0</td>\n",
              "      <td>M</td>\n",
              "      <td>business</td>\n",
              "      <td>0</td>\n",
              "      <td>38512.321</td>\n",
              "      <td>building a real estate</td>\n",
              "    </tr>\n",
              "    <tr>\n",
              "      <th>21313</th>\n",
              "      <td>0</td>\n",
              "      <td>-1268.487728</td>\n",
              "      <td>0</td>\n",
              "      <td>secondary education</td>\n",
              "      <td>1</td>\n",
              "      <td>unmarried</td>\n",
              "      <td>4</td>\n",
              "      <td>M</td>\n",
              "      <td>employee</td>\n",
              "      <td>0</td>\n",
              "      <td>24387.070</td>\n",
              "      <td>housing transactions</td>\n",
              "    </tr>\n",
              "  </tbody>\n",
              "</table>\n",
              "<p>101 rows × 12 columns</p>\n",
              "</div>"
            ],
            "text/plain": [
              "       children  days_employed  dob_years            education  education_id  \\\n",
              "99            0  346541.618895          0  secondary education             1   \n",
              "149           0   -2664.273168          0  secondary education             1   \n",
              "270           3   -1872.663186          0  secondary education             1   \n",
              "578           0  397856.565013          0  secondary education             1   \n",
              "1040          0   -1158.029561          0    bachelor's degree             0   \n",
              "...         ...            ...        ...                  ...           ...   \n",
              "19829         0            NaN          0  secondary education             1   \n",
              "20462         0  338734.868540          0  secondary education             1   \n",
              "20577         0  331741.271455          0  secondary education             1   \n",
              "21179         2    -108.967042          0    bachelor's degree             0   \n",
              "21313         0   -1268.487728          0  secondary education             1   \n",
              "\n",
              "      family_status  family_status_id gender income_type  debt  total_income  \\\n",
              "99          married                 0      F     retiree     0     11406.644   \n",
              "149        divorced                 3      F    employee     0     11228.230   \n",
              "270         married                 0      F    employee     0     16346.633   \n",
              "578         married                 0      F     retiree     0     15619.310   \n",
              "1040       divorced                 3      F    business     0     48639.062   \n",
              "...             ...               ...    ...         ...   ...           ...   \n",
              "19829       married                 0      F    employee     0           NaN   \n",
              "20462       married                 0      F     retiree     0     41471.027   \n",
              "20577     unmarried                 4      F     retiree     0     20766.202   \n",
              "21179       married                 0      M    business     0     38512.321   \n",
              "21313     unmarried                 4      M    employee     0     24387.070   \n",
              "\n",
              "                            purpose  \n",
              "99                              car  \n",
              "149            housing transactions  \n",
              "270              housing renovation  \n",
              "578    construction of own property  \n",
              "1040                   to own a car  \n",
              "...                             ...  \n",
              "19829                       housing  \n",
              "20462      purchase of my own house  \n",
              "20577                      property  \n",
              "21179        building a real estate  \n",
              "21313          housing transactions  \n",
              "\n",
              "[101 rows x 12 columns]"
            ]
          },
          "execution_count": 97,
          "metadata": {},
          "output_type": "execute_result"
        }
      ],
      "source": [
        "data[data['dob_years'] == 0]"
      ]
    },
    {
      "cell_type": "code",
      "execution_count": null,
      "metadata": {
        "id": "cdBuSRIEBEcj",
        "outputId": "b22ad1bf-cae5-4054-8cfb-0b0d9497a477"
      },
      "outputs": [
        {
          "data": {
            "text/plain": [
              "count    21525.000000\n",
              "mean        43.293380\n",
              "std         12.574584\n",
              "min          0.000000\n",
              "25%         33.000000\n",
              "50%         42.000000\n",
              "75%         53.000000\n",
              "max         75.000000\n",
              "Name: dob_years, dtype: float64"
            ]
          },
          "execution_count": 98,
          "metadata": {},
          "output_type": "execute_result"
        }
      ],
      "source": [
        "data['dob_years'].describe()"
      ]
    },
    {
      "cell_type": "markdown",
      "metadata": {
        "id": "TRVyH4tl76qU"
      },
      "source": [
        "Aquí vamos a eemplazar los valores que están en 0 por la mediana de los valores de la columna de `dob_years` ya que no es probable que personas recién nacidas o que no han nacido ya tengan una deuda, estén retirados y hayan cursado algun nivel educativo."
      ]
    },
    {
      "cell_type": "code",
      "execution_count": null,
      "metadata": {
        "id": "0U1ZY0PxBEcj",
        "outputId": "233139b4-36cb-42ad-a179-35b92cd7f36d"
      },
      "outputs": [
        {
          "data": {
            "text/plain": [
              "0.004692218350754936"
            ]
          },
          "execution_count": 99,
          "metadata": {},
          "output_type": "execute_result"
        }
      ],
      "source": [
        "len(data[data['dob_years'] == 0]) / len(data)"
      ]
    },
    {
      "cell_type": "code",
      "execution_count": null,
      "metadata": {
        "id": "CQGLGrT876qU"
      },
      "outputs": [],
      "source": [
        "non_zero = data[(data['dob_years']>= 19)]\n",
        "# Vamos a tomar  para reemplazar todos los valores del nuevo dataframe que están en cero"
      ]
    },
    {
      "cell_type": "code",
      "execution_count": null,
      "metadata": {
        "id": "iIFMCRNbBEck",
        "outputId": "fe2a1990-8b5a-4b9f-ec7e-21df69e1b73d"
      },
      "outputs": [
        {
          "data": {
            "text/plain": [
              "43.497479462285284"
            ]
          },
          "execution_count": 101,
          "metadata": {},
          "output_type": "execute_result"
        }
      ],
      "source": [
        "mean_dob = non_zero['dob_years'].mean()\n",
        "mean_dob"
      ]
    },
    {
      "cell_type": "code",
      "execution_count": null,
      "metadata": {
        "id": "D4i2bbowBEck",
        "outputId": "46199449-c812-4190-8ed7-e506e80617aa"
      },
      "outputs": [
        {
          "data": {
            "text/html": [
              "<div>\n",
              "<style scoped>\n",
              "    .dataframe tbody tr th:only-of-type {\n",
              "        vertical-align: middle;\n",
              "    }\n",
              "\n",
              "    .dataframe tbody tr th {\n",
              "        vertical-align: top;\n",
              "    }\n",
              "\n",
              "    .dataframe thead th {\n",
              "        text-align: right;\n",
              "    }\n",
              "</style>\n",
              "<table border=\"1\" class=\"dataframe\">\n",
              "  <thead>\n",
              "    <tr style=\"text-align: right;\">\n",
              "      <th></th>\n",
              "      <th>children</th>\n",
              "      <th>days_employed</th>\n",
              "      <th>dob_years</th>\n",
              "      <th>education_id</th>\n",
              "      <th>family_status_id</th>\n",
              "      <th>debt</th>\n",
              "      <th>total_income</th>\n",
              "    </tr>\n",
              "  </thead>\n",
              "  <tbody>\n",
              "    <tr>\n",
              "      <th>count</th>\n",
              "      <td>21525.000000</td>\n",
              "      <td>19351.000000</td>\n",
              "      <td>21525.000000</td>\n",
              "      <td>21525.000000</td>\n",
              "      <td>21525.000000</td>\n",
              "      <td>21525.000000</td>\n",
              "      <td>19351.000000</td>\n",
              "    </tr>\n",
              "    <tr>\n",
              "      <th>mean</th>\n",
              "      <td>0.479721</td>\n",
              "      <td>63046.497661</td>\n",
              "      <td>43.481069</td>\n",
              "      <td>0.817236</td>\n",
              "      <td>0.972544</td>\n",
              "      <td>0.080883</td>\n",
              "      <td>26787.568355</td>\n",
              "    </tr>\n",
              "    <tr>\n",
              "      <th>std</th>\n",
              "      <td>0.755528</td>\n",
              "      <td>140827.311974</td>\n",
              "      <td>12.220504</td>\n",
              "      <td>0.548138</td>\n",
              "      <td>1.420324</td>\n",
              "      <td>0.272661</td>\n",
              "      <td>16475.450632</td>\n",
              "    </tr>\n",
              "    <tr>\n",
              "      <th>min</th>\n",
              "      <td>0.000000</td>\n",
              "      <td>-18388.949901</td>\n",
              "      <td>19.000000</td>\n",
              "      <td>0.000000</td>\n",
              "      <td>0.000000</td>\n",
              "      <td>0.000000</td>\n",
              "      <td>3306.762000</td>\n",
              "    </tr>\n",
              "    <tr>\n",
              "      <th>25%</th>\n",
              "      <td>0.000000</td>\n",
              "      <td>-2747.423625</td>\n",
              "      <td>34.000000</td>\n",
              "      <td>1.000000</td>\n",
              "      <td>0.000000</td>\n",
              "      <td>0.000000</td>\n",
              "      <td>16488.504500</td>\n",
              "    </tr>\n",
              "    <tr>\n",
              "      <th>50%</th>\n",
              "      <td>0.000000</td>\n",
              "      <td>-1203.369529</td>\n",
              "      <td>42.000000</td>\n",
              "      <td>1.000000</td>\n",
              "      <td>0.000000</td>\n",
              "      <td>0.000000</td>\n",
              "      <td>23202.870000</td>\n",
              "    </tr>\n",
              "    <tr>\n",
              "      <th>75%</th>\n",
              "      <td>1.000000</td>\n",
              "      <td>-291.095954</td>\n",
              "      <td>53.000000</td>\n",
              "      <td>1.000000</td>\n",
              "      <td>1.000000</td>\n",
              "      <td>0.000000</td>\n",
              "      <td>32549.611000</td>\n",
              "    </tr>\n",
              "    <tr>\n",
              "      <th>max</th>\n",
              "      <td>5.000000</td>\n",
              "      <td>401755.400475</td>\n",
              "      <td>75.000000</td>\n",
              "      <td>4.000000</td>\n",
              "      <td>4.000000</td>\n",
              "      <td>1.000000</td>\n",
              "      <td>362496.645000</td>\n",
              "    </tr>\n",
              "  </tbody>\n",
              "</table>\n",
              "</div>"
            ],
            "text/plain": [
              "           children  days_employed     dob_years  education_id  \\\n",
              "count  21525.000000   19351.000000  21525.000000  21525.000000   \n",
              "mean       0.479721   63046.497661     43.481069      0.817236   \n",
              "std        0.755528  140827.311974     12.220504      0.548138   \n",
              "min        0.000000  -18388.949901     19.000000      0.000000   \n",
              "25%        0.000000   -2747.423625     34.000000      1.000000   \n",
              "50%        0.000000   -1203.369529     42.000000      1.000000   \n",
              "75%        1.000000    -291.095954     53.000000      1.000000   \n",
              "max        5.000000  401755.400475     75.000000      4.000000   \n",
              "\n",
              "       family_status_id          debt   total_income  \n",
              "count      21525.000000  21525.000000   19351.000000  \n",
              "mean           0.972544      0.080883   26787.568355  \n",
              "std            1.420324      0.272661   16475.450632  \n",
              "min            0.000000      0.000000    3306.762000  \n",
              "25%            0.000000      0.000000   16488.504500  \n",
              "50%            0.000000      0.000000   23202.870000  \n",
              "75%            1.000000      0.000000   32549.611000  \n",
              "max            4.000000      1.000000  362496.645000  "
            ]
          },
          "execution_count": 102,
          "metadata": {},
          "output_type": "execute_result"
        }
      ],
      "source": [
        "data['dob_years'].replace(0, 40, inplace=True)\n",
        "data.describe()"
      ]
    },
    {
      "cell_type": "code",
      "execution_count": null,
      "metadata": {
        "colab": {
          "base_uri": "https://localhost:8080/"
        },
        "id": "ksM8yaMD76qU",
        "outputId": "94dd2843-796f-48cf-a889-38141e3993f1"
      },
      "outputs": [
        {
          "data": {
            "text/plain": [
              "children            0.0\n",
              "days_employed       0.0\n",
              "dob_years           0.0\n",
              "education           0.0\n",
              "education_id        0.0\n",
              "family_status       0.0\n",
              "family_status_id    0.0\n",
              "gender              0.0\n",
              "income_type         0.0\n",
              "debt                0.0\n",
              "total_income        0.0\n",
              "purpose             0.0\n",
              "dtype: float64"
            ]
          },
          "execution_count": 103,
          "metadata": {},
          "output_type": "execute_result"
        }
      ],
      "source": [
        "data[data['dob_years'] ==  0].sum()\n",
        "# Aquí ya reemplazamos todas las personas con 0 años de edad con la media de la edad para rellenar los valroes ausentes.\n",
        "# Y no hay nadie con edad igual a cero.\n"
      ]
    },
    {
      "cell_type": "markdown",
      "metadata": {
        "id": "IjlJZm-676qT"
      },
      "source": [
        "Aquí vamos a analizar los datos de la columna `days_employed`."
      ]
    },
    {
      "cell_type": "code",
      "execution_count": null,
      "metadata": {
        "colab": {
          "base_uri": "https://localhost:8080/"
        },
        "id": "TwAimVze76qT",
        "outputId": "1cf30215-4353-465a-845a-aebd5c5d9f20"
      },
      "outputs": [
        {
          "data": {
            "text/plain": [
              "count     19351.000000\n",
              "mean      63046.497661\n",
              "std      140827.311974\n",
              "min      -18388.949901\n",
              "25%       -2747.423625\n",
              "50%       -1203.369529\n",
              "75%        -291.095954\n",
              "max      401755.400475\n",
              "Name: days_employed, dtype: float64"
            ]
          },
          "execution_count": 104,
          "metadata": {},
          "output_type": "execute_result"
        }
      ],
      "source": [
        "no_nan['days_employed'].describe()\n",
        "# Encuentra datos problemáticos en `days_employed`, si existen, y calcula el porcentaje\n"
      ]
    },
    {
      "cell_type": "markdown",
      "metadata": {
        "id": "qcZeMyE-76qT"
      },
      "source": [
        "Vamos a convertir los datos de `days_employed` en absolutos para eliminar los negativos. Y observemo que cambian los estadísticos de la columna, será más fácil analizarlos con valores positivos considerando que es imposible que alguien \"destrabaje\" por 50 años."
      ]
    },
    {
      "cell_type": "code",
      "execution_count": null,
      "metadata": {
        "colab": {
          "base_uri": "https://localhost:8080/",
          "height": 300
        },
        "id": "cBIGjK2576qT",
        "outputId": "7818837b-978c-48ba-b2b1-2cec5f8d95b1"
      },
      "outputs": [
        {
          "data": {
            "text/plain": [
              "count     19351.000000\n",
              "mean      66914.728907\n",
              "std      139030.880527\n",
              "min          24.141633\n",
              "25%         927.009265\n",
              "50%        2194.220567\n",
              "75%        5537.882441\n",
              "max      401755.400475\n",
              "Name: days_employed, dtype: float64"
            ]
          },
          "execution_count": 105,
          "metadata": {},
          "output_type": "execute_result"
        }
      ],
      "source": [
        "data['days_employed'] = data['days_employed'].abs()\n",
        "data['days_employed'].describe()"
      ]
    },
    {
      "cell_type": "code",
      "execution_count": null,
      "metadata": {
        "id": "YMnF27ctBEcn",
        "outputId": "1e2e4bc2-b811-4d31-bc18-7203ac0e2c63"
      },
      "outputs": [
        {
          "data": {
            "text/plain": [
              "F    1484\n",
              "M     690\n",
              "Name: gender, dtype: int64"
            ]
          },
          "execution_count": 106,
          "metadata": {},
          "output_type": "execute_result"
        }
      ],
      "source": [
        "data[data['total_income'].isnull()]['gender'].value_counts()"
      ]
    },
    {
      "cell_type": "code",
      "execution_count": null,
      "metadata": {
        "id": "ozMp9Jo_BEcn",
        "outputId": "6208abaa-4aea-487e-f026-ac2262362785"
      },
      "outputs": [
        {
          "data": {
            "text/plain": [
              "F    1484\n",
              "M     690\n",
              "Name: gender, dtype: int64"
            ]
          },
          "execution_count": 107,
          "metadata": {},
          "output_type": "execute_result"
        }
      ],
      "source": [
        "data[data['total_income'].isnull()]['gender'].value_counts()"
      ]
    },
    {
      "cell_type": "markdown",
      "metadata": {
        "id": "ylrEepWbBEco"
      },
      "source": [
        "Aquí ahora podemos ver que la cantidad de valores ausentes tanto en `total_income`como en `days_employed` están relacionados con el género registrado. "
      ]
    },
    {
      "cell_type": "code",
      "execution_count": null,
      "metadata": {
        "id": "5fC_hiiBBEco",
        "outputId": "9fc754b4-48e7-474e-b53b-24439edac3a7"
      },
      "outputs": [
        {
          "data": {
            "text/plain": [
              "2174"
            ]
          },
          "execution_count": 108,
          "metadata": {},
          "output_type": "execute_result"
        }
      ],
      "source": [
        "data['days_employed'].isna().sum()"
      ]
    },
    {
      "cell_type": "code",
      "execution_count": null,
      "metadata": {
        "id": "Ar6rlvpzBEco",
        "outputId": "10d70850-0d0e-4480-bff4-b10d51aff109"
      },
      "outputs": [
        {
          "data": {
            "text/plain": [
              "2352.0076997468445"
            ]
          },
          "execution_count": 109,
          "metadata": {},
          "output_type": "execute_result"
        }
      ],
      "source": [
        "mean = data[(data['days_employed']>= 0.) & (data['days_employed'] <= 18000.)].mean()\n",
        "mean['days_employed']"
      ]
    },
    {
      "cell_type": "code",
      "execution_count": null,
      "metadata": {
        "id": "b4KvwLtUBEcp",
        "outputId": "089f24a2-3900-446e-be70-dd441a08cae7"
      },
      "outputs": [
        {
          "data": {
            "text/plain": [
              "0"
            ]
          },
          "execution_count": 111,
          "metadata": {},
          "output_type": "execute_result"
        }
      ],
      "source": [
        "data['days_employed'] = data['days_employed'].fillna(mean['days_employed'])\n",
        "data['days_employed'].isna().sum() # Aquí ya no hay valores ausentes en la columna de days employed porque los reemplazamos\n",
        "# Con la media de los valores que están dentro del rango de días trabajados normales, sin contar los valores atípicos."
      ]
    },
    {
      "cell_type": "markdown",
      "metadata": {
        "id": "ktJQuyBdBEcp"
      },
      "source": [
        "Con este nuevo dataframe `data` podemos continuar con la investigación y el análisis de datos sabiendo que conservamos el 100% de los datos del dataframe original y considerando que reemplazamos las filas que están por encima del límite de los 50 años o 18000 días de trabajo. Sólo conservamos los datos dentro del rango de 0 a 50 años para descartar valores mayores ya que puede haber un error al trasladar y registrar los datos de acuerdo con el contenido de las filas de la columna `days_employed`. Se realizó esta segregación porque los valores atípicos en promedio eran de 1629.99 días, lo que significa 185 años y utilizamos el valor de la mediana de los valores dentro de los 50 años."
      ]
    },
    {
      "cell_type": "code",
      "execution_count": null,
      "metadata": {
        "id": "3WfsFrPcBEcq",
        "outputId": "f461ef72-8a46-4333-c8f1-87927d02b701"
      },
      "outputs": [
        {
          "data": {
            "text/plain": [
              "2174"
            ]
          },
          "execution_count": 112,
          "metadata": {},
          "output_type": "execute_result"
        }
      ],
      "source": [
        "data['total_income'].isnull().sum()"
      ]
    },
    {
      "cell_type": "markdown",
      "metadata": {
        "id": "67H5ImUUBEcq"
      },
      "source": [
        "Aquí podemos ver que tenemos aún algunos valores ausentes en la columna de `total_income`. Vamos a reemplazar los valroes ausentes con el promedio de los que no son ausentes. Utilizamos la mediana para rellenar los valores ausentes de `total_income` y la media para la columna `days_employed` pensando que es el mejor tratamiento para cada distribución de datos. Los días trabajados sí tenían valores atípicos en sí que afectan la distribución, pero se rellenaron los valroes ausentes con la media de los valores que 'tienen sentido' para el tipo de dato que tenemos. Y para los ingresos, esos valores aunque puedan parecer outliers sí pueden ser más realistas que trabajar más de 100 años, por eso utilizamos la mediana para los valores ausentes de la columna."
      ]
    },
    {
      "cell_type": "code",
      "execution_count": null,
      "metadata": {
        "id": "8B1ht-t9BEcr",
        "outputId": "89c69121-c91e-48b1-c829-ec45f20b14ea"
      },
      "outputs": [
        {
          "data": {
            "text/plain": [
              "23202.87"
            ]
          },
          "execution_count": 113,
          "metadata": {},
          "output_type": "execute_result"
        }
      ],
      "source": [
        "median = data['total_income'].dropna().median()\n",
        "median"
      ]
    },
    {
      "cell_type": "code",
      "execution_count": null,
      "metadata": {
        "id": "jfXsl6wiBEcr",
        "outputId": "933d6f35-4e9a-4b08-83a7-f4c456ab89da"
      },
      "outputs": [
        {
          "data": {
            "text/plain": [
              "0"
            ]
          },
          "execution_count": 114,
          "metadata": {},
          "output_type": "execute_result"
        }
      ],
      "source": [
        "data['total_income'].fillna(median, inplace=True)\n",
        "data['total_income'].isnull().sum()"
      ]
    },
    {
      "cell_type": "markdown",
      "metadata": {
        "id": "FA3FxTzj76qT"
      },
      "source": [
        "Ya no tenemos valores ausentes en `days_employed` ni en `total_income`. Llenamos los valores ausentes de total income con el promedio de ingresos, tomando en cuenta solamente las filas que sí tienen un valor para sacar la `mean` de los valores de esa columna."
      ]
    },
    {
      "cell_type": "markdown",
      "metadata": {
        "id": "2t9R2Wiu76qU"
      },
      "source": [
        "Ahora revisemos la columna `family_status`."
      ]
    },
    {
      "cell_type": "code",
      "execution_count": null,
      "metadata": {
        "colab": {
          "base_uri": "https://localhost:8080/"
        },
        "id": "lWNW28aY76qU",
        "outputId": "0c2c75ec-9a6e-4684-83ad-b2c819f570dd"
      },
      "outputs": [
        {
          "data": {
            "text/plain": [
              "array(['married', 'civil partnership', 'widow / widower', 'divorced',\n",
              "       'unmarried'], dtype=object)"
            ]
          },
          "execution_count": 36,
          "metadata": {},
          "output_type": "execute_result"
        }
      ],
      "source": [
        "data['family_status'].unique()# Veamos los valores de la columna"
      ]
    },
    {
      "cell_type": "markdown",
      "metadata": {
        "id": "9V2o40ql76qV"
      },
      "source": [
        "Ahora revisemos la columna `gender`."
      ]
    },
    {
      "cell_type": "code",
      "execution_count": null,
      "metadata": {
        "colab": {
          "base_uri": "https://localhost:8080/"
        },
        "id": "tNicYAsi76qV",
        "outputId": "883ecaf7-92d5-4d8b-aa55-56805196bdfd"
      },
      "outputs": [
        {
          "data": {
            "text/plain": [
              "array(['F', 'M', 'XNA'], dtype=object)"
            ]
          },
          "execution_count": 37,
          "metadata": {},
          "output_type": "execute_result"
        }
      ],
      "source": [
        "data['gender'].unique()\n",
        "#No parece haber valores problematicos en esta columna"
      ]
    },
    {
      "cell_type": "code",
      "execution_count": null,
      "metadata": {
        "id": "e5GPz328BEcs",
        "outputId": "aa1ecbff-088a-4ff5-9954-989661b118c1"
      },
      "outputs": [
        {
          "data": {
            "text/html": [
              "<div>\n",
              "<style scoped>\n",
              "    .dataframe tbody tr th:only-of-type {\n",
              "        vertical-align: middle;\n",
              "    }\n",
              "\n",
              "    .dataframe tbody tr th {\n",
              "        vertical-align: top;\n",
              "    }\n",
              "\n",
              "    .dataframe thead th {\n",
              "        text-align: right;\n",
              "    }\n",
              "</style>\n",
              "<table border=\"1\" class=\"dataframe\">\n",
              "  <thead>\n",
              "    <tr style=\"text-align: right;\">\n",
              "      <th></th>\n",
              "      <th>children</th>\n",
              "      <th>days_employed</th>\n",
              "      <th>dob_years</th>\n",
              "      <th>education</th>\n",
              "      <th>education_id</th>\n",
              "      <th>family_status</th>\n",
              "      <th>family_status_id</th>\n",
              "      <th>income_type</th>\n",
              "      <th>debt</th>\n",
              "      <th>total_income</th>\n",
              "      <th>purpose</th>\n",
              "    </tr>\n",
              "    <tr>\n",
              "      <th>gender</th>\n",
              "      <th></th>\n",
              "      <th></th>\n",
              "      <th></th>\n",
              "      <th></th>\n",
              "      <th></th>\n",
              "      <th></th>\n",
              "      <th></th>\n",
              "      <th></th>\n",
              "      <th></th>\n",
              "      <th></th>\n",
              "      <th></th>\n",
              "    </tr>\n",
              "  </thead>\n",
              "  <tbody>\n",
              "    <tr>\n",
              "      <th>F</th>\n",
              "      <td>14236</td>\n",
              "      <td>14236</td>\n",
              "      <td>14236</td>\n",
              "      <td>14236</td>\n",
              "      <td>14236</td>\n",
              "      <td>14236</td>\n",
              "      <td>14236</td>\n",
              "      <td>14236</td>\n",
              "      <td>14236</td>\n",
              "      <td>14236</td>\n",
              "      <td>14236</td>\n",
              "    </tr>\n",
              "    <tr>\n",
              "      <th>M</th>\n",
              "      <td>7288</td>\n",
              "      <td>7288</td>\n",
              "      <td>7288</td>\n",
              "      <td>7288</td>\n",
              "      <td>7288</td>\n",
              "      <td>7288</td>\n",
              "      <td>7288</td>\n",
              "      <td>7288</td>\n",
              "      <td>7288</td>\n",
              "      <td>7288</td>\n",
              "      <td>7288</td>\n",
              "    </tr>\n",
              "    <tr>\n",
              "      <th>XNA</th>\n",
              "      <td>1</td>\n",
              "      <td>1</td>\n",
              "      <td>1</td>\n",
              "      <td>1</td>\n",
              "      <td>1</td>\n",
              "      <td>1</td>\n",
              "      <td>1</td>\n",
              "      <td>1</td>\n",
              "      <td>1</td>\n",
              "      <td>1</td>\n",
              "      <td>1</td>\n",
              "    </tr>\n",
              "  </tbody>\n",
              "</table>\n",
              "</div>"
            ],
            "text/plain": [
              "        children  days_employed  dob_years  education  education_id  \\\n",
              "gender                                                                \n",
              "F          14236          14236      14236      14236         14236   \n",
              "M           7288           7288       7288       7288          7288   \n",
              "XNA            1              1          1          1             1   \n",
              "\n",
              "        family_status  family_status_id  income_type   debt  total_income  \\\n",
              "gender                                                                      \n",
              "F               14236             14236        14236  14236         14236   \n",
              "M                7288              7288         7288   7288          7288   \n",
              "XNA                 1                 1            1      1             1   \n",
              "\n",
              "        purpose  \n",
              "gender           \n",
              "F         14236  \n",
              "M          7288  \n",
              "XNA           1  "
            ]
          },
          "execution_count": 38,
          "metadata": {},
          "output_type": "execute_result"
        }
      ],
      "source": [
        "data.groupby('gender').count()"
      ]
    },
    {
      "cell_type": "code",
      "execution_count": null,
      "metadata": {
        "id": "ZgrIvALXBEcs",
        "outputId": "35fdc120-d30f-477b-f3db-ebf6aded8a1f"
      },
      "outputs": [
        {
          "data": {
            "text/html": [
              "<div>\n",
              "<style scoped>\n",
              "    .dataframe tbody tr th:only-of-type {\n",
              "        vertical-align: middle;\n",
              "    }\n",
              "\n",
              "    .dataframe tbody tr th {\n",
              "        vertical-align: top;\n",
              "    }\n",
              "\n",
              "    .dataframe thead th {\n",
              "        text-align: right;\n",
              "    }\n",
              "</style>\n",
              "<table border=\"1\" class=\"dataframe\">\n",
              "  <thead>\n",
              "    <tr style=\"text-align: right;\">\n",
              "      <th></th>\n",
              "      <th>children</th>\n",
              "      <th>days_employed</th>\n",
              "      <th>dob_years</th>\n",
              "      <th>education</th>\n",
              "      <th>education_id</th>\n",
              "      <th>family_status</th>\n",
              "      <th>family_status_id</th>\n",
              "      <th>income_type</th>\n",
              "      <th>debt</th>\n",
              "      <th>total_income</th>\n",
              "      <th>purpose</th>\n",
              "    </tr>\n",
              "    <tr>\n",
              "      <th>gender</th>\n",
              "      <th></th>\n",
              "      <th></th>\n",
              "      <th></th>\n",
              "      <th></th>\n",
              "      <th></th>\n",
              "      <th></th>\n",
              "      <th></th>\n",
              "      <th></th>\n",
              "      <th></th>\n",
              "      <th></th>\n",
              "      <th></th>\n",
              "    </tr>\n",
              "  </thead>\n",
              "  <tbody>\n",
              "    <tr>\n",
              "      <th>F</th>\n",
              "      <td>14236</td>\n",
              "      <td>14236</td>\n",
              "      <td>14236</td>\n",
              "      <td>14236</td>\n",
              "      <td>14236</td>\n",
              "      <td>14236</td>\n",
              "      <td>14236</td>\n",
              "      <td>14236</td>\n",
              "      <td>14236</td>\n",
              "      <td>14236</td>\n",
              "      <td>14236</td>\n",
              "    </tr>\n",
              "    <tr>\n",
              "      <th>M</th>\n",
              "      <td>7288</td>\n",
              "      <td>7288</td>\n",
              "      <td>7288</td>\n",
              "      <td>7288</td>\n",
              "      <td>7288</td>\n",
              "      <td>7288</td>\n",
              "      <td>7288</td>\n",
              "      <td>7288</td>\n",
              "      <td>7288</td>\n",
              "      <td>7288</td>\n",
              "      <td>7288</td>\n",
              "    </tr>\n",
              "  </tbody>\n",
              "</table>\n",
              "</div>"
            ],
            "text/plain": [
              "        children  days_employed  dob_years  education  education_id  \\\n",
              "gender                                                                \n",
              "F          14236          14236      14236      14236         14236   \n",
              "M           7288           7288       7288       7288          7288   \n",
              "\n",
              "        family_status  family_status_id  income_type   debt  total_income  \\\n",
              "gender                                                                      \n",
              "F               14236             14236        14236  14236         14236   \n",
              "M                7288              7288         7288   7288          7288   \n",
              "\n",
              "        purpose  \n",
              "gender           \n",
              "F         14236  \n",
              "M          7288  "
            ]
          },
          "execution_count": 39,
          "metadata": {},
          "output_type": "execute_result"
        }
      ],
      "source": [
        "data.drop(data[data['gender'] == 'XNA'].index, inplace=True)\n",
        "data.groupby('gender').count()"
      ]
    },
    {
      "cell_type": "code",
      "execution_count": null,
      "metadata": {
        "id": "xwfWuRx8BEct",
        "outputId": "cd061fbb-e6b3-4833-dd66-24ea2b73b800"
      },
      "outputs": [
        {
          "data": {
            "text/plain": [
              "Series([], Name: gender, dtype: int64)"
            ]
          },
          "execution_count": 40,
          "metadata": {},
          "output_type": "execute_result"
        }
      ],
      "source": [
        "data[data['days_employed'].isnull()]['gender'].value_counts()"
      ]
    },
    {
      "cell_type": "code",
      "execution_count": null,
      "metadata": {
        "id": "gvtK_0dW76qV",
        "outputId": "be93a5c0-7041-42d4-eea7-23cb377d5c9c"
      },
      "outputs": [
        {
          "data": {
            "text/plain": [
              "array(['purchase of the house', 'car purchase', 'supplementary education',\n",
              "       'to have a wedding', 'housing transactions', 'education',\n",
              "       'having a wedding', 'purchase of the house for my family',\n",
              "       'buy real estate', 'buy commercial real estate',\n",
              "       'buy residential real estate', 'construction of own property',\n",
              "       'property', 'building a property', 'buying a second-hand car',\n",
              "       'buying my own car', 'transactions with commercial real estate',\n",
              "       'building a real estate', 'housing',\n",
              "       'transactions with my real estate', 'cars', 'to become educated',\n",
              "       'second-hand car purchase', 'getting an education', 'car',\n",
              "       'wedding ceremony', 'to get a supplementary education',\n",
              "       'purchase of my own house', 'real estate transactions',\n",
              "       'getting higher education', 'to own a car', 'purchase of a car',\n",
              "       'profile education', 'university education',\n",
              "       'buying property for renting out', 'to buy a car',\n",
              "       'housing renovation', 'going to university'], dtype=object)"
            ]
          },
          "execution_count": 41,
          "metadata": {},
          "output_type": "execute_result"
        }
      ],
      "source": [
        "data['purpose'].unique()\n",
        "# Aquí etsamos viendo las variables que tenemos para los distintos propósitos que tienen los clientes."
      ]
    },
    {
      "cell_type": "code",
      "execution_count": null,
      "metadata": {
        "id": "v36C4vFf76qV"
      },
      "outputs": [],
      "source": [
        "data['purpose'].value_counts().count() # there are 38 different types of purpose\n",
        "from nltk.stem import SnowballStemmer \n",
        "english_stemmer = SnowballStemmer('english')\n",
        "\n",
        "def type_of_purpose(purpose):\n",
        "    for word in purpose.split(' '):\n",
        "        if 'car' == english_stemmer.stem(word):\n",
        "           return 'buying a car'\n",
        "        if 'wed' == english_stemmer.stem(word):      \n",
        "           return 'wedding ceremony'\n",
        "        if ('educ' == english_stemmer.stem(word) or 'univers' == english_stemmer.stem(word)):   \n",
        "           return 'going to university'\n",
        "        if ('hous' == english_stemmer.stem(word) or 'properti' == english_stemmer.stem(word) or 'estat' == english_stemmer.stem(word)):\n",
        "           return 'real estate transactions'\n",
        "    \n",
        "    return purpose"
      ]
    },
    {
      "cell_type": "code",
      "execution_count": null,
      "metadata": {
        "id": "2l_It29QBEcu",
        "outputId": "734802da-77c3-4645-957a-41cdcf8dd10b"
      },
      "outputs": [
        {
          "data": {
            "text/plain": [
              "real estate transactions    10839\n",
              "buying a car                 4315\n",
              "going to university          4022\n",
              "wedding ceremony             2348\n",
              "Name: purpose, dtype: int64"
            ]
          },
          "execution_count": 43,
          "metadata": {},
          "output_type": "execute_result"
        }
      ],
      "source": [
        "data['purpose'] = data['purpose'].apply(type_of_purpose)\n",
        "data['purpose'].value_counts()"
      ]
    },
    {
      "cell_type": "markdown",
      "metadata": {
        "id": "c8ewfXyoBEcu"
      },
      "source": [
        "<div class=\"alert alert-block alert-info\">\n",
        "También tengo este error abajo en otras tablas. Me gusta que funciona porque muestra lo que quería ver, pero parece que al Kernel le gustaría algo distinto? sólo que creo que .loc no queda bien para lo que estoy tratando de hacer aquí, o si?\n",
        "</div>"
      ]
    },
    {
      "cell_type": "code",
      "execution_count": null,
      "metadata": {
        "id": "kfe4ePJEBEcu",
        "outputId": "5f8bce53-88be-485f-de72-7f657d1f655e"
      },
      "outputs": [
        {
          "data": {
            "text/plain": [
              "array(['real estate transactions', 'buying a car', 'going to university',\n",
              "       'wedding ceremony'], dtype=object)"
            ]
          },
          "execution_count": 44,
          "metadata": {},
          "output_type": "execute_result"
        }
      ],
      "source": [
        "data['purpose'].unique()"
      ]
    },
    {
      "cell_type": "markdown",
      "metadata": {
        "id": "8_fdDICvBEcu"
      },
      "source": [
        "Aquí acabamos de reducir a solo 4 razones después del párrafo que teníamos con muchas opciones posibles de `purpose`. Y vamos a revisar la columna `income_type`."
      ]
    },
    {
      "cell_type": "code",
      "execution_count": null,
      "metadata": {
        "colab": {
          "base_uri": "https://localhost:8080/"
        },
        "id": "LOdxq0F176qV",
        "outputId": "58d4fa86-caa4-48b6-d2f6-f2cac90715ed"
      },
      "outputs": [
        {
          "data": {
            "text/plain": [
              "array(['employee', 'retiree', 'business', 'civil servant', 'unemployed',\n",
              "       'entrepreneur', 'student', 'paternity / maternity leave'],\n",
              "      dtype=object)"
            ]
          },
          "execution_count": 45,
          "metadata": {},
          "output_type": "execute_result"
        }
      ],
      "source": [
        "data['income_type'].unique()# Veamos los valores en la columna"
      ]
    },
    {
      "cell_type": "code",
      "execution_count": null,
      "metadata": {
        "id": "NUSjpFqg76qV"
      },
      "outputs": [],
      "source": [
        "#No parece haber problema con estos datos"
      ]
    },
    {
      "cell_type": "markdown",
      "metadata": {
        "id": "xDrMfW-e76qW"
      },
      "source": [
        "Ahora revisaremos los duplicados en nuestro dataframe."
      ]
    },
    {
      "cell_type": "code",
      "execution_count": null,
      "metadata": {
        "colab": {
          "base_uri": "https://localhost:8080/"
        },
        "id": "ATM_7dUQ76qW",
        "outputId": "4c12135f-5b4c-4419-a511-fa0ba581d4cf"
      },
      "outputs": [
        {
          "data": {
            "text/plain": [
              "407"
            ]
          },
          "execution_count": 47,
          "metadata": {},
          "output_type": "execute_result"
        }
      ],
      "source": [
        "data.duplicated().sum()# Comprobar los duplicados\n",
        "\n"
      ]
    },
    {
      "cell_type": "code",
      "execution_count": null,
      "metadata": {
        "id": "mySJW_lm76qW"
      },
      "outputs": [],
      "source": [
        "# Ya no hay duplicados"
      ]
    },
    {
      "cell_type": "code",
      "execution_count": null,
      "metadata": {
        "colab": {
          "base_uri": "https://localhost:8080/"
        },
        "id": "Vw8lrcYx76qW",
        "outputId": "1c83b704-9e6b-4159-85d4-f1f5b8cbd319"
      },
      "outputs": [
        {
          "name": "stdout",
          "output_type": "stream",
          "text": [
            "<class 'pandas.core.frame.DataFrame'>\n",
            "Int64Index: 21524 entries, 0 to 21524\n",
            "Data columns (total 12 columns):\n",
            " #   Column            Non-Null Count  Dtype  \n",
            "---  ------            --------------  -----  \n",
            " 0   children          21524 non-null  int64  \n",
            " 1   days_employed     21524 non-null  float64\n",
            " 2   dob_years         21524 non-null  int64  \n",
            " 3   education         21524 non-null  object \n",
            " 4   education_id      21524 non-null  int64  \n",
            " 5   family_status     21524 non-null  object \n",
            " 6   family_status_id  21524 non-null  int64  \n",
            " 7   gender            21524 non-null  object \n",
            " 8   income_type       21524 non-null  object \n",
            " 9   debt              21524 non-null  int64  \n",
            " 10  total_income      21524 non-null  float64\n",
            " 11  purpose           21524 non-null  object \n",
            "dtypes: float64(2), int64(5), object(5)\n",
            "memory usage: 2.1+ MB\n"
          ]
        }
      ],
      "source": [
        "data.info()\n",
        "# Hasta aquí la descripción general del nuevo dataframe filtrado"
      ]
    },
    {
      "cell_type": "code",
      "execution_count": null,
      "metadata": {
        "id": "70uWKoZNBEcw",
        "outputId": "7e0038d2-a4bc-40b1-8d5d-bcf218f22176"
      },
      "outputs": [
        {
          "data": {
            "text/plain": [
              "array([0, 1])"
            ]
          },
          "execution_count": 50,
          "metadata": {},
          "output_type": "execute_result"
        }
      ],
      "source": [
        "data['debt'].unique() \n",
        "# Aquí podemos ver que 0 y 1 son los únicos valores que se encuentran en la columna de `debt`\n",
        "# haciendo referencia a que se tiene o no se tiene una deuda. 0 no 1 sí."
      ]
    },
    {
      "cell_type": "markdown",
      "metadata": {
        "id": "-iTRJFqv76qW"
      },
      "source": [
        "# Trabajar con valores ausentes"
      ]
    },
    {
      "cell_type": "code",
      "execution_count": null,
      "metadata": {
        "colab": {
          "base_uri": "https://localhost:8080/"
        },
        "id": "beDZ4yyz76qZ",
        "outputId": "6f14d256-6ac5-45dc-8f70-01e7fdf6e40c"
      },
      "outputs": [
        {
          "name": "stdout",
          "output_type": "stream",
          "text": [
            "<class 'pandas.core.frame.DataFrame'>\n",
            "Int64Index: 21524 entries, 0 to 21524\n",
            "Data columns (total 12 columns):\n",
            " #   Column            Non-Null Count  Dtype  \n",
            "---  ------            --------------  -----  \n",
            " 0   children          21524 non-null  int64  \n",
            " 1   days_employed     21524 non-null  float64\n",
            " 2   dob_years         21524 non-null  int64  \n",
            " 3   education         21524 non-null  object \n",
            " 4   education_id      21524 non-null  int64  \n",
            " 5   family_status     21524 non-null  object \n",
            " 6   family_status_id  21524 non-null  int64  \n",
            " 7   gender            21524 non-null  object \n",
            " 8   income_type       21524 non-null  object \n",
            " 9   debt              21524 non-null  int64  \n",
            " 10  total_income      21524 non-null  float64\n",
            " 11  purpose           21524 non-null  object \n",
            "dtypes: float64(2), int64(5), object(5)\n",
            "memory usage: 2.1+ MB\n"
          ]
        }
      ],
      "source": [
        "data.info()# Comprobar el número de entradas en las columnas\n",
        "\n"
      ]
    },
    {
      "cell_type": "code",
      "execution_count": null,
      "metadata": {
        "colab": {
          "base_uri": "https://localhost:8080/"
        },
        "id": "zLG5fF8E76qb",
        "outputId": "884f7b0a-50c9-4bd4-bcb2-9c65beb9a37d"
      },
      "outputs": [
        {
          "data": {
            "text/plain": [
              "children            0\n",
              "days_employed       0\n",
              "dob_years           0\n",
              "education           0\n",
              "education_id        0\n",
              "family_status       0\n",
              "family_status_id    0\n",
              "gender              0\n",
              "income_type         0\n",
              "debt                0\n",
              "total_income        0\n",
              "purpose             0\n",
              "dtype: int64"
            ]
          },
          "execution_count": 52,
          "metadata": {},
          "output_type": "execute_result"
        }
      ],
      "source": [
        "data.isna().sum()\n",
        "# Ya no hay ningún valor ausente."
      ]
    },
    {
      "cell_type": "markdown",
      "metadata": {
        "id": "8YzNQAHc76qX"
      },
      "source": [
        "Eliminamos algunos valores ausentes y otros los reemplazamos por la media de los datos que sie tienen un valore mayor a 0 en las filas de las columnas correspondientes. Redujimos el tamaño del dataframe pero no tan considerablemente para poder mantener una cantidad representativa de datos."
      ]
    },
    {
      "cell_type": "markdown",
      "metadata": {
        "id": "wzgeWl3L76qb"
      },
      "source": [
        "## Clasificación de datos\n",
        "\n",
        "Vamos a clasificar los datos en nuevas columnas para hacer un análisis más fácil de los datos que tenemos en el dataframe apra la determinación de si algunas de las variables categóricas afectan la variable cuantitativa de el cumplimiento de pago o la columna `debt`."
      ]
    },
    {
      "cell_type": "code",
      "execution_count": null,
      "metadata": {
        "colab": {
          "base_uri": "https://localhost:8080/"
        },
        "id": "2VuZIolU76qX",
        "outputId": "99736962-d0fb-4c19-e193-3a7a12ff8d63",
        "scrolled": true
      },
      "outputs": [
        {
          "data": {
            "text/plain": [
              "{'education': {0: \"bachelor's degree\",\n",
              "  1: 'secondary education',\n",
              "  2: 'some college',\n",
              "  3: 'primary education',\n",
              "  4: 'graduate degree'}}"
            ]
          },
          "execution_count": 53,
          "metadata": {},
          "output_type": "execute_result"
        }
      ],
      "source": [
        "edu_dic = data.drop_duplicates(['education_id', 'education'])[['education_id', 'education']].reset_index(drop=True)\n",
        "edu_dic = edu_dic.set_index('education_id').to_dict()\n",
        "edu_dic\n",
        "# Encuentra los diccionarios"
      ]
    },
    {
      "cell_type": "code",
      "execution_count": null,
      "metadata": {
        "colab": {
          "base_uri": "https://localhost:8080/"
        },
        "id": "-l5Uqey-hY4m",
        "outputId": "e5a43dd5-479c-4922-b2b6-e5d3e6f407cb",
        "scrolled": true
      },
      "outputs": [
        {
          "data": {
            "text/plain": [
              "{'family_status': {0: 'married',\n",
              "  1: 'civil partnership',\n",
              "  2: 'widow / widower',\n",
              "  3: 'divorced',\n",
              "  4: 'unmarried'}}"
            ]
          },
          "execution_count": 54,
          "metadata": {},
          "output_type": "execute_result"
        }
      ],
      "source": [
        "fam_dic = data.drop_duplicates(['family_status_id', 'family_status'])[['family_status_id', 'family_status']].reset_index(drop=True)\n",
        "fam_dic = fam_dic.set_index('family_status_id').to_dict()\n",
        "fam_dic"
      ]
    },
    {
      "cell_type": "markdown",
      "metadata": {
        "id": "vQ3nav0B76qX"
      },
      "source": [
        "Aquí creamos una nueva columna con una cateogría de edad para los clientes."
      ]
    },
    {
      "cell_type": "code",
      "execution_count": null,
      "metadata": {
        "colab": {
          "base_uri": "https://localhost:8080/"
        },
        "id": "itaD_YxNipCK",
        "outputId": "1cce1458-d338-420f-c703-96728212ca03"
      },
      "outputs": [
        {
          "data": {
            "text/plain": [
              "count    21524.000000\n",
              "mean        43.481974\n",
              "std         12.220066\n",
              "min         19.000000\n",
              "25%         34.000000\n",
              "50%         42.000000\n",
              "75%         53.000000\n",
              "max         75.000000\n",
              "Name: dob_years, dtype: float64"
            ]
          },
          "execution_count": 55,
          "metadata": {},
          "output_type": "execute_result"
        }
      ],
      "source": [
        "data['dob_years'].describe()"
      ]
    },
    {
      "cell_type": "code",
      "execution_count": null,
      "metadata": {
        "id": "XHuGoPsW76qX"
      },
      "outputs": [],
      "source": [
        "def dob_years_id(dob_years):\n",
        "  if dob_years < 20:\n",
        "    return 0\n",
        "  elif dob_years < 35:\n",
        "    return 1\n",
        "  elif dob_years < 50:\n",
        "    return 2\n",
        "  elif dob_years < 65:\n",
        "    return 3\n",
        "  else:\n",
        "    return 4# Vamos a escribir una función que calcule la categoría de edad\n",
        "\n",
        "    "
      ]
    },
    {
      "cell_type": "code",
      "execution_count": null,
      "metadata": {
        "colab": {
          "base_uri": "https://localhost:8080/"
        },
        "id": "ubpHqCHG76qX",
        "outputId": "c4b6bc6d-286f-42a3-b022-65858ec4a196"
      },
      "outputs": [
        {
          "name": "stdout",
          "output_type": "stream",
          "text": [
            "2\n"
          ]
        }
      ],
      "source": [
        "print(dob_years_id(47))# Prueba si la función funciona bien\n"
      ]
    },
    {
      "cell_type": "code",
      "execution_count": null,
      "metadata": {
        "colab": {
          "base_uri": "https://localhost:8080/"
        },
        "id": "Me_Q8v_776qX",
        "outputId": "5dca2dd5-2164-4e20-bb82-14add6643f53"
      },
      "outputs": [
        {
          "data": {
            "text/plain": [
              "0        2\n",
              "1        2\n",
              "2        1\n",
              "3        1\n",
              "4        3\n",
              "        ..\n",
              "21520    2\n",
              "21521    4\n",
              "21522    2\n",
              "21523    2\n",
              "21524    2\n",
              "Name: dob_years_id, Length: 21524, dtype: int64"
            ]
          },
          "execution_count": 58,
          "metadata": {},
          "output_type": "execute_result"
        }
      ],
      "source": [
        "data['dob_years_id'] = data['dob_years'].apply(dob_years_id)\n",
        "data['dob_years_id']# Crear una nueva columna basada en la función"
      ]
    },
    {
      "cell_type": "code",
      "execution_count": null,
      "metadata": {
        "colab": {
          "base_uri": "https://localhost:8080/"
        },
        "id": "oFCt-OyU76qX",
        "outputId": "558b07e6-ce93-41e5-bbd8-6a4740898b94"
      },
      "outputs": [
        {
          "data": {
            "text/plain": [
              "array([2, 1, 3, 4, 0])"
            ]
          },
          "execution_count": 59,
          "metadata": {},
          "output_type": "execute_result"
        }
      ],
      "source": [
        "data['dob_years_id'].unique()# Comprobar cómo los valores en la nueva columna\n",
        "\n"
      ]
    },
    {
      "cell_type": "code",
      "execution_count": null,
      "metadata": {
        "colab": {
          "base_uri": "https://localhost:8080/"
        },
        "id": "uWBB_Iy_s_w7",
        "outputId": "d6a304c1-9875-4f5d-88ad-f2ecfab8bb20"
      },
      "outputs": [
        {
          "data": {
            "text/html": [
              "<div>\n",
              "<style scoped>\n",
              "    .dataframe tbody tr th:only-of-type {\n",
              "        vertical-align: middle;\n",
              "    }\n",
              "\n",
              "    .dataframe tbody tr th {\n",
              "        vertical-align: top;\n",
              "    }\n",
              "\n",
              "    .dataframe thead th {\n",
              "        text-align: right;\n",
              "    }\n",
              "</style>\n",
              "<table border=\"1\" class=\"dataframe\">\n",
              "  <thead>\n",
              "    <tr style=\"text-align: right;\">\n",
              "      <th></th>\n",
              "      <th>dob_years</th>\n",
              "      <th>total_income</th>\n",
              "    </tr>\n",
              "    <tr>\n",
              "      <th>dob_years_id</th>\n",
              "      <th></th>\n",
              "      <th></th>\n",
              "    </tr>\n",
              "  </thead>\n",
              "  <tbody>\n",
              "    <tr>\n",
              "      <th>0</th>\n",
              "      <td>19.000000</td>\n",
              "      <td>17693.487168</td>\n",
              "    </tr>\n",
              "    <tr>\n",
              "      <th>1</th>\n",
              "      <td>28.819020</td>\n",
              "      <td>26700.687752</td>\n",
              "    </tr>\n",
              "    <tr>\n",
              "      <th>2</th>\n",
              "      <td>41.725814</td>\n",
              "      <td>28369.082615</td>\n",
              "    </tr>\n",
              "    <tr>\n",
              "      <th>3</th>\n",
              "      <td>56.329363</td>\n",
              "      <td>25472.814944</td>\n",
              "    </tr>\n",
              "    <tr>\n",
              "      <th>4</th>\n",
              "      <td>67.431591</td>\n",
              "      <td>22015.218137</td>\n",
              "    </tr>\n",
              "  </tbody>\n",
              "</table>\n",
              "</div>"
            ],
            "text/plain": [
              "              dob_years  total_income\n",
              "dob_years_id                         \n",
              "0             19.000000  17693.487168\n",
              "1             28.819020  26700.687752\n",
              "2             41.725814  28369.082615\n",
              "3             56.329363  25472.814944\n",
              "4             67.431591  22015.218137"
            ]
          },
          "execution_count": 60,
          "metadata": {},
          "output_type": "execute_result"
        }
      ],
      "source": [
        "id_mean = data.groupby('dob_years_id')[['dob_years', 'total_income']].mean()\n",
        "id_mean"
      ]
    },
    {
      "cell_type": "markdown",
      "metadata": {
        "id": "58MrukA7BEcy"
      },
      "source": [
        "Aquí hemos calculado la mediana de edad para cada una de las categorías de edad que definimos anteriormente, podemos observar sólo con la tabla que la distribución podría dser normal debido a que el pico de `total_income` se encuentra en el número 2 que es el valore mediano de la lista de categorías, disminuyendo hacia el 0 y el 4. Esto quiere decir que las personas entre 36 y 50 años son quienes mayores ingresos promedio tienen en la lista de categorías, y la media de edad es de 41 años."
      ]
    },
    {
      "cell_type": "code",
      "execution_count": null,
      "metadata": {
        "colab": {
          "base_uri": "https://localhost:8080/",
          "height": 206
        },
        "id": "Y17owtJ_76qb",
        "outputId": "7ff0d4a5-321f-4ed1-c710-61da49aa8030",
        "scrolled": true
      },
      "outputs": [
        {
          "data": {
            "text/html": [
              "<div>\n",
              "<style scoped>\n",
              "    .dataframe tbody tr th:only-of-type {\n",
              "        vertical-align: middle;\n",
              "    }\n",
              "\n",
              "    .dataframe tbody tr th {\n",
              "        vertical-align: top;\n",
              "    }\n",
              "\n",
              "    .dataframe thead th {\n",
              "        text-align: right;\n",
              "    }\n",
              "</style>\n",
              "<table border=\"1\" class=\"dataframe\">\n",
              "  <thead>\n",
              "    <tr style=\"text-align: right;\">\n",
              "      <th></th>\n",
              "      <th>purpose</th>\n",
              "      <th>children</th>\n",
              "      <th>debt</th>\n",
              "      <th>total_income</th>\n",
              "    </tr>\n",
              "  </thead>\n",
              "  <tbody>\n",
              "    <tr>\n",
              "      <th>0</th>\n",
              "      <td>real estate transactions</td>\n",
              "      <td>1</td>\n",
              "      <td>0</td>\n",
              "      <td>40620.102</td>\n",
              "    </tr>\n",
              "    <tr>\n",
              "      <th>1</th>\n",
              "      <td>buying a car</td>\n",
              "      <td>1</td>\n",
              "      <td>0</td>\n",
              "      <td>17932.802</td>\n",
              "    </tr>\n",
              "    <tr>\n",
              "      <th>2</th>\n",
              "      <td>real estate transactions</td>\n",
              "      <td>0</td>\n",
              "      <td>0</td>\n",
              "      <td>23341.752</td>\n",
              "    </tr>\n",
              "    <tr>\n",
              "      <th>3</th>\n",
              "      <td>going to university</td>\n",
              "      <td>3</td>\n",
              "      <td>0</td>\n",
              "      <td>42820.568</td>\n",
              "    </tr>\n",
              "    <tr>\n",
              "      <th>4</th>\n",
              "      <td>wedding ceremony</td>\n",
              "      <td>0</td>\n",
              "      <td>0</td>\n",
              "      <td>25378.572</td>\n",
              "    </tr>\n",
              "  </tbody>\n",
              "</table>\n",
              "</div>"
            ],
            "text/plain": [
              "                    purpose  children  debt  total_income\n",
              "0  real estate transactions         1     0     40620.102\n",
              "1              buying a car         1     0     17932.802\n",
              "2  real estate transactions         0     0     23341.752\n",
              "3       going to university         3     0     42820.568\n",
              "4          wedding ceremony         0     0     25378.572"
            ]
          },
          "execution_count": 61,
          "metadata": {},
          "output_type": "execute_result"
        }
      ],
      "source": [
        "data[['purpose', 'children', 'debt', 'total_income']].head()# Muestra los valores de los datos seleccionados para la clasificación\n",
        "\n"
      ]
    },
    {
      "cell_type": "markdown",
      "metadata": {
        "id": "M05t5rCW76qb"
      },
      "source": [
        "Vamos a comprobar los valores únicos."
      ]
    },
    {
      "cell_type": "code",
      "execution_count": null,
      "metadata": {
        "colab": {
          "base_uri": "https://localhost:8080/"
        },
        "id": "MzeP47tG76qb",
        "outputId": "90122b64-0ad0-4004-b437-a93794c66087"
      },
      "outputs": [
        {
          "data": {
            "text/plain": [
              "array(['real estate transactions', 'buying a car', 'going to university',\n",
              "       'wedding ceremony'], dtype=object)"
            ]
          },
          "execution_count": 62,
          "metadata": {},
          "output_type": "execute_result"
        }
      ],
      "source": [
        "data['purpose'].unique()# Comprobar los valores únicos"
      ]
    },
    {
      "cell_type": "markdown",
      "metadata": {
        "id": "jptJxkge76qb"
      },
      "source": [
        "Vamos a reducir las varias opciones que tenemos."
      ]
    },
    {
      "cell_type": "code",
      "execution_count": null,
      "metadata": {
        "colab": {
          "base_uri": "https://localhost:8080/"
        },
        "id": "qNw0wMFp76qc",
        "outputId": "68948764-7447-4dc5-ed27-93c7bbffa770"
      },
      "outputs": [
        {
          "data": {
            "text/plain": [
              "real estate            10839\n",
              "buying a car            4315\n",
              "going to university     4022\n",
              "wedding ceremony        2348\n",
              "Name: purpose, dtype: int64"
            ]
          },
          "execution_count": 63,
          "metadata": {},
          "output_type": "execute_result"
        }
      ],
      "source": [
        "from nltk.stem import SnowballStemmer \n",
        "english_stemmer = SnowballStemmer('english')\n",
        "\n",
        "def cat_purpose(purpose):\n",
        "    for word in purpose.split(' '):\n",
        "        if 'car' == english_stemmer.stem(word):\n",
        "           return 'buying a car'\n",
        "        if 'wed' == english_stemmer.stem(word):      \n",
        "           return 'wedding ceremony'\n",
        "        if ('educ' == english_stemmer.stem(word) or 'univers' == english_stemmer.stem(word)):   \n",
        "           return 'going to university'\n",
        "        if ('hous' == english_stemmer.stem(word) or 'properti' == english_stemmer.stem(word) or 'estat' == english_stemmer.stem(word)):\n",
        "           return 'real estate'\n",
        "    \n",
        "    return purpose\n",
        "\n",
        "data['purpose'] = data['purpose'].apply(cat_purpose)\n",
        "data['purpose'].value_counts()# Escribamos una función para clasificar los datos en función de temas comunes\n"
      ]
    },
    {
      "cell_type": "code",
      "execution_count": null,
      "metadata": {
        "colab": {
          "base_uri": "https://localhost:8080/",
          "height": 206
        },
        "id": "lscMgh7Z76qc",
        "outputId": "a8aca07e-f388-49e5-f7c5-6c0f66e444f6"
      },
      "outputs": [
        {
          "data": {
            "text/html": [
              "<div>\n",
              "<style scoped>\n",
              "    .dataframe tbody tr th:only-of-type {\n",
              "        vertical-align: middle;\n",
              "    }\n",
              "\n",
              "    .dataframe tbody tr th {\n",
              "        vertical-align: top;\n",
              "    }\n",
              "\n",
              "    .dataframe thead th {\n",
              "        text-align: right;\n",
              "    }\n",
              "</style>\n",
              "<table border=\"1\" class=\"dataframe\">\n",
              "  <thead>\n",
              "    <tr style=\"text-align: right;\">\n",
              "      <th></th>\n",
              "      <th>children</th>\n",
              "      <th>days_employed</th>\n",
              "      <th>dob_years</th>\n",
              "      <th>education</th>\n",
              "      <th>education_id</th>\n",
              "      <th>family_status</th>\n",
              "      <th>family_status_id</th>\n",
              "      <th>gender</th>\n",
              "      <th>income_type</th>\n",
              "      <th>debt</th>\n",
              "      <th>total_income</th>\n",
              "      <th>purpose</th>\n",
              "      <th>dob_years_id</th>\n",
              "      <th>purpose_category</th>\n",
              "    </tr>\n",
              "  </thead>\n",
              "  <tbody>\n",
              "    <tr>\n",
              "      <th>0</th>\n",
              "      <td>1</td>\n",
              "      <td>8437.673028</td>\n",
              "      <td>42</td>\n",
              "      <td>bachelor's degree</td>\n",
              "      <td>0</td>\n",
              "      <td>married</td>\n",
              "      <td>0</td>\n",
              "      <td>F</td>\n",
              "      <td>employee</td>\n",
              "      <td>0</td>\n",
              "      <td>40620.102</td>\n",
              "      <td>real estate</td>\n",
              "      <td>2</td>\n",
              "      <td>a</td>\n",
              "    </tr>\n",
              "    <tr>\n",
              "      <th>1</th>\n",
              "      <td>1</td>\n",
              "      <td>4024.803754</td>\n",
              "      <td>36</td>\n",
              "      <td>secondary education</td>\n",
              "      <td>1</td>\n",
              "      <td>married</td>\n",
              "      <td>0</td>\n",
              "      <td>F</td>\n",
              "      <td>employee</td>\n",
              "      <td>0</td>\n",
              "      <td>17932.802</td>\n",
              "      <td>buying a car</td>\n",
              "      <td>2</td>\n",
              "      <td>b</td>\n",
              "    </tr>\n",
              "    <tr>\n",
              "      <th>2</th>\n",
              "      <td>0</td>\n",
              "      <td>5623.422610</td>\n",
              "      <td>33</td>\n",
              "      <td>secondary education</td>\n",
              "      <td>1</td>\n",
              "      <td>married</td>\n",
              "      <td>0</td>\n",
              "      <td>M</td>\n",
              "      <td>employee</td>\n",
              "      <td>0</td>\n",
              "      <td>23341.752</td>\n",
              "      <td>real estate</td>\n",
              "      <td>1</td>\n",
              "      <td>a</td>\n",
              "    </tr>\n",
              "    <tr>\n",
              "      <th>3</th>\n",
              "      <td>3</td>\n",
              "      <td>4124.747207</td>\n",
              "      <td>32</td>\n",
              "      <td>secondary education</td>\n",
              "      <td>1</td>\n",
              "      <td>married</td>\n",
              "      <td>0</td>\n",
              "      <td>M</td>\n",
              "      <td>employee</td>\n",
              "      <td>0</td>\n",
              "      <td>42820.568</td>\n",
              "      <td>going to university</td>\n",
              "      <td>1</td>\n",
              "      <td>c</td>\n",
              "    </tr>\n",
              "    <tr>\n",
              "      <th>4</th>\n",
              "      <td>0</td>\n",
              "      <td>340266.072047</td>\n",
              "      <td>53</td>\n",
              "      <td>secondary education</td>\n",
              "      <td>1</td>\n",
              "      <td>civil partnership</td>\n",
              "      <td>1</td>\n",
              "      <td>F</td>\n",
              "      <td>retiree</td>\n",
              "      <td>0</td>\n",
              "      <td>25378.572</td>\n",
              "      <td>wedding ceremony</td>\n",
              "      <td>3</td>\n",
              "      <td>d</td>\n",
              "    </tr>\n",
              "  </tbody>\n",
              "</table>\n",
              "</div>"
            ],
            "text/plain": [
              "   children  days_employed  dob_years            education  education_id  \\\n",
              "0         1    8437.673028         42    bachelor's degree             0   \n",
              "1         1    4024.803754         36  secondary education             1   \n",
              "2         0    5623.422610         33  secondary education             1   \n",
              "3         3    4124.747207         32  secondary education             1   \n",
              "4         0  340266.072047         53  secondary education             1   \n",
              "\n",
              "       family_status  family_status_id gender income_type  debt  total_income  \\\n",
              "0            married                 0      F    employee     0     40620.102   \n",
              "1            married                 0      F    employee     0     17932.802   \n",
              "2            married                 0      M    employee     0     23341.752   \n",
              "3            married                 0      M    employee     0     42820.568   \n",
              "4  civil partnership                 1      F     retiree     0     25378.572   \n",
              "\n",
              "               purpose  dob_years_id purpose_category  \n",
              "0          real estate             2                a  \n",
              "1         buying a car             2                b  \n",
              "2          real estate             1                a  \n",
              "3  going to university             1                c  \n",
              "4     wedding ceremony             3                d  "
            ]
          },
          "execution_count": 64,
          "metadata": {},
          "output_type": "execute_result"
        }
      ],
      "source": [
        "data['purpose_category'] = data['purpose'].replace(['real estate', 'buying a car', 'going to university', 'wedding ceremony'], ['a', 'b', 'c', 'd'])\n",
        "data.head()\n",
        "# Columna con las categorías y la cuenta los valores en ellas.\n",
        "\n"
      ]
    },
    {
      "cell_type": "markdown",
      "metadata": {
        "id": "Qy3MLcYw76qc"
      },
      "source": [
        "Aquí creamos una categoría con letras para definir cad auna de las `purpose`a las que redujimos. Obtuvimos un 4 objetivos por los que las personas piden un préstamo personal y le asignamos una letra a cada uno."
      ]
    },
    {
      "cell_type": "code",
      "execution_count": null,
      "metadata": {
        "colab": {
          "base_uri": "https://localhost:8080/"
        },
        "id": "oE7yidcI76qc",
        "outputId": "f914fcf1-3a76-4c01-bcc6-d7025b0a5e1a"
      },
      "outputs": [
        {
          "data": {
            "text/plain": [
              "count     21524.000000\n",
              "mean      26787.297157\n",
              "std       15621.580646\n",
              "min        3306.762000\n",
              "25%       17247.356500\n",
              "50%       25021.895500\n",
              "75%       31286.192250\n",
              "max      362496.645000\n",
              "Name: total_income, dtype: float64"
            ]
          },
          "execution_count": 65,
          "metadata": {},
          "output_type": "execute_result"
        }
      ],
      "source": [
        "data['total_income'].describe()# Obtener estadísticas resumidas para la columna\n",
        "\n"
      ]
    },
    {
      "cell_type": "markdown",
      "metadata": {
        "id": "3GDg0qmD76qc"
      },
      "source": [
        "Vamos a agrupar por rangos de `income_type`, del mayor a menor irán los clientes clasificados de la A a la F sólo para separarlos por sectores de ingresos."
      ]
    },
    {
      "cell_type": "code",
      "execution_count": null,
      "metadata": {
        "id": "nqcDfFBz76qc"
      },
      "outputs": [],
      "source": [
        "def cat_income (total_income):\n",
        "    if total_income <15000 :\n",
        "        return 'F'\n",
        "    if total_income <20000 :\n",
        "        return 'E'\n",
        "    if total_income <25000 :\n",
        "        return 'D'\n",
        "    if total_income <30000 :\n",
        "        return 'C'\n",
        "    if total_income <40000 :\n",
        "        return 'B'\n",
        "    return 'A' # Función para clasificar en diferentes grupos numéricos basándose en rangos\n",
        "\n"
      ]
    },
    {
      "cell_type": "markdown",
      "metadata": {
        "id": "pqDR64iMBEc1"
      },
      "source": [
        "Utilizamos este rango de A, B, C, D, E y F que está dividido en rangos de 5 mil de acuerdo a los valores del describe.() para cada cuartil aproximadamente y tomando en cuenta que existen algunos valores por debajo y encima de los valores promedio o medios."
      ]
    },
    {
      "cell_type": "code",
      "execution_count": null,
      "metadata": {
        "colab": {
          "base_uri": "https://localhost:8080/"
        },
        "id": "OfGrX8Lo76qc",
        "outputId": "1e2dbc67-037a-481c-b64d-8e2fec0e4a4a"
      },
      "outputs": [
        {
          "data": {
            "text/plain": [
              "0    A\n",
              "1    E\n",
              "2    D\n",
              "3    A\n",
              "4    C\n",
              "5    A\n",
              "6    B\n",
              "7    D\n",
              "8    E\n",
              "9    D\n",
              "Name: group_income, dtype: object"
            ]
          },
          "execution_count": 67,
          "metadata": {},
          "output_type": "execute_result"
        }
      ],
      "source": [
        "data['group_income'] = data['total_income'].apply(cat_income)\n",
        "data['group_income'].head(10)# Columna con categorías\n"
      ]
    },
    {
      "cell_type": "code",
      "execution_count": null,
      "metadata": {
        "colab": {
          "base_uri": "https://localhost:8080/"
        },
        "id": "HK5uRoh_76qd",
        "outputId": "3c56cb84-abb8-4e35-97c5-2c9adf553649",
        "scrolled": true
      },
      "outputs": [
        {
          "data": {
            "text/plain": [
              "C    4858\n",
              "F    3743\n",
              "E    3626\n",
              "D    3379\n",
              "B    3106\n",
              "A    2812\n",
              "Name: group_income, dtype: int64"
            ]
          },
          "execution_count": 68,
          "metadata": {},
          "output_type": "execute_result"
        }
      ],
      "source": [
        "data['group_income'].value_counts()# Cuenta los valores de cada categoría para ver la distribución"
      ]
    },
    {
      "cell_type": "markdown",
      "metadata": {
        "id": "vM6gxx5Y76qd"
      },
      "source": [
        "## Comprobación de las hipótesis\n"
      ]
    },
    {
      "cell_type": "markdown",
      "metadata": {
        "id": "CPnTcGH276qd"
      },
      "source": [
        "**¿Existe una correlación entre tener hijos y pagar a tiempo?**"
      ]
    },
    {
      "cell_type": "code",
      "execution_count": null,
      "metadata": {
        "id": "YGWsvlFb76qd"
      },
      "outputs": [],
      "source": [
        "def hay_children(children):\n",
        "    if children == 0 :\n",
        "        return 'no'\n",
        "    return 'yes'\n",
        "\n",
        "data['yes_children'] = data['children'].apply(hay_children)\n",
        "\n",
        "def hay_debt(debt):\n",
        "    if debt == 0 :\n",
        "        return 'no debt'\n",
        "    return 'debt'\n",
        "\n",
        "data['yes_debt'] = data['debt'].apply(hay_debt)\n",
        "# Comprueba los datos sobre los hijos y los pagos puntuales\n",
        "\n",
        "# Calcular la tasa de incumplimiento en función del número de hijos\n",
        "\n"
      ]
    },
    {
      "cell_type": "code",
      "execution_count": null,
      "metadata": {
        "colab": {
          "base_uri": "https://localhost:8080/"
        },
        "id": "XgBYbHqFxp4D",
        "outputId": "94ddf1ae-003b-4b3c-f5df-f3883cfa4f53"
      },
      "outputs": [
        {
          "data": {
            "text/plain": [
              "yes_debt  yes_children\n",
              "debt      no              0.610569\n",
              "          yes             0.389431\n",
              "no debt   no              0.661426\n",
              "          yes             0.338574\n",
              "Name: yes_children, dtype: float64"
            ]
          },
          "execution_count": 70,
          "metadata": {},
          "output_type": "execute_result"
        }
      ],
      "source": [
        "data.groupby('yes_debt')['yes_children'].value_counts(normalize=True)\n",
        "\n"
      ]
    },
    {
      "cell_type": "markdown",
      "metadata": {
        "id": "QfnqDj7Z76qd"
      },
      "source": [
        "**Conclusión**\n",
        "\n",
        "La existencia de hijos no parece ser un factor significativo de la deuda en las familias. Son menos las familias que tienen hijos y sin deudas que familias sin hijos y con deudas."
      ]
    },
    {
      "cell_type": "markdown",
      "metadata": {
        "id": "b1BLfBBa76qd"
      },
      "source": [
        "**¿Existe una correlación entre la situación familiar y el pago a tiempo?**"
      ]
    },
    {
      "cell_type": "code",
      "execution_count": null,
      "metadata": {
        "colab": {
          "base_uri": "https://localhost:8080/"
        },
        "id": "WBhuXDoK76qd",
        "outputId": "b33e0499-3e85-4d23-cbe8-a91be6d1b50e"
      },
      "outputs": [
        {
          "data": {
            "text/plain": [
              "yes_debt  family_status    \n",
              "debt      married              0.534750\n",
              "          civil partnership    0.222860\n",
              "          unmarried            0.157381\n",
              "          divorced             0.048823\n",
              "          widow / widower      0.036186\n",
              "no debt   married              0.578729\n",
              "          civil partnership    0.191478\n",
              "          unmarried            0.128343\n",
              "          divorced             0.056109\n",
              "          widow / widower      0.045342\n",
              "Name: family_status, dtype: float64"
            ]
          },
          "execution_count": 71,
          "metadata": {},
          "output_type": "execute_result"
        }
      ],
      "source": [
        "data.groupby('yes_debt')['family_status'].value_counts(normalize=True)# Comprueba los datos del estado familiar y los pagos a tiempo\n",
        "\n",
        "\n",
        "\n",
        "# Calcular la tasa de incumplimiento basada en el estado familiar\n",
        "\n"
      ]
    },
    {
      "cell_type": "markdown",
      "metadata": {
        "id": "sEZFPlCN76qd"
      },
      "source": [
        "**Conclusión**\n",
        "\n",
        "Las familias casadas están en mayor probabilidad de incumplimiento, seguido de las uniones libres, solteros, divorciados y viudos."
      ]
    },
    {
      "cell_type": "markdown",
      "metadata": {
        "id": "HX2Aj8u_76qd"
      },
      "source": [
        "**¿Existe una correlación entre el nivel de ingresos y el pago a tiempo?**"
      ]
    },
    {
      "cell_type": "code",
      "execution_count": null,
      "metadata": {
        "colab": {
          "base_uri": "https://localhost:8080/"
        },
        "id": "A814m6Dn76qe",
        "outputId": "8b50c34a-6d25-4c16-ab16-f5cc2ad616d5"
      },
      "outputs": [
        {
          "data": {
            "text/plain": [
              "yes_debt  group_income\n",
              "debt      C               0.234922\n",
              "          E               0.178059\n",
              "          F               0.171166\n",
              "          D               0.165422\n",
              "          B               0.139001\n",
              "          A               0.111430\n",
              "no debt   C               0.224890\n",
              "          F               0.174139\n",
              "          E               0.167619\n",
              "          D               0.156245\n",
              "          B               0.144771\n",
              "          A               0.132336\n",
              "Name: group_income, dtype: float64"
            ]
          },
          "execution_count": 72,
          "metadata": {},
          "output_type": "execute_result"
        }
      ],
      "source": [
        "data.groupby('yes_debt')['group_income'].value_counts(normalize=True)# Comprueba los datos del nivel de ingresos y los pagos a tiempo\n",
        "\n",
        "\n",
        "\n",
        "# Calcular la tasa de incumplimiento basada en el nivel de ingresos\n",
        "\n"
      ]
    },
    {
      "cell_type": "markdown",
      "metadata": {
        "id": "6f7FoNUO76qe"
      },
      "source": [
        "**Conclusión**\n",
        "\n",
        "Las personas dentro de las 3 categorías de menor ingreso, están más alineados con el incumplimiento (D, E y F), mientras que las personas dentro de las primeras 3 categorías de alto ingreso (A, B y C) existen en menor proporción dentro del análisis de la deuda."
      ]
    },
    {
      "cell_type": "markdown",
      "metadata": {
        "id": "gf_ftOZu76qe"
      },
      "source": [
        "**¿Cómo afecta el propósito del crédito a la tasa de incumplimiento?**"
      ]
    },
    {
      "cell_type": "code",
      "execution_count": null,
      "metadata": {
        "colab": {
          "base_uri": "https://localhost:8080/"
        },
        "id": "TGIHNgQc76qe",
        "outputId": "f1fabcc9-b09a-47e2-a74d-96de77edb324"
      },
      "outputs": [
        {
          "data": {
            "text/plain": [
              "yes_debt  purpose            \n",
              "debt      real estate            0.449167\n",
              "          buying a car           0.231476\n",
              "          going to university    0.212522\n",
              "          wedding ceremony       0.106835\n",
              "no debt   real estate            0.508366\n",
              "          buying a car           0.197746\n",
              "          going to university    0.184603\n",
              "          wedding ceremony       0.109286\n",
              "Name: purpose, dtype: float64"
            ]
          },
          "execution_count": 73,
          "metadata": {},
          "output_type": "execute_result"
        }
      ],
      "source": [
        "data.groupby('yes_debt')['purpose'].value_counts(normalize=True)\n",
        "# Consulta los porcentajes de tasa de incumplimiento para cada propósito del crédito y analízalos\n",
        "\n"
      ]
    },
    {
      "cell_type": "markdown",
      "metadata": {
        "id": "5FlqKnf076qe"
      },
      "source": [
        "**Conclusión**\n",
        "\n",
        "De acuerdo a los datos que acabamos de obtener sobre el dataframe y sobre como se interrelacionan con respecto de una variable podemos observar que cuando el propósito del préstamo está relacionado con los bienes raíces es cuando se tiende en mayor proporción hacia el incumplimiento de los pagos."
      ]
    },
    {
      "cell_type": "markdown",
      "metadata": {
        "id": "TtyNfWvC76qe"
      },
      "source": [
        "# Conclusión general"
      ]
    },
    {
      "cell_type": "markdown",
      "metadata": {
        "id": "HEgoqpvVBEc6"
      },
      "source": [
        "* A lo largo del proyecto pudimos encontrar que había ciertos valores ausentes y atípicos en las columnas que fue necesario reparar para continuar con un análisis más confiable. Lso datos que tuvimos que restaurar se encontraban en las columnas de `days_employed`y `total_income`. Lo que hicimos fue rellenar los valores ausentes con mediana y media respectivamente para evitar la eliminación de datos que podría causar algún patrón en la distribución del dataframe.\n",
        "* No encontramos una relación concreta entre el ingreso y el incumplimiento de pagos.\n",
        "* Después de los cambios que realizamos en los datos, especialmente en `children` podemos asumir que la existencia de hijos no afecta el cumplimiento de las familias del dataframe para realizar los pagos.\n",
        "* En la población, aquellos con estado civil 'married' resultaron ser aquellos que en mayor proporción tienen tendencia al incumplimiento de los pagos.\n",
        "* También las personas que tienen objetivos relacionados con los bienes raíces al momento de obtener un préstamo, son los que podrían tener atraso de pago."
      ]
    }
  ],
  "metadata": {
    "ExecuteTimeLog": [
      {
        "duration": 2741,
        "start_time": "2021-10-21T01:08:49.480Z"
      },
      {
        "duration": 52,
        "start_time": "2021-10-21T01:08:53.315Z"
      },
      {
        "duration": 49,
        "start_time": "2021-10-21T01:08:57.432Z"
      },
      {
        "duration": 70,
        "start_time": "2021-10-21T01:09:07.706Z"
      },
      {
        "duration": 71,
        "start_time": "2022-04-21T14:38:38.507Z"
      },
      {
        "duration": 535,
        "start_time": "2022-04-21T14:39:16.619Z"
      },
      {
        "duration": 478,
        "start_time": "2022-04-21T14:39:19.711Z"
      },
      {
        "duration": 5,
        "start_time": "2022-04-21T14:39:25.716Z"
      },
      {
        "duration": 13,
        "start_time": "2022-04-21T14:39:38.389Z"
      },
      {
        "duration": 22,
        "start_time": "2022-04-21T14:45:00.280Z"
      },
      {
        "duration": 5,
        "start_time": "2022-04-21T14:50:07.280Z"
      },
      {
        "duration": 54,
        "start_time": "2022-05-06T14:26:31.741Z"
      },
      {
        "duration": 935,
        "start_time": "2022-05-06T14:27:09.790Z"
      },
      {
        "duration": 3,
        "start_time": "2022-05-06T14:27:10.727Z"
      },
      {
        "duration": 13,
        "start_time": "2022-05-06T14:27:10.732Z"
      },
      {
        "duration": 18,
        "start_time": "2022-05-06T14:27:10.747Z"
      },
      {
        "duration": 4,
        "start_time": "2022-05-06T14:27:10.767Z"
      },
      {
        "duration": 48,
        "start_time": "2022-05-06T14:27:56.933Z"
      },
      {
        "duration": 3,
        "start_time": "2022-05-06T14:27:56.983Z"
      },
      {
        "duration": 14,
        "start_time": "2022-05-06T14:27:56.988Z"
      },
      {
        "duration": 22,
        "start_time": "2022-05-06T14:27:57.004Z"
      },
      {
        "duration": 5,
        "start_time": "2022-05-06T14:27:57.033Z"
      },
      {
        "duration": 42,
        "start_time": "2022-05-06T14:27:59.955Z"
      },
      {
        "duration": 48,
        "start_time": "2022-05-06T14:28:15.307Z"
      },
      {
        "duration": 4,
        "start_time": "2022-05-06T14:28:15.357Z"
      },
      {
        "duration": 15,
        "start_time": "2022-05-06T14:28:15.362Z"
      },
      {
        "duration": 22,
        "start_time": "2022-05-06T14:28:15.379Z"
      },
      {
        "duration": 6,
        "start_time": "2022-05-06T14:28:15.403Z"
      },
      {
        "duration": 4,
        "start_time": "2022-05-06T14:28:18.129Z"
      },
      {
        "duration": 6,
        "start_time": "2022-05-06T14:28:24.982Z"
      },
      {
        "duration": 10,
        "start_time": "2022-05-06T14:28:54.978Z"
      },
      {
        "duration": 8,
        "start_time": "2022-05-06T14:29:14.086Z"
      },
      {
        "duration": 11,
        "start_time": "2022-05-06T14:33:16.126Z"
      },
      {
        "duration": 4,
        "start_time": "2022-05-06T14:33:24.329Z"
      },
      {
        "duration": 10,
        "start_time": "2022-05-06T14:34:09.356Z"
      },
      {
        "duration": 54,
        "start_time": "2022-05-11T14:18:34.806Z"
      },
      {
        "duration": 16,
        "start_time": "2022-05-11T14:18:52.386Z"
      },
      {
        "duration": 824,
        "start_time": "2022-05-11T14:19:13.313Z"
      },
      {
        "duration": 4,
        "start_time": "2022-05-11T14:19:14.139Z"
      },
      {
        "duration": 17,
        "start_time": "2022-05-11T14:19:14.144Z"
      },
      {
        "duration": 27,
        "start_time": "2022-05-11T14:19:14.162Z"
      },
      {
        "duration": 19,
        "start_time": "2022-05-11T14:19:14.192Z"
      },
      {
        "duration": 34,
        "start_time": "2022-05-11T14:19:14.213Z"
      },
      {
        "duration": 60,
        "start_time": "2022-05-11T14:19:14.248Z"
      },
      {
        "duration": 9,
        "start_time": "2022-05-11T14:23:12.713Z"
      },
      {
        "duration": 6,
        "start_time": "2022-05-11T14:30:02.150Z"
      },
      {
        "duration": 5,
        "start_time": "2022-05-11T14:30:09.990Z"
      },
      {
        "duration": 6,
        "start_time": "2022-05-11T14:30:19.910Z"
      },
      {
        "duration": 144,
        "start_time": "2022-05-11T14:31:02.331Z"
      },
      {
        "duration": 119,
        "start_time": "2022-05-11T14:31:33.914Z"
      },
      {
        "duration": 118,
        "start_time": "2022-05-11T14:31:55.453Z"
      },
      {
        "duration": 6,
        "start_time": "2022-05-11T14:32:04.091Z"
      },
      {
        "duration": 5,
        "start_time": "2022-05-11T14:32:14.118Z"
      },
      {
        "duration": 47,
        "start_time": "2022-05-16T15:26:24.825Z"
      },
      {
        "duration": 8,
        "start_time": "2022-05-16T15:29:30.803Z"
      },
      {
        "duration": 466,
        "start_time": "2022-05-16T15:29:45.432Z"
      },
      {
        "duration": 4,
        "start_time": "2022-05-16T15:29:45.900Z"
      },
      {
        "duration": 14,
        "start_time": "2022-05-16T15:29:45.906Z"
      },
      {
        "duration": 15,
        "start_time": "2022-05-16T15:29:45.922Z"
      },
      {
        "duration": 13,
        "start_time": "2022-05-16T15:29:45.939Z"
      },
      {
        "duration": 13,
        "start_time": "2022-05-16T15:29:45.953Z"
      },
      {
        "duration": 9,
        "start_time": "2022-05-16T15:29:48.295Z"
      },
      {
        "duration": 159,
        "start_time": "2022-05-16T15:30:27.466Z"
      },
      {
        "duration": 9,
        "start_time": "2022-05-16T15:30:33.986Z"
      },
      {
        "duration": 20,
        "start_time": "2022-05-16T15:30:49.422Z"
      },
      {
        "duration": 13,
        "start_time": "2022-05-16T15:33:20.249Z"
      },
      {
        "duration": 6,
        "start_time": "2022-05-16T15:36:34.682Z"
      },
      {
        "duration": 6,
        "start_time": "2022-05-16T15:36:47.735Z"
      },
      {
        "duration": 5,
        "start_time": "2022-05-16T15:38:00.937Z"
      },
      {
        "duration": 4,
        "start_time": "2022-05-16T15:46:33.016Z"
      },
      {
        "duration": 44,
        "start_time": "2022-05-16T15:51:24.056Z"
      },
      {
        "duration": 4,
        "start_time": "2022-05-16T15:51:29.631Z"
      },
      {
        "duration": 389,
        "start_time": "2022-05-17T15:36:50.637Z"
      },
      {
        "duration": 3,
        "start_time": "2022-05-17T15:36:51.028Z"
      },
      {
        "duration": 10,
        "start_time": "2022-05-17T15:36:51.033Z"
      },
      {
        "duration": 18,
        "start_time": "2022-05-17T15:36:51.046Z"
      },
      {
        "duration": 6,
        "start_time": "2022-05-17T15:36:51.066Z"
      },
      {
        "duration": 10,
        "start_time": "2022-05-17T15:36:51.073Z"
      },
      {
        "duration": 5,
        "start_time": "2022-05-17T15:36:51.084Z"
      },
      {
        "duration": 17,
        "start_time": "2022-05-17T15:36:51.090Z"
      },
      {
        "duration": 15,
        "start_time": "2022-05-17T15:36:52.396Z"
      },
      {
        "duration": 20,
        "start_time": "2022-05-17T15:37:15.066Z"
      },
      {
        "duration": 9,
        "start_time": "2022-05-17T15:38:16.116Z"
      },
      {
        "duration": 14,
        "start_time": "2022-05-17T15:39:17.977Z"
      },
      {
        "duration": 15,
        "start_time": "2022-05-17T15:40:20.391Z"
      },
      {
        "duration": 17,
        "start_time": "2022-05-17T15:41:01.323Z"
      },
      {
        "duration": 15,
        "start_time": "2022-05-17T15:47:44.649Z"
      },
      {
        "duration": 14,
        "start_time": "2022-05-17T15:48:31.292Z"
      },
      {
        "duration": 12,
        "start_time": "2022-05-17T15:48:59.078Z"
      },
      {
        "duration": 13,
        "start_time": "2022-05-17T15:52:54.084Z"
      },
      {
        "duration": 16,
        "start_time": "2022-05-17T15:53:39.749Z"
      },
      {
        "duration": 13,
        "start_time": "2022-05-17T15:54:41.031Z"
      },
      {
        "duration": 15,
        "start_time": "2022-05-17T15:55:26.779Z"
      },
      {
        "duration": 21,
        "start_time": "2022-05-17T15:55:55.317Z"
      },
      {
        "duration": 16,
        "start_time": "2022-05-17T15:56:12.354Z"
      },
      {
        "duration": 17,
        "start_time": "2022-05-17T15:56:39.663Z"
      },
      {
        "duration": 15,
        "start_time": "2022-05-17T15:56:59.894Z"
      },
      {
        "duration": 15,
        "start_time": "2022-05-17T15:57:39.654Z"
      },
      {
        "duration": 14,
        "start_time": "2022-05-17T15:57:53.483Z"
      },
      {
        "duration": 14,
        "start_time": "2022-05-17T15:59:59.334Z"
      },
      {
        "duration": 66,
        "start_time": "2022-05-17T16:03:07.933Z"
      },
      {
        "duration": 64,
        "start_time": "2022-05-17T16:05:25.459Z"
      },
      {
        "duration": 51,
        "start_time": "2022-05-17T16:05:36.358Z"
      },
      {
        "duration": 15,
        "start_time": "2022-05-17T16:07:02.370Z"
      },
      {
        "duration": 15,
        "start_time": "2022-05-17T16:07:43.542Z"
      },
      {
        "duration": 18,
        "start_time": "2022-05-17T16:08:04.825Z"
      },
      {
        "duration": 14,
        "start_time": "2022-05-17T16:08:25.075Z"
      },
      {
        "duration": 30,
        "start_time": "2022-05-17T16:09:58.412Z"
      },
      {
        "duration": 117,
        "start_time": "2022-05-17T16:10:55.715Z"
      },
      {
        "duration": 25,
        "start_time": "2022-05-17T16:11:03.853Z"
      },
      {
        "duration": 28,
        "start_time": "2022-05-17T16:11:14.406Z"
      },
      {
        "duration": 3,
        "start_time": "2022-05-17T16:12:59.670Z"
      },
      {
        "duration": 3,
        "start_time": "2022-05-17T16:13:14.585Z"
      },
      {
        "duration": 4,
        "start_time": "2022-05-17T16:29:38.712Z"
      },
      {
        "duration": 59,
        "start_time": "2022-05-18T15:06:49.944Z"
      },
      {
        "duration": 797,
        "start_time": "2022-05-19T15:23:19.577Z"
      },
      {
        "duration": 5,
        "start_time": "2022-05-19T15:23:20.379Z"
      },
      {
        "duration": 16,
        "start_time": "2022-05-19T15:23:20.385Z"
      },
      {
        "duration": 23,
        "start_time": "2022-05-19T15:23:20.403Z"
      },
      {
        "duration": 4,
        "start_time": "2022-05-19T15:23:20.427Z"
      },
      {
        "duration": 18,
        "start_time": "2022-05-19T15:23:20.433Z"
      },
      {
        "duration": 22,
        "start_time": "2022-05-19T15:23:20.453Z"
      },
      {
        "duration": 23,
        "start_time": "2022-05-19T15:23:20.476Z"
      },
      {
        "duration": 89,
        "start_time": "2022-05-19T15:23:20.501Z"
      },
      {
        "duration": 32,
        "start_time": "2022-05-19T15:23:20.593Z"
      },
      {
        "duration": 3,
        "start_time": "2022-05-19T15:23:20.627Z"
      },
      {
        "duration": 6,
        "start_time": "2022-05-19T15:23:23.262Z"
      },
      {
        "duration": 50,
        "start_time": "2022-05-25T17:40:26.244Z"
      },
      {
        "duration": 36,
        "start_time": "2022-05-25T17:41:05.064Z"
      },
      {
        "duration": 14,
        "start_time": "2022-05-25T17:41:17.464Z"
      },
      {
        "duration": 32,
        "start_time": "2022-05-25T17:41:51.093Z"
      },
      {
        "duration": 26,
        "start_time": "2022-05-25T17:42:04.267Z"
      },
      {
        "duration": 41,
        "start_time": "2022-05-25T17:42:23.568Z"
      },
      {
        "duration": 31,
        "start_time": "2022-05-25T17:42:40.501Z"
      },
      {
        "duration": 38,
        "start_time": "2022-05-25T17:42:52.341Z"
      },
      {
        "duration": 68,
        "start_time": "2022-05-25T17:44:43.702Z"
      },
      {
        "duration": 36,
        "start_time": "2022-05-25T17:45:29.514Z"
      },
      {
        "duration": 20,
        "start_time": "2022-05-25T17:52:01.702Z"
      },
      {
        "duration": 194,
        "start_time": "2022-05-25T17:53:54.341Z"
      },
      {
        "duration": 69,
        "start_time": "2022-05-25T18:01:43.742Z"
      },
      {
        "duration": 11,
        "start_time": "2022-05-25T18:10:13.621Z"
      },
      {
        "duration": 183,
        "start_time": "2022-05-25T18:37:26.622Z"
      },
      {
        "duration": 64,
        "start_time": "2022-05-25T18:37:38.461Z"
      },
      {
        "duration": 84,
        "start_time": "2022-05-25T18:37:40.314Z"
      },
      {
        "duration": 3,
        "start_time": "2022-05-25T18:45:15.462Z"
      },
      {
        "duration": 9,
        "start_time": "2022-05-25T18:45:15.468Z"
      },
      {
        "duration": 19,
        "start_time": "2022-05-25T18:45:15.479Z"
      },
      {
        "duration": 4,
        "start_time": "2022-05-25T18:45:16.262Z"
      },
      {
        "duration": 13,
        "start_time": "2022-05-25T18:45:16.267Z"
      },
      {
        "duration": 3,
        "start_time": "2022-05-25T18:45:16.562Z"
      },
      {
        "duration": 164,
        "start_time": "2022-05-25T18:45:16.568Z"
      },
      {
        "duration": 9,
        "start_time": "2022-05-25T18:45:16.734Z"
      },
      {
        "duration": 48,
        "start_time": "2022-05-25T18:45:18.083Z"
      },
      {
        "duration": 4,
        "start_time": "2022-05-25T18:45:18.133Z"
      },
      {
        "duration": 16,
        "start_time": "2022-05-25T18:45:18.139Z"
      },
      {
        "duration": 6,
        "start_time": "2022-05-25T18:45:18.157Z"
      },
      {
        "duration": 11,
        "start_time": "2022-05-25T18:45:18.165Z"
      },
      {
        "duration": 10,
        "start_time": "2022-05-25T18:45:18.178Z"
      },
      {
        "duration": 7,
        "start_time": "2022-05-25T18:45:21.843Z"
      },
      {
        "duration": 17,
        "start_time": "2022-05-25T18:45:21.851Z"
      },
      {
        "duration": 36,
        "start_time": "2022-05-25T18:45:22.174Z"
      },
      {
        "duration": 31,
        "start_time": "2022-05-25T18:45:22.212Z"
      },
      {
        "duration": 37,
        "start_time": "2022-05-25T18:45:22.245Z"
      },
      {
        "duration": 12,
        "start_time": "2022-05-25T18:45:22.284Z"
      },
      {
        "duration": 14,
        "start_time": "2022-05-25T18:45:22.298Z"
      },
      {
        "duration": 6,
        "start_time": "2022-05-25T18:45:22.314Z"
      },
      {
        "duration": 6,
        "start_time": "2022-05-25T18:45:22.491Z"
      },
      {
        "duration": 5,
        "start_time": "2022-05-25T18:45:22.499Z"
      },
      {
        "duration": 11,
        "start_time": "2022-05-25T18:45:22.506Z"
      },
      {
        "duration": 18,
        "start_time": "2022-05-25T18:45:22.519Z"
      },
      {
        "duration": 6,
        "start_time": "2022-05-25T18:45:22.539Z"
      },
      {
        "duration": 7,
        "start_time": "2022-05-25T18:45:22.546Z"
      },
      {
        "duration": 8,
        "start_time": "2022-05-25T18:45:22.783Z"
      },
      {
        "duration": 10,
        "start_time": "2022-05-25T18:45:22.792Z"
      },
      {
        "duration": 5,
        "start_time": "2022-05-25T18:45:22.803Z"
      },
      {
        "duration": 25,
        "start_time": "2022-05-25T18:45:22.810Z"
      },
      {
        "duration": 18,
        "start_time": "2022-05-25T18:45:22.837Z"
      },
      {
        "duration": 19,
        "start_time": "2022-05-25T18:45:22.857Z"
      },
      {
        "duration": 15,
        "start_time": "2022-05-25T18:45:22.878Z"
      },
      {
        "duration": 10,
        "start_time": "2022-05-25T18:45:22.894Z"
      },
      {
        "duration": 9,
        "start_time": "2022-05-25T18:45:23.071Z"
      },
      {
        "duration": 9,
        "start_time": "2022-05-25T18:45:23.082Z"
      },
      {
        "duration": 5,
        "start_time": "2022-05-25T18:45:23.093Z"
      },
      {
        "duration": 6,
        "start_time": "2022-05-25T18:45:23.100Z"
      },
      {
        "duration": 22,
        "start_time": "2022-05-25T18:45:23.108Z"
      },
      {
        "duration": 9,
        "start_time": "2022-05-25T18:45:23.132Z"
      },
      {
        "duration": 16,
        "start_time": "2022-05-25T18:45:23.143Z"
      },
      {
        "duration": 11,
        "start_time": "2022-05-25T18:45:23.160Z"
      },
      {
        "duration": 7,
        "start_time": "2022-05-25T18:45:23.173Z"
      },
      {
        "duration": 8,
        "start_time": "2022-05-25T18:45:23.182Z"
      },
      {
        "duration": 9,
        "start_time": "2022-05-25T18:45:23.192Z"
      },
      {
        "duration": 6,
        "start_time": "2022-05-25T18:45:23.342Z"
      },
      {
        "duration": 7,
        "start_time": "2022-05-25T18:45:23.350Z"
      },
      {
        "duration": 7,
        "start_time": "2022-05-25T18:45:23.359Z"
      },
      {
        "duration": 2,
        "start_time": "2022-05-25T18:45:23.368Z"
      },
      {
        "duration": 16,
        "start_time": "2022-05-25T18:45:23.372Z"
      },
      {
        "duration": 5,
        "start_time": "2022-05-25T18:45:23.390Z"
      },
      {
        "duration": 17,
        "start_time": "2022-05-25T18:45:23.621Z"
      },
      {
        "duration": 17,
        "start_time": "2022-05-25T18:45:23.641Z"
      },
      {
        "duration": 7,
        "start_time": "2022-05-25T18:45:23.660Z"
      },
      {
        "duration": 9,
        "start_time": "2022-05-25T18:45:23.668Z"
      },
      {
        "duration": 6,
        "start_time": "2022-05-25T18:45:23.680Z"
      },
      {
        "duration": 7,
        "start_time": "2022-05-25T18:45:23.688Z"
      },
      {
        "duration": 5,
        "start_time": "2022-05-25T18:45:23.696Z"
      },
      {
        "duration": 15,
        "start_time": "2022-05-25T18:45:23.702Z"
      },
      {
        "duration": 12,
        "start_time": "2022-05-25T18:45:23.719Z"
      },
      {
        "duration": 19,
        "start_time": "2022-05-25T18:45:23.734Z"
      },
      {
        "duration": 2877,
        "start_time": "2022-05-25T18:45:23.755Z"
      },
      {
        "duration": 35,
        "start_time": "2022-05-25T18:45:26.634Z"
      },
      {
        "duration": 3,
        "start_time": "2022-05-25T18:45:26.671Z"
      },
      {
        "duration": 16,
        "start_time": "2022-05-25T18:45:26.677Z"
      },
      {
        "duration": 5,
        "start_time": "2022-05-25T18:45:26.694Z"
      },
      {
        "duration": 17,
        "start_time": "2022-05-25T18:45:26.700Z"
      },
      {
        "duration": 7,
        "start_time": "2022-05-25T18:45:26.719Z"
      },
      {
        "duration": 46,
        "start_time": "2022-05-25T18:45:26.727Z"
      },
      {
        "duration": 13,
        "start_time": "2022-05-25T18:45:26.775Z"
      },
      {
        "duration": 12,
        "start_time": "2022-05-25T18:45:26.789Z"
      },
      {
        "duration": 13,
        "start_time": "2022-05-25T18:45:26.803Z"
      },
      {
        "duration": 47,
        "start_time": "2022-05-25T18:45:26.818Z"
      },
      {
        "duration": 29,
        "start_time": "2022-05-25T19:59:15.424Z"
      },
      {
        "duration": 19,
        "start_time": "2022-05-25T20:00:12.404Z"
      },
      {
        "duration": 48,
        "start_time": "2022-05-25T20:04:07.623Z"
      },
      {
        "duration": 467,
        "start_time": "2022-05-25T21:04:58.674Z"
      },
      {
        "duration": 4,
        "start_time": "2022-05-25T21:05:10.805Z"
      },
      {
        "duration": 12,
        "start_time": "2022-05-25T21:05:10.811Z"
      },
      {
        "duration": 17,
        "start_time": "2022-05-25T21:05:10.825Z"
      },
      {
        "duration": 3,
        "start_time": "2022-05-25T21:05:10.844Z"
      },
      {
        "duration": 10,
        "start_time": "2022-05-25T21:05:10.849Z"
      },
      {
        "duration": 8,
        "start_time": "2022-05-25T21:05:10.860Z"
      },
      {
        "duration": 19,
        "start_time": "2022-05-25T21:05:10.869Z"
      },
      {
        "duration": 9,
        "start_time": "2022-05-25T21:05:10.889Z"
      },
      {
        "duration": 34,
        "start_time": "2022-05-25T21:05:10.900Z"
      },
      {
        "duration": 4,
        "start_time": "2022-05-25T21:05:11.073Z"
      },
      {
        "duration": 11,
        "start_time": "2022-05-25T21:05:11.079Z"
      },
      {
        "duration": 6,
        "start_time": "2022-05-25T21:05:11.091Z"
      },
      {
        "duration": 12,
        "start_time": "2022-05-25T21:05:11.099Z"
      },
      {
        "duration": 4,
        "start_time": "2022-05-25T21:05:11.113Z"
      },
      {
        "duration": 7,
        "start_time": "2022-05-25T21:05:11.118Z"
      },
      {
        "duration": 10,
        "start_time": "2022-05-25T21:05:11.126Z"
      },
      {
        "duration": 41,
        "start_time": "2022-05-25T21:05:11.137Z"
      },
      {
        "duration": 36,
        "start_time": "2022-05-25T21:05:11.179Z"
      },
      {
        "duration": 54,
        "start_time": "2022-05-25T21:05:11.217Z"
      },
      {
        "duration": 14,
        "start_time": "2022-05-25T21:05:11.272Z"
      },
      {
        "duration": 8,
        "start_time": "2022-05-25T21:05:11.287Z"
      },
      {
        "duration": 6,
        "start_time": "2022-05-25T21:05:11.297Z"
      },
      {
        "duration": 4,
        "start_time": "2022-05-25T21:05:11.306Z"
      },
      {
        "duration": 6,
        "start_time": "2022-05-25T21:05:11.311Z"
      },
      {
        "duration": 6,
        "start_time": "2022-05-25T21:05:11.319Z"
      },
      {
        "duration": 6,
        "start_time": "2022-05-25T21:05:11.357Z"
      },
      {
        "duration": 6,
        "start_time": "2022-05-25T21:05:11.365Z"
      },
      {
        "duration": 7,
        "start_time": "2022-05-25T21:05:11.372Z"
      },
      {
        "duration": 11,
        "start_time": "2022-05-25T21:05:11.381Z"
      },
      {
        "duration": 4,
        "start_time": "2022-05-25T21:05:11.394Z"
      },
      {
        "duration": 5,
        "start_time": "2022-05-25T21:05:11.399Z"
      },
      {
        "duration": 21,
        "start_time": "2022-05-25T21:05:11.406Z"
      },
      {
        "duration": 33,
        "start_time": "2022-05-25T21:05:11.428Z"
      },
      {
        "duration": 22,
        "start_time": "2022-05-25T21:05:11.462Z"
      },
      {
        "duration": 13,
        "start_time": "2022-05-25T21:05:11.485Z"
      },
      {
        "duration": 9,
        "start_time": "2022-05-25T21:05:11.500Z"
      },
      {
        "duration": 8,
        "start_time": "2022-05-25T21:05:11.510Z"
      },
      {
        "duration": 32,
        "start_time": "2022-05-25T21:05:11.520Z"
      },
      {
        "duration": 3,
        "start_time": "2022-05-25T21:05:11.555Z"
      },
      {
        "duration": 6,
        "start_time": "2022-05-25T21:05:11.559Z"
      },
      {
        "duration": 15,
        "start_time": "2022-05-25T21:05:11.566Z"
      },
      {
        "duration": 5,
        "start_time": "2022-05-25T21:05:11.582Z"
      },
      {
        "duration": 11,
        "start_time": "2022-05-25T21:05:11.588Z"
      },
      {
        "duration": 5,
        "start_time": "2022-05-25T21:05:11.601Z"
      },
      {
        "duration": 45,
        "start_time": "2022-05-25T21:05:11.608Z"
      },
      {
        "duration": 5,
        "start_time": "2022-05-25T21:05:11.654Z"
      },
      {
        "duration": 6,
        "start_time": "2022-05-25T21:05:11.661Z"
      },
      {
        "duration": 8,
        "start_time": "2022-05-25T21:05:11.668Z"
      },
      {
        "duration": 11,
        "start_time": "2022-05-25T21:05:11.677Z"
      },
      {
        "duration": 7,
        "start_time": "2022-05-25T21:05:11.690Z"
      },
      {
        "duration": 4,
        "start_time": "2022-05-25T21:05:11.698Z"
      },
      {
        "duration": 16,
        "start_time": "2022-05-25T21:05:11.704Z"
      },
      {
        "duration": 6,
        "start_time": "2022-05-25T21:05:11.721Z"
      },
      {
        "duration": 5,
        "start_time": "2022-05-25T21:05:11.751Z"
      },
      {
        "duration": 6,
        "start_time": "2022-05-25T21:05:11.758Z"
      },
      {
        "duration": 4,
        "start_time": "2022-05-25T21:05:11.765Z"
      },
      {
        "duration": 6,
        "start_time": "2022-05-25T21:05:11.770Z"
      },
      {
        "duration": 8,
        "start_time": "2022-05-25T21:05:11.778Z"
      },
      {
        "duration": 8,
        "start_time": "2022-05-25T21:05:11.787Z"
      },
      {
        "duration": 7,
        "start_time": "2022-05-25T21:05:11.796Z"
      },
      {
        "duration": 13,
        "start_time": "2022-05-25T21:05:11.805Z"
      },
      {
        "duration": 8,
        "start_time": "2022-05-25T21:05:11.819Z"
      },
      {
        "duration": 8,
        "start_time": "2022-05-25T21:05:11.852Z"
      },
      {
        "duration": 3792,
        "start_time": "2022-05-25T21:05:11.864Z"
      },
      {
        "duration": 18,
        "start_time": "2022-05-25T21:05:15.657Z"
      },
      {
        "duration": 4,
        "start_time": "2022-05-25T21:05:15.676Z"
      },
      {
        "duration": 14,
        "start_time": "2022-05-25T21:05:15.682Z"
      },
      {
        "duration": 3,
        "start_time": "2022-05-25T21:05:15.698Z"
      },
      {
        "duration": 20,
        "start_time": "2022-05-25T21:05:15.703Z"
      },
      {
        "duration": 14,
        "start_time": "2022-05-25T21:05:15.725Z"
      },
      {
        "duration": 23,
        "start_time": "2022-05-25T21:05:15.741Z"
      },
      {
        "duration": 10,
        "start_time": "2022-05-25T21:05:15.766Z"
      },
      {
        "duration": 10,
        "start_time": "2022-05-25T21:05:15.777Z"
      },
      {
        "duration": 9,
        "start_time": "2022-05-25T21:05:15.789Z"
      },
      {
        "duration": 9,
        "start_time": "2022-05-25T21:05:15.800Z"
      },
      {
        "duration": 16,
        "start_time": "2022-05-25T21:40:48.160Z"
      },
      {
        "duration": 24,
        "start_time": "2022-05-25T21:40:57.719Z"
      },
      {
        "duration": 11,
        "start_time": "2022-05-25T21:42:39.396Z"
      },
      {
        "duration": 17,
        "start_time": "2022-05-25T21:43:27.220Z"
      },
      {
        "duration": 29,
        "start_time": "2022-05-25T21:44:11.699Z"
      },
      {
        "duration": 5,
        "start_time": "2022-05-25T22:29:40.040Z"
      },
      {
        "duration": 5,
        "start_time": "2022-05-25T22:30:08.589Z"
      },
      {
        "duration": 5,
        "start_time": "2022-05-25T22:30:13.789Z"
      },
      {
        "duration": 116,
        "start_time": "2022-05-25T22:31:49.093Z"
      },
      {
        "duration": 6,
        "start_time": "2022-05-25T22:32:37.728Z"
      },
      {
        "duration": 7,
        "start_time": "2022-05-25T22:32:43.749Z"
      },
      {
        "duration": 9,
        "start_time": "2022-05-25T22:35:55.337Z"
      },
      {
        "duration": 3,
        "start_time": "2022-05-25T22:52:46.590Z"
      },
      {
        "duration": 3,
        "start_time": "2022-05-25T23:20:15.207Z"
      },
      {
        "duration": 4,
        "start_time": "2022-05-25T23:20:52.097Z"
      },
      {
        "duration": 55,
        "start_time": "2022-05-29T17:06:04.859Z"
      },
      {
        "duration": 556,
        "start_time": "2022-05-29T17:06:26.222Z"
      },
      {
        "duration": 19,
        "start_time": "2022-05-29T17:10:27.082Z"
      },
      {
        "duration": 34,
        "start_time": "2022-05-29T17:14:02.291Z"
      },
      {
        "duration": 4,
        "start_time": "2022-05-29T17:14:36.151Z"
      },
      {
        "duration": 8,
        "start_time": "2022-05-29T17:14:49.556Z"
      },
      {
        "duration": 415,
        "start_time": "2022-05-29T17:16:12.118Z"
      },
      {
        "duration": 9,
        "start_time": "2022-05-29T17:16:21.561Z"
      },
      {
        "duration": 9,
        "start_time": "2022-05-29T17:16:40.629Z"
      },
      {
        "duration": 9,
        "start_time": "2022-05-29T17:19:43.159Z"
      },
      {
        "duration": 4,
        "start_time": "2022-05-29T17:20:24.835Z"
      },
      {
        "duration": 9,
        "start_time": "2022-05-29T17:20:59.415Z"
      },
      {
        "duration": 252,
        "start_time": "2022-05-29T17:21:44.954Z"
      },
      {
        "duration": 15,
        "start_time": "2022-05-29T17:26:52.361Z"
      },
      {
        "duration": 10,
        "start_time": "2022-05-29T17:27:07.930Z"
      },
      {
        "duration": 1014,
        "start_time": "2022-05-31T05:30:54.033Z"
      },
      {
        "duration": 3,
        "start_time": "2022-05-31T05:30:55.049Z"
      },
      {
        "duration": 22,
        "start_time": "2022-05-31T05:30:55.054Z"
      },
      {
        "duration": 16,
        "start_time": "2022-05-31T05:30:55.079Z"
      },
      {
        "duration": 10,
        "start_time": "2022-05-31T05:30:55.096Z"
      },
      {
        "duration": 11,
        "start_time": "2022-05-31T05:30:55.107Z"
      },
      {
        "duration": 36,
        "start_time": "2022-05-31T05:30:55.120Z"
      },
      {
        "duration": 5,
        "start_time": "2022-05-31T05:30:55.158Z"
      },
      {
        "duration": 20,
        "start_time": "2022-05-31T05:30:55.164Z"
      },
      {
        "duration": 10,
        "start_time": "2022-05-31T05:30:55.186Z"
      },
      {
        "duration": 61,
        "start_time": "2022-05-31T05:30:55.197Z"
      },
      {
        "duration": 5,
        "start_time": "2022-05-31T05:30:55.262Z"
      },
      {
        "duration": 13,
        "start_time": "2022-05-31T05:30:55.268Z"
      },
      {
        "duration": 10,
        "start_time": "2022-05-31T05:30:55.283Z"
      },
      {
        "duration": 12,
        "start_time": "2022-05-31T05:30:55.295Z"
      },
      {
        "duration": 8,
        "start_time": "2022-05-31T05:30:55.309Z"
      },
      {
        "duration": 30,
        "start_time": "2022-05-31T05:30:55.318Z"
      },
      {
        "duration": 10,
        "start_time": "2022-05-31T05:30:55.350Z"
      },
      {
        "duration": 34,
        "start_time": "2022-05-31T05:30:55.361Z"
      },
      {
        "duration": 58,
        "start_time": "2022-05-31T05:30:55.397Z"
      },
      {
        "duration": 36,
        "start_time": "2022-05-31T05:30:55.457Z"
      },
      {
        "duration": 13,
        "start_time": "2022-05-31T05:30:55.495Z"
      },
      {
        "duration": 8,
        "start_time": "2022-05-31T05:30:55.510Z"
      },
      {
        "duration": 30,
        "start_time": "2022-05-31T05:30:55.519Z"
      },
      {
        "duration": 4,
        "start_time": "2022-05-31T05:30:55.551Z"
      },
      {
        "duration": 5,
        "start_time": "2022-05-31T05:30:55.557Z"
      },
      {
        "duration": 5,
        "start_time": "2022-05-31T05:30:55.564Z"
      },
      {
        "duration": 8,
        "start_time": "2022-05-31T05:30:55.573Z"
      },
      {
        "duration": 5,
        "start_time": "2022-05-31T05:30:55.582Z"
      },
      {
        "duration": 5,
        "start_time": "2022-05-31T05:30:55.588Z"
      },
      {
        "duration": 10,
        "start_time": "2022-05-31T05:30:55.594Z"
      },
      {
        "duration": 38,
        "start_time": "2022-05-31T05:30:55.606Z"
      },
      {
        "duration": 6,
        "start_time": "2022-05-31T05:30:55.646Z"
      },
      {
        "duration": 21,
        "start_time": "2022-05-31T05:30:55.654Z"
      },
      {
        "duration": 16,
        "start_time": "2022-05-31T05:30:55.677Z"
      },
      {
        "duration": 17,
        "start_time": "2022-05-31T05:30:55.695Z"
      },
      {
        "duration": 33,
        "start_time": "2022-05-31T05:30:55.714Z"
      },
      {
        "duration": 8,
        "start_time": "2022-05-31T05:30:55.748Z"
      },
      {
        "duration": 7,
        "start_time": "2022-05-31T05:30:55.758Z"
      },
      {
        "duration": 12,
        "start_time": "2022-05-31T05:30:55.767Z"
      },
      {
        "duration": 12,
        "start_time": "2022-05-31T05:30:55.780Z"
      },
      {
        "duration": 12,
        "start_time": "2022-05-31T05:30:55.794Z"
      },
      {
        "duration": 17,
        "start_time": "2022-05-31T05:30:55.807Z"
      },
      {
        "duration": 20,
        "start_time": "2022-05-31T05:30:55.825Z"
      },
      {
        "duration": 9,
        "start_time": "2022-05-31T05:30:55.846Z"
      },
      {
        "duration": 6,
        "start_time": "2022-05-31T05:30:55.857Z"
      },
      {
        "duration": 19,
        "start_time": "2022-05-31T05:30:55.865Z"
      },
      {
        "duration": 10,
        "start_time": "2022-05-31T05:30:55.886Z"
      },
      {
        "duration": 10,
        "start_time": "2022-05-31T05:30:55.897Z"
      },
      {
        "duration": 12,
        "start_time": "2022-05-31T05:30:55.909Z"
      },
      {
        "duration": 5,
        "start_time": "2022-05-31T05:30:55.923Z"
      },
      {
        "duration": 16,
        "start_time": "2022-05-31T05:30:55.929Z"
      },
      {
        "duration": 3,
        "start_time": "2022-05-31T05:30:55.946Z"
      },
      {
        "duration": 17,
        "start_time": "2022-05-31T05:30:55.950Z"
      },
      {
        "duration": 6,
        "start_time": "2022-05-31T05:30:55.968Z"
      },
      {
        "duration": 7,
        "start_time": "2022-05-31T05:30:55.976Z"
      },
      {
        "duration": 7,
        "start_time": "2022-05-31T05:30:55.985Z"
      },
      {
        "duration": 6,
        "start_time": "2022-05-31T05:30:55.993Z"
      },
      {
        "duration": 5,
        "start_time": "2022-05-31T05:30:56.001Z"
      },
      {
        "duration": 5,
        "start_time": "2022-05-31T05:30:56.007Z"
      },
      {
        "duration": 38,
        "start_time": "2022-05-31T05:30:56.014Z"
      },
      {
        "duration": 8,
        "start_time": "2022-05-31T05:30:56.054Z"
      },
      {
        "duration": 13,
        "start_time": "2022-05-31T05:30:56.064Z"
      },
      {
        "duration": 9,
        "start_time": "2022-05-31T05:30:56.078Z"
      },
      {
        "duration": 8,
        "start_time": "2022-05-31T05:30:56.089Z"
      },
      {
        "duration": 3484,
        "start_time": "2022-05-31T05:30:56.098Z"
      },
      {
        "duration": 19,
        "start_time": "2022-05-31T05:30:59.584Z"
      },
      {
        "duration": 2,
        "start_time": "2022-05-31T05:30:59.604Z"
      },
      {
        "duration": 11,
        "start_time": "2022-05-31T05:30:59.608Z"
      },
      {
        "duration": 3,
        "start_time": "2022-05-31T05:30:59.621Z"
      },
      {
        "duration": 12,
        "start_time": "2022-05-31T05:30:59.643Z"
      },
      {
        "duration": 9,
        "start_time": "2022-05-31T05:30:59.656Z"
      },
      {
        "duration": 19,
        "start_time": "2022-05-31T05:30:59.666Z"
      },
      {
        "duration": 12,
        "start_time": "2022-05-31T05:30:59.687Z"
      },
      {
        "duration": 11,
        "start_time": "2022-05-31T05:30:59.701Z"
      },
      {
        "duration": 32,
        "start_time": "2022-05-31T05:30:59.714Z"
      },
      {
        "duration": 9,
        "start_time": "2022-05-31T05:30:59.748Z"
      },
      {
        "duration": 20,
        "start_time": "2022-05-31T05:31:44.942Z"
      },
      {
        "duration": 17,
        "start_time": "2022-05-31T05:40:46.790Z"
      },
      {
        "duration": 11,
        "start_time": "2022-05-31T05:40:59.547Z"
      },
      {
        "duration": 11,
        "start_time": "2022-05-31T05:41:09.744Z"
      },
      {
        "duration": 10,
        "start_time": "2022-05-31T05:41:36.864Z"
      },
      {
        "duration": 12,
        "start_time": "2022-05-31T05:41:42.182Z"
      },
      {
        "duration": 9,
        "start_time": "2022-05-31T05:42:15.948Z"
      },
      {
        "duration": 9,
        "start_time": "2022-05-31T05:42:22.951Z"
      },
      {
        "duration": 9,
        "start_time": "2022-05-31T05:42:45.458Z"
      },
      {
        "duration": 8,
        "start_time": "2022-05-31T05:42:52.972Z"
      },
      {
        "duration": 13,
        "start_time": "2022-05-31T05:43:00.986Z"
      },
      {
        "duration": 9,
        "start_time": "2022-05-31T05:43:05.963Z"
      },
      {
        "duration": 9,
        "start_time": "2022-05-31T05:43:09.799Z"
      },
      {
        "duration": 12,
        "start_time": "2022-05-31T05:43:42.263Z"
      },
      {
        "duration": 8,
        "start_time": "2022-05-31T05:43:53.485Z"
      },
      {
        "duration": 9,
        "start_time": "2022-05-31T05:44:05.280Z"
      },
      {
        "duration": 8,
        "start_time": "2022-05-31T05:44:11.810Z"
      },
      {
        "duration": 7,
        "start_time": "2022-05-31T05:44:20.906Z"
      },
      {
        "duration": 10,
        "start_time": "2022-05-31T05:44:36.540Z"
      },
      {
        "duration": 155,
        "start_time": "2022-05-31T05:44:49.011Z"
      },
      {
        "duration": 3,
        "start_time": "2022-05-31T05:44:49.168Z"
      },
      {
        "duration": 16,
        "start_time": "2022-05-31T05:44:49.173Z"
      },
      {
        "duration": 16,
        "start_time": "2022-05-31T05:44:49.191Z"
      },
      {
        "duration": 6,
        "start_time": "2022-05-31T05:44:49.209Z"
      },
      {
        "duration": 15,
        "start_time": "2022-05-31T05:44:49.245Z"
      },
      {
        "duration": 10,
        "start_time": "2022-05-31T05:44:49.262Z"
      },
      {
        "duration": 11,
        "start_time": "2022-05-31T05:44:49.273Z"
      },
      {
        "duration": 3,
        "start_time": "2022-05-31T05:44:49.285Z"
      },
      {
        "duration": 25,
        "start_time": "2022-05-31T05:44:49.291Z"
      },
      {
        "duration": 10,
        "start_time": "2022-05-31T05:44:49.344Z"
      },
      {
        "duration": 50,
        "start_time": "2022-05-31T05:44:49.356Z"
      },
      {
        "duration": 4,
        "start_time": "2022-05-31T05:44:49.408Z"
      },
      {
        "duration": 14,
        "start_time": "2022-05-31T05:44:49.413Z"
      },
      {
        "duration": 9,
        "start_time": "2022-05-31T05:44:49.428Z"
      },
      {
        "duration": 17,
        "start_time": "2022-05-31T05:44:49.439Z"
      },
      {
        "duration": 9,
        "start_time": "2022-05-31T05:44:49.457Z"
      },
      {
        "duration": 9,
        "start_time": "2022-05-31T05:44:49.468Z"
      },
      {
        "duration": 14,
        "start_time": "2022-05-31T05:44:49.478Z"
      },
      {
        "duration": 51,
        "start_time": "2022-05-31T05:44:49.494Z"
      },
      {
        "duration": 32,
        "start_time": "2022-05-31T05:44:49.547Z"
      },
      {
        "duration": 33,
        "start_time": "2022-05-31T05:44:49.581Z"
      },
      {
        "duration": 38,
        "start_time": "2022-05-31T05:44:49.616Z"
      },
      {
        "duration": 12,
        "start_time": "2022-05-31T05:44:49.656Z"
      },
      {
        "duration": 9,
        "start_time": "2022-05-31T05:44:49.669Z"
      },
      {
        "duration": 7,
        "start_time": "2022-05-31T05:44:49.679Z"
      },
      {
        "duration": 7,
        "start_time": "2022-05-31T05:44:49.688Z"
      },
      {
        "duration": 5,
        "start_time": "2022-05-31T05:44:49.703Z"
      },
      {
        "duration": 13,
        "start_time": "2022-05-31T05:44:49.710Z"
      },
      {
        "duration": 20,
        "start_time": "2022-05-31T05:44:49.725Z"
      },
      {
        "duration": 4,
        "start_time": "2022-05-31T05:44:49.748Z"
      },
      {
        "duration": 15,
        "start_time": "2022-05-31T05:44:49.754Z"
      },
      {
        "duration": 5,
        "start_time": "2022-05-31T05:44:49.770Z"
      },
      {
        "duration": 7,
        "start_time": "2022-05-31T05:44:49.777Z"
      },
      {
        "duration": 23,
        "start_time": "2022-05-31T05:44:49.785Z"
      },
      {
        "duration": 34,
        "start_time": "2022-05-31T05:44:49.810Z"
      },
      {
        "duration": 18,
        "start_time": "2022-05-31T05:44:49.846Z"
      },
      {
        "duration": 14,
        "start_time": "2022-05-31T05:44:49.866Z"
      },
      {
        "duration": 17,
        "start_time": "2022-05-31T05:44:49.882Z"
      },
      {
        "duration": 13,
        "start_time": "2022-05-31T05:44:49.901Z"
      },
      {
        "duration": 20,
        "start_time": "2022-05-31T05:44:49.915Z"
      },
      {
        "duration": 18,
        "start_time": "2022-05-31T05:44:49.943Z"
      },
      {
        "duration": 11,
        "start_time": "2022-05-31T05:44:49.963Z"
      },
      {
        "duration": 31,
        "start_time": "2022-05-31T05:44:49.975Z"
      },
      {
        "duration": 33,
        "start_time": "2022-05-31T05:44:50.008Z"
      },
      {
        "duration": 38,
        "start_time": "2022-05-31T05:44:50.042Z"
      },
      {
        "duration": 20,
        "start_time": "2022-05-31T05:44:50.082Z"
      },
      {
        "duration": 8,
        "start_time": "2022-05-31T05:44:50.104Z"
      },
      {
        "duration": 16,
        "start_time": "2022-05-31T05:44:50.113Z"
      },
      {
        "duration": 31,
        "start_time": "2022-05-31T05:44:50.130Z"
      },
      {
        "duration": 14,
        "start_time": "2022-05-31T05:44:50.163Z"
      },
      {
        "duration": 22,
        "start_time": "2022-05-31T05:44:50.179Z"
      },
      {
        "duration": 35,
        "start_time": "2022-05-31T05:44:50.203Z"
      },
      {
        "duration": 13,
        "start_time": "2022-05-31T05:44:50.239Z"
      },
      {
        "duration": 40,
        "start_time": "2022-05-31T05:44:50.254Z"
      },
      {
        "duration": 8,
        "start_time": "2022-05-31T05:44:50.296Z"
      },
      {
        "duration": 9,
        "start_time": "2022-05-31T05:44:50.306Z"
      },
      {
        "duration": 6,
        "start_time": "2022-05-31T05:44:50.317Z"
      },
      {
        "duration": 3,
        "start_time": "2022-05-31T05:44:50.325Z"
      },
      {
        "duration": 5,
        "start_time": "2022-05-31T05:44:50.329Z"
      },
      {
        "duration": 4,
        "start_time": "2022-05-31T05:44:50.336Z"
      },
      {
        "duration": 5,
        "start_time": "2022-05-31T05:44:50.342Z"
      },
      {
        "duration": 5,
        "start_time": "2022-05-31T05:44:50.349Z"
      },
      {
        "duration": 14,
        "start_time": "2022-05-31T05:44:50.355Z"
      },
      {
        "duration": 8,
        "start_time": "2022-05-31T05:44:50.370Z"
      },
      {
        "duration": 7,
        "start_time": "2022-05-31T05:44:50.380Z"
      },
      {
        "duration": 2792,
        "start_time": "2022-05-31T05:44:50.389Z"
      },
      {
        "duration": 19,
        "start_time": "2022-05-31T05:44:53.183Z"
      },
      {
        "duration": 3,
        "start_time": "2022-05-31T05:44:53.204Z"
      },
      {
        "duration": 12,
        "start_time": "2022-05-31T05:44:53.209Z"
      },
      {
        "duration": 23,
        "start_time": "2022-05-31T05:44:53.223Z"
      },
      {
        "duration": 15,
        "start_time": "2022-05-31T05:44:53.247Z"
      },
      {
        "duration": 6,
        "start_time": "2022-05-31T05:44:53.263Z"
      },
      {
        "duration": 17,
        "start_time": "2022-05-31T05:44:53.270Z"
      },
      {
        "duration": 11,
        "start_time": "2022-05-31T05:44:53.289Z"
      },
      {
        "duration": 9,
        "start_time": "2022-05-31T05:44:53.302Z"
      },
      {
        "duration": 35,
        "start_time": "2022-05-31T05:44:53.313Z"
      },
      {
        "duration": 11,
        "start_time": "2022-05-31T05:44:53.350Z"
      },
      {
        "duration": 265,
        "start_time": "2022-05-31T05:46:21.285Z"
      },
      {
        "duration": 3,
        "start_time": "2022-05-31T05:46:21.553Z"
      },
      {
        "duration": 27,
        "start_time": "2022-05-31T05:46:21.557Z"
      },
      {
        "duration": 29,
        "start_time": "2022-05-31T05:46:21.586Z"
      },
      {
        "duration": 9,
        "start_time": "2022-05-31T05:46:21.618Z"
      },
      {
        "duration": 9,
        "start_time": "2022-05-31T05:46:28.161Z"
      },
      {
        "duration": 12,
        "start_time": "2022-05-31T05:58:23.186Z"
      },
      {
        "duration": 11,
        "start_time": "2022-05-31T06:02:03.663Z"
      },
      {
        "duration": 165,
        "start_time": "2022-05-31T06:02:24.355Z"
      },
      {
        "duration": 3,
        "start_time": "2022-05-31T06:02:24.522Z"
      },
      {
        "duration": 26,
        "start_time": "2022-05-31T06:02:24.527Z"
      },
      {
        "duration": 33,
        "start_time": "2022-05-31T06:02:24.555Z"
      },
      {
        "duration": 18,
        "start_time": "2022-05-31T06:02:24.590Z"
      },
      {
        "duration": 22,
        "start_time": "2022-05-31T06:02:24.610Z"
      },
      {
        "duration": 34,
        "start_time": "2022-05-31T06:02:24.634Z"
      },
      {
        "duration": 8,
        "start_time": "2022-05-31T06:02:24.671Z"
      },
      {
        "duration": 44,
        "start_time": "2022-05-31T06:02:24.680Z"
      },
      {
        "duration": 12,
        "start_time": "2022-05-31T06:02:24.727Z"
      },
      {
        "duration": 44,
        "start_time": "2022-05-31T06:02:24.740Z"
      },
      {
        "duration": 13,
        "start_time": "2022-05-31T06:02:24.785Z"
      },
      {
        "duration": 30,
        "start_time": "2022-05-31T06:02:24.799Z"
      },
      {
        "duration": 13,
        "start_time": "2022-05-31T06:02:24.831Z"
      },
      {
        "duration": 30,
        "start_time": "2022-05-31T06:02:24.846Z"
      },
      {
        "duration": 28,
        "start_time": "2022-05-31T06:02:24.877Z"
      },
      {
        "duration": 33,
        "start_time": "2022-05-31T06:02:24.906Z"
      },
      {
        "duration": 24,
        "start_time": "2022-05-31T06:02:24.940Z"
      },
      {
        "duration": 45,
        "start_time": "2022-05-31T06:02:24.966Z"
      },
      {
        "duration": 43,
        "start_time": "2022-05-31T06:02:25.013Z"
      },
      {
        "duration": 45,
        "start_time": "2022-05-31T06:02:25.058Z"
      },
      {
        "duration": 14,
        "start_time": "2022-05-31T06:02:25.105Z"
      },
      {
        "duration": 27,
        "start_time": "2022-05-31T06:02:25.121Z"
      },
      {
        "duration": 7,
        "start_time": "2022-05-31T06:02:25.149Z"
      },
      {
        "duration": 26,
        "start_time": "2022-05-31T06:02:25.157Z"
      },
      {
        "duration": 30,
        "start_time": "2022-05-31T06:02:25.185Z"
      },
      {
        "duration": 18,
        "start_time": "2022-05-31T06:02:25.217Z"
      },
      {
        "duration": 20,
        "start_time": "2022-05-31T06:02:25.239Z"
      },
      {
        "duration": 37,
        "start_time": "2022-05-31T06:02:25.260Z"
      },
      {
        "duration": 39,
        "start_time": "2022-05-31T06:02:25.299Z"
      },
      {
        "duration": 26,
        "start_time": "2022-05-31T06:02:25.340Z"
      },
      {
        "duration": 38,
        "start_time": "2022-05-31T06:02:25.368Z"
      },
      {
        "duration": 31,
        "start_time": "2022-05-31T06:02:25.407Z"
      },
      {
        "duration": 31,
        "start_time": "2022-05-31T06:02:25.439Z"
      },
      {
        "duration": 29,
        "start_time": "2022-05-31T06:02:25.471Z"
      },
      {
        "duration": 23,
        "start_time": "2022-05-31T06:02:25.501Z"
      },
      {
        "duration": 14,
        "start_time": "2022-05-31T06:02:25.526Z"
      },
      {
        "duration": 24,
        "start_time": "2022-05-31T06:02:25.541Z"
      },
      {
        "duration": 36,
        "start_time": "2022-05-31T06:02:25.566Z"
      },
      {
        "duration": 32,
        "start_time": "2022-05-31T06:02:25.604Z"
      },
      {
        "duration": 34,
        "start_time": "2022-05-31T06:02:25.638Z"
      },
      {
        "duration": 36,
        "start_time": "2022-05-31T06:02:25.675Z"
      },
      {
        "duration": 46,
        "start_time": "2022-05-31T06:02:25.712Z"
      },
      {
        "duration": 30,
        "start_time": "2022-05-31T06:02:25.759Z"
      },
      {
        "duration": 22,
        "start_time": "2022-05-31T06:02:25.791Z"
      },
      {
        "duration": 20,
        "start_time": "2022-05-31T06:02:25.814Z"
      },
      {
        "duration": 23,
        "start_time": "2022-05-31T06:02:25.836Z"
      },
      {
        "duration": 35,
        "start_time": "2022-05-31T06:02:25.860Z"
      },
      {
        "duration": 23,
        "start_time": "2022-05-31T06:02:25.896Z"
      },
      {
        "duration": 21,
        "start_time": "2022-05-31T06:02:25.921Z"
      },
      {
        "duration": 27,
        "start_time": "2022-05-31T06:02:25.944Z"
      },
      {
        "duration": 37,
        "start_time": "2022-05-31T06:02:25.972Z"
      },
      {
        "duration": 20,
        "start_time": "2022-05-31T06:02:26.011Z"
      },
      {
        "duration": 35,
        "start_time": "2022-05-31T06:02:26.033Z"
      },
      {
        "duration": 14,
        "start_time": "2022-05-31T06:02:26.070Z"
      },
      {
        "duration": 19,
        "start_time": "2022-05-31T06:02:26.086Z"
      },
      {
        "duration": 22,
        "start_time": "2022-05-31T06:02:26.106Z"
      },
      {
        "duration": 18,
        "start_time": "2022-05-31T06:02:26.129Z"
      },
      {
        "duration": 14,
        "start_time": "2022-05-31T06:02:26.149Z"
      },
      {
        "duration": 22,
        "start_time": "2022-05-31T06:02:26.165Z"
      },
      {
        "duration": 22,
        "start_time": "2022-05-31T06:02:26.188Z"
      },
      {
        "duration": 18,
        "start_time": "2022-05-31T06:02:26.211Z"
      },
      {
        "duration": 39,
        "start_time": "2022-05-31T06:02:26.231Z"
      },
      {
        "duration": 22,
        "start_time": "2022-05-31T06:02:26.272Z"
      },
      {
        "duration": 31,
        "start_time": "2022-05-31T06:02:26.296Z"
      },
      {
        "duration": 2728,
        "start_time": "2022-05-31T06:02:26.329Z"
      },
      {
        "duration": 17,
        "start_time": "2022-05-31T06:02:29.059Z"
      },
      {
        "duration": 7,
        "start_time": "2022-05-31T06:02:29.078Z"
      },
      {
        "duration": 10,
        "start_time": "2022-05-31T06:02:29.087Z"
      },
      {
        "duration": 3,
        "start_time": "2022-05-31T06:02:29.099Z"
      },
      {
        "duration": 14,
        "start_time": "2022-05-31T06:02:29.103Z"
      },
      {
        "duration": 27,
        "start_time": "2022-05-31T06:02:29.119Z"
      },
      {
        "duration": 20,
        "start_time": "2022-05-31T06:02:29.148Z"
      },
      {
        "duration": 10,
        "start_time": "2022-05-31T06:02:31.953Z"
      },
      {
        "duration": 119,
        "start_time": "2022-05-31T06:04:12.958Z"
      },
      {
        "duration": 10,
        "start_time": "2022-05-31T06:07:46.263Z"
      },
      {
        "duration": 6,
        "start_time": "2022-05-31T06:07:56.139Z"
      },
      {
        "duration": 7,
        "start_time": "2022-05-31T06:08:24.961Z"
      },
      {
        "duration": 204,
        "start_time": "2022-05-31T06:08:31.465Z"
      },
      {
        "duration": 4,
        "start_time": "2022-05-31T06:08:31.670Z"
      },
      {
        "duration": 27,
        "start_time": "2022-05-31T06:08:31.675Z"
      },
      {
        "duration": 29,
        "start_time": "2022-05-31T06:08:31.704Z"
      },
      {
        "duration": 6,
        "start_time": "2022-05-31T06:08:31.735Z"
      },
      {
        "duration": 13,
        "start_time": "2022-05-31T06:08:31.744Z"
      },
      {
        "duration": 16,
        "start_time": "2022-05-31T06:08:31.759Z"
      },
      {
        "duration": 4,
        "start_time": "2022-05-31T06:08:31.777Z"
      },
      {
        "duration": 19,
        "start_time": "2022-05-31T06:08:31.783Z"
      },
      {
        "duration": 12,
        "start_time": "2022-05-31T06:08:31.805Z"
      },
      {
        "duration": 68,
        "start_time": "2022-05-31T06:08:31.819Z"
      },
      {
        "duration": 5,
        "start_time": "2022-05-31T06:08:31.889Z"
      },
      {
        "duration": 14,
        "start_time": "2022-05-31T06:08:31.896Z"
      },
      {
        "duration": 12,
        "start_time": "2022-05-31T06:08:31.911Z"
      },
      {
        "duration": 7,
        "start_time": "2022-05-31T06:08:43.590Z"
      },
      {
        "duration": 6,
        "start_time": "2022-05-31T06:08:57.915Z"
      },
      {
        "duration": 8,
        "start_time": "2022-05-31T06:09:08.923Z"
      },
      {
        "duration": 9,
        "start_time": "2022-05-31T06:09:11.778Z"
      },
      {
        "duration": 158,
        "start_time": "2022-05-31T06:10:08.415Z"
      },
      {
        "duration": 3,
        "start_time": "2022-05-31T06:10:08.574Z"
      },
      {
        "duration": 16,
        "start_time": "2022-05-31T06:10:08.578Z"
      },
      {
        "duration": 17,
        "start_time": "2022-05-31T06:10:08.596Z"
      },
      {
        "duration": 6,
        "start_time": "2022-05-31T06:10:08.615Z"
      },
      {
        "duration": 31,
        "start_time": "2022-05-31T06:10:08.622Z"
      },
      {
        "duration": 23,
        "start_time": "2022-05-31T06:10:08.655Z"
      },
      {
        "duration": 11,
        "start_time": "2022-05-31T06:10:08.680Z"
      },
      {
        "duration": 21,
        "start_time": "2022-05-31T06:10:08.692Z"
      },
      {
        "duration": 13,
        "start_time": "2022-05-31T06:10:08.715Z"
      },
      {
        "duration": 39,
        "start_time": "2022-05-31T06:10:08.729Z"
      },
      {
        "duration": 4,
        "start_time": "2022-05-31T06:10:08.770Z"
      },
      {
        "duration": 11,
        "start_time": "2022-05-31T06:10:08.775Z"
      },
      {
        "duration": 13,
        "start_time": "2022-05-31T06:10:08.788Z"
      },
      {
        "duration": 13,
        "start_time": "2022-05-31T06:10:08.802Z"
      },
      {
        "duration": 9,
        "start_time": "2022-05-31T06:12:21.514Z"
      },
      {
        "duration": 29,
        "start_time": "2022-05-31T06:13:17.723Z"
      },
      {
        "duration": 8,
        "start_time": "2022-05-31T06:13:46.825Z"
      },
      {
        "duration": 98,
        "start_time": "2022-05-31T06:13:49.674Z"
      },
      {
        "duration": 3,
        "start_time": "2022-05-31T06:13:49.774Z"
      },
      {
        "duration": 17,
        "start_time": "2022-05-31T06:13:49.778Z"
      },
      {
        "duration": 23,
        "start_time": "2022-05-31T06:13:49.797Z"
      },
      {
        "duration": 8,
        "start_time": "2022-05-31T06:13:49.821Z"
      },
      {
        "duration": 20,
        "start_time": "2022-05-31T06:13:49.830Z"
      },
      {
        "duration": 16,
        "start_time": "2022-05-31T06:13:49.851Z"
      },
      {
        "duration": 3,
        "start_time": "2022-05-31T06:13:49.869Z"
      },
      {
        "duration": 22,
        "start_time": "2022-05-31T06:13:49.874Z"
      },
      {
        "duration": 10,
        "start_time": "2022-05-31T06:13:49.899Z"
      },
      {
        "duration": 62,
        "start_time": "2022-05-31T06:13:49.910Z"
      },
      {
        "duration": 5,
        "start_time": "2022-05-31T06:13:49.973Z"
      },
      {
        "duration": 18,
        "start_time": "2022-05-31T06:13:49.979Z"
      },
      {
        "duration": 37,
        "start_time": "2022-05-31T06:13:49.998Z"
      },
      {
        "duration": 12,
        "start_time": "2022-05-31T06:13:50.038Z"
      },
      {
        "duration": 10,
        "start_time": "2022-05-31T06:13:50.052Z"
      },
      {
        "duration": 10,
        "start_time": "2022-05-31T06:13:50.064Z"
      },
      {
        "duration": 24,
        "start_time": "2022-05-31T06:13:50.076Z"
      },
      {
        "duration": 9,
        "start_time": "2022-05-31T06:13:50.103Z"
      },
      {
        "duration": 6,
        "start_time": "2022-05-31T06:13:56.182Z"
      },
      {
        "duration": 6,
        "start_time": "2022-05-31T06:14:20.529Z"
      },
      {
        "duration": 6,
        "start_time": "2022-05-31T06:14:34.712Z"
      },
      {
        "duration": 10,
        "start_time": "2022-05-31T06:14:49.076Z"
      },
      {
        "duration": 105,
        "start_time": "2022-05-31T06:20:22.933Z"
      },
      {
        "duration": 3,
        "start_time": "2022-05-31T06:20:23.040Z"
      },
      {
        "duration": 36,
        "start_time": "2022-05-31T06:20:23.044Z"
      },
      {
        "duration": 24,
        "start_time": "2022-05-31T06:20:23.082Z"
      },
      {
        "duration": 20,
        "start_time": "2022-05-31T06:20:23.108Z"
      },
      {
        "duration": 27,
        "start_time": "2022-05-31T06:20:23.129Z"
      },
      {
        "duration": 39,
        "start_time": "2022-05-31T06:20:23.158Z"
      },
      {
        "duration": 36,
        "start_time": "2022-05-31T06:20:23.199Z"
      },
      {
        "duration": 29,
        "start_time": "2022-05-31T06:20:23.237Z"
      },
      {
        "duration": 32,
        "start_time": "2022-05-31T06:20:23.268Z"
      },
      {
        "duration": 51,
        "start_time": "2022-05-31T06:20:23.301Z"
      },
      {
        "duration": 7,
        "start_time": "2022-05-31T06:20:23.353Z"
      },
      {
        "duration": 16,
        "start_time": "2022-05-31T06:20:23.362Z"
      },
      {
        "duration": 21,
        "start_time": "2022-05-31T06:20:23.380Z"
      },
      {
        "duration": 26,
        "start_time": "2022-05-31T06:20:23.403Z"
      },
      {
        "duration": 13,
        "start_time": "2022-05-31T06:20:23.431Z"
      },
      {
        "duration": 35,
        "start_time": "2022-05-31T06:20:23.446Z"
      },
      {
        "duration": 37,
        "start_time": "2022-05-31T06:20:23.482Z"
      },
      {
        "duration": 14,
        "start_time": "2022-05-31T06:20:23.520Z"
      },
      {
        "duration": 9,
        "start_time": "2022-05-31T06:20:29.973Z"
      },
      {
        "duration": 9,
        "start_time": "2022-05-31T06:20:53.685Z"
      },
      {
        "duration": 12,
        "start_time": "2022-05-31T06:27:10.394Z"
      },
      {
        "duration": 160,
        "start_time": "2022-05-31T06:27:18.269Z"
      },
      {
        "duration": 3,
        "start_time": "2022-05-31T06:27:18.431Z"
      },
      {
        "duration": 18,
        "start_time": "2022-05-31T06:27:18.435Z"
      },
      {
        "duration": 19,
        "start_time": "2022-05-31T06:27:18.455Z"
      },
      {
        "duration": 7,
        "start_time": "2022-05-31T06:27:18.475Z"
      },
      {
        "duration": 13,
        "start_time": "2022-05-31T06:27:18.483Z"
      },
      {
        "duration": 14,
        "start_time": "2022-05-31T06:27:18.498Z"
      },
      {
        "duration": 2,
        "start_time": "2022-05-31T06:27:18.514Z"
      },
      {
        "duration": 46,
        "start_time": "2022-05-31T06:27:18.518Z"
      },
      {
        "duration": 12,
        "start_time": "2022-05-31T06:27:18.567Z"
      },
      {
        "duration": 34,
        "start_time": "2022-05-31T06:27:18.580Z"
      },
      {
        "duration": 4,
        "start_time": "2022-05-31T06:27:18.616Z"
      },
      {
        "duration": 30,
        "start_time": "2022-05-31T06:27:18.622Z"
      },
      {
        "duration": 11,
        "start_time": "2022-05-31T06:27:18.654Z"
      },
      {
        "duration": 15,
        "start_time": "2022-05-31T06:27:18.667Z"
      },
      {
        "duration": 5,
        "start_time": "2022-05-31T06:27:18.684Z"
      },
      {
        "duration": 10,
        "start_time": "2022-05-31T06:27:18.690Z"
      },
      {
        "duration": 11,
        "start_time": "2022-05-31T06:27:18.702Z"
      },
      {
        "duration": 10,
        "start_time": "2022-05-31T06:27:18.715Z"
      },
      {
        "duration": 17,
        "start_time": "2022-05-31T06:28:35.313Z"
      },
      {
        "duration": 23,
        "start_time": "2022-05-31T06:29:09.228Z"
      },
      {
        "duration": 8,
        "start_time": "2022-05-31T06:34:17.855Z"
      },
      {
        "duration": 32,
        "start_time": "2022-05-31T06:34:42.627Z"
      },
      {
        "duration": 9,
        "start_time": "2022-05-31T06:35:23.608Z"
      },
      {
        "duration": 33,
        "start_time": "2022-05-31T06:35:24.992Z"
      },
      {
        "duration": 12,
        "start_time": "2022-05-31T06:47:28.294Z"
      },
      {
        "duration": 417,
        "start_time": "2022-05-31T06:47:28.969Z"
      },
      {
        "duration": 3,
        "start_time": "2022-05-31T06:47:29.388Z"
      },
      {
        "duration": 37,
        "start_time": "2022-05-31T06:47:29.393Z"
      },
      {
        "duration": 43,
        "start_time": "2022-05-31T06:47:29.433Z"
      },
      {
        "duration": 8,
        "start_time": "2022-05-31T06:47:29.478Z"
      },
      {
        "duration": 21,
        "start_time": "2022-05-31T06:47:29.488Z"
      },
      {
        "duration": 27,
        "start_time": "2022-05-31T06:47:29.511Z"
      },
      {
        "duration": 18,
        "start_time": "2022-05-31T06:47:29.540Z"
      },
      {
        "duration": 53,
        "start_time": "2022-05-31T06:47:29.559Z"
      },
      {
        "duration": 15,
        "start_time": "2022-05-31T06:47:29.614Z"
      },
      {
        "duration": 35,
        "start_time": "2022-05-31T06:47:29.631Z"
      },
      {
        "duration": 4,
        "start_time": "2022-05-31T06:47:29.668Z"
      },
      {
        "duration": 35,
        "start_time": "2022-05-31T06:47:29.673Z"
      },
      {
        "duration": 17,
        "start_time": "2022-05-31T06:47:29.710Z"
      },
      {
        "duration": 21,
        "start_time": "2022-05-31T06:47:29.729Z"
      },
      {
        "duration": 18,
        "start_time": "2022-05-31T06:47:29.751Z"
      },
      {
        "duration": 30,
        "start_time": "2022-05-31T06:47:29.771Z"
      },
      {
        "duration": 14,
        "start_time": "2022-05-31T06:47:29.802Z"
      },
      {
        "duration": 10,
        "start_time": "2022-05-31T06:47:51.424Z"
      },
      {
        "duration": 8,
        "start_time": "2022-05-31T06:47:53.220Z"
      },
      {
        "duration": 4,
        "start_time": "2022-05-31T06:47:54.466Z"
      },
      {
        "duration": 174,
        "start_time": "2022-05-31T06:49:28.456Z"
      },
      {
        "duration": 3,
        "start_time": "2022-05-31T06:49:28.632Z"
      },
      {
        "duration": 16,
        "start_time": "2022-05-31T06:49:28.636Z"
      },
      {
        "duration": 24,
        "start_time": "2022-05-31T06:49:28.654Z"
      },
      {
        "duration": 6,
        "start_time": "2022-05-31T06:49:28.680Z"
      },
      {
        "duration": 18,
        "start_time": "2022-05-31T06:49:28.687Z"
      },
      {
        "duration": 15,
        "start_time": "2022-05-31T06:49:28.707Z"
      },
      {
        "duration": 3,
        "start_time": "2022-05-31T06:49:28.724Z"
      },
      {
        "duration": 17,
        "start_time": "2022-05-31T06:49:28.744Z"
      },
      {
        "duration": 9,
        "start_time": "2022-05-31T06:49:28.763Z"
      },
      {
        "duration": 39,
        "start_time": "2022-05-31T06:49:28.774Z"
      },
      {
        "duration": 31,
        "start_time": "2022-05-31T06:49:28.814Z"
      },
      {
        "duration": 11,
        "start_time": "2022-05-31T06:49:28.846Z"
      },
      {
        "duration": 10,
        "start_time": "2022-05-31T06:49:28.858Z"
      },
      {
        "duration": 7,
        "start_time": "2022-05-31T06:49:28.869Z"
      },
      {
        "duration": 4,
        "start_time": "2022-05-31T06:49:28.877Z"
      },
      {
        "duration": 13,
        "start_time": "2022-05-31T06:49:28.882Z"
      },
      {
        "duration": 8,
        "start_time": "2022-05-31T06:49:28.897Z"
      },
      {
        "duration": 38,
        "start_time": "2022-05-31T06:49:28.907Z"
      },
      {
        "duration": 9,
        "start_time": "2022-05-31T06:49:34.433Z"
      },
      {
        "duration": 5,
        "start_time": "2022-05-31T06:49:35.566Z"
      },
      {
        "duration": 5,
        "start_time": "2022-05-31T06:49:36.625Z"
      },
      {
        "duration": 31,
        "start_time": "2022-05-31T06:49:49.379Z"
      },
      {
        "duration": 4,
        "start_time": "2022-05-31T06:51:17.108Z"
      },
      {
        "duration": 101,
        "start_time": "2022-05-31T06:57:42.637Z"
      },
      {
        "duration": 3,
        "start_time": "2022-05-31T06:57:42.740Z"
      },
      {
        "duration": 17,
        "start_time": "2022-05-31T06:57:42.745Z"
      },
      {
        "duration": 16,
        "start_time": "2022-05-31T06:57:42.765Z"
      },
      {
        "duration": 7,
        "start_time": "2022-05-31T06:57:42.783Z"
      },
      {
        "duration": 25,
        "start_time": "2022-05-31T06:57:42.791Z"
      },
      {
        "duration": 28,
        "start_time": "2022-05-31T06:57:42.818Z"
      },
      {
        "duration": 4,
        "start_time": "2022-05-31T06:57:42.847Z"
      },
      {
        "duration": 19,
        "start_time": "2022-05-31T06:57:42.853Z"
      },
      {
        "duration": 10,
        "start_time": "2022-05-31T06:57:42.874Z"
      },
      {
        "duration": 38,
        "start_time": "2022-05-31T06:57:42.886Z"
      },
      {
        "duration": 5,
        "start_time": "2022-05-31T06:57:42.945Z"
      },
      {
        "duration": 11,
        "start_time": "2022-05-31T06:57:42.951Z"
      },
      {
        "duration": 9,
        "start_time": "2022-05-31T06:57:42.964Z"
      },
      {
        "duration": 9,
        "start_time": "2022-05-31T06:57:42.974Z"
      },
      {
        "duration": 10,
        "start_time": "2022-05-31T06:57:42.984Z"
      },
      {
        "duration": 8,
        "start_time": "2022-05-31T06:57:42.995Z"
      },
      {
        "duration": 39,
        "start_time": "2022-05-31T06:57:43.005Z"
      },
      {
        "duration": 11,
        "start_time": "2022-05-31T06:57:43.046Z"
      },
      {
        "duration": 33,
        "start_time": "2022-05-31T06:57:43.058Z"
      },
      {
        "duration": 4,
        "start_time": "2022-05-31T06:57:43.093Z"
      },
      {
        "duration": 9,
        "start_time": "2022-05-31T06:57:47.122Z"
      },
      {
        "duration": 8,
        "start_time": "2022-05-31T06:57:48.221Z"
      },
      {
        "duration": 12,
        "start_time": "2022-05-31T06:58:03.482Z"
      },
      {
        "duration": 5,
        "start_time": "2022-05-31T06:58:36.975Z"
      },
      {
        "duration": 10,
        "start_time": "2022-05-31T06:59:41.884Z"
      },
      {
        "duration": 6,
        "start_time": "2022-05-31T06:59:51.690Z"
      },
      {
        "duration": 211,
        "start_time": "2022-05-31T07:00:05.038Z"
      },
      {
        "duration": 3,
        "start_time": "2022-05-31T07:00:05.251Z"
      },
      {
        "duration": 26,
        "start_time": "2022-05-31T07:00:05.256Z"
      },
      {
        "duration": 30,
        "start_time": "2022-05-31T07:00:05.284Z"
      },
      {
        "duration": 50,
        "start_time": "2022-05-31T07:00:05.316Z"
      },
      {
        "duration": 23,
        "start_time": "2022-05-31T07:00:05.367Z"
      },
      {
        "duration": 39,
        "start_time": "2022-05-31T07:00:05.392Z"
      },
      {
        "duration": 28,
        "start_time": "2022-05-31T07:00:05.433Z"
      },
      {
        "duration": 38,
        "start_time": "2022-05-31T07:00:05.463Z"
      },
      {
        "duration": 29,
        "start_time": "2022-05-31T07:00:05.504Z"
      },
      {
        "duration": 71,
        "start_time": "2022-05-31T07:00:05.534Z"
      },
      {
        "duration": 6,
        "start_time": "2022-05-31T07:00:05.607Z"
      },
      {
        "duration": 43,
        "start_time": "2022-05-31T07:00:05.615Z"
      },
      {
        "duration": 25,
        "start_time": "2022-05-31T07:00:05.660Z"
      },
      {
        "duration": 30,
        "start_time": "2022-05-31T07:00:05.687Z"
      },
      {
        "duration": 37,
        "start_time": "2022-05-31T07:00:05.719Z"
      },
      {
        "duration": 39,
        "start_time": "2022-05-31T07:00:05.758Z"
      },
      {
        "duration": 41,
        "start_time": "2022-05-31T07:00:05.799Z"
      },
      {
        "duration": 20,
        "start_time": "2022-05-31T07:00:05.842Z"
      },
      {
        "duration": 51,
        "start_time": "2022-05-31T07:00:05.863Z"
      },
      {
        "duration": 23,
        "start_time": "2022-05-31T07:00:05.916Z"
      },
      {
        "duration": 26,
        "start_time": "2022-05-31T07:00:05.941Z"
      },
      {
        "duration": 44,
        "start_time": "2022-05-31T07:00:05.969Z"
      },
      {
        "duration": 7,
        "start_time": "2022-05-31T07:00:10.085Z"
      },
      {
        "duration": 156,
        "start_time": "2022-05-31T07:02:20.902Z"
      },
      {
        "duration": 4,
        "start_time": "2022-05-31T07:02:21.060Z"
      },
      {
        "duration": 41,
        "start_time": "2022-05-31T07:02:21.065Z"
      },
      {
        "duration": 61,
        "start_time": "2022-05-31T07:02:21.108Z"
      },
      {
        "duration": 9,
        "start_time": "2022-05-31T07:02:21.171Z"
      },
      {
        "duration": 29,
        "start_time": "2022-05-31T07:02:21.182Z"
      },
      {
        "duration": 38,
        "start_time": "2022-05-31T07:02:21.213Z"
      },
      {
        "duration": 27,
        "start_time": "2022-05-31T07:02:21.253Z"
      },
      {
        "duration": 41,
        "start_time": "2022-05-31T07:02:21.281Z"
      },
      {
        "duration": 28,
        "start_time": "2022-05-31T07:02:21.324Z"
      },
      {
        "duration": 70,
        "start_time": "2022-05-31T07:02:21.354Z"
      },
      {
        "duration": 4,
        "start_time": "2022-05-31T07:02:21.426Z"
      },
      {
        "duration": 51,
        "start_time": "2022-05-31T07:02:21.431Z"
      },
      {
        "duration": 51,
        "start_time": "2022-05-31T07:02:21.484Z"
      },
      {
        "duration": 54,
        "start_time": "2022-05-31T07:02:21.537Z"
      },
      {
        "duration": 39,
        "start_time": "2022-05-31T07:02:21.592Z"
      },
      {
        "duration": 25,
        "start_time": "2022-05-31T07:02:21.633Z"
      },
      {
        "duration": 62,
        "start_time": "2022-05-31T07:02:21.659Z"
      },
      {
        "duration": 30,
        "start_time": "2022-05-31T07:02:21.723Z"
      },
      {
        "duration": 54,
        "start_time": "2022-05-31T07:02:21.754Z"
      },
      {
        "duration": 9,
        "start_time": "2022-05-31T07:02:21.810Z"
      },
      {
        "duration": 54,
        "start_time": "2022-05-31T07:02:21.821Z"
      },
      {
        "duration": 39,
        "start_time": "2022-05-31T07:02:21.876Z"
      },
      {
        "duration": 7,
        "start_time": "2022-05-31T07:02:58.671Z"
      },
      {
        "duration": 6,
        "start_time": "2022-05-31T07:03:00.072Z"
      },
      {
        "duration": 5,
        "start_time": "2022-05-31T07:03:10.365Z"
      },
      {
        "duration": 7,
        "start_time": "2022-05-31T07:04:05.328Z"
      },
      {
        "duration": 9,
        "start_time": "2022-05-31T07:04:48.423Z"
      },
      {
        "duration": 12,
        "start_time": "2022-05-31T07:04:51.585Z"
      },
      {
        "duration": 11,
        "start_time": "2022-05-31T07:04:52.965Z"
      },
      {
        "duration": 109,
        "start_time": "2022-05-31T07:04:59.772Z"
      },
      {
        "duration": 4,
        "start_time": "2022-05-31T07:04:59.883Z"
      },
      {
        "duration": 38,
        "start_time": "2022-05-31T07:04:59.888Z"
      },
      {
        "duration": 21,
        "start_time": "2022-05-31T07:04:59.928Z"
      },
      {
        "duration": 7,
        "start_time": "2022-05-31T07:04:59.950Z"
      },
      {
        "duration": 30,
        "start_time": "2022-05-31T07:04:59.959Z"
      },
      {
        "duration": 14,
        "start_time": "2022-05-31T07:04:59.991Z"
      },
      {
        "duration": 16,
        "start_time": "2022-05-31T07:05:00.007Z"
      },
      {
        "duration": 38,
        "start_time": "2022-05-31T07:05:00.025Z"
      },
      {
        "duration": 13,
        "start_time": "2022-05-31T07:05:00.066Z"
      },
      {
        "duration": 49,
        "start_time": "2022-05-31T07:05:00.080Z"
      },
      {
        "duration": 5,
        "start_time": "2022-05-31T07:05:00.131Z"
      },
      {
        "duration": 13,
        "start_time": "2022-05-31T07:05:00.145Z"
      },
      {
        "duration": 34,
        "start_time": "2022-05-31T07:05:00.159Z"
      },
      {
        "duration": 20,
        "start_time": "2022-05-31T07:05:00.195Z"
      },
      {
        "duration": 11,
        "start_time": "2022-05-31T07:05:00.217Z"
      },
      {
        "duration": 47,
        "start_time": "2022-05-31T07:05:00.230Z"
      },
      {
        "duration": 28,
        "start_time": "2022-05-31T07:05:00.279Z"
      },
      {
        "duration": 17,
        "start_time": "2022-05-31T07:05:00.309Z"
      },
      {
        "duration": 48,
        "start_time": "2022-05-31T07:05:00.327Z"
      },
      {
        "duration": 5,
        "start_time": "2022-05-31T07:05:00.377Z"
      },
      {
        "duration": 34,
        "start_time": "2022-05-31T07:05:00.384Z"
      },
      {
        "duration": 22,
        "start_time": "2022-05-31T07:05:00.420Z"
      },
      {
        "duration": 193,
        "start_time": "2022-05-31T07:11:30.108Z"
      },
      {
        "duration": 4,
        "start_time": "2022-05-31T07:11:30.303Z"
      },
      {
        "duration": 40,
        "start_time": "2022-05-31T07:11:30.309Z"
      },
      {
        "duration": 25,
        "start_time": "2022-05-31T07:11:30.352Z"
      },
      {
        "duration": 21,
        "start_time": "2022-05-31T07:11:30.379Z"
      },
      {
        "duration": 22,
        "start_time": "2022-05-31T07:11:30.402Z"
      },
      {
        "duration": 34,
        "start_time": "2022-05-31T07:11:30.426Z"
      },
      {
        "duration": 9,
        "start_time": "2022-05-31T07:11:30.462Z"
      },
      {
        "duration": 37,
        "start_time": "2022-05-31T07:11:30.473Z"
      },
      {
        "duration": 9,
        "start_time": "2022-05-31T07:11:30.513Z"
      },
      {
        "duration": 63,
        "start_time": "2022-05-31T07:11:30.524Z"
      },
      {
        "duration": 5,
        "start_time": "2022-05-31T07:11:30.589Z"
      },
      {
        "duration": 24,
        "start_time": "2022-05-31T07:11:30.596Z"
      },
      {
        "duration": 19,
        "start_time": "2022-05-31T07:11:30.622Z"
      },
      {
        "duration": 16,
        "start_time": "2022-05-31T07:11:30.643Z"
      },
      {
        "duration": 8,
        "start_time": "2022-05-31T07:11:30.662Z"
      },
      {
        "duration": 27,
        "start_time": "2022-05-31T07:11:30.672Z"
      },
      {
        "duration": 29,
        "start_time": "2022-05-31T07:11:30.701Z"
      },
      {
        "duration": 9,
        "start_time": "2022-05-31T07:11:30.732Z"
      },
      {
        "duration": 42,
        "start_time": "2022-05-31T07:11:30.743Z"
      },
      {
        "duration": 4,
        "start_time": "2022-05-31T07:11:30.787Z"
      },
      {
        "duration": 17,
        "start_time": "2022-05-31T07:11:30.793Z"
      },
      {
        "duration": 13,
        "start_time": "2022-05-31T07:11:30.812Z"
      },
      {
        "duration": 20,
        "start_time": "2022-05-31T07:11:30.827Z"
      },
      {
        "duration": 6,
        "start_time": "2022-05-31T07:13:24.059Z"
      },
      {
        "duration": 5,
        "start_time": "2022-05-31T07:16:03.982Z"
      },
      {
        "duration": 22,
        "start_time": "2022-05-31T07:16:38.778Z"
      },
      {
        "duration": 9,
        "start_time": "2022-05-31T07:17:17.983Z"
      },
      {
        "duration": 7,
        "start_time": "2022-05-31T07:17:21.316Z"
      },
      {
        "duration": 5,
        "start_time": "2022-05-31T07:17:38.787Z"
      },
      {
        "duration": 7,
        "start_time": "2022-05-31T07:18:51.024Z"
      },
      {
        "duration": 5,
        "start_time": "2022-05-31T07:18:53.598Z"
      },
      {
        "duration": 25,
        "start_time": "2022-05-31T07:19:00.562Z"
      },
      {
        "duration": 6,
        "start_time": "2022-05-31T07:19:05.914Z"
      },
      {
        "duration": 509,
        "start_time": "2022-05-31T07:19:38.358Z"
      },
      {
        "duration": 522,
        "start_time": "2022-05-31T07:20:14.293Z"
      },
      {
        "duration": 264,
        "start_time": "2022-05-31T07:21:00.288Z"
      },
      {
        "duration": 26,
        "start_time": "2022-05-31T07:21:51.214Z"
      },
      {
        "duration": 255,
        "start_time": "2022-05-31T07:21:57.354Z"
      },
      {
        "duration": 13,
        "start_time": "2022-05-31T07:23:21.078Z"
      },
      {
        "duration": 6,
        "start_time": "2022-05-31T07:23:35.251Z"
      },
      {
        "duration": 102,
        "start_time": "2022-05-31T07:24:11.299Z"
      },
      {
        "duration": 2,
        "start_time": "2022-05-31T07:24:11.403Z"
      },
      {
        "duration": 47,
        "start_time": "2022-05-31T07:24:11.407Z"
      },
      {
        "duration": 33,
        "start_time": "2022-05-31T07:24:11.456Z"
      },
      {
        "duration": 20,
        "start_time": "2022-05-31T07:24:11.491Z"
      },
      {
        "duration": 26,
        "start_time": "2022-05-31T07:24:11.513Z"
      },
      {
        "duration": 34,
        "start_time": "2022-05-31T07:24:11.541Z"
      },
      {
        "duration": 9,
        "start_time": "2022-05-31T07:24:11.576Z"
      },
      {
        "duration": 79,
        "start_time": "2022-05-31T07:24:11.587Z"
      },
      {
        "duration": 61,
        "start_time": "2022-05-31T07:24:11.668Z"
      },
      {
        "duration": 46,
        "start_time": "2022-05-31T07:24:11.731Z"
      },
      {
        "duration": 4,
        "start_time": "2022-05-31T07:24:11.779Z"
      },
      {
        "duration": 24,
        "start_time": "2022-05-31T07:24:11.784Z"
      },
      {
        "duration": 15,
        "start_time": "2022-05-31T07:24:11.810Z"
      },
      {
        "duration": 38,
        "start_time": "2022-05-31T07:24:11.827Z"
      },
      {
        "duration": 24,
        "start_time": "2022-05-31T07:24:11.867Z"
      },
      {
        "duration": 28,
        "start_time": "2022-05-31T07:24:11.893Z"
      },
      {
        "duration": 51,
        "start_time": "2022-05-31T07:24:11.923Z"
      },
      {
        "duration": 11,
        "start_time": "2022-05-31T07:24:11.975Z"
      },
      {
        "duration": 61,
        "start_time": "2022-05-31T07:24:11.988Z"
      },
      {
        "duration": 5,
        "start_time": "2022-05-31T07:24:12.051Z"
      },
      {
        "duration": 29,
        "start_time": "2022-05-31T07:24:12.058Z"
      },
      {
        "duration": 51,
        "start_time": "2022-05-31T07:24:12.091Z"
      },
      {
        "duration": 26,
        "start_time": "2022-05-31T07:24:12.144Z"
      },
      {
        "duration": 45,
        "start_time": "2022-05-31T07:24:12.172Z"
      },
      {
        "duration": 19,
        "start_time": "2022-05-31T07:24:12.219Z"
      },
      {
        "duration": 298,
        "start_time": "2022-05-31T07:24:12.240Z"
      },
      {
        "duration": 254,
        "start_time": "2022-05-31T07:24:13.199Z"
      },
      {
        "duration": 15,
        "start_time": "2022-05-31T07:24:13.880Z"
      },
      {
        "duration": 13,
        "start_time": "2022-05-31T07:26:07.778Z"
      },
      {
        "duration": 290,
        "start_time": "2022-05-31T07:26:28.880Z"
      },
      {
        "duration": 309,
        "start_time": "2022-05-31T07:26:41.613Z"
      },
      {
        "duration": 371,
        "start_time": "2022-05-31T07:26:57.095Z"
      },
      {
        "duration": 372,
        "start_time": "2022-05-31T07:27:17.198Z"
      },
      {
        "duration": 397,
        "start_time": "2022-05-31T07:30:12.206Z"
      },
      {
        "duration": 3,
        "start_time": "2022-05-31T07:31:49.879Z"
      },
      {
        "duration": 344,
        "start_time": "2022-05-31T07:31:55.496Z"
      },
      {
        "duration": 161,
        "start_time": "2022-05-31T07:32:00.518Z"
      },
      {
        "duration": 3,
        "start_time": "2022-05-31T07:32:00.680Z"
      },
      {
        "duration": 24,
        "start_time": "2022-05-31T07:32:00.685Z"
      },
      {
        "duration": 37,
        "start_time": "2022-05-31T07:32:00.711Z"
      },
      {
        "duration": 22,
        "start_time": "2022-05-31T07:32:00.749Z"
      },
      {
        "duration": 15,
        "start_time": "2022-05-31T07:32:00.772Z"
      },
      {
        "duration": 31,
        "start_time": "2022-05-31T07:32:00.789Z"
      },
      {
        "duration": 22,
        "start_time": "2022-05-31T07:32:00.822Z"
      },
      {
        "duration": 25,
        "start_time": "2022-05-31T07:32:00.846Z"
      },
      {
        "duration": 10,
        "start_time": "2022-05-31T07:32:00.873Z"
      },
      {
        "duration": 52,
        "start_time": "2022-05-31T07:32:00.885Z"
      },
      {
        "duration": 15,
        "start_time": "2022-05-31T07:32:00.939Z"
      },
      {
        "duration": 52,
        "start_time": "2022-05-31T07:32:00.956Z"
      },
      {
        "duration": 46,
        "start_time": "2022-05-31T07:32:01.010Z"
      },
      {
        "duration": 25,
        "start_time": "2022-05-31T07:32:01.058Z"
      },
      {
        "duration": 34,
        "start_time": "2022-05-31T07:32:01.085Z"
      },
      {
        "duration": 38,
        "start_time": "2022-05-31T07:32:01.120Z"
      },
      {
        "duration": 29,
        "start_time": "2022-05-31T07:32:01.160Z"
      },
      {
        "duration": 33,
        "start_time": "2022-05-31T07:32:01.191Z"
      },
      {
        "duration": 44,
        "start_time": "2022-05-31T07:32:01.226Z"
      },
      {
        "duration": 4,
        "start_time": "2022-05-31T07:32:01.272Z"
      },
      {
        "duration": 16,
        "start_time": "2022-05-31T07:32:01.278Z"
      },
      {
        "duration": 30,
        "start_time": "2022-05-31T07:32:01.296Z"
      },
      {
        "duration": 22,
        "start_time": "2022-05-31T07:32:01.327Z"
      },
      {
        "duration": 34,
        "start_time": "2022-05-31T07:32:01.350Z"
      },
      {
        "duration": 20,
        "start_time": "2022-05-31T07:32:01.386Z"
      },
      {
        "duration": 7,
        "start_time": "2022-05-31T07:32:06.717Z"
      },
      {
        "duration": 8,
        "start_time": "2022-05-31T07:32:12.762Z"
      },
      {
        "duration": 6,
        "start_time": "2022-05-31T07:38:42.786Z"
      },
      {
        "duration": 27,
        "start_time": "2022-05-31T07:38:43.301Z"
      },
      {
        "duration": 442,
        "start_time": "2022-05-31T07:42:45.774Z"
      },
      {
        "duration": 14,
        "start_time": "2022-05-31T07:43:12.399Z"
      },
      {
        "duration": 17,
        "start_time": "2022-05-31T07:43:55.908Z"
      },
      {
        "duration": 12,
        "start_time": "2022-05-31T07:44:16.583Z"
      },
      {
        "duration": 7,
        "start_time": "2022-05-31T07:44:31.010Z"
      },
      {
        "duration": 8,
        "start_time": "2022-05-31T07:44:47.004Z"
      },
      {
        "duration": 10,
        "start_time": "2022-05-31T07:45:04.750Z"
      },
      {
        "duration": 7,
        "start_time": "2022-05-31T07:45:11.485Z"
      },
      {
        "duration": 96,
        "start_time": "2022-05-31T07:45:19.955Z"
      },
      {
        "duration": 3,
        "start_time": "2022-05-31T07:45:20.053Z"
      },
      {
        "duration": 35,
        "start_time": "2022-05-31T07:45:20.058Z"
      },
      {
        "duration": 32,
        "start_time": "2022-05-31T07:45:20.095Z"
      },
      {
        "duration": 25,
        "start_time": "2022-05-31T07:45:20.129Z"
      },
      {
        "duration": 23,
        "start_time": "2022-05-31T07:45:20.156Z"
      },
      {
        "duration": 25,
        "start_time": "2022-05-31T07:45:20.180Z"
      },
      {
        "duration": 17,
        "start_time": "2022-05-31T07:45:20.206Z"
      },
      {
        "duration": 35,
        "start_time": "2022-05-31T07:45:20.225Z"
      },
      {
        "duration": 15,
        "start_time": "2022-05-31T07:45:20.262Z"
      },
      {
        "duration": 45,
        "start_time": "2022-05-31T07:45:20.279Z"
      },
      {
        "duration": 5,
        "start_time": "2022-05-31T07:45:20.325Z"
      },
      {
        "duration": 20,
        "start_time": "2022-05-31T07:45:20.331Z"
      },
      {
        "duration": 32,
        "start_time": "2022-05-31T07:45:20.354Z"
      },
      {
        "duration": 29,
        "start_time": "2022-05-31T07:45:20.388Z"
      },
      {
        "duration": 13,
        "start_time": "2022-05-31T07:45:20.419Z"
      },
      {
        "duration": 21,
        "start_time": "2022-05-31T07:45:20.434Z"
      },
      {
        "duration": 22,
        "start_time": "2022-05-31T07:45:20.457Z"
      },
      {
        "duration": 26,
        "start_time": "2022-05-31T07:45:20.481Z"
      },
      {
        "duration": 50,
        "start_time": "2022-05-31T07:45:20.509Z"
      },
      {
        "duration": 5,
        "start_time": "2022-05-31T07:45:20.561Z"
      },
      {
        "duration": 32,
        "start_time": "2022-05-31T07:45:20.569Z"
      },
      {
        "duration": 21,
        "start_time": "2022-05-31T07:45:20.603Z"
      },
      {
        "duration": 18,
        "start_time": "2022-05-31T07:45:20.626Z"
      },
      {
        "duration": 27,
        "start_time": "2022-05-31T07:45:20.646Z"
      },
      {
        "duration": 18,
        "start_time": "2022-05-31T07:45:20.676Z"
      },
      {
        "duration": 46,
        "start_time": "2022-05-31T07:45:20.696Z"
      },
      {
        "duration": 6,
        "start_time": "2022-05-31T07:45:22.647Z"
      },
      {
        "duration": 11,
        "start_time": "2022-05-31T07:45:23.178Z"
      },
      {
        "duration": 13,
        "start_time": "2022-05-31T07:46:35.714Z"
      },
      {
        "duration": 117,
        "start_time": "2022-05-31T07:46:49.109Z"
      },
      {
        "duration": 4,
        "start_time": "2022-05-31T07:46:49.228Z"
      },
      {
        "duration": 16,
        "start_time": "2022-05-31T07:46:49.233Z"
      },
      {
        "duration": 21,
        "start_time": "2022-05-31T07:46:49.251Z"
      },
      {
        "duration": 7,
        "start_time": "2022-05-31T07:46:49.274Z"
      },
      {
        "duration": 44,
        "start_time": "2022-05-31T07:46:49.283Z"
      },
      {
        "duration": 20,
        "start_time": "2022-05-31T07:46:49.329Z"
      },
      {
        "duration": 3,
        "start_time": "2022-05-31T07:46:49.352Z"
      },
      {
        "duration": 19,
        "start_time": "2022-05-31T07:46:49.357Z"
      },
      {
        "duration": 10,
        "start_time": "2022-05-31T07:46:49.379Z"
      },
      {
        "duration": 57,
        "start_time": "2022-05-31T07:46:49.390Z"
      },
      {
        "duration": 4,
        "start_time": "2022-05-31T07:46:49.448Z"
      },
      {
        "duration": 17,
        "start_time": "2022-05-31T07:46:49.454Z"
      },
      {
        "duration": 15,
        "start_time": "2022-05-31T07:46:49.473Z"
      },
      {
        "duration": 13,
        "start_time": "2022-05-31T07:46:49.490Z"
      },
      {
        "duration": 13,
        "start_time": "2022-05-31T07:46:49.505Z"
      },
      {
        "duration": 12,
        "start_time": "2022-05-31T07:46:49.520Z"
      },
      {
        "duration": 9,
        "start_time": "2022-05-31T07:46:49.545Z"
      },
      {
        "duration": 11,
        "start_time": "2022-05-31T07:46:49.556Z"
      },
      {
        "duration": 34,
        "start_time": "2022-05-31T07:46:49.568Z"
      },
      {
        "duration": 4,
        "start_time": "2022-05-31T07:46:49.603Z"
      },
      {
        "duration": 41,
        "start_time": "2022-05-31T07:46:49.608Z"
      },
      {
        "duration": 15,
        "start_time": "2022-05-31T07:46:49.650Z"
      },
      {
        "duration": 15,
        "start_time": "2022-05-31T07:46:49.666Z"
      },
      {
        "duration": 22,
        "start_time": "2022-05-31T07:46:49.682Z"
      },
      {
        "duration": 12,
        "start_time": "2022-05-31T07:46:49.706Z"
      },
      {
        "duration": 9,
        "start_time": "2022-05-31T07:46:49.720Z"
      },
      {
        "duration": 6,
        "start_time": "2022-05-31T07:46:51.618Z"
      },
      {
        "duration": 10,
        "start_time": "2022-05-31T07:46:55.630Z"
      },
      {
        "duration": 106,
        "start_time": "2022-05-31T07:48:09.474Z"
      },
      {
        "duration": 4,
        "start_time": "2022-05-31T07:48:09.582Z"
      },
      {
        "duration": 15,
        "start_time": "2022-05-31T07:48:09.587Z"
      },
      {
        "duration": 23,
        "start_time": "2022-05-31T07:48:09.604Z"
      },
      {
        "duration": 18,
        "start_time": "2022-05-31T07:48:09.629Z"
      },
      {
        "duration": 40,
        "start_time": "2022-05-31T07:48:09.649Z"
      },
      {
        "duration": 15,
        "start_time": "2022-05-31T07:48:09.691Z"
      },
      {
        "duration": 5,
        "start_time": "2022-05-31T07:48:09.707Z"
      },
      {
        "duration": 24,
        "start_time": "2022-05-31T07:48:09.713Z"
      },
      {
        "duration": 11,
        "start_time": "2022-05-31T07:48:09.739Z"
      },
      {
        "duration": 40,
        "start_time": "2022-05-31T07:48:09.752Z"
      },
      {
        "duration": 4,
        "start_time": "2022-05-31T07:48:09.793Z"
      },
      {
        "duration": 20,
        "start_time": "2022-05-31T07:48:09.799Z"
      },
      {
        "duration": 10,
        "start_time": "2022-05-31T07:48:09.821Z"
      },
      {
        "duration": 8,
        "start_time": "2022-05-31T07:48:09.844Z"
      },
      {
        "duration": 7,
        "start_time": "2022-05-31T07:48:09.854Z"
      },
      {
        "duration": 10,
        "start_time": "2022-05-31T07:48:09.862Z"
      },
      {
        "duration": 10,
        "start_time": "2022-05-31T07:48:09.874Z"
      },
      {
        "duration": 10,
        "start_time": "2022-05-31T07:48:09.885Z"
      },
      {
        "duration": 55,
        "start_time": "2022-05-31T07:48:09.897Z"
      },
      {
        "duration": 4,
        "start_time": "2022-05-31T07:48:09.954Z"
      },
      {
        "duration": 18,
        "start_time": "2022-05-31T07:48:09.959Z"
      },
      {
        "duration": 12,
        "start_time": "2022-05-31T07:48:09.978Z"
      },
      {
        "duration": 18,
        "start_time": "2022-05-31T07:48:09.991Z"
      },
      {
        "duration": 42,
        "start_time": "2022-05-31T07:48:10.011Z"
      },
      {
        "duration": 5,
        "start_time": "2022-05-31T07:48:10.054Z"
      },
      {
        "duration": 6,
        "start_time": "2022-05-31T07:48:12.605Z"
      },
      {
        "duration": 8,
        "start_time": "2022-05-31T07:48:13.237Z"
      },
      {
        "duration": 5,
        "start_time": "2022-05-31T07:48:21.951Z"
      },
      {
        "duration": 5,
        "start_time": "2022-05-31T07:49:52.652Z"
      },
      {
        "duration": 11,
        "start_time": "2022-05-31T07:49:55.069Z"
      },
      {
        "duration": 93,
        "start_time": "2022-05-31T07:50:06.591Z"
      },
      {
        "duration": 3,
        "start_time": "2022-05-31T07:50:06.686Z"
      },
      {
        "duration": 27,
        "start_time": "2022-05-31T07:50:06.690Z"
      },
      {
        "duration": 18,
        "start_time": "2022-05-31T07:50:06.719Z"
      },
      {
        "duration": 12,
        "start_time": "2022-05-31T07:50:06.738Z"
      },
      {
        "duration": 10,
        "start_time": "2022-05-31T07:50:06.752Z"
      },
      {
        "duration": 11,
        "start_time": "2022-05-31T07:50:06.764Z"
      },
      {
        "duration": 5,
        "start_time": "2022-05-31T07:50:06.776Z"
      },
      {
        "duration": 18,
        "start_time": "2022-05-31T07:50:06.783Z"
      },
      {
        "duration": 8,
        "start_time": "2022-05-31T07:50:06.805Z"
      },
      {
        "duration": 54,
        "start_time": "2022-05-31T07:50:06.815Z"
      },
      {
        "duration": 5,
        "start_time": "2022-05-31T07:50:06.870Z"
      },
      {
        "duration": 11,
        "start_time": "2022-05-31T07:50:06.877Z"
      },
      {
        "duration": 8,
        "start_time": "2022-05-31T07:50:06.890Z"
      },
      {
        "duration": 8,
        "start_time": "2022-05-31T07:50:06.899Z"
      },
      {
        "duration": 4,
        "start_time": "2022-05-31T07:50:06.909Z"
      },
      {
        "duration": 7,
        "start_time": "2022-05-31T07:50:06.944Z"
      },
      {
        "duration": 15,
        "start_time": "2022-05-31T07:50:06.953Z"
      },
      {
        "duration": 10,
        "start_time": "2022-05-31T07:50:06.970Z"
      },
      {
        "duration": 38,
        "start_time": "2022-05-31T07:50:06.982Z"
      },
      {
        "duration": 23,
        "start_time": "2022-05-31T07:50:07.022Z"
      },
      {
        "duration": 8,
        "start_time": "2022-05-31T07:50:07.046Z"
      },
      {
        "duration": 11,
        "start_time": "2022-05-31T07:50:07.055Z"
      },
      {
        "duration": 9,
        "start_time": "2022-05-31T07:50:07.067Z"
      },
      {
        "duration": 20,
        "start_time": "2022-05-31T07:50:07.077Z"
      },
      {
        "duration": 4,
        "start_time": "2022-05-31T07:50:07.099Z"
      },
      {
        "duration": 11,
        "start_time": "2022-05-31T07:50:07.104Z"
      },
      {
        "duration": 10,
        "start_time": "2022-05-31T07:50:32.284Z"
      },
      {
        "duration": 9,
        "start_time": "2022-05-31T07:50:37.237Z"
      },
      {
        "duration": 5,
        "start_time": "2022-05-31T07:51:29.271Z"
      },
      {
        "duration": 10,
        "start_time": "2022-05-31T07:51:29.950Z"
      },
      {
        "duration": 160,
        "start_time": "2022-05-31T07:51:39.752Z"
      },
      {
        "duration": 4,
        "start_time": "2022-05-31T07:51:39.914Z"
      },
      {
        "duration": 16,
        "start_time": "2022-05-31T07:51:39.919Z"
      },
      {
        "duration": 29,
        "start_time": "2022-05-31T07:51:39.936Z"
      },
      {
        "duration": 10,
        "start_time": "2022-05-31T07:51:39.968Z"
      },
      {
        "duration": 14,
        "start_time": "2022-05-31T07:51:39.979Z"
      },
      {
        "duration": 15,
        "start_time": "2022-05-31T07:51:39.995Z"
      },
      {
        "duration": 3,
        "start_time": "2022-05-31T07:51:40.011Z"
      },
      {
        "duration": 31,
        "start_time": "2022-05-31T07:51:40.016Z"
      },
      {
        "duration": 17,
        "start_time": "2022-05-31T07:51:40.050Z"
      },
      {
        "duration": 31,
        "start_time": "2022-05-31T07:51:40.068Z"
      },
      {
        "duration": 5,
        "start_time": "2022-05-31T07:51:40.101Z"
      },
      {
        "duration": 36,
        "start_time": "2022-05-31T07:51:40.108Z"
      },
      {
        "duration": 5,
        "start_time": "2022-05-31T07:51:40.147Z"
      },
      {
        "duration": 7,
        "start_time": "2022-05-31T07:51:40.154Z"
      },
      {
        "duration": 4,
        "start_time": "2022-05-31T07:51:40.162Z"
      },
      {
        "duration": 8,
        "start_time": "2022-05-31T07:51:40.168Z"
      },
      {
        "duration": 10,
        "start_time": "2022-05-31T07:51:40.178Z"
      },
      {
        "duration": 10,
        "start_time": "2022-05-31T07:51:40.189Z"
      },
      {
        "duration": 64,
        "start_time": "2022-05-31T07:51:40.200Z"
      },
      {
        "duration": 4,
        "start_time": "2022-05-31T07:51:40.266Z"
      },
      {
        "duration": 14,
        "start_time": "2022-05-31T07:51:40.271Z"
      },
      {
        "duration": 16,
        "start_time": "2022-05-31T07:51:40.287Z"
      },
      {
        "duration": 10,
        "start_time": "2022-05-31T07:51:40.305Z"
      },
      {
        "duration": 43,
        "start_time": "2022-05-31T07:51:40.316Z"
      },
      {
        "duration": 7,
        "start_time": "2022-05-31T07:51:40.361Z"
      },
      {
        "duration": 11,
        "start_time": "2022-05-31T07:51:40.369Z"
      },
      {
        "duration": 8,
        "start_time": "2022-05-31T07:51:40.381Z"
      },
      {
        "duration": 12,
        "start_time": "2022-05-31T07:51:40.391Z"
      },
      {
        "duration": 5,
        "start_time": "2022-05-31T07:52:11.971Z"
      },
      {
        "duration": 6,
        "start_time": "2022-05-31T07:52:30.628Z"
      },
      {
        "duration": 162,
        "start_time": "2022-05-31T07:52:39.072Z"
      },
      {
        "duration": 3,
        "start_time": "2022-05-31T07:52:39.236Z"
      },
      {
        "duration": 29,
        "start_time": "2022-05-31T07:52:39.240Z"
      },
      {
        "duration": 25,
        "start_time": "2022-05-31T07:52:39.270Z"
      },
      {
        "duration": 24,
        "start_time": "2022-05-31T07:52:39.297Z"
      },
      {
        "duration": 27,
        "start_time": "2022-05-31T07:52:39.323Z"
      },
      {
        "duration": 31,
        "start_time": "2022-05-31T07:52:39.352Z"
      },
      {
        "duration": 22,
        "start_time": "2022-05-31T07:52:39.385Z"
      },
      {
        "duration": 34,
        "start_time": "2022-05-31T07:52:39.408Z"
      },
      {
        "duration": 47,
        "start_time": "2022-05-31T07:52:39.443Z"
      },
      {
        "duration": 59,
        "start_time": "2022-05-31T07:52:39.492Z"
      },
      {
        "duration": 4,
        "start_time": "2022-05-31T07:52:39.552Z"
      },
      {
        "duration": 43,
        "start_time": "2022-05-31T07:52:39.558Z"
      },
      {
        "duration": 28,
        "start_time": "2022-05-31T07:52:39.604Z"
      },
      {
        "duration": 32,
        "start_time": "2022-05-31T07:52:39.634Z"
      },
      {
        "duration": 6,
        "start_time": "2022-05-31T07:52:39.668Z"
      },
      {
        "duration": 32,
        "start_time": "2022-05-31T07:52:39.676Z"
      },
      {
        "duration": 32,
        "start_time": "2022-05-31T07:52:39.710Z"
      },
      {
        "duration": 34,
        "start_time": "2022-05-31T07:52:39.743Z"
      },
      {
        "duration": 52,
        "start_time": "2022-05-31T07:52:39.778Z"
      },
      {
        "duration": 4,
        "start_time": "2022-05-31T07:52:39.831Z"
      },
      {
        "duration": 34,
        "start_time": "2022-05-31T07:52:39.836Z"
      },
      {
        "duration": 40,
        "start_time": "2022-05-31T07:52:39.871Z"
      },
      {
        "duration": 21,
        "start_time": "2022-05-31T07:52:39.913Z"
      },
      {
        "duration": 38,
        "start_time": "2022-05-31T07:52:39.935Z"
      },
      {
        "duration": 9,
        "start_time": "2022-05-31T07:52:39.974Z"
      },
      {
        "duration": 51,
        "start_time": "2022-05-31T07:52:39.984Z"
      },
      {
        "duration": 20,
        "start_time": "2022-05-31T07:52:40.037Z"
      },
      {
        "duration": 7,
        "start_time": "2022-05-31T07:52:43.178Z"
      },
      {
        "duration": 7,
        "start_time": "2022-05-31T07:52:43.763Z"
      },
      {
        "duration": 4,
        "start_time": "2022-05-31T07:53:34.232Z"
      },
      {
        "duration": 4,
        "start_time": "2022-05-31T07:53:41.942Z"
      },
      {
        "duration": 8,
        "start_time": "2022-05-31T07:54:29.700Z"
      },
      {
        "duration": 5,
        "start_time": "2022-05-31T07:55:35.422Z"
      },
      {
        "duration": 28,
        "start_time": "2022-05-31T07:56:20.003Z"
      },
      {
        "duration": 14,
        "start_time": "2022-05-31T07:59:06.713Z"
      },
      {
        "duration": 7,
        "start_time": "2022-05-31T07:59:33.906Z"
      },
      {
        "duration": 10,
        "start_time": "2022-05-31T08:00:21.788Z"
      },
      {
        "duration": 38,
        "start_time": "2022-05-31T08:00:37.570Z"
      },
      {
        "duration": 103,
        "start_time": "2022-05-31T08:00:54.091Z"
      },
      {
        "duration": 3,
        "start_time": "2022-05-31T08:00:54.196Z"
      },
      {
        "duration": 14,
        "start_time": "2022-05-31T08:00:54.201Z"
      },
      {
        "duration": 15,
        "start_time": "2022-05-31T08:00:54.218Z"
      },
      {
        "duration": 14,
        "start_time": "2022-05-31T08:00:54.234Z"
      },
      {
        "duration": 11,
        "start_time": "2022-05-31T08:00:54.250Z"
      },
      {
        "duration": 12,
        "start_time": "2022-05-31T08:00:54.263Z"
      },
      {
        "duration": 3,
        "start_time": "2022-05-31T08:00:54.277Z"
      },
      {
        "duration": 18,
        "start_time": "2022-05-31T08:00:54.281Z"
      },
      {
        "duration": 9,
        "start_time": "2022-05-31T08:00:54.302Z"
      },
      {
        "duration": 59,
        "start_time": "2022-05-31T08:00:54.313Z"
      },
      {
        "duration": 4,
        "start_time": "2022-05-31T08:00:54.374Z"
      },
      {
        "duration": 11,
        "start_time": "2022-05-31T08:00:54.380Z"
      },
      {
        "duration": 12,
        "start_time": "2022-05-31T08:00:54.393Z"
      },
      {
        "duration": 8,
        "start_time": "2022-05-31T08:00:54.406Z"
      },
      {
        "duration": 29,
        "start_time": "2022-05-31T08:00:54.415Z"
      },
      {
        "duration": 8,
        "start_time": "2022-05-31T08:00:54.446Z"
      },
      {
        "duration": 16,
        "start_time": "2022-05-31T08:00:54.456Z"
      },
      {
        "duration": 9,
        "start_time": "2022-05-31T08:00:54.474Z"
      },
      {
        "duration": 34,
        "start_time": "2022-05-31T08:00:54.484Z"
      },
      {
        "duration": 4,
        "start_time": "2022-05-31T08:00:54.519Z"
      },
      {
        "duration": 30,
        "start_time": "2022-05-31T08:00:54.525Z"
      },
      {
        "duration": 14,
        "start_time": "2022-05-31T08:00:54.556Z"
      },
      {
        "duration": 15,
        "start_time": "2022-05-31T08:00:54.571Z"
      },
      {
        "duration": 26,
        "start_time": "2022-05-31T08:00:54.588Z"
      },
      {
        "duration": 5,
        "start_time": "2022-05-31T08:00:54.616Z"
      },
      {
        "duration": 27,
        "start_time": "2022-05-31T08:00:54.622Z"
      },
      {
        "duration": 4,
        "start_time": "2022-05-31T08:00:54.653Z"
      },
      {
        "duration": 5,
        "start_time": "2022-05-31T08:00:54.659Z"
      },
      {
        "duration": 5,
        "start_time": "2022-05-31T08:01:08.200Z"
      },
      {
        "duration": 38,
        "start_time": "2022-05-31T08:01:08.873Z"
      },
      {
        "duration": 39,
        "start_time": "2022-05-31T08:02:01.363Z"
      },
      {
        "duration": 32,
        "start_time": "2022-05-31T08:08:23.056Z"
      },
      {
        "duration": 32,
        "start_time": "2022-05-31T08:08:44.387Z"
      },
      {
        "duration": 32,
        "start_time": "2022-05-31T08:09:52.364Z"
      },
      {
        "duration": 104,
        "start_time": "2022-05-31T08:16:46.556Z"
      },
      {
        "duration": 2,
        "start_time": "2022-05-31T08:16:46.662Z"
      },
      {
        "duration": 18,
        "start_time": "2022-05-31T08:16:46.666Z"
      },
      {
        "duration": 23,
        "start_time": "2022-05-31T08:16:46.686Z"
      },
      {
        "duration": 6,
        "start_time": "2022-05-31T08:16:46.711Z"
      },
      {
        "duration": 26,
        "start_time": "2022-05-31T08:16:46.719Z"
      },
      {
        "duration": 12,
        "start_time": "2022-05-31T08:16:46.747Z"
      },
      {
        "duration": 4,
        "start_time": "2022-05-31T08:16:46.761Z"
      },
      {
        "duration": 19,
        "start_time": "2022-05-31T08:16:46.766Z"
      },
      {
        "duration": 10,
        "start_time": "2022-05-31T08:16:46.787Z"
      },
      {
        "duration": 70,
        "start_time": "2022-05-31T08:16:46.799Z"
      },
      {
        "duration": 4,
        "start_time": "2022-05-31T08:16:46.871Z"
      },
      {
        "duration": 14,
        "start_time": "2022-05-31T08:16:46.877Z"
      },
      {
        "duration": 6,
        "start_time": "2022-05-31T08:16:46.894Z"
      },
      {
        "duration": 8,
        "start_time": "2022-05-31T08:16:46.902Z"
      },
      {
        "duration": 35,
        "start_time": "2022-05-31T08:16:46.912Z"
      },
      {
        "duration": 23,
        "start_time": "2022-05-31T08:16:46.948Z"
      },
      {
        "duration": 7,
        "start_time": "2022-05-31T08:16:46.973Z"
      },
      {
        "duration": 10,
        "start_time": "2022-05-31T08:16:46.982Z"
      },
      {
        "duration": 26,
        "start_time": "2022-05-31T08:16:46.994Z"
      },
      {
        "duration": 8,
        "start_time": "2022-05-31T08:16:47.022Z"
      },
      {
        "duration": 16,
        "start_time": "2022-05-31T08:16:47.032Z"
      },
      {
        "duration": 8,
        "start_time": "2022-05-31T08:16:47.049Z"
      },
      {
        "duration": 4,
        "start_time": "2022-05-31T08:16:49.860Z"
      },
      {
        "duration": 41,
        "start_time": "2022-05-31T08:16:51.860Z"
      },
      {
        "duration": 5,
        "start_time": "2022-05-31T08:18:20.091Z"
      },
      {
        "duration": 9,
        "start_time": "2022-05-31T08:18:22.082Z"
      },
      {
        "duration": 12,
        "start_time": "2022-05-31T08:18:27.511Z"
      },
      {
        "duration": 34,
        "start_time": "2022-05-31T08:18:28.251Z"
      },
      {
        "duration": 4,
        "start_time": "2022-05-31T08:18:31.915Z"
      },
      {
        "duration": 8,
        "start_time": "2022-05-31T08:19:05.996Z"
      },
      {
        "duration": 8,
        "start_time": "2022-05-31T08:19:06.535Z"
      },
      {
        "duration": 30,
        "start_time": "2022-05-31T08:19:25.582Z"
      },
      {
        "duration": 246,
        "start_time": "2022-05-31T08:19:36.672Z"
      },
      {
        "duration": 3,
        "start_time": "2022-05-31T08:19:36.920Z"
      },
      {
        "duration": 14,
        "start_time": "2022-05-31T08:19:36.925Z"
      },
      {
        "duration": 15,
        "start_time": "2022-05-31T08:19:36.941Z"
      },
      {
        "duration": 6,
        "start_time": "2022-05-31T08:19:36.958Z"
      },
      {
        "duration": 9,
        "start_time": "2022-05-31T08:19:36.966Z"
      },
      {
        "duration": 14,
        "start_time": "2022-05-31T08:19:36.976Z"
      },
      {
        "duration": 3,
        "start_time": "2022-05-31T08:19:36.992Z"
      },
      {
        "duration": 22,
        "start_time": "2022-05-31T08:19:36.996Z"
      },
      {
        "duration": 10,
        "start_time": "2022-05-31T08:19:37.046Z"
      },
      {
        "duration": 38,
        "start_time": "2022-05-31T08:19:37.058Z"
      },
      {
        "duration": 4,
        "start_time": "2022-05-31T08:19:37.098Z"
      },
      {
        "duration": 15,
        "start_time": "2022-05-31T08:19:37.103Z"
      },
      {
        "duration": 23,
        "start_time": "2022-05-31T08:19:37.121Z"
      },
      {
        "duration": 8,
        "start_time": "2022-05-31T08:19:37.146Z"
      },
      {
        "duration": 4,
        "start_time": "2022-05-31T08:19:37.156Z"
      },
      {
        "duration": 9,
        "start_time": "2022-05-31T08:19:37.162Z"
      },
      {
        "duration": 8,
        "start_time": "2022-05-31T08:19:37.172Z"
      },
      {
        "duration": 6,
        "start_time": "2022-05-31T08:19:37.182Z"
      },
      {
        "duration": 56,
        "start_time": "2022-05-31T08:19:37.190Z"
      },
      {
        "duration": 8,
        "start_time": "2022-05-31T08:19:37.248Z"
      },
      {
        "duration": 9,
        "start_time": "2022-05-31T08:19:37.257Z"
      },
      {
        "duration": 8,
        "start_time": "2022-05-31T08:19:37.267Z"
      },
      {
        "duration": 66,
        "start_time": "2022-05-31T08:19:37.276Z"
      },
      {
        "duration": 6,
        "start_time": "2022-05-31T08:19:37.344Z"
      },
      {
        "duration": 17,
        "start_time": "2022-05-31T08:19:37.351Z"
      },
      {
        "duration": 18,
        "start_time": "2022-05-31T08:19:37.369Z"
      },
      {
        "duration": 32,
        "start_time": "2022-05-31T08:19:37.388Z"
      },
      {
        "duration": 4,
        "start_time": "2022-05-31T08:19:37.421Z"
      },
      {
        "duration": 25,
        "start_time": "2022-05-31T08:19:37.426Z"
      },
      {
        "duration": 15,
        "start_time": "2022-05-31T08:19:37.452Z"
      },
      {
        "duration": 26,
        "start_time": "2022-05-31T08:19:37.468Z"
      },
      {
        "duration": 20,
        "start_time": "2022-05-31T08:19:40.476Z"
      },
      {
        "duration": 4,
        "start_time": "2022-05-31T08:20:00.064Z"
      },
      {
        "duration": 10,
        "start_time": "2022-05-31T08:20:42.043Z"
      },
      {
        "duration": 5,
        "start_time": "2022-05-31T08:20:51.072Z"
      },
      {
        "duration": 8,
        "start_time": "2022-05-31T08:21:22.191Z"
      },
      {
        "duration": 4,
        "start_time": "2022-05-31T08:21:40.313Z"
      },
      {
        "duration": 4,
        "start_time": "2022-05-31T08:22:16.268Z"
      },
      {
        "duration": 5,
        "start_time": "2022-05-31T08:22:18.348Z"
      },
      {
        "duration": 10,
        "start_time": "2022-05-31T08:22:43.351Z"
      },
      {
        "duration": 19,
        "start_time": "2022-05-31T08:23:44.912Z"
      },
      {
        "duration": 155,
        "start_time": "2022-05-31T08:24:23.148Z"
      },
      {
        "duration": 3,
        "start_time": "2022-05-31T08:24:23.305Z"
      },
      {
        "duration": 24,
        "start_time": "2022-05-31T08:24:23.310Z"
      },
      {
        "duration": 17,
        "start_time": "2022-05-31T08:24:23.335Z"
      },
      {
        "duration": 5,
        "start_time": "2022-05-31T08:24:23.354Z"
      },
      {
        "duration": 10,
        "start_time": "2022-05-31T08:24:23.361Z"
      },
      {
        "duration": 14,
        "start_time": "2022-05-31T08:24:23.372Z"
      },
      {
        "duration": 4,
        "start_time": "2022-05-31T08:24:23.387Z"
      },
      {
        "duration": 19,
        "start_time": "2022-05-31T08:24:23.393Z"
      },
      {
        "duration": 30,
        "start_time": "2022-05-31T08:24:23.414Z"
      },
      {
        "duration": 31,
        "start_time": "2022-05-31T08:24:23.446Z"
      },
      {
        "duration": 4,
        "start_time": "2022-05-31T08:24:23.478Z"
      },
      {
        "duration": 22,
        "start_time": "2022-05-31T08:24:23.483Z"
      },
      {
        "duration": 6,
        "start_time": "2022-05-31T08:24:23.509Z"
      },
      {
        "duration": 19,
        "start_time": "2022-05-31T08:24:23.517Z"
      },
      {
        "duration": 5,
        "start_time": "2022-05-31T08:24:23.544Z"
      },
      {
        "duration": 22,
        "start_time": "2022-05-31T08:24:23.550Z"
      },
      {
        "duration": 6,
        "start_time": "2022-05-31T08:24:23.575Z"
      },
      {
        "duration": 6,
        "start_time": "2022-05-31T08:24:23.582Z"
      },
      {
        "duration": 34,
        "start_time": "2022-05-31T08:24:23.590Z"
      },
      {
        "duration": 25,
        "start_time": "2022-05-31T08:24:23.626Z"
      },
      {
        "duration": 6,
        "start_time": "2022-05-31T08:24:23.653Z"
      },
      {
        "duration": 5,
        "start_time": "2022-05-31T08:24:23.660Z"
      },
      {
        "duration": 38,
        "start_time": "2022-05-31T08:24:23.667Z"
      },
      {
        "duration": 5,
        "start_time": "2022-05-31T08:24:23.707Z"
      },
      {
        "duration": 9,
        "start_time": "2022-05-31T08:24:23.744Z"
      },
      {
        "duration": 9,
        "start_time": "2022-05-31T08:24:23.754Z"
      },
      {
        "duration": 33,
        "start_time": "2022-05-31T08:24:23.765Z"
      },
      {
        "duration": 3,
        "start_time": "2022-05-31T08:24:23.800Z"
      },
      {
        "duration": 11,
        "start_time": "2022-05-31T08:24:23.805Z"
      },
      {
        "duration": 34,
        "start_time": "2022-05-31T08:24:23.818Z"
      },
      {
        "duration": 5,
        "start_time": "2022-05-31T08:24:23.853Z"
      },
      {
        "duration": 7,
        "start_time": "2022-05-31T08:24:23.860Z"
      },
      {
        "duration": 5,
        "start_time": "2022-05-31T08:24:26.968Z"
      },
      {
        "duration": 15,
        "start_time": "2022-05-31T08:24:27.867Z"
      },
      {
        "duration": 12,
        "start_time": "2022-05-31T08:24:57.860Z"
      },
      {
        "duration": 15,
        "start_time": "2022-05-31T08:25:12.108Z"
      },
      {
        "duration": 4,
        "start_time": "2022-05-31T08:25:31.692Z"
      },
      {
        "duration": 14,
        "start_time": "2022-05-31T08:29:51.947Z"
      },
      {
        "duration": 57,
        "start_time": "2022-05-31T08:30:15.274Z"
      },
      {
        "duration": 5,
        "start_time": "2022-05-31T08:30:22.637Z"
      },
      {
        "duration": 10,
        "start_time": "2022-05-31T08:30:41.089Z"
      },
      {
        "duration": 10,
        "start_time": "2022-05-31T08:30:54.778Z"
      },
      {
        "duration": 4,
        "start_time": "2022-05-31T08:32:18.764Z"
      },
      {
        "duration": 2090,
        "start_time": "2022-05-31T08:35:05.459Z"
      },
      {
        "duration": 2943,
        "start_time": "2022-05-31T08:35:31.060Z"
      },
      {
        "duration": 2325,
        "start_time": "2022-05-31T08:36:22.135Z"
      },
      {
        "duration": 4,
        "start_time": "2022-05-31T08:37:00.674Z"
      },
      {
        "duration": 5,
        "start_time": "2022-05-31T08:38:38.578Z"
      },
      {
        "duration": 149,
        "start_time": "2022-05-31T08:38:45.785Z"
      },
      {
        "duration": 3,
        "start_time": "2022-05-31T08:38:45.935Z"
      },
      {
        "duration": 23,
        "start_time": "2022-05-31T08:38:45.940Z"
      },
      {
        "duration": 18,
        "start_time": "2022-05-31T08:38:45.965Z"
      },
      {
        "duration": 7,
        "start_time": "2022-05-31T08:38:45.984Z"
      },
      {
        "duration": 12,
        "start_time": "2022-05-31T08:38:45.992Z"
      },
      {
        "duration": 13,
        "start_time": "2022-05-31T08:38:46.005Z"
      },
      {
        "duration": 4,
        "start_time": "2022-05-31T08:38:46.019Z"
      },
      {
        "duration": 30,
        "start_time": "2022-05-31T08:38:46.025Z"
      },
      {
        "duration": 9,
        "start_time": "2022-05-31T08:38:46.058Z"
      },
      {
        "duration": 36,
        "start_time": "2022-05-31T08:38:46.068Z"
      },
      {
        "duration": 4,
        "start_time": "2022-05-31T08:38:46.105Z"
      },
      {
        "duration": 15,
        "start_time": "2022-05-31T08:38:46.111Z"
      },
      {
        "duration": 23,
        "start_time": "2022-05-31T08:38:46.127Z"
      },
      {
        "duration": 8,
        "start_time": "2022-05-31T08:38:46.152Z"
      },
      {
        "duration": 6,
        "start_time": "2022-05-31T08:38:46.162Z"
      },
      {
        "duration": 10,
        "start_time": "2022-05-31T08:38:46.169Z"
      },
      {
        "duration": 7,
        "start_time": "2022-05-31T08:38:46.181Z"
      },
      {
        "duration": 7,
        "start_time": "2022-05-31T08:38:46.190Z"
      },
      {
        "duration": 48,
        "start_time": "2022-05-31T08:38:46.198Z"
      },
      {
        "duration": 10,
        "start_time": "2022-05-31T08:38:46.248Z"
      },
      {
        "duration": 14,
        "start_time": "2022-05-31T08:38:46.259Z"
      },
      {
        "duration": 18,
        "start_time": "2022-05-31T08:38:46.274Z"
      },
      {
        "duration": 48,
        "start_time": "2022-05-31T08:38:46.293Z"
      },
      {
        "duration": 5,
        "start_time": "2022-05-31T08:38:46.343Z"
      },
      {
        "duration": 40,
        "start_time": "2022-05-31T08:38:46.349Z"
      },
      {
        "duration": 34,
        "start_time": "2022-05-31T08:38:46.390Z"
      },
      {
        "duration": 38,
        "start_time": "2022-05-31T08:38:46.427Z"
      },
      {
        "duration": 4,
        "start_time": "2022-05-31T08:38:46.467Z"
      },
      {
        "duration": 42,
        "start_time": "2022-05-31T08:38:46.472Z"
      },
      {
        "duration": 29,
        "start_time": "2022-05-31T08:38:46.515Z"
      },
      {
        "duration": 17,
        "start_time": "2022-05-31T08:38:46.546Z"
      },
      {
        "duration": 13,
        "start_time": "2022-05-31T08:38:46.564Z"
      },
      {
        "duration": 21,
        "start_time": "2022-05-31T08:38:46.578Z"
      },
      {
        "duration": 5,
        "start_time": "2022-05-31T08:38:49.706Z"
      },
      {
        "duration": 7,
        "start_time": "2022-05-31T08:38:50.659Z"
      },
      {
        "duration": 2896,
        "start_time": "2022-05-31T08:38:53.093Z"
      },
      {
        "duration": 7,
        "start_time": "2022-05-31T08:38:55.991Z"
      },
      {
        "duration": 6,
        "start_time": "2022-05-31T08:39:17.102Z"
      },
      {
        "duration": 134,
        "start_time": "2022-05-31T08:40:37.702Z"
      },
      {
        "duration": 4,
        "start_time": "2022-05-31T08:40:37.838Z"
      },
      {
        "duration": 26,
        "start_time": "2022-05-31T08:40:37.844Z"
      },
      {
        "duration": 26,
        "start_time": "2022-05-31T08:40:37.873Z"
      },
      {
        "duration": 21,
        "start_time": "2022-05-31T08:40:37.901Z"
      },
      {
        "duration": 28,
        "start_time": "2022-05-31T08:40:37.925Z"
      },
      {
        "duration": 14,
        "start_time": "2022-05-31T08:40:37.955Z"
      },
      {
        "duration": 14,
        "start_time": "2022-05-31T08:40:37.971Z"
      },
      {
        "duration": 21,
        "start_time": "2022-05-31T08:40:37.987Z"
      },
      {
        "duration": 10,
        "start_time": "2022-05-31T08:40:38.011Z"
      },
      {
        "duration": 44,
        "start_time": "2022-05-31T08:40:38.023Z"
      },
      {
        "duration": 5,
        "start_time": "2022-05-31T08:40:38.068Z"
      },
      {
        "duration": 12,
        "start_time": "2022-05-31T08:40:38.075Z"
      },
      {
        "duration": 12,
        "start_time": "2022-05-31T08:40:38.089Z"
      },
      {
        "duration": 17,
        "start_time": "2022-05-31T08:40:38.103Z"
      },
      {
        "duration": 17,
        "start_time": "2022-05-31T08:40:38.122Z"
      },
      {
        "duration": 9,
        "start_time": "2022-05-31T08:40:38.141Z"
      },
      {
        "duration": 16,
        "start_time": "2022-05-31T08:40:38.152Z"
      },
      {
        "duration": 13,
        "start_time": "2022-05-31T08:40:38.169Z"
      },
      {
        "duration": 23,
        "start_time": "2022-05-31T08:40:38.184Z"
      },
      {
        "duration": 11,
        "start_time": "2022-05-31T08:40:38.209Z"
      },
      {
        "duration": 8,
        "start_time": "2022-05-31T08:40:38.221Z"
      },
      {
        "duration": 16,
        "start_time": "2022-05-31T08:40:38.230Z"
      },
      {
        "duration": 34,
        "start_time": "2022-05-31T08:40:38.248Z"
      },
      {
        "duration": 4,
        "start_time": "2022-05-31T08:40:38.284Z"
      },
      {
        "duration": 14,
        "start_time": "2022-05-31T08:40:38.289Z"
      },
      {
        "duration": 17,
        "start_time": "2022-05-31T08:40:38.305Z"
      },
      {
        "duration": 47,
        "start_time": "2022-05-31T08:40:38.325Z"
      },
      {
        "duration": 4,
        "start_time": "2022-05-31T08:40:38.374Z"
      },
      {
        "duration": 10,
        "start_time": "2022-05-31T08:40:38.380Z"
      },
      {
        "duration": 17,
        "start_time": "2022-05-31T08:40:38.392Z"
      },
      {
        "duration": 20,
        "start_time": "2022-05-31T08:40:38.410Z"
      },
      {
        "duration": 14,
        "start_time": "2022-05-31T08:40:38.431Z"
      },
      {
        "duration": 6,
        "start_time": "2022-05-31T08:40:40.013Z"
      },
      {
        "duration": 6,
        "start_time": "2022-05-31T08:40:41.131Z"
      },
      {
        "duration": 11,
        "start_time": "2022-05-31T08:40:42.371Z"
      },
      {
        "duration": 2917,
        "start_time": "2022-05-31T08:40:43.503Z"
      },
      {
        "duration": 4,
        "start_time": "2022-05-31T08:40:46.422Z"
      },
      {
        "duration": 8,
        "start_time": "2022-05-31T08:41:01.315Z"
      },
      {
        "duration": 2552,
        "start_time": "2022-05-31T08:41:03.944Z"
      },
      {
        "duration": 9,
        "start_time": "2022-05-31T08:41:06.498Z"
      },
      {
        "duration": 2408,
        "start_time": "2022-05-31T08:41:32.784Z"
      },
      {
        "duration": 5,
        "start_time": "2022-05-31T08:41:35.195Z"
      },
      {
        "duration": 160,
        "start_time": "2022-05-31T08:42:07.161Z"
      },
      {
        "duration": 3,
        "start_time": "2022-05-31T08:42:07.323Z"
      },
      {
        "duration": 53,
        "start_time": "2022-05-31T08:42:07.328Z"
      },
      {
        "duration": 42,
        "start_time": "2022-05-31T08:42:07.383Z"
      },
      {
        "duration": 23,
        "start_time": "2022-05-31T08:42:07.426Z"
      },
      {
        "duration": 35,
        "start_time": "2022-05-31T08:42:07.451Z"
      },
      {
        "duration": 39,
        "start_time": "2022-05-31T08:42:07.487Z"
      },
      {
        "duration": 24,
        "start_time": "2022-05-31T08:42:07.527Z"
      },
      {
        "duration": 46,
        "start_time": "2022-05-31T08:42:07.552Z"
      },
      {
        "duration": 22,
        "start_time": "2022-05-31T08:42:07.602Z"
      },
      {
        "duration": 62,
        "start_time": "2022-05-31T08:42:07.626Z"
      },
      {
        "duration": 4,
        "start_time": "2022-05-31T08:42:07.690Z"
      },
      {
        "duration": 28,
        "start_time": "2022-05-31T08:42:07.695Z"
      },
      {
        "duration": 28,
        "start_time": "2022-05-31T08:42:07.725Z"
      },
      {
        "duration": 33,
        "start_time": "2022-05-31T08:42:07.755Z"
      },
      {
        "duration": 38,
        "start_time": "2022-05-31T08:42:07.790Z"
      },
      {
        "duration": 52,
        "start_time": "2022-05-31T08:42:07.830Z"
      },
      {
        "duration": 30,
        "start_time": "2022-05-31T08:42:07.884Z"
      },
      {
        "duration": 32,
        "start_time": "2022-05-31T08:42:07.916Z"
      },
      {
        "duration": 45,
        "start_time": "2022-05-31T08:42:07.949Z"
      },
      {
        "duration": 11,
        "start_time": "2022-05-31T08:42:07.996Z"
      },
      {
        "duration": 24,
        "start_time": "2022-05-31T08:42:08.008Z"
      },
      {
        "duration": 19,
        "start_time": "2022-05-31T08:42:08.034Z"
      },
      {
        "duration": 51,
        "start_time": "2022-05-31T08:42:08.055Z"
      },
      {
        "duration": 5,
        "start_time": "2022-05-31T08:42:08.108Z"
      },
      {
        "duration": 32,
        "start_time": "2022-05-31T08:42:08.115Z"
      },
      {
        "duration": 28,
        "start_time": "2022-05-31T08:42:08.149Z"
      },
      {
        "duration": 49,
        "start_time": "2022-05-31T08:42:08.181Z"
      },
      {
        "duration": 6,
        "start_time": "2022-05-31T08:42:08.232Z"
      },
      {
        "duration": 28,
        "start_time": "2022-05-31T08:42:08.239Z"
      },
      {
        "duration": 24,
        "start_time": "2022-05-31T08:42:08.269Z"
      },
      {
        "duration": 24,
        "start_time": "2022-05-31T08:42:08.295Z"
      },
      {
        "duration": 24,
        "start_time": "2022-05-31T08:42:08.321Z"
      },
      {
        "duration": 30,
        "start_time": "2022-05-31T08:42:08.347Z"
      },
      {
        "duration": 28,
        "start_time": "2022-05-31T08:42:08.379Z"
      },
      {
        "duration": 11,
        "start_time": "2022-05-31T08:42:11.064Z"
      },
      {
        "duration": 2836,
        "start_time": "2022-05-31T08:42:11.956Z"
      },
      {
        "duration": 5,
        "start_time": "2022-05-31T08:42:14.795Z"
      },
      {
        "duration": 5,
        "start_time": "2022-05-31T08:42:44.834Z"
      },
      {
        "duration": 10,
        "start_time": "2022-05-31T08:42:52.382Z"
      },
      {
        "duration": 9,
        "start_time": "2022-05-31T08:43:37.916Z"
      },
      {
        "duration": 5,
        "start_time": "2022-05-31T08:44:35.211Z"
      },
      {
        "duration": 3,
        "start_time": "2022-05-31T08:45:37.001Z"
      },
      {
        "duration": 15,
        "start_time": "2022-05-31T08:45:38.775Z"
      },
      {
        "duration": 15,
        "start_time": "2022-05-31T08:45:48.651Z"
      },
      {
        "duration": 17,
        "start_time": "2022-05-31T08:45:57.599Z"
      },
      {
        "duration": 16,
        "start_time": "2022-05-31T08:46:05.886Z"
      },
      {
        "duration": 152,
        "start_time": "2022-05-31T08:46:42.760Z"
      },
      {
        "duration": 3,
        "start_time": "2022-05-31T08:46:42.914Z"
      },
      {
        "duration": 20,
        "start_time": "2022-05-31T08:46:42.919Z"
      },
      {
        "duration": 20,
        "start_time": "2022-05-31T08:46:42.940Z"
      },
      {
        "duration": 7,
        "start_time": "2022-05-31T08:46:42.962Z"
      },
      {
        "duration": 22,
        "start_time": "2022-05-31T08:46:42.971Z"
      },
      {
        "duration": 17,
        "start_time": "2022-05-31T08:46:42.995Z"
      },
      {
        "duration": 6,
        "start_time": "2022-05-31T08:46:43.014Z"
      },
      {
        "duration": 27,
        "start_time": "2022-05-31T08:46:43.021Z"
      },
      {
        "duration": 11,
        "start_time": "2022-05-31T08:46:43.050Z"
      },
      {
        "duration": 36,
        "start_time": "2022-05-31T08:46:43.062Z"
      },
      {
        "duration": 4,
        "start_time": "2022-05-31T08:46:43.100Z"
      },
      {
        "duration": 11,
        "start_time": "2022-05-31T08:46:43.106Z"
      },
      {
        "duration": 6,
        "start_time": "2022-05-31T08:46:43.143Z"
      },
      {
        "duration": 10,
        "start_time": "2022-05-31T08:46:43.151Z"
      },
      {
        "duration": 5,
        "start_time": "2022-05-31T08:46:43.163Z"
      },
      {
        "duration": 7,
        "start_time": "2022-05-31T08:46:43.170Z"
      },
      {
        "duration": 6,
        "start_time": "2022-05-31T08:46:43.179Z"
      },
      {
        "duration": 5,
        "start_time": "2022-05-31T08:46:43.187Z"
      },
      {
        "duration": 54,
        "start_time": "2022-05-31T08:46:43.194Z"
      },
      {
        "duration": 8,
        "start_time": "2022-05-31T08:46:43.249Z"
      },
      {
        "duration": 6,
        "start_time": "2022-05-31T08:46:43.259Z"
      },
      {
        "duration": 4,
        "start_time": "2022-05-31T08:46:43.266Z"
      },
      {
        "duration": 37,
        "start_time": "2022-05-31T08:46:43.272Z"
      },
      {
        "duration": 35,
        "start_time": "2022-05-31T08:46:43.312Z"
      },
      {
        "duration": 11,
        "start_time": "2022-05-31T08:46:43.349Z"
      },
      {
        "duration": 9,
        "start_time": "2022-05-31T08:46:43.361Z"
      },
      {
        "duration": 31,
        "start_time": "2022-05-31T08:46:43.372Z"
      },
      {
        "duration": 4,
        "start_time": "2022-05-31T08:46:43.405Z"
      },
      {
        "duration": 38,
        "start_time": "2022-05-31T08:46:43.410Z"
      },
      {
        "duration": 8,
        "start_time": "2022-05-31T08:46:43.449Z"
      },
      {
        "duration": 8,
        "start_time": "2022-05-31T08:46:43.458Z"
      },
      {
        "duration": 5,
        "start_time": "2022-05-31T08:46:43.468Z"
      },
      {
        "duration": 5,
        "start_time": "2022-05-31T08:46:51.877Z"
      },
      {
        "duration": 7,
        "start_time": "2022-05-31T08:46:55.375Z"
      },
      {
        "duration": 2901,
        "start_time": "2022-05-31T08:46:56.271Z"
      },
      {
        "duration": 6,
        "start_time": "2022-05-31T08:46:59.174Z"
      },
      {
        "duration": 6,
        "start_time": "2022-05-31T08:47:01.704Z"
      },
      {
        "duration": 2,
        "start_time": "2022-05-31T08:47:03.059Z"
      },
      {
        "duration": 15,
        "start_time": "2022-05-31T08:47:05.192Z"
      },
      {
        "duration": 14,
        "start_time": "2022-05-31T08:47:08.744Z"
      },
      {
        "duration": 15,
        "start_time": "2022-05-31T08:47:34.301Z"
      },
      {
        "duration": 13,
        "start_time": "2022-05-31T08:47:55.863Z"
      },
      {
        "duration": 12,
        "start_time": "2022-05-31T08:48:41.077Z"
      },
      {
        "duration": 9,
        "start_time": "2022-05-31T08:49:11.872Z"
      },
      {
        "duration": 11,
        "start_time": "2022-05-31T08:49:12.392Z"
      },
      {
        "duration": 10,
        "start_time": "2022-05-31T08:50:12.144Z"
      },
      {
        "duration": 3,
        "start_time": "2022-05-31T08:50:15.944Z"
      },
      {
        "duration": 3,
        "start_time": "2022-05-31T08:50:20.076Z"
      },
      {
        "duration": 12,
        "start_time": "2022-05-31T08:50:38.791Z"
      },
      {
        "duration": 4,
        "start_time": "2022-05-31T08:50:51.176Z"
      },
      {
        "duration": 1049,
        "start_time": "2022-05-31T15:56:46.676Z"
      },
      {
        "duration": 7,
        "start_time": "2022-05-31T15:56:47.728Z"
      },
      {
        "duration": 46,
        "start_time": "2022-05-31T15:56:47.737Z"
      },
      {
        "duration": 30,
        "start_time": "2022-05-31T15:56:47.786Z"
      },
      {
        "duration": 28,
        "start_time": "2022-05-31T15:56:47.818Z"
      },
      {
        "duration": 44,
        "start_time": "2022-05-31T15:56:47.848Z"
      },
      {
        "duration": 33,
        "start_time": "2022-05-31T15:56:47.894Z"
      },
      {
        "duration": 26,
        "start_time": "2022-05-31T15:56:47.929Z"
      },
      {
        "duration": 27,
        "start_time": "2022-05-31T15:56:47.956Z"
      },
      {
        "duration": 20,
        "start_time": "2022-05-31T15:56:47.986Z"
      },
      {
        "duration": 53,
        "start_time": "2022-05-31T15:56:48.008Z"
      },
      {
        "duration": 4,
        "start_time": "2022-05-31T15:56:48.063Z"
      },
      {
        "duration": 28,
        "start_time": "2022-05-31T15:56:48.069Z"
      },
      {
        "duration": 19,
        "start_time": "2022-05-31T15:56:48.098Z"
      },
      {
        "duration": 37,
        "start_time": "2022-05-31T15:56:48.118Z"
      },
      {
        "duration": 15,
        "start_time": "2022-05-31T15:56:48.156Z"
      },
      {
        "duration": 39,
        "start_time": "2022-05-31T15:56:48.172Z"
      },
      {
        "duration": 31,
        "start_time": "2022-05-31T15:56:48.212Z"
      },
      {
        "duration": 79,
        "start_time": "2022-05-31T15:56:48.245Z"
      },
      {
        "duration": 0,
        "start_time": "2022-05-31T15:56:48.326Z"
      },
      {
        "duration": 0,
        "start_time": "2022-05-31T15:56:48.328Z"
      },
      {
        "duration": 0,
        "start_time": "2022-05-31T15:56:48.329Z"
      },
      {
        "duration": 0,
        "start_time": "2022-05-31T15:56:48.331Z"
      },
      {
        "duration": 0,
        "start_time": "2022-05-31T15:56:48.333Z"
      },
      {
        "duration": 0,
        "start_time": "2022-05-31T15:56:48.334Z"
      },
      {
        "duration": 0,
        "start_time": "2022-05-31T15:56:48.335Z"
      },
      {
        "duration": 0,
        "start_time": "2022-05-31T15:56:48.337Z"
      },
      {
        "duration": 9,
        "start_time": "2022-05-31T15:56:49.747Z"
      },
      {
        "duration": 30,
        "start_time": "2022-05-31T15:56:51.060Z"
      },
      {
        "duration": 45,
        "start_time": "2022-05-31T15:57:12.324Z"
      },
      {
        "duration": 4,
        "start_time": "2022-05-31T15:57:14.106Z"
      },
      {
        "duration": 227,
        "start_time": "2022-05-31T15:57:25.772Z"
      },
      {
        "duration": 4,
        "start_time": "2022-05-31T15:57:26.000Z"
      },
      {
        "duration": 21,
        "start_time": "2022-05-31T15:57:26.005Z"
      },
      {
        "duration": 43,
        "start_time": "2022-05-31T15:57:26.029Z"
      },
      {
        "duration": 9,
        "start_time": "2022-05-31T15:57:26.074Z"
      },
      {
        "duration": 16,
        "start_time": "2022-05-31T15:57:26.085Z"
      },
      {
        "duration": 17,
        "start_time": "2022-05-31T15:57:26.103Z"
      },
      {
        "duration": 5,
        "start_time": "2022-05-31T15:57:26.122Z"
      },
      {
        "duration": 55,
        "start_time": "2022-05-31T15:57:26.129Z"
      },
      {
        "duration": 64,
        "start_time": "2022-05-31T15:57:26.187Z"
      },
      {
        "duration": 78,
        "start_time": "2022-05-31T15:57:26.254Z"
      },
      {
        "duration": 20,
        "start_time": "2022-05-31T15:57:26.334Z"
      },
      {
        "duration": 25,
        "start_time": "2022-05-31T15:57:26.356Z"
      },
      {
        "duration": 9,
        "start_time": "2022-05-31T15:57:26.383Z"
      },
      {
        "duration": 67,
        "start_time": "2022-05-31T15:57:26.394Z"
      },
      {
        "duration": 35,
        "start_time": "2022-05-31T15:57:26.463Z"
      },
      {
        "duration": 23,
        "start_time": "2022-05-31T15:57:26.501Z"
      },
      {
        "duration": 65,
        "start_time": "2022-05-31T15:57:26.526Z"
      },
      {
        "duration": 64,
        "start_time": "2022-05-31T15:57:26.593Z"
      },
      {
        "duration": 47,
        "start_time": "2022-05-31T15:57:26.658Z"
      },
      {
        "duration": 20,
        "start_time": "2022-05-31T15:57:26.707Z"
      },
      {
        "duration": 54,
        "start_time": "2022-05-31T15:57:26.729Z"
      },
      {
        "duration": 20,
        "start_time": "2022-05-31T15:57:26.785Z"
      },
      {
        "duration": 88,
        "start_time": "2022-05-31T15:57:26.807Z"
      },
      {
        "duration": 7,
        "start_time": "2022-05-31T15:57:26.897Z"
      },
      {
        "duration": 53,
        "start_time": "2022-05-31T15:57:26.906Z"
      },
      {
        "duration": 42,
        "start_time": "2022-05-31T15:57:26.964Z"
      },
      {
        "duration": 10,
        "start_time": "2022-05-31T15:57:29.041Z"
      },
      {
        "duration": 32,
        "start_time": "2022-05-31T15:57:30.840Z"
      },
      {
        "duration": 12,
        "start_time": "2022-05-31T15:57:32.524Z"
      },
      {
        "duration": 9,
        "start_time": "2022-05-31T15:57:40.710Z"
      },
      {
        "duration": 10,
        "start_time": "2022-05-31T15:57:41.291Z"
      },
      {
        "duration": 4,
        "start_time": "2022-05-31T15:57:48.518Z"
      },
      {
        "duration": 5,
        "start_time": "2022-05-31T15:58:19.568Z"
      },
      {
        "duration": 5,
        "start_time": "2022-05-31T15:58:22.407Z"
      },
      {
        "duration": 1602,
        "start_time": "2022-05-31T15:58:25.617Z"
      },
      {
        "duration": 2901,
        "start_time": "2022-05-31T15:58:27.221Z"
      },
      {
        "duration": 6,
        "start_time": "2022-05-31T15:58:30.124Z"
      },
      {
        "duration": 6,
        "start_time": "2022-05-31T15:58:31.048Z"
      },
      {
        "duration": 3,
        "start_time": "2022-05-31T15:58:31.628Z"
      },
      {
        "duration": 17,
        "start_time": "2022-05-31T15:58:33.190Z"
      },
      {
        "duration": 3,
        "start_time": "2022-05-31T15:58:36.187Z"
      },
      {
        "duration": 16,
        "start_time": "2022-05-31T15:58:38.345Z"
      },
      {
        "duration": 12,
        "start_time": "2022-05-31T16:01:15.149Z"
      },
      {
        "duration": 12,
        "start_time": "2022-05-31T16:01:17.632Z"
      },
      {
        "duration": 9,
        "start_time": "2022-05-31T16:01:18.274Z"
      },
      {
        "duration": 18,
        "start_time": "2022-05-31T16:01:20.420Z"
      },
      {
        "duration": 3,
        "start_time": "2022-05-31T16:01:23.335Z"
      },
      {
        "duration": 8,
        "start_time": "2022-05-31T16:01:23.936Z"
      },
      {
        "duration": 11,
        "start_time": "2022-05-31T16:01:24.383Z"
      },
      {
        "duration": 4,
        "start_time": "2022-05-31T16:01:25.023Z"
      },
      {
        "duration": 63,
        "start_time": "2022-05-31T16:01:26.554Z"
      },
      {
        "duration": 9,
        "start_time": "2022-05-31T16:01:37.955Z"
      },
      {
        "duration": 15,
        "start_time": "2022-05-31T16:04:12.006Z"
      },
      {
        "duration": 11,
        "start_time": "2022-05-31T16:04:18.917Z"
      },
      {
        "duration": 8,
        "start_time": "2022-05-31T16:04:25.761Z"
      },
      {
        "duration": 18,
        "start_time": "2022-05-31T16:04:31.298Z"
      },
      {
        "duration": 10,
        "start_time": "2022-05-31T16:05:04.435Z"
      },
      {
        "duration": 13,
        "start_time": "2022-05-31T16:11:04.976Z"
      },
      {
        "duration": 12,
        "start_time": "2022-05-31T16:13:01.134Z"
      },
      {
        "duration": 8,
        "start_time": "2022-05-31T16:13:40.734Z"
      },
      {
        "duration": 22,
        "start_time": "2022-05-31T16:14:46.122Z"
      },
      {
        "duration": 135,
        "start_time": "2022-05-31T16:14:55.350Z"
      },
      {
        "duration": 4,
        "start_time": "2022-05-31T16:14:55.486Z"
      },
      {
        "duration": 20,
        "start_time": "2022-05-31T16:14:55.491Z"
      },
      {
        "duration": 14,
        "start_time": "2022-05-31T16:14:55.513Z"
      },
      {
        "duration": 6,
        "start_time": "2022-05-31T16:14:55.529Z"
      },
      {
        "duration": 13,
        "start_time": "2022-05-31T16:14:55.536Z"
      },
      {
        "duration": 10,
        "start_time": "2022-05-31T16:14:55.551Z"
      },
      {
        "duration": 3,
        "start_time": "2022-05-31T16:14:55.562Z"
      },
      {
        "duration": 17,
        "start_time": "2022-05-31T16:14:55.566Z"
      },
      {
        "duration": 8,
        "start_time": "2022-05-31T16:14:55.586Z"
      },
      {
        "duration": 29,
        "start_time": "2022-05-31T16:14:55.627Z"
      },
      {
        "duration": 4,
        "start_time": "2022-05-31T16:14:55.658Z"
      },
      {
        "duration": 11,
        "start_time": "2022-05-31T16:14:55.663Z"
      },
      {
        "duration": 7,
        "start_time": "2022-05-31T16:14:55.675Z"
      },
      {
        "duration": 10,
        "start_time": "2022-05-31T16:14:55.683Z"
      },
      {
        "duration": 33,
        "start_time": "2022-05-31T16:14:55.694Z"
      },
      {
        "duration": 14,
        "start_time": "2022-05-31T16:14:55.729Z"
      },
      {
        "duration": 13,
        "start_time": "2022-05-31T16:14:55.744Z"
      },
      {
        "duration": 8,
        "start_time": "2022-05-31T16:14:55.759Z"
      },
      {
        "duration": 19,
        "start_time": "2022-05-31T16:14:55.769Z"
      },
      {
        "duration": 17,
        "start_time": "2022-05-31T16:14:55.789Z"
      },
      {
        "duration": 8,
        "start_time": "2022-05-31T16:14:55.807Z"
      },
      {
        "duration": 12,
        "start_time": "2022-05-31T16:14:55.817Z"
      },
      {
        "duration": 40,
        "start_time": "2022-05-31T16:14:55.830Z"
      },
      {
        "duration": 4,
        "start_time": "2022-05-31T16:14:55.872Z"
      },
      {
        "duration": 10,
        "start_time": "2022-05-31T16:14:55.878Z"
      },
      {
        "duration": 9,
        "start_time": "2022-05-31T16:14:55.889Z"
      },
      {
        "duration": 34,
        "start_time": "2022-05-31T16:14:55.927Z"
      },
      {
        "duration": 4,
        "start_time": "2022-05-31T16:14:55.962Z"
      },
      {
        "duration": 12,
        "start_time": "2022-05-31T16:14:55.967Z"
      },
      {
        "duration": 15,
        "start_time": "2022-05-31T16:14:55.981Z"
      },
      {
        "duration": 31,
        "start_time": "2022-05-31T16:14:55.997Z"
      },
      {
        "duration": 5,
        "start_time": "2022-05-31T16:14:56.029Z"
      },
      {
        "duration": 14,
        "start_time": "2022-05-31T16:14:56.036Z"
      },
      {
        "duration": 8,
        "start_time": "2022-05-31T16:14:56.051Z"
      },
      {
        "duration": 2610,
        "start_time": "2022-05-31T16:14:56.061Z"
      },
      {
        "duration": 4,
        "start_time": "2022-05-31T16:14:58.673Z"
      },
      {
        "duration": 11,
        "start_time": "2022-05-31T16:14:58.678Z"
      },
      {
        "duration": 4,
        "start_time": "2022-05-31T16:14:58.690Z"
      },
      {
        "duration": 18,
        "start_time": "2022-05-31T16:14:58.695Z"
      },
      {
        "duration": 2,
        "start_time": "2022-05-31T16:14:58.727Z"
      },
      {
        "duration": 15,
        "start_time": "2022-05-31T16:14:58.731Z"
      },
      {
        "duration": 11,
        "start_time": "2022-05-31T16:14:58.748Z"
      },
      {
        "duration": 8,
        "start_time": "2022-05-31T16:14:58.761Z"
      },
      {
        "duration": 8,
        "start_time": "2022-05-31T16:14:58.770Z"
      },
      {
        "duration": 9,
        "start_time": "2022-05-31T16:14:58.780Z"
      },
      {
        "duration": 40,
        "start_time": "2022-05-31T16:14:58.791Z"
      },
      {
        "duration": 4,
        "start_time": "2022-05-31T16:14:58.833Z"
      },
      {
        "duration": 10,
        "start_time": "2022-05-31T16:14:58.839Z"
      },
      {
        "duration": 15,
        "start_time": "2022-05-31T16:14:58.850Z"
      },
      {
        "duration": 4,
        "start_time": "2022-05-31T16:14:58.866Z"
      },
      {
        "duration": 12,
        "start_time": "2022-05-31T16:14:58.871Z"
      },
      {
        "duration": 22,
        "start_time": "2022-05-31T16:14:59.632Z"
      },
      {
        "duration": 162,
        "start_time": "2022-05-31T16:18:37.739Z"
      },
      {
        "duration": 3,
        "start_time": "2022-05-31T16:18:37.902Z"
      },
      {
        "duration": 15,
        "start_time": "2022-05-31T16:18:37.907Z"
      },
      {
        "duration": 20,
        "start_time": "2022-05-31T16:18:37.923Z"
      },
      {
        "duration": 7,
        "start_time": "2022-05-31T16:18:37.945Z"
      },
      {
        "duration": 13,
        "start_time": "2022-05-31T16:18:37.953Z"
      },
      {
        "duration": 12,
        "start_time": "2022-05-31T16:18:37.968Z"
      },
      {
        "duration": 5,
        "start_time": "2022-05-31T16:18:37.982Z"
      },
      {
        "duration": 22,
        "start_time": "2022-05-31T16:18:37.989Z"
      },
      {
        "duration": 10,
        "start_time": "2022-05-31T16:18:38.027Z"
      },
      {
        "duration": 35,
        "start_time": "2022-05-31T16:18:38.039Z"
      },
      {
        "duration": 4,
        "start_time": "2022-05-31T16:18:38.076Z"
      },
      {
        "duration": 12,
        "start_time": "2022-05-31T16:18:38.082Z"
      },
      {
        "duration": 9,
        "start_time": "2022-05-31T16:18:38.096Z"
      },
      {
        "duration": 8,
        "start_time": "2022-05-31T16:18:38.127Z"
      },
      {
        "duration": 8,
        "start_time": "2022-05-31T16:18:38.136Z"
      },
      {
        "duration": 16,
        "start_time": "2022-05-31T16:18:38.145Z"
      },
      {
        "duration": 16,
        "start_time": "2022-05-31T16:18:38.163Z"
      },
      {
        "duration": 7,
        "start_time": "2022-05-31T16:18:38.180Z"
      },
      {
        "duration": 23,
        "start_time": "2022-05-31T16:18:38.188Z"
      },
      {
        "duration": 16,
        "start_time": "2022-05-31T16:18:38.212Z"
      },
      {
        "duration": 5,
        "start_time": "2022-05-31T16:18:38.229Z"
      },
      {
        "duration": 10,
        "start_time": "2022-05-31T16:18:38.236Z"
      },
      {
        "duration": 36,
        "start_time": "2022-05-31T16:18:38.247Z"
      },
      {
        "duration": 5,
        "start_time": "2022-05-31T16:18:38.289Z"
      },
      {
        "duration": 31,
        "start_time": "2022-05-31T16:18:38.296Z"
      },
      {
        "duration": 9,
        "start_time": "2022-05-31T16:18:38.329Z"
      },
      {
        "duration": 33,
        "start_time": "2022-05-31T16:18:38.340Z"
      },
      {
        "duration": 4,
        "start_time": "2022-05-31T16:18:38.375Z"
      },
      {
        "duration": 11,
        "start_time": "2022-05-31T16:18:38.380Z"
      },
      {
        "duration": 37,
        "start_time": "2022-05-31T16:18:38.393Z"
      },
      {
        "duration": 10,
        "start_time": "2022-05-31T16:18:38.433Z"
      },
      {
        "duration": 8,
        "start_time": "2022-05-31T16:18:38.445Z"
      },
      {
        "duration": 9,
        "start_time": "2022-05-31T16:18:38.455Z"
      },
      {
        "duration": 9,
        "start_time": "2022-05-31T16:18:38.466Z"
      },
      {
        "duration": 2634,
        "start_time": "2022-05-31T16:18:38.477Z"
      },
      {
        "duration": 15,
        "start_time": "2022-05-31T16:18:41.112Z"
      },
      {
        "duration": 6,
        "start_time": "2022-05-31T16:18:41.129Z"
      },
      {
        "duration": 11,
        "start_time": "2022-05-31T16:18:41.137Z"
      },
      {
        "duration": 37,
        "start_time": "2022-05-31T16:18:41.150Z"
      },
      {
        "duration": 3,
        "start_time": "2022-05-31T16:18:41.192Z"
      },
      {
        "duration": 29,
        "start_time": "2022-05-31T16:18:41.197Z"
      },
      {
        "duration": 30,
        "start_time": "2022-05-31T16:18:41.228Z"
      },
      {
        "duration": 21,
        "start_time": "2022-05-31T16:18:41.260Z"
      },
      {
        "duration": 26,
        "start_time": "2022-05-31T16:18:41.282Z"
      },
      {
        "duration": 39,
        "start_time": "2022-05-31T16:18:41.310Z"
      },
      {
        "duration": 20,
        "start_time": "2022-05-31T16:18:41.351Z"
      },
      {
        "duration": 26,
        "start_time": "2022-05-31T16:18:41.373Z"
      },
      {
        "duration": 12,
        "start_time": "2022-05-31T16:18:41.401Z"
      },
      {
        "duration": 34,
        "start_time": "2022-05-31T16:18:41.414Z"
      },
      {
        "duration": 7,
        "start_time": "2022-05-31T16:18:41.450Z"
      },
      {
        "duration": 14,
        "start_time": "2022-05-31T16:18:41.458Z"
      },
      {
        "duration": 18,
        "start_time": "2022-05-31T16:18:41.474Z"
      },
      {
        "duration": 18,
        "start_time": "2022-05-31T16:18:41.494Z"
      },
      {
        "duration": 2165,
        "start_time": "2022-05-31T16:18:44.166Z"
      },
      {
        "duration": 23,
        "start_time": "2022-05-31T16:18:46.335Z"
      },
      {
        "duration": 1623,
        "start_time": "2022-05-31T16:19:01.936Z"
      },
      {
        "duration": 17,
        "start_time": "2022-05-31T16:19:03.561Z"
      },
      {
        "duration": 17,
        "start_time": "2022-05-31T16:19:23.234Z"
      },
      {
        "duration": 10,
        "start_time": "2022-05-31T16:26:12.139Z"
      },
      {
        "duration": 5,
        "start_time": "2022-05-31T16:27:05.870Z"
      },
      {
        "duration": 398,
        "start_time": "2022-05-31T16:29:01.803Z"
      },
      {
        "duration": 31,
        "start_time": "2022-05-31T16:29:34.976Z"
      },
      {
        "duration": 6,
        "start_time": "2022-05-31T16:29:48.644Z"
      },
      {
        "duration": 152,
        "start_time": "2022-05-31T16:30:01.358Z"
      },
      {
        "duration": 3,
        "start_time": "2022-05-31T16:30:01.513Z"
      },
      {
        "duration": 38,
        "start_time": "2022-05-31T16:30:01.518Z"
      },
      {
        "duration": 31,
        "start_time": "2022-05-31T16:30:01.558Z"
      },
      {
        "duration": 27,
        "start_time": "2022-05-31T16:30:01.591Z"
      },
      {
        "duration": 56,
        "start_time": "2022-05-31T16:30:01.620Z"
      },
      {
        "duration": 42,
        "start_time": "2022-05-31T16:30:01.677Z"
      },
      {
        "duration": 39,
        "start_time": "2022-05-31T16:30:01.720Z"
      },
      {
        "duration": 47,
        "start_time": "2022-05-31T16:30:01.761Z"
      },
      {
        "duration": 58,
        "start_time": "2022-05-31T16:30:01.812Z"
      },
      {
        "duration": 48,
        "start_time": "2022-05-31T16:30:01.872Z"
      },
      {
        "duration": 8,
        "start_time": "2022-05-31T16:30:01.922Z"
      },
      {
        "duration": 55,
        "start_time": "2022-05-31T16:30:01.932Z"
      },
      {
        "duration": 41,
        "start_time": "2022-05-31T16:30:01.988Z"
      },
      {
        "duration": 44,
        "start_time": "2022-05-31T16:30:02.031Z"
      },
      {
        "duration": 52,
        "start_time": "2022-05-31T16:30:02.076Z"
      },
      {
        "duration": 41,
        "start_time": "2022-05-31T16:30:02.130Z"
      },
      {
        "duration": 54,
        "start_time": "2022-05-31T16:30:02.172Z"
      },
      {
        "duration": 41,
        "start_time": "2022-05-31T16:30:02.231Z"
      },
      {
        "duration": 41,
        "start_time": "2022-05-31T16:30:02.273Z"
      },
      {
        "duration": 46,
        "start_time": "2022-05-31T16:30:02.315Z"
      },
      {
        "duration": 18,
        "start_time": "2022-05-31T16:30:02.362Z"
      },
      {
        "duration": 42,
        "start_time": "2022-05-31T16:30:02.381Z"
      },
      {
        "duration": 5,
        "start_time": "2022-05-31T16:30:04.040Z"
      },
      {
        "duration": 31,
        "start_time": "2022-05-31T16:30:04.682Z"
      },
      {
        "duration": 152,
        "start_time": "2022-05-31T16:31:57.347Z"
      },
      {
        "duration": 3,
        "start_time": "2022-05-31T16:31:57.501Z"
      },
      {
        "duration": 14,
        "start_time": "2022-05-31T16:31:57.505Z"
      },
      {
        "duration": 21,
        "start_time": "2022-05-31T16:31:57.521Z"
      },
      {
        "duration": 7,
        "start_time": "2022-05-31T16:31:57.545Z"
      },
      {
        "duration": 10,
        "start_time": "2022-05-31T16:31:57.553Z"
      },
      {
        "duration": 14,
        "start_time": "2022-05-31T16:31:57.564Z"
      },
      {
        "duration": 3,
        "start_time": "2022-05-31T16:31:57.579Z"
      },
      {
        "duration": 19,
        "start_time": "2022-05-31T16:31:57.584Z"
      },
      {
        "duration": 14,
        "start_time": "2022-05-31T16:31:57.626Z"
      },
      {
        "duration": 32,
        "start_time": "2022-05-31T16:31:57.643Z"
      },
      {
        "duration": 4,
        "start_time": "2022-05-31T16:31:57.676Z"
      },
      {
        "duration": 11,
        "start_time": "2022-05-31T16:31:57.681Z"
      },
      {
        "duration": 6,
        "start_time": "2022-05-31T16:31:57.694Z"
      },
      {
        "duration": 43,
        "start_time": "2022-05-31T16:31:57.702Z"
      },
      {
        "duration": 6,
        "start_time": "2022-05-31T16:31:57.747Z"
      },
      {
        "duration": 7,
        "start_time": "2022-05-31T16:31:57.755Z"
      },
      {
        "duration": 10,
        "start_time": "2022-05-31T16:31:57.763Z"
      },
      {
        "duration": 10,
        "start_time": "2022-05-31T16:31:57.774Z"
      },
      {
        "duration": 28,
        "start_time": "2022-05-31T16:31:57.785Z"
      },
      {
        "duration": 21,
        "start_time": "2022-05-31T16:31:57.814Z"
      },
      {
        "duration": 19,
        "start_time": "2022-05-31T16:31:57.837Z"
      },
      {
        "duration": 6,
        "start_time": "2022-05-31T16:31:57.858Z"
      },
      {
        "duration": 33,
        "start_time": "2022-05-31T16:31:57.865Z"
      },
      {
        "duration": 5,
        "start_time": "2022-05-31T16:31:57.899Z"
      },
      {
        "duration": 10,
        "start_time": "2022-05-31T16:31:57.906Z"
      },
      {
        "duration": 15,
        "start_time": "2022-05-31T16:31:57.927Z"
      },
      {
        "duration": 32,
        "start_time": "2022-05-31T16:31:57.945Z"
      },
      {
        "duration": 4,
        "start_time": "2022-05-31T16:31:57.979Z"
      },
      {
        "duration": 13,
        "start_time": "2022-05-31T16:31:57.984Z"
      },
      {
        "duration": 30,
        "start_time": "2022-05-31T16:31:57.998Z"
      },
      {
        "duration": 7,
        "start_time": "2022-05-31T16:31:58.030Z"
      },
      {
        "duration": 11,
        "start_time": "2022-05-31T16:31:58.039Z"
      },
      {
        "duration": 8,
        "start_time": "2022-05-31T16:31:58.051Z"
      },
      {
        "duration": 13,
        "start_time": "2022-05-31T16:31:58.061Z"
      },
      {
        "duration": 2815,
        "start_time": "2022-05-31T16:31:58.076Z"
      },
      {
        "duration": 4,
        "start_time": "2022-05-31T16:32:00.893Z"
      },
      {
        "duration": 17,
        "start_time": "2022-05-31T16:32:00.898Z"
      },
      {
        "duration": 23,
        "start_time": "2022-05-31T16:32:00.916Z"
      },
      {
        "duration": 44,
        "start_time": "2022-05-31T16:32:00.942Z"
      },
      {
        "duration": 22,
        "start_time": "2022-05-31T16:32:00.987Z"
      },
      {
        "duration": 38,
        "start_time": "2022-05-31T16:32:01.010Z"
      },
      {
        "duration": 5,
        "start_time": "2022-05-31T16:32:01.659Z"
      },
      {
        "duration": 4,
        "start_time": "2022-05-31T16:32:15.148Z"
      },
      {
        "duration": 4,
        "start_time": "2022-05-31T16:34:02.453Z"
      },
      {
        "duration": 13,
        "start_time": "2022-05-31T16:34:03.368Z"
      },
      {
        "duration": 10,
        "start_time": "2022-05-31T16:34:04.040Z"
      },
      {
        "duration": 10,
        "start_time": "2022-05-31T16:34:06.167Z"
      },
      {
        "duration": 8,
        "start_time": "2022-05-31T16:34:06.699Z"
      },
      {
        "duration": 9,
        "start_time": "2022-05-31T16:34:08.511Z"
      },
      {
        "duration": 3,
        "start_time": "2022-05-31T16:34:09.117Z"
      },
      {
        "duration": 3,
        "start_time": "2022-05-31T16:34:10.009Z"
      },
      {
        "duration": 12,
        "start_time": "2022-05-31T16:34:10.740Z"
      },
      {
        "duration": 5,
        "start_time": "2022-05-31T16:34:13.891Z"
      },
      {
        "duration": 11,
        "start_time": "2022-05-31T16:34:15.055Z"
      },
      {
        "duration": 8,
        "start_time": "2022-05-31T16:34:29.459Z"
      },
      {
        "duration": 5,
        "start_time": "2022-05-31T16:34:45.912Z"
      },
      {
        "duration": 1661,
        "start_time": "2022-05-31T16:34:48.700Z"
      },
      {
        "duration": 12,
        "start_time": "2022-05-31T16:34:50.363Z"
      },
      {
        "duration": 24,
        "start_time": "2022-05-31T16:34:50.436Z"
      },
      {
        "duration": 8,
        "start_time": "2022-05-31T16:34:51.688Z"
      },
      {
        "duration": 5,
        "start_time": "2022-05-31T16:34:53.426Z"
      },
      {
        "duration": 11,
        "start_time": "2022-05-31T16:35:57.791Z"
      },
      {
        "duration": 17,
        "start_time": "2022-05-31T16:36:18.264Z"
      },
      {
        "duration": 4,
        "start_time": "2022-05-31T16:37:02.554Z"
      },
      {
        "duration": 6,
        "start_time": "2022-05-31T16:37:10.720Z"
      },
      {
        "duration": 12,
        "start_time": "2022-05-31T16:37:19.456Z"
      },
      {
        "duration": 11,
        "start_time": "2022-05-31T16:37:38.073Z"
      },
      {
        "duration": 10,
        "start_time": "2022-05-31T16:37:44.194Z"
      },
      {
        "duration": 12,
        "start_time": "2022-05-31T16:37:56.204Z"
      },
      {
        "duration": 11,
        "start_time": "2022-05-31T16:38:03.977Z"
      },
      {
        "duration": 8,
        "start_time": "2022-05-31T16:38:27.497Z"
      },
      {
        "duration": 2,
        "start_time": "2022-05-31T16:39:25.484Z"
      },
      {
        "duration": 10,
        "start_time": "2022-05-31T16:39:41.172Z"
      },
      {
        "duration": 7,
        "start_time": "2022-05-31T16:39:52.348Z"
      },
      {
        "duration": 6,
        "start_time": "2022-05-31T16:40:59.816Z"
      },
      {
        "duration": 17,
        "start_time": "2022-05-31T16:41:02.921Z"
      },
      {
        "duration": 10,
        "start_time": "2022-05-31T16:41:25.355Z"
      },
      {
        "duration": 11,
        "start_time": "2022-05-31T16:41:30.242Z"
      },
      {
        "duration": 13,
        "start_time": "2022-05-31T16:41:35.166Z"
      },
      {
        "duration": 10,
        "start_time": "2022-05-31T16:43:19.244Z"
      },
      {
        "duration": 8,
        "start_time": "2022-05-31T16:43:20.803Z"
      },
      {
        "duration": 10,
        "start_time": "2022-05-31T16:48:38.345Z"
      },
      {
        "duration": 12,
        "start_time": "2022-05-31T16:48:41.552Z"
      },
      {
        "duration": 10,
        "start_time": "2022-05-31T16:48:48.094Z"
      },
      {
        "duration": 9,
        "start_time": "2022-05-31T16:49:52.245Z"
      },
      {
        "duration": 10,
        "start_time": "2022-05-31T16:50:12.011Z"
      },
      {
        "duration": 8,
        "start_time": "2022-05-31T16:51:51.573Z"
      },
      {
        "duration": 1068,
        "start_time": "2022-06-01T05:49:30.805Z"
      },
      {
        "duration": 4,
        "start_time": "2022-06-01T05:49:31.876Z"
      },
      {
        "duration": 66,
        "start_time": "2022-06-01T05:49:31.882Z"
      },
      {
        "duration": 33,
        "start_time": "2022-06-01T05:49:31.950Z"
      },
      {
        "duration": 8,
        "start_time": "2022-06-01T05:49:31.986Z"
      },
      {
        "duration": 24,
        "start_time": "2022-06-01T05:49:31.996Z"
      },
      {
        "duration": 40,
        "start_time": "2022-06-01T05:49:32.021Z"
      },
      {
        "duration": 10,
        "start_time": "2022-06-01T05:49:32.063Z"
      },
      {
        "duration": 48,
        "start_time": "2022-06-01T05:49:32.075Z"
      },
      {
        "duration": 13,
        "start_time": "2022-06-01T05:49:32.125Z"
      },
      {
        "duration": 54,
        "start_time": "2022-06-01T05:49:32.140Z"
      },
      {
        "duration": 4,
        "start_time": "2022-06-01T05:49:32.196Z"
      },
      {
        "duration": 27,
        "start_time": "2022-06-01T05:49:32.202Z"
      },
      {
        "duration": 22,
        "start_time": "2022-06-01T05:49:32.232Z"
      },
      {
        "duration": 12,
        "start_time": "2022-06-01T05:49:32.256Z"
      },
      {
        "duration": 20,
        "start_time": "2022-06-01T05:49:32.269Z"
      },
      {
        "duration": 14,
        "start_time": "2022-06-01T05:49:32.290Z"
      },
      {
        "duration": 15,
        "start_time": "2022-06-01T05:49:32.306Z"
      },
      {
        "duration": 89,
        "start_time": "2022-06-01T05:49:32.322Z"
      },
      {
        "duration": 0,
        "start_time": "2022-06-01T05:49:32.413Z"
      },
      {
        "duration": 0,
        "start_time": "2022-06-01T05:49:32.414Z"
      },
      {
        "duration": 0,
        "start_time": "2022-06-01T05:49:32.416Z"
      },
      {
        "duration": 0,
        "start_time": "2022-06-01T05:49:32.417Z"
      },
      {
        "duration": 0,
        "start_time": "2022-06-01T05:49:32.418Z"
      },
      {
        "duration": 0,
        "start_time": "2022-06-01T05:49:32.419Z"
      },
      {
        "duration": 0,
        "start_time": "2022-06-01T05:49:32.420Z"
      },
      {
        "duration": 0,
        "start_time": "2022-06-01T05:49:32.426Z"
      },
      {
        "duration": 0,
        "start_time": "2022-06-01T05:49:32.428Z"
      },
      {
        "duration": 0,
        "start_time": "2022-06-01T05:49:32.429Z"
      },
      {
        "duration": 0,
        "start_time": "2022-06-01T05:49:32.431Z"
      },
      {
        "duration": 0,
        "start_time": "2022-06-01T05:49:32.432Z"
      },
      {
        "duration": 0,
        "start_time": "2022-06-01T05:49:32.434Z"
      },
      {
        "duration": 0,
        "start_time": "2022-06-01T05:49:32.435Z"
      },
      {
        "duration": 0,
        "start_time": "2022-06-01T05:49:32.436Z"
      },
      {
        "duration": 0,
        "start_time": "2022-06-01T05:49:32.437Z"
      },
      {
        "duration": 0,
        "start_time": "2022-06-01T05:49:32.439Z"
      },
      {
        "duration": 0,
        "start_time": "2022-06-01T05:49:32.440Z"
      },
      {
        "duration": 0,
        "start_time": "2022-06-01T05:49:32.441Z"
      },
      {
        "duration": 0,
        "start_time": "2022-06-01T05:49:32.443Z"
      },
      {
        "duration": 0,
        "start_time": "2022-06-01T05:49:32.444Z"
      },
      {
        "duration": 0,
        "start_time": "2022-06-01T05:49:32.445Z"
      },
      {
        "duration": 0,
        "start_time": "2022-06-01T05:49:32.446Z"
      },
      {
        "duration": 0,
        "start_time": "2022-06-01T05:49:32.448Z"
      },
      {
        "duration": 0,
        "start_time": "2022-06-01T05:49:32.449Z"
      },
      {
        "duration": 0,
        "start_time": "2022-06-01T05:49:32.450Z"
      },
      {
        "duration": 0,
        "start_time": "2022-06-01T05:49:32.451Z"
      },
      {
        "duration": 0,
        "start_time": "2022-06-01T05:49:32.453Z"
      },
      {
        "duration": 0,
        "start_time": "2022-06-01T05:49:32.454Z"
      },
      {
        "duration": 0,
        "start_time": "2022-06-01T05:49:32.455Z"
      },
      {
        "duration": 0,
        "start_time": "2022-06-01T05:49:32.457Z"
      },
      {
        "duration": 0,
        "start_time": "2022-06-01T05:49:32.458Z"
      },
      {
        "duration": 0,
        "start_time": "2022-06-01T05:49:32.459Z"
      },
      {
        "duration": 0,
        "start_time": "2022-06-01T05:49:32.460Z"
      },
      {
        "duration": 0,
        "start_time": "2022-06-01T05:49:32.462Z"
      },
      {
        "duration": 0,
        "start_time": "2022-06-01T05:49:32.463Z"
      },
      {
        "duration": 0,
        "start_time": "2022-06-01T05:49:32.526Z"
      },
      {
        "duration": 0,
        "start_time": "2022-06-01T05:49:32.530Z"
      },
      {
        "duration": 0,
        "start_time": "2022-06-01T05:49:32.532Z"
      },
      {
        "duration": 0,
        "start_time": "2022-06-01T05:49:32.533Z"
      },
      {
        "duration": 0,
        "start_time": "2022-06-01T05:49:32.535Z"
      },
      {
        "duration": 0,
        "start_time": "2022-06-01T05:49:32.536Z"
      },
      {
        "duration": 0,
        "start_time": "2022-06-01T05:49:32.538Z"
      },
      {
        "duration": 0,
        "start_time": "2022-06-01T05:49:32.538Z"
      },
      {
        "duration": 0,
        "start_time": "2022-06-01T05:49:32.540Z"
      },
      {
        "duration": 0,
        "start_time": "2022-06-01T05:49:32.541Z"
      },
      {
        "duration": 0,
        "start_time": "2022-06-01T05:49:32.542Z"
      },
      {
        "duration": 173,
        "start_time": "2022-06-01T05:50:04.453Z"
      },
      {
        "duration": 5,
        "start_time": "2022-06-01T05:50:04.628Z"
      },
      {
        "duration": 25,
        "start_time": "2022-06-01T05:50:04.635Z"
      },
      {
        "duration": 26,
        "start_time": "2022-06-01T05:50:04.662Z"
      },
      {
        "duration": 7,
        "start_time": "2022-06-01T05:50:04.689Z"
      },
      {
        "duration": 15,
        "start_time": "2022-06-01T05:50:04.697Z"
      },
      {
        "duration": 19,
        "start_time": "2022-06-01T05:50:04.714Z"
      },
      {
        "duration": 4,
        "start_time": "2022-06-01T05:50:04.734Z"
      },
      {
        "duration": 26,
        "start_time": "2022-06-01T05:50:04.740Z"
      },
      {
        "duration": 11,
        "start_time": "2022-06-01T05:50:04.768Z"
      },
      {
        "duration": 53,
        "start_time": "2022-06-01T05:50:04.780Z"
      },
      {
        "duration": 6,
        "start_time": "2022-06-01T05:50:04.835Z"
      },
      {
        "duration": 29,
        "start_time": "2022-06-01T05:50:04.843Z"
      },
      {
        "duration": 16,
        "start_time": "2022-06-01T05:50:04.874Z"
      },
      {
        "duration": 8,
        "start_time": "2022-06-01T05:50:04.892Z"
      },
      {
        "duration": 7,
        "start_time": "2022-06-01T05:50:04.902Z"
      },
      {
        "duration": 7,
        "start_time": "2022-06-01T05:50:04.911Z"
      },
      {
        "duration": 18,
        "start_time": "2022-06-01T05:50:04.919Z"
      },
      {
        "duration": 31,
        "start_time": "2022-06-01T05:50:04.939Z"
      },
      {
        "duration": 0,
        "start_time": "2022-06-01T05:50:04.974Z"
      },
      {
        "duration": 0,
        "start_time": "2022-06-01T05:50:04.976Z"
      },
      {
        "duration": 0,
        "start_time": "2022-06-01T05:50:04.977Z"
      },
      {
        "duration": 0,
        "start_time": "2022-06-01T05:50:04.978Z"
      },
      {
        "duration": 0,
        "start_time": "2022-06-01T05:50:04.980Z"
      },
      {
        "duration": 0,
        "start_time": "2022-06-01T05:50:04.981Z"
      },
      {
        "duration": 0,
        "start_time": "2022-06-01T05:50:04.982Z"
      },
      {
        "duration": 0,
        "start_time": "2022-06-01T05:50:04.983Z"
      },
      {
        "duration": 0,
        "start_time": "2022-06-01T05:50:04.984Z"
      },
      {
        "duration": 0,
        "start_time": "2022-06-01T05:50:04.985Z"
      },
      {
        "duration": 0,
        "start_time": "2022-06-01T05:50:04.986Z"
      },
      {
        "duration": 0,
        "start_time": "2022-06-01T05:50:04.987Z"
      },
      {
        "duration": 0,
        "start_time": "2022-06-01T05:50:04.988Z"
      },
      {
        "duration": 0,
        "start_time": "2022-06-01T05:50:04.989Z"
      },
      {
        "duration": 0,
        "start_time": "2022-06-01T05:50:04.990Z"
      },
      {
        "duration": 0,
        "start_time": "2022-06-01T05:50:04.991Z"
      },
      {
        "duration": 0,
        "start_time": "2022-06-01T05:50:04.992Z"
      },
      {
        "duration": 0,
        "start_time": "2022-06-01T05:50:04.993Z"
      },
      {
        "duration": 0,
        "start_time": "2022-06-01T05:50:04.994Z"
      },
      {
        "duration": 0,
        "start_time": "2022-06-01T05:50:04.995Z"
      },
      {
        "duration": 0,
        "start_time": "2022-06-01T05:50:04.996Z"
      },
      {
        "duration": 0,
        "start_time": "2022-06-01T05:50:04.997Z"
      },
      {
        "duration": 0,
        "start_time": "2022-06-01T05:50:04.998Z"
      },
      {
        "duration": 0,
        "start_time": "2022-06-01T05:50:05.028Z"
      },
      {
        "duration": 0,
        "start_time": "2022-06-01T05:50:05.029Z"
      },
      {
        "duration": 0,
        "start_time": "2022-06-01T05:50:05.031Z"
      },
      {
        "duration": 0,
        "start_time": "2022-06-01T05:50:05.032Z"
      },
      {
        "duration": 1,
        "start_time": "2022-06-01T05:50:05.033Z"
      },
      {
        "duration": 0,
        "start_time": "2022-06-01T05:50:05.035Z"
      },
      {
        "duration": 0,
        "start_time": "2022-06-01T05:50:05.037Z"
      },
      {
        "duration": 0,
        "start_time": "2022-06-01T05:50:05.038Z"
      },
      {
        "duration": 0,
        "start_time": "2022-06-01T05:50:05.039Z"
      },
      {
        "duration": 0,
        "start_time": "2022-06-01T05:50:05.041Z"
      },
      {
        "duration": 0,
        "start_time": "2022-06-01T05:50:05.042Z"
      },
      {
        "duration": 0,
        "start_time": "2022-06-01T05:50:05.043Z"
      },
      {
        "duration": 0,
        "start_time": "2022-06-01T05:50:05.045Z"
      },
      {
        "duration": 0,
        "start_time": "2022-06-01T05:50:05.046Z"
      },
      {
        "duration": 0,
        "start_time": "2022-06-01T05:50:05.048Z"
      },
      {
        "duration": 0,
        "start_time": "2022-06-01T05:50:05.049Z"
      },
      {
        "duration": 0,
        "start_time": "2022-06-01T05:50:05.051Z"
      },
      {
        "duration": 0,
        "start_time": "2022-06-01T05:50:05.052Z"
      },
      {
        "duration": 0,
        "start_time": "2022-06-01T05:50:05.054Z"
      },
      {
        "duration": 0,
        "start_time": "2022-06-01T05:50:05.056Z"
      },
      {
        "duration": 0,
        "start_time": "2022-06-01T05:50:05.057Z"
      },
      {
        "duration": 0,
        "start_time": "2022-06-01T05:50:05.058Z"
      },
      {
        "duration": 0,
        "start_time": "2022-06-01T05:50:05.059Z"
      },
      {
        "duration": 0,
        "start_time": "2022-06-01T05:50:05.060Z"
      },
      {
        "duration": 658,
        "start_time": "2022-06-01T05:50:21.495Z"
      },
      {
        "duration": 4,
        "start_time": "2022-06-01T05:50:22.156Z"
      },
      {
        "duration": 81,
        "start_time": "2022-06-01T05:50:22.161Z"
      },
      {
        "duration": 25,
        "start_time": "2022-06-01T05:50:22.245Z"
      },
      {
        "duration": 13,
        "start_time": "2022-06-01T05:50:22.272Z"
      },
      {
        "duration": 15,
        "start_time": "2022-06-01T05:50:22.286Z"
      },
      {
        "duration": 14,
        "start_time": "2022-06-01T05:50:22.302Z"
      },
      {
        "duration": 3,
        "start_time": "2022-06-01T05:50:22.327Z"
      },
      {
        "duration": 20,
        "start_time": "2022-06-01T05:50:22.331Z"
      },
      {
        "duration": 15,
        "start_time": "2022-06-01T05:50:22.355Z"
      },
      {
        "duration": 86,
        "start_time": "2022-06-01T05:50:22.372Z"
      },
      {
        "duration": 5,
        "start_time": "2022-06-01T05:50:22.460Z"
      },
      {
        "duration": 68,
        "start_time": "2022-06-01T05:50:22.466Z"
      },
      {
        "duration": 8,
        "start_time": "2022-06-01T05:50:22.536Z"
      },
      {
        "duration": 8,
        "start_time": "2022-06-01T05:50:22.546Z"
      },
      {
        "duration": 9,
        "start_time": "2022-06-01T05:50:22.557Z"
      },
      {
        "duration": 62,
        "start_time": "2022-06-01T05:50:22.568Z"
      },
      {
        "duration": 23,
        "start_time": "2022-06-01T05:50:22.632Z"
      },
      {
        "duration": 170,
        "start_time": "2022-06-01T05:50:22.657Z"
      },
      {
        "duration": 0,
        "start_time": "2022-06-01T05:50:22.831Z"
      },
      {
        "duration": 0,
        "start_time": "2022-06-01T05:50:22.832Z"
      },
      {
        "duration": 0,
        "start_time": "2022-06-01T05:50:22.833Z"
      },
      {
        "duration": 0,
        "start_time": "2022-06-01T05:50:22.835Z"
      },
      {
        "duration": 0,
        "start_time": "2022-06-01T05:50:22.836Z"
      },
      {
        "duration": 0,
        "start_time": "2022-06-01T05:50:22.838Z"
      },
      {
        "duration": 0,
        "start_time": "2022-06-01T05:50:22.839Z"
      },
      {
        "duration": 0,
        "start_time": "2022-06-01T05:50:22.840Z"
      },
      {
        "duration": 0,
        "start_time": "2022-06-01T05:50:22.841Z"
      },
      {
        "duration": 0,
        "start_time": "2022-06-01T05:50:22.842Z"
      },
      {
        "duration": 0,
        "start_time": "2022-06-01T05:50:22.843Z"
      },
      {
        "duration": 0,
        "start_time": "2022-06-01T05:50:22.845Z"
      },
      {
        "duration": 0,
        "start_time": "2022-06-01T05:50:22.848Z"
      },
      {
        "duration": 0,
        "start_time": "2022-06-01T05:50:22.850Z"
      },
      {
        "duration": 0,
        "start_time": "2022-06-01T05:50:22.851Z"
      },
      {
        "duration": 0,
        "start_time": "2022-06-01T05:50:22.852Z"
      },
      {
        "duration": 0,
        "start_time": "2022-06-01T05:50:22.853Z"
      },
      {
        "duration": 0,
        "start_time": "2022-06-01T05:50:22.855Z"
      },
      {
        "duration": 0,
        "start_time": "2022-06-01T05:50:22.856Z"
      },
      {
        "duration": 0,
        "start_time": "2022-06-01T05:50:22.858Z"
      },
      {
        "duration": 1,
        "start_time": "2022-06-01T05:50:22.859Z"
      },
      {
        "duration": 0,
        "start_time": "2022-06-01T05:50:22.861Z"
      },
      {
        "duration": 0,
        "start_time": "2022-06-01T05:50:22.862Z"
      },
      {
        "duration": 0,
        "start_time": "2022-06-01T05:50:22.863Z"
      },
      {
        "duration": 0,
        "start_time": "2022-06-01T05:50:22.864Z"
      },
      {
        "duration": 0,
        "start_time": "2022-06-01T05:50:22.866Z"
      },
      {
        "duration": 0,
        "start_time": "2022-06-01T05:50:22.867Z"
      },
      {
        "duration": 0,
        "start_time": "2022-06-01T05:50:22.926Z"
      },
      {
        "duration": 0,
        "start_time": "2022-06-01T05:50:22.927Z"
      },
      {
        "duration": 0,
        "start_time": "2022-06-01T05:50:22.929Z"
      },
      {
        "duration": 0,
        "start_time": "2022-06-01T05:50:22.930Z"
      },
      {
        "duration": 0,
        "start_time": "2022-06-01T05:50:22.931Z"
      },
      {
        "duration": 0,
        "start_time": "2022-06-01T05:50:22.932Z"
      },
      {
        "duration": 0,
        "start_time": "2022-06-01T05:50:22.933Z"
      },
      {
        "duration": 0,
        "start_time": "2022-06-01T05:50:22.935Z"
      },
      {
        "duration": 0,
        "start_time": "2022-06-01T05:50:22.935Z"
      },
      {
        "duration": 0,
        "start_time": "2022-06-01T05:50:22.937Z"
      },
      {
        "duration": 0,
        "start_time": "2022-06-01T05:50:22.938Z"
      },
      {
        "duration": 0,
        "start_time": "2022-06-01T05:50:22.939Z"
      },
      {
        "duration": 0,
        "start_time": "2022-06-01T05:50:22.940Z"
      },
      {
        "duration": 0,
        "start_time": "2022-06-01T05:50:22.941Z"
      },
      {
        "duration": 0,
        "start_time": "2022-06-01T05:50:22.942Z"
      },
      {
        "duration": 0,
        "start_time": "2022-06-01T05:50:22.943Z"
      },
      {
        "duration": 0,
        "start_time": "2022-06-01T05:50:22.945Z"
      },
      {
        "duration": 0,
        "start_time": "2022-06-01T05:50:22.946Z"
      },
      {
        "duration": 0,
        "start_time": "2022-06-01T05:50:22.947Z"
      },
      {
        "duration": 1,
        "start_time": "2022-06-01T05:50:22.947Z"
      },
      {
        "duration": 5,
        "start_time": "2022-06-01T05:52:54.814Z"
      },
      {
        "duration": 155,
        "start_time": "2022-06-01T05:53:24.592Z"
      },
      {
        "duration": 4,
        "start_time": "2022-06-01T05:53:24.753Z"
      },
      {
        "duration": 24,
        "start_time": "2022-06-01T05:53:24.759Z"
      },
      {
        "duration": 16,
        "start_time": "2022-06-01T05:53:24.785Z"
      },
      {
        "duration": 24,
        "start_time": "2022-06-01T05:53:24.803Z"
      },
      {
        "duration": 17,
        "start_time": "2022-06-01T05:53:24.829Z"
      },
      {
        "duration": 26,
        "start_time": "2022-06-01T05:53:24.848Z"
      },
      {
        "duration": 4,
        "start_time": "2022-06-01T05:53:24.875Z"
      },
      {
        "duration": 22,
        "start_time": "2022-06-01T05:53:24.880Z"
      },
      {
        "duration": 10,
        "start_time": "2022-06-01T05:53:24.905Z"
      },
      {
        "duration": 53,
        "start_time": "2022-06-01T05:53:24.925Z"
      },
      {
        "duration": 4,
        "start_time": "2022-06-01T05:53:24.980Z"
      },
      {
        "duration": 17,
        "start_time": "2022-06-01T05:53:24.985Z"
      },
      {
        "duration": 23,
        "start_time": "2022-06-01T05:53:25.004Z"
      },
      {
        "duration": 10,
        "start_time": "2022-06-01T05:53:25.029Z"
      },
      {
        "duration": 10,
        "start_time": "2022-06-01T05:53:25.042Z"
      },
      {
        "duration": 18,
        "start_time": "2022-06-01T05:53:25.053Z"
      },
      {
        "duration": 7,
        "start_time": "2022-06-01T05:53:25.073Z"
      },
      {
        "duration": 50,
        "start_time": "2022-06-01T05:53:25.082Z"
      },
      {
        "duration": 11,
        "start_time": "2022-06-01T05:53:25.134Z"
      },
      {
        "duration": 8,
        "start_time": "2022-06-01T05:53:25.147Z"
      },
      {
        "duration": 11,
        "start_time": "2022-06-01T05:53:25.157Z"
      },
      {
        "duration": 11,
        "start_time": "2022-06-01T05:53:25.169Z"
      },
      {
        "duration": 50,
        "start_time": "2022-06-01T05:53:25.182Z"
      },
      {
        "duration": 6,
        "start_time": "2022-06-01T05:53:25.234Z"
      },
      {
        "duration": 11,
        "start_time": "2022-06-01T05:53:25.242Z"
      },
      {
        "duration": 11,
        "start_time": "2022-06-01T05:53:25.255Z"
      },
      {
        "duration": 63,
        "start_time": "2022-06-01T05:53:25.270Z"
      },
      {
        "duration": 4,
        "start_time": "2022-06-01T05:53:25.335Z"
      },
      {
        "duration": 17,
        "start_time": "2022-06-01T05:53:25.341Z"
      },
      {
        "duration": 13,
        "start_time": "2022-06-01T05:53:25.360Z"
      },
      {
        "duration": 15,
        "start_time": "2022-06-01T05:53:25.374Z"
      },
      {
        "duration": 7,
        "start_time": "2022-06-01T05:53:25.391Z"
      },
      {
        "duration": 26,
        "start_time": "2022-06-01T05:53:25.400Z"
      },
      {
        "duration": 1083,
        "start_time": "2022-06-01T05:53:25.428Z"
      },
      {
        "duration": 2957,
        "start_time": "2022-06-01T05:53:26.513Z"
      },
      {
        "duration": 6,
        "start_time": "2022-06-01T05:53:29.473Z"
      },
      {
        "duration": 10,
        "start_time": "2022-06-01T05:53:29.480Z"
      },
      {
        "duration": 4,
        "start_time": "2022-06-01T05:53:29.491Z"
      },
      {
        "duration": 31,
        "start_time": "2022-06-01T05:53:29.496Z"
      },
      {
        "duration": 3,
        "start_time": "2022-06-01T05:53:29.530Z"
      },
      {
        "duration": 25,
        "start_time": "2022-06-01T05:53:29.535Z"
      },
      {
        "duration": 10,
        "start_time": "2022-06-01T05:53:29.562Z"
      },
      {
        "duration": 17,
        "start_time": "2022-06-01T05:53:29.574Z"
      },
      {
        "duration": 9,
        "start_time": "2022-06-01T05:53:29.592Z"
      },
      {
        "duration": 9,
        "start_time": "2022-06-01T05:53:29.626Z"
      },
      {
        "duration": 13,
        "start_time": "2022-06-01T05:53:29.637Z"
      },
      {
        "duration": 17,
        "start_time": "2022-06-01T05:53:29.652Z"
      },
      {
        "duration": 4,
        "start_time": "2022-06-01T05:53:29.671Z"
      },
      {
        "duration": 10,
        "start_time": "2022-06-01T05:53:29.676Z"
      },
      {
        "duration": 15,
        "start_time": "2022-06-01T05:53:29.688Z"
      },
      {
        "duration": 32,
        "start_time": "2022-06-01T05:53:29.704Z"
      },
      {
        "duration": 26,
        "start_time": "2022-06-01T05:53:29.737Z"
      },
      {
        "duration": 12,
        "start_time": "2022-06-01T05:53:29.765Z"
      },
      {
        "duration": 19,
        "start_time": "2022-06-01T05:53:29.779Z"
      },
      {
        "duration": 1819,
        "start_time": "2022-06-01T05:53:29.800Z"
      },
      {
        "duration": 20,
        "start_time": "2022-06-01T05:53:31.625Z"
      },
      {
        "duration": 25,
        "start_time": "2022-06-01T05:53:31.647Z"
      },
      {
        "duration": 7,
        "start_time": "2022-06-01T05:53:31.675Z"
      },
      {
        "duration": 34,
        "start_time": "2022-06-01T05:53:31.683Z"
      },
      {
        "duration": 36,
        "start_time": "2022-06-01T05:53:31.718Z"
      },
      {
        "duration": 21,
        "start_time": "2022-06-01T05:53:31.756Z"
      },
      {
        "duration": 19,
        "start_time": "2022-06-01T05:53:31.779Z"
      },
      {
        "duration": 12,
        "start_time": "2022-06-01T05:53:31.799Z"
      },
      {
        "duration": 12,
        "start_time": "2022-06-01T05:53:31.812Z"
      },
      {
        "duration": 18,
        "start_time": "2022-06-01T05:53:31.826Z"
      },
      {
        "duration": 77,
        "start_time": "2022-06-01T05:53:31.845Z"
      },
      {
        "duration": 13,
        "start_time": "2022-06-01T05:56:28.266Z"
      },
      {
        "duration": 13,
        "start_time": "2022-06-01T05:56:42.792Z"
      },
      {
        "duration": 684,
        "start_time": "2022-06-01T23:35:58.777Z"
      },
      {
        "duration": 4,
        "start_time": "2022-06-01T23:35:59.463Z"
      },
      {
        "duration": 24,
        "start_time": "2022-06-01T23:35:59.468Z"
      },
      {
        "duration": 30,
        "start_time": "2022-06-01T23:35:59.494Z"
      },
      {
        "duration": 7,
        "start_time": "2022-06-01T23:35:59.526Z"
      },
      {
        "duration": 13,
        "start_time": "2022-06-01T23:35:59.534Z"
      },
      {
        "duration": 15,
        "start_time": "2022-06-01T23:35:59.549Z"
      },
      {
        "duration": 3,
        "start_time": "2022-06-01T23:35:59.566Z"
      },
      {
        "duration": 19,
        "start_time": "2022-06-01T23:35:59.570Z"
      },
      {
        "duration": 10,
        "start_time": "2022-06-01T23:35:59.623Z"
      },
      {
        "duration": 41,
        "start_time": "2022-06-01T23:35:59.635Z"
      },
      {
        "duration": 4,
        "start_time": "2022-06-01T23:35:59.678Z"
      },
      {
        "duration": 11,
        "start_time": "2022-06-01T23:35:59.684Z"
      },
      {
        "duration": 29,
        "start_time": "2022-06-01T23:35:59.696Z"
      },
      {
        "duration": 8,
        "start_time": "2022-06-01T23:35:59.727Z"
      },
      {
        "duration": 5,
        "start_time": "2022-06-01T23:35:59.737Z"
      },
      {
        "duration": 9,
        "start_time": "2022-06-01T23:35:59.744Z"
      },
      {
        "duration": 9,
        "start_time": "2022-06-01T23:35:59.755Z"
      },
      {
        "duration": 22,
        "start_time": "2022-06-01T23:35:59.765Z"
      },
      {
        "duration": 8,
        "start_time": "2022-06-01T23:35:59.823Z"
      },
      {
        "duration": 5,
        "start_time": "2022-06-01T23:35:59.832Z"
      },
      {
        "duration": 7,
        "start_time": "2022-06-01T23:35:59.838Z"
      },
      {
        "duration": 8,
        "start_time": "2022-06-01T23:35:59.846Z"
      },
      {
        "duration": 35,
        "start_time": "2022-06-01T23:35:59.855Z"
      },
      {
        "duration": 5,
        "start_time": "2022-06-01T23:35:59.892Z"
      },
      {
        "duration": 9,
        "start_time": "2022-06-01T23:35:59.925Z"
      },
      {
        "duration": 14,
        "start_time": "2022-06-01T23:35:59.936Z"
      },
      {
        "duration": 34,
        "start_time": "2022-06-01T23:35:59.953Z"
      },
      {
        "duration": 4,
        "start_time": "2022-06-01T23:35:59.989Z"
      },
      {
        "duration": 8,
        "start_time": "2022-06-01T23:36:00.319Z"
      },
      {
        "duration": 16,
        "start_time": "2022-06-01T23:36:00.329Z"
      },
      {
        "duration": 14,
        "start_time": "2022-06-01T23:36:00.347Z"
      },
      {
        "duration": 10,
        "start_time": "2022-06-01T23:36:00.363Z"
      },
      {
        "duration": 12,
        "start_time": "2022-06-01T23:36:00.375Z"
      },
      {
        "duration": 719,
        "start_time": "2022-06-01T23:36:00.389Z"
      },
      {
        "duration": 2961,
        "start_time": "2022-06-01T23:36:01.109Z"
      },
      {
        "duration": 4,
        "start_time": "2022-06-01T23:36:04.072Z"
      },
      {
        "duration": 11,
        "start_time": "2022-06-01T23:36:04.077Z"
      },
      {
        "duration": 7,
        "start_time": "2022-06-01T23:36:04.090Z"
      },
      {
        "duration": 31,
        "start_time": "2022-06-01T23:36:04.099Z"
      },
      {
        "duration": 3,
        "start_time": "2022-06-01T23:36:04.132Z"
      },
      {
        "duration": 17,
        "start_time": "2022-06-01T23:36:04.136Z"
      },
      {
        "duration": 4,
        "start_time": "2022-06-01T23:36:04.156Z"
      },
      {
        "duration": 16,
        "start_time": "2022-06-01T23:36:04.162Z"
      },
      {
        "duration": 11,
        "start_time": "2022-06-01T23:36:04.179Z"
      },
      {
        "duration": 38,
        "start_time": "2022-06-01T23:36:04.191Z"
      },
      {
        "duration": 9,
        "start_time": "2022-06-01T23:36:04.231Z"
      },
      {
        "duration": 10,
        "start_time": "2022-06-01T23:36:04.242Z"
      },
      {
        "duration": 3,
        "start_time": "2022-06-01T23:36:04.254Z"
      },
      {
        "duration": 12,
        "start_time": "2022-06-01T23:36:04.259Z"
      },
      {
        "duration": 14,
        "start_time": "2022-06-01T23:36:04.273Z"
      },
      {
        "duration": 3,
        "start_time": "2022-06-01T23:36:04.289Z"
      },
      {
        "duration": 13,
        "start_time": "2022-06-01T23:36:04.322Z"
      },
      {
        "duration": 9,
        "start_time": "2022-06-01T23:36:04.336Z"
      },
      {
        "duration": 16,
        "start_time": "2022-06-01T23:36:04.346Z"
      },
      {
        "duration": 1693,
        "start_time": "2022-06-01T23:36:04.364Z"
      },
      {
        "duration": 19,
        "start_time": "2022-06-01T23:36:06.060Z"
      },
      {
        "duration": 12,
        "start_time": "2022-06-01T23:36:06.080Z"
      },
      {
        "duration": 12,
        "start_time": "2022-06-01T23:36:06.094Z"
      },
      {
        "duration": 34,
        "start_time": "2022-06-01T23:36:06.108Z"
      },
      {
        "duration": 36,
        "start_time": "2022-06-01T23:36:06.144Z"
      },
      {
        "duration": 25,
        "start_time": "2022-06-01T23:36:06.182Z"
      },
      {
        "duration": 20,
        "start_time": "2022-06-01T23:36:06.209Z"
      },
      {
        "duration": 17,
        "start_time": "2022-06-01T23:36:06.230Z"
      },
      {
        "duration": 18,
        "start_time": "2022-06-01T23:36:06.249Z"
      },
      {
        "duration": 30,
        "start_time": "2022-06-01T23:36:06.269Z"
      },
      {
        "duration": 451,
        "start_time": "2022-06-02T00:10:24.427Z"
      },
      {
        "duration": 43,
        "start_time": "2022-06-02T00:10:24.880Z"
      },
      {
        "duration": 11,
        "start_time": "2022-06-02T00:10:24.925Z"
      },
      {
        "duration": 16,
        "start_time": "2022-06-02T00:10:24.938Z"
      },
      {
        "duration": 6,
        "start_time": "2022-06-02T00:10:24.956Z"
      },
      {
        "duration": 67,
        "start_time": "2022-06-02T00:10:24.963Z"
      },
      {
        "duration": 18,
        "start_time": "2022-06-02T00:10:25.031Z"
      },
      {
        "duration": 3,
        "start_time": "2022-06-02T00:10:25.050Z"
      },
      {
        "duration": 18,
        "start_time": "2022-06-02T00:10:25.055Z"
      },
      {
        "duration": 52,
        "start_time": "2022-06-02T00:10:25.075Z"
      },
      {
        "duration": 35,
        "start_time": "2022-06-02T00:10:25.128Z"
      },
      {
        "duration": 61,
        "start_time": "2022-06-02T00:10:25.164Z"
      },
      {
        "duration": 13,
        "start_time": "2022-06-02T00:10:25.227Z"
      },
      {
        "duration": 7,
        "start_time": "2022-06-02T00:10:25.242Z"
      },
      {
        "duration": 8,
        "start_time": "2022-06-02T00:10:25.250Z"
      },
      {
        "duration": 5,
        "start_time": "2022-06-02T00:10:25.259Z"
      },
      {
        "duration": 61,
        "start_time": "2022-06-02T00:10:25.266Z"
      },
      {
        "duration": 7,
        "start_time": "2022-06-02T00:10:25.329Z"
      },
      {
        "duration": 85,
        "start_time": "2022-06-02T00:10:25.338Z"
      },
      {
        "duration": 9,
        "start_time": "2022-06-02T00:10:25.425Z"
      },
      {
        "duration": 6,
        "start_time": "2022-06-02T00:10:25.436Z"
      },
      {
        "duration": 13,
        "start_time": "2022-06-02T00:10:25.443Z"
      },
      {
        "duration": 4,
        "start_time": "2022-06-02T00:10:25.458Z"
      },
      {
        "duration": 84,
        "start_time": "2022-06-02T00:10:25.463Z"
      },
      {
        "duration": 5,
        "start_time": "2022-06-02T00:10:25.548Z"
      },
      {
        "duration": 10,
        "start_time": "2022-06-02T00:10:25.555Z"
      },
      {
        "duration": 62,
        "start_time": "2022-06-02T00:10:25.567Z"
      },
      {
        "duration": 33,
        "start_time": "2022-06-02T00:10:25.631Z"
      },
      {
        "duration": 59,
        "start_time": "2022-06-02T00:10:25.665Z"
      },
      {
        "duration": 9,
        "start_time": "2022-06-02T00:10:25.726Z"
      },
      {
        "duration": 13,
        "start_time": "2022-06-02T00:10:25.736Z"
      },
      {
        "duration": 4,
        "start_time": "2022-06-02T00:10:25.751Z"
      },
      {
        "duration": 6,
        "start_time": "2022-06-02T00:10:25.757Z"
      },
      {
        "duration": 6,
        "start_time": "2022-06-02T00:10:25.764Z"
      },
      {
        "duration": 56,
        "start_time": "2022-06-02T00:10:25.772Z"
      },
      {
        "duration": 4896,
        "start_time": "2022-06-02T00:10:25.830Z"
      },
      {
        "duration": 5,
        "start_time": "2022-06-02T00:10:30.727Z"
      },
      {
        "duration": 14,
        "start_time": "2022-06-02T00:10:30.734Z"
      },
      {
        "duration": 4,
        "start_time": "2022-06-02T00:10:30.750Z"
      },
      {
        "duration": 20,
        "start_time": "2022-06-02T00:10:30.756Z"
      },
      {
        "duration": 7,
        "start_time": "2022-06-02T00:10:30.824Z"
      },
      {
        "duration": 28,
        "start_time": "2022-06-02T00:10:30.833Z"
      },
      {
        "duration": 11,
        "start_time": "2022-06-02T00:10:30.862Z"
      },
      {
        "duration": 56,
        "start_time": "2022-06-02T00:10:30.875Z"
      },
      {
        "duration": 10,
        "start_time": "2022-06-02T00:10:30.933Z"
      },
      {
        "duration": 17,
        "start_time": "2022-06-02T00:10:30.944Z"
      },
      {
        "duration": 66,
        "start_time": "2022-06-02T00:10:30.963Z"
      },
      {
        "duration": 27,
        "start_time": "2022-06-02T00:10:31.031Z"
      },
      {
        "duration": 37,
        "start_time": "2022-06-02T00:10:31.060Z"
      },
      {
        "duration": 49,
        "start_time": "2022-06-02T00:10:31.099Z"
      },
      {
        "duration": 40,
        "start_time": "2022-06-02T00:10:31.150Z"
      },
      {
        "duration": 32,
        "start_time": "2022-06-02T00:10:31.192Z"
      },
      {
        "duration": 37,
        "start_time": "2022-06-02T00:10:31.226Z"
      },
      {
        "duration": 61,
        "start_time": "2022-06-02T00:10:31.264Z"
      },
      {
        "duration": 48,
        "start_time": "2022-06-02T00:10:31.327Z"
      },
      {
        "duration": 3055,
        "start_time": "2022-06-02T00:10:31.381Z"
      },
      {
        "duration": 17,
        "start_time": "2022-06-02T00:10:34.438Z"
      },
      {
        "duration": 8,
        "start_time": "2022-06-02T00:10:34.457Z"
      },
      {
        "duration": 4,
        "start_time": "2022-06-02T00:10:34.523Z"
      },
      {
        "duration": 20,
        "start_time": "2022-06-02T00:10:34.528Z"
      },
      {
        "duration": 6,
        "start_time": "2022-06-02T00:10:34.549Z"
      },
      {
        "duration": 10,
        "start_time": "2022-06-02T00:10:34.556Z"
      },
      {
        "duration": 8,
        "start_time": "2022-06-02T00:10:34.567Z"
      },
      {
        "duration": 11,
        "start_time": "2022-06-02T00:10:34.577Z"
      },
      {
        "duration": 44,
        "start_time": "2022-06-02T00:10:34.589Z"
      },
      {
        "duration": 13,
        "start_time": "2022-06-02T00:10:34.634Z"
      },
      {
        "duration": 688,
        "start_time": "2022-06-02T00:12:21.695Z"
      },
      {
        "duration": 3,
        "start_time": "2022-06-02T00:12:22.385Z"
      },
      {
        "duration": 24,
        "start_time": "2022-06-02T00:12:22.390Z"
      },
      {
        "duration": 16,
        "start_time": "2022-06-02T00:12:22.415Z"
      },
      {
        "duration": 7,
        "start_time": "2022-06-02T00:12:22.433Z"
      },
      {
        "duration": 10,
        "start_time": "2022-06-02T00:12:22.441Z"
      },
      {
        "duration": 14,
        "start_time": "2022-06-02T00:12:22.452Z"
      },
      {
        "duration": 6,
        "start_time": "2022-06-02T00:12:22.468Z"
      },
      {
        "duration": 20,
        "start_time": "2022-06-02T00:12:22.476Z"
      },
      {
        "duration": 9,
        "start_time": "2022-06-02T00:12:22.524Z"
      },
      {
        "duration": 39,
        "start_time": "2022-06-02T00:12:22.535Z"
      },
      {
        "duration": 4,
        "start_time": "2022-06-02T00:12:22.575Z"
      },
      {
        "duration": 16,
        "start_time": "2022-06-02T00:12:22.581Z"
      },
      {
        "duration": 29,
        "start_time": "2022-06-02T00:12:22.601Z"
      },
      {
        "duration": 10,
        "start_time": "2022-06-02T00:12:22.632Z"
      },
      {
        "duration": 13,
        "start_time": "2022-06-02T00:12:22.644Z"
      },
      {
        "duration": 18,
        "start_time": "2022-06-02T00:12:22.659Z"
      },
      {
        "duration": 17,
        "start_time": "2022-06-02T00:12:22.679Z"
      },
      {
        "duration": 28,
        "start_time": "2022-06-02T00:12:22.698Z"
      },
      {
        "duration": 8,
        "start_time": "2022-06-02T00:12:22.728Z"
      },
      {
        "duration": 7,
        "start_time": "2022-06-02T00:12:22.737Z"
      },
      {
        "duration": 14,
        "start_time": "2022-06-02T00:12:22.745Z"
      },
      {
        "duration": 12,
        "start_time": "2022-06-02T00:12:22.760Z"
      },
      {
        "duration": 44,
        "start_time": "2022-06-02T00:12:22.773Z"
      },
      {
        "duration": 8,
        "start_time": "2022-06-02T00:12:22.818Z"
      },
      {
        "duration": 19,
        "start_time": "2022-06-02T00:12:22.827Z"
      },
      {
        "duration": 19,
        "start_time": "2022-06-02T00:12:22.848Z"
      },
      {
        "duration": 37,
        "start_time": "2022-06-02T00:12:22.869Z"
      },
      {
        "duration": 3,
        "start_time": "2022-06-02T00:12:22.908Z"
      },
      {
        "duration": 13,
        "start_time": "2022-06-02T00:12:22.912Z"
      },
      {
        "duration": 13,
        "start_time": "2022-06-02T00:12:22.927Z"
      },
      {
        "duration": 16,
        "start_time": "2022-06-02T00:12:22.941Z"
      },
      {
        "duration": 14,
        "start_time": "2022-06-02T00:12:22.959Z"
      },
      {
        "duration": 8,
        "start_time": "2022-06-02T00:12:22.974Z"
      },
      {
        "duration": 706,
        "start_time": "2022-06-02T00:12:22.983Z"
      },
      {
        "duration": 2633,
        "start_time": "2022-06-02T00:12:23.690Z"
      },
      {
        "duration": 5,
        "start_time": "2022-06-02T00:12:26.324Z"
      },
      {
        "duration": 8,
        "start_time": "2022-06-02T00:12:26.330Z"
      },
      {
        "duration": 4,
        "start_time": "2022-06-02T00:12:26.339Z"
      },
      {
        "duration": 17,
        "start_time": "2022-06-02T00:12:26.344Z"
      },
      {
        "duration": 2,
        "start_time": "2022-06-02T00:12:26.364Z"
      },
      {
        "duration": 16,
        "start_time": "2022-06-02T00:12:26.368Z"
      },
      {
        "duration": 4,
        "start_time": "2022-06-02T00:12:26.386Z"
      },
      {
        "duration": 41,
        "start_time": "2022-06-02T00:12:26.392Z"
      },
      {
        "duration": 8,
        "start_time": "2022-06-02T00:12:26.434Z"
      },
      {
        "duration": 10,
        "start_time": "2022-06-02T00:12:26.443Z"
      },
      {
        "duration": 14,
        "start_time": "2022-06-02T00:12:26.454Z"
      },
      {
        "duration": 7,
        "start_time": "2022-06-02T00:12:26.470Z"
      },
      {
        "duration": 3,
        "start_time": "2022-06-02T00:12:26.478Z"
      },
      {
        "duration": 8,
        "start_time": "2022-06-02T00:12:26.482Z"
      },
      {
        "duration": 38,
        "start_time": "2022-06-02T00:12:26.491Z"
      },
      {
        "duration": 5,
        "start_time": "2022-06-02T00:12:26.530Z"
      },
      {
        "duration": 11,
        "start_time": "2022-06-02T00:12:26.536Z"
      },
      {
        "duration": 8,
        "start_time": "2022-06-02T00:12:26.548Z"
      },
      {
        "duration": 7,
        "start_time": "2022-06-02T00:12:26.557Z"
      },
      {
        "duration": 1555,
        "start_time": "2022-06-02T00:12:26.565Z"
      },
      {
        "duration": 20,
        "start_time": "2022-06-02T00:12:28.122Z"
      },
      {
        "duration": 8,
        "start_time": "2022-06-02T00:12:28.143Z"
      },
      {
        "duration": 3,
        "start_time": "2022-06-02T00:12:28.152Z"
      },
      {
        "duration": 16,
        "start_time": "2022-06-02T00:12:28.156Z"
      },
      {
        "duration": 6,
        "start_time": "2022-06-02T00:12:28.173Z"
      },
      {
        "duration": 9,
        "start_time": "2022-06-02T00:12:28.181Z"
      },
      {
        "duration": 9,
        "start_time": "2022-06-02T00:12:28.222Z"
      },
      {
        "duration": 9,
        "start_time": "2022-06-02T00:12:28.232Z"
      },
      {
        "duration": 9,
        "start_time": "2022-06-02T00:12:28.242Z"
      },
      {
        "duration": 8,
        "start_time": "2022-06-02T00:12:28.252Z"
      },
      {
        "duration": 12,
        "start_time": "2022-06-02T00:16:26.835Z"
      },
      {
        "duration": 29,
        "start_time": "2022-06-02T00:17:57.467Z"
      },
      {
        "duration": 14,
        "start_time": "2022-06-02T00:18:15.756Z"
      },
      {
        "duration": 5,
        "start_time": "2022-06-02T00:41:52.430Z"
      },
      {
        "duration": 5,
        "start_time": "2022-06-02T00:42:16.896Z"
      },
      {
        "duration": 603,
        "start_time": "2022-06-02T01:09:13.910Z"
      },
      {
        "duration": 3,
        "start_time": "2022-06-02T01:09:14.515Z"
      },
      {
        "duration": 22,
        "start_time": "2022-06-02T01:09:14.520Z"
      },
      {
        "duration": 15,
        "start_time": "2022-06-02T01:09:14.544Z"
      },
      {
        "duration": 6,
        "start_time": "2022-06-02T01:09:14.561Z"
      },
      {
        "duration": 10,
        "start_time": "2022-06-02T01:09:14.568Z"
      },
      {
        "duration": 11,
        "start_time": "2022-06-02T01:09:14.580Z"
      },
      {
        "duration": 32,
        "start_time": "2022-06-02T01:09:14.592Z"
      },
      {
        "duration": 17,
        "start_time": "2022-06-02T01:09:14.625Z"
      },
      {
        "duration": 9,
        "start_time": "2022-06-02T01:09:14.643Z"
      },
      {
        "duration": 32,
        "start_time": "2022-06-02T01:09:14.654Z"
      },
      {
        "duration": 3,
        "start_time": "2022-06-02T01:09:14.688Z"
      },
      {
        "duration": 31,
        "start_time": "2022-06-02T01:09:14.693Z"
      },
      {
        "duration": 5,
        "start_time": "2022-06-02T01:09:14.726Z"
      },
      {
        "duration": 7,
        "start_time": "2022-06-02T01:09:14.732Z"
      },
      {
        "duration": 3,
        "start_time": "2022-06-02T01:09:14.741Z"
      },
      {
        "duration": 6,
        "start_time": "2022-06-02T01:09:14.746Z"
      },
      {
        "duration": 7,
        "start_time": "2022-06-02T01:09:14.754Z"
      },
      {
        "duration": 18,
        "start_time": "2022-06-02T01:09:14.762Z"
      },
      {
        "duration": 7,
        "start_time": "2022-06-02T01:09:14.781Z"
      },
      {
        "duration": 35,
        "start_time": "2022-06-02T01:09:14.790Z"
      },
      {
        "duration": 5,
        "start_time": "2022-06-02T01:09:14.826Z"
      },
      {
        "duration": 8,
        "start_time": "2022-06-02T01:09:14.833Z"
      },
      {
        "duration": 34,
        "start_time": "2022-06-02T01:09:14.843Z"
      },
      {
        "duration": 4,
        "start_time": "2022-06-02T01:09:14.879Z"
      },
      {
        "duration": 13,
        "start_time": "2022-06-02T01:09:14.884Z"
      },
      {
        "duration": 10,
        "start_time": "2022-06-02T01:09:22.796Z"
      },
      {
        "duration": 34,
        "start_time": "2022-06-02T01:09:47.556Z"
      },
      {
        "duration": 4,
        "start_time": "2022-06-02T01:10:05.417Z"
      },
      {
        "duration": 11,
        "start_time": "2022-06-02T01:10:05.422Z"
      },
      {
        "duration": 10,
        "start_time": "2022-06-02T01:10:05.434Z"
      },
      {
        "duration": 5,
        "start_time": "2022-06-02T01:10:05.446Z"
      },
      {
        "duration": 7,
        "start_time": "2022-06-02T01:10:05.452Z"
      },
      {
        "duration": 6,
        "start_time": "2022-06-02T01:10:05.461Z"
      },
      {
        "duration": 712,
        "start_time": "2022-06-02T01:10:05.468Z"
      },
      {
        "duration": 2622,
        "start_time": "2022-06-02T01:10:06.181Z"
      },
      {
        "duration": 5,
        "start_time": "2022-06-02T01:10:08.805Z"
      },
      {
        "duration": 13,
        "start_time": "2022-06-02T01:10:08.811Z"
      },
      {
        "duration": 3,
        "start_time": "2022-06-02T01:10:08.825Z"
      },
      {
        "duration": 20,
        "start_time": "2022-06-02T01:10:08.829Z"
      },
      {
        "duration": 2,
        "start_time": "2022-06-02T01:10:08.850Z"
      },
      {
        "duration": 15,
        "start_time": "2022-06-02T01:10:08.854Z"
      },
      {
        "duration": 5,
        "start_time": "2022-06-02T01:10:08.870Z"
      },
      {
        "duration": 15,
        "start_time": "2022-06-02T01:10:08.876Z"
      },
      {
        "duration": 40,
        "start_time": "2022-06-02T01:10:08.892Z"
      },
      {
        "duration": 12,
        "start_time": "2022-06-02T01:10:08.934Z"
      },
      {
        "duration": 13,
        "start_time": "2022-06-02T01:10:08.948Z"
      },
      {
        "duration": 8,
        "start_time": "2022-06-02T01:10:08.962Z"
      },
      {
        "duration": 2,
        "start_time": "2022-06-02T01:10:08.972Z"
      },
      {
        "duration": 10,
        "start_time": "2022-06-02T01:10:08.976Z"
      },
      {
        "duration": 41,
        "start_time": "2022-06-02T01:10:08.989Z"
      },
      {
        "duration": 6,
        "start_time": "2022-06-02T01:10:09.032Z"
      },
      {
        "duration": 12,
        "start_time": "2022-06-02T01:10:09.040Z"
      },
      {
        "duration": 9,
        "start_time": "2022-06-02T01:10:09.053Z"
      },
      {
        "duration": 7,
        "start_time": "2022-06-02T01:10:09.063Z"
      },
      {
        "duration": 1635,
        "start_time": "2022-06-02T01:10:09.071Z"
      },
      {
        "duration": 20,
        "start_time": "2022-06-02T01:10:10.708Z"
      },
      {
        "duration": 7,
        "start_time": "2022-06-02T01:10:10.730Z"
      },
      {
        "duration": 3,
        "start_time": "2022-06-02T01:10:10.739Z"
      },
      {
        "duration": 16,
        "start_time": "2022-06-02T01:10:10.744Z"
      },
      {
        "duration": 8,
        "start_time": "2022-06-02T01:10:10.761Z"
      },
      {
        "duration": 10,
        "start_time": "2022-06-02T01:10:10.771Z"
      },
      {
        "duration": 15,
        "start_time": "2022-06-02T01:10:10.782Z"
      },
      {
        "duration": 29,
        "start_time": "2022-06-02T01:10:10.799Z"
      },
      {
        "duration": 13,
        "start_time": "2022-06-02T01:10:10.830Z"
      },
      {
        "duration": 14,
        "start_time": "2022-06-02T01:10:10.845Z"
      },
      {
        "duration": 540,
        "start_time": "2022-06-02T01:12:27.027Z"
      },
      {
        "duration": 3,
        "start_time": "2022-06-02T01:12:27.569Z"
      },
      {
        "duration": 22,
        "start_time": "2022-06-02T01:12:27.573Z"
      },
      {
        "duration": 14,
        "start_time": "2022-06-02T01:12:27.598Z"
      },
      {
        "duration": 13,
        "start_time": "2022-06-02T01:12:27.613Z"
      },
      {
        "duration": 9,
        "start_time": "2022-06-02T01:12:27.627Z"
      },
      {
        "duration": 13,
        "start_time": "2022-06-02T01:12:27.637Z"
      },
      {
        "duration": 3,
        "start_time": "2022-06-02T01:12:27.651Z"
      },
      {
        "duration": 17,
        "start_time": "2022-06-02T01:12:27.655Z"
      },
      {
        "duration": 8,
        "start_time": "2022-06-02T01:12:27.675Z"
      },
      {
        "duration": 65,
        "start_time": "2022-06-02T01:12:27.684Z"
      },
      {
        "duration": 4,
        "start_time": "2022-06-02T01:12:27.750Z"
      },
      {
        "duration": 11,
        "start_time": "2022-06-02T01:12:27.755Z"
      },
      {
        "duration": 7,
        "start_time": "2022-06-02T01:12:27.768Z"
      },
      {
        "duration": 10,
        "start_time": "2022-06-02T01:12:27.777Z"
      },
      {
        "duration": 4,
        "start_time": "2022-06-02T01:12:27.788Z"
      },
      {
        "duration": 35,
        "start_time": "2022-06-02T01:12:27.793Z"
      },
      {
        "duration": 7,
        "start_time": "2022-06-02T01:12:27.830Z"
      },
      {
        "duration": 19,
        "start_time": "2022-06-02T01:12:27.839Z"
      },
      {
        "duration": 8,
        "start_time": "2022-06-02T01:12:27.860Z"
      },
      {
        "duration": 4,
        "start_time": "2022-06-02T01:12:27.869Z"
      },
      {
        "duration": 9,
        "start_time": "2022-06-02T01:12:27.874Z"
      },
      {
        "duration": 6,
        "start_time": "2022-06-02T01:12:27.885Z"
      },
      {
        "duration": 38,
        "start_time": "2022-06-02T01:12:27.922Z"
      },
      {
        "duration": 5,
        "start_time": "2022-06-02T01:12:27.962Z"
      },
      {
        "duration": 10,
        "start_time": "2022-06-02T01:12:27.969Z"
      },
      {
        "duration": 9,
        "start_time": "2022-06-02T01:12:27.980Z"
      },
      {
        "duration": 56,
        "start_time": "2022-06-02T01:12:27.992Z"
      },
      {
        "duration": 4,
        "start_time": "2022-06-02T01:12:28.050Z"
      },
      {
        "duration": 9,
        "start_time": "2022-06-02T01:12:28.055Z"
      },
      {
        "duration": 10,
        "start_time": "2022-06-02T01:12:28.066Z"
      },
      {
        "duration": 7,
        "start_time": "2022-06-02T01:12:28.077Z"
      },
      {
        "duration": 6,
        "start_time": "2022-06-02T01:12:28.085Z"
      },
      {
        "duration": 32,
        "start_time": "2022-06-02T01:12:28.092Z"
      },
      {
        "duration": 650,
        "start_time": "2022-06-02T01:12:28.126Z"
      },
      {
        "duration": 2605,
        "start_time": "2022-06-02T01:12:28.778Z"
      },
      {
        "duration": 6,
        "start_time": "2022-06-02T01:12:31.384Z"
      },
      {
        "duration": 8,
        "start_time": "2022-06-02T01:12:31.392Z"
      },
      {
        "duration": 4,
        "start_time": "2022-06-02T01:12:31.401Z"
      },
      {
        "duration": 16,
        "start_time": "2022-06-02T01:12:31.423Z"
      },
      {
        "duration": 3,
        "start_time": "2022-06-02T01:12:31.441Z"
      },
      {
        "duration": 14,
        "start_time": "2022-06-02T01:12:31.445Z"
      },
      {
        "duration": 4,
        "start_time": "2022-06-02T01:12:31.461Z"
      },
      {
        "duration": 14,
        "start_time": "2022-06-02T01:12:31.467Z"
      },
      {
        "duration": 42,
        "start_time": "2022-06-02T01:12:31.483Z"
      },
      {
        "duration": 18,
        "start_time": "2022-06-02T01:12:31.527Z"
      },
      {
        "duration": 8,
        "start_time": "2022-06-02T01:12:31.546Z"
      },
      {
        "duration": 20,
        "start_time": "2022-06-02T01:12:31.556Z"
      },
      {
        "duration": 7,
        "start_time": "2022-06-02T01:12:31.577Z"
      },
      {
        "duration": 16,
        "start_time": "2022-06-02T01:12:31.586Z"
      },
      {
        "duration": 17,
        "start_time": "2022-06-02T01:12:31.604Z"
      },
      {
        "duration": 14,
        "start_time": "2022-06-02T01:12:31.623Z"
      },
      {
        "duration": 17,
        "start_time": "2022-06-02T01:12:31.639Z"
      },
      {
        "duration": 8,
        "start_time": "2022-06-02T01:12:31.657Z"
      },
      {
        "duration": 13,
        "start_time": "2022-06-02T01:12:31.666Z"
      },
      {
        "duration": 1584,
        "start_time": "2022-06-02T01:12:31.680Z"
      },
      {
        "duration": 17,
        "start_time": "2022-06-02T01:12:33.266Z"
      },
      {
        "duration": 8,
        "start_time": "2022-06-02T01:12:33.284Z"
      },
      {
        "duration": 3,
        "start_time": "2022-06-02T01:12:33.293Z"
      },
      {
        "duration": 12,
        "start_time": "2022-06-02T01:12:33.323Z"
      },
      {
        "duration": 8,
        "start_time": "2022-06-02T01:12:33.336Z"
      },
      {
        "duration": 12,
        "start_time": "2022-06-02T01:12:33.345Z"
      },
      {
        "duration": 9,
        "start_time": "2022-06-02T01:12:33.358Z"
      },
      {
        "duration": 9,
        "start_time": "2022-06-02T01:12:33.368Z"
      },
      {
        "duration": 8,
        "start_time": "2022-06-02T01:12:33.378Z"
      },
      {
        "duration": 42,
        "start_time": "2022-06-02T01:12:33.388Z"
      },
      {
        "duration": 152,
        "start_time": "2022-06-02T05:02:09.464Z"
      },
      {
        "duration": 2,
        "start_time": "2022-06-02T05:02:09.618Z"
      },
      {
        "duration": 19,
        "start_time": "2022-06-02T05:02:09.622Z"
      },
      {
        "duration": 19,
        "start_time": "2022-06-02T05:02:09.643Z"
      },
      {
        "duration": 6,
        "start_time": "2022-06-02T05:02:09.663Z"
      },
      {
        "duration": 15,
        "start_time": "2022-06-02T05:02:09.670Z"
      },
      {
        "duration": 22,
        "start_time": "2022-06-02T05:02:09.686Z"
      },
      {
        "duration": 3,
        "start_time": "2022-06-02T05:02:10.695Z"
      },
      {
        "duration": 22,
        "start_time": "2022-06-02T05:02:10.700Z"
      },
      {
        "duration": 8,
        "start_time": "2022-06-02T05:02:10.724Z"
      },
      {
        "duration": 43,
        "start_time": "2022-06-02T05:02:10.734Z"
      },
      {
        "duration": 4,
        "start_time": "2022-06-02T05:02:10.779Z"
      },
      {
        "duration": 19,
        "start_time": "2022-06-02T05:02:10.784Z"
      },
      {
        "duration": 9,
        "start_time": "2022-06-02T05:02:10.804Z"
      },
      {
        "duration": 13,
        "start_time": "2022-06-02T05:02:10.815Z"
      },
      {
        "duration": 4,
        "start_time": "2022-06-02T05:02:10.830Z"
      },
      {
        "duration": 9,
        "start_time": "2022-06-02T05:02:10.835Z"
      },
      {
        "duration": 9,
        "start_time": "2022-06-02T05:02:10.845Z"
      },
      {
        "duration": 20,
        "start_time": "2022-06-02T05:02:10.855Z"
      },
      {
        "duration": 9,
        "start_time": "2022-06-02T05:02:17.114Z"
      },
      {
        "duration": 28,
        "start_time": "2022-06-02T05:02:17.125Z"
      },
      {
        "duration": 19,
        "start_time": "2022-06-02T05:02:17.155Z"
      },
      {
        "duration": 16,
        "start_time": "2022-06-02T05:02:17.176Z"
      },
      {
        "duration": 44,
        "start_time": "2022-06-02T05:02:17.194Z"
      },
      {
        "duration": 5,
        "start_time": "2022-06-02T05:02:17.240Z"
      },
      {
        "duration": 9,
        "start_time": "2022-06-02T05:02:17.461Z"
      },
      {
        "duration": 12,
        "start_time": "2022-06-02T05:02:17.472Z"
      },
      {
        "duration": 29,
        "start_time": "2022-06-02T05:02:17.485Z"
      },
      {
        "duration": 3,
        "start_time": "2022-06-02T05:02:17.516Z"
      },
      {
        "duration": 24,
        "start_time": "2022-06-02T05:02:17.521Z"
      },
      {
        "duration": 9,
        "start_time": "2022-06-02T05:02:17.547Z"
      },
      {
        "duration": 7,
        "start_time": "2022-06-02T05:02:17.558Z"
      },
      {
        "duration": 5,
        "start_time": "2022-06-02T05:02:17.567Z"
      },
      {
        "duration": 6,
        "start_time": "2022-06-02T05:02:17.574Z"
      },
      {
        "duration": 7,
        "start_time": "2022-06-02T05:02:17.738Z"
      },
      {
        "duration": 2794,
        "start_time": "2022-06-02T05:02:17.748Z"
      },
      {
        "duration": 5,
        "start_time": "2022-06-02T05:02:20.543Z"
      },
      {
        "duration": 14,
        "start_time": "2022-06-02T05:02:20.549Z"
      },
      {
        "duration": 19,
        "start_time": "2022-06-02T05:02:20.566Z"
      },
      {
        "duration": 21,
        "start_time": "2022-06-02T05:02:20.587Z"
      },
      {
        "duration": 2,
        "start_time": "2022-06-02T05:02:20.610Z"
      },
      {
        "duration": 21,
        "start_time": "2022-06-02T05:02:20.614Z"
      },
      {
        "duration": 5,
        "start_time": "2022-06-02T05:02:20.637Z"
      },
      {
        "duration": 23,
        "start_time": "2022-06-02T05:02:20.643Z"
      },
      {
        "duration": 15,
        "start_time": "2022-06-02T05:02:20.668Z"
      },
      {
        "duration": 10,
        "start_time": "2022-06-02T05:02:20.684Z"
      },
      {
        "duration": 37,
        "start_time": "2022-06-02T05:02:20.696Z"
      },
      {
        "duration": 8,
        "start_time": "2022-06-02T05:02:20.738Z"
      },
      {
        "duration": 8,
        "start_time": "2022-06-02T05:02:20.748Z"
      },
      {
        "duration": 11,
        "start_time": "2022-06-02T05:02:20.758Z"
      },
      {
        "duration": 18,
        "start_time": "2022-06-02T05:02:20.771Z"
      },
      {
        "duration": 5,
        "start_time": "2022-06-02T05:02:20.791Z"
      },
      {
        "duration": 13,
        "start_time": "2022-06-02T05:02:20.797Z"
      },
      {
        "duration": 18,
        "start_time": "2022-06-02T05:02:20.812Z"
      },
      {
        "duration": 11,
        "start_time": "2022-06-02T05:02:20.832Z"
      },
      {
        "duration": 1708,
        "start_time": "2022-06-02T05:02:20.845Z"
      },
      {
        "duration": 19,
        "start_time": "2022-06-02T05:02:22.555Z"
      },
      {
        "duration": 8,
        "start_time": "2022-06-02T05:02:22.576Z"
      },
      {
        "duration": 14,
        "start_time": "2022-06-02T05:02:22.586Z"
      },
      {
        "duration": 37,
        "start_time": "2022-06-02T05:02:22.602Z"
      },
      {
        "duration": 9,
        "start_time": "2022-06-02T05:02:22.641Z"
      },
      {
        "duration": 12,
        "start_time": "2022-06-02T05:02:22.651Z"
      },
      {
        "duration": 10,
        "start_time": "2022-06-02T05:02:22.664Z"
      },
      {
        "duration": 9,
        "start_time": "2022-06-02T05:02:22.675Z"
      },
      {
        "duration": 45,
        "start_time": "2022-06-02T05:02:22.685Z"
      },
      {
        "duration": 14,
        "start_time": "2022-06-02T05:02:22.732Z"
      },
      {
        "duration": 54,
        "start_time": "2022-06-03T15:03:38.787Z"
      },
      {
        "duration": 531,
        "start_time": "2022-06-03T15:03:53.712Z"
      },
      {
        "duration": 3,
        "start_time": "2022-06-03T15:03:54.245Z"
      },
      {
        "duration": 32,
        "start_time": "2022-06-03T15:03:54.249Z"
      },
      {
        "duration": 14,
        "start_time": "2022-06-03T15:03:54.285Z"
      },
      {
        "duration": 6,
        "start_time": "2022-06-03T15:03:54.300Z"
      },
      {
        "duration": 21,
        "start_time": "2022-06-03T15:03:54.308Z"
      },
      {
        "duration": 27,
        "start_time": "2022-06-03T15:03:54.331Z"
      },
      {
        "duration": 2,
        "start_time": "2022-06-03T15:03:54.360Z"
      },
      {
        "duration": 19,
        "start_time": "2022-06-03T15:03:54.364Z"
      },
      {
        "duration": 9,
        "start_time": "2022-06-03T15:03:54.385Z"
      },
      {
        "duration": 37,
        "start_time": "2022-06-03T15:03:54.395Z"
      },
      {
        "duration": 27,
        "start_time": "2022-06-03T15:03:54.433Z"
      },
      {
        "duration": 10,
        "start_time": "2022-06-03T15:03:54.462Z"
      },
      {
        "duration": 10,
        "start_time": "2022-06-03T15:03:54.473Z"
      },
      {
        "duration": 8,
        "start_time": "2022-06-03T15:03:54.485Z"
      },
      {
        "duration": 4,
        "start_time": "2022-06-03T15:03:54.495Z"
      },
      {
        "duration": 8,
        "start_time": "2022-06-03T15:03:54.501Z"
      },
      {
        "duration": 8,
        "start_time": "2022-06-03T15:03:54.511Z"
      },
      {
        "duration": 53,
        "start_time": "2022-06-03T15:03:54.521Z"
      },
      {
        "duration": 8,
        "start_time": "2022-06-03T15:03:54.575Z"
      },
      {
        "duration": 4,
        "start_time": "2022-06-03T15:03:54.585Z"
      },
      {
        "duration": 6,
        "start_time": "2022-06-03T15:03:54.591Z"
      },
      {
        "duration": 6,
        "start_time": "2022-06-03T15:03:54.599Z"
      },
      {
        "duration": 62,
        "start_time": "2022-06-03T15:03:54.606Z"
      },
      {
        "duration": 5,
        "start_time": "2022-06-03T15:03:54.669Z"
      },
      {
        "duration": 10,
        "start_time": "2022-06-03T15:03:54.675Z"
      },
      {
        "duration": 13,
        "start_time": "2022-06-03T15:03:54.687Z"
      },
      {
        "duration": 56,
        "start_time": "2022-06-03T15:03:54.704Z"
      },
      {
        "duration": 5,
        "start_time": "2022-06-03T15:03:54.761Z"
      },
      {
        "duration": 18,
        "start_time": "2022-06-03T15:03:54.768Z"
      },
      {
        "duration": 9,
        "start_time": "2022-06-03T15:03:54.788Z"
      },
      {
        "duration": 6,
        "start_time": "2022-06-03T15:03:54.799Z"
      },
      {
        "duration": 7,
        "start_time": "2022-06-03T15:03:54.806Z"
      },
      {
        "duration": 9,
        "start_time": "2022-06-03T15:03:54.814Z"
      },
      {
        "duration": 706,
        "start_time": "2022-06-03T15:03:54.825Z"
      },
      {
        "duration": 2750,
        "start_time": "2022-06-03T15:03:55.532Z"
      },
      {
        "duration": 5,
        "start_time": "2022-06-03T15:03:58.284Z"
      },
      {
        "duration": 13,
        "start_time": "2022-06-03T15:03:58.290Z"
      },
      {
        "duration": 13,
        "start_time": "2022-06-03T15:03:58.305Z"
      },
      {
        "duration": 21,
        "start_time": "2022-06-03T15:03:58.319Z"
      },
      {
        "duration": 2,
        "start_time": "2022-06-03T15:03:58.342Z"
      },
      {
        "duration": 22,
        "start_time": "2022-06-03T15:03:58.346Z"
      },
      {
        "duration": 6,
        "start_time": "2022-06-03T15:03:58.370Z"
      },
      {
        "duration": 13,
        "start_time": "2022-06-03T15:03:58.378Z"
      },
      {
        "duration": 10,
        "start_time": "2022-06-03T15:03:58.393Z"
      },
      {
        "duration": 10,
        "start_time": "2022-06-03T15:03:58.405Z"
      },
      {
        "duration": 43,
        "start_time": "2022-06-03T15:03:58.417Z"
      },
      {
        "duration": 8,
        "start_time": "2022-06-03T15:03:58.461Z"
      },
      {
        "duration": 3,
        "start_time": "2022-06-03T15:03:58.471Z"
      },
      {
        "duration": 12,
        "start_time": "2022-06-03T15:03:58.475Z"
      },
      {
        "duration": 15,
        "start_time": "2022-06-03T15:03:58.489Z"
      },
      {
        "duration": 4,
        "start_time": "2022-06-03T15:03:58.506Z"
      },
      {
        "duration": 11,
        "start_time": "2022-06-03T15:03:58.512Z"
      },
      {
        "duration": 40,
        "start_time": "2022-06-03T15:03:58.525Z"
      },
      {
        "duration": 7,
        "start_time": "2022-06-03T15:03:58.567Z"
      },
      {
        "duration": 1616,
        "start_time": "2022-06-03T15:03:58.575Z"
      },
      {
        "duration": 18,
        "start_time": "2022-06-03T15:04:00.193Z"
      },
      {
        "duration": 9,
        "start_time": "2022-06-03T15:04:00.213Z"
      },
      {
        "duration": 11,
        "start_time": "2022-06-03T15:04:00.224Z"
      },
      {
        "duration": 31,
        "start_time": "2022-06-03T15:04:00.237Z"
      },
      {
        "duration": 13,
        "start_time": "2022-06-03T15:04:00.271Z"
      },
      {
        "duration": 20,
        "start_time": "2022-06-03T15:04:00.286Z"
      },
      {
        "duration": 12,
        "start_time": "2022-06-03T15:04:00.308Z"
      },
      {
        "duration": 12,
        "start_time": "2022-06-03T15:04:00.322Z"
      },
      {
        "duration": 28,
        "start_time": "2022-06-03T15:04:00.336Z"
      },
      {
        "duration": 10,
        "start_time": "2022-06-03T15:04:00.366Z"
      },
      {
        "duration": 4,
        "start_time": "2022-06-03T15:04:43.301Z"
      },
      {
        "duration": 635,
        "start_time": "2022-06-03T15:04:50.673Z"
      },
      {
        "duration": 3,
        "start_time": "2022-06-03T15:04:51.310Z"
      },
      {
        "duration": 23,
        "start_time": "2022-06-03T15:04:51.314Z"
      },
      {
        "duration": 32,
        "start_time": "2022-06-03T15:04:51.339Z"
      },
      {
        "duration": 20,
        "start_time": "2022-06-03T15:04:51.373Z"
      },
      {
        "duration": 10,
        "start_time": "2022-06-03T15:04:51.394Z"
      },
      {
        "duration": 16,
        "start_time": "2022-06-03T15:04:51.406Z"
      },
      {
        "duration": 6,
        "start_time": "2022-06-03T15:04:51.424Z"
      },
      {
        "duration": 20,
        "start_time": "2022-06-03T15:04:51.432Z"
      },
      {
        "duration": 18,
        "start_time": "2022-06-03T15:04:51.458Z"
      },
      {
        "duration": 39,
        "start_time": "2022-06-03T15:04:51.478Z"
      },
      {
        "duration": 4,
        "start_time": "2022-06-03T15:04:51.519Z"
      },
      {
        "duration": 11,
        "start_time": "2022-06-03T15:04:51.525Z"
      },
      {
        "duration": 23,
        "start_time": "2022-06-03T15:04:51.537Z"
      },
      {
        "duration": 11,
        "start_time": "2022-06-03T15:04:51.562Z"
      },
      {
        "duration": 13,
        "start_time": "2022-06-03T15:04:51.575Z"
      },
      {
        "duration": 16,
        "start_time": "2022-06-03T15:04:51.589Z"
      },
      {
        "duration": 9,
        "start_time": "2022-06-03T15:04:51.606Z"
      },
      {
        "duration": 23,
        "start_time": "2022-06-03T15:04:51.616Z"
      },
      {
        "duration": 13,
        "start_time": "2022-06-03T15:04:51.659Z"
      },
      {
        "duration": 14,
        "start_time": "2022-06-03T15:04:51.675Z"
      },
      {
        "duration": 14,
        "start_time": "2022-06-03T15:04:51.690Z"
      },
      {
        "duration": 5,
        "start_time": "2022-06-03T15:04:51.705Z"
      },
      {
        "duration": 38,
        "start_time": "2022-06-03T15:04:51.712Z"
      },
      {
        "duration": 14,
        "start_time": "2022-06-03T15:04:51.759Z"
      },
      {
        "duration": 26,
        "start_time": "2022-06-03T15:04:51.775Z"
      },
      {
        "duration": 17,
        "start_time": "2022-06-03T15:04:51.802Z"
      },
      {
        "duration": 40,
        "start_time": "2022-06-03T15:04:51.822Z"
      },
      {
        "duration": 7,
        "start_time": "2022-06-03T15:04:51.866Z"
      },
      {
        "duration": 23,
        "start_time": "2022-06-03T15:04:51.875Z"
      },
      {
        "duration": 15,
        "start_time": "2022-06-03T15:04:51.899Z"
      },
      {
        "duration": 19,
        "start_time": "2022-06-03T15:04:51.916Z"
      },
      {
        "duration": 10,
        "start_time": "2022-06-03T15:04:51.937Z"
      },
      {
        "duration": 14,
        "start_time": "2022-06-03T15:04:51.949Z"
      },
      {
        "duration": 15,
        "start_time": "2022-06-03T15:04:51.966Z"
      },
      {
        "duration": 2999,
        "start_time": "2022-06-03T15:04:51.983Z"
      },
      {
        "duration": 4,
        "start_time": "2022-06-03T15:04:54.984Z"
      },
      {
        "duration": 8,
        "start_time": "2022-06-03T15:04:54.990Z"
      },
      {
        "duration": 14,
        "start_time": "2022-06-03T15:04:55.000Z"
      },
      {
        "duration": 20,
        "start_time": "2022-06-03T15:04:55.016Z"
      },
      {
        "duration": 2,
        "start_time": "2022-06-03T15:04:55.038Z"
      },
      {
        "duration": 28,
        "start_time": "2022-06-03T15:04:55.041Z"
      },
      {
        "duration": 140,
        "start_time": "2022-06-03T15:14:07.733Z"
      },
      {
        "duration": 3,
        "start_time": "2022-06-03T15:14:07.875Z"
      },
      {
        "duration": 14,
        "start_time": "2022-06-03T15:14:07.880Z"
      },
      {
        "duration": 16,
        "start_time": "2022-06-03T15:14:07.896Z"
      },
      {
        "duration": 7,
        "start_time": "2022-06-03T15:14:07.913Z"
      },
      {
        "duration": 45,
        "start_time": "2022-06-03T15:14:07.921Z"
      },
      {
        "duration": 14,
        "start_time": "2022-06-03T15:14:07.968Z"
      },
      {
        "duration": 3,
        "start_time": "2022-06-03T15:14:07.983Z"
      },
      {
        "duration": 19,
        "start_time": "2022-06-03T15:14:07.988Z"
      },
      {
        "duration": 9,
        "start_time": "2022-06-03T15:14:08.009Z"
      },
      {
        "duration": 69,
        "start_time": "2022-06-03T15:14:08.020Z"
      },
      {
        "duration": 5,
        "start_time": "2022-06-03T15:14:08.090Z"
      },
      {
        "duration": 11,
        "start_time": "2022-06-03T15:14:08.097Z"
      },
      {
        "duration": 8,
        "start_time": "2022-06-03T15:14:08.109Z"
      },
      {
        "duration": 9,
        "start_time": "2022-06-03T15:14:08.119Z"
      },
      {
        "duration": 5,
        "start_time": "2022-06-03T15:14:08.158Z"
      },
      {
        "duration": 11,
        "start_time": "2022-06-03T15:14:08.164Z"
      },
      {
        "duration": 13,
        "start_time": "2022-06-03T15:14:08.177Z"
      },
      {
        "duration": 23,
        "start_time": "2022-06-03T15:14:08.192Z"
      },
      {
        "duration": 10,
        "start_time": "2022-06-03T15:14:08.217Z"
      },
      {
        "duration": 6,
        "start_time": "2022-06-03T15:14:08.229Z"
      },
      {
        "duration": 7,
        "start_time": "2022-06-03T15:14:08.259Z"
      },
      {
        "duration": 7,
        "start_time": "2022-06-03T15:14:08.267Z"
      },
      {
        "duration": 33,
        "start_time": "2022-06-03T15:14:08.276Z"
      },
      {
        "duration": 5,
        "start_time": "2022-06-03T15:14:08.311Z"
      },
      {
        "duration": 11,
        "start_time": "2022-06-03T15:14:08.318Z"
      },
      {
        "duration": 10,
        "start_time": "2022-06-03T15:14:08.359Z"
      },
      {
        "duration": 33,
        "start_time": "2022-06-03T15:14:08.373Z"
      },
      {
        "duration": 4,
        "start_time": "2022-06-03T15:14:08.408Z"
      },
      {
        "duration": 14,
        "start_time": "2022-06-03T15:14:08.413Z"
      },
      {
        "duration": 31,
        "start_time": "2022-06-03T15:14:08.429Z"
      },
      {
        "duration": 7,
        "start_time": "2022-06-03T15:14:08.462Z"
      },
      {
        "duration": 6,
        "start_time": "2022-06-03T15:14:08.471Z"
      },
      {
        "duration": 14,
        "start_time": "2022-06-03T15:14:08.479Z"
      },
      {
        "duration": 8,
        "start_time": "2022-06-03T15:14:08.495Z"
      },
      {
        "duration": 7,
        "start_time": "2022-06-03T15:14:08.505Z"
      },
      {
        "duration": 2815,
        "start_time": "2022-06-03T15:14:08.514Z"
      },
      {
        "duration": 4,
        "start_time": "2022-06-03T15:14:11.331Z"
      },
      {
        "duration": 21,
        "start_time": "2022-06-03T15:14:11.337Z"
      },
      {
        "duration": 3,
        "start_time": "2022-06-03T15:14:11.360Z"
      },
      {
        "duration": 20,
        "start_time": "2022-06-03T15:14:11.364Z"
      },
      {
        "duration": 3,
        "start_time": "2022-06-03T15:14:11.385Z"
      },
      {
        "duration": 16,
        "start_time": "2022-06-03T15:14:11.390Z"
      },
      {
        "duration": 5,
        "start_time": "2022-06-03T15:14:11.407Z"
      },
      {
        "duration": 14,
        "start_time": "2022-06-03T15:14:11.414Z"
      },
      {
        "duration": 34,
        "start_time": "2022-06-03T15:14:11.430Z"
      },
      {
        "duration": 16,
        "start_time": "2022-06-03T15:14:11.466Z"
      },
      {
        "duration": 8,
        "start_time": "2022-06-03T15:14:11.484Z"
      },
      {
        "duration": 8,
        "start_time": "2022-06-03T15:14:11.494Z"
      },
      {
        "duration": 4,
        "start_time": "2022-06-03T15:14:11.504Z"
      },
      {
        "duration": 13,
        "start_time": "2022-06-03T15:14:11.509Z"
      },
      {
        "duration": 41,
        "start_time": "2022-06-03T15:14:11.524Z"
      },
      {
        "duration": 4,
        "start_time": "2022-06-03T15:14:11.567Z"
      },
      {
        "duration": 17,
        "start_time": "2022-06-03T15:14:11.573Z"
      },
      {
        "duration": 9,
        "start_time": "2022-06-03T15:14:11.591Z"
      },
      {
        "duration": 12,
        "start_time": "2022-06-03T15:14:11.601Z"
      },
      {
        "duration": 1763,
        "start_time": "2022-06-03T15:14:11.615Z"
      },
      {
        "duration": 19,
        "start_time": "2022-06-03T15:14:13.380Z"
      },
      {
        "duration": 9,
        "start_time": "2022-06-03T15:14:13.401Z"
      },
      {
        "duration": 4,
        "start_time": "2022-06-03T15:14:13.412Z"
      },
      {
        "duration": 44,
        "start_time": "2022-06-03T15:14:13.418Z"
      },
      {
        "duration": 7,
        "start_time": "2022-06-03T15:14:13.464Z"
      },
      {
        "duration": 14,
        "start_time": "2022-06-03T15:14:13.472Z"
      },
      {
        "duration": 11,
        "start_time": "2022-06-03T15:14:13.487Z"
      },
      {
        "duration": 10,
        "start_time": "2022-06-03T15:14:13.500Z"
      },
      {
        "duration": 14,
        "start_time": "2022-06-03T15:14:13.511Z"
      },
      {
        "duration": 40,
        "start_time": "2022-06-03T15:14:13.526Z"
      },
      {
        "duration": 197,
        "start_time": "2022-06-03T15:15:53.544Z"
      },
      {
        "duration": 3,
        "start_time": "2022-06-03T15:15:53.744Z"
      },
      {
        "duration": 15,
        "start_time": "2022-06-03T15:15:53.748Z"
      },
      {
        "duration": 16,
        "start_time": "2022-06-03T15:15:53.765Z"
      },
      {
        "duration": 7,
        "start_time": "2022-06-03T15:15:53.783Z"
      },
      {
        "duration": 15,
        "start_time": "2022-06-03T15:15:53.791Z"
      },
      {
        "duration": 18,
        "start_time": "2022-06-03T15:15:53.808Z"
      },
      {
        "duration": 30,
        "start_time": "2022-06-03T15:15:53.828Z"
      },
      {
        "duration": 17,
        "start_time": "2022-06-03T15:15:53.860Z"
      },
      {
        "duration": 8,
        "start_time": "2022-06-03T15:15:53.881Z"
      },
      {
        "duration": 36,
        "start_time": "2022-06-03T15:15:53.891Z"
      },
      {
        "duration": 32,
        "start_time": "2022-06-03T15:15:53.928Z"
      },
      {
        "duration": 12,
        "start_time": "2022-06-03T15:15:53.962Z"
      },
      {
        "duration": 7,
        "start_time": "2022-06-03T15:15:53.976Z"
      },
      {
        "duration": 7,
        "start_time": "2022-06-03T15:15:53.985Z"
      },
      {
        "duration": 5,
        "start_time": "2022-06-03T15:15:53.994Z"
      },
      {
        "duration": 14,
        "start_time": "2022-06-03T15:15:54.000Z"
      },
      {
        "duration": 7,
        "start_time": "2022-06-03T15:15:54.016Z"
      },
      {
        "duration": 49,
        "start_time": "2022-06-03T15:15:54.024Z"
      },
      {
        "duration": 8,
        "start_time": "2022-06-03T15:15:54.074Z"
      },
      {
        "duration": 5,
        "start_time": "2022-06-03T15:15:54.083Z"
      },
      {
        "duration": 8,
        "start_time": "2022-06-03T15:15:54.089Z"
      },
      {
        "duration": 6,
        "start_time": "2022-06-03T15:15:54.098Z"
      },
      {
        "duration": 58,
        "start_time": "2022-06-03T15:15:54.105Z"
      },
      {
        "duration": 5,
        "start_time": "2022-06-03T15:15:54.165Z"
      },
      {
        "duration": 11,
        "start_time": "2022-06-03T15:15:54.171Z"
      },
      {
        "duration": 10,
        "start_time": "2022-06-03T15:15:54.183Z"
      },
      {
        "duration": 65,
        "start_time": "2022-06-03T15:15:54.196Z"
      },
      {
        "duration": 4,
        "start_time": "2022-06-03T15:15:54.262Z"
      },
      {
        "duration": 14,
        "start_time": "2022-06-03T15:15:54.268Z"
      },
      {
        "duration": 10,
        "start_time": "2022-06-03T15:15:54.284Z"
      },
      {
        "duration": 6,
        "start_time": "2022-06-03T15:15:54.295Z"
      },
      {
        "duration": 5,
        "start_time": "2022-06-03T15:15:54.303Z"
      },
      {
        "duration": 49,
        "start_time": "2022-06-03T15:15:54.310Z"
      },
      {
        "duration": 7,
        "start_time": "2022-06-03T15:15:54.361Z"
      },
      {
        "duration": 8,
        "start_time": "2022-06-03T15:15:54.369Z"
      },
      {
        "duration": 2800,
        "start_time": "2022-06-03T15:15:54.378Z"
      },
      {
        "duration": 7,
        "start_time": "2022-06-03T15:15:57.180Z"
      },
      {
        "duration": 24,
        "start_time": "2022-06-03T15:15:57.189Z"
      },
      {
        "duration": 10,
        "start_time": "2022-06-03T15:15:57.215Z"
      },
      {
        "duration": 24,
        "start_time": "2022-06-03T15:15:57.227Z"
      },
      {
        "duration": 6,
        "start_time": "2022-06-03T15:15:57.253Z"
      },
      {
        "duration": 29,
        "start_time": "2022-06-03T15:15:57.261Z"
      },
      {
        "duration": 5,
        "start_time": "2022-06-03T15:15:57.292Z"
      },
      {
        "duration": 27,
        "start_time": "2022-06-03T15:15:57.299Z"
      },
      {
        "duration": 12,
        "start_time": "2022-06-03T15:15:57.328Z"
      },
      {
        "duration": 22,
        "start_time": "2022-06-03T15:15:57.342Z"
      },
      {
        "duration": 10,
        "start_time": "2022-06-03T15:15:57.366Z"
      },
      {
        "duration": 12,
        "start_time": "2022-06-03T15:15:57.378Z"
      },
      {
        "duration": 6,
        "start_time": "2022-06-03T15:15:57.392Z"
      },
      {
        "duration": 8,
        "start_time": "2022-06-03T15:15:57.400Z"
      },
      {
        "duration": 12,
        "start_time": "2022-06-03T15:15:57.410Z"
      },
      {
        "duration": 36,
        "start_time": "2022-06-03T15:15:57.423Z"
      },
      {
        "duration": 13,
        "start_time": "2022-06-03T15:15:57.460Z"
      },
      {
        "duration": 8,
        "start_time": "2022-06-03T15:15:57.475Z"
      },
      {
        "duration": 8,
        "start_time": "2022-06-03T15:15:57.485Z"
      },
      {
        "duration": 1679,
        "start_time": "2022-06-03T15:15:57.494Z"
      },
      {
        "duration": 17,
        "start_time": "2022-06-03T15:15:59.175Z"
      },
      {
        "duration": 8,
        "start_time": "2022-06-03T15:15:59.193Z"
      },
      {
        "duration": 3,
        "start_time": "2022-06-03T15:15:59.203Z"
      },
      {
        "duration": 14,
        "start_time": "2022-06-03T15:15:59.207Z"
      },
      {
        "duration": 10,
        "start_time": "2022-06-03T15:15:59.222Z"
      },
      {
        "duration": 34,
        "start_time": "2022-06-03T15:15:59.233Z"
      },
      {
        "duration": 13,
        "start_time": "2022-06-03T15:15:59.268Z"
      },
      {
        "duration": 11,
        "start_time": "2022-06-03T15:15:59.283Z"
      },
      {
        "duration": 11,
        "start_time": "2022-06-03T15:15:59.296Z"
      },
      {
        "duration": 9,
        "start_time": "2022-06-03T15:15:59.309Z"
      },
      {
        "duration": 8,
        "start_time": "2022-06-03T15:17:37.156Z"
      },
      {
        "duration": 455,
        "start_time": "2022-06-03T15:24:44.525Z"
      },
      {
        "duration": 317,
        "start_time": "2022-06-03T15:25:13.068Z"
      },
      {
        "duration": 101,
        "start_time": "2022-06-03T15:25:25.856Z"
      },
      {
        "duration": 2,
        "start_time": "2022-06-03T15:25:25.960Z"
      },
      {
        "duration": 15,
        "start_time": "2022-06-03T15:25:25.964Z"
      },
      {
        "duration": 16,
        "start_time": "2022-06-03T15:25:25.981Z"
      },
      {
        "duration": 6,
        "start_time": "2022-06-03T15:25:25.999Z"
      },
      {
        "duration": 15,
        "start_time": "2022-06-03T15:25:26.007Z"
      },
      {
        "duration": 42,
        "start_time": "2022-06-03T15:25:26.023Z"
      },
      {
        "duration": 3,
        "start_time": "2022-06-03T15:25:26.067Z"
      },
      {
        "duration": 19,
        "start_time": "2022-06-03T15:25:26.071Z"
      },
      {
        "duration": 10,
        "start_time": "2022-06-03T15:25:26.092Z"
      },
      {
        "duration": 57,
        "start_time": "2022-06-03T15:25:26.103Z"
      },
      {
        "duration": 5,
        "start_time": "2022-06-03T15:25:26.162Z"
      },
      {
        "duration": 13,
        "start_time": "2022-06-03T15:25:26.168Z"
      },
      {
        "duration": 8,
        "start_time": "2022-06-03T15:25:26.183Z"
      },
      {
        "duration": 6,
        "start_time": "2022-06-03T15:25:26.193Z"
      },
      {
        "duration": 4,
        "start_time": "2022-06-03T15:25:26.201Z"
      },
      {
        "duration": 8,
        "start_time": "2022-06-03T15:25:26.206Z"
      },
      {
        "duration": 6,
        "start_time": "2022-06-03T15:25:26.216Z"
      },
      {
        "duration": 52,
        "start_time": "2022-06-03T15:25:26.223Z"
      },
      {
        "duration": 8,
        "start_time": "2022-06-03T15:25:26.276Z"
      },
      {
        "duration": 6,
        "start_time": "2022-06-03T15:25:26.285Z"
      },
      {
        "duration": 7,
        "start_time": "2022-06-03T15:25:26.292Z"
      },
      {
        "duration": 11,
        "start_time": "2022-06-03T15:25:26.300Z"
      },
      {
        "duration": 56,
        "start_time": "2022-06-03T15:25:26.313Z"
      },
      {
        "duration": 7,
        "start_time": "2022-06-03T15:25:26.371Z"
      },
      {
        "duration": 14,
        "start_time": "2022-06-03T15:25:26.380Z"
      },
      {
        "duration": 9,
        "start_time": "2022-06-03T15:25:26.395Z"
      },
      {
        "duration": 458,
        "start_time": "2022-06-03T15:25:26.408Z"
      },
      {
        "duration": 4,
        "start_time": "2022-06-03T15:25:26.868Z"
      },
      {
        "duration": 16,
        "start_time": "2022-06-03T15:25:26.873Z"
      },
      {
        "duration": 10,
        "start_time": "2022-06-03T15:25:26.891Z"
      },
      {
        "duration": 5,
        "start_time": "2022-06-03T15:25:26.902Z"
      },
      {
        "duration": 7,
        "start_time": "2022-06-03T15:25:26.909Z"
      },
      {
        "duration": 63,
        "start_time": "2022-06-03T15:25:26.917Z"
      },
      {
        "duration": 11,
        "start_time": "2022-06-03T15:25:26.982Z"
      },
      {
        "duration": 9,
        "start_time": "2022-06-03T15:25:26.995Z"
      },
      {
        "duration": 2886,
        "start_time": "2022-06-03T15:25:27.006Z"
      },
      {
        "duration": 5,
        "start_time": "2022-06-03T15:25:29.894Z"
      },
      {
        "duration": 7,
        "start_time": "2022-06-03T15:25:29.901Z"
      },
      {
        "duration": 5,
        "start_time": "2022-06-03T15:25:29.910Z"
      },
      {
        "duration": 20,
        "start_time": "2022-06-03T15:25:29.916Z"
      },
      {
        "duration": 3,
        "start_time": "2022-06-03T15:25:29.959Z"
      },
      {
        "duration": 18,
        "start_time": "2022-06-03T15:25:29.963Z"
      },
      {
        "duration": 5,
        "start_time": "2022-06-03T15:25:29.983Z"
      },
      {
        "duration": 17,
        "start_time": "2022-06-03T15:25:29.990Z"
      },
      {
        "duration": 12,
        "start_time": "2022-06-03T15:25:30.009Z"
      },
      {
        "duration": 42,
        "start_time": "2022-06-03T15:25:30.023Z"
      },
      {
        "duration": 8,
        "start_time": "2022-06-03T15:25:30.067Z"
      },
      {
        "duration": 16,
        "start_time": "2022-06-03T15:25:30.077Z"
      },
      {
        "duration": 13,
        "start_time": "2022-06-03T15:25:30.095Z"
      },
      {
        "duration": 33,
        "start_time": "2022-06-03T15:25:30.110Z"
      },
      {
        "duration": 19,
        "start_time": "2022-06-03T15:25:30.145Z"
      },
      {
        "duration": 22,
        "start_time": "2022-06-03T15:25:30.165Z"
      },
      {
        "duration": 14,
        "start_time": "2022-06-03T15:25:30.188Z"
      },
      {
        "duration": 11,
        "start_time": "2022-06-03T15:25:30.204Z"
      },
      {
        "duration": 12,
        "start_time": "2022-06-03T15:25:30.217Z"
      },
      {
        "duration": 1732,
        "start_time": "2022-06-03T15:25:30.231Z"
      },
      {
        "duration": 19,
        "start_time": "2022-06-03T15:25:31.965Z"
      },
      {
        "duration": 14,
        "start_time": "2022-06-03T15:25:31.986Z"
      },
      {
        "duration": 5,
        "start_time": "2022-06-03T15:25:32.001Z"
      },
      {
        "duration": 24,
        "start_time": "2022-06-03T15:25:32.008Z"
      },
      {
        "duration": 18,
        "start_time": "2022-06-03T15:25:32.033Z"
      },
      {
        "duration": 13,
        "start_time": "2022-06-03T15:25:32.059Z"
      },
      {
        "duration": 26,
        "start_time": "2022-06-03T15:25:32.074Z"
      },
      {
        "duration": 12,
        "start_time": "2022-06-03T15:25:32.102Z"
      },
      {
        "duration": 23,
        "start_time": "2022-06-03T15:25:32.115Z"
      },
      {
        "duration": 20,
        "start_time": "2022-06-03T15:25:32.140Z"
      },
      {
        "duration": 592,
        "start_time": "2022-06-03T15:26:07.928Z"
      },
      {
        "duration": 3,
        "start_time": "2022-06-03T15:26:08.523Z"
      },
      {
        "duration": 42,
        "start_time": "2022-06-03T15:26:08.528Z"
      },
      {
        "duration": 31,
        "start_time": "2022-06-03T15:26:08.571Z"
      },
      {
        "duration": 13,
        "start_time": "2022-06-03T15:26:08.605Z"
      },
      {
        "duration": 15,
        "start_time": "2022-06-03T15:26:08.620Z"
      },
      {
        "duration": 17,
        "start_time": "2022-06-03T15:26:08.637Z"
      },
      {
        "duration": 8,
        "start_time": "2022-06-03T15:26:08.656Z"
      },
      {
        "duration": 24,
        "start_time": "2022-06-03T15:26:08.665Z"
      },
      {
        "duration": 13,
        "start_time": "2022-06-03T15:26:08.691Z"
      },
      {
        "duration": 45,
        "start_time": "2022-06-03T15:26:08.705Z"
      },
      {
        "duration": 5,
        "start_time": "2022-06-03T15:26:08.759Z"
      },
      {
        "duration": 14,
        "start_time": "2022-06-03T15:26:08.765Z"
      },
      {
        "duration": 14,
        "start_time": "2022-06-03T15:26:08.782Z"
      },
      {
        "duration": 15,
        "start_time": "2022-06-03T15:26:08.797Z"
      },
      {
        "duration": 6,
        "start_time": "2022-06-03T15:26:08.814Z"
      },
      {
        "duration": 11,
        "start_time": "2022-06-03T15:26:08.821Z"
      },
      {
        "duration": 12,
        "start_time": "2022-06-03T15:26:08.834Z"
      },
      {
        "duration": 37,
        "start_time": "2022-06-03T15:26:08.848Z"
      },
      {
        "duration": 24,
        "start_time": "2022-06-03T15:26:08.888Z"
      },
      {
        "duration": 12,
        "start_time": "2022-06-03T15:26:08.914Z"
      },
      {
        "duration": 58,
        "start_time": "2022-06-03T15:26:08.927Z"
      },
      {
        "duration": 18,
        "start_time": "2022-06-03T15:26:08.986Z"
      },
      {
        "duration": 73,
        "start_time": "2022-06-03T15:26:09.006Z"
      },
      {
        "duration": 8,
        "start_time": "2022-06-03T15:26:09.080Z"
      },
      {
        "duration": 46,
        "start_time": "2022-06-03T15:26:09.089Z"
      },
      {
        "duration": 18,
        "start_time": "2022-06-03T15:26:09.137Z"
      },
      {
        "duration": 489,
        "start_time": "2022-06-03T15:26:09.157Z"
      },
      {
        "duration": 84,
        "start_time": "2022-06-03T15:26:09.648Z"
      },
      {
        "duration": 0,
        "start_time": "2022-06-03T15:26:09.735Z"
      },
      {
        "duration": 0,
        "start_time": "2022-06-03T15:26:09.736Z"
      },
      {
        "duration": 0,
        "start_time": "2022-06-03T15:26:09.737Z"
      },
      {
        "duration": 0,
        "start_time": "2022-06-03T15:26:09.738Z"
      },
      {
        "duration": 0,
        "start_time": "2022-06-03T15:26:09.759Z"
      },
      {
        "duration": 0,
        "start_time": "2022-06-03T15:26:09.760Z"
      },
      {
        "duration": 0,
        "start_time": "2022-06-03T15:26:09.761Z"
      },
      {
        "duration": 0,
        "start_time": "2022-06-03T15:26:09.762Z"
      },
      {
        "duration": 0,
        "start_time": "2022-06-03T15:26:09.763Z"
      },
      {
        "duration": 0,
        "start_time": "2022-06-03T15:26:09.764Z"
      },
      {
        "duration": 0,
        "start_time": "2022-06-03T15:26:09.765Z"
      },
      {
        "duration": 0,
        "start_time": "2022-06-03T15:26:09.766Z"
      },
      {
        "duration": 0,
        "start_time": "2022-06-03T15:26:09.767Z"
      },
      {
        "duration": 0,
        "start_time": "2022-06-03T15:26:09.768Z"
      },
      {
        "duration": 0,
        "start_time": "2022-06-03T15:26:09.769Z"
      },
      {
        "duration": 0,
        "start_time": "2022-06-03T15:26:09.770Z"
      },
      {
        "duration": 0,
        "start_time": "2022-06-03T15:26:09.771Z"
      },
      {
        "duration": 0,
        "start_time": "2022-06-03T15:26:09.772Z"
      },
      {
        "duration": 0,
        "start_time": "2022-06-03T15:26:09.773Z"
      },
      {
        "duration": 0,
        "start_time": "2022-06-03T15:26:09.774Z"
      },
      {
        "duration": 0,
        "start_time": "2022-06-03T15:26:09.774Z"
      },
      {
        "duration": 0,
        "start_time": "2022-06-03T15:26:09.775Z"
      },
      {
        "duration": 0,
        "start_time": "2022-06-03T15:26:09.776Z"
      },
      {
        "duration": 0,
        "start_time": "2022-06-03T15:26:09.777Z"
      },
      {
        "duration": 0,
        "start_time": "2022-06-03T15:26:09.778Z"
      },
      {
        "duration": 0,
        "start_time": "2022-06-03T15:26:09.779Z"
      },
      {
        "duration": 0,
        "start_time": "2022-06-03T15:26:09.779Z"
      },
      {
        "duration": 0,
        "start_time": "2022-06-03T15:26:09.781Z"
      },
      {
        "duration": 0,
        "start_time": "2022-06-03T15:26:09.782Z"
      },
      {
        "duration": 0,
        "start_time": "2022-06-03T15:26:09.783Z"
      },
      {
        "duration": 0,
        "start_time": "2022-06-03T15:26:09.784Z"
      },
      {
        "duration": 0,
        "start_time": "2022-06-03T15:26:09.785Z"
      },
      {
        "duration": 0,
        "start_time": "2022-06-03T15:26:09.786Z"
      },
      {
        "duration": 0,
        "start_time": "2022-06-03T15:26:09.787Z"
      },
      {
        "duration": 0,
        "start_time": "2022-06-03T15:26:09.787Z"
      },
      {
        "duration": 0,
        "start_time": "2022-06-03T15:26:09.788Z"
      },
      {
        "duration": 0,
        "start_time": "2022-06-03T15:26:09.789Z"
      },
      {
        "duration": 0,
        "start_time": "2022-06-03T15:26:09.790Z"
      },
      {
        "duration": 145,
        "start_time": "2022-06-03T15:27:16.028Z"
      },
      {
        "duration": 4,
        "start_time": "2022-06-03T15:27:16.176Z"
      },
      {
        "duration": 18,
        "start_time": "2022-06-03T15:27:16.181Z"
      },
      {
        "duration": 19,
        "start_time": "2022-06-03T15:27:16.202Z"
      },
      {
        "duration": 6,
        "start_time": "2022-06-03T15:27:16.223Z"
      },
      {
        "duration": 38,
        "start_time": "2022-06-03T15:27:16.231Z"
      },
      {
        "duration": 15,
        "start_time": "2022-06-03T15:27:16.273Z"
      },
      {
        "duration": 5,
        "start_time": "2022-06-03T15:27:16.290Z"
      },
      {
        "duration": 20,
        "start_time": "2022-06-03T15:27:16.297Z"
      },
      {
        "duration": 9,
        "start_time": "2022-06-03T15:27:16.320Z"
      },
      {
        "duration": 60,
        "start_time": "2022-06-03T15:27:16.331Z"
      },
      {
        "duration": 4,
        "start_time": "2022-06-03T15:27:16.393Z"
      },
      {
        "duration": 12,
        "start_time": "2022-06-03T15:27:16.398Z"
      },
      {
        "duration": 5,
        "start_time": "2022-06-03T15:27:16.411Z"
      },
      {
        "duration": 8,
        "start_time": "2022-06-03T15:27:16.418Z"
      },
      {
        "duration": 31,
        "start_time": "2022-06-03T15:27:16.428Z"
      },
      {
        "duration": 11,
        "start_time": "2022-06-03T15:27:16.461Z"
      },
      {
        "duration": 10,
        "start_time": "2022-06-03T15:27:16.474Z"
      },
      {
        "duration": 20,
        "start_time": "2022-06-03T15:27:16.485Z"
      },
      {
        "duration": 8,
        "start_time": "2022-06-03T15:27:16.507Z"
      },
      {
        "duration": 4,
        "start_time": "2022-06-03T15:27:16.516Z"
      },
      {
        "duration": 37,
        "start_time": "2022-06-03T15:27:16.522Z"
      },
      {
        "duration": 7,
        "start_time": "2022-06-03T15:27:16.561Z"
      },
      {
        "duration": 40,
        "start_time": "2022-06-03T15:27:16.570Z"
      },
      {
        "duration": 8,
        "start_time": "2022-06-03T15:27:16.611Z"
      },
      {
        "duration": 9,
        "start_time": "2022-06-03T15:27:16.620Z"
      },
      {
        "duration": 37,
        "start_time": "2022-06-03T15:27:16.630Z"
      },
      {
        "duration": 9,
        "start_time": "2022-06-03T15:27:20.213Z"
      },
      {
        "duration": 494,
        "start_time": "2022-06-03T15:27:22.248Z"
      },
      {
        "duration": 6,
        "start_time": "2022-06-03T15:29:16.435Z"
      },
      {
        "duration": 5,
        "start_time": "2022-06-03T15:29:22.400Z"
      },
      {
        "duration": 277,
        "start_time": "2022-06-03T15:30:45.514Z"
      },
      {
        "duration": 280,
        "start_time": "2022-06-03T15:32:05.682Z"
      },
      {
        "duration": 42,
        "start_time": "2022-06-03T15:32:07.688Z"
      },
      {
        "duration": 37,
        "start_time": "2022-06-03T15:32:19.945Z"
      },
      {
        "duration": 62,
        "start_time": "2022-06-03T15:32:31.272Z"
      },
      {
        "duration": 47,
        "start_time": "2022-06-03T15:32:44.996Z"
      },
      {
        "duration": 66,
        "start_time": "2022-06-03T15:32:53.057Z"
      },
      {
        "duration": 13,
        "start_time": "2022-06-03T15:33:44.892Z"
      },
      {
        "duration": 12,
        "start_time": "2022-06-03T15:35:11.707Z"
      },
      {
        "duration": 13,
        "start_time": "2022-06-03T15:35:22.230Z"
      },
      {
        "duration": 15,
        "start_time": "2022-06-03T15:35:34.828Z"
      },
      {
        "duration": 11,
        "start_time": "2022-06-03T15:37:08.153Z"
      },
      {
        "duration": 8,
        "start_time": "2022-06-03T15:37:35.821Z"
      },
      {
        "duration": 13,
        "start_time": "2022-06-03T15:37:53.378Z"
      },
      {
        "duration": 11,
        "start_time": "2022-06-03T15:38:02.024Z"
      },
      {
        "duration": 375,
        "start_time": "2022-06-03T15:40:33.057Z"
      },
      {
        "duration": 12,
        "start_time": "2022-06-03T15:40:33.664Z"
      },
      {
        "duration": 527,
        "start_time": "2022-06-03T15:40:42.972Z"
      },
      {
        "duration": 3,
        "start_time": "2022-06-03T15:40:43.501Z"
      },
      {
        "duration": 42,
        "start_time": "2022-06-03T15:40:43.506Z"
      },
      {
        "duration": 18,
        "start_time": "2022-06-03T15:40:43.550Z"
      },
      {
        "duration": 20,
        "start_time": "2022-06-03T15:40:43.570Z"
      },
      {
        "duration": 12,
        "start_time": "2022-06-03T15:40:43.591Z"
      },
      {
        "duration": 28,
        "start_time": "2022-06-03T15:40:43.604Z"
      },
      {
        "duration": 12,
        "start_time": "2022-06-03T15:40:43.633Z"
      },
      {
        "duration": 22,
        "start_time": "2022-06-03T15:40:43.647Z"
      },
      {
        "duration": 10,
        "start_time": "2022-06-03T15:40:43.673Z"
      },
      {
        "duration": 51,
        "start_time": "2022-06-03T15:40:43.685Z"
      },
      {
        "duration": 5,
        "start_time": "2022-06-03T15:40:43.737Z"
      },
      {
        "duration": 23,
        "start_time": "2022-06-03T15:40:43.744Z"
      },
      {
        "duration": 15,
        "start_time": "2022-06-03T15:40:43.769Z"
      },
      {
        "duration": 21,
        "start_time": "2022-06-03T15:40:43.785Z"
      },
      {
        "duration": 20,
        "start_time": "2022-06-03T15:40:43.808Z"
      },
      {
        "duration": 11,
        "start_time": "2022-06-03T15:40:43.830Z"
      },
      {
        "duration": 18,
        "start_time": "2022-06-03T15:40:43.843Z"
      },
      {
        "duration": 25,
        "start_time": "2022-06-03T15:40:43.862Z"
      },
      {
        "duration": 13,
        "start_time": "2022-06-03T15:40:43.888Z"
      },
      {
        "duration": 14,
        "start_time": "2022-06-03T15:40:43.902Z"
      },
      {
        "duration": 13,
        "start_time": "2022-06-03T15:40:43.918Z"
      },
      {
        "duration": 21,
        "start_time": "2022-06-03T15:40:43.933Z"
      },
      {
        "duration": 53,
        "start_time": "2022-06-03T15:40:43.956Z"
      },
      {
        "duration": 8,
        "start_time": "2022-06-03T15:40:44.011Z"
      },
      {
        "duration": 28,
        "start_time": "2022-06-03T15:40:44.021Z"
      },
      {
        "duration": 14,
        "start_time": "2022-06-03T15:40:44.051Z"
      },
      {
        "duration": 9,
        "start_time": "2022-06-03T15:40:44.068Z"
      },
      {
        "duration": 102,
        "start_time": "2022-06-03T15:40:44.079Z"
      },
      {
        "duration": 0,
        "start_time": "2022-06-03T15:40:44.183Z"
      },
      {
        "duration": 0,
        "start_time": "2022-06-03T15:40:44.184Z"
      },
      {
        "duration": 0,
        "start_time": "2022-06-03T15:40:44.185Z"
      },
      {
        "duration": 0,
        "start_time": "2022-06-03T15:40:44.187Z"
      },
      {
        "duration": 0,
        "start_time": "2022-06-03T15:40:44.188Z"
      },
      {
        "duration": 0,
        "start_time": "2022-06-03T15:40:44.189Z"
      },
      {
        "duration": 0,
        "start_time": "2022-06-03T15:40:44.190Z"
      },
      {
        "duration": 0,
        "start_time": "2022-06-03T15:40:44.191Z"
      },
      {
        "duration": 0,
        "start_time": "2022-06-03T15:40:44.192Z"
      },
      {
        "duration": 0,
        "start_time": "2022-06-03T15:40:44.193Z"
      },
      {
        "duration": 0,
        "start_time": "2022-06-03T15:40:44.194Z"
      },
      {
        "duration": 0,
        "start_time": "2022-06-03T15:40:44.195Z"
      },
      {
        "duration": 0,
        "start_time": "2022-06-03T15:40:44.196Z"
      },
      {
        "duration": 0,
        "start_time": "2022-06-03T15:40:44.197Z"
      },
      {
        "duration": 0,
        "start_time": "2022-06-03T15:40:44.198Z"
      },
      {
        "duration": 0,
        "start_time": "2022-06-03T15:40:44.199Z"
      },
      {
        "duration": 0,
        "start_time": "2022-06-03T15:40:44.200Z"
      },
      {
        "duration": 0,
        "start_time": "2022-06-03T15:40:44.201Z"
      },
      {
        "duration": 0,
        "start_time": "2022-06-03T15:40:44.202Z"
      },
      {
        "duration": 0,
        "start_time": "2022-06-03T15:40:44.203Z"
      },
      {
        "duration": 0,
        "start_time": "2022-06-03T15:40:44.204Z"
      },
      {
        "duration": 0,
        "start_time": "2022-06-03T15:40:44.205Z"
      },
      {
        "duration": 0,
        "start_time": "2022-06-03T15:40:44.206Z"
      },
      {
        "duration": 0,
        "start_time": "2022-06-03T15:40:44.208Z"
      },
      {
        "duration": 0,
        "start_time": "2022-06-03T15:40:44.209Z"
      },
      {
        "duration": 0,
        "start_time": "2022-06-03T15:40:44.210Z"
      },
      {
        "duration": 0,
        "start_time": "2022-06-03T15:40:44.211Z"
      },
      {
        "duration": 0,
        "start_time": "2022-06-03T15:40:44.212Z"
      },
      {
        "duration": 0,
        "start_time": "2022-06-03T15:40:44.259Z"
      },
      {
        "duration": 0,
        "start_time": "2022-06-03T15:40:44.260Z"
      },
      {
        "duration": 0,
        "start_time": "2022-06-03T15:40:44.261Z"
      },
      {
        "duration": 0,
        "start_time": "2022-06-03T15:40:44.263Z"
      },
      {
        "duration": 0,
        "start_time": "2022-06-03T15:40:44.264Z"
      },
      {
        "duration": 0,
        "start_time": "2022-06-03T15:40:44.265Z"
      },
      {
        "duration": 0,
        "start_time": "2022-06-03T15:40:44.266Z"
      },
      {
        "duration": 0,
        "start_time": "2022-06-03T15:40:44.267Z"
      },
      {
        "duration": 0,
        "start_time": "2022-06-03T15:40:44.268Z"
      },
      {
        "duration": 0,
        "start_time": "2022-06-03T15:40:44.269Z"
      },
      {
        "duration": 0,
        "start_time": "2022-06-03T15:40:44.270Z"
      },
      {
        "duration": 14,
        "start_time": "2022-06-03T15:41:18.029Z"
      },
      {
        "duration": 8,
        "start_time": "2022-06-03T15:41:19.048Z"
      },
      {
        "duration": 9,
        "start_time": "2022-06-03T15:41:26.680Z"
      },
      {
        "duration": 13,
        "start_time": "2022-06-03T15:43:07.379Z"
      },
      {
        "duration": 28,
        "start_time": "2022-06-03T15:43:08.026Z"
      },
      {
        "duration": 113,
        "start_time": "2022-06-03T15:43:48.103Z"
      },
      {
        "duration": 3,
        "start_time": "2022-06-03T15:43:48.218Z"
      },
      {
        "duration": 19,
        "start_time": "2022-06-03T15:43:48.223Z"
      },
      {
        "duration": 21,
        "start_time": "2022-06-03T15:43:48.244Z"
      },
      {
        "duration": 6,
        "start_time": "2022-06-03T15:43:48.267Z"
      },
      {
        "duration": 14,
        "start_time": "2022-06-03T15:43:48.274Z"
      },
      {
        "duration": 14,
        "start_time": "2022-06-03T15:43:48.290Z"
      },
      {
        "duration": 3,
        "start_time": "2022-06-03T15:43:48.305Z"
      },
      {
        "duration": 18,
        "start_time": "2022-06-03T15:43:48.310Z"
      },
      {
        "duration": 30,
        "start_time": "2022-06-03T15:43:48.330Z"
      },
      {
        "duration": 34,
        "start_time": "2022-06-03T15:43:48.361Z"
      },
      {
        "duration": 4,
        "start_time": "2022-06-03T15:43:48.396Z"
      },
      {
        "duration": 11,
        "start_time": "2022-06-03T15:43:48.401Z"
      },
      {
        "duration": 15,
        "start_time": "2022-06-03T15:43:48.414Z"
      },
      {
        "duration": 9,
        "start_time": "2022-06-03T15:43:48.430Z"
      },
      {
        "duration": 20,
        "start_time": "2022-06-03T15:43:48.441Z"
      },
      {
        "duration": 18,
        "start_time": "2022-06-03T15:43:48.463Z"
      },
      {
        "duration": 8,
        "start_time": "2022-06-03T15:43:48.483Z"
      },
      {
        "duration": 25,
        "start_time": "2022-06-03T15:43:48.493Z"
      },
      {
        "duration": 10,
        "start_time": "2022-06-03T15:43:48.520Z"
      },
      {
        "duration": 28,
        "start_time": "2022-06-03T15:43:48.531Z"
      },
      {
        "duration": 6,
        "start_time": "2022-06-03T15:43:48.561Z"
      },
      {
        "duration": 7,
        "start_time": "2022-06-03T15:43:48.569Z"
      },
      {
        "duration": 33,
        "start_time": "2022-06-03T15:43:48.577Z"
      },
      {
        "duration": 8,
        "start_time": "2022-06-03T15:43:48.612Z"
      },
      {
        "duration": 9,
        "start_time": "2022-06-03T15:43:48.622Z"
      },
      {
        "duration": 33,
        "start_time": "2022-06-03T15:43:48.633Z"
      },
      {
        "duration": 4,
        "start_time": "2022-06-03T15:43:48.669Z"
      },
      {
        "duration": 17,
        "start_time": "2022-06-03T15:43:48.675Z"
      },
      {
        "duration": 8,
        "start_time": "2022-06-03T15:43:48.693Z"
      },
      {
        "duration": 12,
        "start_time": "2022-06-03T15:43:48.703Z"
      },
      {
        "duration": 56,
        "start_time": "2022-06-03T15:43:48.716Z"
      },
      {
        "duration": 5,
        "start_time": "2022-06-03T15:43:48.774Z"
      },
      {
        "duration": 17,
        "start_time": "2022-06-03T15:43:48.780Z"
      },
      {
        "duration": 4,
        "start_time": "2022-06-03T15:43:51.791Z"
      },
      {
        "duration": 7,
        "start_time": "2022-06-03T15:43:52.876Z"
      },
      {
        "duration": 12,
        "start_time": "2022-06-03T15:43:57.667Z"
      },
      {
        "duration": 15,
        "start_time": "2022-06-03T15:44:15.879Z"
      },
      {
        "duration": 461,
        "start_time": "2022-06-03T15:44:16.501Z"
      },
      {
        "duration": 6,
        "start_time": "2022-06-03T15:45:28.075Z"
      },
      {
        "duration": 4,
        "start_time": "2022-06-03T15:45:33.108Z"
      },
      {
        "duration": 5,
        "start_time": "2022-06-03T15:45:41.419Z"
      },
      {
        "duration": 462,
        "start_time": "2022-06-03T15:47:54.781Z"
      },
      {
        "duration": 471,
        "start_time": "2022-06-03T15:48:12.363Z"
      },
      {
        "duration": 12,
        "start_time": "2022-06-03T15:48:47.789Z"
      },
      {
        "duration": 14,
        "start_time": "2022-06-03T15:48:55.101Z"
      },
      {
        "duration": 7,
        "start_time": "2022-06-03T15:49:24.589Z"
      },
      {
        "duration": 28,
        "start_time": "2022-06-03T15:50:06.165Z"
      },
      {
        "duration": 15,
        "start_time": "2022-06-03T15:50:14.812Z"
      },
      {
        "duration": 10,
        "start_time": "2022-06-03T15:50:41.304Z"
      },
      {
        "duration": 5,
        "start_time": "2022-06-03T15:50:46.439Z"
      },
      {
        "duration": 15,
        "start_time": "2022-06-03T15:50:48.640Z"
      },
      {
        "duration": 12,
        "start_time": "2022-06-03T15:50:55.810Z"
      },
      {
        "duration": 14,
        "start_time": "2022-06-03T15:52:51.088Z"
      },
      {
        "duration": 4,
        "start_time": "2022-06-03T15:52:57.861Z"
      },
      {
        "duration": 5,
        "start_time": "2022-06-03T15:53:05.564Z"
      },
      {
        "duration": 5,
        "start_time": "2022-06-03T15:54:39.674Z"
      },
      {
        "duration": 1039,
        "start_time": "2022-06-03T15:54:40.454Z"
      },
      {
        "duration": 570,
        "start_time": "2022-06-03T15:56:26.687Z"
      },
      {
        "duration": 4,
        "start_time": "2022-06-03T15:56:27.260Z"
      },
      {
        "duration": 36,
        "start_time": "2022-06-03T15:56:27.266Z"
      },
      {
        "duration": 29,
        "start_time": "2022-06-03T15:56:27.305Z"
      },
      {
        "duration": 28,
        "start_time": "2022-06-03T15:56:27.336Z"
      },
      {
        "duration": 13,
        "start_time": "2022-06-03T15:56:27.366Z"
      },
      {
        "duration": 19,
        "start_time": "2022-06-03T15:56:27.382Z"
      },
      {
        "duration": 4,
        "start_time": "2022-06-03T15:56:27.402Z"
      },
      {
        "duration": 28,
        "start_time": "2022-06-03T15:56:27.407Z"
      },
      {
        "duration": 28,
        "start_time": "2022-06-03T15:56:27.438Z"
      },
      {
        "duration": 40,
        "start_time": "2022-06-03T15:56:27.467Z"
      },
      {
        "duration": 4,
        "start_time": "2022-06-03T15:56:27.509Z"
      },
      {
        "duration": 24,
        "start_time": "2022-06-03T15:56:27.515Z"
      },
      {
        "duration": 9,
        "start_time": "2022-06-03T15:56:27.541Z"
      },
      {
        "duration": 8,
        "start_time": "2022-06-03T15:56:27.558Z"
      },
      {
        "duration": 4,
        "start_time": "2022-06-03T15:56:27.568Z"
      },
      {
        "duration": 15,
        "start_time": "2022-06-03T15:56:27.574Z"
      },
      {
        "duration": 9,
        "start_time": "2022-06-03T15:56:27.591Z"
      },
      {
        "duration": 22,
        "start_time": "2022-06-03T15:56:27.601Z"
      },
      {
        "duration": 36,
        "start_time": "2022-06-03T15:56:27.625Z"
      },
      {
        "duration": 6,
        "start_time": "2022-06-03T15:56:27.663Z"
      },
      {
        "duration": 8,
        "start_time": "2022-06-03T15:56:27.670Z"
      },
      {
        "duration": 12,
        "start_time": "2022-06-03T15:56:27.679Z"
      },
      {
        "duration": 36,
        "start_time": "2022-06-03T15:56:27.693Z"
      },
      {
        "duration": 7,
        "start_time": "2022-06-03T15:56:27.731Z"
      },
      {
        "duration": 9,
        "start_time": "2022-06-03T15:56:27.759Z"
      },
      {
        "duration": 9,
        "start_time": "2022-06-03T15:56:27.770Z"
      },
      {
        "duration": 4,
        "start_time": "2022-06-03T15:56:27.784Z"
      },
      {
        "duration": 15,
        "start_time": "2022-06-03T15:56:27.790Z"
      },
      {
        "duration": 9,
        "start_time": "2022-06-03T15:56:27.807Z"
      },
      {
        "duration": 43,
        "start_time": "2022-06-03T15:56:27.817Z"
      },
      {
        "duration": 6,
        "start_time": "2022-06-03T15:56:27.861Z"
      },
      {
        "duration": 8,
        "start_time": "2022-06-03T15:56:27.868Z"
      },
      {
        "duration": 7,
        "start_time": "2022-06-03T15:56:27.877Z"
      },
      {
        "duration": 6,
        "start_time": "2022-06-03T15:56:27.885Z"
      },
      {
        "duration": 15,
        "start_time": "2022-06-03T15:56:27.893Z"
      },
      {
        "duration": 7,
        "start_time": "2022-06-03T15:56:27.910Z"
      },
      {
        "duration": 708,
        "start_time": "2022-06-03T15:56:27.919Z"
      },
      {
        "duration": 3089,
        "start_time": "2022-06-03T15:56:28.629Z"
      },
      {
        "duration": 6,
        "start_time": "2022-06-03T15:56:31.720Z"
      },
      {
        "duration": 21,
        "start_time": "2022-06-03T15:56:31.728Z"
      },
      {
        "duration": 5,
        "start_time": "2022-06-03T15:56:31.758Z"
      },
      {
        "duration": 29,
        "start_time": "2022-06-03T15:56:31.765Z"
      },
      {
        "duration": 3,
        "start_time": "2022-06-03T15:56:31.796Z"
      },
      {
        "duration": 21,
        "start_time": "2022-06-03T15:56:31.801Z"
      },
      {
        "duration": 9,
        "start_time": "2022-06-03T15:56:31.824Z"
      },
      {
        "duration": 47,
        "start_time": "2022-06-03T15:56:31.858Z"
      },
      {
        "duration": 21,
        "start_time": "2022-06-03T15:56:31.908Z"
      },
      {
        "duration": 15,
        "start_time": "2022-06-03T15:56:31.931Z"
      },
      {
        "duration": 14,
        "start_time": "2022-06-03T15:56:31.949Z"
      },
      {
        "duration": 19,
        "start_time": "2022-06-03T15:56:31.964Z"
      },
      {
        "duration": 9,
        "start_time": "2022-06-03T15:56:31.985Z"
      },
      {
        "duration": 27,
        "start_time": "2022-06-03T15:56:31.996Z"
      },
      {
        "duration": 23,
        "start_time": "2022-06-03T15:56:32.025Z"
      },
      {
        "duration": 10,
        "start_time": "2022-06-03T15:56:32.050Z"
      },
      {
        "duration": 28,
        "start_time": "2022-06-03T15:56:32.062Z"
      },
      {
        "duration": 48,
        "start_time": "2022-06-03T15:56:32.092Z"
      },
      {
        "duration": 14,
        "start_time": "2022-06-03T15:56:32.141Z"
      },
      {
        "duration": 140,
        "start_time": "2022-06-03T15:56:32.156Z"
      },
      {
        "duration": 0,
        "start_time": "2022-06-03T15:56:32.298Z"
      },
      {
        "duration": 0,
        "start_time": "2022-06-03T15:56:32.299Z"
      },
      {
        "duration": 0,
        "start_time": "2022-06-03T15:56:32.301Z"
      },
      {
        "duration": 0,
        "start_time": "2022-06-03T15:56:32.303Z"
      },
      {
        "duration": 0,
        "start_time": "2022-06-03T15:56:32.304Z"
      },
      {
        "duration": 0,
        "start_time": "2022-06-03T15:56:32.305Z"
      },
      {
        "duration": 0,
        "start_time": "2022-06-03T15:56:32.306Z"
      },
      {
        "duration": 0,
        "start_time": "2022-06-03T15:56:32.307Z"
      },
      {
        "duration": 0,
        "start_time": "2022-06-03T15:56:32.308Z"
      },
      {
        "duration": 0,
        "start_time": "2022-06-03T15:56:32.309Z"
      },
      {
        "duration": 557,
        "start_time": "2022-06-03T15:56:50.271Z"
      },
      {
        "duration": 4,
        "start_time": "2022-06-03T15:56:50.831Z"
      },
      {
        "duration": 29,
        "start_time": "2022-06-03T15:56:50.837Z"
      },
      {
        "duration": 15,
        "start_time": "2022-06-03T15:56:50.869Z"
      },
      {
        "duration": 7,
        "start_time": "2022-06-03T15:56:50.885Z"
      },
      {
        "duration": 12,
        "start_time": "2022-06-03T15:56:50.893Z"
      },
      {
        "duration": 15,
        "start_time": "2022-06-03T15:56:50.907Z"
      },
      {
        "duration": 3,
        "start_time": "2022-06-03T15:56:50.924Z"
      },
      {
        "duration": 45,
        "start_time": "2022-06-03T15:56:50.928Z"
      },
      {
        "duration": 9,
        "start_time": "2022-06-03T15:56:50.976Z"
      },
      {
        "duration": 45,
        "start_time": "2022-06-03T15:56:50.987Z"
      },
      {
        "duration": 5,
        "start_time": "2022-06-03T15:56:51.034Z"
      },
      {
        "duration": 9,
        "start_time": "2022-06-03T15:56:51.060Z"
      },
      {
        "duration": 8,
        "start_time": "2022-06-03T15:56:51.071Z"
      },
      {
        "duration": 8,
        "start_time": "2022-06-03T15:56:51.080Z"
      },
      {
        "duration": 9,
        "start_time": "2022-06-03T15:56:51.090Z"
      },
      {
        "duration": 11,
        "start_time": "2022-06-03T15:56:51.101Z"
      },
      {
        "duration": 11,
        "start_time": "2022-06-03T15:56:51.114Z"
      },
      {
        "duration": 46,
        "start_time": "2022-06-03T15:56:51.126Z"
      },
      {
        "duration": 8,
        "start_time": "2022-06-03T15:56:51.174Z"
      },
      {
        "duration": 5,
        "start_time": "2022-06-03T15:56:51.184Z"
      },
      {
        "duration": 6,
        "start_time": "2022-06-03T15:56:51.191Z"
      },
      {
        "duration": 6,
        "start_time": "2022-06-03T15:56:51.199Z"
      },
      {
        "duration": 67,
        "start_time": "2022-06-03T15:56:51.207Z"
      },
      {
        "duration": 8,
        "start_time": "2022-06-03T15:56:51.276Z"
      },
      {
        "duration": 11,
        "start_time": "2022-06-03T15:56:51.286Z"
      },
      {
        "duration": 9,
        "start_time": "2022-06-03T15:56:51.298Z"
      },
      {
        "duration": 3,
        "start_time": "2022-06-03T15:56:51.311Z"
      },
      {
        "duration": 50,
        "start_time": "2022-06-03T15:56:51.316Z"
      },
      {
        "duration": 11,
        "start_time": "2022-06-03T15:56:51.368Z"
      },
      {
        "duration": 8,
        "start_time": "2022-06-03T15:56:51.381Z"
      },
      {
        "duration": 6,
        "start_time": "2022-06-03T15:56:51.391Z"
      },
      {
        "duration": 5,
        "start_time": "2022-06-03T15:56:51.399Z"
      },
      {
        "duration": 9,
        "start_time": "2022-06-03T15:56:51.406Z"
      },
      {
        "duration": 10,
        "start_time": "2022-06-03T15:56:51.417Z"
      },
      {
        "duration": 42,
        "start_time": "2022-06-03T15:56:51.428Z"
      },
      {
        "duration": 10,
        "start_time": "2022-06-03T15:56:51.471Z"
      },
      {
        "duration": 620,
        "start_time": "2022-06-03T15:56:51.482Z"
      },
      {
        "duration": 2736,
        "start_time": "2022-06-03T15:56:52.103Z"
      },
      {
        "duration": 4,
        "start_time": "2022-06-03T15:56:54.841Z"
      },
      {
        "duration": 12,
        "start_time": "2022-06-03T15:56:54.847Z"
      },
      {
        "duration": 2,
        "start_time": "2022-06-03T15:56:54.861Z"
      },
      {
        "duration": 20,
        "start_time": "2022-06-03T15:56:54.864Z"
      },
      {
        "duration": 3,
        "start_time": "2022-06-03T15:56:54.885Z"
      },
      {
        "duration": 19,
        "start_time": "2022-06-03T15:56:54.889Z"
      },
      {
        "duration": 4,
        "start_time": "2022-06-03T15:56:54.909Z"
      },
      {
        "duration": 18,
        "start_time": "2022-06-03T15:56:54.914Z"
      },
      {
        "duration": 35,
        "start_time": "2022-06-03T15:56:54.933Z"
      },
      {
        "duration": 20,
        "start_time": "2022-06-03T15:56:54.970Z"
      },
      {
        "duration": 8,
        "start_time": "2022-06-03T15:56:54.992Z"
      },
      {
        "duration": 8,
        "start_time": "2022-06-03T15:56:55.002Z"
      },
      {
        "duration": 9,
        "start_time": "2022-06-03T15:56:55.012Z"
      },
      {
        "duration": 9,
        "start_time": "2022-06-03T15:56:55.023Z"
      },
      {
        "duration": 32,
        "start_time": "2022-06-03T15:56:55.033Z"
      },
      {
        "duration": 5,
        "start_time": "2022-06-03T15:56:55.066Z"
      },
      {
        "duration": 16,
        "start_time": "2022-06-03T15:56:55.072Z"
      },
      {
        "duration": 9,
        "start_time": "2022-06-03T15:56:55.089Z"
      },
      {
        "duration": 9,
        "start_time": "2022-06-03T15:56:55.099Z"
      },
      {
        "duration": 142,
        "start_time": "2022-06-03T15:56:55.109Z"
      },
      {
        "duration": 0,
        "start_time": "2022-06-03T15:56:55.253Z"
      },
      {
        "duration": 0,
        "start_time": "2022-06-03T15:56:55.258Z"
      },
      {
        "duration": 0,
        "start_time": "2022-06-03T15:56:55.260Z"
      },
      {
        "duration": 0,
        "start_time": "2022-06-03T15:56:55.261Z"
      },
      {
        "duration": 0,
        "start_time": "2022-06-03T15:56:55.262Z"
      },
      {
        "duration": 0,
        "start_time": "2022-06-03T15:56:55.263Z"
      },
      {
        "duration": 0,
        "start_time": "2022-06-03T15:56:55.264Z"
      },
      {
        "duration": 0,
        "start_time": "2022-06-03T15:56:55.265Z"
      },
      {
        "duration": 0,
        "start_time": "2022-06-03T15:56:55.266Z"
      },
      {
        "duration": 0,
        "start_time": "2022-06-03T15:56:55.267Z"
      },
      {
        "duration": 535,
        "start_time": "2022-06-03T15:57:15.397Z"
      },
      {
        "duration": 3,
        "start_time": "2022-06-03T15:57:15.934Z"
      },
      {
        "duration": 26,
        "start_time": "2022-06-03T15:57:15.939Z"
      },
      {
        "duration": 15,
        "start_time": "2022-06-03T15:57:15.967Z"
      },
      {
        "duration": 7,
        "start_time": "2022-06-03T15:57:15.984Z"
      },
      {
        "duration": 10,
        "start_time": "2022-06-03T15:57:15.993Z"
      },
      {
        "duration": 23,
        "start_time": "2022-06-03T15:57:16.005Z"
      },
      {
        "duration": 3,
        "start_time": "2022-06-03T15:57:16.029Z"
      },
      {
        "duration": 41,
        "start_time": "2022-06-03T15:57:16.033Z"
      },
      {
        "duration": 10,
        "start_time": "2022-06-03T15:57:16.077Z"
      },
      {
        "duration": 33,
        "start_time": "2022-06-03T15:57:16.088Z"
      },
      {
        "duration": 5,
        "start_time": "2022-06-03T15:57:16.123Z"
      },
      {
        "duration": 39,
        "start_time": "2022-06-03T15:57:16.129Z"
      },
      {
        "duration": 8,
        "start_time": "2022-06-03T15:57:16.170Z"
      },
      {
        "duration": 8,
        "start_time": "2022-06-03T15:57:16.180Z"
      },
      {
        "duration": 4,
        "start_time": "2022-06-03T15:57:16.189Z"
      },
      {
        "duration": 8,
        "start_time": "2022-06-03T15:57:16.195Z"
      },
      {
        "duration": 10,
        "start_time": "2022-06-03T15:57:16.204Z"
      },
      {
        "duration": 49,
        "start_time": "2022-06-03T15:57:16.215Z"
      },
      {
        "duration": 7,
        "start_time": "2022-06-03T15:57:16.266Z"
      },
      {
        "duration": 5,
        "start_time": "2022-06-03T15:57:16.275Z"
      },
      {
        "duration": 8,
        "start_time": "2022-06-03T15:57:16.281Z"
      },
      {
        "duration": 10,
        "start_time": "2022-06-03T15:57:16.290Z"
      },
      {
        "duration": 37,
        "start_time": "2022-06-03T15:57:16.301Z"
      },
      {
        "duration": 25,
        "start_time": "2022-06-03T15:57:16.339Z"
      },
      {
        "duration": 7,
        "start_time": "2022-06-03T15:57:16.366Z"
      },
      {
        "duration": 9,
        "start_time": "2022-06-03T15:57:16.375Z"
      },
      {
        "duration": 8,
        "start_time": "2022-06-03T15:57:16.388Z"
      },
      {
        "duration": 22,
        "start_time": "2022-06-03T15:57:16.397Z"
      },
      {
        "duration": 10,
        "start_time": "2022-06-03T15:57:16.421Z"
      },
      {
        "duration": 28,
        "start_time": "2022-06-03T15:57:16.432Z"
      },
      {
        "duration": 7,
        "start_time": "2022-06-03T15:57:16.462Z"
      },
      {
        "duration": 6,
        "start_time": "2022-06-03T15:57:16.471Z"
      },
      {
        "duration": 7,
        "start_time": "2022-06-03T15:57:16.478Z"
      },
      {
        "duration": 6,
        "start_time": "2022-06-03T15:57:16.486Z"
      },
      {
        "duration": 13,
        "start_time": "2022-06-03T15:57:16.494Z"
      },
      {
        "duration": 5,
        "start_time": "2022-06-03T15:57:16.509Z"
      },
      {
        "duration": 724,
        "start_time": "2022-06-03T15:57:16.515Z"
      },
      {
        "duration": 2660,
        "start_time": "2022-06-03T15:57:17.241Z"
      },
      {
        "duration": 5,
        "start_time": "2022-06-03T15:57:19.903Z"
      },
      {
        "duration": 6,
        "start_time": "2022-06-03T15:57:19.910Z"
      },
      {
        "duration": 4,
        "start_time": "2022-06-03T15:57:19.918Z"
      },
      {
        "duration": 36,
        "start_time": "2022-06-03T15:57:19.923Z"
      },
      {
        "duration": 2,
        "start_time": "2022-06-03T15:57:19.961Z"
      },
      {
        "duration": 16,
        "start_time": "2022-06-03T15:57:19.965Z"
      },
      {
        "duration": 4,
        "start_time": "2022-06-03T15:57:19.983Z"
      },
      {
        "duration": 19,
        "start_time": "2022-06-03T15:57:19.989Z"
      },
      {
        "duration": 11,
        "start_time": "2022-06-03T15:57:20.010Z"
      },
      {
        "duration": 42,
        "start_time": "2022-06-03T15:57:20.023Z"
      },
      {
        "duration": 8,
        "start_time": "2022-06-03T15:57:20.067Z"
      },
      {
        "duration": 8,
        "start_time": "2022-06-03T15:57:20.076Z"
      },
      {
        "duration": 4,
        "start_time": "2022-06-03T15:57:20.086Z"
      },
      {
        "duration": 7,
        "start_time": "2022-06-03T15:57:20.091Z"
      },
      {
        "duration": 15,
        "start_time": "2022-06-03T15:57:20.100Z"
      },
      {
        "duration": 5,
        "start_time": "2022-06-03T15:57:20.116Z"
      },
      {
        "duration": 49,
        "start_time": "2022-06-03T15:57:20.122Z"
      },
      {
        "duration": 9,
        "start_time": "2022-06-03T15:57:20.173Z"
      },
      {
        "duration": 9,
        "start_time": "2022-06-03T15:57:20.183Z"
      },
      {
        "duration": 2166,
        "start_time": "2022-06-03T15:57:20.193Z"
      },
      {
        "duration": 17,
        "start_time": "2022-06-03T15:57:22.361Z"
      },
      {
        "duration": 9,
        "start_time": "2022-06-03T15:57:22.379Z"
      },
      {
        "duration": 4,
        "start_time": "2022-06-03T15:57:22.389Z"
      },
      {
        "duration": 145,
        "start_time": "2022-06-03T15:57:22.394Z"
      },
      {
        "duration": 0,
        "start_time": "2022-06-03T15:57:22.541Z"
      },
      {
        "duration": 0,
        "start_time": "2022-06-03T15:57:22.542Z"
      },
      {
        "duration": 0,
        "start_time": "2022-06-03T15:57:22.544Z"
      },
      {
        "duration": 0,
        "start_time": "2022-06-03T15:57:22.545Z"
      },
      {
        "duration": 0,
        "start_time": "2022-06-03T15:57:22.546Z"
      },
      {
        "duration": 0,
        "start_time": "2022-06-03T15:57:22.547Z"
      },
      {
        "duration": 544,
        "start_time": "2022-06-03T15:57:53.475Z"
      },
      {
        "duration": 3,
        "start_time": "2022-06-03T15:57:54.021Z"
      },
      {
        "duration": 25,
        "start_time": "2022-06-03T15:57:54.026Z"
      },
      {
        "duration": 14,
        "start_time": "2022-06-03T15:57:54.053Z"
      },
      {
        "duration": 5,
        "start_time": "2022-06-03T15:57:54.069Z"
      },
      {
        "duration": 15,
        "start_time": "2022-06-03T15:57:54.076Z"
      },
      {
        "duration": 15,
        "start_time": "2022-06-03T15:57:54.092Z"
      },
      {
        "duration": 3,
        "start_time": "2022-06-03T15:57:54.108Z"
      },
      {
        "duration": 17,
        "start_time": "2022-06-03T15:57:54.112Z"
      },
      {
        "duration": 29,
        "start_time": "2022-06-03T15:57:54.132Z"
      },
      {
        "duration": 33,
        "start_time": "2022-06-03T15:57:54.162Z"
      },
      {
        "duration": 4,
        "start_time": "2022-06-03T15:57:54.196Z"
      },
      {
        "duration": 13,
        "start_time": "2022-06-03T15:57:54.202Z"
      },
      {
        "duration": 8,
        "start_time": "2022-06-03T15:57:54.217Z"
      },
      {
        "duration": 8,
        "start_time": "2022-06-03T15:57:54.226Z"
      },
      {
        "duration": 4,
        "start_time": "2022-06-03T15:57:54.259Z"
      },
      {
        "duration": 8,
        "start_time": "2022-06-03T15:57:54.264Z"
      },
      {
        "duration": 8,
        "start_time": "2022-06-03T15:57:54.274Z"
      },
      {
        "duration": 34,
        "start_time": "2022-06-03T15:57:54.283Z"
      },
      {
        "duration": 7,
        "start_time": "2022-06-03T15:57:54.318Z"
      },
      {
        "duration": 4,
        "start_time": "2022-06-03T15:57:54.327Z"
      },
      {
        "duration": 7,
        "start_time": "2022-06-03T15:57:54.333Z"
      },
      {
        "duration": 19,
        "start_time": "2022-06-03T15:57:54.341Z"
      },
      {
        "duration": 34,
        "start_time": "2022-06-03T15:57:54.361Z"
      },
      {
        "duration": 7,
        "start_time": "2022-06-03T15:57:54.396Z"
      },
      {
        "duration": 12,
        "start_time": "2022-06-03T15:57:54.405Z"
      },
      {
        "duration": 9,
        "start_time": "2022-06-03T15:57:54.418Z"
      },
      {
        "duration": 4,
        "start_time": "2022-06-03T15:57:54.459Z"
      },
      {
        "duration": 22,
        "start_time": "2022-06-03T15:57:54.464Z"
      },
      {
        "duration": 7,
        "start_time": "2022-06-03T15:57:54.488Z"
      },
      {
        "duration": 8,
        "start_time": "2022-06-03T15:57:54.497Z"
      },
      {
        "duration": 10,
        "start_time": "2022-06-03T15:57:54.507Z"
      },
      {
        "duration": 8,
        "start_time": "2022-06-03T15:57:54.519Z"
      },
      {
        "duration": 7,
        "start_time": "2022-06-03T15:57:54.528Z"
      },
      {
        "duration": 25,
        "start_time": "2022-06-03T15:57:54.536Z"
      },
      {
        "duration": 22,
        "start_time": "2022-06-03T15:57:54.563Z"
      },
      {
        "duration": 4,
        "start_time": "2022-06-03T15:57:54.587Z"
      },
      {
        "duration": 678,
        "start_time": "2022-06-03T15:57:54.593Z"
      },
      {
        "duration": 2795,
        "start_time": "2022-06-03T15:57:55.273Z"
      },
      {
        "duration": 6,
        "start_time": "2022-06-03T15:57:58.070Z"
      },
      {
        "duration": 6,
        "start_time": "2022-06-03T15:57:58.077Z"
      },
      {
        "duration": 8,
        "start_time": "2022-06-03T15:57:58.084Z"
      },
      {
        "duration": 21,
        "start_time": "2022-06-03T15:57:58.094Z"
      },
      {
        "duration": 2,
        "start_time": "2022-06-03T15:57:58.117Z"
      },
      {
        "duration": 38,
        "start_time": "2022-06-03T15:57:58.122Z"
      },
      {
        "duration": 4,
        "start_time": "2022-06-03T15:57:58.162Z"
      },
      {
        "duration": 17,
        "start_time": "2022-06-03T15:57:58.168Z"
      },
      {
        "duration": 10,
        "start_time": "2022-06-03T15:57:58.187Z"
      },
      {
        "duration": 9,
        "start_time": "2022-06-03T15:57:58.199Z"
      },
      {
        "duration": 9,
        "start_time": "2022-06-03T15:57:58.210Z"
      },
      {
        "duration": 44,
        "start_time": "2022-06-03T15:57:58.221Z"
      },
      {
        "duration": 3,
        "start_time": "2022-06-03T15:57:58.268Z"
      },
      {
        "duration": 8,
        "start_time": "2022-06-03T15:57:58.273Z"
      },
      {
        "duration": 13,
        "start_time": "2022-06-03T15:57:58.283Z"
      },
      {
        "duration": 6,
        "start_time": "2022-06-03T15:57:58.298Z"
      },
      {
        "duration": 13,
        "start_time": "2022-06-03T15:57:58.305Z"
      },
      {
        "duration": 42,
        "start_time": "2022-06-03T15:57:58.320Z"
      },
      {
        "duration": 6,
        "start_time": "2022-06-03T15:57:58.364Z"
      },
      {
        "duration": 2262,
        "start_time": "2022-06-03T15:57:58.372Z"
      },
      {
        "duration": 26,
        "start_time": "2022-06-03T15:58:00.636Z"
      },
      {
        "duration": 9,
        "start_time": "2022-06-03T15:58:00.663Z"
      },
      {
        "duration": 52,
        "start_time": "2022-06-03T15:58:00.674Z"
      },
      {
        "duration": 38,
        "start_time": "2022-06-03T15:58:00.727Z"
      },
      {
        "duration": 11,
        "start_time": "2022-06-03T15:58:00.767Z"
      },
      {
        "duration": 20,
        "start_time": "2022-06-03T15:58:00.779Z"
      },
      {
        "duration": 27,
        "start_time": "2022-06-03T15:58:00.801Z"
      },
      {
        "duration": 12,
        "start_time": "2022-06-03T15:58:00.831Z"
      },
      {
        "duration": 22,
        "start_time": "2022-06-03T15:58:00.845Z"
      },
      {
        "duration": 12,
        "start_time": "2022-06-03T15:58:00.869Z"
      },
      {
        "duration": 129,
        "start_time": "2022-06-03T16:03:12.848Z"
      },
      {
        "duration": 20,
        "start_time": "2022-06-03T16:03:21.189Z"
      },
      {
        "duration": 23,
        "start_time": "2022-06-03T16:03:40.832Z"
      },
      {
        "duration": 5,
        "start_time": "2022-06-03T16:07:06.757Z"
      },
      {
        "duration": 4,
        "start_time": "2022-06-03T16:07:17.414Z"
      },
      {
        "duration": 4,
        "start_time": "2022-06-03T16:07:25.089Z"
      },
      {
        "duration": 25,
        "start_time": "2022-06-03T16:07:47.976Z"
      },
      {
        "duration": 10,
        "start_time": "2022-06-03T16:09:58.918Z"
      },
      {
        "duration": 8,
        "start_time": "2022-06-03T16:10:08.122Z"
      },
      {
        "duration": 10,
        "start_time": "2022-06-03T16:10:17.047Z"
      },
      {
        "duration": 7,
        "start_time": "2022-06-03T16:10:23.503Z"
      },
      {
        "duration": 9,
        "start_time": "2022-06-03T16:11:19.151Z"
      },
      {
        "duration": 6,
        "start_time": "2022-06-03T16:11:26.951Z"
      },
      {
        "duration": 609,
        "start_time": "2022-06-03T16:11:46.763Z"
      },
      {
        "duration": 3,
        "start_time": "2022-06-03T16:11:47.374Z"
      },
      {
        "duration": 37,
        "start_time": "2022-06-03T16:11:47.379Z"
      },
      {
        "duration": 16,
        "start_time": "2022-06-03T16:11:47.418Z"
      },
      {
        "duration": 6,
        "start_time": "2022-06-03T16:11:47.435Z"
      },
      {
        "duration": 18,
        "start_time": "2022-06-03T16:11:47.443Z"
      },
      {
        "duration": 13,
        "start_time": "2022-06-03T16:11:47.463Z"
      },
      {
        "duration": 3,
        "start_time": "2022-06-03T16:11:47.478Z"
      },
      {
        "duration": 20,
        "start_time": "2022-06-03T16:11:47.482Z"
      },
      {
        "duration": 8,
        "start_time": "2022-06-03T16:11:47.506Z"
      },
      {
        "duration": 54,
        "start_time": "2022-06-03T16:11:47.516Z"
      },
      {
        "duration": 4,
        "start_time": "2022-06-03T16:11:47.572Z"
      },
      {
        "duration": 11,
        "start_time": "2022-06-03T16:11:47.578Z"
      },
      {
        "duration": 9,
        "start_time": "2022-06-03T16:11:47.590Z"
      },
      {
        "duration": 7,
        "start_time": "2022-06-03T16:11:47.601Z"
      },
      {
        "duration": 5,
        "start_time": "2022-06-03T16:11:47.610Z"
      },
      {
        "duration": 43,
        "start_time": "2022-06-03T16:11:47.616Z"
      },
      {
        "duration": 7,
        "start_time": "2022-06-03T16:11:47.661Z"
      },
      {
        "duration": 21,
        "start_time": "2022-06-03T16:11:47.670Z"
      },
      {
        "duration": 7,
        "start_time": "2022-06-03T16:11:47.692Z"
      },
      {
        "duration": 12,
        "start_time": "2022-06-03T16:11:47.701Z"
      },
      {
        "duration": 11,
        "start_time": "2022-06-03T16:11:47.714Z"
      },
      {
        "duration": 9,
        "start_time": "2022-06-03T16:11:47.726Z"
      },
      {
        "duration": 49,
        "start_time": "2022-06-03T16:11:47.737Z"
      },
      {
        "duration": 7,
        "start_time": "2022-06-03T16:11:47.788Z"
      },
      {
        "duration": 14,
        "start_time": "2022-06-03T16:11:47.796Z"
      },
      {
        "duration": 11,
        "start_time": "2022-06-03T16:11:47.812Z"
      },
      {
        "duration": 6,
        "start_time": "2022-06-03T16:11:47.827Z"
      },
      {
        "duration": 8,
        "start_time": "2022-06-03T16:11:47.866Z"
      },
      {
        "duration": 5,
        "start_time": "2022-06-03T16:11:47.876Z"
      },
      {
        "duration": 16,
        "start_time": "2022-06-03T16:11:47.882Z"
      },
      {
        "duration": 8,
        "start_time": "2022-06-03T16:11:47.899Z"
      },
      {
        "duration": 10,
        "start_time": "2022-06-03T16:11:47.909Z"
      },
      {
        "duration": 8,
        "start_time": "2022-06-03T16:11:47.921Z"
      },
      {
        "duration": 5,
        "start_time": "2022-06-03T16:11:47.930Z"
      },
      {
        "duration": 5,
        "start_time": "2022-06-03T16:11:47.959Z"
      },
      {
        "duration": 6,
        "start_time": "2022-06-03T16:11:47.965Z"
      },
      {
        "duration": 17,
        "start_time": "2022-06-03T16:11:47.973Z"
      },
      {
        "duration": 20,
        "start_time": "2022-06-03T16:11:47.992Z"
      },
      {
        "duration": 7,
        "start_time": "2022-06-03T16:11:48.013Z"
      },
      {
        "duration": 37,
        "start_time": "2022-06-03T16:11:48.022Z"
      },
      {
        "duration": 658,
        "start_time": "2022-06-03T16:11:48.060Z"
      },
      {
        "duration": 2660,
        "start_time": "2022-06-03T16:11:48.720Z"
      },
      {
        "duration": 5,
        "start_time": "2022-06-03T16:11:51.382Z"
      },
      {
        "duration": 8,
        "start_time": "2022-06-03T16:11:51.388Z"
      },
      {
        "duration": 5,
        "start_time": "2022-06-03T16:11:51.398Z"
      },
      {
        "duration": 20,
        "start_time": "2022-06-03T16:11:51.405Z"
      },
      {
        "duration": 2,
        "start_time": "2022-06-03T16:11:51.427Z"
      },
      {
        "duration": 37,
        "start_time": "2022-06-03T16:11:51.430Z"
      },
      {
        "duration": 4,
        "start_time": "2022-06-03T16:11:51.468Z"
      },
      {
        "duration": 16,
        "start_time": "2022-06-03T16:11:51.473Z"
      },
      {
        "duration": 10,
        "start_time": "2022-06-03T16:11:51.490Z"
      },
      {
        "duration": 8,
        "start_time": "2022-06-03T16:11:51.501Z"
      },
      {
        "duration": 9,
        "start_time": "2022-06-03T16:11:51.511Z"
      },
      {
        "duration": 40,
        "start_time": "2022-06-03T16:11:51.522Z"
      },
      {
        "duration": 3,
        "start_time": "2022-06-03T16:11:51.564Z"
      },
      {
        "duration": 9,
        "start_time": "2022-06-03T16:11:51.568Z"
      },
      {
        "duration": 18,
        "start_time": "2022-06-03T16:11:51.579Z"
      },
      {
        "duration": 5,
        "start_time": "2022-06-03T16:11:51.599Z"
      },
      {
        "duration": 12,
        "start_time": "2022-06-03T16:11:51.605Z"
      },
      {
        "duration": 8,
        "start_time": "2022-06-03T16:11:51.619Z"
      },
      {
        "duration": 35,
        "start_time": "2022-06-03T16:11:51.629Z"
      },
      {
        "duration": 2241,
        "start_time": "2022-06-03T16:11:51.665Z"
      },
      {
        "duration": 18,
        "start_time": "2022-06-03T16:11:53.907Z"
      },
      {
        "duration": 8,
        "start_time": "2022-06-03T16:11:53.927Z"
      },
      {
        "duration": 3,
        "start_time": "2022-06-03T16:11:53.937Z"
      },
      {
        "duration": 29,
        "start_time": "2022-06-03T16:11:53.941Z"
      },
      {
        "duration": 10,
        "start_time": "2022-06-03T16:11:53.971Z"
      },
      {
        "duration": 11,
        "start_time": "2022-06-03T16:11:53.983Z"
      },
      {
        "duration": 11,
        "start_time": "2022-06-03T16:11:53.996Z"
      },
      {
        "duration": 10,
        "start_time": "2022-06-03T16:11:54.009Z"
      },
      {
        "duration": 42,
        "start_time": "2022-06-03T16:11:54.021Z"
      },
      {
        "duration": 12,
        "start_time": "2022-06-03T16:11:54.064Z"
      },
      {
        "duration": 703,
        "start_time": "2022-06-03T16:38:47.597Z"
      },
      {
        "duration": 4,
        "start_time": "2022-06-03T16:38:48.303Z"
      },
      {
        "duration": 33,
        "start_time": "2022-06-03T16:38:48.309Z"
      },
      {
        "duration": 18,
        "start_time": "2022-06-03T16:38:48.344Z"
      },
      {
        "duration": 7,
        "start_time": "2022-06-03T16:38:48.365Z"
      },
      {
        "duration": 18,
        "start_time": "2022-06-03T16:38:48.374Z"
      },
      {
        "duration": 38,
        "start_time": "2022-06-03T16:38:48.396Z"
      },
      {
        "duration": 10,
        "start_time": "2022-06-03T16:38:48.435Z"
      },
      {
        "duration": 25,
        "start_time": "2022-06-03T16:38:48.447Z"
      },
      {
        "duration": 17,
        "start_time": "2022-06-03T16:38:48.474Z"
      },
      {
        "duration": 50,
        "start_time": "2022-06-03T16:38:48.492Z"
      },
      {
        "duration": 4,
        "start_time": "2022-06-03T16:38:48.544Z"
      },
      {
        "duration": 13,
        "start_time": "2022-06-03T16:38:48.549Z"
      },
      {
        "duration": 6,
        "start_time": "2022-06-03T16:38:48.566Z"
      },
      {
        "duration": 9,
        "start_time": "2022-06-03T16:38:48.573Z"
      },
      {
        "duration": 4,
        "start_time": "2022-06-03T16:38:48.584Z"
      },
      {
        "duration": 42,
        "start_time": "2022-06-03T16:38:48.590Z"
      },
      {
        "duration": 21,
        "start_time": "2022-06-03T16:38:48.633Z"
      },
      {
        "duration": 21,
        "start_time": "2022-06-03T16:38:48.655Z"
      },
      {
        "duration": 8,
        "start_time": "2022-06-03T16:38:48.677Z"
      },
      {
        "duration": 5,
        "start_time": "2022-06-03T16:38:48.686Z"
      },
      {
        "duration": 7,
        "start_time": "2022-06-03T16:38:48.693Z"
      },
      {
        "duration": 35,
        "start_time": "2022-06-03T16:38:48.702Z"
      },
      {
        "duration": 42,
        "start_time": "2022-06-03T16:38:48.739Z"
      },
      {
        "duration": 8,
        "start_time": "2022-06-03T16:38:48.783Z"
      },
      {
        "duration": 12,
        "start_time": "2022-06-03T16:38:48.793Z"
      },
      {
        "duration": 15,
        "start_time": "2022-06-03T16:38:48.824Z"
      },
      {
        "duration": 14,
        "start_time": "2022-06-03T16:38:48.841Z"
      },
      {
        "duration": 9,
        "start_time": "2022-06-03T16:38:48.857Z"
      },
      {
        "duration": 4,
        "start_time": "2022-06-03T16:38:48.868Z"
      },
      {
        "duration": 16,
        "start_time": "2022-06-03T16:38:48.874Z"
      },
      {
        "duration": 8,
        "start_time": "2022-06-03T16:38:48.891Z"
      },
      {
        "duration": 9,
        "start_time": "2022-06-03T16:38:48.931Z"
      },
      {
        "duration": 27,
        "start_time": "2022-06-03T16:38:48.942Z"
      },
      {
        "duration": 9,
        "start_time": "2022-06-03T16:38:48.972Z"
      },
      {
        "duration": 7,
        "start_time": "2022-06-03T16:38:48.983Z"
      },
      {
        "duration": 8,
        "start_time": "2022-06-03T16:38:48.992Z"
      },
      {
        "duration": 27,
        "start_time": "2022-06-03T16:38:49.002Z"
      },
      {
        "duration": 27,
        "start_time": "2022-06-03T16:38:49.031Z"
      },
      {
        "duration": 7,
        "start_time": "2022-06-03T16:38:49.060Z"
      },
      {
        "duration": 8,
        "start_time": "2022-06-03T16:38:49.072Z"
      },
      {
        "duration": 780,
        "start_time": "2022-06-03T16:38:49.081Z"
      },
      {
        "duration": 3040,
        "start_time": "2022-06-03T16:38:49.863Z"
      },
      {
        "duration": 7,
        "start_time": "2022-06-03T16:38:52.905Z"
      },
      {
        "duration": 43,
        "start_time": "2022-06-03T16:38:52.914Z"
      },
      {
        "duration": 15,
        "start_time": "2022-06-03T16:38:52.959Z"
      },
      {
        "duration": 37,
        "start_time": "2022-06-03T16:38:52.976Z"
      },
      {
        "duration": 3,
        "start_time": "2022-06-03T16:38:53.015Z"
      },
      {
        "duration": 32,
        "start_time": "2022-06-03T16:38:53.019Z"
      },
      {
        "duration": 7,
        "start_time": "2022-06-03T16:38:53.053Z"
      },
      {
        "duration": 17,
        "start_time": "2022-06-03T16:38:53.062Z"
      },
      {
        "duration": 9,
        "start_time": "2022-06-03T16:38:53.081Z"
      },
      {
        "duration": 9,
        "start_time": "2022-06-03T16:38:53.092Z"
      },
      {
        "duration": 31,
        "start_time": "2022-06-03T16:38:53.103Z"
      },
      {
        "duration": 22,
        "start_time": "2022-06-03T16:38:53.136Z"
      },
      {
        "duration": 4,
        "start_time": "2022-06-03T16:38:53.160Z"
      },
      {
        "duration": 9,
        "start_time": "2022-06-03T16:38:53.165Z"
      },
      {
        "duration": 22,
        "start_time": "2022-06-03T16:38:53.176Z"
      },
      {
        "duration": 4,
        "start_time": "2022-06-03T16:38:53.199Z"
      },
      {
        "duration": 33,
        "start_time": "2022-06-03T16:38:53.205Z"
      },
      {
        "duration": 9,
        "start_time": "2022-06-03T16:38:53.244Z"
      },
      {
        "duration": 12,
        "start_time": "2022-06-03T16:38:53.255Z"
      },
      {
        "duration": 2529,
        "start_time": "2022-06-03T16:38:53.269Z"
      },
      {
        "duration": 34,
        "start_time": "2022-06-03T16:38:55.800Z"
      },
      {
        "duration": 11,
        "start_time": "2022-06-03T16:38:55.840Z"
      },
      {
        "duration": 4,
        "start_time": "2022-06-03T16:38:55.852Z"
      },
      {
        "duration": 16,
        "start_time": "2022-06-03T16:38:55.858Z"
      },
      {
        "duration": 6,
        "start_time": "2022-06-03T16:38:55.876Z"
      },
      {
        "duration": 15,
        "start_time": "2022-06-03T16:38:55.884Z"
      },
      {
        "duration": 30,
        "start_time": "2022-06-03T16:38:55.900Z"
      },
      {
        "duration": 18,
        "start_time": "2022-06-03T16:38:55.933Z"
      },
      {
        "duration": 17,
        "start_time": "2022-06-03T16:38:55.953Z"
      },
      {
        "duration": 12,
        "start_time": "2022-06-03T16:38:55.972Z"
      },
      {
        "duration": 237,
        "start_time": "2022-06-03T16:44:31.125Z"
      },
      {
        "duration": 3,
        "start_time": "2022-06-03T16:44:31.946Z"
      },
      {
        "duration": 43,
        "start_time": "2022-06-03T16:44:31.952Z"
      },
      {
        "duration": 50,
        "start_time": "2022-06-03T16:44:31.997Z"
      },
      {
        "duration": 20,
        "start_time": "2022-06-03T16:44:32.218Z"
      },
      {
        "duration": 21,
        "start_time": "2022-06-03T16:44:32.242Z"
      },
      {
        "duration": 24,
        "start_time": "2022-06-03T16:44:32.265Z"
      },
      {
        "duration": 10,
        "start_time": "2022-06-03T16:44:33.031Z"
      },
      {
        "duration": 30,
        "start_time": "2022-06-03T16:44:33.043Z"
      },
      {
        "duration": 21,
        "start_time": "2022-06-03T16:44:33.076Z"
      },
      {
        "duration": 53,
        "start_time": "2022-06-03T16:44:33.099Z"
      },
      {
        "duration": 4,
        "start_time": "2022-06-03T16:44:33.154Z"
      },
      {
        "duration": 10,
        "start_time": "2022-06-03T16:44:33.346Z"
      },
      {
        "duration": 11,
        "start_time": "2022-06-03T16:44:33.358Z"
      },
      {
        "duration": 20,
        "start_time": "2022-06-03T16:44:33.371Z"
      },
      {
        "duration": 5,
        "start_time": "2022-06-03T16:44:33.394Z"
      },
      {
        "duration": 12,
        "start_time": "2022-06-03T16:44:33.402Z"
      },
      {
        "duration": 16,
        "start_time": "2022-06-03T16:44:33.416Z"
      },
      {
        "duration": 48,
        "start_time": "2022-06-03T16:44:33.433Z"
      },
      {
        "duration": 10,
        "start_time": "2022-06-03T16:44:33.483Z"
      },
      {
        "duration": 7,
        "start_time": "2022-06-03T16:44:33.644Z"
      },
      {
        "duration": 8,
        "start_time": "2022-06-03T16:44:33.653Z"
      },
      {
        "duration": 5,
        "start_time": "2022-06-03T16:44:33.663Z"
      },
      {
        "duration": 41,
        "start_time": "2022-06-03T16:44:33.670Z"
      },
      {
        "duration": 18,
        "start_time": "2022-06-03T16:44:33.714Z"
      },
      {
        "duration": 20,
        "start_time": "2022-06-03T16:44:33.733Z"
      },
      {
        "duration": 10,
        "start_time": "2022-06-03T16:44:33.755Z"
      },
      {
        "duration": 6,
        "start_time": "2022-06-03T16:44:33.767Z"
      },
      {
        "duration": 8,
        "start_time": "2022-06-03T16:44:33.775Z"
      },
      {
        "duration": 21,
        "start_time": "2022-06-03T16:44:33.785Z"
      },
      {
        "duration": 47,
        "start_time": "2022-06-03T16:44:33.808Z"
      },
      {
        "duration": 9,
        "start_time": "2022-06-03T16:44:43.284Z"
      },
      {
        "duration": 7,
        "start_time": "2022-06-03T16:45:08.765Z"
      },
      {
        "duration": 709,
        "start_time": "2022-06-03T17:18:11.712Z"
      },
      {
        "duration": 4,
        "start_time": "2022-06-03T17:18:12.428Z"
      },
      {
        "duration": 56,
        "start_time": "2022-06-03T17:18:12.435Z"
      },
      {
        "duration": 22,
        "start_time": "2022-06-03T17:18:12.493Z"
      },
      {
        "duration": 10,
        "start_time": "2022-06-03T17:18:12.517Z"
      },
      {
        "duration": 17,
        "start_time": "2022-06-03T17:18:14.363Z"
      },
      {
        "duration": 12,
        "start_time": "2022-06-03T17:18:14.383Z"
      },
      {
        "duration": 6,
        "start_time": "2022-06-03T17:18:14.396Z"
      },
      {
        "duration": 47,
        "start_time": "2022-06-03T17:18:14.404Z"
      },
      {
        "duration": 34,
        "start_time": "2022-06-03T17:18:14.453Z"
      },
      {
        "duration": 49,
        "start_time": "2022-06-03T17:18:14.489Z"
      },
      {
        "duration": 4,
        "start_time": "2022-06-03T17:18:14.607Z"
      },
      {
        "duration": 16,
        "start_time": "2022-06-03T17:18:14.613Z"
      },
      {
        "duration": 39,
        "start_time": "2022-06-03T17:18:14.634Z"
      },
      {
        "duration": 10,
        "start_time": "2022-06-03T17:18:14.675Z"
      },
      {
        "duration": 5,
        "start_time": "2022-06-03T17:18:14.687Z"
      },
      {
        "duration": 10,
        "start_time": "2022-06-03T17:18:14.693Z"
      },
      {
        "duration": 7,
        "start_time": "2022-06-03T17:18:14.705Z"
      },
      {
        "duration": 26,
        "start_time": "2022-06-03T17:18:14.714Z"
      },
      {
        "duration": 16,
        "start_time": "2022-06-03T17:18:15.642Z"
      },
      {
        "duration": 23,
        "start_time": "2022-06-03T17:18:15.659Z"
      },
      {
        "duration": 7,
        "start_time": "2022-06-03T17:18:15.683Z"
      },
      {
        "duration": 4,
        "start_time": "2022-06-03T17:18:15.991Z"
      },
      {
        "duration": 40,
        "start_time": "2022-06-03T17:18:15.997Z"
      },
      {
        "duration": 13,
        "start_time": "2022-06-03T17:18:16.038Z"
      },
      {
        "duration": 10,
        "start_time": "2022-06-03T17:18:17.072Z"
      },
      {
        "duration": 10,
        "start_time": "2022-06-03T17:18:17.084Z"
      },
      {
        "duration": 7,
        "start_time": "2022-06-03T17:18:17.096Z"
      },
      {
        "duration": 8,
        "start_time": "2022-06-03T17:18:17.105Z"
      },
      {
        "duration": 6,
        "start_time": "2022-06-03T17:18:17.114Z"
      },
      {
        "duration": 49,
        "start_time": "2022-06-03T17:18:17.122Z"
      },
      {
        "duration": 11,
        "start_time": "2022-06-03T17:18:17.903Z"
      },
      {
        "duration": 12,
        "start_time": "2022-06-03T17:18:17.916Z"
      },
      {
        "duration": 47,
        "start_time": "2022-06-03T17:18:17.933Z"
      },
      {
        "duration": 6,
        "start_time": "2022-06-03T17:18:18.264Z"
      },
      {
        "duration": 12,
        "start_time": "2022-06-03T17:18:18.272Z"
      },
      {
        "duration": 10,
        "start_time": "2022-06-03T17:18:18.286Z"
      },
      {
        "duration": 21,
        "start_time": "2022-06-03T17:18:18.298Z"
      },
      {
        "duration": 44,
        "start_time": "2022-06-03T17:18:18.321Z"
      },
      {
        "duration": 8,
        "start_time": "2022-06-03T17:18:18.373Z"
      },
      {
        "duration": 5,
        "start_time": "2022-06-03T17:18:18.493Z"
      },
      {
        "duration": 751,
        "start_time": "2022-06-03T17:18:18.500Z"
      },
      {
        "duration": 3574,
        "start_time": "2022-06-03T17:18:19.253Z"
      },
      {
        "duration": 6,
        "start_time": "2022-06-03T17:18:22.829Z"
      },
      {
        "duration": 69,
        "start_time": "2022-06-03T17:18:22.837Z"
      },
      {
        "duration": 7,
        "start_time": "2022-06-03T17:18:22.908Z"
      },
      {
        "duration": 77,
        "start_time": "2022-06-03T17:18:22.917Z"
      },
      {
        "duration": 3,
        "start_time": "2022-06-03T17:18:22.997Z"
      },
      {
        "duration": 34,
        "start_time": "2022-06-03T17:18:23.003Z"
      },
      {
        "duration": 34,
        "start_time": "2022-06-03T17:18:23.039Z"
      },
      {
        "duration": 42,
        "start_time": "2022-06-03T17:18:23.076Z"
      },
      {
        "duration": 41,
        "start_time": "2022-06-03T17:18:23.120Z"
      },
      {
        "duration": 36,
        "start_time": "2022-06-03T17:18:23.163Z"
      },
      {
        "duration": 12,
        "start_time": "2022-06-03T17:18:23.201Z"
      },
      {
        "duration": 27,
        "start_time": "2022-06-03T17:18:23.215Z"
      },
      {
        "duration": 53,
        "start_time": "2022-06-03T17:18:23.243Z"
      },
      {
        "duration": 16,
        "start_time": "2022-06-03T17:18:23.299Z"
      },
      {
        "duration": 36,
        "start_time": "2022-06-03T17:18:23.317Z"
      },
      {
        "duration": 36,
        "start_time": "2022-06-03T17:18:23.355Z"
      },
      {
        "duration": 16,
        "start_time": "2022-06-03T17:18:23.393Z"
      },
      {
        "duration": 8,
        "start_time": "2022-06-03T17:18:23.411Z"
      },
      {
        "duration": 60,
        "start_time": "2022-06-03T17:18:23.420Z"
      },
      {
        "duration": 2983,
        "start_time": "2022-06-03T17:18:23.482Z"
      },
      {
        "duration": 20,
        "start_time": "2022-06-03T17:18:26.469Z"
      },
      {
        "duration": 9,
        "start_time": "2022-06-03T17:18:26.490Z"
      },
      {
        "duration": 3,
        "start_time": "2022-06-03T17:18:26.500Z"
      },
      {
        "duration": 30,
        "start_time": "2022-06-03T17:18:26.505Z"
      },
      {
        "duration": 37,
        "start_time": "2022-06-03T17:18:26.537Z"
      },
      {
        "duration": 13,
        "start_time": "2022-06-03T17:18:26.576Z"
      },
      {
        "duration": 9,
        "start_time": "2022-06-03T17:18:26.590Z"
      },
      {
        "duration": 10,
        "start_time": "2022-06-03T17:18:26.601Z"
      },
      {
        "duration": 8,
        "start_time": "2022-06-03T17:18:26.612Z"
      },
      {
        "duration": 29,
        "start_time": "2022-06-03T17:18:26.622Z"
      },
      {
        "duration": 10,
        "start_time": "2022-06-04T06:53:48.919Z"
      },
      {
        "duration": 549,
        "start_time": "2022-06-04T06:54:44.676Z"
      },
      {
        "duration": 5,
        "start_time": "2022-06-04T06:54:45.227Z"
      },
      {
        "duration": 32,
        "start_time": "2022-06-04T06:54:45.234Z"
      },
      {
        "duration": 19,
        "start_time": "2022-06-04T06:54:45.268Z"
      },
      {
        "duration": 7,
        "start_time": "2022-06-04T06:54:45.289Z"
      },
      {
        "duration": 16,
        "start_time": "2022-06-04T06:54:45.298Z"
      },
      {
        "duration": 36,
        "start_time": "2022-06-04T06:54:45.316Z"
      },
      {
        "duration": 4,
        "start_time": "2022-06-04T06:54:45.354Z"
      },
      {
        "duration": 25,
        "start_time": "2022-06-04T06:54:45.360Z"
      },
      {
        "duration": 11,
        "start_time": "2022-06-04T06:54:45.389Z"
      },
      {
        "duration": 53,
        "start_time": "2022-06-04T06:54:45.402Z"
      },
      {
        "duration": 5,
        "start_time": "2022-06-04T06:54:45.456Z"
      },
      {
        "duration": 11,
        "start_time": "2022-06-04T06:54:45.463Z"
      },
      {
        "duration": 6,
        "start_time": "2022-06-04T06:54:45.475Z"
      },
      {
        "duration": 7,
        "start_time": "2022-06-04T06:54:45.483Z"
      },
      {
        "duration": 5,
        "start_time": "2022-06-04T06:54:45.492Z"
      },
      {
        "duration": 8,
        "start_time": "2022-06-04T06:54:45.498Z"
      },
      {
        "duration": 48,
        "start_time": "2022-06-04T06:54:45.508Z"
      },
      {
        "duration": 21,
        "start_time": "2022-06-04T06:54:45.558Z"
      },
      {
        "duration": 11,
        "start_time": "2022-06-04T06:54:45.581Z"
      },
      {
        "duration": 5,
        "start_time": "2022-06-04T06:54:45.593Z"
      },
      {
        "duration": 7,
        "start_time": "2022-06-04T06:54:45.599Z"
      },
      {
        "duration": 5,
        "start_time": "2022-06-04T06:54:45.607Z"
      },
      {
        "duration": 67,
        "start_time": "2022-06-04T06:54:45.614Z"
      },
      {
        "duration": 7,
        "start_time": "2022-06-04T06:54:45.682Z"
      },
      {
        "duration": 9,
        "start_time": "2022-06-04T06:54:45.691Z"
      },
      {
        "duration": 8,
        "start_time": "2022-06-04T06:54:45.702Z"
      },
      {
        "duration": 7,
        "start_time": "2022-06-04T06:54:45.714Z"
      },
      {
        "duration": 34,
        "start_time": "2022-06-04T06:54:45.722Z"
      },
      {
        "duration": 4,
        "start_time": "2022-06-04T06:54:45.758Z"
      },
      {
        "duration": 15,
        "start_time": "2022-06-04T06:54:45.763Z"
      },
      {
        "duration": 5,
        "start_time": "2022-06-04T06:54:45.779Z"
      },
      {
        "duration": 8,
        "start_time": "2022-06-04T06:54:45.786Z"
      },
      {
        "duration": 11,
        "start_time": "2022-06-04T06:54:45.795Z"
      },
      {
        "duration": 5,
        "start_time": "2022-06-04T06:54:45.807Z"
      },
      {
        "duration": 5,
        "start_time": "2022-06-04T06:54:45.814Z"
      },
      {
        "duration": 34,
        "start_time": "2022-06-04T06:54:45.820Z"
      },
      {
        "duration": 20,
        "start_time": "2022-06-04T06:54:45.856Z"
      },
      {
        "duration": 19,
        "start_time": "2022-06-04T06:54:45.877Z"
      },
      {
        "duration": 6,
        "start_time": "2022-06-04T06:54:45.897Z"
      },
      {
        "duration": 10,
        "start_time": "2022-06-04T06:54:45.911Z"
      },
      {
        "duration": 672,
        "start_time": "2022-06-04T06:54:45.922Z"
      },
      {
        "duration": 2518,
        "start_time": "2022-06-04T06:54:46.595Z"
      },
      {
        "duration": 6,
        "start_time": "2022-06-04T06:54:49.115Z"
      },
      {
        "duration": 10,
        "start_time": "2022-06-04T06:54:49.123Z"
      },
      {
        "duration": 5,
        "start_time": "2022-06-04T06:54:49.134Z"
      },
      {
        "duration": 38,
        "start_time": "2022-06-04T06:54:49.141Z"
      },
      {
        "duration": 2,
        "start_time": "2022-06-04T06:54:49.180Z"
      },
      {
        "duration": 15,
        "start_time": "2022-06-04T06:54:49.184Z"
      },
      {
        "duration": 10,
        "start_time": "2022-06-04T06:54:49.200Z"
      },
      {
        "duration": 15,
        "start_time": "2022-06-04T06:54:49.211Z"
      },
      {
        "duration": 8,
        "start_time": "2022-06-04T06:54:49.228Z"
      },
      {
        "duration": 19,
        "start_time": "2022-06-04T06:54:49.238Z"
      },
      {
        "duration": 8,
        "start_time": "2022-06-04T06:54:49.258Z"
      },
      {
        "duration": 30,
        "start_time": "2022-06-04T06:54:49.267Z"
      },
      {
        "duration": 5,
        "start_time": "2022-06-04T06:54:49.299Z"
      },
      {
        "duration": 9,
        "start_time": "2022-06-04T06:54:49.305Z"
      },
      {
        "duration": 14,
        "start_time": "2022-06-04T06:54:49.315Z"
      },
      {
        "duration": 4,
        "start_time": "2022-06-04T06:54:49.330Z"
      },
      {
        "duration": 17,
        "start_time": "2022-06-04T06:54:49.335Z"
      },
      {
        "duration": 8,
        "start_time": "2022-06-04T06:54:49.353Z"
      },
      {
        "duration": 9,
        "start_time": "2022-06-04T06:54:49.363Z"
      },
      {
        "duration": 2186,
        "start_time": "2022-06-04T06:54:49.373Z"
      },
      {
        "duration": 17,
        "start_time": "2022-06-04T06:54:51.560Z"
      },
      {
        "duration": 8,
        "start_time": "2022-06-04T06:54:51.579Z"
      },
      {
        "duration": 3,
        "start_time": "2022-06-04T06:54:51.588Z"
      },
      {
        "duration": 21,
        "start_time": "2022-06-04T06:54:51.592Z"
      },
      {
        "duration": 5,
        "start_time": "2022-06-04T06:54:51.615Z"
      },
      {
        "duration": 33,
        "start_time": "2022-06-04T06:54:51.622Z"
      },
      {
        "duration": 9,
        "start_time": "2022-06-04T06:54:51.657Z"
      },
      {
        "duration": 17,
        "start_time": "2022-06-04T06:54:51.668Z"
      },
      {
        "duration": 9,
        "start_time": "2022-06-04T06:54:51.687Z"
      },
      {
        "duration": 9,
        "start_time": "2022-06-04T06:54:51.697Z"
      },
      {
        "duration": 146,
        "start_time": "2022-06-04T07:00:08.844Z"
      },
      {
        "duration": 3,
        "start_time": "2022-06-04T07:00:08.992Z"
      },
      {
        "duration": 20,
        "start_time": "2022-06-04T07:00:08.997Z"
      },
      {
        "duration": 40,
        "start_time": "2022-06-04T07:00:09.018Z"
      },
      {
        "duration": 12,
        "start_time": "2022-06-04T07:00:09.060Z"
      },
      {
        "duration": 19,
        "start_time": "2022-06-04T07:00:09.074Z"
      },
      {
        "duration": 18,
        "start_time": "2022-06-04T07:00:09.095Z"
      },
      {
        "duration": 6,
        "start_time": "2022-06-04T07:00:09.115Z"
      },
      {
        "duration": 43,
        "start_time": "2022-06-04T07:00:09.122Z"
      },
      {
        "duration": 9,
        "start_time": "2022-06-04T07:00:09.169Z"
      },
      {
        "duration": 43,
        "start_time": "2022-06-04T07:00:09.180Z"
      },
      {
        "duration": 4,
        "start_time": "2022-06-04T07:00:09.225Z"
      },
      {
        "duration": 10,
        "start_time": "2022-06-04T07:00:09.251Z"
      },
      {
        "duration": 16,
        "start_time": "2022-06-04T07:00:09.262Z"
      },
      {
        "duration": 7,
        "start_time": "2022-06-04T07:00:09.280Z"
      },
      {
        "duration": 4,
        "start_time": "2022-06-04T07:00:09.289Z"
      },
      {
        "duration": 17,
        "start_time": "2022-06-04T07:00:09.294Z"
      },
      {
        "duration": 12,
        "start_time": "2022-06-04T07:00:09.313Z"
      },
      {
        "duration": 25,
        "start_time": "2022-06-04T07:00:09.327Z"
      },
      {
        "duration": 8,
        "start_time": "2022-06-04T07:00:09.354Z"
      },
      {
        "duration": 7,
        "start_time": "2022-06-04T07:00:09.363Z"
      },
      {
        "duration": 8,
        "start_time": "2022-06-04T07:00:09.371Z"
      },
      {
        "duration": 7,
        "start_time": "2022-06-04T07:00:09.381Z"
      },
      {
        "duration": 36,
        "start_time": "2022-06-04T07:00:09.389Z"
      },
      {
        "duration": 27,
        "start_time": "2022-06-04T07:00:09.426Z"
      },
      {
        "duration": 9,
        "start_time": "2022-06-04T07:00:09.454Z"
      },
      {
        "duration": 11,
        "start_time": "2022-06-04T07:00:09.465Z"
      },
      {
        "duration": 8,
        "start_time": "2022-06-04T07:00:09.479Z"
      },
      {
        "duration": 9,
        "start_time": "2022-06-04T07:00:09.489Z"
      },
      {
        "duration": 6,
        "start_time": "2022-06-04T07:00:09.500Z"
      },
      {
        "duration": 47,
        "start_time": "2022-06-04T07:00:09.508Z"
      },
      {
        "duration": 5,
        "start_time": "2022-06-04T07:00:09.556Z"
      },
      {
        "duration": 7,
        "start_time": "2022-06-04T07:00:09.563Z"
      },
      {
        "duration": 129,
        "start_time": "2022-06-04T07:00:09.572Z"
      },
      {
        "duration": 0,
        "start_time": "2022-06-04T07:00:09.702Z"
      },
      {
        "duration": 0,
        "start_time": "2022-06-04T07:00:09.704Z"
      },
      {
        "duration": 0,
        "start_time": "2022-06-04T07:00:09.705Z"
      },
      {
        "duration": 0,
        "start_time": "2022-06-04T07:00:09.706Z"
      },
      {
        "duration": 0,
        "start_time": "2022-06-04T07:00:09.707Z"
      },
      {
        "duration": 0,
        "start_time": "2022-06-04T07:00:09.708Z"
      },
      {
        "duration": 0,
        "start_time": "2022-06-04T07:00:09.709Z"
      },
      {
        "duration": 0,
        "start_time": "2022-06-04T07:00:09.710Z"
      },
      {
        "duration": 0,
        "start_time": "2022-06-04T07:00:09.712Z"
      },
      {
        "duration": 0,
        "start_time": "2022-06-04T07:00:09.712Z"
      },
      {
        "duration": 0,
        "start_time": "2022-06-04T07:00:09.713Z"
      },
      {
        "duration": 0,
        "start_time": "2022-06-04T07:00:09.714Z"
      },
      {
        "duration": 0,
        "start_time": "2022-06-04T07:00:09.715Z"
      },
      {
        "duration": 0,
        "start_time": "2022-06-04T07:00:09.717Z"
      },
      {
        "duration": 0,
        "start_time": "2022-06-04T07:00:09.717Z"
      },
      {
        "duration": 0,
        "start_time": "2022-06-04T07:00:09.718Z"
      },
      {
        "duration": 0,
        "start_time": "2022-06-04T07:00:09.719Z"
      },
      {
        "duration": 0,
        "start_time": "2022-06-04T07:00:09.720Z"
      },
      {
        "duration": 0,
        "start_time": "2022-06-04T07:00:09.721Z"
      },
      {
        "duration": 0,
        "start_time": "2022-06-04T07:00:09.751Z"
      },
      {
        "duration": 0,
        "start_time": "2022-06-04T07:00:09.753Z"
      },
      {
        "duration": 0,
        "start_time": "2022-06-04T07:00:09.754Z"
      },
      {
        "duration": 0,
        "start_time": "2022-06-04T07:00:09.755Z"
      },
      {
        "duration": 0,
        "start_time": "2022-06-04T07:00:09.756Z"
      },
      {
        "duration": 0,
        "start_time": "2022-06-04T07:00:09.757Z"
      },
      {
        "duration": 0,
        "start_time": "2022-06-04T07:00:09.759Z"
      },
      {
        "duration": 0,
        "start_time": "2022-06-04T07:00:09.760Z"
      },
      {
        "duration": 0,
        "start_time": "2022-06-04T07:00:09.762Z"
      },
      {
        "duration": 0,
        "start_time": "2022-06-04T07:00:09.763Z"
      },
      {
        "duration": 0,
        "start_time": "2022-06-04T07:00:09.763Z"
      },
      {
        "duration": 0,
        "start_time": "2022-06-04T07:00:09.765Z"
      },
      {
        "duration": 0,
        "start_time": "2022-06-04T07:00:09.766Z"
      },
      {
        "duration": 0,
        "start_time": "2022-06-04T07:00:09.767Z"
      },
      {
        "duration": 0,
        "start_time": "2022-06-04T07:00:09.768Z"
      },
      {
        "duration": 0,
        "start_time": "2022-06-04T07:00:09.768Z"
      },
      {
        "duration": 0,
        "start_time": "2022-06-04T07:00:09.770Z"
      },
      {
        "duration": 0,
        "start_time": "2022-06-04T07:00:09.771Z"
      },
      {
        "duration": 0,
        "start_time": "2022-06-04T07:00:09.772Z"
      },
      {
        "duration": 0,
        "start_time": "2022-06-04T07:00:09.773Z"
      },
      {
        "duration": 553,
        "start_time": "2022-06-04T07:03:10.975Z"
      },
      {
        "duration": 3,
        "start_time": "2022-06-04T07:03:11.530Z"
      },
      {
        "duration": 23,
        "start_time": "2022-06-04T07:03:11.535Z"
      },
      {
        "duration": 16,
        "start_time": "2022-06-04T07:03:11.560Z"
      },
      {
        "duration": 6,
        "start_time": "2022-06-04T07:03:11.579Z"
      },
      {
        "duration": 15,
        "start_time": "2022-06-04T07:03:11.586Z"
      },
      {
        "duration": 12,
        "start_time": "2022-06-04T07:03:11.603Z"
      },
      {
        "duration": 12,
        "start_time": "2022-06-04T07:03:11.616Z"
      },
      {
        "duration": 37,
        "start_time": "2022-06-04T07:03:11.629Z"
      },
      {
        "duration": 10,
        "start_time": "2022-06-04T07:03:11.667Z"
      },
      {
        "duration": 39,
        "start_time": "2022-06-04T07:03:11.679Z"
      },
      {
        "duration": 4,
        "start_time": "2022-06-04T07:03:11.720Z"
      },
      {
        "duration": 35,
        "start_time": "2022-06-04T07:03:11.725Z"
      },
      {
        "duration": 7,
        "start_time": "2022-06-04T07:03:11.763Z"
      },
      {
        "duration": 8,
        "start_time": "2022-06-04T07:03:11.771Z"
      },
      {
        "duration": 5,
        "start_time": "2022-06-04T07:03:11.781Z"
      },
      {
        "duration": 34,
        "start_time": "2022-06-04T07:03:11.788Z"
      },
      {
        "duration": 13,
        "start_time": "2022-06-04T07:03:11.823Z"
      },
      {
        "duration": 30,
        "start_time": "2022-06-04T07:03:11.837Z"
      },
      {
        "duration": 9,
        "start_time": "2022-06-04T07:03:11.868Z"
      },
      {
        "duration": 7,
        "start_time": "2022-06-04T07:03:11.878Z"
      },
      {
        "duration": 9,
        "start_time": "2022-06-04T07:03:11.888Z"
      },
      {
        "duration": 13,
        "start_time": "2022-06-04T07:03:11.899Z"
      },
      {
        "duration": 54,
        "start_time": "2022-06-04T07:03:11.914Z"
      },
      {
        "duration": 8,
        "start_time": "2022-06-04T07:03:11.970Z"
      },
      {
        "duration": 13,
        "start_time": "2022-06-04T07:03:11.979Z"
      },
      {
        "duration": 8,
        "start_time": "2022-06-04T07:03:11.993Z"
      },
      {
        "duration": 13,
        "start_time": "2022-06-04T07:03:12.003Z"
      },
      {
        "duration": 7,
        "start_time": "2022-06-04T07:03:12.018Z"
      },
      {
        "duration": 20,
        "start_time": "2022-06-04T07:03:12.026Z"
      },
      {
        "duration": 32,
        "start_time": "2022-06-04T07:03:12.047Z"
      },
      {
        "duration": 14,
        "start_time": "2022-06-04T07:03:12.081Z"
      },
      {
        "duration": 12,
        "start_time": "2022-06-04T07:03:12.096Z"
      },
      {
        "duration": 12,
        "start_time": "2022-06-04T07:03:12.109Z"
      },
      {
        "duration": 5,
        "start_time": "2022-06-04T07:03:12.123Z"
      },
      {
        "duration": 17,
        "start_time": "2022-06-04T07:03:12.130Z"
      },
      {
        "duration": 23,
        "start_time": "2022-06-04T07:03:12.149Z"
      },
      {
        "duration": 22,
        "start_time": "2022-06-04T07:03:12.174Z"
      },
      {
        "duration": 29,
        "start_time": "2022-06-04T07:03:12.197Z"
      },
      {
        "duration": 5,
        "start_time": "2022-06-04T07:03:12.228Z"
      },
      {
        "duration": 9,
        "start_time": "2022-06-04T07:03:12.238Z"
      },
      {
        "duration": 660,
        "start_time": "2022-06-04T07:03:12.248Z"
      },
      {
        "duration": 2953,
        "start_time": "2022-06-04T07:03:12.909Z"
      },
      {
        "duration": 5,
        "start_time": "2022-06-04T07:03:15.863Z"
      },
      {
        "duration": 8,
        "start_time": "2022-06-04T07:03:15.870Z"
      },
      {
        "duration": 11,
        "start_time": "2022-06-04T07:03:15.879Z"
      },
      {
        "duration": 20,
        "start_time": "2022-06-04T07:03:15.892Z"
      },
      {
        "duration": 2,
        "start_time": "2022-06-04T07:03:15.914Z"
      },
      {
        "duration": 35,
        "start_time": "2022-06-04T07:03:15.918Z"
      },
      {
        "duration": 5,
        "start_time": "2022-06-04T07:03:15.955Z"
      },
      {
        "duration": 19,
        "start_time": "2022-06-04T07:03:15.961Z"
      },
      {
        "duration": 9,
        "start_time": "2022-06-04T07:03:15.982Z"
      },
      {
        "duration": 10,
        "start_time": "2022-06-04T07:03:15.993Z"
      },
      {
        "duration": 10,
        "start_time": "2022-06-04T07:03:16.004Z"
      },
      {
        "duration": 37,
        "start_time": "2022-06-04T07:03:16.016Z"
      },
      {
        "duration": 3,
        "start_time": "2022-06-04T07:03:16.055Z"
      },
      {
        "duration": 7,
        "start_time": "2022-06-04T07:03:16.059Z"
      },
      {
        "duration": 16,
        "start_time": "2022-06-04T07:03:16.067Z"
      },
      {
        "duration": 5,
        "start_time": "2022-06-04T07:03:16.084Z"
      },
      {
        "duration": 13,
        "start_time": "2022-06-04T07:03:16.091Z"
      },
      {
        "duration": 10,
        "start_time": "2022-06-04T07:03:16.105Z"
      },
      {
        "duration": 40,
        "start_time": "2022-06-04T07:03:16.117Z"
      },
      {
        "duration": 2300,
        "start_time": "2022-06-04T07:03:16.159Z"
      },
      {
        "duration": 17,
        "start_time": "2022-06-04T07:03:18.461Z"
      },
      {
        "duration": 7,
        "start_time": "2022-06-04T07:03:18.480Z"
      },
      {
        "duration": 4,
        "start_time": "2022-06-04T07:03:18.488Z"
      },
      {
        "duration": 13,
        "start_time": "2022-06-04T07:03:18.493Z"
      },
      {
        "duration": 7,
        "start_time": "2022-06-04T07:03:18.507Z"
      },
      {
        "duration": 37,
        "start_time": "2022-06-04T07:03:18.515Z"
      },
      {
        "duration": 9,
        "start_time": "2022-06-04T07:03:18.554Z"
      },
      {
        "duration": 10,
        "start_time": "2022-06-04T07:03:18.564Z"
      },
      {
        "duration": 10,
        "start_time": "2022-06-04T07:03:18.576Z"
      },
      {
        "duration": 11,
        "start_time": "2022-06-04T07:03:18.588Z"
      },
      {
        "duration": 4,
        "start_time": "2022-06-04T07:12:14.095Z"
      },
      {
        "duration": 369,
        "start_time": "2022-06-04T07:12:14.913Z"
      },
      {
        "duration": 6,
        "start_time": "2022-06-04T07:12:16.292Z"
      },
      {
        "duration": 7,
        "start_time": "2022-06-04T07:12:43.853Z"
      },
      {
        "duration": 5,
        "start_time": "2022-06-04T07:12:44.652Z"
      },
      {
        "duration": 148,
        "start_time": "2022-06-04T07:27:47.325Z"
      },
      {
        "duration": 3,
        "start_time": "2022-06-04T07:27:47.475Z"
      },
      {
        "duration": 19,
        "start_time": "2022-06-04T07:27:47.479Z"
      },
      {
        "duration": 17,
        "start_time": "2022-06-04T07:27:47.500Z"
      },
      {
        "duration": 10,
        "start_time": "2022-06-04T07:27:47.518Z"
      },
      {
        "duration": 9,
        "start_time": "2022-06-04T07:27:47.529Z"
      },
      {
        "duration": 15,
        "start_time": "2022-06-04T07:27:47.540Z"
      },
      {
        "duration": 3,
        "start_time": "2022-06-04T07:27:47.556Z"
      },
      {
        "duration": 19,
        "start_time": "2022-06-04T07:27:47.560Z"
      },
      {
        "duration": 9,
        "start_time": "2022-06-04T07:27:47.581Z"
      },
      {
        "duration": 34,
        "start_time": "2022-06-04T07:27:47.591Z"
      },
      {
        "duration": 25,
        "start_time": "2022-06-04T07:27:47.627Z"
      },
      {
        "duration": 10,
        "start_time": "2022-06-04T07:27:47.653Z"
      },
      {
        "duration": 10,
        "start_time": "2022-06-04T07:27:47.664Z"
      },
      {
        "duration": 14,
        "start_time": "2022-06-04T07:27:47.676Z"
      },
      {
        "duration": 3,
        "start_time": "2022-06-04T07:27:47.692Z"
      },
      {
        "duration": 10,
        "start_time": "2022-06-04T07:27:47.697Z"
      },
      {
        "duration": 7,
        "start_time": "2022-06-04T07:27:47.708Z"
      },
      {
        "duration": 39,
        "start_time": "2022-06-04T07:27:47.717Z"
      },
      {
        "duration": 7,
        "start_time": "2022-06-04T07:27:47.758Z"
      },
      {
        "duration": 5,
        "start_time": "2022-06-04T07:27:47.767Z"
      },
      {
        "duration": 12,
        "start_time": "2022-06-04T07:27:47.773Z"
      },
      {
        "duration": 7,
        "start_time": "2022-06-04T07:27:47.786Z"
      },
      {
        "duration": 35,
        "start_time": "2022-06-04T07:27:47.794Z"
      },
      {
        "duration": 26,
        "start_time": "2022-06-04T07:27:47.831Z"
      },
      {
        "duration": 10,
        "start_time": "2022-06-04T07:27:47.859Z"
      },
      {
        "duration": 10,
        "start_time": "2022-06-04T07:27:47.870Z"
      },
      {
        "duration": 6,
        "start_time": "2022-06-04T07:27:47.882Z"
      },
      {
        "duration": 5,
        "start_time": "2022-06-04T07:27:47.890Z"
      },
      {
        "duration": 4,
        "start_time": "2022-06-04T07:27:51.488Z"
      },
      {
        "duration": 266,
        "start_time": "2022-06-04T07:27:52.846Z"
      },
      {
        "duration": 5,
        "start_time": "2022-06-04T07:27:53.513Z"
      },
      {
        "duration": 6,
        "start_time": "2022-06-04T07:27:58.850Z"
      },
      {
        "duration": 4,
        "start_time": "2022-06-04T07:28:09.184Z"
      },
      {
        "duration": 6,
        "start_time": "2022-06-04T07:28:13.148Z"
      },
      {
        "duration": 5,
        "start_time": "2022-06-04T07:28:13.759Z"
      }
    ],
    "colab": {
      "provenance": []
    },
    "kernelspec": {
      "display_name": "Python 3 (ipykernel)",
      "language": "python",
      "name": "python3"
    },
    "language_info": {
      "codemirror_mode": {
        "name": "ipython",
        "version": 3
      },
      "file_extension": ".py",
      "mimetype": "text/x-python",
      "name": "python",
      "nbconvert_exporter": "python",
      "pygments_lexer": "ipython3",
      "version": "3.9.5"
    },
    "toc": {
      "base_numbering": 1,
      "nav_menu": {},
      "number_sections": true,
      "sideBar": true,
      "skip_h1_title": true,
      "title_cell": "Table of Contents",
      "title_sidebar": "Contents",
      "toc_cell": false,
      "toc_position": {},
      "toc_section_display": true,
      "toc_window_display": false
    }
  },
  "nbformat": 4,
  "nbformat_minor": 0
}