{
  "cells": [
    {
      "cell_type": "markdown",
      "metadata": {
        "id": "D2OI8lN_BRYk"
      },
      "source": [
        "# **Projecto 6. Recopilación y almacenamiento de datos. Chicago Taxis.**\n",
        "\n",
        "En este proyecto se contínua con el análisis de los datos de los viajes en Taxi en el área de Chicago que se estudió en la plataforma. Se llevará acabo un análisis exploratorio de datos para los primeros dos datasets a continuación, los cuales también mostraremos más a detalle en la sección correspondiente:\n",
        "\n",
        "* **`chicago_trips`:** Este primer dataset contiene 2 columnas: `company_name`: nombre de la empresa de taxis y `trips_amount`: el número de viajes de cada compañía de taxis el 15 y 16 de noviembre de 2017. \n",
        "\n",
        "* **`chicago_dropoffs`:** Contiene dos columnas también: `dropoff_location_name`: barrios de Chicago donde finalizaron los viajes, y  `average_trips`: el promedio de viajes que terminaron en cada barrio en noviembre de 2017.\n",
        "\n",
        "Hasta aquí llevaremos a cabo:\n",
        "1. importar los archivos\n",
        "2. estudiar los datos que contienen\n",
        "3. convertir a los tipos de datos sean correctos\n",
        "4. identificar los 10 principales barrios en términos de finalización del recorrido\n",
        "5. Crear gráficos para las empresas de taxis y su número de viajes, los 10 barrios principales por número de finalizaciones (dropoffs)\n",
        "6. Y sacar conclusiones basadas en cada gráfico y explicar los resultados\n",
        "\n",
        "Posteriormente con el resultado de la consulta anterior o tercer dataset, llevaremos a cabo una prueba de hipótesis que explicaremos más a detalle en la sección correspondiente.\n",
        "\n",
        "* **`loop_to_ord`:** Contiene datos sobre viajes desde el Loop hasta el Aeropuerto Internacional O'Hare (ORD). Contiene 3 columnas: `start_ts`: fecha y hora de la recogida, `weather_conditions`: condiciones climáticas en el momento en el que comenzó el viaje, y`duration_seconds`: duración del viaje en segundos."
      ]
    },
    {
      "cell_type": "markdown",
      "metadata": {
        "id": "-auOr-sdGbSJ"
      },
      "source": [
        "# Paso 4. Análisis Exploratorio de Datos"
      ]
    },
    {
      "cell_type": "markdown",
      "metadata": {
        "id": "NwpsJhTrG-uB"
      },
      "source": [
        "## Importación de datos"
      ]
    },
    {
      "cell_type": "code",
      "execution_count": null,
      "metadata": {
        "id": "7j6N4tk4CP7s"
      },
      "outputs": [],
      "source": [
        "import pandas   as pd\n",
        "from scipy import stats as st\n",
        "import numpy as np\n",
        "import math\n",
        "import matplotlib.pyplot as plt\n",
        "import seaborn as sns"
      ]
    },
    {
      "cell_type": "code",
      "execution_count": null,
      "metadata": {
        "id": "d7dNcTOCBL9A"
      },
      "outputs": [],
      "source": [
        "chicago_trips = pd.read_csv('https://code.s3.yandex.net/learning-materials/data-analyst-eng/project_sql_result_01.csv')\n",
        "chicago_dropoffs = pd.read_csv('https://code.s3.yandex.net/learning-materials/data-analyst-eng/project_sql_result_04.csv')\n",
        "loop_to_ord = pd.read_csv('https://code.s3.yandex.net/learning-materials/data-analyst-eng/project_sql_result_07.csv')"
      ]
    },
    {
      "cell_type": "markdown",
      "metadata": {
        "id": "QaxPF0upG2hJ"
      },
      "source": [
        "## 1. Chicago Trips"
      ]
    },
    {
      "cell_type": "code",
      "execution_count": null,
      "metadata": {
        "colab": {
          "base_uri": "https://localhost:8080/"
        },
        "id": "L0lKYJYsHI_t",
        "outputId": "be32db16-2960-4403-b8a0-7d8f51fc6e5e"
      },
      "outputs": [
        {
          "name": "stdout",
          "output_type": "stream",
          "text": [
            "<class 'pandas.core.frame.DataFrame'>\n",
            "RangeIndex: 64 entries, 0 to 63\n",
            "Data columns (total 2 columns):\n",
            " #   Column        Non-Null Count  Dtype \n",
            "---  ------        --------------  ----- \n",
            " 0   company_name  64 non-null     object\n",
            " 1   trips_amount  64 non-null     int64 \n",
            "dtypes: int64(1), object(1)\n",
            "memory usage: 1.1+ KB\n"
          ]
        }
      ],
      "source": [
        "chicago_trips.info() # Aquí podemos ver que los tipos de datos están correctos para cada columna y no hace falta cambiarlos, tampoco tenemos datos faltantes."
      ]
    },
    {
      "cell_type": "code",
      "execution_count": null,
      "metadata": {
        "colab": {
          "base_uri": "https://localhost:8080/",
          "height": 405
        },
        "id": "zy4aMt56HqQs",
        "outputId": "538d64de-6847-4718-ffd0-d2b50b74adc2"
      },
      "outputs": [
        {
          "data": {
            "text/plain": [
              "<AxesSubplot:xlabel='company_name', ylabel='trips_amount'>"
            ]
          },
          "execution_count": 47,
          "metadata": {},
          "output_type": "execute_result"
        },
        {
          "data": {
            "image/png": "[encoded data removed]",
            "text/plain": [
              "<Figure size 1080x432 with 1 Axes>"
            ]
          },
          "metadata": {
            "needs_background": "light"
          },
          "output_type": "display_data"
        }
      ],
      "source": [
        "chicago_top_trips = chicago_trips.sort_values(by='trips_amount', ascending=False).head(10)\n",
        "fig, ax = plt.subplots(figsize=(15, 6))\n",
        "sns.barplot(data=chicago_top_trips, x=\"company_name\", y=\"trips_amount\")"
      ]
    },
    {
      "cell_type": "code",
      "execution_count": null,
      "metadata": {
        "colab": {
          "base_uri": "https://localhost:8080/",
          "height": 363
        },
        "id": "a1Xz59wOOybR",
        "outputId": "7958554e-a0b1-474f-ab6a-303190e746ef"
      },
      "outputs": [
        {
          "data": {
            "text/html": [
              "<div>\n",
              "<style scoped>\n",
              "    .dataframe tbody tr th:only-of-type {\n",
              "        vertical-align: middle;\n",
              "    }\n",
              "\n",
              "    .dataframe tbody tr th {\n",
              "        vertical-align: top;\n",
              "    }\n",
              "\n",
              "    .dataframe thead th {\n",
              "        text-align: right;\n",
              "    }\n",
              "</style>\n",
              "<table border=\"1\" class=\"dataframe\">\n",
              "  <thead>\n",
              "    <tr style=\"text-align: right;\">\n",
              "      <th></th>\n",
              "      <th>company_name</th>\n",
              "      <th>trips_amount</th>\n",
              "    </tr>\n",
              "  </thead>\n",
              "  <tbody>\n",
              "    <tr>\n",
              "      <th>0</th>\n",
              "      <td>Flash Cab</td>\n",
              "      <td>19558</td>\n",
              "    </tr>\n",
              "    <tr>\n",
              "      <th>1</th>\n",
              "      <td>Taxi Affiliation Services</td>\n",
              "      <td>11422</td>\n",
              "    </tr>\n",
              "    <tr>\n",
              "      <th>2</th>\n",
              "      <td>Medallion Leasin</td>\n",
              "      <td>10367</td>\n",
              "    </tr>\n",
              "    <tr>\n",
              "      <th>3</th>\n",
              "      <td>Yellow Cab</td>\n",
              "      <td>9888</td>\n",
              "    </tr>\n",
              "    <tr>\n",
              "      <th>4</th>\n",
              "      <td>Taxi Affiliation Service Yellow</td>\n",
              "      <td>9299</td>\n",
              "    </tr>\n",
              "    <tr>\n",
              "      <th>5</th>\n",
              "      <td>Chicago Carriage Cab Corp</td>\n",
              "      <td>9181</td>\n",
              "    </tr>\n",
              "    <tr>\n",
              "      <th>6</th>\n",
              "      <td>City Service</td>\n",
              "      <td>8448</td>\n",
              "    </tr>\n",
              "    <tr>\n",
              "      <th>7</th>\n",
              "      <td>Sun Taxi</td>\n",
              "      <td>7701</td>\n",
              "    </tr>\n",
              "    <tr>\n",
              "      <th>8</th>\n",
              "      <td>Star North Management LLC</td>\n",
              "      <td>7455</td>\n",
              "    </tr>\n",
              "    <tr>\n",
              "      <th>9</th>\n",
              "      <td>Blue Ribbon Taxi Association Inc.</td>\n",
              "      <td>5953</td>\n",
              "    </tr>\n",
              "  </tbody>\n",
              "</table>\n",
              "</div>"
            ],
            "text/plain": [
              "                        company_name  trips_amount\n",
              "0                          Flash Cab         19558\n",
              "1          Taxi Affiliation Services         11422\n",
              "2                   Medallion Leasin         10367\n",
              "3                         Yellow Cab          9888\n",
              "4    Taxi Affiliation Service Yellow          9299\n",
              "5          Chicago Carriage Cab Corp          9181\n",
              "6                       City Service          8448\n",
              "7                           Sun Taxi          7701\n",
              "8          Star North Management LLC          7455\n",
              "9  Blue Ribbon Taxi Association Inc.          5953"
            ]
          },
          "execution_count": 48,
          "metadata": {},
          "output_type": "execute_result"
        }
      ],
      "source": [
        "chicago_top_trips.head(10)"
      ]
    },
    {
      "cell_type": "markdown",
      "metadata": {
        "id": "X89rmktcOoeX"
      },
      "source": [
        "Encontramos las 10 empresas de taxis más populares en Chicago de acuerdo con el número de viajes realizados. Con esta gráfica podemos observar que Flash Cab es la empresa con mayor número de viajes en el área de Chicago, superando por mucho a las demás empresas con **19558** viajes, eso es 58% más que la segunda empresa más popular (Taxi Affiliation Services), y representa el 14% del total de viajes en la ciudad."
      ]
    },
    {
      "cell_type": "markdown",
      "metadata": {
        "id": "KzqYf6kNRA2B"
      },
      "source": [
        "## 2. Chicago Dropoffs"
      ]
    },
    {
      "cell_type": "code",
      "execution_count": null,
      "metadata": {
        "colab": {
          "base_uri": "https://localhost:8080/"
        },
        "id": "T-f_-4eSMY5A",
        "outputId": "763c0e64-de63-4876-9915-f6a74d7d63b1"
      },
      "outputs": [
        {
          "name": "stdout",
          "output_type": "stream",
          "text": [
            "<class 'pandas.core.frame.DataFrame'>\n",
            "RangeIndex: 94 entries, 0 to 93\n",
            "Data columns (total 2 columns):\n",
            " #   Column                 Non-Null Count  Dtype  \n",
            "---  ------                 --------------  -----  \n",
            " 0   dropoff_location_name  94 non-null     object \n",
            " 1   average_trips          94 non-null     float64\n",
            "dtypes: float64(1), object(1)\n",
            "memory usage: 1.6+ KB\n"
          ]
        }
      ],
      "source": [
        "chicago_dropoffs.info()\n",
        "chicago_dropoffs['average_trips'] = chicago_dropoffs['average_trips'].apply(np.int64) # Aquí también los datos están completos y del tipo correcto."
      ]
    },
    {
      "cell_type": "code",
      "execution_count": null,
      "metadata": {
        "colab": {
          "base_uri": "https://localhost:8080/",
          "height": 363
        },
        "id": "xD4RPbaERIGA",
        "outputId": "a4fafd26-853a-4e72-b6d3-d2b0430d4d5d"
      },
      "outputs": [
        {
          "data": {
            "text/html": [
              "<div>\n",
              "<style scoped>\n",
              "    .dataframe tbody tr th:only-of-type {\n",
              "        vertical-align: middle;\n",
              "    }\n",
              "\n",
              "    .dataframe tbody tr th {\n",
              "        vertical-align: top;\n",
              "    }\n",
              "\n",
              "    .dataframe thead th {\n",
              "        text-align: right;\n",
              "    }\n",
              "</style>\n",
              "<table border=\"1\" class=\"dataframe\">\n",
              "  <thead>\n",
              "    <tr style=\"text-align: right;\">\n",
              "      <th></th>\n",
              "      <th>dropoff_location_name</th>\n",
              "      <th>average_trips</th>\n",
              "    </tr>\n",
              "  </thead>\n",
              "  <tbody>\n",
              "    <tr>\n",
              "      <th>0</th>\n",
              "      <td>Loop</td>\n",
              "      <td>10727</td>\n",
              "    </tr>\n",
              "    <tr>\n",
              "      <th>1</th>\n",
              "      <td>River North</td>\n",
              "      <td>9523</td>\n",
              "    </tr>\n",
              "    <tr>\n",
              "      <th>2</th>\n",
              "      <td>Streeterville</td>\n",
              "      <td>6664</td>\n",
              "    </tr>\n",
              "    <tr>\n",
              "      <th>3</th>\n",
              "      <td>West Loop</td>\n",
              "      <td>5163</td>\n",
              "    </tr>\n",
              "    <tr>\n",
              "      <th>4</th>\n",
              "      <td>O'Hare</td>\n",
              "      <td>2546</td>\n",
              "    </tr>\n",
              "    <tr>\n",
              "      <th>5</th>\n",
              "      <td>Lake View</td>\n",
              "      <td>2420</td>\n",
              "    </tr>\n",
              "    <tr>\n",
              "      <th>6</th>\n",
              "      <td>Grant Park</td>\n",
              "      <td>2068</td>\n",
              "    </tr>\n",
              "    <tr>\n",
              "      <th>7</th>\n",
              "      <td>Museum Campus</td>\n",
              "      <td>1510</td>\n",
              "    </tr>\n",
              "    <tr>\n",
              "      <th>8</th>\n",
              "      <td>Gold Coast</td>\n",
              "      <td>1364</td>\n",
              "    </tr>\n",
              "    <tr>\n",
              "      <th>9</th>\n",
              "      <td>Sheffield &amp; DePaul</td>\n",
              "      <td>1259</td>\n",
              "    </tr>\n",
              "  </tbody>\n",
              "</table>\n",
              "</div>"
            ],
            "text/plain": [
              "  dropoff_location_name  average_trips\n",
              "0                  Loop          10727\n",
              "1           River North           9523\n",
              "2         Streeterville           6664\n",
              "3             West Loop           5163\n",
              "4                O'Hare           2546\n",
              "5             Lake View           2420\n",
              "6            Grant Park           2068\n",
              "7         Museum Campus           1510\n",
              "8            Gold Coast           1364\n",
              "9    Sheffield & DePaul           1259"
            ]
          },
          "execution_count": 50,
          "metadata": {},
          "output_type": "execute_result"
        }
      ],
      "source": [
        "chicago_top_dropoffs = chicago_dropoffs.sort_values(by='average_trips', ascending=False).head(10)\n",
        "chicago_top_dropoffs"
      ]
    },
    {
      "cell_type": "code",
      "execution_count": null,
      "metadata": {
        "colab": {
          "base_uri": "https://localhost:8080/",
          "height": 406
        },
        "id": "6PkFtdUgRg_8",
        "outputId": "0615c6e4-b554-426b-9185-34afecf43c1a"
      },
      "outputs": [
        {
          "data": {
            "text/plain": [
              "<AxesSubplot:xlabel='dropoff_location_name', ylabel='average_trips'>"
            ]
          },
          "execution_count": 51,
          "metadata": {},
          "output_type": "execute_result"
        },
        {
          "data": {
            "image/png": "[encoded data removed]",
            "text/plain": [
              "<Figure size 1080x432 with 1 Axes>"
            ]
          },
          "metadata": {
            "needs_background": "light"
          },
          "output_type": "display_data"
        }
      ],
      "source": [
        "fig, ax = plt.subplots(figsize=(15, 6))\n",
        "sns.barplot(data=chicago_top_dropoffs, x=\"dropoff_location_name\", y=\"average_trips\")"
      ]
    },
    {
      "cell_type": "markdown",
      "metadata": {
        "id": "gpt7iQT_SMP_"
      },
      "source": [
        "Ahora en esta sección encontramos las 10 locaciones destino más populares de acuerdo con el número promedio de viajes que se realizan de algún otro punto de la ciudad a la locación. Podemos ver que Loop, River North, Streeterville y West Loop son las 4 más destacadas de las 94 locaciones recopiladas. Loop como destino de viajes en taxi cuenta con **10727** de ellos, lo que representa el 24% del total de viajes que finalizan allí."
      ]
    },
    {
      "cell_type": "markdown",
      "metadata": {
        "id": "b7MhKvNoVR7Z"
      },
      "source": [
        "# Paso 5. Prueba de Hipótesis"
      ]
    },
    {
      "cell_type": "markdown",
      "metadata": {
        "id": "iHvcs4ylWWkA"
      },
      "source": [
        "Es entendible que Loop sea la zona con mayor cantidad de dropoffs en Chicago ya que esta zona es la más popular o el 'downtown' de la ciudad. Ahora vamos a realizar una prueba de hipótesis para verificar si la duración promedio de los viajes cambia de acuerdo con el estado del tiempo."
      ]
    },
    {
      "cell_type": "markdown",
      "metadata": {
        "id": "TEKANP6qVhW2"
      },
      "source": [
        "## 3. Loop to O'Hare Airport (ORD)"
      ]
    },
    {
      "cell_type": "code",
      "execution_count": null,
      "metadata": {
        "colab": {
          "base_uri": "https://localhost:8080/"
        },
        "id": "IYVJuJfkUNJ-",
        "outputId": "b5355113-5089-459e-daae-0e275557946e"
      },
      "outputs": [
        {
          "name": "stdout",
          "output_type": "stream",
          "text": [
            "<class 'pandas.core.frame.DataFrame'>\n",
            "RangeIndex: 1068 entries, 0 to 1067\n",
            "Data columns (total 3 columns):\n",
            " #   Column              Non-Null Count  Dtype         \n",
            "---  ------              --------------  -----         \n",
            " 0   start_ts            1068 non-null   datetime64[ns]\n",
            " 1   weather_conditions  1068 non-null   object        \n",
            " 2   duration_seconds    1068 non-null   float64       \n",
            "dtypes: datetime64[ns](1), float64(1), object(1)\n",
            "memory usage: 25.2+ KB\n"
          ]
        }
      ],
      "source": [
        "loop_to_ord['start_ts'] = pd.to_datetime(loop_to_ord['start_ts'], format='%Y.%m.%d %H:%M:%S')\n",
        "# Aquí convertimos `start_ts` a datetime, estaba almacenado como string.\n",
        "loop_to_ord.info()"
      ]
    },
    {
      "cell_type": "code",
      "execution_count": null,
      "metadata": {
        "colab": {
          "base_uri": "https://localhost:8080/",
          "height": 206
        },
        "id": "g7WvSO-oVvxv",
        "outputId": "5e336be5-1d7a-4a10-a006-6f0c17837a25"
      },
      "outputs": [
        {
          "data": {
            "text/html": [
              "<div>\n",
              "<style scoped>\n",
              "    .dataframe tbody tr th:only-of-type {\n",
              "        vertical-align: middle;\n",
              "    }\n",
              "\n",
              "    .dataframe tbody tr th {\n",
              "        vertical-align: top;\n",
              "    }\n",
              "\n",
              "    .dataframe thead th {\n",
              "        text-align: right;\n",
              "    }\n",
              "</style>\n",
              "<table border=\"1\" class=\"dataframe\">\n",
              "  <thead>\n",
              "    <tr style=\"text-align: right;\">\n",
              "      <th></th>\n",
              "      <th>start_ts</th>\n",
              "      <th>weather_conditions</th>\n",
              "      <th>duration_seconds</th>\n",
              "    </tr>\n",
              "  </thead>\n",
              "  <tbody>\n",
              "    <tr>\n",
              "      <th>0</th>\n",
              "      <td>2017-11-25 16:00:00</td>\n",
              "      <td>Good</td>\n",
              "      <td>2410.0</td>\n",
              "    </tr>\n",
              "    <tr>\n",
              "      <th>1</th>\n",
              "      <td>2017-11-25 14:00:00</td>\n",
              "      <td>Good</td>\n",
              "      <td>1920.0</td>\n",
              "    </tr>\n",
              "    <tr>\n",
              "      <th>2</th>\n",
              "      <td>2017-11-25 12:00:00</td>\n",
              "      <td>Good</td>\n",
              "      <td>1543.0</td>\n",
              "    </tr>\n",
              "    <tr>\n",
              "      <th>3</th>\n",
              "      <td>2017-11-04 10:00:00</td>\n",
              "      <td>Good</td>\n",
              "      <td>2512.0</td>\n",
              "    </tr>\n",
              "    <tr>\n",
              "      <th>4</th>\n",
              "      <td>2017-11-11 07:00:00</td>\n",
              "      <td>Good</td>\n",
              "      <td>1440.0</td>\n",
              "    </tr>\n",
              "  </tbody>\n",
              "</table>\n",
              "</div>"
            ],
            "text/plain": [
              "             start_ts weather_conditions  duration_seconds\n",
              "0 2017-11-25 16:00:00               Good            2410.0\n",
              "1 2017-11-25 14:00:00               Good            1920.0\n",
              "2 2017-11-25 12:00:00               Good            1543.0\n",
              "3 2017-11-04 10:00:00               Good            2512.0\n",
              "4 2017-11-11 07:00:00               Good            1440.0"
            ]
          },
          "execution_count": 53,
          "metadata": {},
          "output_type": "execute_result"
        }
      ],
      "source": [
        "loop_to_ord.head()"
      ]
    },
    {
      "cell_type": "code",
      "execution_count": null,
      "metadata": {
        "colab": {
          "base_uri": "https://localhost:8080/"
        },
        "id": "6E9xtDORYCgP",
        "outputId": "5898199e-8760-42fc-9f15-23d1d8fad831"
      },
      "outputs": [
        {
          "data": {
            "text/plain": [
              "5    1068\n",
              "Name: weekday, dtype: int64"
            ]
          },
          "execution_count": 54,
          "metadata": {},
          "output_type": "execute_result"
        }
      ],
      "source": [
        "loop_to_ord['weekday'] = loop_to_ord['start_ts'].dt.weekday\n",
        "loop_to_ord['weekday'].value_counts()"
      ]
    },
    {
      "cell_type": "markdown",
      "metadata": {
        "id": "2szXPH4eZDZY"
      },
      "source": [
        "## Testing"
      ]
    },
    {
      "cell_type": "markdown",
      "metadata": {
        "id": "vdq05ywvXbOI"
      },
      "source": [
        "Comenzaremos con prueba de Levene para determinar el valor que otorgaremos a la variable *de equal_var*.  En caso de rechazar la hipótesis nula éste tendra un valor *False*, pero si No rechazamos la hipótesis nula el valor será *True* y podrmeos proceder a la prueba de T para detemrinar si la duración promedio de los vijaes cambia de acuerdo con el estado del tiempo en Chicago para los viajes de The Loop al aeropuerto ORD.\n",
        "\n",
        "* H0 = La duración promedio de los viajes desde el Loop hasta el Aeropuerto Internacional O'Hare no cambia los sábados lluviosos.\n",
        "* H1 = La duración promedio de los viajes desde el Loop hasta el Aeropuerto Internacional O'Hare cambia los sábados lluviosos.\n",
        "\n"
      ]
    },
    {
      "cell_type": "code",
      "execution_count": null,
      "metadata": {
        "id": "3z53_SnkXZi7"
      },
      "outputs": [],
      "source": [
        "good_days = loop_to_ord.query('weather_conditions == \"Good\"')['duration_seconds']\n",
        "bad_days = loop_to_ord.query('weather_conditions == \"Bad\"')['duration_seconds']"
      ]
    },
    {
      "cell_type": "code",
      "execution_count": null,
      "metadata": {
        "colab": {
          "base_uri": "https://localhost:8080/"
        },
        "id": "-0nEIjM5_aGI",
        "outputId": "8cc01f1d-741b-40ad-de66-740de887dc62"
      },
      "outputs": [
        {
          "name": "stdout",
          "output_type": "stream",
          "text": [
            "p-value: 0.3968505113995001\n",
            "No rechazamos la hipótesis nula\n"
          ]
        }
      ],
      "source": [
        "results = st.levene(good_days, bad_days, center='mean')\n",
        "alpha= 0.05\n",
        "print('p-value:', results.pvalue)\n",
        "if (results.pvalue < alpha):\n",
        "    print(\"Rechazamos la hipótesis nula\")\n",
        "else:\n",
        "    print(\"No rechazamos la hipótesis nula\")"
      ]
    },
    {
      "cell_type": "code",
      "execution_count": null,
      "metadata": {
        "colab": {
          "base_uri": "https://localhost:8080/"
        },
        "id": "h3XtO3ch_kC3",
        "outputId": "093618c3-aee9-4fbb-d592-8834bbc7d5e0"
      },
      "outputs": [
        {
          "name": "stdout",
          "output_type": "stream",
          "text": [
            "p-value: 6.517970327099473e-12\n",
            "Rechazamos la hipótesis nula\n"
          ]
        }
      ],
      "source": [
        "results = st.ttest_ind(good_days, bad_days, equal_var=True)\n",
        "alpha= 0.05\n",
        "print('p-value:', results.pvalue)\n",
        "if (results.pvalue < alpha):\n",
        "    print(\"Rechazamos la hipótesis nula\")\n",
        "else:\n",
        "    print(\"No rechazamos la hipótesis nula\")"
      ]
    },
    {
      "cell_type": "markdown",
      "metadata": {
        "id": "aLFUcPFoAVBT"
      },
      "source": [
        "Separamos los días lluviosos (*bad*) de los días soleados (*good*), determinamos el valor de *equal_var* y procedimos a realizar la prueba de T con un valor *True*. El resultado de la prueba de T nos arrojó un *p.value* mayor a alpha (0.05) por lo cual rechazamos la hipótesis nula en la prueba de T. Con este resultado llegamos a la conclusión de que la duración promedio de los viajes de The Loop a el aeropuerto O'Hare sí cambia los sábados lluviosos."
      ]
    },
    {
      "cell_type": "markdown",
      "metadata": {
        "id": "d4A7N_xkVn59"
      },
      "source": [
        "# Conclusión"
      ]
    },
    {
      "cell_type": "markdown",
      "metadata": {
        "id": "Zz24tUM4Dy9D"
      },
      "source": [
        "* Al comenzar con este análisis no fue necesario imputar o rechazar los datos con los que comenzamos ya que el dataframe utilizado es el resultado de una consulta anterior lo cual hizó más rápido llegar a el análisis de los datos y la prueba de hipótesis.\n",
        "* Encontramos también durante el análisis la empresa con más viajes realizados en el área de Chicago, ésta fue Flash Cab Taxi con 14% del total de viajes en la ciudad a su nombre ante las otras 9 empresas de Taxis que fueron analizadas.\n",
        "*   Encontramos también que The Loop es el área de la ciudad en la que más dropoffs se realizan, muchas personas toman viajes de algún otro punto de la ciudad a The Loop (downtown) en comparación con las demás zonas de la ciudad que analizamos, con 24% del total.\n",
        "*   Realizando un análisis en el que tomamos en cuenta el estado del tiempo desde The Loop o el aeropuerto (ORD) y con una prueba de T, llegamos a la conclusión de que los sábados lluviosos la duración del viaje cambia significativamente. Podemos pensar que aumenta debido a que hay más tráfico y que tal vez hay menos personas a pie o en transporte público por la misma razón.\n",
        "\n",
        "\n",
        "\n"
      ]
    }
  ],
  "metadata": {
    "ExecuteTimeLog": [
      {
        "duration": 1084,
        "start_time": "2022-07-24T00:08:29.961Z"
      },
      {
        "duration": 287,
        "start_time": "2022-07-24T00:08:31.047Z"
      },
      {
        "duration": 10,
        "start_time": "2022-07-24T00:08:31.336Z"
      },
      {
        "duration": 192,
        "start_time": "2022-07-24T00:08:31.347Z"
      },
      {
        "duration": 14,
        "start_time": "2022-07-24T00:08:31.541Z"
      },
      {
        "duration": 26,
        "start_time": "2022-07-24T00:08:31.557Z"
      },
      {
        "duration": 27,
        "start_time": "2022-07-24T00:08:31.584Z"
      },
      {
        "duration": 162,
        "start_time": "2022-07-24T00:08:31.612Z"
      },
      {
        "duration": 11,
        "start_time": "2022-07-24T00:08:31.776Z"
      },
      {
        "duration": 17,
        "start_time": "2022-07-24T00:08:31.788Z"
      },
      {
        "duration": 12,
        "start_time": "2022-07-24T00:08:31.806Z"
      },
      {
        "duration": 8,
        "start_time": "2022-07-24T00:08:31.820Z"
      },
      {
        "duration": 5,
        "start_time": "2022-07-24T00:08:31.829Z"
      },
      {
        "duration": 6,
        "start_time": "2022-07-24T00:08:31.836Z"
      },
      {
        "duration": 2,
        "start_time": "2022-07-24T00:32:38.164Z"
      },
      {
        "duration": 149,
        "start_time": "2022-07-24T00:32:38.168Z"
      },
      {
        "duration": 9,
        "start_time": "2022-07-24T00:32:38.319Z"
      },
      {
        "duration": 171,
        "start_time": "2022-07-24T00:32:38.395Z"
      },
      {
        "duration": 6,
        "start_time": "2022-07-24T00:32:38.568Z"
      },
      {
        "duration": 14,
        "start_time": "2022-07-24T00:32:38.575Z"
      },
      {
        "duration": 10,
        "start_time": "2022-07-24T00:32:38.590Z"
      },
      {
        "duration": 178,
        "start_time": "2022-07-24T00:32:38.602Z"
      },
      {
        "duration": 12,
        "start_time": "2022-07-24T00:32:38.782Z"
      },
      {
        "duration": 11,
        "start_time": "2022-07-24T00:32:38.795Z"
      },
      {
        "duration": 9,
        "start_time": "2022-07-24T00:32:38.807Z"
      },
      {
        "duration": 7,
        "start_time": "2022-07-24T00:32:38.818Z"
      },
      {
        "duration": 6,
        "start_time": "2022-07-24T00:32:38.827Z"
      },
      {
        "duration": 20,
        "start_time": "2022-07-24T00:32:38.834Z"
      },
      {
        "duration": 3,
        "start_time": "2022-07-24T00:32:43.744Z"
      },
      {
        "duration": 150,
        "start_time": "2022-07-24T00:32:43.748Z"
      },
      {
        "duration": 8,
        "start_time": "2022-07-24T00:32:43.900Z"
      },
      {
        "duration": 180,
        "start_time": "2022-07-24T00:32:43.910Z"
      },
      {
        "duration": 6,
        "start_time": "2022-07-24T00:32:44.092Z"
      },
      {
        "duration": 11,
        "start_time": "2022-07-24T00:32:44.100Z"
      },
      {
        "duration": 9,
        "start_time": "2022-07-24T00:32:44.112Z"
      },
      {
        "duration": 169,
        "start_time": "2022-07-24T00:32:44.123Z"
      },
      {
        "duration": 11,
        "start_time": "2022-07-24T00:32:44.294Z"
      },
      {
        "duration": 11,
        "start_time": "2022-07-24T00:32:44.306Z"
      },
      {
        "duration": 8,
        "start_time": "2022-07-24T00:32:44.318Z"
      },
      {
        "duration": 9,
        "start_time": "2022-07-24T00:32:44.327Z"
      },
      {
        "duration": 4,
        "start_time": "2022-07-24T00:32:44.352Z"
      },
      {
        "duration": 6,
        "start_time": "2022-07-24T00:32:44.358Z"
      },
      {
        "duration": 9,
        "start_time": "2022-07-24T00:33:54.534Z"
      },
      {
        "duration": 3,
        "start_time": "2022-07-24T00:53:58.049Z"
      },
      {
        "duration": 148,
        "start_time": "2022-07-24T00:53:58.053Z"
      },
      {
        "duration": 8,
        "start_time": "2022-07-24T00:53:58.203Z"
      },
      {
        "duration": 188,
        "start_time": "2022-07-24T00:53:58.272Z"
      },
      {
        "duration": 7,
        "start_time": "2022-07-24T00:53:58.461Z"
      },
      {
        "duration": 12,
        "start_time": "2022-07-24T00:53:58.469Z"
      },
      {
        "duration": 8,
        "start_time": "2022-07-24T00:53:58.482Z"
      },
      {
        "duration": 166,
        "start_time": "2022-07-24T00:53:58.491Z"
      },
      {
        "duration": 11,
        "start_time": "2022-07-24T00:53:58.659Z"
      },
      {
        "duration": 20,
        "start_time": "2022-07-24T00:53:58.672Z"
      },
      {
        "duration": 9,
        "start_time": "2022-07-24T00:53:58.694Z"
      },
      {
        "duration": 19,
        "start_time": "2022-07-24T00:53:58.704Z"
      },
      {
        "duration": 7,
        "start_time": "2022-07-24T00:53:58.724Z"
      },
      {
        "duration": 5,
        "start_time": "2022-07-24T00:53:58.733Z"
      }
    ],
    "colab": {
      "provenance": [],
      "toc_visible": true
    },
    "kernelspec": {
      "display_name": "Python 3 (ipykernel)",
      "language": "python",
      "name": "python3"
    },
    "language_info": {
      "codemirror_mode": {
        "name": "ipython",
        "version": 3
      },
      "file_extension": ".py",
      "mimetype": "text/x-python",
      "name": "python",
      "nbconvert_exporter": "python",
      "pygments_lexer": "ipython3",
      "version": "3.9.5"
    },
    "toc": {
      "base_numbering": 1,
      "nav_menu": {},
      "number_sections": true,
      "sideBar": true,
      "skip_h1_title": true,
      "title_cell": "Table of Contents",
      "title_sidebar": "Contents",
      "toc_cell": false,
      "toc_position": {},
      "toc_section_display": true,
      "toc_window_display": false
    }
  },
  "nbformat": 4,
  "nbformat_minor": 0
}