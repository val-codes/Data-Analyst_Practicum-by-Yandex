{
  "cells": [
    {
      "cell_type": "markdown",
      "metadata": {
        "id": "hP15TBzXM6Av"
      },
      "source": [
        "# A/B testing: Decisiones de negocio basadas en datos"
      ]
    },
    {
      "cell_type": "markdown",
      "metadata": {
        "id": "dFIx_gueNNxo"
      },
      "source": [
        "## **Descripción del proyecto**\n",
        "**Descripción de los datos**\n",
        "\n",
        "1. Datos utilizados en la primera parte del proyecto\n",
        "/datasets/hypotheses_us.csv \n",
        "* Hypotheses: breves descripciones de las hipótesis\n",
        "*Reach: alcance del usuario, en una escala del uno a diez\n",
        "*Impact: impacto en los usuarios, en una escala del uno al diez\n",
        "*Confidence: confianza en la hipótesis, en una escala del uno al diez\n",
        "*Effort: los recursos necesarios para probar una hipótesis, en una escala del uno al diez.\n",
        "2. Datos utilizados en la segunda parte del proyecto:\n",
        "/datasets/orders_us.csv \n",
        "* transactionId: identificador de pedido\n",
        "* visitorId: identificador del usuario que realizó el pedido\n",
        "*date: fecha del pedido\n",
        "*revenue: ingresos del pedido\n",
        "*group: el grupo del test A/B al que pertenece el usuario\n",
        "3. Información extra: /datasets/visits_us.csv\n",
        "* date: la fecha\n",
        "*group: grupo del test A/B\n",
        "*visits: el número de visitas en la fecha especificada para el grupo de test A/B especificado"
      ]
    },
    {
      "cell_type": "markdown",
      "metadata": {
        "id": "HHNaZzcnOfRI"
      },
      "source": [
        "## **Carga y Preprocesamiento de datos**"
      ]
    },
    {
      "cell_type": "code",
      "execution_count": 1,
      "metadata": {
        "id": "SnF0bcWAerWG"
      },
      "outputs": [],
      "source": [
        "import pandas   as pd\n",
        "import datetime as dt\n",
        "import scipy.stats as stats\n",
        "from scipy import stats as st\n",
        "import numpy as np\n",
        "import math\n",
        "import matplotlib.pyplot as plt\n",
        "from matplotlib.pyplot import figure\n",
        "import seaborn as sns"
      ]
    },
    {
      "cell_type": "code",
      "execution_count": 2,
      "metadata": {
        "id": "_dO1pQnefZSi"
      },
      "outputs": [],
      "source": [
        "hypotheses = 'https://code.s3.yandex.net/datasets/hypotheses_us.csv'\n",
        "hypotheses =  pd.read_csv(hypotheses, sep=';', nrows=500)\n",
        "orders = pd.read_csv('https://code.s3.yandex.net/datasets/orders_us.csv')\n",
        "visits = pd.read_csv('https://code.s3.yandex.net/datasets/visits_us.csv')"
      ]
    },
    {
      "cell_type": "markdown",
      "metadata": {
        "id": "0PXWg4eEOoM4"
      },
      "source": [
        "### **Hipótesis**"
      ]
    },
    {
      "cell_type": "code",
      "execution_count": 3,
      "metadata": {
        "colab": {
          "base_uri": "https://localhost:8080/"
        },
        "id": "pKzhVclqP5qY",
        "outputId": "5a9b35cb-7eb6-453b-ba44-f535e03673f9"
      },
      "outputs": [
        {
          "output_type": "stream",
          "name": "stdout",
          "text": [
            "<class 'pandas.core.frame.DataFrame'>\n",
            "RangeIndex: 9 entries, 0 to 8\n",
            "Data columns (total 5 columns):\n",
            " #   Column      Non-Null Count  Dtype \n",
            "---  ------      --------------  ----- \n",
            " 0   Hypothesis  9 non-null      object\n",
            " 1   Reach       9 non-null      int64 \n",
            " 2   Impact      9 non-null      int64 \n",
            " 3   Confidence  9 non-null      int64 \n",
            " 4   Effort      9 non-null      int64 \n",
            "dtypes: int64(4), object(1)\n",
            "memory usage: 488.0+ bytes\n"
          ]
        }
      ],
      "source": [
        "hypotheses.info()"
      ]
    },
    {
      "cell_type": "code",
      "execution_count": 4,
      "metadata": {
        "colab": {
          "base_uri": "https://localhost:8080/",
          "height": 332
        },
        "id": "TmlDQk3yfjFZ",
        "outputId": "e5aa1a7c-6de7-42ab-a4b1-39638e793229"
      },
      "outputs": [
        {
          "output_type": "execute_result",
          "data": {
            "text/plain": [
              "                                                                                                               hypothesis  \\\n",
              "0                                             Add two new channels for attracting traffic. This will bring 30% more users   \n",
              "1                                                       Launch your own delivery service. This will shorten delivery time   \n",
              "2          Add product recommendation blocks to the store's site. This will increase conversion and average purchase size   \n",
              "3  Change the category structure. This will increase conversion since users will find the products they want more quickly   \n",
              "4                                        Change the background color on the main page. This will increase user engagement   \n",
              "5                                                     Add a customer review page. This will increase the number of orders   \n",
              "6                                 Show banners with current offers and sales on the main page. This will boost conversion   \n",
              "7                                Add a subscription form to all the main pages. This will help you compile a mailing list   \n",
              "8                                                        Launch a promotion that gives users discounts on their birthdays   \n",
              "\n",
              "   reach  impact  confidence  effort  \n",
              "0      3      10           8       6  \n",
              "1      2       5           4      10  \n",
              "2      8       3           7       3  \n",
              "3      8       3           3       8  \n",
              "4      3       1           1       1  \n",
              "5      3       2           2       3  \n",
              "6      5       3           8       3  \n",
              "7     10       7           8       5  \n",
              "8      1       9           9       5  "
            ],
            "text/html": [
              "\n",
              "  <div id=\"df-83378014-2960-4917-ad64-44f52744cdb0\">\n",
              "    <div class=\"colab-df-container\">\n",
              "      <div>\n",
              "<style scoped>\n",
              "    .dataframe tbody tr th:only-of-type {\n",
              "        vertical-align: middle;\n",
              "    }\n",
              "\n",
              "    .dataframe tbody tr th {\n",
              "        vertical-align: top;\n",
              "    }\n",
              "\n",
              "    .dataframe thead th {\n",
              "        text-align: right;\n",
              "    }\n",
              "</style>\n",
              "<table border=\"1\" class=\"dataframe\">\n",
              "  <thead>\n",
              "    <tr style=\"text-align: right;\">\n",
              "      <th></th>\n",
              "      <th>hypothesis</th>\n",
              "      <th>reach</th>\n",
              "      <th>impact</th>\n",
              "      <th>confidence</th>\n",
              "      <th>effort</th>\n",
              "    </tr>\n",
              "  </thead>\n",
              "  <tbody>\n",
              "    <tr>\n",
              "      <th>0</th>\n",
              "      <td>Add two new channels for attracting traffic. This will bring 30% more users</td>\n",
              "      <td>3</td>\n",
              "      <td>10</td>\n",
              "      <td>8</td>\n",
              "      <td>6</td>\n",
              "    </tr>\n",
              "    <tr>\n",
              "      <th>1</th>\n",
              "      <td>Launch your own delivery service. This will shorten delivery time</td>\n",
              "      <td>2</td>\n",
              "      <td>5</td>\n",
              "      <td>4</td>\n",
              "      <td>10</td>\n",
              "    </tr>\n",
              "    <tr>\n",
              "      <th>2</th>\n",
              "      <td>Add product recommendation blocks to the store's site. This will increase conversion and average purchase size</td>\n",
              "      <td>8</td>\n",
              "      <td>3</td>\n",
              "      <td>7</td>\n",
              "      <td>3</td>\n",
              "    </tr>\n",
              "    <tr>\n",
              "      <th>3</th>\n",
              "      <td>Change the category structure. This will increase conversion since users will find the products they want more quickly</td>\n",
              "      <td>8</td>\n",
              "      <td>3</td>\n",
              "      <td>3</td>\n",
              "      <td>8</td>\n",
              "    </tr>\n",
              "    <tr>\n",
              "      <th>4</th>\n",
              "      <td>Change the background color on the main page. This will increase user engagement</td>\n",
              "      <td>3</td>\n",
              "      <td>1</td>\n",
              "      <td>1</td>\n",
              "      <td>1</td>\n",
              "    </tr>\n",
              "    <tr>\n",
              "      <th>5</th>\n",
              "      <td>Add a customer review page. This will increase the number of orders</td>\n",
              "      <td>3</td>\n",
              "      <td>2</td>\n",
              "      <td>2</td>\n",
              "      <td>3</td>\n",
              "    </tr>\n",
              "    <tr>\n",
              "      <th>6</th>\n",
              "      <td>Show banners with current offers and sales on the main page. This will boost conversion</td>\n",
              "      <td>5</td>\n",
              "      <td>3</td>\n",
              "      <td>8</td>\n",
              "      <td>3</td>\n",
              "    </tr>\n",
              "    <tr>\n",
              "      <th>7</th>\n",
              "      <td>Add a subscription form to all the main pages. This will help you compile a mailing list</td>\n",
              "      <td>10</td>\n",
              "      <td>7</td>\n",
              "      <td>8</td>\n",
              "      <td>5</td>\n",
              "    </tr>\n",
              "    <tr>\n",
              "      <th>8</th>\n",
              "      <td>Launch a promotion that gives users discounts on their birthdays</td>\n",
              "      <td>1</td>\n",
              "      <td>9</td>\n",
              "      <td>9</td>\n",
              "      <td>5</td>\n",
              "    </tr>\n",
              "  </tbody>\n",
              "</table>\n",
              "</div>\n",
              "      <button class=\"colab-df-convert\" onclick=\"convertToInteractive('df-83378014-2960-4917-ad64-44f52744cdb0')\"\n",
              "              title=\"Convert this dataframe to an interactive table.\"\n",
              "              style=\"display:none;\">\n",
              "        \n",
              "  <svg xmlns=\"http://www.w3.org/2000/svg\" height=\"24px\"viewBox=\"0 0 24 24\"\n",
              "       width=\"24px\">\n",
              "    <path d=\"M0 0h24v24H0V0z\" fill=\"none\"/>\n",
              "    <path d=\"M18.56 5.44l.94 2.06.94-2.06 2.06-.94-2.06-.94-.94-2.06-.94 2.06-2.06.94zm-11 1L8.5 8.5l.94-2.06 2.06-.94-2.06-.94L8.5 2.5l-.94 2.06-2.06.94zm10 10l.94 2.06.94-2.06 2.06-.94-2.06-.94-.94-2.06-.94 2.06-2.06.94z\"/><path d=\"M17.41 7.96l-1.37-1.37c-.4-.4-.92-.59-1.43-.59-.52 0-1.04.2-1.43.59L10.3 9.45l-7.72 7.72c-.78.78-.78 2.05 0 2.83L4 21.41c.39.39.9.59 1.41.59.51 0 1.02-.2 1.41-.59l7.78-7.78 2.81-2.81c.8-.78.8-2.07 0-2.86zM5.41 20L4 18.59l7.72-7.72 1.47 1.35L5.41 20z\"/>\n",
              "  </svg>\n",
              "      </button>\n",
              "      \n",
              "  <style>\n",
              "    .colab-df-container {\n",
              "      display:flex;\n",
              "      flex-wrap:wrap;\n",
              "      gap: 12px;\n",
              "    }\n",
              "\n",
              "    .colab-df-convert {\n",
              "      background-color: #E8F0FE;\n",
              "      border: none;\n",
              "      border-radius: 50%;\n",
              "      cursor: pointer;\n",
              "      display: none;\n",
              "      fill: #1967D2;\n",
              "      height: 32px;\n",
              "      padding: 0 0 0 0;\n",
              "      width: 32px;\n",
              "    }\n",
              "\n",
              "    .colab-df-convert:hover {\n",
              "      background-color: #E2EBFA;\n",
              "      box-shadow: 0px 1px 2px rgba(60, 64, 67, 0.3), 0px 1px 3px 1px rgba(60, 64, 67, 0.15);\n",
              "      fill: #174EA6;\n",
              "    }\n",
              "\n",
              "    [theme=dark] .colab-df-convert {\n",
              "      background-color: #3B4455;\n",
              "      fill: #D2E3FC;\n",
              "    }\n",
              "\n",
              "    [theme=dark] .colab-df-convert:hover {\n",
              "      background-color: #434B5C;\n",
              "      box-shadow: 0px 1px 3px 1px rgba(0, 0, 0, 0.15);\n",
              "      filter: drop-shadow(0px 1px 2px rgba(0, 0, 0, 0.3));\n",
              "      fill: #FFFFFF;\n",
              "    }\n",
              "  </style>\n",
              "\n",
              "      <script>\n",
              "        const buttonEl =\n",
              "          document.querySelector('#df-83378014-2960-4917-ad64-44f52744cdb0 button.colab-df-convert');\n",
              "        buttonEl.style.display =\n",
              "          google.colab.kernel.accessAllowed ? 'block' : 'none';\n",
              "\n",
              "        async function convertToInteractive(key) {\n",
              "          const element = document.querySelector('#df-83378014-2960-4917-ad64-44f52744cdb0');\n",
              "          const dataTable =\n",
              "            await google.colab.kernel.invokeFunction('convertToInteractive',\n",
              "                                                     [key], {});\n",
              "          if (!dataTable) return;\n",
              "\n",
              "          const docLinkHtml = 'Like what you see? Visit the ' +\n",
              "            '<a target=\"_blank\" href=https://colab.research.google.com/notebooks/data_table.ipynb>data table notebook</a>'\n",
              "            + ' to learn more about interactive tables.';\n",
              "          element.innerHTML = '';\n",
              "          dataTable['output_type'] = 'display_data';\n",
              "          await google.colab.output.renderOutput(dataTable, element);\n",
              "          const docLink = document.createElement('div');\n",
              "          docLink.innerHTML = docLinkHtml;\n",
              "          element.appendChild(docLink);\n",
              "        }\n",
              "      </script>\n",
              "    </div>\n",
              "  </div>\n",
              "  "
            ]
          },
          "metadata": {},
          "execution_count": 4
        }
      ],
      "source": [
        "pd.set_option('max_colwidth', 450)\n",
        "hypotheses.columns= hypotheses.columns.str.lower()\n",
        "hypotheses"
      ]
    },
    {
      "cell_type": "markdown",
      "metadata": {
        "id": "_X6TIAi0PXQZ"
      },
      "source": [
        "### **Órdenes**"
      ]
    },
    {
      "cell_type": "code",
      "execution_count": 5,
      "metadata": {
        "colab": {
          "base_uri": "https://localhost:8080/"
        },
        "id": "mhzNtiDoQJt0",
        "outputId": "7b29dbd5-1883-4326-be02-27466f725795"
      },
      "outputs": [
        {
          "output_type": "stream",
          "name": "stdout",
          "text": [
            "<class 'pandas.core.frame.DataFrame'>\n",
            "RangeIndex: 1197 entries, 0 to 1196\n",
            "Data columns (total 5 columns):\n",
            " #   Column         Non-Null Count  Dtype  \n",
            "---  ------         --------------  -----  \n",
            " 0   transactionId  1197 non-null   int64  \n",
            " 1   visitorId      1197 non-null   int64  \n",
            " 2   date           1197 non-null   object \n",
            " 3   revenue        1197 non-null   float64\n",
            " 4   group          1197 non-null   object \n",
            "dtypes: float64(1), int64(2), object(2)\n",
            "memory usage: 46.9+ KB\n"
          ]
        }
      ],
      "source": [
        "orders.info()"
      ]
    },
    {
      "cell_type": "code",
      "execution_count": 6,
      "metadata": {
        "colab": {
          "base_uri": "https://localhost:8080/",
          "height": 206
        },
        "id": "JPaXEiXyQLzF",
        "outputId": "9fcbb206-0245-44db-f42d-07da8514d09f"
      },
      "outputs": [
        {
          "output_type": "execute_result",
          "data": {
            "text/plain": [
              "   transactionId   visitorId        date  revenue group\n",
              "0     3667963787  3312258926  2019-08-15     30.4     B\n",
              "1     2804400009  3642806036  2019-08-15     15.2     B\n",
              "2     2961555356  4069496402  2019-08-15     10.2     A\n",
              "3     3797467345  1196621759  2019-08-15    155.1     B\n",
              "4     2282983706  2322279887  2019-08-15     40.5     B"
            ],
            "text/html": [
              "\n",
              "  <div id=\"df-4df516d3-30a4-48fd-b439-95b5743f2bac\">\n",
              "    <div class=\"colab-df-container\">\n",
              "      <div>\n",
              "<style scoped>\n",
              "    .dataframe tbody tr th:only-of-type {\n",
              "        vertical-align: middle;\n",
              "    }\n",
              "\n",
              "    .dataframe tbody tr th {\n",
              "        vertical-align: top;\n",
              "    }\n",
              "\n",
              "    .dataframe thead th {\n",
              "        text-align: right;\n",
              "    }\n",
              "</style>\n",
              "<table border=\"1\" class=\"dataframe\">\n",
              "  <thead>\n",
              "    <tr style=\"text-align: right;\">\n",
              "      <th></th>\n",
              "      <th>transactionId</th>\n",
              "      <th>visitorId</th>\n",
              "      <th>date</th>\n",
              "      <th>revenue</th>\n",
              "      <th>group</th>\n",
              "    </tr>\n",
              "  </thead>\n",
              "  <tbody>\n",
              "    <tr>\n",
              "      <th>0</th>\n",
              "      <td>3667963787</td>\n",
              "      <td>3312258926</td>\n",
              "      <td>2019-08-15</td>\n",
              "      <td>30.4</td>\n",
              "      <td>B</td>\n",
              "    </tr>\n",
              "    <tr>\n",
              "      <th>1</th>\n",
              "      <td>2804400009</td>\n",
              "      <td>3642806036</td>\n",
              "      <td>2019-08-15</td>\n",
              "      <td>15.2</td>\n",
              "      <td>B</td>\n",
              "    </tr>\n",
              "    <tr>\n",
              "      <th>2</th>\n",
              "      <td>2961555356</td>\n",
              "      <td>4069496402</td>\n",
              "      <td>2019-08-15</td>\n",
              "      <td>10.2</td>\n",
              "      <td>A</td>\n",
              "    </tr>\n",
              "    <tr>\n",
              "      <th>3</th>\n",
              "      <td>3797467345</td>\n",
              "      <td>1196621759</td>\n",
              "      <td>2019-08-15</td>\n",
              "      <td>155.1</td>\n",
              "      <td>B</td>\n",
              "    </tr>\n",
              "    <tr>\n",
              "      <th>4</th>\n",
              "      <td>2282983706</td>\n",
              "      <td>2322279887</td>\n",
              "      <td>2019-08-15</td>\n",
              "      <td>40.5</td>\n",
              "      <td>B</td>\n",
              "    </tr>\n",
              "  </tbody>\n",
              "</table>\n",
              "</div>\n",
              "      <button class=\"colab-df-convert\" onclick=\"convertToInteractive('df-4df516d3-30a4-48fd-b439-95b5743f2bac')\"\n",
              "              title=\"Convert this dataframe to an interactive table.\"\n",
              "              style=\"display:none;\">\n",
              "        \n",
              "  <svg xmlns=\"http://www.w3.org/2000/svg\" height=\"24px\"viewBox=\"0 0 24 24\"\n",
              "       width=\"24px\">\n",
              "    <path d=\"M0 0h24v24H0V0z\" fill=\"none\"/>\n",
              "    <path d=\"M18.56 5.44l.94 2.06.94-2.06 2.06-.94-2.06-.94-.94-2.06-.94 2.06-2.06.94zm-11 1L8.5 8.5l.94-2.06 2.06-.94-2.06-.94L8.5 2.5l-.94 2.06-2.06.94zm10 10l.94 2.06.94-2.06 2.06-.94-2.06-.94-.94-2.06-.94 2.06-2.06.94z\"/><path d=\"M17.41 7.96l-1.37-1.37c-.4-.4-.92-.59-1.43-.59-.52 0-1.04.2-1.43.59L10.3 9.45l-7.72 7.72c-.78.78-.78 2.05 0 2.83L4 21.41c.39.39.9.59 1.41.59.51 0 1.02-.2 1.41-.59l7.78-7.78 2.81-2.81c.8-.78.8-2.07 0-2.86zM5.41 20L4 18.59l7.72-7.72 1.47 1.35L5.41 20z\"/>\n",
              "  </svg>\n",
              "      </button>\n",
              "      \n",
              "  <style>\n",
              "    .colab-df-container {\n",
              "      display:flex;\n",
              "      flex-wrap:wrap;\n",
              "      gap: 12px;\n",
              "    }\n",
              "\n",
              "    .colab-df-convert {\n",
              "      background-color: #E8F0FE;\n",
              "      border: none;\n",
              "      border-radius: 50%;\n",
              "      cursor: pointer;\n",
              "      display: none;\n",
              "      fill: #1967D2;\n",
              "      height: 32px;\n",
              "      padding: 0 0 0 0;\n",
              "      width: 32px;\n",
              "    }\n",
              "\n",
              "    .colab-df-convert:hover {\n",
              "      background-color: #E2EBFA;\n",
              "      box-shadow: 0px 1px 2px rgba(60, 64, 67, 0.3), 0px 1px 3px 1px rgba(60, 64, 67, 0.15);\n",
              "      fill: #174EA6;\n",
              "    }\n",
              "\n",
              "    [theme=dark] .colab-df-convert {\n",
              "      background-color: #3B4455;\n",
              "      fill: #D2E3FC;\n",
              "    }\n",
              "\n",
              "    [theme=dark] .colab-df-convert:hover {\n",
              "      background-color: #434B5C;\n",
              "      box-shadow: 0px 1px 3px 1px rgba(0, 0, 0, 0.15);\n",
              "      filter: drop-shadow(0px 1px 2px rgba(0, 0, 0, 0.3));\n",
              "      fill: #FFFFFF;\n",
              "    }\n",
              "  </style>\n",
              "\n",
              "      <script>\n",
              "        const buttonEl =\n",
              "          document.querySelector('#df-4df516d3-30a4-48fd-b439-95b5743f2bac button.colab-df-convert');\n",
              "        buttonEl.style.display =\n",
              "          google.colab.kernel.accessAllowed ? 'block' : 'none';\n",
              "\n",
              "        async function convertToInteractive(key) {\n",
              "          const element = document.querySelector('#df-4df516d3-30a4-48fd-b439-95b5743f2bac');\n",
              "          const dataTable =\n",
              "            await google.colab.kernel.invokeFunction('convertToInteractive',\n",
              "                                                     [key], {});\n",
              "          if (!dataTable) return;\n",
              "\n",
              "          const docLinkHtml = 'Like what you see? Visit the ' +\n",
              "            '<a target=\"_blank\" href=https://colab.research.google.com/notebooks/data_table.ipynb>data table notebook</a>'\n",
              "            + ' to learn more about interactive tables.';\n",
              "          element.innerHTML = '';\n",
              "          dataTable['output_type'] = 'display_data';\n",
              "          await google.colab.output.renderOutput(dataTable, element);\n",
              "          const docLink = document.createElement('div');\n",
              "          docLink.innerHTML = docLinkHtml;\n",
              "          element.appendChild(docLink);\n",
              "        }\n",
              "      </script>\n",
              "    </div>\n",
              "  </div>\n",
              "  "
            ]
          },
          "metadata": {},
          "execution_count": 6
        }
      ],
      "source": [
        "orders.head()"
      ]
    },
    {
      "cell_type": "code",
      "execution_count": 7,
      "metadata": {
        "id": "jo_3lqIxbbdW"
      },
      "outputs": [],
      "source": [
        "customer_exclude = orders.groupby('visitorId', as_index = False).agg({'group':'nunique'})\n",
        "customer_exclude = list(customer_exclude.query('group == 2')['visitorId']) # En esta lista tenemos los visitorId que se encuentran en ambos grupos (A y B). Los vamos a excluir del estudio."
      ]
    },
    {
      "cell_type": "code",
      "execution_count": 8,
      "metadata": {
        "colab": {
          "base_uri": "https://localhost:8080/",
          "height": 424
        },
        "id": "lAtJdnajfnoI",
        "outputId": "f468759c-e4b5-4be7-b9a5-a7e815e56e8d"
      },
      "outputs": [
        {
          "output_type": "execute_result",
          "data": {
            "text/plain": [
              "      transactionId   visitorId        date  revenue group\n",
              "0        3667963787  3312258926  2019-08-15     30.4     B\n",
              "1        2804400009  3642806036  2019-08-15     15.2     B\n",
              "3        3797467345  1196621759  2019-08-15    155.1     B\n",
              "4        2282983706  2322279887  2019-08-15     40.5     B\n",
              "5         182168103   935554773  2019-08-15     35.0     B\n",
              "...             ...         ...         ...      ...   ...\n",
              "1191     3592955527   608641596  2019-08-14    255.7     B\n",
              "1192     2662137336  3733762160  2019-08-14    100.8     B\n",
              "1193     2203539145   370388673  2019-08-14     50.1     A\n",
              "1194     1807773912   573423106  2019-08-14    165.3     A\n",
              "1196     3936777065  2108080724  2019-08-15   3120.1     B\n",
              "\n",
              "[1016 rows x 5 columns]"
            ],
            "text/html": [
              "\n",
              "  <div id=\"df-82a0bc3c-3efa-4145-ad5d-686ec22e0348\">\n",
              "    <div class=\"colab-df-container\">\n",
              "      <div>\n",
              "<style scoped>\n",
              "    .dataframe tbody tr th:only-of-type {\n",
              "        vertical-align: middle;\n",
              "    }\n",
              "\n",
              "    .dataframe tbody tr th {\n",
              "        vertical-align: top;\n",
              "    }\n",
              "\n",
              "    .dataframe thead th {\n",
              "        text-align: right;\n",
              "    }\n",
              "</style>\n",
              "<table border=\"1\" class=\"dataframe\">\n",
              "  <thead>\n",
              "    <tr style=\"text-align: right;\">\n",
              "      <th></th>\n",
              "      <th>transactionId</th>\n",
              "      <th>visitorId</th>\n",
              "      <th>date</th>\n",
              "      <th>revenue</th>\n",
              "      <th>group</th>\n",
              "    </tr>\n",
              "  </thead>\n",
              "  <tbody>\n",
              "    <tr>\n",
              "      <th>0</th>\n",
              "      <td>3667963787</td>\n",
              "      <td>3312258926</td>\n",
              "      <td>2019-08-15</td>\n",
              "      <td>30.4</td>\n",
              "      <td>B</td>\n",
              "    </tr>\n",
              "    <tr>\n",
              "      <th>1</th>\n",
              "      <td>2804400009</td>\n",
              "      <td>3642806036</td>\n",
              "      <td>2019-08-15</td>\n",
              "      <td>15.2</td>\n",
              "      <td>B</td>\n",
              "    </tr>\n",
              "    <tr>\n",
              "      <th>3</th>\n",
              "      <td>3797467345</td>\n",
              "      <td>1196621759</td>\n",
              "      <td>2019-08-15</td>\n",
              "      <td>155.1</td>\n",
              "      <td>B</td>\n",
              "    </tr>\n",
              "    <tr>\n",
              "      <th>4</th>\n",
              "      <td>2282983706</td>\n",
              "      <td>2322279887</td>\n",
              "      <td>2019-08-15</td>\n",
              "      <td>40.5</td>\n",
              "      <td>B</td>\n",
              "    </tr>\n",
              "    <tr>\n",
              "      <th>5</th>\n",
              "      <td>182168103</td>\n",
              "      <td>935554773</td>\n",
              "      <td>2019-08-15</td>\n",
              "      <td>35.0</td>\n",
              "      <td>B</td>\n",
              "    </tr>\n",
              "    <tr>\n",
              "      <th>...</th>\n",
              "      <td>...</td>\n",
              "      <td>...</td>\n",
              "      <td>...</td>\n",
              "      <td>...</td>\n",
              "      <td>...</td>\n",
              "    </tr>\n",
              "    <tr>\n",
              "      <th>1191</th>\n",
              "      <td>3592955527</td>\n",
              "      <td>608641596</td>\n",
              "      <td>2019-08-14</td>\n",
              "      <td>255.7</td>\n",
              "      <td>B</td>\n",
              "    </tr>\n",
              "    <tr>\n",
              "      <th>1192</th>\n",
              "      <td>2662137336</td>\n",
              "      <td>3733762160</td>\n",
              "      <td>2019-08-14</td>\n",
              "      <td>100.8</td>\n",
              "      <td>B</td>\n",
              "    </tr>\n",
              "    <tr>\n",
              "      <th>1193</th>\n",
              "      <td>2203539145</td>\n",
              "      <td>370388673</td>\n",
              "      <td>2019-08-14</td>\n",
              "      <td>50.1</td>\n",
              "      <td>A</td>\n",
              "    </tr>\n",
              "    <tr>\n",
              "      <th>1194</th>\n",
              "      <td>1807773912</td>\n",
              "      <td>573423106</td>\n",
              "      <td>2019-08-14</td>\n",
              "      <td>165.3</td>\n",
              "      <td>A</td>\n",
              "    </tr>\n",
              "    <tr>\n",
              "      <th>1196</th>\n",
              "      <td>3936777065</td>\n",
              "      <td>2108080724</td>\n",
              "      <td>2019-08-15</td>\n",
              "      <td>3120.1</td>\n",
              "      <td>B</td>\n",
              "    </tr>\n",
              "  </tbody>\n",
              "</table>\n",
              "<p>1016 rows × 5 columns</p>\n",
              "</div>\n",
              "      <button class=\"colab-df-convert\" onclick=\"convertToInteractive('df-82a0bc3c-3efa-4145-ad5d-686ec22e0348')\"\n",
              "              title=\"Convert this dataframe to an interactive table.\"\n",
              "              style=\"display:none;\">\n",
              "        \n",
              "  <svg xmlns=\"http://www.w3.org/2000/svg\" height=\"24px\"viewBox=\"0 0 24 24\"\n",
              "       width=\"24px\">\n",
              "    <path d=\"M0 0h24v24H0V0z\" fill=\"none\"/>\n",
              "    <path d=\"M18.56 5.44l.94 2.06.94-2.06 2.06-.94-2.06-.94-.94-2.06-.94 2.06-2.06.94zm-11 1L8.5 8.5l.94-2.06 2.06-.94-2.06-.94L8.5 2.5l-.94 2.06-2.06.94zm10 10l.94 2.06.94-2.06 2.06-.94-2.06-.94-.94-2.06-.94 2.06-2.06.94z\"/><path d=\"M17.41 7.96l-1.37-1.37c-.4-.4-.92-.59-1.43-.59-.52 0-1.04.2-1.43.59L10.3 9.45l-7.72 7.72c-.78.78-.78 2.05 0 2.83L4 21.41c.39.39.9.59 1.41.59.51 0 1.02-.2 1.41-.59l7.78-7.78 2.81-2.81c.8-.78.8-2.07 0-2.86zM5.41 20L4 18.59l7.72-7.72 1.47 1.35L5.41 20z\"/>\n",
              "  </svg>\n",
              "      </button>\n",
              "      \n",
              "  <style>\n",
              "    .colab-df-container {\n",
              "      display:flex;\n",
              "      flex-wrap:wrap;\n",
              "      gap: 12px;\n",
              "    }\n",
              "\n",
              "    .colab-df-convert {\n",
              "      background-color: #E8F0FE;\n",
              "      border: none;\n",
              "      border-radius: 50%;\n",
              "      cursor: pointer;\n",
              "      display: none;\n",
              "      fill: #1967D2;\n",
              "      height: 32px;\n",
              "      padding: 0 0 0 0;\n",
              "      width: 32px;\n",
              "    }\n",
              "\n",
              "    .colab-df-convert:hover {\n",
              "      background-color: #E2EBFA;\n",
              "      box-shadow: 0px 1px 2px rgba(60, 64, 67, 0.3), 0px 1px 3px 1px rgba(60, 64, 67, 0.15);\n",
              "      fill: #174EA6;\n",
              "    }\n",
              "\n",
              "    [theme=dark] .colab-df-convert {\n",
              "      background-color: #3B4455;\n",
              "      fill: #D2E3FC;\n",
              "    }\n",
              "\n",
              "    [theme=dark] .colab-df-convert:hover {\n",
              "      background-color: #434B5C;\n",
              "      box-shadow: 0px 1px 3px 1px rgba(0, 0, 0, 0.15);\n",
              "      filter: drop-shadow(0px 1px 2px rgba(0, 0, 0, 0.3));\n",
              "      fill: #FFFFFF;\n",
              "    }\n",
              "  </style>\n",
              "\n",
              "      <script>\n",
              "        const buttonEl =\n",
              "          document.querySelector('#df-82a0bc3c-3efa-4145-ad5d-686ec22e0348 button.colab-df-convert');\n",
              "        buttonEl.style.display =\n",
              "          google.colab.kernel.accessAllowed ? 'block' : 'none';\n",
              "\n",
              "        async function convertToInteractive(key) {\n",
              "          const element = document.querySelector('#df-82a0bc3c-3efa-4145-ad5d-686ec22e0348');\n",
              "          const dataTable =\n",
              "            await google.colab.kernel.invokeFunction('convertToInteractive',\n",
              "                                                     [key], {});\n",
              "          if (!dataTable) return;\n",
              "\n",
              "          const docLinkHtml = 'Like what you see? Visit the ' +\n",
              "            '<a target=\"_blank\" href=https://colab.research.google.com/notebooks/data_table.ipynb>data table notebook</a>'\n",
              "            + ' to learn more about interactive tables.';\n",
              "          element.innerHTML = '';\n",
              "          dataTable['output_type'] = 'display_data';\n",
              "          await google.colab.output.renderOutput(dataTable, element);\n",
              "          const docLink = document.createElement('div');\n",
              "          docLink.innerHTML = docLinkHtml;\n",
              "          element.appendChild(docLink);\n",
              "        }\n",
              "      </script>\n",
              "    </div>\n",
              "  </div>\n",
              "  "
            ]
          },
          "metadata": {},
          "execution_count": 8
        }
      ],
      "source": [
        "orders_filtred = orders.query('visitorId not in @customer_exclude')\n",
        "orders_filtred # En esta tabla tenemos a los VisitorId que no participaron en ambos grupos al mismo tiempo, sólo los visitantes únicos."
      ]
    },
    {
      "cell_type": "markdown",
      "metadata": {
        "id": "pvQyrGvn9rfI"
      },
      "source": [
        "Después de filtrar las órdenes podemos ver que el número de filas se redujo de 1197 a 1016 filas, esto reprenta el 84% del dataframe original, removimos el 16% de los datos ya que eran usuarios repetidos en ambos grupos."
      ]
    },
    {
      "cell_type": "markdown",
      "metadata": {
        "id": "Jse0CuVgPaSt"
      },
      "source": [
        "### **Visitas**"
      ]
    },
    {
      "cell_type": "code",
      "execution_count": 9,
      "metadata": {
        "colab": {
          "base_uri": "https://localhost:8080/"
        },
        "id": "qcdYDzOUPZjs",
        "outputId": "efe562b0-e03d-49bc-bfb3-033dd7799758"
      },
      "outputs": [
        {
          "output_type": "stream",
          "name": "stdout",
          "text": [
            "<class 'pandas.core.frame.DataFrame'>\n",
            "RangeIndex: 62 entries, 0 to 61\n",
            "Data columns (total 3 columns):\n",
            " #   Column  Non-Null Count  Dtype \n",
            "---  ------  --------------  ----- \n",
            " 0   date    62 non-null     object\n",
            " 1   group   62 non-null     object\n",
            " 2   visits  62 non-null     int64 \n",
            "dtypes: int64(1), object(2)\n",
            "memory usage: 1.6+ KB\n"
          ]
        }
      ],
      "source": [
        "visits.info()"
      ]
    },
    {
      "cell_type": "code",
      "execution_count": 10,
      "metadata": {
        "colab": {
          "base_uri": "https://localhost:8080/",
          "height": 206
        },
        "id": "VnEQNVFAQQDG",
        "outputId": "ea9b0eab-a367-4192-8b2f-ef15f4619fda"
      },
      "outputs": [
        {
          "output_type": "execute_result",
          "data": {
            "text/plain": [
              "         date group  visits\n",
              "0  2019-08-01     A     719\n",
              "1  2019-08-02     A     619\n",
              "2  2019-08-03     A     507\n",
              "3  2019-08-04     A     717\n",
              "4  2019-08-05     A     756"
            ],
            "text/html": [
              "\n",
              "  <div id=\"df-069f44d8-7d86-4142-9e5a-ffbf8a3cd29f\">\n",
              "    <div class=\"colab-df-container\">\n",
              "      <div>\n",
              "<style scoped>\n",
              "    .dataframe tbody tr th:only-of-type {\n",
              "        vertical-align: middle;\n",
              "    }\n",
              "\n",
              "    .dataframe tbody tr th {\n",
              "        vertical-align: top;\n",
              "    }\n",
              "\n",
              "    .dataframe thead th {\n",
              "        text-align: right;\n",
              "    }\n",
              "</style>\n",
              "<table border=\"1\" class=\"dataframe\">\n",
              "  <thead>\n",
              "    <tr style=\"text-align: right;\">\n",
              "      <th></th>\n",
              "      <th>date</th>\n",
              "      <th>group</th>\n",
              "      <th>visits</th>\n",
              "    </tr>\n",
              "  </thead>\n",
              "  <tbody>\n",
              "    <tr>\n",
              "      <th>0</th>\n",
              "      <td>2019-08-01</td>\n",
              "      <td>A</td>\n",
              "      <td>719</td>\n",
              "    </tr>\n",
              "    <tr>\n",
              "      <th>1</th>\n",
              "      <td>2019-08-02</td>\n",
              "      <td>A</td>\n",
              "      <td>619</td>\n",
              "    </tr>\n",
              "    <tr>\n",
              "      <th>2</th>\n",
              "      <td>2019-08-03</td>\n",
              "      <td>A</td>\n",
              "      <td>507</td>\n",
              "    </tr>\n",
              "    <tr>\n",
              "      <th>3</th>\n",
              "      <td>2019-08-04</td>\n",
              "      <td>A</td>\n",
              "      <td>717</td>\n",
              "    </tr>\n",
              "    <tr>\n",
              "      <th>4</th>\n",
              "      <td>2019-08-05</td>\n",
              "      <td>A</td>\n",
              "      <td>756</td>\n",
              "    </tr>\n",
              "  </tbody>\n",
              "</table>\n",
              "</div>\n",
              "      <button class=\"colab-df-convert\" onclick=\"convertToInteractive('df-069f44d8-7d86-4142-9e5a-ffbf8a3cd29f')\"\n",
              "              title=\"Convert this dataframe to an interactive table.\"\n",
              "              style=\"display:none;\">\n",
              "        \n",
              "  <svg xmlns=\"http://www.w3.org/2000/svg\" height=\"24px\"viewBox=\"0 0 24 24\"\n",
              "       width=\"24px\">\n",
              "    <path d=\"M0 0h24v24H0V0z\" fill=\"none\"/>\n",
              "    <path d=\"M18.56 5.44l.94 2.06.94-2.06 2.06-.94-2.06-.94-.94-2.06-.94 2.06-2.06.94zm-11 1L8.5 8.5l.94-2.06 2.06-.94-2.06-.94L8.5 2.5l-.94 2.06-2.06.94zm10 10l.94 2.06.94-2.06 2.06-.94-2.06-.94-.94-2.06-.94 2.06-2.06.94z\"/><path d=\"M17.41 7.96l-1.37-1.37c-.4-.4-.92-.59-1.43-.59-.52 0-1.04.2-1.43.59L10.3 9.45l-7.72 7.72c-.78.78-.78 2.05 0 2.83L4 21.41c.39.39.9.59 1.41.59.51 0 1.02-.2 1.41-.59l7.78-7.78 2.81-2.81c.8-.78.8-2.07 0-2.86zM5.41 20L4 18.59l7.72-7.72 1.47 1.35L5.41 20z\"/>\n",
              "  </svg>\n",
              "      </button>\n",
              "      \n",
              "  <style>\n",
              "    .colab-df-container {\n",
              "      display:flex;\n",
              "      flex-wrap:wrap;\n",
              "      gap: 12px;\n",
              "    }\n",
              "\n",
              "    .colab-df-convert {\n",
              "      background-color: #E8F0FE;\n",
              "      border: none;\n",
              "      border-radius: 50%;\n",
              "      cursor: pointer;\n",
              "      display: none;\n",
              "      fill: #1967D2;\n",
              "      height: 32px;\n",
              "      padding: 0 0 0 0;\n",
              "      width: 32px;\n",
              "    }\n",
              "\n",
              "    .colab-df-convert:hover {\n",
              "      background-color: #E2EBFA;\n",
              "      box-shadow: 0px 1px 2px rgba(60, 64, 67, 0.3), 0px 1px 3px 1px rgba(60, 64, 67, 0.15);\n",
              "      fill: #174EA6;\n",
              "    }\n",
              "\n",
              "    [theme=dark] .colab-df-convert {\n",
              "      background-color: #3B4455;\n",
              "      fill: #D2E3FC;\n",
              "    }\n",
              "\n",
              "    [theme=dark] .colab-df-convert:hover {\n",
              "      background-color: #434B5C;\n",
              "      box-shadow: 0px 1px 3px 1px rgba(0, 0, 0, 0.15);\n",
              "      filter: drop-shadow(0px 1px 2px rgba(0, 0, 0, 0.3));\n",
              "      fill: #FFFFFF;\n",
              "    }\n",
              "  </style>\n",
              "\n",
              "      <script>\n",
              "        const buttonEl =\n",
              "          document.querySelector('#df-069f44d8-7d86-4142-9e5a-ffbf8a3cd29f button.colab-df-convert');\n",
              "        buttonEl.style.display =\n",
              "          google.colab.kernel.accessAllowed ? 'block' : 'none';\n",
              "\n",
              "        async function convertToInteractive(key) {\n",
              "          const element = document.querySelector('#df-069f44d8-7d86-4142-9e5a-ffbf8a3cd29f');\n",
              "          const dataTable =\n",
              "            await google.colab.kernel.invokeFunction('convertToInteractive',\n",
              "                                                     [key], {});\n",
              "          if (!dataTable) return;\n",
              "\n",
              "          const docLinkHtml = 'Like what you see? Visit the ' +\n",
              "            '<a target=\"_blank\" href=https://colab.research.google.com/notebooks/data_table.ipynb>data table notebook</a>'\n",
              "            + ' to learn more about interactive tables.';\n",
              "          element.innerHTML = '';\n",
              "          dataTable['output_type'] = 'display_data';\n",
              "          await google.colab.output.renderOutput(dataTable, element);\n",
              "          const docLink = document.createElement('div');\n",
              "          docLink.innerHTML = docLinkHtml;\n",
              "          element.appendChild(docLink);\n",
              "        }\n",
              "      </script>\n",
              "    </div>\n",
              "  </div>\n",
              "  "
            ]
          },
          "metadata": {},
          "execution_count": 10
        }
      ],
      "source": [
        "visits.head()"
      ]
    },
    {
      "cell_type": "code",
      "execution_count": 11,
      "metadata": {
        "id": "nAl_mAbPoHSJ"
      },
      "outputs": [],
      "source": [
        "# Ahora vamos a remover de `visits` a los usuarios que están repetidos para ambos grupos a partir de la lista de los visitorId que son repetidos y vamos a excluir.\n",
        "orders_temp = orders.query('visitorId in @customer_exclude').reset_index(drop = True)\n",
        "orders_temp.loc[:,'corr'] = -1\n",
        "orders_correcting_info = orders_temp.groupby(['date','group']).agg({'corr':'sum'}).fillna(0).reset_index(drop=False)\n",
        "orders_correcting_info['corr'] = orders_correcting_info['corr'].astype(int)\n",
        "visits_filtred = visits.merge(orders_correcting_info,\n",
        "                              left_on=['date', 'group'],\n",
        "                              right_on=['date', 'group'])\n",
        "visits_filtred['visits'] = visits_filtred['visits'] + visits_filtred['corr'] \n",
        "visits_filtred = visits_filtred.drop('corr', axis=1)"
      ]
    },
    {
      "cell_type": "code",
      "execution_count": 12,
      "metadata": {
        "colab": {
          "base_uri": "https://localhost:8080/",
          "height": 206
        },
        "id": "DJwbQG5e-jK-",
        "outputId": "89227662-e641-44e2-af03-48e562c46d9e"
      },
      "outputs": [
        {
          "output_type": "execute_result",
          "data": {
            "text/plain": [
              "         date group  visits\n",
              "0  2019-08-01     A     718\n",
              "1  2019-08-02     A     618\n",
              "2  2019-08-04     A     712\n",
              "3  2019-08-05     A     753\n",
              "4  2019-08-06     A     664"
            ],
            "text/html": [
              "\n",
              "  <div id=\"df-bcd77a46-eb08-4dd0-8d3e-bf019c11d2d4\">\n",
              "    <div class=\"colab-df-container\">\n",
              "      <div>\n",
              "<style scoped>\n",
              "    .dataframe tbody tr th:only-of-type {\n",
              "        vertical-align: middle;\n",
              "    }\n",
              "\n",
              "    .dataframe tbody tr th {\n",
              "        vertical-align: top;\n",
              "    }\n",
              "\n",
              "    .dataframe thead th {\n",
              "        text-align: right;\n",
              "    }\n",
              "</style>\n",
              "<table border=\"1\" class=\"dataframe\">\n",
              "  <thead>\n",
              "    <tr style=\"text-align: right;\">\n",
              "      <th></th>\n",
              "      <th>date</th>\n",
              "      <th>group</th>\n",
              "      <th>visits</th>\n",
              "    </tr>\n",
              "  </thead>\n",
              "  <tbody>\n",
              "    <tr>\n",
              "      <th>0</th>\n",
              "      <td>2019-08-01</td>\n",
              "      <td>A</td>\n",
              "      <td>718</td>\n",
              "    </tr>\n",
              "    <tr>\n",
              "      <th>1</th>\n",
              "      <td>2019-08-02</td>\n",
              "      <td>A</td>\n",
              "      <td>618</td>\n",
              "    </tr>\n",
              "    <tr>\n",
              "      <th>2</th>\n",
              "      <td>2019-08-04</td>\n",
              "      <td>A</td>\n",
              "      <td>712</td>\n",
              "    </tr>\n",
              "    <tr>\n",
              "      <th>3</th>\n",
              "      <td>2019-08-05</td>\n",
              "      <td>A</td>\n",
              "      <td>753</td>\n",
              "    </tr>\n",
              "    <tr>\n",
              "      <th>4</th>\n",
              "      <td>2019-08-06</td>\n",
              "      <td>A</td>\n",
              "      <td>664</td>\n",
              "    </tr>\n",
              "  </tbody>\n",
              "</table>\n",
              "</div>\n",
              "      <button class=\"colab-df-convert\" onclick=\"convertToInteractive('df-bcd77a46-eb08-4dd0-8d3e-bf019c11d2d4')\"\n",
              "              title=\"Convert this dataframe to an interactive table.\"\n",
              "              style=\"display:none;\">\n",
              "        \n",
              "  <svg xmlns=\"http://www.w3.org/2000/svg\" height=\"24px\"viewBox=\"0 0 24 24\"\n",
              "       width=\"24px\">\n",
              "    <path d=\"M0 0h24v24H0V0z\" fill=\"none\"/>\n",
              "    <path d=\"M18.56 5.44l.94 2.06.94-2.06 2.06-.94-2.06-.94-.94-2.06-.94 2.06-2.06.94zm-11 1L8.5 8.5l.94-2.06 2.06-.94-2.06-.94L8.5 2.5l-.94 2.06-2.06.94zm10 10l.94 2.06.94-2.06 2.06-.94-2.06-.94-.94-2.06-.94 2.06-2.06.94z\"/><path d=\"M17.41 7.96l-1.37-1.37c-.4-.4-.92-.59-1.43-.59-.52 0-1.04.2-1.43.59L10.3 9.45l-7.72 7.72c-.78.78-.78 2.05 0 2.83L4 21.41c.39.39.9.59 1.41.59.51 0 1.02-.2 1.41-.59l7.78-7.78 2.81-2.81c.8-.78.8-2.07 0-2.86zM5.41 20L4 18.59l7.72-7.72 1.47 1.35L5.41 20z\"/>\n",
              "  </svg>\n",
              "      </button>\n",
              "      \n",
              "  <style>\n",
              "    .colab-df-container {\n",
              "      display:flex;\n",
              "      flex-wrap:wrap;\n",
              "      gap: 12px;\n",
              "    }\n",
              "\n",
              "    .colab-df-convert {\n",
              "      background-color: #E8F0FE;\n",
              "      border: none;\n",
              "      border-radius: 50%;\n",
              "      cursor: pointer;\n",
              "      display: none;\n",
              "      fill: #1967D2;\n",
              "      height: 32px;\n",
              "      padding: 0 0 0 0;\n",
              "      width: 32px;\n",
              "    }\n",
              "\n",
              "    .colab-df-convert:hover {\n",
              "      background-color: #E2EBFA;\n",
              "      box-shadow: 0px 1px 2px rgba(60, 64, 67, 0.3), 0px 1px 3px 1px rgba(60, 64, 67, 0.15);\n",
              "      fill: #174EA6;\n",
              "    }\n",
              "\n",
              "    [theme=dark] .colab-df-convert {\n",
              "      background-color: #3B4455;\n",
              "      fill: #D2E3FC;\n",
              "    }\n",
              "\n",
              "    [theme=dark] .colab-df-convert:hover {\n",
              "      background-color: #434B5C;\n",
              "      box-shadow: 0px 1px 3px 1px rgba(0, 0, 0, 0.15);\n",
              "      filter: drop-shadow(0px 1px 2px rgba(0, 0, 0, 0.3));\n",
              "      fill: #FFFFFF;\n",
              "    }\n",
              "  </style>\n",
              "\n",
              "      <script>\n",
              "        const buttonEl =\n",
              "          document.querySelector('#df-bcd77a46-eb08-4dd0-8d3e-bf019c11d2d4 button.colab-df-convert');\n",
              "        buttonEl.style.display =\n",
              "          google.colab.kernel.accessAllowed ? 'block' : 'none';\n",
              "\n",
              "        async function convertToInteractive(key) {\n",
              "          const element = document.querySelector('#df-bcd77a46-eb08-4dd0-8d3e-bf019c11d2d4');\n",
              "          const dataTable =\n",
              "            await google.colab.kernel.invokeFunction('convertToInteractive',\n",
              "                                                     [key], {});\n",
              "          if (!dataTable) return;\n",
              "\n",
              "          const docLinkHtml = 'Like what you see? Visit the ' +\n",
              "            '<a target=\"_blank\" href=https://colab.research.google.com/notebooks/data_table.ipynb>data table notebook</a>'\n",
              "            + ' to learn more about interactive tables.';\n",
              "          element.innerHTML = '';\n",
              "          dataTable['output_type'] = 'display_data';\n",
              "          await google.colab.output.renderOutput(dataTable, element);\n",
              "          const docLink = document.createElement('div');\n",
              "          docLink.innerHTML = docLinkHtml;\n",
              "          element.appendChild(docLink);\n",
              "        }\n",
              "      </script>\n",
              "    </div>\n",
              "  </div>\n",
              "  "
            ]
          },
          "metadata": {},
          "execution_count": 12
        }
      ],
      "source": [
        "visits_filtred.head()"
      ]
    },
    {
      "cell_type": "code",
      "execution_count": 13,
      "metadata": {
        "colab": {
          "base_uri": "https://localhost:8080/"
        },
        "id": "82Vm-HE8-_6S",
        "outputId": "aa509ba7-0670-4723-aca0-9cf4910486e9"
      },
      "outputs": [
        {
          "output_type": "stream",
          "name": "stdout",
          "text": [
            "<class 'pandas.core.frame.DataFrame'>\n",
            "Int64Index: 56 entries, 0 to 55\n",
            "Data columns (total 3 columns):\n",
            " #   Column  Non-Null Count  Dtype \n",
            "---  ------  --------------  ----- \n",
            " 0   date    56 non-null     object\n",
            " 1   group   56 non-null     object\n",
            " 2   visits  56 non-null     int64 \n",
            "dtypes: int64(1), object(2)\n",
            "memory usage: 1.8+ KB\n"
          ]
        }
      ],
      "source": [
        "visits_filtred.info()"
      ]
    },
    {
      "cell_type": "markdown",
      "metadata": {
        "id": "KcqzFSQEXf0m"
      },
      "source": [
        "Hasta ahora no hemos encontrado valores faltantes o duplicados en ninguno de los datasets, cambiamos únicamente por conveniencia el nombre de las columnas (pasamos todo a minúsculas) en el dataframe `hypotheses`. Quitamos los usuarios repetidos en ambos grupos apartir del visitorId para excluirlos de las órdenes y posteriormente de la tabla de las visitas de acuerdo con el grupo y la fecha en la que realizaron la visita. Podemos ver que la columna visits se reduce en 1 unidad y en algunos casos se elimina la fila completamente, esto da un dataframe resultante con el 90% de los datos originales."
      ]
    },
    {
      "cell_type": "markdown",
      "metadata": {
        "id": "xL89a4zJPq9q"
      },
      "source": [
        "## **Parte 1. Priorizar hipótesis**"
      ]
    },
    {
      "cell_type": "markdown",
      "metadata": {
        "id": "aDDLtL7ZYdl7"
      },
      "source": [
        "Vamos a calcular primeramente los factores ICE y RICE. Estos nos van a ayudar a determinar las hipótesis a priorizar y veremos la diferencia en el rating entre ambas debido a que RICE toma en cuenta el alcance que tendrá con respecto de los usuarios o clientes y ICE es más general."
      ]
    },
    {
      "cell_type": "code",
      "execution_count": 14,
      "metadata": {
        "colab": {
          "base_uri": "https://localhost:8080/",
          "height": 332
        },
        "id": "QM6eOlIBVfM6",
        "outputId": "e590b34c-39dd-49d9-ff06-ee608c1a672f"
      },
      "outputs": [
        {
          "output_type": "execute_result",
          "data": {
            "text/plain": [
              "                                                                                                               hypothesis  \\\n",
              "8                                                        Launch a promotion that gives users discounts on their birthdays   \n",
              "0                                             Add two new channels for attracting traffic. This will bring 30% more users   \n",
              "7                                Add a subscription form to all the main pages. This will help you compile a mailing list   \n",
              "6                                 Show banners with current offers and sales on the main page. This will boost conversion   \n",
              "2          Add product recommendation blocks to the store's site. This will increase conversion and average purchase size   \n",
              "1                                                       Launch your own delivery service. This will shorten delivery time   \n",
              "5                                                     Add a customer review page. This will increase the number of orders   \n",
              "3  Change the category structure. This will increase conversion since users will find the products they want more quickly   \n",
              "4                                        Change the background color on the main page. This will increase user engagement   \n",
              "\n",
              "         ICE   RICE  \n",
              "8  16.200000   16.2  \n",
              "0  13.333333   40.0  \n",
              "7  11.200000  112.0  \n",
              "6   8.000000   40.0  \n",
              "2   7.000000   56.0  \n",
              "1   2.000000    4.0  \n",
              "5   1.333333    4.0  \n",
              "3   1.125000    9.0  \n",
              "4   1.000000    3.0  "
            ],
            "text/html": [
              "\n",
              "  <div id=\"df-5f144b82-e374-4402-95af-5564efc8afc2\">\n",
              "    <div class=\"colab-df-container\">\n",
              "      <div>\n",
              "<style scoped>\n",
              "    .dataframe tbody tr th:only-of-type {\n",
              "        vertical-align: middle;\n",
              "    }\n",
              "\n",
              "    .dataframe tbody tr th {\n",
              "        vertical-align: top;\n",
              "    }\n",
              "\n",
              "    .dataframe thead th {\n",
              "        text-align: right;\n",
              "    }\n",
              "</style>\n",
              "<table border=\"1\" class=\"dataframe\">\n",
              "  <thead>\n",
              "    <tr style=\"text-align: right;\">\n",
              "      <th></th>\n",
              "      <th>hypothesis</th>\n",
              "      <th>ICE</th>\n",
              "      <th>RICE</th>\n",
              "    </tr>\n",
              "  </thead>\n",
              "  <tbody>\n",
              "    <tr>\n",
              "      <th>8</th>\n",
              "      <td>Launch a promotion that gives users discounts on their birthdays</td>\n",
              "      <td>16.200000</td>\n",
              "      <td>16.2</td>\n",
              "    </tr>\n",
              "    <tr>\n",
              "      <th>0</th>\n",
              "      <td>Add two new channels for attracting traffic. This will bring 30% more users</td>\n",
              "      <td>13.333333</td>\n",
              "      <td>40.0</td>\n",
              "    </tr>\n",
              "    <tr>\n",
              "      <th>7</th>\n",
              "      <td>Add a subscription form to all the main pages. This will help you compile a mailing list</td>\n",
              "      <td>11.200000</td>\n",
              "      <td>112.0</td>\n",
              "    </tr>\n",
              "    <tr>\n",
              "      <th>6</th>\n",
              "      <td>Show banners with current offers and sales on the main page. This will boost conversion</td>\n",
              "      <td>8.000000</td>\n",
              "      <td>40.0</td>\n",
              "    </tr>\n",
              "    <tr>\n",
              "      <th>2</th>\n",
              "      <td>Add product recommendation blocks to the store's site. This will increase conversion and average purchase size</td>\n",
              "      <td>7.000000</td>\n",
              "      <td>56.0</td>\n",
              "    </tr>\n",
              "    <tr>\n",
              "      <th>1</th>\n",
              "      <td>Launch your own delivery service. This will shorten delivery time</td>\n",
              "      <td>2.000000</td>\n",
              "      <td>4.0</td>\n",
              "    </tr>\n",
              "    <tr>\n",
              "      <th>5</th>\n",
              "      <td>Add a customer review page. This will increase the number of orders</td>\n",
              "      <td>1.333333</td>\n",
              "      <td>4.0</td>\n",
              "    </tr>\n",
              "    <tr>\n",
              "      <th>3</th>\n",
              "      <td>Change the category structure. This will increase conversion since users will find the products they want more quickly</td>\n",
              "      <td>1.125000</td>\n",
              "      <td>9.0</td>\n",
              "    </tr>\n",
              "    <tr>\n",
              "      <th>4</th>\n",
              "      <td>Change the background color on the main page. This will increase user engagement</td>\n",
              "      <td>1.000000</td>\n",
              "      <td>3.0</td>\n",
              "    </tr>\n",
              "  </tbody>\n",
              "</table>\n",
              "</div>\n",
              "      <button class=\"colab-df-convert\" onclick=\"convertToInteractive('df-5f144b82-e374-4402-95af-5564efc8afc2')\"\n",
              "              title=\"Convert this dataframe to an interactive table.\"\n",
              "              style=\"display:none;\">\n",
              "        \n",
              "  <svg xmlns=\"http://www.w3.org/2000/svg\" height=\"24px\"viewBox=\"0 0 24 24\"\n",
              "       width=\"24px\">\n",
              "    <path d=\"M0 0h24v24H0V0z\" fill=\"none\"/>\n",
              "    <path d=\"M18.56 5.44l.94 2.06.94-2.06 2.06-.94-2.06-.94-.94-2.06-.94 2.06-2.06.94zm-11 1L8.5 8.5l.94-2.06 2.06-.94-2.06-.94L8.5 2.5l-.94 2.06-2.06.94zm10 10l.94 2.06.94-2.06 2.06-.94-2.06-.94-.94-2.06-.94 2.06-2.06.94z\"/><path d=\"M17.41 7.96l-1.37-1.37c-.4-.4-.92-.59-1.43-.59-.52 0-1.04.2-1.43.59L10.3 9.45l-7.72 7.72c-.78.78-.78 2.05 0 2.83L4 21.41c.39.39.9.59 1.41.59.51 0 1.02-.2 1.41-.59l7.78-7.78 2.81-2.81c.8-.78.8-2.07 0-2.86zM5.41 20L4 18.59l7.72-7.72 1.47 1.35L5.41 20z\"/>\n",
              "  </svg>\n",
              "      </button>\n",
              "      \n",
              "  <style>\n",
              "    .colab-df-container {\n",
              "      display:flex;\n",
              "      flex-wrap:wrap;\n",
              "      gap: 12px;\n",
              "    }\n",
              "\n",
              "    .colab-df-convert {\n",
              "      background-color: #E8F0FE;\n",
              "      border: none;\n",
              "      border-radius: 50%;\n",
              "      cursor: pointer;\n",
              "      display: none;\n",
              "      fill: #1967D2;\n",
              "      height: 32px;\n",
              "      padding: 0 0 0 0;\n",
              "      width: 32px;\n",
              "    }\n",
              "\n",
              "    .colab-df-convert:hover {\n",
              "      background-color: #E2EBFA;\n",
              "      box-shadow: 0px 1px 2px rgba(60, 64, 67, 0.3), 0px 1px 3px 1px rgba(60, 64, 67, 0.15);\n",
              "      fill: #174EA6;\n",
              "    }\n",
              "\n",
              "    [theme=dark] .colab-df-convert {\n",
              "      background-color: #3B4455;\n",
              "      fill: #D2E3FC;\n",
              "    }\n",
              "\n",
              "    [theme=dark] .colab-df-convert:hover {\n",
              "      background-color: #434B5C;\n",
              "      box-shadow: 0px 1px 3px 1px rgba(0, 0, 0, 0.15);\n",
              "      filter: drop-shadow(0px 1px 2px rgba(0, 0, 0, 0.3));\n",
              "      fill: #FFFFFF;\n",
              "    }\n",
              "  </style>\n",
              "\n",
              "      <script>\n",
              "        const buttonEl =\n",
              "          document.querySelector('#df-5f144b82-e374-4402-95af-5564efc8afc2 button.colab-df-convert');\n",
              "        buttonEl.style.display =\n",
              "          google.colab.kernel.accessAllowed ? 'block' : 'none';\n",
              "\n",
              "        async function convertToInteractive(key) {\n",
              "          const element = document.querySelector('#df-5f144b82-e374-4402-95af-5564efc8afc2');\n",
              "          const dataTable =\n",
              "            await google.colab.kernel.invokeFunction('convertToInteractive',\n",
              "                                                     [key], {});\n",
              "          if (!dataTable) return;\n",
              "\n",
              "          const docLinkHtml = 'Like what you see? Visit the ' +\n",
              "            '<a target=\"_blank\" href=https://colab.research.google.com/notebooks/data_table.ipynb>data table notebook</a>'\n",
              "            + ' to learn more about interactive tables.';\n",
              "          element.innerHTML = '';\n",
              "          dataTable['output_type'] = 'display_data';\n",
              "          await google.colab.output.renderOutput(dataTable, element);\n",
              "          const docLink = document.createElement('div');\n",
              "          docLink.innerHTML = docLinkHtml;\n",
              "          element.appendChild(docLink);\n",
              "        }\n",
              "      </script>\n",
              "    </div>\n",
              "  </div>\n",
              "  "
            ]
          },
          "metadata": {},
          "execution_count": 14
        }
      ],
      "source": [
        "hypotheses['ICE'] = (hypotheses['impact'] * hypotheses['confidence']) / hypotheses['effort']\n",
        "hypotheses['RICE'] = (hypotheses['reach'] * hypotheses['impact'] * hypotheses['confidence']) / hypotheses['effort']\n",
        "hypotheses[['hypothesis', 'ICE', 'RICE']].sort_values(by='ICE', ascending=False)"
      ]
    },
    {
      "cell_type": "markdown",
      "metadata": {
        "id": "RIaxOS3VW8zz"
      },
      "source": [
        "La priorización de las hipótesis de acuerdo con ICE/RICE cambió la posición de las hipótesis algunos lugares de la mayoría de ellas, la #4 quedó en la misma posiciones para ambos (último), lo cuál de entrada nos puede decir que cambiar el color de la página no es muy significativo; por otro lado el CTA y promociones de descuentos podrían ser las mejores ideas para aumentar los ingresos siendo las dos primeras que quedaron en primer lugar para ambos factores de priorización."
      ]
    },
    {
      "cell_type": "markdown",
      "metadata": {
        "id": "nUSmNB5PPuTc"
      },
      "source": [
        "## **Parte 2. Análisis de test A/B**"
      ]
    },
    {
      "cell_type": "code",
      "execution_count": 15,
      "metadata": {
        "colab": {
          "base_uri": "https://localhost:8080/"
        },
        "id": "_OQ1MlIxutHH",
        "outputId": "8cd72d3b-9562-49ab-9ba8-2efdc3d85992"
      },
      "outputs": [
        {
          "output_type": "stream",
          "name": "stderr",
          "text": [
            "<ipython-input-15-1e8cabd8f244>:1: SettingWithCopyWarning: \n",
            "A value is trying to be set on a copy of a slice from a DataFrame.\n",
            "Try using .loc[row_indexer,col_indexer] = value instead\n",
            "\n",
            "See the caveats in the documentation: https://pandas.pydata.org/pandas-docs/stable/user_guide/indexing.html#returning-a-view-versus-a-copy\n",
            "  orders_filtred['date'] = pd.to_datetime(orders_filtred['date'])\n"
          ]
        }
      ],
      "source": [
        "orders_filtred['date'] = pd.to_datetime(orders_filtred['date'])"
      ]
    },
    {
      "cell_type": "code",
      "execution_count": 16,
      "metadata": {
        "id": "sNx6DBPauskW"
      },
      "outputs": [],
      "source": [
        "visits_filtred['date'] = pd.to_datetime(visits_filtred['date'])"
      ]
    },
    {
      "cell_type": "code",
      "execution_count": 17,
      "metadata": {
        "id": "WEyDiq_DvdRR"
      },
      "outputs": [],
      "source": [
        "ordersByUsersA = orders_filtred[orders_filtred['group']=='A'].groupby('visitorId', as_index=False).agg({'transactionId' : pd.Series.nunique})\n",
        "ordersByUsersA.columns = ['visitorId', 'orders']\n",
        "\n",
        "ordersByUsersB = orders_filtred[orders_filtred['group']=='B'].groupby('visitorId', as_index=False).agg({'transactionId' : pd.Series.nunique})\n",
        "ordersByUsersB.columns = ['visitorId', 'orders'] "
      ]
    },
    {
      "cell_type": "code",
      "execution_count": 18,
      "metadata": {
        "id": "2BwDBw0fwjx-"
      },
      "outputs": [],
      "source": [
        "#usersWithManyOrders = pd.concat([ordersByUsersA[ordersByUsersA['orders'] > 4]['visitorId'], ordersByUsersB[ordersByUsersB['orders'] > 4]['visitorId']], axis = 0)\n",
        "#usersWithExpensiveOrders = orders_filtred[orders_filtred['revenue'] > 20000]['visitorId']\n",
        "#abnormalUsers = pd.concat([usersWithManyOrders, usersWithExpensiveOrders], axis = 0).drop_duplicates().sort_values()\n",
        "#print(abnormalUsers.head(5))\n",
        "#print(abnormalUsers.shape)"
      ]
    },
    {
      "cell_type": "markdown",
      "metadata": {
        "id": "wvhii51eUBAr"
      },
      "source": [
        "Ahora vamos a separar los datos acumulados, comenzando por calcular los datos acumulados de las órdenes y visitas diarias, y posteriormente lo separaremos por grupo A y B."
      ]
    },
    {
      "cell_type": "code",
      "execution_count": 19,
      "metadata": {
        "id": "g3rZzmGkGD2n"
      },
      "outputs": [],
      "source": [
        "#  Matriz con valores únicos de parejas fecha-grupo con el método .drop_duplicates()\n",
        "datesGroups = orders_filtred[['date','group']].drop_duplicates()\n",
        "ordersAggregated = datesGroups.apply(lambda x: orders_filtred[np.logical_and(orders_filtred['date'] <= x['date'],\n",
        "                                                                     orders_filtred['group'] == x['group'])].agg({'date' : 'max',\n",
        "                                                                                                          'group' : 'max',\n",
        "                                                                                                          'transactionId' : 'nunique',\n",
        "                                                                                                          'visitorId' : 'nunique',\n",
        "                                                                                                          'revenue' : 'sum'}), axis=1).sort_values(by=['date','group']) # Acumulados agregados sobre los pedidos \n",
        "\n",
        "visitorsAggregated = datesGroups.apply(lambda x: visits_filtred[np.logical_and(visits_filtred['date'] <= x['date'],\n",
        "                                                                         visits_filtred['group'] == x['group'])].agg({'date' : 'max',\n",
        "                                                                                                                'group' : 'max',\n",
        "                                                                                                                'visits' : 'sum'}), axis=1).sort_values(by=['date','group']) # Acumulados agregados sobre los visitantes\n",
        "\n",
        "cumulativeData = ordersAggregated.merge(visitorsAggregated, left_on=['date', 'group'], right_on=['date', 'group']) # Fusión de ambas tablas en una con los datos diarios acumulados de órdenes y visitas únicas por fecha y grupo\n",
        "cumulativeData.columns = ['date', 'group', 'orders', 'buyers', 'revenue', 'visits']"
      ]
    },
    {
      "cell_type": "code",
      "execution_count": 20,
      "metadata": {
        "colab": {
          "base_uri": "https://localhost:8080/",
          "height": 206
        },
        "id": "dxvsuZkOQWqE",
        "outputId": "de6be86f-8eb5-426d-ca43-8c73056d9bc5"
      },
      "outputs": [
        {
          "output_type": "execute_result",
          "data": {
            "text/plain": [
              "        date group  orders  buyers  revenue  visits\n",
              "0 2019-08-01     A      23      19   2266.6     718\n",
              "1 2019-08-01     B      17      17    967.2     709\n",
              "2 2019-08-02     A      42      36   3734.9    1336\n",
              "3 2019-08-02     A      42      36   3734.9    1336\n",
              "4 2019-08-02     B      40      39   3535.3    1289"
            ],
            "text/html": [
              "\n",
              "  <div id=\"df-d0d3918c-dc17-48cb-be9d-02027b307420\">\n",
              "    <div class=\"colab-df-container\">\n",
              "      <div>\n",
              "<style scoped>\n",
              "    .dataframe tbody tr th:only-of-type {\n",
              "        vertical-align: middle;\n",
              "    }\n",
              "\n",
              "    .dataframe tbody tr th {\n",
              "        vertical-align: top;\n",
              "    }\n",
              "\n",
              "    .dataframe thead th {\n",
              "        text-align: right;\n",
              "    }\n",
              "</style>\n",
              "<table border=\"1\" class=\"dataframe\">\n",
              "  <thead>\n",
              "    <tr style=\"text-align: right;\">\n",
              "      <th></th>\n",
              "      <th>date</th>\n",
              "      <th>group</th>\n",
              "      <th>orders</th>\n",
              "      <th>buyers</th>\n",
              "      <th>revenue</th>\n",
              "      <th>visits</th>\n",
              "    </tr>\n",
              "  </thead>\n",
              "  <tbody>\n",
              "    <tr>\n",
              "      <th>0</th>\n",
              "      <td>2019-08-01</td>\n",
              "      <td>A</td>\n",
              "      <td>23</td>\n",
              "      <td>19</td>\n",
              "      <td>2266.6</td>\n",
              "      <td>718</td>\n",
              "    </tr>\n",
              "    <tr>\n",
              "      <th>1</th>\n",
              "      <td>2019-08-01</td>\n",
              "      <td>B</td>\n",
              "      <td>17</td>\n",
              "      <td>17</td>\n",
              "      <td>967.2</td>\n",
              "      <td>709</td>\n",
              "    </tr>\n",
              "    <tr>\n",
              "      <th>2</th>\n",
              "      <td>2019-08-02</td>\n",
              "      <td>A</td>\n",
              "      <td>42</td>\n",
              "      <td>36</td>\n",
              "      <td>3734.9</td>\n",
              "      <td>1336</td>\n",
              "    </tr>\n",
              "    <tr>\n",
              "      <th>3</th>\n",
              "      <td>2019-08-02</td>\n",
              "      <td>A</td>\n",
              "      <td>42</td>\n",
              "      <td>36</td>\n",
              "      <td>3734.9</td>\n",
              "      <td>1336</td>\n",
              "    </tr>\n",
              "    <tr>\n",
              "      <th>4</th>\n",
              "      <td>2019-08-02</td>\n",
              "      <td>B</td>\n",
              "      <td>40</td>\n",
              "      <td>39</td>\n",
              "      <td>3535.3</td>\n",
              "      <td>1289</td>\n",
              "    </tr>\n",
              "  </tbody>\n",
              "</table>\n",
              "</div>\n",
              "      <button class=\"colab-df-convert\" onclick=\"convertToInteractive('df-d0d3918c-dc17-48cb-be9d-02027b307420')\"\n",
              "              title=\"Convert this dataframe to an interactive table.\"\n",
              "              style=\"display:none;\">\n",
              "        \n",
              "  <svg xmlns=\"http://www.w3.org/2000/svg\" height=\"24px\"viewBox=\"0 0 24 24\"\n",
              "       width=\"24px\">\n",
              "    <path d=\"M0 0h24v24H0V0z\" fill=\"none\"/>\n",
              "    <path d=\"M18.56 5.44l.94 2.06.94-2.06 2.06-.94-2.06-.94-.94-2.06-.94 2.06-2.06.94zm-11 1L8.5 8.5l.94-2.06 2.06-.94-2.06-.94L8.5 2.5l-.94 2.06-2.06.94zm10 10l.94 2.06.94-2.06 2.06-.94-2.06-.94-.94-2.06-.94 2.06-2.06.94z\"/><path d=\"M17.41 7.96l-1.37-1.37c-.4-.4-.92-.59-1.43-.59-.52 0-1.04.2-1.43.59L10.3 9.45l-7.72 7.72c-.78.78-.78 2.05 0 2.83L4 21.41c.39.39.9.59 1.41.59.51 0 1.02-.2 1.41-.59l7.78-7.78 2.81-2.81c.8-.78.8-2.07 0-2.86zM5.41 20L4 18.59l7.72-7.72 1.47 1.35L5.41 20z\"/>\n",
              "  </svg>\n",
              "      </button>\n",
              "      \n",
              "  <style>\n",
              "    .colab-df-container {\n",
              "      display:flex;\n",
              "      flex-wrap:wrap;\n",
              "      gap: 12px;\n",
              "    }\n",
              "\n",
              "    .colab-df-convert {\n",
              "      background-color: #E8F0FE;\n",
              "      border: none;\n",
              "      border-radius: 50%;\n",
              "      cursor: pointer;\n",
              "      display: none;\n",
              "      fill: #1967D2;\n",
              "      height: 32px;\n",
              "      padding: 0 0 0 0;\n",
              "      width: 32px;\n",
              "    }\n",
              "\n",
              "    .colab-df-convert:hover {\n",
              "      background-color: #E2EBFA;\n",
              "      box-shadow: 0px 1px 2px rgba(60, 64, 67, 0.3), 0px 1px 3px 1px rgba(60, 64, 67, 0.15);\n",
              "      fill: #174EA6;\n",
              "    }\n",
              "\n",
              "    [theme=dark] .colab-df-convert {\n",
              "      background-color: #3B4455;\n",
              "      fill: #D2E3FC;\n",
              "    }\n",
              "\n",
              "    [theme=dark] .colab-df-convert:hover {\n",
              "      background-color: #434B5C;\n",
              "      box-shadow: 0px 1px 3px 1px rgba(0, 0, 0, 0.15);\n",
              "      filter: drop-shadow(0px 1px 2px rgba(0, 0, 0, 0.3));\n",
              "      fill: #FFFFFF;\n",
              "    }\n",
              "  </style>\n",
              "\n",
              "      <script>\n",
              "        const buttonEl =\n",
              "          document.querySelector('#df-d0d3918c-dc17-48cb-be9d-02027b307420 button.colab-df-convert');\n",
              "        buttonEl.style.display =\n",
              "          google.colab.kernel.accessAllowed ? 'block' : 'none';\n",
              "\n",
              "        async function convertToInteractive(key) {\n",
              "          const element = document.querySelector('#df-d0d3918c-dc17-48cb-be9d-02027b307420');\n",
              "          const dataTable =\n",
              "            await google.colab.kernel.invokeFunction('convertToInteractive',\n",
              "                                                     [key], {});\n",
              "          if (!dataTable) return;\n",
              "\n",
              "          const docLinkHtml = 'Like what you see? Visit the ' +\n",
              "            '<a target=\"_blank\" href=https://colab.research.google.com/notebooks/data_table.ipynb>data table notebook</a>'\n",
              "            + ' to learn more about interactive tables.';\n",
              "          element.innerHTML = '';\n",
              "          dataTable['output_type'] = 'display_data';\n",
              "          await google.colab.output.renderOutput(dataTable, element);\n",
              "          const docLink = document.createElement('div');\n",
              "          docLink.innerHTML = docLinkHtml;\n",
              "          element.appendChild(docLink);\n",
              "        }\n",
              "      </script>\n",
              "    </div>\n",
              "  </div>\n",
              "  "
            ]
          },
          "metadata": {},
          "execution_count": 20
        }
      ],
      "source": [
        "cumulativeData.head()"
      ]
    },
    {
      "cell_type": "code",
      "execution_count": 21,
      "metadata": {
        "colab": {
          "base_uri": "https://localhost:8080/"
        },
        "id": "8hVaafd9UjRv",
        "outputId": "ca4d808a-8a78-4479-b846-b991ec62f1d2"
      },
      "outputs": [
        {
          "output_type": "stream",
          "name": "stderr",
          "text": [
            "<ipython-input-21-a1a313bb2d41>:1: FutureWarning: Treating datetime data as categorical rather than numeric in `.describe` is deprecated and will be removed in a future version of pandas. Specify `datetime_is_numeric=True` to silence this warning and adopt the future behavior now.\n",
            "  cumulativeData['date'].describe()\n"
          ]
        },
        {
          "output_type": "execute_result",
          "data": {
            "text/plain": [
              "count                      62\n",
              "unique                     31\n",
              "top       2019-08-18 00:00:00\n",
              "freq                        4\n",
              "first     2019-08-01 00:00:00\n",
              "last      2019-08-31 00:00:00\n",
              "Name: date, dtype: object"
            ]
          },
          "metadata": {},
          "execution_count": 21
        }
      ],
      "source": [
        "cumulativeData['date'].describe()"
      ]
    },
    {
      "cell_type": "code",
      "execution_count": 22,
      "metadata": {
        "id": "UTZ_LpeMSl-I"
      },
      "outputs": [],
      "source": [
        "# Pedidos acumulados e ingresos acumulados por grupo\n",
        "cumulativeRevenueA = cumulativeData[cumulativeData['group']=='A'][['date','revenue', 'orders']]\n",
        "cumulativeRevenueB = cumulativeData[cumulativeData['group']=='B'][['date','revenue', 'orders']]"
      ]
    },
    {
      "cell_type": "markdown",
      "metadata": {
        "id": "BMaw2Du5rMsq"
      },
      "source": [
        "Hsta ahora lo que hemos hecho es agrupar los dataframes de las órdenes y de las visitas por grupo para poder realizar los análisis por separado. Esto se hizo a partir de los dataframes resultantes de la filtración de usuarios, removimos aquellos que habian participado en ambos grupos y sólo dejamos usuarios únicos para órdenes y visitas, tanto para el grupo A como para el grupo B."
      ]
    },
    {
      "cell_type": "markdown",
      "metadata": {
        "id": "Abvs1rX_eYWw"
      },
      "source": [
        "### **1. Ingreso acumulado por grupo**"
      ]
    },
    {
      "cell_type": "code",
      "execution_count": 23,
      "metadata": {
        "colab": {
          "base_uri": "https://localhost:8080/",
          "height": 555
        },
        "id": "kYg4h91OPxOS",
        "outputId": "062acc27-f7a6-41df-c490-9076d37420fb"
      },
      "outputs": [
        {
          "output_type": "display_data",
          "data": {
            "text/plain": [
              "<Figure size 1080x576 with 1 Axes>"
            ],
            "image/png": "[encoded data removed]"
          },
          "metadata": {
            "needs_background": "light"
          }
        }
      ],
      "source": [
        "orders_filtred.pivot_table(index='date', values='revenue', columns='group', aggfunc='sum').cumsum().plot(figsize=(15, 8))\n",
        "plt.xlabel('Fecha de la compra', fontsize=14)\n",
        "plt.ylabel('Número de órdenes', fontsize=14)\n",
        "plt.title('Órdenes acumuladas por grupo y por fecha', fontsize=14)\n",
        "plt.xticks= (orders_filtred['date'])"
      ]
    },
    {
      "cell_type": "markdown",
      "metadata": {
        "id": "5_S5D732roTC"
      },
      "source": [
        "En esta gráfica de datos acumulados por grupo, podemos observar que conforme avanza el mes de Agosto 2019, las ventas van subiendo para ambos grupos de forma consistente. El grupo B tuvo un mayor crecimiento en ingresos después de la primera mitad del mes (18 de Agosto) en donde se observa que tuvo un ingreso mayor hasta por 2000 unidades."
      ]
    },
    {
      "cell_type": "markdown",
      "metadata": {
        "id": "J_N6Flyl8YBc"
      },
      "source": [
        "### **2. Tamaño de pedido promedio acumulado por grupo**\n"
      ]
    },
    {
      "cell_type": "code",
      "execution_count": 24,
      "metadata": {
        "colab": {
          "base_uri": "https://localhost:8080/",
          "height": 535
        },
        "id": "xrdtap-Let7f",
        "outputId": "619cfc5a-d7a9-4edb-badb-ed028981ac17"
      },
      "outputs": [
        {
          "output_type": "execute_result",
          "data": {
            "text/plain": [
              "Text(0.5, 1.0, 'Tamaño de órdenes promedio acumulado por grupo y fecha')"
            ]
          },
          "metadata": {},
          "execution_count": 24
        },
        {
          "output_type": "display_data",
          "data": {
            "text/plain": [
              "<Figure size 1080x576 with 1 Axes>"
            ],
            "image/png": "[encoded data removed]"
          },
          "metadata": {
            "needs_background": "light"
          }
        }
      ],
      "source": [
        "figure(figsize=(15,8))\n",
        "plt.plot(cumulativeRevenueA['date'],cumulativeRevenueA['revenue']/cumulativeRevenueA['orders'], label ='A')\n",
        "plt.plot(cumulativeRevenueB['date'],cumulativeRevenueB['revenue']/cumulativeRevenueB['orders'], label='B')\n",
        "plt.legend()\n",
        "plt.xlabel('Fecha de la compra', fontsize=14)\n",
        "plt.ylabel('Tamaño de los pedidos', fontsize=14)\n",
        "plt.title('Tamaño de órdenes promedio acumulado por grupo y fecha', fontsize=14)"
      ]
    },
    {
      "cell_type": "markdown",
      "metadata": {
        "id": "KdpVz5bDsMpg"
      },
      "source": [
        "Para el tamaño de las órdenes en ambos grupos, podemos ver que el mismo aumento conforme avanzó el mes. El grupo B nuevamente fue el que mayor crecimiento tuvo durante la prueba y tuvo órdenes más grandes que generaron mayores ingresos."
      ]
    },
    {
      "cell_type": "markdown",
      "metadata": {
        "id": "ngls4_BU8inn"
      },
      "source": [
        "### **3. Diferencia relativa en el tamaño de pedido promedio acumulado para el grupo B vs grupo A**"
      ]
    },
    {
      "cell_type": "code",
      "execution_count": 25,
      "metadata": {
        "colab": {
          "base_uri": "https://localhost:8080/",
          "height": 535
        },
        "id": "fjYAGlXRqRsB",
        "outputId": "572fdf10-f7e6-4141-a93a-17883730bcc4"
      },
      "outputs": [
        {
          "output_type": "execute_result",
          "data": {
            "text/plain": [
              "Text(0.5, 1.0, 'Diferencia relativa en tamaño de compra')"
            ]
          },
          "metadata": {},
          "execution_count": 25
        },
        {
          "output_type": "display_data",
          "data": {
            "text/plain": [
              "<Figure size 1080x576 with 1 Axes>"
            ],
            "image/png": "[encoded data removed]"
          },
          "metadata": {
            "needs_background": "light"
          }
        }
      ],
      "source": [
        "mergedCumulativeRevenue = cumulativeRevenueA.merge(cumulativeRevenueB, left_on='date', right_on='date', how='left', suffixes=['A', 'B'])\n",
        "\n",
        "figure(figsize=(15,8))\n",
        "plt.plot(mergedCumulativeRevenue['date'], (mergedCumulativeRevenue['revenueB']/mergedCumulativeRevenue['ordersB'])/(mergedCumulativeRevenue['revenueA']/mergedCumulativeRevenue['ordersA'])-1)\n",
        "\n",
        "plt.axhline(y=0, color='black', linestyle='--')\n",
        "plt.xlabel('Fecha de la compra', fontsize=14)\n",
        "plt.ylabel('Tamaño relativo de la compra', fontsize=14)\n",
        "plt.ylim(top=0.6)\n",
        "plt.title('Diferencia relativa en tamaño de compra', fontsize=14)\n",
        "#plt.legend()"
      ]
    },
    {
      "cell_type": "markdown",
      "metadata": {
        "id": "8yY2NRIitC_p"
      },
      "source": [
        "En esta gráfica sobre la diferencia relativa podemos ver que hay saltos considerables en la gráfica, lo cual significa que hay ciertas órdenes que tienen tamaños muy grandes, mayores a lo esperado que podrían ser comrpas anormales."
      ]
    },
    {
      "cell_type": "markdown",
      "metadata": {
        "id": "cLY77mGX8vS5"
      },
      "source": [
        "### **4. Tasa de conversión de cada grupo como la relación entre los pedidos y el número de visitas de cada día. (tasas de conversión diarias de los dos grupos)**\n"
      ]
    },
    {
      "cell_type": "code",
      "execution_count": 26,
      "metadata": {
        "colab": {
          "base_uri": "https://localhost:8080/",
          "height": 535
        },
        "id": "xEMCR2ah89Mj",
        "outputId": "01cf8cc4-8ab3-4d34-f007-731cd1557315"
      },
      "outputs": [
        {
          "output_type": "execute_result",
          "data": {
            "text/plain": [
              "Text(0.5, 1.0, 'VAriación de la tasa de conversión por grupos y por fecha')"
            ]
          },
          "metadata": {},
          "execution_count": 26
        },
        {
          "output_type": "display_data",
          "data": {
            "text/plain": [
              "<Figure size 1080x576 with 1 Axes>"
            ],
            "image/png": "[encoded data removed]"
          },
          "metadata": {
            "needs_background": "light"
          }
        }
      ],
      "source": [
        "cumulativeData['conversion'] = cumulativeData['orders']/cumulativeData['visits']\n",
        "\n",
        "# Selección de los datos por grupo\n",
        "cumulativeDataA = cumulativeData[cumulativeData['group']=='A']\n",
        "cumulativeDataB = cumulativeData[cumulativeData['group']=='B']\n",
        "\n",
        "figure(figsize=(15,8))\n",
        "plt.plot(cumulativeDataA['date'], cumulativeDataA['conversion'], label='A')\n",
        "plt.plot(cumulativeDataB['date'], cumulativeDataB['conversion'], label='B')\n",
        "plt.legend()\n",
        "plt.xlabel('Fecha de la compra', fontsize=14)\n",
        "plt.ylabel('Tasa de conversión', fontsize=14)\n",
        "plt.title('VAriación de la tasa de conversión por grupos y por fecha', fontsize=14)"
      ]
    },
    {
      "cell_type": "markdown",
      "metadata": {
        "id": "nxeRSoTttYtv"
      },
      "source": [
        "La tasa de conversión fluctuó bastante al principio de la prueba para ambos grupos, podemos ver que al final de la prueba, ambos grupos estabilizaron su tasa de conversión, y donde una vez más el grupo B es el que mayor conversión a comparación del grupo A."
      ]
    },
    {
      "cell_type": "code",
      "execution_count": 27,
      "metadata": {
        "colab": {
          "base_uri": "https://localhost:8080/",
          "height": 206
        },
        "id": "NVQ24R-YVRyq",
        "outputId": "9e199278-28b9-4c4c-d9b7-c2bddd12cc4d"
      },
      "outputs": [
        {
          "output_type": "execute_result",
          "data": {
            "text/plain": [
              "         date group  n_visiters\n",
              "0  2019-08-15     B        9550\n",
              "7  2019-08-15     A        8389\n",
              "45 2019-08-16     A        8389\n",
              "47 2019-08-16     B        9961\n",
              "55 2019-08-01     A         718"
            ],
            "text/html": [
              "\n",
              "  <div id=\"df-412fc545-6289-4c06-9d00-390e9efbf315\">\n",
              "    <div class=\"colab-df-container\">\n",
              "      <div>\n",
              "<style scoped>\n",
              "    .dataframe tbody tr th:only-of-type {\n",
              "        vertical-align: middle;\n",
              "    }\n",
              "\n",
              "    .dataframe tbody tr th {\n",
              "        vertical-align: top;\n",
              "    }\n",
              "\n",
              "    .dataframe thead th {\n",
              "        text-align: right;\n",
              "    }\n",
              "</style>\n",
              "<table border=\"1\" class=\"dataframe\">\n",
              "  <thead>\n",
              "    <tr style=\"text-align: right;\">\n",
              "      <th></th>\n",
              "      <th>date</th>\n",
              "      <th>group</th>\n",
              "      <th>n_visiters</th>\n",
              "    </tr>\n",
              "  </thead>\n",
              "  <tbody>\n",
              "    <tr>\n",
              "      <th>0</th>\n",
              "      <td>2019-08-15</td>\n",
              "      <td>B</td>\n",
              "      <td>9550</td>\n",
              "    </tr>\n",
              "    <tr>\n",
              "      <th>7</th>\n",
              "      <td>2019-08-15</td>\n",
              "      <td>A</td>\n",
              "      <td>8389</td>\n",
              "    </tr>\n",
              "    <tr>\n",
              "      <th>45</th>\n",
              "      <td>2019-08-16</td>\n",
              "      <td>A</td>\n",
              "      <td>8389</td>\n",
              "    </tr>\n",
              "    <tr>\n",
              "      <th>47</th>\n",
              "      <td>2019-08-16</td>\n",
              "      <td>B</td>\n",
              "      <td>9961</td>\n",
              "    </tr>\n",
              "    <tr>\n",
              "      <th>55</th>\n",
              "      <td>2019-08-01</td>\n",
              "      <td>A</td>\n",
              "      <td>718</td>\n",
              "    </tr>\n",
              "  </tbody>\n",
              "</table>\n",
              "</div>\n",
              "      <button class=\"colab-df-convert\" onclick=\"convertToInteractive('df-412fc545-6289-4c06-9d00-390e9efbf315')\"\n",
              "              title=\"Convert this dataframe to an interactive table.\"\n",
              "              style=\"display:none;\">\n",
              "        \n",
              "  <svg xmlns=\"http://www.w3.org/2000/svg\" height=\"24px\"viewBox=\"0 0 24 24\"\n",
              "       width=\"24px\">\n",
              "    <path d=\"M0 0h24v24H0V0z\" fill=\"none\"/>\n",
              "    <path d=\"M18.56 5.44l.94 2.06.94-2.06 2.06-.94-2.06-.94-.94-2.06-.94 2.06-2.06.94zm-11 1L8.5 8.5l.94-2.06 2.06-.94-2.06-.94L8.5 2.5l-.94 2.06-2.06.94zm10 10l.94 2.06.94-2.06 2.06-.94-2.06-.94-.94-2.06-.94 2.06-2.06.94z\"/><path d=\"M17.41 7.96l-1.37-1.37c-.4-.4-.92-.59-1.43-.59-.52 0-1.04.2-1.43.59L10.3 9.45l-7.72 7.72c-.78.78-.78 2.05 0 2.83L4 21.41c.39.39.9.59 1.41.59.51 0 1.02-.2 1.41-.59l7.78-7.78 2.81-2.81c.8-.78.8-2.07 0-2.86zM5.41 20L4 18.59l7.72-7.72 1.47 1.35L5.41 20z\"/>\n",
              "  </svg>\n",
              "      </button>\n",
              "      \n",
              "  <style>\n",
              "    .colab-df-container {\n",
              "      display:flex;\n",
              "      flex-wrap:wrap;\n",
              "      gap: 12px;\n",
              "    }\n",
              "\n",
              "    .colab-df-convert {\n",
              "      background-color: #E8F0FE;\n",
              "      border: none;\n",
              "      border-radius: 50%;\n",
              "      cursor: pointer;\n",
              "      display: none;\n",
              "      fill: #1967D2;\n",
              "      height: 32px;\n",
              "      padding: 0 0 0 0;\n",
              "      width: 32px;\n",
              "    }\n",
              "\n",
              "    .colab-df-convert:hover {\n",
              "      background-color: #E2EBFA;\n",
              "      box-shadow: 0px 1px 2px rgba(60, 64, 67, 0.3), 0px 1px 3px 1px rgba(60, 64, 67, 0.15);\n",
              "      fill: #174EA6;\n",
              "    }\n",
              "\n",
              "    [theme=dark] .colab-df-convert {\n",
              "      background-color: #3B4455;\n",
              "      fill: #D2E3FC;\n",
              "    }\n",
              "\n",
              "    [theme=dark] .colab-df-convert:hover {\n",
              "      background-color: #434B5C;\n",
              "      box-shadow: 0px 1px 3px 1px rgba(0, 0, 0, 0.15);\n",
              "      filter: drop-shadow(0px 1px 2px rgba(0, 0, 0, 0.3));\n",
              "      fill: #FFFFFF;\n",
              "    }\n",
              "  </style>\n",
              "\n",
              "      <script>\n",
              "        const buttonEl =\n",
              "          document.querySelector('#df-412fc545-6289-4c06-9d00-390e9efbf315 button.colab-df-convert');\n",
              "        buttonEl.style.display =\n",
              "          google.colab.kernel.accessAllowed ? 'block' : 'none';\n",
              "\n",
              "        async function convertToInteractive(key) {\n",
              "          const element = document.querySelector('#df-412fc545-6289-4c06-9d00-390e9efbf315');\n",
              "          const dataTable =\n",
              "            await google.colab.kernel.invokeFunction('convertToInteractive',\n",
              "                                                     [key], {});\n",
              "          if (!dataTable) return;\n",
              "\n",
              "          const docLinkHtml = 'Like what you see? Visit the ' +\n",
              "            '<a target=\"_blank\" href=https://colab.research.google.com/notebooks/data_table.ipynb>data table notebook</a>'\n",
              "            + ' to learn more about interactive tables.';\n",
              "          element.innerHTML = '';\n",
              "          dataTable['output_type'] = 'display_data';\n",
              "          await google.colab.output.renderOutput(dataTable, element);\n",
              "          const docLink = document.createElement('div');\n",
              "          docLink.innerHTML = docLinkHtml;\n",
              "          element.appendChild(docLink);\n",
              "        }\n",
              "      </script>\n",
              "    </div>\n",
              "  </div>\n",
              "  "
            ]
          },
          "metadata": {},
          "execution_count": 27
        }
      ],
      "source": [
        "# Número de visitas\n",
        "datesGroups['n_visiters'] = ( \n",
        "    datesGroups.\n",
        "    apply(lambda x: visits_filtred[np.logical_and(visits_filtred['date'] <= x['date'],\n",
        "                                                  visits_filtred['group'] == x['group'])]\n",
        " ['visits'].sum(),\n",
        "          axis = 1)\n",
        ") \n",
        "datesGroups.head()"
      ]
    },
    {
      "cell_type": "code",
      "execution_count": 28,
      "metadata": {
        "colab": {
          "base_uri": "https://localhost:8080/",
          "height": 535
        },
        "id": "LxDTbw3ctwWA",
        "outputId": "8f8b1b5c-9f20-4c34-bb61-d5170709e856"
      },
      "outputs": [
        {
          "output_type": "execute_result",
          "data": {
            "text/plain": [
              "Text(0.5, 1.0, 'Variación del número de visitas por grupo')"
            ]
          },
          "metadata": {},
          "execution_count": 28
        },
        {
          "output_type": "display_data",
          "data": {
            "text/plain": [
              "<Figure size 1080x576 with 1 Axes>"
            ],
            "image/png": "[encoded data removed]"
          },
          "metadata": {
            "needs_background": "light"
          }
        }
      ],
      "source": [
        "figure(figsize=(15,8))\n",
        "\n",
        "x = datesGroups[datesGroups['group']=='A']['date']\n",
        "plt.bar(x, datesGroups[datesGroups['group']=='A']['n_visiters'], label='A', alpha=0.3)\n",
        "plt.bar(x, datesGroups[datesGroups['group']=='B']['n_visiters'], label='B', alpha= 0.5)\n",
        "plt.legend()\n",
        "plt.xlabel('Fecha de la compra', fontsize=14)\n",
        "plt.ylabel('Número de visitas', fontsize=14)\n",
        "plt.title('Variación del número de visitas por grupo', fontsize=14)\n",
        "# Cómo le pongo los xticks para que sea la fecha en lugar de los números?"
      ]
    },
    {
      "cell_type": "markdown",
      "metadata": {
        "id": "bvZ3E2B_yMFa"
      },
      "source": [
        "En esta gráfica podemos ver que ambos grupos tienen muchas visitas y que estas van aumentando conforme avanza la prubea."
      ]
    },
    {
      "cell_type": "code",
      "execution_count": 29,
      "metadata": {
        "colab": {
          "base_uri": "https://localhost:8080/",
          "height": 535
        },
        "id": "0KSYqklT9Eq7",
        "outputId": "a6c88bbb-4611-4937-e656-edb398ae2ccd"
      },
      "outputs": [
        {
          "output_type": "execute_result",
          "data": {
            "text/plain": [
              "Text(0.5, 1.0, 'Diferencia relativa para las tasas de conversión acumuladas')"
            ]
          },
          "metadata": {},
          "execution_count": 29
        },
        {
          "output_type": "display_data",
          "data": {
            "text/plain": [
              "<Figure size 1080x576 with 1 Axes>"
            ],
            "image/png": "[encoded data removed]"
          },
          "metadata": {
            "needs_background": "light"
          }
        }
      ],
      "source": [
        "mergedCumulativeConversions = cumulativeDataA[['date','conversion']].merge(cumulativeDataB[['date','conversion']], left_on='date', right_on='date', how='left', suffixes=['A', 'B'])\n",
        "\n",
        "figure(figsize=(15,8))\n",
        "plt.plot(mergedCumulativeConversions['date'], mergedCumulativeConversions['conversionB']/mergedCumulativeConversions['conversionA']-1)\n",
        "\n",
        "plt.axhline(y=0, color='black', linestyle='--')\n",
        "plt.axhline(y=-0.1, color='grey', linestyle='--')\n",
        "plt.xlabel('Fecha de la compra', fontsize=14)\n",
        "plt.ylabel('Conversión', fontsize=14)\n",
        "plt.title('Diferencia relativa para las tasas de conversión acumuladas', fontsize=14)"
      ]
    },
    {
      "cell_type": "markdown",
      "metadata": {
        "id": "uUzjFY_D89vR"
      },
      "source": [
        "### **5. Dispersión del número de pedidos por usuario**\n"
      ]
    },
    {
      "cell_type": "code",
      "execution_count": 30,
      "metadata": {
        "colab": {
          "base_uri": "https://localhost:8080/",
          "height": 238
        },
        "id": "3zPH6yk99OzU",
        "outputId": "2de62a24-594c-4c6d-db49-40bde701bfd8"
      },
      "outputs": [
        {
          "output_type": "execute_result",
          "data": {
            "text/plain": [
              "           count_orders\n",
              "visitorId              \n",
              "5114589               1\n",
              "6958315               1\n",
              "11685486              1\n",
              "39475350              1\n",
              "47206413              1"
            ],
            "text/html": [
              "\n",
              "  <div id=\"df-c6be1017-d458-40a2-b14a-2a404c9add73\">\n",
              "    <div class=\"colab-df-container\">\n",
              "      <div>\n",
              "<style scoped>\n",
              "    .dataframe tbody tr th:only-of-type {\n",
              "        vertical-align: middle;\n",
              "    }\n",
              "\n",
              "    .dataframe tbody tr th {\n",
              "        vertical-align: top;\n",
              "    }\n",
              "\n",
              "    .dataframe thead th {\n",
              "        text-align: right;\n",
              "    }\n",
              "</style>\n",
              "<table border=\"1\" class=\"dataframe\">\n",
              "  <thead>\n",
              "    <tr style=\"text-align: right;\">\n",
              "      <th></th>\n",
              "      <th>count_orders</th>\n",
              "    </tr>\n",
              "    <tr>\n",
              "      <th>visitorId</th>\n",
              "      <th></th>\n",
              "    </tr>\n",
              "  </thead>\n",
              "  <tbody>\n",
              "    <tr>\n",
              "      <th>5114589</th>\n",
              "      <td>1</td>\n",
              "    </tr>\n",
              "    <tr>\n",
              "      <th>6958315</th>\n",
              "      <td>1</td>\n",
              "    </tr>\n",
              "    <tr>\n",
              "      <th>11685486</th>\n",
              "      <td>1</td>\n",
              "    </tr>\n",
              "    <tr>\n",
              "      <th>39475350</th>\n",
              "      <td>1</td>\n",
              "    </tr>\n",
              "    <tr>\n",
              "      <th>47206413</th>\n",
              "      <td>1</td>\n",
              "    </tr>\n",
              "  </tbody>\n",
              "</table>\n",
              "</div>\n",
              "      <button class=\"colab-df-convert\" onclick=\"convertToInteractive('df-c6be1017-d458-40a2-b14a-2a404c9add73')\"\n",
              "              title=\"Convert this dataframe to an interactive table.\"\n",
              "              style=\"display:none;\">\n",
              "        \n",
              "  <svg xmlns=\"http://www.w3.org/2000/svg\" height=\"24px\"viewBox=\"0 0 24 24\"\n",
              "       width=\"24px\">\n",
              "    <path d=\"M0 0h24v24H0V0z\" fill=\"none\"/>\n",
              "    <path d=\"M18.56 5.44l.94 2.06.94-2.06 2.06-.94-2.06-.94-.94-2.06-.94 2.06-2.06.94zm-11 1L8.5 8.5l.94-2.06 2.06-.94-2.06-.94L8.5 2.5l-.94 2.06-2.06.94zm10 10l.94 2.06.94-2.06 2.06-.94-2.06-.94-.94-2.06-.94 2.06-2.06.94z\"/><path d=\"M17.41 7.96l-1.37-1.37c-.4-.4-.92-.59-1.43-.59-.52 0-1.04.2-1.43.59L10.3 9.45l-7.72 7.72c-.78.78-.78 2.05 0 2.83L4 21.41c.39.39.9.59 1.41.59.51 0 1.02-.2 1.41-.59l7.78-7.78 2.81-2.81c.8-.78.8-2.07 0-2.86zM5.41 20L4 18.59l7.72-7.72 1.47 1.35L5.41 20z\"/>\n",
              "  </svg>\n",
              "      </button>\n",
              "      \n",
              "  <style>\n",
              "    .colab-df-container {\n",
              "      display:flex;\n",
              "      flex-wrap:wrap;\n",
              "      gap: 12px;\n",
              "    }\n",
              "\n",
              "    .colab-df-convert {\n",
              "      background-color: #E8F0FE;\n",
              "      border: none;\n",
              "      border-radius: 50%;\n",
              "      cursor: pointer;\n",
              "      display: none;\n",
              "      fill: #1967D2;\n",
              "      height: 32px;\n",
              "      padding: 0 0 0 0;\n",
              "      width: 32px;\n",
              "    }\n",
              "\n",
              "    .colab-df-convert:hover {\n",
              "      background-color: #E2EBFA;\n",
              "      box-shadow: 0px 1px 2px rgba(60, 64, 67, 0.3), 0px 1px 3px 1px rgba(60, 64, 67, 0.15);\n",
              "      fill: #174EA6;\n",
              "    }\n",
              "\n",
              "    [theme=dark] .colab-df-convert {\n",
              "      background-color: #3B4455;\n",
              "      fill: #D2E3FC;\n",
              "    }\n",
              "\n",
              "    [theme=dark] .colab-df-convert:hover {\n",
              "      background-color: #434B5C;\n",
              "      box-shadow: 0px 1px 3px 1px rgba(0, 0, 0, 0.15);\n",
              "      filter: drop-shadow(0px 1px 2px rgba(0, 0, 0, 0.3));\n",
              "      fill: #FFFFFF;\n",
              "    }\n",
              "  </style>\n",
              "\n",
              "      <script>\n",
              "        const buttonEl =\n",
              "          document.querySelector('#df-c6be1017-d458-40a2-b14a-2a404c9add73 button.colab-df-convert');\n",
              "        buttonEl.style.display =\n",
              "          google.colab.kernel.accessAllowed ? 'block' : 'none';\n",
              "\n",
              "        async function convertToInteractive(key) {\n",
              "          const element = document.querySelector('#df-c6be1017-d458-40a2-b14a-2a404c9add73');\n",
              "          const dataTable =\n",
              "            await google.colab.kernel.invokeFunction('convertToInteractive',\n",
              "                                                     [key], {});\n",
              "          if (!dataTable) return;\n",
              "\n",
              "          const docLinkHtml = 'Like what you see? Visit the ' +\n",
              "            '<a target=\"_blank\" href=https://colab.research.google.com/notebooks/data_table.ipynb>data table notebook</a>'\n",
              "            + ' to learn more about interactive tables.';\n",
              "          element.innerHTML = '';\n",
              "          dataTable['output_type'] = 'display_data';\n",
              "          await google.colab.output.renderOutput(dataTable, element);\n",
              "          const docLink = document.createElement('div');\n",
              "          docLink.innerHTML = docLinkHtml;\n",
              "          element.appendChild(docLink);\n",
              "        }\n",
              "      </script>\n",
              "    </div>\n",
              "  </div>\n",
              "  "
            ]
          },
          "metadata": {},
          "execution_count": 30
        }
      ],
      "source": [
        "number_orders_per_buyer = orders_filtred.groupby('visitorId').agg({'transactionId':'nunique'})\n",
        "number_orders_per_buyer = ( \n",
        "    number_orders_per_buyer.rename(columns = {'transactionId':'count_orders'})\n",
        ")\n",
        "number_orders_per_buyer.head()"
      ]
    },
    {
      "cell_type": "code",
      "execution_count": 31,
      "metadata": {
        "colab": {
          "base_uri": "https://localhost:8080/"
        },
        "id": "vH_GoTVDc9mP",
        "outputId": "e5edcf29-3c34-46e7-c80c-8bca5e3c7c8c"
      },
      "outputs": [
        {
          "output_type": "stream",
          "name": "stdout",
          "text": [
            "96.30% de los usuarios han realizado una sola orden\n"
          ]
        }
      ],
      "source": [
        "share_one_order = (\n",
        "    len(number_orders_per_buyer[number_orders_per_buyer['count_orders'] == 1])\n",
        "    /\n",
        "    len(number_orders_per_buyer)\n",
        ")\n",
        "print('{:.2%} de los usuarios han realizado una sola orden'.format(share_one_order))"
      ]
    },
    {
      "cell_type": "code",
      "execution_count": 32,
      "metadata": {
        "colab": {
          "base_uri": "https://localhost:8080/",
          "height": 409
        },
        "id": "BUjqKnwfdHmC",
        "outputId": "47a3c928-3646-417c-99d7-6190f015264b"
      },
      "outputs": [
        {
          "output_type": "display_data",
          "data": {
            "text/plain": [
              "<Figure size 1080x432 with 1 Axes>"
            ],
            "image/png": "[encoded data removed]"
          },
          "metadata": {
            "needs_background": "light"
          }
        }
      ],
      "source": [
        "fig, ax = plt.subplots(figsize=(15, 6))\n",
        "plt.hist(number_orders_per_buyer['count_orders']) \n",
        "ax.set_xlabel('Number orders', fontsize=14)\n",
        "ax.set_ylabel('Number users', fontsize=14)\n",
        "ax.set_title('Number of orders per user', fontsize=14)\n",
        "\n",
        "plt.show()"
      ]
    },
    {
      "cell_type": "code",
      "execution_count": 33,
      "metadata": {
        "colab": {
          "base_uri": "https://localhost:8080/",
          "height": 535
        },
        "id": "V-U7Eo3NaP2P",
        "outputId": "cc5eca93-0a2a-4d08-eeab-5edef9fcaaa2"
      },
      "outputs": [
        {
          "output_type": "execute_result",
          "data": {
            "text/plain": [
              "Text(0.5, 1.0, 'Número de órdenes por usuario')"
            ]
          },
          "metadata": {},
          "execution_count": 33
        },
        {
          "output_type": "display_data",
          "data": {
            "text/plain": [
              "<Figure size 1080x576 with 1 Axes>"
            ],
            "image/png": "[encoded data removed]"
          },
          "metadata": {
            "needs_background": "light"
          }
        }
      ],
      "source": [
        "x_values = pd.Series(range(0, len(number_orders_per_buyer['count_orders'])))\n",
        "figure(figsize=(15,8))\n",
        "plt.scatter(x_values, number_orders_per_buyer['count_orders']) \n",
        "plt.xlabel('Número de usuarios', fontsize=14)\n",
        "plt.ylabel('Npumero de órdenes', fontsize=14)\n",
        "plt.title('Número de órdenes por usuario', fontsize=14)"
      ]
    },
    {
      "cell_type": "markdown",
      "metadata": {
        "id": "uOzQBf5Wf4-g"
      },
      "source": [
        "En ambas gráficas podemos observar la distribución y dispersión de las órdenes relaizadas por los usaurios. La barra del histograma y la línea que se forma en el scatter muestran que la mayor proporción de los usuarios han realizado una sola compra, y hay un 3.7% restante que ha realizado más de una órden."
      ]
    },
    {
      "cell_type": "markdown",
      "metadata": {
        "id": "1bZq94EA9GbS"
      },
      "source": [
        "### **6. Percentiles 95 y 99 para el número de pedidos por usuario (punto en el cual un punto de datos se convierte en una anomalía)**\n"
      ]
    },
    {
      "cell_type": "code",
      "execution_count": 34,
      "metadata": {
        "colab": {
          "base_uri": "https://localhost:8080/"
        },
        "id": "4pSEJJyB3fhP",
        "outputId": "d147f285-de3b-4e47-e51d-172240eaa539"
      },
      "outputs": [
        {
          "output_type": "stream",
          "name": "stdout",
          "text": [
            "5% de los usuarios realizaron más de 1.0 órdenes\n",
            "1% de los usuarios realizaron más de 2.0 órdenes\n"
          ]
        }
      ],
      "source": [
        "percentile_dict = [95, 99]\n",
        "percentile = np.percentile(number_orders_per_buyer['count_orders'], percentile_dict)\n",
        "\n",
        "print('{:}% de los usuarios realizaron más de {:.1f} órdenes'.format(100 - percentile_dict[0],percentile[0]))\n",
        "print('{:}% de los usuarios realizaron más de {:.1f} órdenes'.format(100 - percentile_dict[1],percentile[1]))"
      ]
    },
    {
      "cell_type": "markdown",
      "metadata": {
        "id": "E-Qvbenq4iQy"
      },
      "source": [
        "Más de 2 órdenes se considera anormal, mientras que 1 y 2 son los límites de compras."
      ]
    },
    {
      "cell_type": "code",
      "execution_count": 35,
      "metadata": {
        "colab": {
          "base_uri": "https://localhost:8080/",
          "height": 363
        },
        "id": "JnReOjW8bmkn",
        "outputId": "0401ff75-4f81-472b-f477-6b165e204989"
      },
      "outputs": [
        {
          "output_type": "execute_result",
          "data": {
            "text/plain": [
              "      visitorId  orders\n",
              "908  3967698036       3\n",
              "55    249864742       3\n",
              "478  2108163459       3\n",
              "687  2988190573       3\n",
              "890  3908431265       3\n",
              "138   611059232       3\n",
              "632  2742574263       3\n",
              "157   678354126       2\n",
              "323  1404560065       2\n",
              "452  1985475298       2"
            ],
            "text/html": [
              "\n",
              "  <div id=\"df-ce68cb99-6d27-4fa6-82d5-ec281a4f0e0e\">\n",
              "    <div class=\"colab-df-container\">\n",
              "      <div>\n",
              "<style scoped>\n",
              "    .dataframe tbody tr th:only-of-type {\n",
              "        vertical-align: middle;\n",
              "    }\n",
              "\n",
              "    .dataframe tbody tr th {\n",
              "        vertical-align: top;\n",
              "    }\n",
              "\n",
              "    .dataframe thead th {\n",
              "        text-align: right;\n",
              "    }\n",
              "</style>\n",
              "<table border=\"1\" class=\"dataframe\">\n",
              "  <thead>\n",
              "    <tr style=\"text-align: right;\">\n",
              "      <th></th>\n",
              "      <th>visitorId</th>\n",
              "      <th>orders</th>\n",
              "    </tr>\n",
              "  </thead>\n",
              "  <tbody>\n",
              "    <tr>\n",
              "      <th>908</th>\n",
              "      <td>3967698036</td>\n",
              "      <td>3</td>\n",
              "    </tr>\n",
              "    <tr>\n",
              "      <th>55</th>\n",
              "      <td>249864742</td>\n",
              "      <td>3</td>\n",
              "    </tr>\n",
              "    <tr>\n",
              "      <th>478</th>\n",
              "      <td>2108163459</td>\n",
              "      <td>3</td>\n",
              "    </tr>\n",
              "    <tr>\n",
              "      <th>687</th>\n",
              "      <td>2988190573</td>\n",
              "      <td>3</td>\n",
              "    </tr>\n",
              "    <tr>\n",
              "      <th>890</th>\n",
              "      <td>3908431265</td>\n",
              "      <td>3</td>\n",
              "    </tr>\n",
              "    <tr>\n",
              "      <th>138</th>\n",
              "      <td>611059232</td>\n",
              "      <td>3</td>\n",
              "    </tr>\n",
              "    <tr>\n",
              "      <th>632</th>\n",
              "      <td>2742574263</td>\n",
              "      <td>3</td>\n",
              "    </tr>\n",
              "    <tr>\n",
              "      <th>157</th>\n",
              "      <td>678354126</td>\n",
              "      <td>2</td>\n",
              "    </tr>\n",
              "    <tr>\n",
              "      <th>323</th>\n",
              "      <td>1404560065</td>\n",
              "      <td>2</td>\n",
              "    </tr>\n",
              "    <tr>\n",
              "      <th>452</th>\n",
              "      <td>1985475298</td>\n",
              "      <td>2</td>\n",
              "    </tr>\n",
              "  </tbody>\n",
              "</table>\n",
              "</div>\n",
              "      <button class=\"colab-df-convert\" onclick=\"convertToInteractive('df-ce68cb99-6d27-4fa6-82d5-ec281a4f0e0e')\"\n",
              "              title=\"Convert this dataframe to an interactive table.\"\n",
              "              style=\"display:none;\">\n",
              "        \n",
              "  <svg xmlns=\"http://www.w3.org/2000/svg\" height=\"24px\"viewBox=\"0 0 24 24\"\n",
              "       width=\"24px\">\n",
              "    <path d=\"M0 0h24v24H0V0z\" fill=\"none\"/>\n",
              "    <path d=\"M18.56 5.44l.94 2.06.94-2.06 2.06-.94-2.06-.94-.94-2.06-.94 2.06-2.06.94zm-11 1L8.5 8.5l.94-2.06 2.06-.94-2.06-.94L8.5 2.5l-.94 2.06-2.06.94zm10 10l.94 2.06.94-2.06 2.06-.94-2.06-.94-.94-2.06-.94 2.06-2.06.94z\"/><path d=\"M17.41 7.96l-1.37-1.37c-.4-.4-.92-.59-1.43-.59-.52 0-1.04.2-1.43.59L10.3 9.45l-7.72 7.72c-.78.78-.78 2.05 0 2.83L4 21.41c.39.39.9.59 1.41.59.51 0 1.02-.2 1.41-.59l7.78-7.78 2.81-2.81c.8-.78.8-2.07 0-2.86zM5.41 20L4 18.59l7.72-7.72 1.47 1.35L5.41 20z\"/>\n",
              "  </svg>\n",
              "      </button>\n",
              "      \n",
              "  <style>\n",
              "    .colab-df-container {\n",
              "      display:flex;\n",
              "      flex-wrap:wrap;\n",
              "      gap: 12px;\n",
              "    }\n",
              "\n",
              "    .colab-df-convert {\n",
              "      background-color: #E8F0FE;\n",
              "      border: none;\n",
              "      border-radius: 50%;\n",
              "      cursor: pointer;\n",
              "      display: none;\n",
              "      fill: #1967D2;\n",
              "      height: 32px;\n",
              "      padding: 0 0 0 0;\n",
              "      width: 32px;\n",
              "    }\n",
              "\n",
              "    .colab-df-convert:hover {\n",
              "      background-color: #E2EBFA;\n",
              "      box-shadow: 0px 1px 2px rgba(60, 64, 67, 0.3), 0px 1px 3px 1px rgba(60, 64, 67, 0.15);\n",
              "      fill: #174EA6;\n",
              "    }\n",
              "\n",
              "    [theme=dark] .colab-df-convert {\n",
              "      background-color: #3B4455;\n",
              "      fill: #D2E3FC;\n",
              "    }\n",
              "\n",
              "    [theme=dark] .colab-df-convert:hover {\n",
              "      background-color: #434B5C;\n",
              "      box-shadow: 0px 1px 3px 1px rgba(0, 0, 0, 0.15);\n",
              "      filter: drop-shadow(0px 1px 2px rgba(0, 0, 0, 0.3));\n",
              "      fill: #FFFFFF;\n",
              "    }\n",
              "  </style>\n",
              "\n",
              "      <script>\n",
              "        const buttonEl =\n",
              "          document.querySelector('#df-ce68cb99-6d27-4fa6-82d5-ec281a4f0e0e button.colab-df-convert');\n",
              "        buttonEl.style.display =\n",
              "          google.colab.kernel.accessAllowed ? 'block' : 'none';\n",
              "\n",
              "        async function convertToInteractive(key) {\n",
              "          const element = document.querySelector('#df-ce68cb99-6d27-4fa6-82d5-ec281a4f0e0e');\n",
              "          const dataTable =\n",
              "            await google.colab.kernel.invokeFunction('convertToInteractive',\n",
              "                                                     [key], {});\n",
              "          if (!dataTable) return;\n",
              "\n",
              "          const docLinkHtml = 'Like what you see? Visit the ' +\n",
              "            '<a target=\"_blank\" href=https://colab.research.google.com/notebooks/data_table.ipynb>data table notebook</a>'\n",
              "            + ' to learn more about interactive tables.';\n",
              "          element.innerHTML = '';\n",
              "          dataTable['output_type'] = 'display_data';\n",
              "          await google.colab.output.renderOutput(dataTable, element);\n",
              "          const docLink = document.createElement('div');\n",
              "          docLink.innerHTML = docLinkHtml;\n",
              "          element.appendChild(docLink);\n",
              "        }\n",
              "      </script>\n",
              "    </div>\n",
              "  </div>\n",
              "  "
            ]
          },
          "metadata": {},
          "execution_count": 35
        }
      ],
      "source": [
        "ordersByUsers = (\n",
        "    orders_filtred.drop(['group', 'revenue', 'date'], axis=1)\n",
        "    .groupby('visitorId', as_index=False)\n",
        "    .agg({'transactionId': pd.Series.nunique})\n",
        ")\n",
        "\n",
        "ordersByUsers.columns = ['visitorId', 'orders']\n",
        "ordersByUsers.sort_values(by='orders', ascending=False).head(10)"
      ]
    },
    {
      "cell_type": "markdown",
      "metadata": {
        "id": "YfSI3Hik9QX1"
      },
      "source": [
        "### **7. Gráfico de dispersión de los precios de los pedidos** \n"
      ]
    },
    {
      "cell_type": "code",
      "execution_count": 36,
      "metadata": {
        "colab": {
          "base_uri": "https://localhost:8080/",
          "height": 521
        },
        "id": "98yPX4WU9cKV",
        "outputId": "98bda4be-348e-4d69-c69d-4ebb5f199a15"
      },
      "outputs": [
        {
          "output_type": "display_data",
          "data": {
            "text/plain": [
              "<Figure size 1080x576 with 1 Axes>"
            ],
            "image/png": "[encoded data removed]"
          },
          "metadata": {
            "needs_background": "light"
          }
        }
      ],
      "source": [
        "x_values = pd.Series(range(0,len(orders_filtred)))\n",
        "figure(figsize=(15, 8))\n",
        "\n",
        "plt.scatter(x_values, orders_filtred['revenue'], color = 'royalblue') \n",
        "plt.ylabel('Price', fontsize=14)       \n",
        "plt.xlabel('Orders', fontsize=14)\n",
        "plt.title('All orders', fontsize=18)\n",
        "plt.show()"
      ]
    },
    {
      "cell_type": "code",
      "execution_count": 37,
      "metadata": {
        "colab": {
          "base_uri": "https://localhost:8080/",
          "height": 521
        },
        "id": "XflkPHuG9iiu",
        "outputId": "3adc7873-f34f-4dbe-d592-23feb9d3e790"
      },
      "outputs": [
        {
          "output_type": "display_data",
          "data": {
            "text/plain": [
              "<Figure size 1080x576 with 1 Axes>"
            ],
            "image/png": "[encoded data removed]"
          },
          "metadata": {
            "needs_background": "light"
          }
        }
      ],
      "source": [
        "x_values = pd.Series(range(0,len(orders_filtred)))\n",
        "figure(figsize=(15, 8))\n",
        "\n",
        "plt.scatter(x_values, orders_filtred['revenue']) \n",
        "plt.ylabel('Precios', fontsize=14)  \n",
        "plt.xlabel('Órdenes', fontsize=14)\n",
        "plt.title('Price [0-2000]', fontsize=18)\n",
        "plt.ylim([0, 2000])\n",
        "plt.show()"
      ]
    },
    {
      "cell_type": "markdown",
      "metadata": {
        "id": "FWjCoN7l9crW"
      },
      "source": [
        "### **8. Percentiles 95 y 99 de los precios de los pedidos (punto en el cual un punto de datos se convierte en una anomalía)**\n"
      ]
    },
    {
      "cell_type": "code",
      "execution_count": 38,
      "metadata": {
        "colab": {
          "base_uri": "https://localhost:8080/"
        },
        "id": "XfE9U5KuaowT",
        "outputId": "fd05551b-884f-46e2-ed86-6bee324507cd"
      },
      "outputs": [
        {
          "output_type": "stream",
          "name": "stdout",
          "text": [
            "5% de los usuarios realizaron órdenes de no más de 414.3 dólares\n",
            "1% de los usuarios realizaron órdenes de no más de 830.3 dólares\n"
          ]
        }
      ],
      "source": [
        "percentile_dict = [95, 99]\n",
        "percentile = np.percentile(orders_filtred['revenue'], percentile_dict)\n",
        "print('{:}% de los usuarios realizaron órdenes de no más de {:.1f} dólares'.format(100 - percentile_dict[0],percentile[0]))\n",
        "print('{:}% de los usuarios realizaron órdenes de no más de {:.1f} dólares'.format(100 - percentile_dict[1],percentile[1])) # Aquí calculando los del dataframe"
      ]
    },
    {
      "cell_type": "markdown",
      "metadata": {
        "id": "SLNiY0AWYwQV"
      },
      "source": [
        "Podríamos decir que mas de $500 es una anomalía en las órdenes que realizan los usuarios."
      ]
    },
    {
      "cell_type": "markdown",
      "metadata": {
        "id": "5vRNsmf39jD3"
      },
      "source": [
        "### **9. Significancia estadística de la diferencia en la conversión entre los grupos utilizando los datos en bruto**\n"
      ]
    },
    {
      "cell_type": "markdown",
      "metadata": {
        "id": "-SwngI4fZBJU"
      },
      "source": [
        "En esta sección vamos a realizar una prueba de Mann-Whitney, vamos a comparar los datos brutos del grupo A y el grupo B para determinar si hay diferencias de conversión. Utilizaremos el valor de alpha en 0.05.\n",
        "\n",
        "* Hipótesis nula: No hay diferencia de conversión entre los grupos\n",
        "* Hipótesis alternativa: Sí hay diferencia de conversión entre los grupos."
      ]
    },
    {
      "cell_type": "code",
      "execution_count": 39,
      "metadata": {
        "colab": {
          "base_uri": "https://localhost:8080/",
          "height": 238
        },
        "id": "Iq0LDbT39prx",
        "outputId": "bb9a52cc-41df-4100-bf84-469a3b3f41eb"
      },
      "outputs": [
        {
          "output_type": "execute_result",
          "data": {
            "text/plain": [
              "           orders\n",
              "visitorId        \n",
              "11685486        1\n",
              "54447517        1\n",
              "66685450        1\n",
              "78758296        1\n",
              "85103373        1"
            ],
            "text/html": [
              "\n",
              "  <div id=\"df-247abb6b-9064-48c0-b065-cc186753eb7c\">\n",
              "    <div class=\"colab-df-container\">\n",
              "      <div>\n",
              "<style scoped>\n",
              "    .dataframe tbody tr th:only-of-type {\n",
              "        vertical-align: middle;\n",
              "    }\n",
              "\n",
              "    .dataframe tbody tr th {\n",
              "        vertical-align: top;\n",
              "    }\n",
              "\n",
              "    .dataframe thead th {\n",
              "        text-align: right;\n",
              "    }\n",
              "</style>\n",
              "<table border=\"1\" class=\"dataframe\">\n",
              "  <thead>\n",
              "    <tr style=\"text-align: right;\">\n",
              "      <th></th>\n",
              "      <th>orders</th>\n",
              "    </tr>\n",
              "    <tr>\n",
              "      <th>visitorId</th>\n",
              "      <th></th>\n",
              "    </tr>\n",
              "  </thead>\n",
              "  <tbody>\n",
              "    <tr>\n",
              "      <th>11685486</th>\n",
              "      <td>1</td>\n",
              "    </tr>\n",
              "    <tr>\n",
              "      <th>54447517</th>\n",
              "      <td>1</td>\n",
              "    </tr>\n",
              "    <tr>\n",
              "      <th>66685450</th>\n",
              "      <td>1</td>\n",
              "    </tr>\n",
              "    <tr>\n",
              "      <th>78758296</th>\n",
              "      <td>1</td>\n",
              "    </tr>\n",
              "    <tr>\n",
              "      <th>85103373</th>\n",
              "      <td>1</td>\n",
              "    </tr>\n",
              "  </tbody>\n",
              "</table>\n",
              "</div>\n",
              "      <button class=\"colab-df-convert\" onclick=\"convertToInteractive('df-247abb6b-9064-48c0-b065-cc186753eb7c')\"\n",
              "              title=\"Convert this dataframe to an interactive table.\"\n",
              "              style=\"display:none;\">\n",
              "        \n",
              "  <svg xmlns=\"http://www.w3.org/2000/svg\" height=\"24px\"viewBox=\"0 0 24 24\"\n",
              "       width=\"24px\">\n",
              "    <path d=\"M0 0h24v24H0V0z\" fill=\"none\"/>\n",
              "    <path d=\"M18.56 5.44l.94 2.06.94-2.06 2.06-.94-2.06-.94-.94-2.06-.94 2.06-2.06.94zm-11 1L8.5 8.5l.94-2.06 2.06-.94-2.06-.94L8.5 2.5l-.94 2.06-2.06.94zm10 10l.94 2.06.94-2.06 2.06-.94-2.06-.94-.94-2.06-.94 2.06-2.06.94z\"/><path d=\"M17.41 7.96l-1.37-1.37c-.4-.4-.92-.59-1.43-.59-.52 0-1.04.2-1.43.59L10.3 9.45l-7.72 7.72c-.78.78-.78 2.05 0 2.83L4 21.41c.39.39.9.59 1.41.59.51 0 1.02-.2 1.41-.59l7.78-7.78 2.81-2.81c.8-.78.8-2.07 0-2.86zM5.41 20L4 18.59l7.72-7.72 1.47 1.35L5.41 20z\"/>\n",
              "  </svg>\n",
              "      </button>\n",
              "      \n",
              "  <style>\n",
              "    .colab-df-container {\n",
              "      display:flex;\n",
              "      flex-wrap:wrap;\n",
              "      gap: 12px;\n",
              "    }\n",
              "\n",
              "    .colab-df-convert {\n",
              "      background-color: #E8F0FE;\n",
              "      border: none;\n",
              "      border-radius: 50%;\n",
              "      cursor: pointer;\n",
              "      display: none;\n",
              "      fill: #1967D2;\n",
              "      height: 32px;\n",
              "      padding: 0 0 0 0;\n",
              "      width: 32px;\n",
              "    }\n",
              "\n",
              "    .colab-df-convert:hover {\n",
              "      background-color: #E2EBFA;\n",
              "      box-shadow: 0px 1px 2px rgba(60, 64, 67, 0.3), 0px 1px 3px 1px rgba(60, 64, 67, 0.15);\n",
              "      fill: #174EA6;\n",
              "    }\n",
              "\n",
              "    [theme=dark] .colab-df-convert {\n",
              "      background-color: #3B4455;\n",
              "      fill: #D2E3FC;\n",
              "    }\n",
              "\n",
              "    [theme=dark] .colab-df-convert:hover {\n",
              "      background-color: #434B5C;\n",
              "      box-shadow: 0px 1px 3px 1px rgba(0, 0, 0, 0.15);\n",
              "      filter: drop-shadow(0px 1px 2px rgba(0, 0, 0, 0.3));\n",
              "      fill: #FFFFFF;\n",
              "    }\n",
              "  </style>\n",
              "\n",
              "      <script>\n",
              "        const buttonEl =\n",
              "          document.querySelector('#df-247abb6b-9064-48c0-b065-cc186753eb7c button.colab-df-convert');\n",
              "        buttonEl.style.display =\n",
              "          google.colab.kernel.accessAllowed ? 'block' : 'none';\n",
              "\n",
              "        async function convertToInteractive(key) {\n",
              "          const element = document.querySelector('#df-247abb6b-9064-48c0-b065-cc186753eb7c');\n",
              "          const dataTable =\n",
              "            await google.colab.kernel.invokeFunction('convertToInteractive',\n",
              "                                                     [key], {});\n",
              "          if (!dataTable) return;\n",
              "\n",
              "          const docLinkHtml = 'Like what you see? Visit the ' +\n",
              "            '<a target=\"_blank\" href=https://colab.research.google.com/notebooks/data_table.ipynb>data table notebook</a>'\n",
              "            + ' to learn more about interactive tables.';\n",
              "          element.innerHTML = '';\n",
              "          dataTable['output_type'] = 'display_data';\n",
              "          await google.colab.output.renderOutput(dataTable, element);\n",
              "          const docLink = document.createElement('div');\n",
              "          docLink.innerHTML = docLinkHtml;\n",
              "          element.appendChild(docLink);\n",
              "        }\n",
              "      </script>\n",
              "    </div>\n",
              "  </div>\n",
              "  "
            ]
          },
          "metadata": {},
          "execution_count": 39
        }
      ],
      "source": [
        "ordersByUsers_A = ( \n",
        "    orders_filtred[orders_filtred['group'] == 'A'].\n",
        "    groupby('visitorId').\n",
        "    agg({'transactionId':'nunique'})\n",
        ")\n",
        "\n",
        "ordersByUsers_A = ordersByUsers_A.rename(columns = {'transactionId':'orders'})\n",
        "ordersByUsers_A.head()"
      ]
    },
    {
      "cell_type": "code",
      "execution_count": 40,
      "metadata": {
        "colab": {
          "base_uri": "https://localhost:8080/",
          "height": 238
        },
        "id": "pdLX1O0XfZzl",
        "outputId": "5695bcd0-c654-4867-828e-37b1985a3a29"
      },
      "outputs": [
        {
          "output_type": "execute_result",
          "data": {
            "text/plain": [
              "           orders\n",
              "visitorId        \n",
              "5114589         1\n",
              "6958315         1\n",
              "39475350        1\n",
              "47206413        1\n",
              "48147722        1"
            ],
            "text/html": [
              "\n",
              "  <div id=\"df-4071e645-215f-4245-95ba-65d5ed0c1aaa\">\n",
              "    <div class=\"colab-df-container\">\n",
              "      <div>\n",
              "<style scoped>\n",
              "    .dataframe tbody tr th:only-of-type {\n",
              "        vertical-align: middle;\n",
              "    }\n",
              "\n",
              "    .dataframe tbody tr th {\n",
              "        vertical-align: top;\n",
              "    }\n",
              "\n",
              "    .dataframe thead th {\n",
              "        text-align: right;\n",
              "    }\n",
              "</style>\n",
              "<table border=\"1\" class=\"dataframe\">\n",
              "  <thead>\n",
              "    <tr style=\"text-align: right;\">\n",
              "      <th></th>\n",
              "      <th>orders</th>\n",
              "    </tr>\n",
              "    <tr>\n",
              "      <th>visitorId</th>\n",
              "      <th></th>\n",
              "    </tr>\n",
              "  </thead>\n",
              "  <tbody>\n",
              "    <tr>\n",
              "      <th>5114589</th>\n",
              "      <td>1</td>\n",
              "    </tr>\n",
              "    <tr>\n",
              "      <th>6958315</th>\n",
              "      <td>1</td>\n",
              "    </tr>\n",
              "    <tr>\n",
              "      <th>39475350</th>\n",
              "      <td>1</td>\n",
              "    </tr>\n",
              "    <tr>\n",
              "      <th>47206413</th>\n",
              "      <td>1</td>\n",
              "    </tr>\n",
              "    <tr>\n",
              "      <th>48147722</th>\n",
              "      <td>1</td>\n",
              "    </tr>\n",
              "  </tbody>\n",
              "</table>\n",
              "</div>\n",
              "      <button class=\"colab-df-convert\" onclick=\"convertToInteractive('df-4071e645-215f-4245-95ba-65d5ed0c1aaa')\"\n",
              "              title=\"Convert this dataframe to an interactive table.\"\n",
              "              style=\"display:none;\">\n",
              "        \n",
              "  <svg xmlns=\"http://www.w3.org/2000/svg\" height=\"24px\"viewBox=\"0 0 24 24\"\n",
              "       width=\"24px\">\n",
              "    <path d=\"M0 0h24v24H0V0z\" fill=\"none\"/>\n",
              "    <path d=\"M18.56 5.44l.94 2.06.94-2.06 2.06-.94-2.06-.94-.94-2.06-.94 2.06-2.06.94zm-11 1L8.5 8.5l.94-2.06 2.06-.94-2.06-.94L8.5 2.5l-.94 2.06-2.06.94zm10 10l.94 2.06.94-2.06 2.06-.94-2.06-.94-.94-2.06-.94 2.06-2.06.94z\"/><path d=\"M17.41 7.96l-1.37-1.37c-.4-.4-.92-.59-1.43-.59-.52 0-1.04.2-1.43.59L10.3 9.45l-7.72 7.72c-.78.78-.78 2.05 0 2.83L4 21.41c.39.39.9.59 1.41.59.51 0 1.02-.2 1.41-.59l7.78-7.78 2.81-2.81c.8-.78.8-2.07 0-2.86zM5.41 20L4 18.59l7.72-7.72 1.47 1.35L5.41 20z\"/>\n",
              "  </svg>\n",
              "      </button>\n",
              "      \n",
              "  <style>\n",
              "    .colab-df-container {\n",
              "      display:flex;\n",
              "      flex-wrap:wrap;\n",
              "      gap: 12px;\n",
              "    }\n",
              "\n",
              "    .colab-df-convert {\n",
              "      background-color: #E8F0FE;\n",
              "      border: none;\n",
              "      border-radius: 50%;\n",
              "      cursor: pointer;\n",
              "      display: none;\n",
              "      fill: #1967D2;\n",
              "      height: 32px;\n",
              "      padding: 0 0 0 0;\n",
              "      width: 32px;\n",
              "    }\n",
              "\n",
              "    .colab-df-convert:hover {\n",
              "      background-color: #E2EBFA;\n",
              "      box-shadow: 0px 1px 2px rgba(60, 64, 67, 0.3), 0px 1px 3px 1px rgba(60, 64, 67, 0.15);\n",
              "      fill: #174EA6;\n",
              "    }\n",
              "\n",
              "    [theme=dark] .colab-df-convert {\n",
              "      background-color: #3B4455;\n",
              "      fill: #D2E3FC;\n",
              "    }\n",
              "\n",
              "    [theme=dark] .colab-df-convert:hover {\n",
              "      background-color: #434B5C;\n",
              "      box-shadow: 0px 1px 3px 1px rgba(0, 0, 0, 0.15);\n",
              "      filter: drop-shadow(0px 1px 2px rgba(0, 0, 0, 0.3));\n",
              "      fill: #FFFFFF;\n",
              "    }\n",
              "  </style>\n",
              "\n",
              "      <script>\n",
              "        const buttonEl =\n",
              "          document.querySelector('#df-4071e645-215f-4245-95ba-65d5ed0c1aaa button.colab-df-convert');\n",
              "        buttonEl.style.display =\n",
              "          google.colab.kernel.accessAllowed ? 'block' : 'none';\n",
              "\n",
              "        async function convertToInteractive(key) {\n",
              "          const element = document.querySelector('#df-4071e645-215f-4245-95ba-65d5ed0c1aaa');\n",
              "          const dataTable =\n",
              "            await google.colab.kernel.invokeFunction('convertToInteractive',\n",
              "                                                     [key], {});\n",
              "          if (!dataTable) return;\n",
              "\n",
              "          const docLinkHtml = 'Like what you see? Visit the ' +\n",
              "            '<a target=\"_blank\" href=https://colab.research.google.com/notebooks/data_table.ipynb>data table notebook</a>'\n",
              "            + ' to learn more about interactive tables.';\n",
              "          element.innerHTML = '';\n",
              "          dataTable['output_type'] = 'display_data';\n",
              "          await google.colab.output.renderOutput(dataTable, element);\n",
              "          const docLink = document.createElement('div');\n",
              "          docLink.innerHTML = docLinkHtml;\n",
              "          element.appendChild(docLink);\n",
              "        }\n",
              "      </script>\n",
              "    </div>\n",
              "  </div>\n",
              "  "
            ]
          },
          "metadata": {},
          "execution_count": 40
        }
      ],
      "source": [
        "ordersByUsers_B = ( \n",
        "    orders_filtred[orders_filtred['group'] == 'B'].\n",
        "    groupby('visitorId').\n",
        "    agg({'transactionId':'nunique'})\n",
        ")\n",
        "ordersByUsers_B = ordersByUsers_B.rename(columns = {'transactionId':'orders'})\n",
        "ordersByUsers_B.head()"
      ]
    },
    {
      "cell_type": "code",
      "execution_count": 41,
      "metadata": {
        "colab": {
          "base_uri": "https://localhost:8080/"
        },
        "id": "h6FnPikgftjT",
        "outputId": "af24d856-1f93-4bbe-82ef-76dd542eb115"
      },
      "outputs": [
        {
          "output_type": "execute_result",
          "data": {
            "text/plain": [
              "11685486    1\n",
              "54447517    1\n",
              "66685450    1\n",
              "78758296    1\n",
              "85103373    1\n",
              "Name: orders, dtype: int64"
            ]
          },
          "metadata": {},
          "execution_count": 41
        }
      ],
      "source": [
        "sampleA = (\n",
        "    pd.concat([ordersByUsers_A['orders'],\n",
        "               pd.Series(0, \n",
        "                         index = np.arange(visits_filtred[visits_filtred['group'] == 'A']\n",
        "                                           ['visits']\n",
        "                                           .sum() \n",
        "                                           -\n",
        "                                           len(ordersByUsers_A['orders'])),\n",
        "                         name = 'orders')],\n",
        "              axis=0)\n",
        ")\n",
        "sampleA.head()"
      ]
    },
    {
      "cell_type": "code",
      "execution_count": 42,
      "metadata": {
        "colab": {
          "base_uri": "https://localhost:8080/"
        },
        "id": "baqSQ7MxfrQr",
        "outputId": "7e025c15-d26b-4ae2-e20c-952950120663"
      },
      "outputs": [
        {
          "output_type": "execute_result",
          "data": {
            "text/plain": [
              "5114589     1\n",
              "6958315     1\n",
              "39475350    1\n",
              "47206413    1\n",
              "48147722    1\n",
              "Name: orders, dtype: int64"
            ]
          },
          "metadata": {},
          "execution_count": 42
        }
      ],
      "source": [
        "sampleB = (\n",
        "    pd.concat([ordersByUsers_B['orders'],\n",
        "               pd.Series(0, \n",
        "                         index = np.arange(visits_filtred[visits_filtred['group'] == 'B']\n",
        "                                           ['visits']\n",
        "                                           .sum() \n",
        "                                           -\n",
        "                                           len(ordersByUsers_B['orders'])),\n",
        "                         name = 'orders')],\n",
        "              axis=0)\n",
        ")\n",
        "sampleB.head()"
      ]
    },
    {
      "cell_type": "code",
      "execution_count": 43,
      "metadata": {
        "colab": {
          "base_uri": "https://localhost:8080/"
        },
        "id": "v6gLNp87f8IK",
        "outputId": "0a10727f-068e-4b72-925f-59f23fa3423d"
      },
      "outputs": [
        {
          "output_type": "stream",
          "name": "stdout",
          "text": [
            "p-value:  0.18190470113728652\n",
            "No se pudo rechazar la hipótesis nula: no podemos sacar conclusiones sobre la diferencia\n"
          ]
        }
      ],
      "source": [
        "alpha = 0.05\n",
        "results = st.mannwhitneyu(sampleA, sampleB)\n",
        "\n",
        "print('p-value: ', results.pvalue)\n",
        "\n",
        "if (results.pvalue < alpha):\n",
        "    print(\"Hipótesis nula rechazada: la diferencia es estadísticamente significativa\")\n",
        "else:\n",
        "    print(\"No se pudo rechazar la hipótesis nula: no podemos sacar conclusiones sobre la diferencia\")"
      ]
    },
    {
      "cell_type": "code",
      "execution_count": 44,
      "metadata": {
        "colab": {
          "base_uri": "https://localhost:8080/"
        },
        "id": "d7RG4SqqnJu7",
        "outputId": "55f4f77a-5492-4aa7-e836-d5a2704dadba"
      },
      "outputs": [
        {
          "output_type": "stream",
          "name": "stdout",
          "text": [
            "La diferencia de tamaño de pedido entre grupo B y grupo A es 7.4% con los datos en bruto\n"
          ]
        }
      ],
      "source": [
        "print(\"La diferencia de tamaño de pedido entre grupo B y grupo A es {0:.1f}% con los datos en bruto\"\n",
        "      .format((sampleB.mean()/sampleA.mean()-1)*100))"
      ]
    },
    {
      "cell_type": "markdown",
      "metadata": {
        "id": "zQUyZkIn9rCv"
      },
      "source": [
        "### **10. Significancia estadística de la diferencia en el tamaño promedio de pedido entre los grupos utilizando los datos en bruto**\n"
      ]
    },
    {
      "cell_type": "markdown",
      "metadata": {
        "id": "5ZyRPGYDnJu7"
      },
      "source": [
        "Mann-Whitney una vez más, vamos a comparar los datos brutos del grupo A y el grupo B para determinar si hay diferencias en los tamaños de pedido, igualmente utilizaremos el valor de alpha en 0.05.\n",
        "\n",
        "* Hipótesis nula: No hay diferencia en los tamaños de pedido entre los grupos con los datos en bruto.\n",
        "* Hipótesis alternativa: Sí hay diferencia en los tamaños de pedido entre los grupos con los datos en bruto."
      ]
    },
    {
      "cell_type": "code",
      "execution_count": 45,
      "metadata": {
        "colab": {
          "base_uri": "https://localhost:8080/"
        },
        "id": "pyipc7_Z9w-g",
        "outputId": "04fd9ac6-8853-4817-db84-9b0daf1933b0"
      },
      "outputs": [
        {
          "output_type": "stream",
          "name": "stdout",
          "text": [
            "p-value:  0.8622329690015668\n",
            "No se pudo rechazar la hipótesis nula: no podemos sacar conclusiones sobre la diferencia\n"
          ]
        }
      ],
      "source": [
        "revenue_A = orders_filtred[orders_filtred['group'] == 'A']['revenue']\n",
        "revenue_B = orders_filtred[orders_filtred['group'] == 'B']['revenue']\n",
        "\n",
        "alpha = 0.05\n",
        "results = st.mannwhitneyu(revenue_A, revenue_B)\n",
        "\n",
        "print('p-value: ', results.pvalue)\n",
        "\n",
        "if (results.pvalue < alpha):\n",
        "    print(\"Hipótesis nula rechazada: la diferencia es estadísticamente significativa\")\n",
        "else:\n",
        "    print(\"No se pudo rechazar la hipótesis nula: no podemos sacar conclusiones sobre la diferencia\")"
      ]
    },
    {
      "cell_type": "code",
      "execution_count": 46,
      "metadata": {
        "colab": {
          "base_uri": "https://localhost:8080/"
        },
        "id": "xvoWpo7UnJu8",
        "outputId": "22fd2ddc-c79f-4c94-977f-cb4e74c73ccd"
      },
      "outputs": [
        {
          "output_type": "stream",
          "name": "stdout",
          "text": [
            "La diferencia de conversión entre grupo B y grupo A es 27.8% con los datos en bruto\n"
          ]
        }
      ],
      "source": [
        "print(\"La diferencia de conversión entre grupo B y grupo A es {0:.1f}% con los datos en bruto\"\n",
        "      .format((revenue_B.mean()/revenue_A.mean()-1)*100))"
      ]
    },
    {
      "cell_type": "markdown",
      "metadata": {
        "id": "XBBEYQET9xgZ"
      },
      "source": [
        "### **11. Significancia estadística de la diferencia en la conversión entre los grupos utilizando los datos filtrados**"
      ]
    },
    {
      "cell_type": "markdown",
      "metadata": {
        "id": "flZd85VgnJu8"
      },
      "source": [
        "A diferencia de la prueba anterior, vamos a realizar una prueba de Mann-Whitney también pero vamos a comparar los datos después de haberlos filtrado, tanto para el grupo A y B para determinar si hay diferencias de conversión. Utilizaremos el valor de alpha en 0.05 también.\n",
        "\n",
        "* Hipótesis nula: No hay diferencia de conversión entre los grupos después de filtrar los datos.\n",
        "* Hipótesis alternativa: Sí hay diferencia de conversión entre los grupos después de filtrar los datos."
      ]
    },
    {
      "cell_type": "code",
      "execution_count": 47,
      "metadata": {
        "id": "es6xlS9EhtCr"
      },
      "outputs": [],
      "source": [
        "ordersByUsers_A = ordersByUsers_A.reset_index()\n",
        "ordersByUsers_B = ordersByUsers_B.reset_index()\n",
        "\n",
        "usersWithManyOrders = pd.concat(\n",
        "    [ordersByUsers_A[ordersByUsers_A['orders'] > 1]['visitorId'],\n",
        "     ordersByUsers_B[ordersByUsers_B['orders'] > 1]['visitorId']],\n",
        "     axis = 0)\n",
        "\n",
        "usersWithExpensiveOrders = orders_filtred[orders_filtred['revenue'] > 414.3]['visitorId']\n",
        "abnormalUsers = pd.concat([usersWithManyOrders, usersWithExpensiveOrders], axis = 0).drop_duplicates()"
      ]
    },
    {
      "cell_type": "code",
      "execution_count": 48,
      "metadata": {
        "id": "15dPPFdU92b7"
      },
      "outputs": [],
      "source": [
        "sampleA_filtered = ( \n",
        "    pd.concat(\n",
        "        [ordersByUsers_A[np.logical_not(ordersByUsers_A['visitorId'].\n",
        "                                        isin(abnormalUsers))]['orders'],\n",
        "         pd.Series(0, \n",
        "                   index = np.arange(visits_filtred[visits_filtred['group']=='A']\n",
        "                                     ['visits'].sum() \n",
        "                                     - \n",
        "                                     len(ordersByUsers_A['orders'])),\n",
        "                   name='orders')],\n",
        "        axis=0)\n",
        ")\n",
        "sampleB_filtered = ( \n",
        "    pd.concat(\n",
        "        [ordersByUsers_B[np.logical_not(ordersByUsers_B['visitorId'].\n",
        "                                        isin(abnormalUsers))]['orders'],\n",
        "         pd.Series(0, \n",
        "                   index = np.arange(visits_filtred[visits_filtred['group']=='B']\n",
        "                                     ['visits'].sum() \n",
        "                                     - \n",
        "                                     len(ordersByUsers_B['orders'])),\n",
        "                   name='orders')],\n",
        "        axis=0)\n",
        ")"
      ]
    },
    {
      "cell_type": "code",
      "execution_count": 49,
      "metadata": {
        "colab": {
          "base_uri": "https://localhost:8080/"
        },
        "id": "cCFpevZzhcSg",
        "outputId": "374d8908-3300-4673-e6b5-e5ca696326c7"
      },
      "outputs": [
        {
          "output_type": "stream",
          "name": "stdout",
          "text": [
            "p-value:  0.2087591984429097\n",
            "No se pudo rechazar la hipótesis nula: no podemos sacar conclusiones sobre la diferencia\n"
          ]
        }
      ],
      "source": [
        "alpha = 0.05\n",
        "results = st.mannwhitneyu(sampleA_filtered, sampleB_filtered)\n",
        "\n",
        "print('p-value: ', results.pvalue)\n",
        "\n",
        "if (results.pvalue < alpha):\n",
        "    print(\"Hipótesis nula rechazada: la diferencia es estadísticamente significativa\")\n",
        "else:\n",
        "    print(\"No se pudo rechazar la hipótesis nula: no podemos sacar conclusiones sobre la diferencia\")"
      ]
    },
    {
      "cell_type": "code",
      "execution_count": 50,
      "metadata": {
        "colab": {
          "base_uri": "https://localhost:8080/"
        },
        "id": "i62i8c10nJu9",
        "outputId": "3ab0a253-4c6b-405f-b441-711718120285"
      },
      "outputs": [
        {
          "output_type": "stream",
          "name": "stdout",
          "text": [
            "La diferencia de conversión entre grupo B y grupo A es 8.7% con los datos filtrados\n"
          ]
        }
      ],
      "source": [
        "print(\"La diferencia de conversión entre grupo B y grupo A es {0:.1f}% con los datos filtrados\"\n",
        "      .format((sampleB_filtered.mean()/sampleA_filtered.mean()-1)*100))"
      ]
    },
    {
      "cell_type": "markdown",
      "metadata": {
        "id": "6bxcyuTz929J"
      },
      "source": [
        "### **12. Significancia estadística de la diferencia en el tamaño promedio de pedido entre los grupos utilizando los datos filtrados**"
      ]
    },
    {
      "cell_type": "markdown",
      "metadata": {
        "id": "D0ZOA5c9nJu-"
      },
      "source": [
        "En esta sección vamos a evaluar la diferencia en el tamaño promedio de los pedidos para ambos grupos.\n",
        "\n",
        "* Hipótesis nula: No hay diferencia en los tamaños de pedido entre los grupos después de filtrar los datos.\n",
        "* Hipótesis alternativa: Sí hay diferencia en los tamaños de pedido entre los grupos después de filtrar los datos."
      ]
    },
    {
      "cell_type": "code",
      "execution_count": 51,
      "metadata": {
        "id": "muwJFA0A98qq"
      },
      "outputs": [],
      "source": [
        "revenue_A_filtered = (\n",
        "    orders_filtred[(np.logical_not(orders_filtred['visitorId'].\n",
        "                                   isin(abnormalUsers)))                \n",
        "                   & (orders_filtred['group'] == 'A')])['revenue']\n",
        "revenue_B_filtered = (\n",
        "    orders_filtred[(np.logical_not(orders_filtred['visitorId'].\n",
        "                                   isin(abnormalUsers)))                \n",
        "                   & (orders_filtred['group'] == 'B')])['revenue']"
      ]
    },
    {
      "cell_type": "code",
      "execution_count": 52,
      "metadata": {
        "colab": {
          "base_uri": "https://localhost:8080/"
        },
        "id": "ZVDpD59piihW",
        "outputId": "e62808c0-2b96-465b-c4d5-114c913e5562"
      },
      "outputs": [
        {
          "output_type": "stream",
          "name": "stdout",
          "text": [
            "p-value:  0.7711877309994826\n",
            "No se pudo rechazar la hipótesis nula: no podemos sacar conclusiones sobre la diferencia\n"
          ]
        }
      ],
      "source": [
        "alpha = 0.05\n",
        "results = st.mannwhitneyu(revenue_A_filtered, revenue_B_filtered)\n",
        "\n",
        "print('p-value: ', results.pvalue)\n",
        "\n",
        "if (results.pvalue < alpha):\n",
        "    print(\"Hipótesis nula rechazada: la diferencia es estadísticamente significativa\")\n",
        "else:\n",
        "    print(\"No se pudo rechazar la hipótesis nula: no podemos sacar conclusiones sobre la diferencia\")"
      ]
    },
    {
      "cell_type": "code",
      "execution_count": 53,
      "metadata": {
        "colab": {
          "base_uri": "https://localhost:8080/"
        },
        "id": "vTS8QJHbnJu-",
        "outputId": "c77ddaa7-2e60-4411-8bd5-e6e7c4b8b3ee"
      },
      "outputs": [
        {
          "output_type": "stream",
          "name": "stdout",
          "text": [
            "La diferencia de tamaño de pedido entre grupo B y grupo A es -3.3% con los datos filtrados\n"
          ]
        }
      ],
      "source": [
        "print(\"La diferencia de tamaño de pedido entre grupo B y grupo A es {0:.1f}% con los datos filtrados\"\n",
        "      .format((revenue_B_filtered.mean()/revenue_A_filtered.mean()-1)*100))"
      ]
    },
    {
      "cell_type": "markdown",
      "metadata": {
        "id": "lxd7EG1F9_h6"
      },
      "source": [
        "### **13. Decisión basada en los resultados de la prueba**\n",
        "Las decisiones posibles son:\n",
        "1. Para la prueba, considera a uno de los grupos como líder.\n",
        "2. Para la prueba, concluye que no hay diferencia entre los grupos.\n",
        "3. Continúa la prueba."
      ]
    },
    {
      "cell_type": "markdown",
      "metadata": {
        "id": "P1JgOGxpnJu_"
      },
      "source": [
        "Como hemos podido observar en las 4 pruebas distintas que realizamos de Mann-Whitney para determinar si hay alguna diferencia significativa entre los grupos tanto antes de filtrar (datos en bruto) como después de filtrarlos, tanto para la tasa de conversión y los tamaños de pedido, podemos concluir que:\n",
        "\n",
        "1. No hay diferencia significativa en los grupos A y B en la tasa de conversión con los datos en bruto\n",
        "2. No hay diferencia significativa en los grupos A y B en la tasa de conversión con los datos filtrados\n",
        "3. No hay diferencia significativa en los grupos A y B en el tamaño de los pedidos con los datos en bruto\n",
        "4. No hay diferencia significativa en los grupos A y B en el tamaño de los pedidos con los datos filtrados\n",
        "\n",
        "Durante el análisis y el tratamiento de datos, lo principal que hicimos fue haber hecho la distinción de los usuarios que se encontraban tanto en el grupo A como en el grupo B, los eliminamos ya que podrían afectar los resultados finales de la prueba. Al haberlos removido lo que encontramos es que no hay diferencia en los grupos que sea estadísticamente significativa para los resultados que esperamos. La recomendación sería continuar con la prueba y tal vez realizar algunas modificaciones para poder obtener un resultado la próxima vez que sea significativo y poder implementar los cambios necesarios para aumentar tanto la tasa de conversión como el tamaño de los pedidos."
      ]
    }
  ],
  "metadata": {
    "colab": {
      "provenance": [],
      "toc_visible": true
    },
    "kernelspec": {
      "display_name": "Python 3 (ipykernel)",
      "language": "python",
      "name": "python3"
    },
    "language_info": {
      "codemirror_mode": {
        "name": "ipython",
        "version": 3
      },
      "file_extension": ".py",
      "mimetype": "text/x-python",
      "name": "python",
      "nbconvert_exporter": "python",
      "pygments_lexer": "ipython3",
      "version": "3.9.5"
    },
    "toc": {
      "base_numbering": 1,
      "nav_menu": {},
      "number_sections": true,
      "sideBar": true,
      "skip_h1_title": true,
      "title_cell": "Table of Contents",
      "title_sidebar": "Contents",
      "toc_cell": false,
      "toc_position": {},
      "toc_section_display": true,
      "toc_window_display": true
    }
  },
  "nbformat": 4,
  "nbformat_minor": 0
}